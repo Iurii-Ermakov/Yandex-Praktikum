{
 "cells": [
  {
   "cell_type": "markdown",
   "metadata": {
    "toc": true
   },
   "source": [
    "<h1>Содержание<span class=\"tocSkip\"></span></h1>\n",
    "<div class=\"toc\"><ul class=\"toc-item\"><li><span><a href=\"#Подготовка-данных\" data-toc-modified-id=\"Подготовка-данных-1\"><span class=\"toc-item-num\">1&nbsp;&nbsp;</span>Подготовка данных</a></span></li><li><span><a href=\"#Анализ-данных\" data-toc-modified-id=\"Анализ-данных-2\"><span class=\"toc-item-num\">2&nbsp;&nbsp;</span>Анализ данных</a></span></li><li><span><a href=\"#Модель\" data-toc-modified-id=\"Модель-3\"><span class=\"toc-item-num\">3&nbsp;&nbsp;</span>Модель</a></span></li><li><span><a href=\"#Вывод\" data-toc-modified-id=\"Вывод-4\"><span class=\"toc-item-num\">4&nbsp;&nbsp;</span>Вывод</a></span></li><li><span><a href=\"#Чек-лист-готовности-проекта\" data-toc-modified-id=\"Чек-лист-готовности-проекта-5\"><span class=\"toc-item-num\">5&nbsp;&nbsp;</span>Чек-лист готовности проекта</a></span></li></ul></div>"
   ]
  },
  {
   "cell_type": "markdown",
   "metadata": {},
   "source": [
    "# Восстановление золота из руды"
   ]
  },
  {
   "cell_type": "markdown",
   "metadata": {},
   "source": [
    "Подготовьте прототип модели машинного обучения для «Цифры». Компания разрабатывает решения для эффективной работы промышленных предприятий.\n",
    "\n",
    "Модель должна предсказать коэффициент восстановления золота из золотосодержащей руды. Используйте данные с параметрами добычи и очистки. \n",
    "\n",
    "Модель поможет оптимизировать производство, чтобы не запускать предприятие с убыточными характеристиками.\n",
    "\n",
    "Вам нужно:\n",
    "\n",
    "1. Подготовить данные;\n",
    "2. Провести исследовательский анализ данных;\n",
    "3. Построить и обучить модель.\n",
    "\n",
    "Чтобы выполнить проект, обращайтесь к библиотекам *pandas*, *matplotlib* и *sklearn.* Вам поможет их документация."
   ]
  },
  {
   "cell_type": "markdown",
   "metadata": {},
   "source": [
    "## Подготовка данных"
   ]
  },
  {
   "cell_type": "code",
   "execution_count": 225,
   "metadata": {},
   "outputs": [],
   "source": [
    "# загружу библиотеки\n",
    "import matplotlib.pyplot as plt\n",
    "import numpy as np\n",
    "import pandas as pd\n",
    "import warnings\n",
    "from sklearn.model_selection import train_test_split\n",
    "from sklearn.preprocessing import StandardScaler\n",
    "from sklearn.metrics import r2_score\n",
    "from sklearn.metrics import mean_absolute_error\n",
    "from sklearn.preprocessing import PolynomialFeatures\n",
    "from sklearn.linear_model import LinearRegression\n",
    "from sklearn.linear_model import Ridge\n",
    "from sklearn.tree import DecisionTreeRegressor\n",
    "from sklearn.ensemble import ExtraTreesRegressor\n",
    "from sklearn.model_selection import cross_val_score\n",
    "from sklearn.metrics import make_scorer\n",
    "from sklearn.model_selection import GridSearchCV\n",
    "from sklearn.pipeline import Pipeline\n",
    "warnings.filterwarnings('ignore')"
   ]
  },
  {
   "cell_type": "markdown",
   "metadata": {},
   "source": [
    "Подгружу датасеты.\n",
    "Известно, что данные находятся в трёх файлах:\n",
    "- gold_recovery_train_new.csv — обучающая выборка;\n",
    "- gold_recovery_test_new.csv — тестовая выборка;\n",
    "- gold_recovery_full_new.csv — исходные данные."
   ]
  },
  {
   "cell_type": "code",
   "execution_count": 226,
   "metadata": {},
   "outputs": [
    {
     "name": "stdout",
     "output_type": "stream",
     "text": [
      "<class 'pandas.core.frame.DataFrame'>\n",
      "RangeIndex: 16860 entries, 0 to 16859\n",
      "Data columns (total 87 columns):\n",
      " #   Column                                              Non-Null Count  Dtype  \n",
      "---  ------                                              --------------  -----  \n",
      " 0   date                                                16860 non-null  object \n",
      " 1   final.output.concentrate_ag                         16788 non-null  float64\n",
      " 2   final.output.concentrate_pb                         16788 non-null  float64\n",
      " 3   final.output.concentrate_sol                        16490 non-null  float64\n",
      " 4   final.output.concentrate_au                         16789 non-null  float64\n",
      " 5   final.output.recovery                               15339 non-null  float64\n",
      " 6   final.output.tail_ag                                16794 non-null  float64\n",
      " 7   final.output.tail_pb                                16677 non-null  float64\n",
      " 8   final.output.tail_sol                               16715 non-null  float64\n",
      " 9   final.output.tail_au                                16794 non-null  float64\n",
      " 10  primary_cleaner.input.sulfate                       15553 non-null  float64\n",
      " 11  primary_cleaner.input.depressant                    15598 non-null  float64\n",
      " 12  primary_cleaner.input.feed_size                     16860 non-null  float64\n",
      " 13  primary_cleaner.input.xanthate                      15875 non-null  float64\n",
      " 14  primary_cleaner.output.concentrate_ag               16778 non-null  float64\n",
      " 15  primary_cleaner.output.concentrate_pb               16502 non-null  float64\n",
      " 16  primary_cleaner.output.concentrate_sol              16224 non-null  float64\n",
      " 17  primary_cleaner.output.concentrate_au               16778 non-null  float64\n",
      " 18  primary_cleaner.output.tail_ag                      16777 non-null  float64\n",
      " 19  primary_cleaner.output.tail_pb                      16761 non-null  float64\n",
      " 20  primary_cleaner.output.tail_sol                     16579 non-null  float64\n",
      " 21  primary_cleaner.output.tail_au                      16777 non-null  float64\n",
      " 22  primary_cleaner.state.floatbank8_a_air              16820 non-null  float64\n",
      " 23  primary_cleaner.state.floatbank8_a_level            16827 non-null  float64\n",
      " 24  primary_cleaner.state.floatbank8_b_air              16820 non-null  float64\n",
      " 25  primary_cleaner.state.floatbank8_b_level            16833 non-null  float64\n",
      " 26  primary_cleaner.state.floatbank8_c_air              16822 non-null  float64\n",
      " 27  primary_cleaner.state.floatbank8_c_level            16833 non-null  float64\n",
      " 28  primary_cleaner.state.floatbank8_d_air              16821 non-null  float64\n",
      " 29  primary_cleaner.state.floatbank8_d_level            16833 non-null  float64\n",
      " 30  rougher.calculation.sulfate_to_au_concentrate       16833 non-null  float64\n",
      " 31  rougher.calculation.floatbank10_sulfate_to_au_feed  16833 non-null  float64\n",
      " 32  rougher.calculation.floatbank11_sulfate_to_au_feed  16833 non-null  float64\n",
      " 33  rougher.calculation.au_pb_ratio                     15618 non-null  float64\n",
      " 34  rougher.input.feed_ag                               16778 non-null  float64\n",
      " 35  rougher.input.feed_pb                               16632 non-null  float64\n",
      " 36  rougher.input.feed_rate                             16347 non-null  float64\n",
      " 37  rougher.input.feed_size                             16443 non-null  float64\n",
      " 38  rougher.input.feed_sol                              16568 non-null  float64\n",
      " 39  rougher.input.feed_au                               16777 non-null  float64\n",
      " 40  rougher.input.floatbank10_sulfate                   15816 non-null  float64\n",
      " 41  rougher.input.floatbank10_xanthate                  16514 non-null  float64\n",
      " 42  rougher.input.floatbank11_sulfate                   16237 non-null  float64\n",
      " 43  rougher.input.floatbank11_xanthate                  14956 non-null  float64\n",
      " 44  rougher.output.concentrate_ag                       16778 non-null  float64\n",
      " 45  rougher.output.concentrate_pb                       16778 non-null  float64\n",
      " 46  rougher.output.concentrate_sol                      16698 non-null  float64\n",
      " 47  rougher.output.concentrate_au                       16778 non-null  float64\n",
      " 48  rougher.output.recovery                             14287 non-null  float64\n",
      " 49  rougher.output.tail_ag                              14610 non-null  float64\n",
      " 50  rougher.output.tail_pb                              16778 non-null  float64\n",
      " 51  rougher.output.tail_sol                             14611 non-null  float64\n",
      " 52  rougher.output.tail_au                              14611 non-null  float64\n",
      " 53  rougher.state.floatbank10_a_air                     16807 non-null  float64\n",
      " 54  rougher.state.floatbank10_a_level                   16807 non-null  float64\n",
      " 55  rougher.state.floatbank10_b_air                     16807 non-null  float64\n",
      " 56  rougher.state.floatbank10_b_level                   16807 non-null  float64\n",
      " 57  rougher.state.floatbank10_c_air                     16807 non-null  float64\n",
      " 58  rougher.state.floatbank10_c_level                   16814 non-null  float64\n",
      " 59  rougher.state.floatbank10_d_air                     16802 non-null  float64\n",
      " 60  rougher.state.floatbank10_d_level                   16809 non-null  float64\n",
      " 61  rougher.state.floatbank10_e_air                     16257 non-null  float64\n",
      " 62  rougher.state.floatbank10_e_level                   16809 non-null  float64\n",
      " 63  rougher.state.floatbank10_f_air                     16802 non-null  float64\n",
      " 64  rougher.state.floatbank10_f_level                   16802 non-null  float64\n",
      " 65  secondary_cleaner.output.tail_ag                    16776 non-null  float64\n",
      " 66  secondary_cleaner.output.tail_pb                    16764 non-null  float64\n",
      " 67  secondary_cleaner.output.tail_sol                   14874 non-null  float64\n",
      " 68  secondary_cleaner.output.tail_au                    16778 non-null  float64\n",
      " 69  secondary_cleaner.state.floatbank2_a_air            16497 non-null  float64\n",
      " 70  secondary_cleaner.state.floatbank2_a_level          16751 non-null  float64\n",
      " 71  secondary_cleaner.state.floatbank2_b_air            16705 non-null  float64\n",
      " 72  secondary_cleaner.state.floatbank2_b_level          16748 non-null  float64\n",
      " 73  secondary_cleaner.state.floatbank3_a_air            16763 non-null  float64\n",
      " 74  secondary_cleaner.state.floatbank3_a_level          16747 non-null  float64\n",
      " 75  secondary_cleaner.state.floatbank3_b_air            16752 non-null  float64\n",
      " 76  secondary_cleaner.state.floatbank3_b_level          16750 non-null  float64\n",
      " 77  secondary_cleaner.state.floatbank4_a_air            16731 non-null  float64\n",
      " 78  secondary_cleaner.state.floatbank4_a_level          16747 non-null  float64\n",
      " 79  secondary_cleaner.state.floatbank4_b_air            16768 non-null  float64\n",
      " 80  secondary_cleaner.state.floatbank4_b_level          16767 non-null  float64\n",
      " 81  secondary_cleaner.state.floatbank5_a_air            16775 non-null  float64\n",
      " 82  secondary_cleaner.state.floatbank5_a_level          16775 non-null  float64\n",
      " 83  secondary_cleaner.state.floatbank5_b_air            16775 non-null  float64\n",
      " 84  secondary_cleaner.state.floatbank5_b_level          16776 non-null  float64\n",
      " 85  secondary_cleaner.state.floatbank6_a_air            16757 non-null  float64\n",
      " 86  secondary_cleaner.state.floatbank6_a_level          16775 non-null  float64\n",
      "dtypes: float64(86), object(1)\n",
      "memory usage: 11.2+ MB\n"
     ]
    }
   ],
   "source": [
    "gold_recovery_train = pd.read_csv('https://code.s3.yandex.net/datasets/gold_recovery_train.csv')\n",
    "gold_recovery_train.info()"
   ]
  },
  {
   "cell_type": "code",
   "execution_count": 227,
   "metadata": {},
   "outputs": [
    {
     "name": "stdout",
     "output_type": "stream",
     "text": [
      "<class 'pandas.core.frame.DataFrame'>\n",
      "RangeIndex: 5856 entries, 0 to 5855\n",
      "Data columns (total 53 columns):\n",
      " #   Column                                      Non-Null Count  Dtype  \n",
      "---  ------                                      --------------  -----  \n",
      " 0   date                                        5856 non-null   object \n",
      " 1   primary_cleaner.input.sulfate               5554 non-null   float64\n",
      " 2   primary_cleaner.input.depressant            5572 non-null   float64\n",
      " 3   primary_cleaner.input.feed_size             5856 non-null   float64\n",
      " 4   primary_cleaner.input.xanthate              5690 non-null   float64\n",
      " 5   primary_cleaner.state.floatbank8_a_air      5840 non-null   float64\n",
      " 6   primary_cleaner.state.floatbank8_a_level    5840 non-null   float64\n",
      " 7   primary_cleaner.state.floatbank8_b_air      5840 non-null   float64\n",
      " 8   primary_cleaner.state.floatbank8_b_level    5840 non-null   float64\n",
      " 9   primary_cleaner.state.floatbank8_c_air      5840 non-null   float64\n",
      " 10  primary_cleaner.state.floatbank8_c_level    5840 non-null   float64\n",
      " 11  primary_cleaner.state.floatbank8_d_air      5840 non-null   float64\n",
      " 12  primary_cleaner.state.floatbank8_d_level    5840 non-null   float64\n",
      " 13  rougher.input.feed_ag                       5840 non-null   float64\n",
      " 14  rougher.input.feed_pb                       5840 non-null   float64\n",
      " 15  rougher.input.feed_rate                     5816 non-null   float64\n",
      " 16  rougher.input.feed_size                     5834 non-null   float64\n",
      " 17  rougher.input.feed_sol                      5789 non-null   float64\n",
      " 18  rougher.input.feed_au                       5840 non-null   float64\n",
      " 19  rougher.input.floatbank10_sulfate           5599 non-null   float64\n",
      " 20  rougher.input.floatbank10_xanthate          5733 non-null   float64\n",
      " 21  rougher.input.floatbank11_sulfate           5801 non-null   float64\n",
      " 22  rougher.input.floatbank11_xanthate          5503 non-null   float64\n",
      " 23  rougher.state.floatbank10_a_air             5839 non-null   float64\n",
      " 24  rougher.state.floatbank10_a_level           5840 non-null   float64\n",
      " 25  rougher.state.floatbank10_b_air             5839 non-null   float64\n",
      " 26  rougher.state.floatbank10_b_level           5840 non-null   float64\n",
      " 27  rougher.state.floatbank10_c_air             5839 non-null   float64\n",
      " 28  rougher.state.floatbank10_c_level           5840 non-null   float64\n",
      " 29  rougher.state.floatbank10_d_air             5839 non-null   float64\n",
      " 30  rougher.state.floatbank10_d_level           5840 non-null   float64\n",
      " 31  rougher.state.floatbank10_e_air             5839 non-null   float64\n",
      " 32  rougher.state.floatbank10_e_level           5840 non-null   float64\n",
      " 33  rougher.state.floatbank10_f_air             5839 non-null   float64\n",
      " 34  rougher.state.floatbank10_f_level           5840 non-null   float64\n",
      " 35  secondary_cleaner.state.floatbank2_a_air    5836 non-null   float64\n",
      " 36  secondary_cleaner.state.floatbank2_a_level  5840 non-null   float64\n",
      " 37  secondary_cleaner.state.floatbank2_b_air    5833 non-null   float64\n",
      " 38  secondary_cleaner.state.floatbank2_b_level  5840 non-null   float64\n",
      " 39  secondary_cleaner.state.floatbank3_a_air    5822 non-null   float64\n",
      " 40  secondary_cleaner.state.floatbank3_a_level  5840 non-null   float64\n",
      " 41  secondary_cleaner.state.floatbank3_b_air    5840 non-null   float64\n",
      " 42  secondary_cleaner.state.floatbank3_b_level  5840 non-null   float64\n",
      " 43  secondary_cleaner.state.floatbank4_a_air    5840 non-null   float64\n",
      " 44  secondary_cleaner.state.floatbank4_a_level  5840 non-null   float64\n",
      " 45  secondary_cleaner.state.floatbank4_b_air    5840 non-null   float64\n",
      " 46  secondary_cleaner.state.floatbank4_b_level  5840 non-null   float64\n",
      " 47  secondary_cleaner.state.floatbank5_a_air    5840 non-null   float64\n",
      " 48  secondary_cleaner.state.floatbank5_a_level  5840 non-null   float64\n",
      " 49  secondary_cleaner.state.floatbank5_b_air    5840 non-null   float64\n",
      " 50  secondary_cleaner.state.floatbank5_b_level  5840 non-null   float64\n",
      " 51  secondary_cleaner.state.floatbank6_a_air    5840 non-null   float64\n",
      " 52  secondary_cleaner.state.floatbank6_a_level  5840 non-null   float64\n",
      "dtypes: float64(52), object(1)\n",
      "memory usage: 2.4+ MB\n"
     ]
    }
   ],
   "source": [
    "gold_recovery_test = pd.read_csv('https://code.s3.yandex.net/datasets/gold_recovery_test.csv')\n",
    "gold_recovery_test.info()"
   ]
  },
  {
   "cell_type": "code",
   "execution_count": 228,
   "metadata": {
    "scrolled": true
   },
   "outputs": [
    {
     "name": "stdout",
     "output_type": "stream",
     "text": [
      "<class 'pandas.core.frame.DataFrame'>\n",
      "RangeIndex: 22716 entries, 0 to 22715\n",
      "Data columns (total 87 columns):\n",
      " #   Column                                              Non-Null Count  Dtype  \n",
      "---  ------                                              --------------  -----  \n",
      " 0   date                                                22716 non-null  object \n",
      " 1   final.output.concentrate_ag                         22627 non-null  float64\n",
      " 2   final.output.concentrate_pb                         22629 non-null  float64\n",
      " 3   final.output.concentrate_sol                        22331 non-null  float64\n",
      " 4   final.output.concentrate_au                         22630 non-null  float64\n",
      " 5   final.output.recovery                               20753 non-null  float64\n",
      " 6   final.output.tail_ag                                22633 non-null  float64\n",
      " 7   final.output.tail_pb                                22516 non-null  float64\n",
      " 8   final.output.tail_sol                               22445 non-null  float64\n",
      " 9   final.output.tail_au                                22635 non-null  float64\n",
      " 10  primary_cleaner.input.sulfate                       21107 non-null  float64\n",
      " 11  primary_cleaner.input.depressant                    21170 non-null  float64\n",
      " 12  primary_cleaner.input.feed_size                     22716 non-null  float64\n",
      " 13  primary_cleaner.input.xanthate                      21565 non-null  float64\n",
      " 14  primary_cleaner.output.concentrate_ag               22618 non-null  float64\n",
      " 15  primary_cleaner.output.concentrate_pb               22268 non-null  float64\n",
      " 16  primary_cleaner.output.concentrate_sol              21918 non-null  float64\n",
      " 17  primary_cleaner.output.concentrate_au               22618 non-null  float64\n",
      " 18  primary_cleaner.output.tail_ag                      22614 non-null  float64\n",
      " 19  primary_cleaner.output.tail_pb                      22594 non-null  float64\n",
      " 20  primary_cleaner.output.tail_sol                     22365 non-null  float64\n",
      " 21  primary_cleaner.output.tail_au                      22617 non-null  float64\n",
      " 22  primary_cleaner.state.floatbank8_a_air              22660 non-null  float64\n",
      " 23  primary_cleaner.state.floatbank8_a_level            22667 non-null  float64\n",
      " 24  primary_cleaner.state.floatbank8_b_air              22660 non-null  float64\n",
      " 25  primary_cleaner.state.floatbank8_b_level            22673 non-null  float64\n",
      " 26  primary_cleaner.state.floatbank8_c_air              22662 non-null  float64\n",
      " 27  primary_cleaner.state.floatbank8_c_level            22673 non-null  float64\n",
      " 28  primary_cleaner.state.floatbank8_d_air              22661 non-null  float64\n",
      " 29  primary_cleaner.state.floatbank8_d_level            22673 non-null  float64\n",
      " 30  rougher.calculation.sulfate_to_au_concentrate       22672 non-null  float64\n",
      " 31  rougher.calculation.floatbank10_sulfate_to_au_feed  22672 non-null  float64\n",
      " 32  rougher.calculation.floatbank11_sulfate_to_au_feed  22672 non-null  float64\n",
      " 33  rougher.calculation.au_pb_ratio                     21089 non-null  float64\n",
      " 34  rougher.input.feed_ag                               22618 non-null  float64\n",
      " 35  rougher.input.feed_pb                               22472 non-null  float64\n",
      " 36  rougher.input.feed_rate                             22163 non-null  float64\n",
      " 37  rougher.input.feed_size                             22277 non-null  float64\n",
      " 38  rougher.input.feed_sol                              22357 non-null  float64\n",
      " 39  rougher.input.feed_au                               22617 non-null  float64\n",
      " 40  rougher.input.floatbank10_sulfate                   21415 non-null  float64\n",
      " 41  rougher.input.floatbank10_xanthate                  22247 non-null  float64\n",
      " 42  rougher.input.floatbank11_sulfate                   22038 non-null  float64\n",
      " 43  rougher.input.floatbank11_xanthate                  20459 non-null  float64\n",
      " 44  rougher.output.concentrate_ag                       22618 non-null  float64\n",
      " 45  rougher.output.concentrate_pb                       22618 non-null  float64\n",
      " 46  rougher.output.concentrate_sol                      22526 non-null  float64\n",
      " 47  rougher.output.concentrate_au                       22618 non-null  float64\n",
      " 48  rougher.output.recovery                             19597 non-null  float64\n",
      " 49  rougher.output.tail_ag                              19979 non-null  float64\n",
      " 50  rougher.output.tail_pb                              22618 non-null  float64\n",
      " 51  rougher.output.tail_sol                             19980 non-null  float64\n",
      " 52  rougher.output.tail_au                              19980 non-null  float64\n",
      " 53  rougher.state.floatbank10_a_air                     22646 non-null  float64\n",
      " 54  rougher.state.floatbank10_a_level                   22647 non-null  float64\n",
      " 55  rougher.state.floatbank10_b_air                     22646 non-null  float64\n",
      " 56  rougher.state.floatbank10_b_level                   22647 non-null  float64\n",
      " 57  rougher.state.floatbank10_c_air                     22646 non-null  float64\n",
      " 58  rougher.state.floatbank10_c_level                   22654 non-null  float64\n",
      " 59  rougher.state.floatbank10_d_air                     22641 non-null  float64\n",
      " 60  rougher.state.floatbank10_d_level                   22649 non-null  float64\n",
      " 61  rougher.state.floatbank10_e_air                     22096 non-null  float64\n",
      " 62  rougher.state.floatbank10_e_level                   22649 non-null  float64\n",
      " 63  rougher.state.floatbank10_f_air                     22641 non-null  float64\n",
      " 64  rougher.state.floatbank10_f_level                   22642 non-null  float64\n",
      " 65  secondary_cleaner.output.tail_ag                    22616 non-null  float64\n",
      " 66  secondary_cleaner.output.tail_pb                    22600 non-null  float64\n",
      " 67  secondary_cleaner.output.tail_sol                   20501 non-null  float64\n",
      " 68  secondary_cleaner.output.tail_au                    22618 non-null  float64\n",
      " 69  secondary_cleaner.state.floatbank2_a_air            22333 non-null  float64\n",
      " 70  secondary_cleaner.state.floatbank2_a_level          22591 non-null  float64\n",
      " 71  secondary_cleaner.state.floatbank2_b_air            22538 non-null  float64\n",
      " 72  secondary_cleaner.state.floatbank2_b_level          22588 non-null  float64\n",
      " 73  secondary_cleaner.state.floatbank3_a_air            22585 non-null  float64\n",
      " 74  secondary_cleaner.state.floatbank3_a_level          22587 non-null  float64\n",
      " 75  secondary_cleaner.state.floatbank3_b_air            22592 non-null  float64\n",
      " 76  secondary_cleaner.state.floatbank3_b_level          22590 non-null  float64\n",
      " 77  secondary_cleaner.state.floatbank4_a_air            22571 non-null  float64\n",
      " 78  secondary_cleaner.state.floatbank4_a_level          22587 non-null  float64\n",
      " 79  secondary_cleaner.state.floatbank4_b_air            22608 non-null  float64\n",
      " 80  secondary_cleaner.state.floatbank4_b_level          22607 non-null  float64\n",
      " 81  secondary_cleaner.state.floatbank5_a_air            22615 non-null  float64\n",
      " 82  secondary_cleaner.state.floatbank5_a_level          22615 non-null  float64\n",
      " 83  secondary_cleaner.state.floatbank5_b_air            22615 non-null  float64\n",
      " 84  secondary_cleaner.state.floatbank5_b_level          22616 non-null  float64\n",
      " 85  secondary_cleaner.state.floatbank6_a_air            22597 non-null  float64\n",
      " 86  secondary_cleaner.state.floatbank6_a_level          22615 non-null  float64\n",
      "dtypes: float64(86), object(1)\n",
      "memory usage: 15.1+ MB\n"
     ]
    }
   ],
   "source": [
    "gold_recovery_full = pd.read_csv('https://code.s3.yandex.net/datasets/gold_recovery_full.csv')\n",
    "gold_recovery_full.info()"
   ]
  },
  {
   "cell_type": "markdown",
   "metadata": {},
   "source": [
    "Изучу уникальные значения и количество пропусков в процентах."
   ]
  },
  {
   "cell_type": "code",
   "execution_count": 229,
   "metadata": {},
   "outputs": [],
   "source": [
    "# функция для вызова на наличие пропусков и уникальных значений\n",
    "def show_rows(data_frame):\n",
    "    for column in data_frame.columns:\n",
    "        print('Уникальные значения столбца', column)\n",
    "        print(data_frame[column].unique())\n",
    "    print('Количество пропусков в каждом столбце')    \n",
    "    print(data_frame.isna().sum())"
   ]
  },
  {
   "cell_type": "code",
   "execution_count": 230,
   "metadata": {},
   "outputs": [
    {
     "name": "stdout",
     "output_type": "stream",
     "text": [
      "Уникальные значения столбца date\n",
      "['2016-01-15 00:00:00' '2016-01-15 01:00:00' '2016-01-15 02:00:00' ...\n",
      " '2018-08-18 08:59:59' '2018-08-18 09:59:59' '2018-08-18 10:59:59']\n",
      "Уникальные значения столбца final.output.concentrate_ag\n",
      "[6.05540276 6.02936857 6.05592607 ... 3.10999751 3.36724104 3.59837494]\n",
      "Уникальные значения столбца final.output.concentrate_pb\n",
      "[ 9.88964844  9.9689441  10.21399457 ... 11.43436599 11.62558728\n",
      " 11.7378318 ]\n",
      "Уникальные значения столбца final.output.concentrate_sol\n",
      "[5.50732422 5.25778148 5.38375877 ... 6.88601311 6.79943261 6.71750947]\n",
      "Уникальные значения столбца final.output.concentrate_au\n",
      "[42.19202042 42.70162925 42.65750061 ... 46.79569097 46.40818768\n",
      " 46.29943814]\n",
      "Уникальные значения столбца final.output.recovery\n",
      "[70.54121591 69.26619763 68.11644507 ... 67.00218885 65.52324622\n",
      " 70.28145415]\n",
      "Уникальные значения столбца final.output.tail_ag\n",
      "[10.41196156 10.46267568 10.50704594 ...  8.52960609  8.77717133\n",
      "  8.40668973]\n",
      "Уникальные значения столбца final.output.tail_pb\n",
      "[0.89544678 0.92745213 0.95371573 ... 2.91141836 2.81921445 2.51751799]\n",
      "Уникальные значения столбца final.output.tail_sol\n",
      "[16.90429688 16.6345141  16.20884917 ... 11.11514674 10.46384748\n",
      " 10.65219334]\n",
      "Уникальные значения столбца final.output.tail_au\n",
      "[2.14314938 2.22493035 2.25788912 ... 1.59661581 1.60287899 1.38943434]\n",
      "Уникальные значения столбца primary_cleaner.input.sulfate\n",
      "[127.09200287 125.62923179 123.81980789 ... 105.66611757  98.8805383\n",
      "  95.24842664]\n",
      "Уникальные значения столбца primary_cleaner.input.depressant\n",
      "[10.12829494 10.29625065 11.31627982 ...  7.95511136  7.98416354\n",
      "  8.07895679]\n",
      "Уникальные значения столбца primary_cleaner.input.feed_size\n",
      "[7.25       7.30316665 7.53999996 ... 6.06666666 6.23999951 6.2833328 ]\n",
      "Уникальные значения столбца primary_cleaner.input.xanthate\n",
      "[0.98875904 1.00266309 0.99126547 ... 1.31592569 1.24196858 1.28304487]\n",
      "Уникальные значения столбца primary_cleaner.output.concentrate_ag\n",
      "[8.54755116 8.55874319 8.60350485 ... 7.12889611 7.49044444 7.53758431]\n",
      "Уникальные значения столбца primary_cleaner.output.concentrate_pb\n",
      "[10.38964844 10.49706908 10.35449431 ... 12.633558   12.0123779\n",
      " 11.6502851 ]\n",
      "Уникальные значения столбца primary_cleaner.output.concentrate_sol\n",
      "[19.52929688 19.36914674 19.16757892 ...  7.9418999   6.94297165\n",
      "  6.20355328]\n",
      "Уникальные значения столбца primary_cleaner.output.concentrate_au\n",
      "[34.17442703 34.11852552 33.96946437 ... 31.85674228 30.77089201\n",
      " 30.35661802]\n",
      "Уникальные значения столбца primary_cleaner.output.tail_ag\n",
      "[14.9365263  16.25051119 16.49182301 ... 22.2981488  22.71465646\n",
      " 22.73592672]\n",
      "Уникальные значения столбца primary_cleaner.output.tail_pb\n",
      "[2.53491211 3.04964612 3.12466381 ... 6.27825044 6.25314507 6.08428733]\n",
      "Уникальные значения столбца primary_cleaner.output.tail_sol\n",
      "[7.47607422 6.73390727 6.47176848 ... 4.45745699 3.55712066 3.02669909]\n",
      "Уникальные значения столбца primary_cleaner.output.tail_au\n",
      "[2.10667944 2.35301686 2.41680033 ... 2.61223104 2.80064849 2.70804646]\n",
      "Уникальные значения столбца primary_cleaner.state.floatbank8_a_air\n",
      "[1549.77575684 1576.16667149 1601.55616303 ... 1649.16676102 1646.54776267\n",
      " 1648.75990646]\n",
      "Уникальные значения столбца primary_cleaner.state.floatbank8_a_level\n",
      "[-498.91213989 -500.90496496 -499.99779065 ... -399.88863085 -398.97708269\n",
      " -399.86205326]\n",
      "Уникальные значения столбца primary_cleaner.state.floatbank8_b_air\n",
      "[1551.4342041  1575.95062568 1600.38668535 ... 1649.19690421 1648.21223972\n",
      " 1650.13539491]\n",
      "Уникальные значения столбца primary_cleaner.state.floatbank8_b_level\n",
      "[-516.40344238 -499.86588946 -500.60776243 ... -399.67757077 -400.38326491\n",
      " -399.95732109]\n",
      "Уникальные значения столбца primary_cleaner.state.floatbank8_c_air\n",
      "[1549.87390137 1575.99418888 1602.00354199 ... 1647.89699888 1648.91738717\n",
      " 1648.83189046]\n",
      "Уникальные значения столбца primary_cleaner.state.floatbank8_c_level\n",
      "[-498.66659546 -499.31510741 -500.87006932 ... -399.98827492 -399.52134386\n",
      " -400.58611561]\n",
      "Уникальные значения столбца primary_cleaner.state.floatbank8_d_air\n",
      "[1554.36743164 1574.47925899 1599.54151472 ... 1649.7727139  1651.4985915\n",
      " 1649.46458174]\n",
      "Уникальные значения столбца primary_cleaner.state.floatbank8_d_level\n",
      "[-493.4281311  -498.9316652  -499.82744411 ... -399.83190155 -399.7453286\n",
      " -400.67330254]\n",
      "Уникальные значения столбца rougher.calculation.sulfate_to_au_concentrate\n",
      "[41885.70703125 42050.86180929 42018.1011843  ... 44585.18133426\n",
      " 44084.73570763 44082.86656477]\n",
      "Уникальные значения столбца rougher.calculation.floatbank10_sulfate_to_au_feed\n",
      "[3481.77905273 3498.3709791  3495.34891012 ... 2510.81354487 2507.57249359\n",
      " 2487.4777621 ]\n",
      "Уникальные значения столбца rougher.calculation.floatbank11_sulfate_to_au_feed\n",
      "[3520.3371582  3489.98185731 3502.35981942 ... 2510.14243297 2507.7233612\n",
      " 2488.62608025]\n",
      "Уникальные значения столбца rougher.calculation.au_pb_ratio\n",
      "[2.83868678 2.85899801 2.9459892  ... 1.12563651 1.11793477 1.12636713]\n",
      "Уникальные значения столбца rougher.input.feed_ag\n",
      "[6.10037804 6.16111348 6.1164549  ... 5.97051525 6.04813022 6.15871773]\n",
      "Уникальные значения столбца rougher.input.feed_pb\n",
      "[2.28491211 2.26603263 2.15962163 ... 4.02000219 3.90253661 3.87572678]\n",
      "Уникальные значения столбца rougher.input.feed_rate\n",
      "[523.54632568 525.2905809  530.02661044 ... 555.68287198 544.73168688\n",
      " 555.82020835]\n",
      "Уникальные значения столбца rougher.input.feed_size\n",
      "[ 55.48659897  57.27866586  57.51064892 ... 122.26268985 123.74242952\n",
      "  94.54435803]\n",
      "Уникальные значения столбца rougher.input.feed_sol\n",
      "[36.80859375 35.75338487 35.97163007 ... 40.0740256  39.71390632\n",
      " 39.13511856]\n",
      "Уникальные значения столбца rougher.input.feed_au\n",
      "[6.48614979 6.47858279 6.36222199 ... 4.52506124 4.36278136 4.36549126]\n",
      "Уникальные значения столбца rougher.input.floatbank10_sulfate\n",
      "[11.98661613 11.97119324 11.92060278 ...  6.58602044  6.21011918\n",
      "  6.14698197]\n",
      "Уникальные значения столбца rougher.input.floatbank10_xanthate\n",
      "[6.00798988 6.00576591 6.19737694 ... 9.29960607 9.29770949 9.30861213]\n",
      "Уникальные значения столбца rougher.input.floatbank11_sulfate\n",
      "[11.83674335 11.99616279 11.9203052  ...  6.58413031  6.20951712\n",
      "  6.16893878]\n",
      "Уникальные значения столбца rougher.input.floatbank11_xanthate\n",
      "[6.00581837 6.01259367 6.20463318 ... 9.30013304 9.29719433 9.30985188]\n",
      "Уникальные значения столбца rougher.output.concentrate_ag\n",
      "[11.50077057 11.61586517 11.6957533  ...  8.52349701 11.65879854\n",
      " 11.95948557]\n",
      "Уникальные значения столбца rougher.output.concentrate_pb\n",
      "[ 7.10107422  7.2788067   7.21683259 ...  8.95513452 10.65537698\n",
      " 10.70214844]\n",
      "Уникальные значения столбца rougher.output.concentrate_sol\n",
      "[28.02929688 28.06706333 27.45403684 ... 22.78646719 29.05274175\n",
      " 29.07823461]\n",
      "Уникальные значения столбца rougher.output.concentrate_au\n",
      "[19.79380798 20.05097514 19.73717002 ... 15.11123105 17.83477207\n",
      " 17.80413414]\n",
      "Уникальные значения столбца rougher.output.recovery\n",
      "[87.10776293 86.84326051 86.84230826 ... 88.89057853 89.858126\n",
      " 89.51495973]\n",
      "Уникальные значения столбца rougher.output.tail_ag\n",
      "[5.00801802 4.95537791 4.84345988 ... 4.05001019 3.90249404 3.92547281]\n",
      "Уникальные значения столбца rougher.output.tail_pb\n",
      "[0.50872803 0.53668947 0.54641563 ... 0.63609521 0.62560948 0.63867696]\n",
      "Уникальные значения столбца rougher.output.tail_sol\n",
      "[19.15429688 18.96523438 18.80853299 ... 18.32308011 19.42374\n",
      " 19.94667303]\n",
      "Уникальные значения столбца rougher.output.tail_au\n",
      "[1.17024398 1.18482746 1.16256189 ... 0.68505927 0.56713038 0.58643898]\n",
      "Уникальные значения столбца rougher.state.floatbank10_a_air\n",
      "[ 999.70690918 1000.28639767  999.71956517 ... 1204.86663888 1201.90417739\n",
      " 1196.23811223]\n",
      "Уникальные значения столбца rougher.state.floatbank10_a_level\n",
      "[-404.06698608 -400.06519557 -400.07402844 ... -299.23567501 -299.90730825\n",
      " -299.86274301]\n",
      "Уникальные значения столбца rougher.state.floatbank10_b_air\n",
      "[1603.01135254 1600.75458659 1599.33732987 ... 1149.94290216 1154.08780412\n",
      " 1147.24824118]\n",
      "Уникальные значения столбца rougher.state.floatbank10_b_level\n",
      "[-434.71502686 -449.95343451 -450.00853022 ... -501.71790333 -500.03657999\n",
      " -500.3631647 ]\n",
      "Уникальные значения столбца rougher.state.floatbank10_c_air\n",
      "[1602.375      1600.47957991 1599.6727973  ... 1049.60439027 1054.00975578\n",
      " 1047.27906544]\n",
      "Уникальные значения столбца rougher.state.floatbank10_c_level\n",
      "[-442.20446777 -449.83064631 -449.95449144 ... -500.54905279 -500.23733476\n",
      " -500.35409056]\n",
      "Уникальные значения столбца rougher.state.floatbank10_d_air\n",
      "[1598.93725586 1600.52758858 1599.84932514 ...  952.70273231  944.13879272\n",
      "  948.75660844]\n",
      "Уникальные значения столбца rougher.state.floatbank10_d_level\n",
      "[-451.29412842 -449.95364917 -449.95418548 ... -502.35229596 -496.866953\n",
      " -498.43941603]\n",
      "Уникальные значения столбца rougher.state.floatbank10_e_air\n",
      "[1404.4720459  1399.2270837  1399.18094498 ...  849.01601744  851.58976668\n",
      "  849.44191754]\n",
      "Уникальные значения столбца rougher.state.floatbank10_e_level\n",
      "[-455.46298218 -450.86984762 -449.93758816 ... -500.5056773  -499.04046576\n",
      " -499.2555029 ]\n",
      "Уникальные значения столбца rougher.state.floatbank10_f_air\n",
      "[1416.35498047 1399.71951394 1400.31668194 ...  850.45563548  851.34560554\n",
      "  850.1122457 ]\n",
      "Уникальные значения столбца rougher.state.floatbank10_f_level\n",
      "[-451.93963623 -450.11900131 -450.52714684 ... -506.89796845 -499.12256076\n",
      " -499.4071117 ]\n",
      "Уникальные значения столбца secondary_cleaner.output.tail_ag\n",
      "[14.50018406 14.26547351 14.11566201 ... 17.13755562 16.96498398\n",
      "  8.96792307]\n",
      "Уникальные значения столбца secondary_cleaner.output.tail_pb\n",
      "[ 4.69482422  4.59254704  4.62477543 ... 12.52731928 12.85695999\n",
      "  7.09398241]\n",
      "Уникальные значения столбца secondary_cleaner.output.tail_sol\n",
      "[8.76464844 9.00149429 8.84289576 ... 0.7037185  0.94262078 0.27486187]\n",
      "Уникальные значения столбца secondary_cleaner.output.tail_au\n",
      "[2.60618496 2.48824831 2.45818675 ... 3.03130078 3.13033332 1.6156866 ]\n",
      "Уникальные значения столбца secondary_cleaner.state.floatbank2_a_air\n",
      "[25.85310936 25.88053867 26.00524491 ... 35.00358616 34.98074164\n",
      " 34.94091896]\n",
      "Уникальные значения столбца secondary_cleaner.state.floatbank2_a_level\n",
      "[-498.52648926 -499.98965641 -499.92961595 ... -501.08379358 -498.1310022\n",
      " -500.15050979]\n",
      "Уникальные значения столбца secondary_cleaner.state.floatbank2_b_air\n",
      "[23.89365959 23.88952979 23.88665666 ... 29.99053346 29.96845329\n",
      " 30.03186698]\n",
      "Уникальные значения столбца secondary_cleaner.state.floatbank2_b_level\n",
      "[-501.40628052 -500.37242843 -499.95192762 ... -611.85589811 -586.01333036\n",
      " -500.32833475]\n",
      "Уникальные значения столбца secondary_cleaner.state.floatbank3_a_air\n",
      "[23.96179771 23.97055025 23.91353473 ... 25.94842861 25.97173699\n",
      " 26.03398999]\n",
      "Уникальные значения столбца secondary_cleaner.state.floatbank3_a_level\n",
      "[-495.26281738 -500.08547327 -499.44234284 ... -500.06726776 -499.60839245\n",
      " -500.14779215]\n",
      "Уникальные значения столбца secondary_cleaner.state.floatbank3_b_air\n",
      "[21.94040871 22.08571374 23.95771654 ... 22.96826762 22.95844822\n",
      " 22.9523062 ]\n",
      "Уникальные значения столбца secondary_cleaner.state.floatbank3_b_level\n",
      "[-499.3409729  -499.44689706 -499.90198202 ... -499.83944174 -499.82130767\n",
      " -500.03767788]\n",
      "Уникальные значения столбца secondary_cleaner.state.floatbank4_a_air\n",
      "[14.01683521 13.99228103 14.01501546 ... 23.01571849 23.02496288\n",
      " 23.0186224 ]\n",
      "Уникальные значения столбца secondary_cleaner.state.floatbank4_a_level\n",
      "[-502.48800659 -505.50326215 -502.5209008  ... -501.71159927 -501.15340926\n",
      " -500.49270228]\n",
      "Уникальные значения столбца secondary_cleaner.state.floatbank4_b_air\n",
      "[12.09993076 11.95053085 11.91278306 ... 19.95123119 20.05412154\n",
      " 20.02020485]\n",
      "Уникальные значения столбца secondary_cleaner.state.floatbank4_b_level\n",
      "[-504.71594238 -501.33152943 -501.13338307 ... -499.85702705 -500.31471091\n",
      " -500.22029567]\n",
      "Уникальные значения столбца secondary_cleaner.state.floatbank5_a_air\n",
      "[ 9.92563343 10.03924535 10.07091323 ... 18.01954335 17.979515\n",
      " 17.96351155]\n",
      "Уникальные значения столбца secondary_cleaner.state.floatbank5_a_level\n",
      "[-498.31021118 -500.16998257 -500.12913456 ... -500.45115603 -499.27287133\n",
      " -499.93948991]\n",
      "Уникальные значения столбца secondary_cleaner.state.floatbank5_b_air\n",
      "[ 8.07966614  7.9847572   8.01387688 ... 13.02343079 12.99240352\n",
      " 12.99030588]\n",
      "Уникальные значения столбца secondary_cleaner.state.floatbank5_b_level\n",
      "[-500.47097778 -500.58216767 -500.51757225 ... -499.91439075 -499.97626781\n",
      " -500.08099337]\n",
      "Уникальные значения столбца secondary_cleaner.state.floatbank6_a_air\n",
      "[14.15134144 13.99835264 14.02866312 ... 19.99088509 20.01398578\n",
      " 19.99033553]\n",
      "Уникальные значения столбца secondary_cleaner.state.floatbank6_a_level\n",
      "[-605.84197998 -599.78718423 -601.42736323 ... -501.51845197 -500.62547062\n",
      " -499.1915746 ]\n",
      "Количество пропусков в каждом столбце\n",
      "date                                            0\n",
      "final.output.concentrate_ag                    72\n",
      "final.output.concentrate_pb                    72\n",
      "final.output.concentrate_sol                  370\n",
      "final.output.concentrate_au                    71\n",
      "                                             ... \n",
      "secondary_cleaner.state.floatbank5_a_level     85\n",
      "secondary_cleaner.state.floatbank5_b_air       85\n",
      "secondary_cleaner.state.floatbank5_b_level     84\n",
      "secondary_cleaner.state.floatbank6_a_air      103\n",
      "secondary_cleaner.state.floatbank6_a_level     85\n",
      "Length: 87, dtype: int64\n"
     ]
    }
   ],
   "source": [
    "show_rows(gold_recovery_train)"
   ]
  },
  {
   "cell_type": "code",
   "execution_count": 231,
   "metadata": {},
   "outputs": [
    {
     "name": "stdout",
     "output_type": "stream",
     "text": [
      "Уникальные значения столбца date\n",
      "['2016-09-01 00:59:59' '2016-09-01 01:59:59' '2016-09-01 02:59:59' ...\n",
      " '2017-12-31 21:59:59' '2017-12-31 22:59:59' '2017-12-31 23:59:59']\n",
      "Уникальные значения столбца primary_cleaner.input.sulfate\n",
      "[210.800909   215.39245478 215.25994647 ... 171.13571781 179.6971576\n",
      " 181.55685577]\n",
      "Уникальные значения столбца primary_cleaner.input.depressant\n",
      "[14.99311769 14.9874713  12.8849338  ... 15.99366947 15.43897911\n",
      " 14.99584972]\n",
      "Уникальные значения столбца primary_cleaner.input.feed_size\n",
      "[8.07999992 7.78666669 7.63999987 ... 7.88999927 7.57333384 7.96666576]\n",
      "Уникальные значения столбца primary_cleaner.input.xanthate\n",
      "[1.00502133 0.99046929 0.99604317 ... 1.16599581 1.50106793 1.62345438]\n",
      "Уникальные значения столбца primary_cleaner.state.floatbank8_a_air\n",
      "[1398.98130127 1398.77791158 1398.49366613 ... 1498.83618207 1498.46624268\n",
      " 1498.09630329]\n",
      "Уникальные значения столбца primary_cleaner.state.floatbank8_a_level\n",
      "[-500.22557739 -500.05743464 -500.86835986 ... -501.77040305 -500.48398429\n",
      " -499.79692202]\n",
      "Уникальные значения столбца primary_cleaner.state.floatbank8_b_air\n",
      "[1399.14492609 1398.05536199 1398.86043626 ... 1499.57235259 1497.98698616\n",
      " 1501.74379053]\n",
      "Уникальные значения столбца primary_cleaner.state.floatbank8_b_level\n",
      "[-499.91973462 -499.77818151 -499.76452914 ... -495.51634749 -519.20033952\n",
      " -505.14693105]\n",
      "Уникальные значения столбца primary_cleaner.state.floatbank8_c_air\n",
      "[1400.1029981  1396.15103288 1398.07570927 ... 1502.74921291 1496.56904706\n",
      " 1499.53597825]\n",
      "Уникальные значения столбца primary_cleaner.state.floatbank8_c_level\n",
      "[-500.70436901 -499.24016758 -502.15150924 ... -520.66744246 -487.4795668\n",
      " -492.42822636]\n",
      "Уникальные значения столбца primary_cleaner.state.floatbank8_d_air\n",
      "[1399.00169536 1399.50809089 1399.49708795 ... 1502.58534302 1502.68891843\n",
      " 1499.67433989]\n",
      "Уникальные значения столбца primary_cleaner.state.floatbank8_d_level\n",
      "[-499.48514368 -500.41632438 -499.71547881 ... -498.26022538 -501.56972308\n",
      " -499.76671699]\n",
      "Уникальные значения столбца rougher.input.feed_ag\n",
      "[13.12856898 13.03627989 13.13841193 ... 11.28590751 11.28970967\n",
      " 10.90464634]\n",
      "Уникальные значения столбца rougher.input.feed_pb\n",
      "[5.63671024 5.52606519 5.42656094 ... 4.40532678 4.34348778 4.09059086]\n",
      "Уникальные значения столбца rougher.input.feed_rate\n",
      "[489.7936549  490.10453354 489.61796859 ... 546.30686831 547.33140482\n",
      " 564.54037617]\n",
      "Уникальные значения столбца rougher.input.feed_size\n",
      "[62.71045237 61.9611631  66.90380666 ... 73.64751289 78.06644593\n",
      " 77.67870004]\n",
      "Уникальные значения столбца rougher.input.feed_sol\n",
      "[42.02244004 41.18790338 42.54629365 ... 41.09548544 41.71573993\n",
      " 40.8911212 ]\n",
      "Уникальные значения столбца rougher.input.feed_au\n",
      "[12.08410303 11.91897696 12.09133187 ... 10.16909424 10.0711562\n",
      "  9.69725923]\n",
      "Уникальные значения столбца rougher.input.floatbank10_sulfate\n",
      "[16.92287678 17.00253236 16.9925201  ... 10.18221863 10.73091518\n",
      " 10.78949314]\n",
      "Уникальные значения столбца rougher.input.floatbank10_xanthate\n",
      "[6.15347948 5.99904322 5.85063203 ... 7.19625528 7.20005817 7.19577615]\n",
      "Уникальные значения столбца rougher.input.floatbank11_sulfate\n",
      "[16.86751812 16.99606284 16.98209624 ... 10.18546094 10.7263489\n",
      " 10.79288125]\n",
      "Уникальные значения столбца rougher.input.floatbank11_xanthate\n",
      "[6.15070908 6.00231462 5.8535936  ... 7.19867616 7.20083409 7.20103722]\n",
      "Уникальные значения столбца rougher.state.floatbank10_a_air\n",
      "[1001.84931693  998.69078495  998.51671978 ... 1396.20306959 1403.94228815\n",
      " 1400.61154434]\n",
      "Уникальные значения столбца rougher.state.floatbank10_a_level\n",
      "[-350.30126519 -350.4257041  -349.78353797 ... -300.21072161 -300.03011881\n",
      " -299.98940529]\n",
      "Уникальные значения столбца rougher.state.floatbank10_b_air\n",
      "[1249.73861187 1248.3954574  1247.44074791 ... 1047.87974166 1049.8022887\n",
      " 1052.78275582]\n",
      "Уникальные значения столбца rougher.state.floatbank10_b_level\n",
      "[-399.10753083 -399.94602527 -400.2643304  ... -499.60424753 -499.79557571\n",
      " -499.76296558]\n",
      "Уникальные значения столбца rougher.state.floatbank10_c_air\n",
      "[1249.75051952 1249.51445112 1248.20720353 ...  948.96342924  950.76939028\n",
      "  950.79374043]\n",
      "Уникальные значения столбца rougher.state.floatbank10_c_level\n",
      "[-399.39672997 -399.63081008 -401.0744048  ... -499.54956737 -500.37464476\n",
      " -499.35716991]\n",
      "Уникальные значения столбца rougher.state.floatbank10_d_air\n",
      "[1198.2878551  1200.50645936 1199.77002579 ...  856.32559674  847.64719836\n",
      "  850.63953743]\n",
      "Уникальные значения столбца rougher.state.floatbank10_d_level\n",
      "[-399.4885942  -399.94243382 -400.79058233 ... -500.09561552 -499.92033214\n",
      " -500.43378202]\n",
      "Уникальные значения столбца rougher.state.floatbank10_e_air\n",
      "[ 999.47225024 1000.00211427  999.92551852 ...  850.61459734  849.41304043\n",
      "  850.37080092]\n",
      "Уникальные значения столбца rougher.state.floatbank10_e_level\n",
      "[-399.53096224 -399.49152777 -399.23699933 ... -499.47371293 -500.38052945\n",
      " -500.81935107]\n",
      "Уникальные значения столбца rougher.state.floatbank10_f_air\n",
      "[949.56618935 950.20000896 950.32048103 ... 850.27957826 850.07502569\n",
      " 850.68018802]\n",
      "Уникальные значения столбца rougher.state.floatbank10_f_level\n",
      "[-398.1808065  -405.78751426 -400.86434014 ... -498.50837372 -500.47824975\n",
      " -498.53919784]\n",
      "Уникальные значения столбца secondary_cleaner.state.floatbank2_a_air\n",
      "[24.93820005 24.92346588 24.90873171 ... 29.07594837 29.10318496\n",
      " 29.09811556]\n",
      "Уникальные значения столбца secondary_cleaner.state.floatbank2_a_level\n",
      "[-500.49096321 -499.81396286 -500.30403501 ... -500.52840191 -499.69267237\n",
      " -500.4298716 ]\n",
      "Уникальные значения столбца secondary_cleaner.state.floatbank2_b_air\n",
      "[14.94760655 14.93087322 14.99651073 ... 26.88800523 27.05174234\n",
      " 26.89240083]\n",
      "Уникальные значения столбца secondary_cleaner.state.floatbank2_b_level\n",
      "[-500.01383707 -500.76445185 -500.99382097 ... -500.97579938 -499.85833703\n",
      " -500.08713099]\n",
      "Уникальные значения столбца secondary_cleaner.state.floatbank3_a_air\n",
      "[20.01816639 19.98850311 20.03968924 ... 28.00022359 27.98038661\n",
      " 28.02349117]\n",
      "Уникальные значения столбца secondary_cleaner.state.floatbank3_a_level\n",
      "[-450.3959952  -450.1140239  -450.26316447 ... -500.56587597 -499.90722485\n",
      " -500.17040634]\n",
      "Уникальные значения столбца secondary_cleaner.state.floatbank3_b_air\n",
      "[13.98705832 14.09298057 14.07788129 ... 22.99652762 23.04656243\n",
      " 23.01355945]\n",
      "Уникальные значения столбца secondary_cleaner.state.floatbank3_b_level\n",
      "[-449.83151311 -450.05916302 -449.66099667 ... -500.47758266 -499.74491367\n",
      " -500.21880064]\n",
      "Уникальные значения столбца secondary_cleaner.state.floatbank4_a_air\n",
      "[12.02355397 12.05814003 11.96236627 ... 19.99413037 19.95875984\n",
      " 20.03471502]\n",
      "Уникальные значения столбца secondary_cleaner.state.floatbank4_a_level\n",
      "[-497.79583396 -498.69577254 -498.76748398 ... -499.79131165 -499.95874984\n",
      " -500.72858836]\n",
      "Уникальные значения столбца secondary_cleaner.state.floatbank4_b_air\n",
      "[ 8.01665643  8.13097913  8.09689254 ... 15.10142454 15.02685277\n",
      " 14.9141989 ]\n",
      "Уникальные значения столбца secondary_cleaner.state.floatbank4_b_level\n",
      "[-501.28913912 -499.63420858 -500.82742318 ... -499.93625187 -499.72314278\n",
      " -499.94851824]\n",
      "Уникальные значения столбца secondary_cleaner.state.floatbank5_a_air\n",
      "[ 7.9465617   7.95826984  8.07105556 ... 10.98918086 11.01160663\n",
      " 10.98660699]\n",
      "Уникальные значения столбца secondary_cleaner.state.floatbank5_a_level\n",
      "[-432.31784957 -525.83964811 -500.80167311 ... -498.34789767 -499.98504646\n",
      " -500.65802703]\n",
      "Уникальные значения столбца secondary_cleaner.state.floatbank5_b_air\n",
      "[4.8725108  4.87885017 4.90512487 ... 9.02094441 9.00978287 8.98949731]\n",
      "Уникальные значения столбца secondary_cleaner.state.floatbank5_b_level\n",
      "[-500.03743694 -500.16237519 -499.82850963 ... -500.04044778 -499.93790152\n",
      " -500.33758848]\n",
      "Уникальные значения столбца secondary_cleaner.state.floatbank6_a_air\n",
      "[26.70588919 25.01994014 24.99486203 ...  8.98203819  9.01265986\n",
      "  8.98863205]\n",
      "Уникальные значения столбца secondary_cleaner.state.floatbank6_a_level\n",
      "[-499.70941356 -499.81943753 -500.62255903 ... -497.78988177 -500.15428409\n",
      " -500.76493726]\n",
      "Количество пропусков в каждом столбце\n",
      "date                                            0\n",
      "primary_cleaner.input.sulfate                 302\n",
      "primary_cleaner.input.depressant              284\n",
      "primary_cleaner.input.feed_size                 0\n",
      "primary_cleaner.input.xanthate                166\n",
      "primary_cleaner.state.floatbank8_a_air         16\n",
      "primary_cleaner.state.floatbank8_a_level       16\n",
      "primary_cleaner.state.floatbank8_b_air         16\n",
      "primary_cleaner.state.floatbank8_b_level       16\n",
      "primary_cleaner.state.floatbank8_c_air         16\n",
      "primary_cleaner.state.floatbank8_c_level       16\n",
      "primary_cleaner.state.floatbank8_d_air         16\n",
      "primary_cleaner.state.floatbank8_d_level       16\n",
      "rougher.input.feed_ag                          16\n",
      "rougher.input.feed_pb                          16\n",
      "rougher.input.feed_rate                        40\n",
      "rougher.input.feed_size                        22\n",
      "rougher.input.feed_sol                         67\n",
      "rougher.input.feed_au                          16\n",
      "rougher.input.floatbank10_sulfate             257\n",
      "rougher.input.floatbank10_xanthate            123\n",
      "rougher.input.floatbank11_sulfate              55\n",
      "rougher.input.floatbank11_xanthate            353\n",
      "rougher.state.floatbank10_a_air                17\n",
      "rougher.state.floatbank10_a_level              16\n",
      "rougher.state.floatbank10_b_air                17\n",
      "rougher.state.floatbank10_b_level              16\n",
      "rougher.state.floatbank10_c_air                17\n",
      "rougher.state.floatbank10_c_level              16\n",
      "rougher.state.floatbank10_d_air                17\n",
      "rougher.state.floatbank10_d_level              16\n",
      "rougher.state.floatbank10_e_air                17\n",
      "rougher.state.floatbank10_e_level              16\n",
      "rougher.state.floatbank10_f_air                17\n",
      "rougher.state.floatbank10_f_level              16\n",
      "secondary_cleaner.state.floatbank2_a_air       20\n",
      "secondary_cleaner.state.floatbank2_a_level     16\n",
      "secondary_cleaner.state.floatbank2_b_air       23\n",
      "secondary_cleaner.state.floatbank2_b_level     16\n",
      "secondary_cleaner.state.floatbank3_a_air       34\n",
      "secondary_cleaner.state.floatbank3_a_level     16\n",
      "secondary_cleaner.state.floatbank3_b_air       16\n",
      "secondary_cleaner.state.floatbank3_b_level     16\n",
      "secondary_cleaner.state.floatbank4_a_air       16\n",
      "secondary_cleaner.state.floatbank4_a_level     16\n",
      "secondary_cleaner.state.floatbank4_b_air       16\n",
      "secondary_cleaner.state.floatbank4_b_level     16\n",
      "secondary_cleaner.state.floatbank5_a_air       16\n",
      "secondary_cleaner.state.floatbank5_a_level     16\n",
      "secondary_cleaner.state.floatbank5_b_air       16\n",
      "secondary_cleaner.state.floatbank5_b_level     16\n",
      "secondary_cleaner.state.floatbank6_a_air       16\n",
      "secondary_cleaner.state.floatbank6_a_level     16\n",
      "dtype: int64\n"
     ]
    }
   ],
   "source": [
    "show_rows(gold_recovery_test)"
   ]
  },
  {
   "cell_type": "code",
   "execution_count": 232,
   "metadata": {},
   "outputs": [
    {
     "name": "stdout",
     "output_type": "stream",
     "text": [
      "Уникальные значения столбца date\n",
      "['2016-01-15 00:00:00' '2016-01-15 01:00:00' '2016-01-15 02:00:00' ...\n",
      " '2018-08-18 08:59:59' '2018-08-18 09:59:59' '2018-08-18 10:59:59']\n",
      "Уникальные значения столбца final.output.concentrate_ag\n",
      "[6.05540276 6.02936857 6.05592607 ... 3.10999751 3.36724104 3.59837494]\n",
      "Уникальные значения столбца final.output.concentrate_pb\n",
      "[ 9.88964844  9.9689441  10.21399457 ... 11.43436599 11.62558728\n",
      " 11.7378318 ]\n",
      "Уникальные значения столбца final.output.concentrate_sol\n",
      "[5.50732422 5.25778148 5.38375877 ... 6.88601311 6.79943261 6.71750947]\n",
      "Уникальные значения столбца final.output.concentrate_au\n",
      "[42.19202042 42.70162925 42.65750061 ... 46.79569097 46.40818768\n",
      " 46.29943814]\n",
      "Уникальные значения столбца final.output.recovery\n",
      "[70.54121591 69.26619763 68.11644507 ... 67.00218885 65.52324622\n",
      " 70.28145415]\n",
      "Уникальные значения столбца final.output.tail_ag\n",
      "[10.41196156 10.46267568 10.50704594 ...  8.52960609  8.77717133\n",
      "  8.40668973]\n",
      "Уникальные значения столбца final.output.tail_pb\n",
      "[0.89544678 0.92745213 0.95371573 ... 2.91141836 2.81921445 2.51751799]\n",
      "Уникальные значения столбца final.output.tail_sol\n",
      "[16.90429688 16.6345141  16.20884917 ... 11.11514674 10.46384748\n",
      " 10.65219334]\n",
      "Уникальные значения столбца final.output.tail_au\n",
      "[2.14314938 2.22493035 2.25788912 ... 1.59661581 1.60287899 1.38943434]\n",
      "Уникальные значения столбца primary_cleaner.input.sulfate\n",
      "[127.09200287 125.62923179 123.81980789 ... 105.66611757  98.8805383\n",
      "  95.24842664]\n",
      "Уникальные значения столбца primary_cleaner.input.depressant\n",
      "[10.12829494 10.29625065 11.31627982 ...  7.95511136  7.98416354\n",
      "  8.07895679]\n",
      "Уникальные значения столбца primary_cleaner.input.feed_size\n",
      "[7.25       7.30316665 7.53999996 ... 6.06666666 6.23999951 6.2833328 ]\n",
      "Уникальные значения столбца primary_cleaner.input.xanthate\n",
      "[0.98875904 1.00266309 0.99126547 ... 1.31592569 1.24196858 1.28304487]\n",
      "Уникальные значения столбца primary_cleaner.output.concentrate_ag\n",
      "[8.54755116 8.55874319 8.60350485 ... 7.12889611 7.49044444 7.53758431]\n",
      "Уникальные значения столбца primary_cleaner.output.concentrate_pb\n",
      "[10.38964844 10.49706908 10.35449431 ... 12.633558   12.0123779\n",
      " 11.6502851 ]\n",
      "Уникальные значения столбца primary_cleaner.output.concentrate_sol\n",
      "[19.52929688 19.36914674 19.16757892 ...  7.9418999   6.94297165\n",
      "  6.20355328]\n",
      "Уникальные значения столбца primary_cleaner.output.concentrate_au\n",
      "[34.17442703 34.11852552 33.96946437 ... 31.85674228 30.77089201\n",
      " 30.35661802]\n",
      "Уникальные значения столбца primary_cleaner.output.tail_ag\n",
      "[14.9365263  16.25051119 16.49182301 ... 22.2981488  22.71465646\n",
      " 22.73592672]\n",
      "Уникальные значения столбца primary_cleaner.output.tail_pb\n",
      "[2.53491211 3.04964612 3.12466381 ... 6.27825044 6.25314507 6.08428733]\n",
      "Уникальные значения столбца primary_cleaner.output.tail_sol\n",
      "[7.47607422 6.73390727 6.47176848 ... 4.45745699 3.55712066 3.02669909]\n",
      "Уникальные значения столбца primary_cleaner.output.tail_au\n",
      "[2.10667944 2.35301686 2.41680033 ... 2.61223104 2.80064849 2.70804646]\n",
      "Уникальные значения столбца primary_cleaner.state.floatbank8_a_air\n",
      "[1549.77575684 1576.16667149 1601.55616303 ... 1649.16676102 1646.54776267\n",
      " 1648.75990646]\n",
      "Уникальные значения столбца primary_cleaner.state.floatbank8_a_level\n",
      "[-498.91213989 -500.90496496 -499.99779065 ... -399.88863085 -398.97708269\n",
      " -399.86205326]\n",
      "Уникальные значения столбца primary_cleaner.state.floatbank8_b_air\n",
      "[1551.4342041  1575.95062568 1600.38668535 ... 1649.19690421 1648.21223972\n",
      " 1650.13539491]\n",
      "Уникальные значения столбца primary_cleaner.state.floatbank8_b_level\n",
      "[-516.40344238 -499.86588946 -500.60776243 ... -399.67757077 -400.38326491\n",
      " -399.95732109]\n",
      "Уникальные значения столбца primary_cleaner.state.floatbank8_c_air\n",
      "[1549.87390137 1575.99418888 1602.00354199 ... 1647.89699888 1648.91738717\n",
      " 1648.83189046]\n",
      "Уникальные значения столбца primary_cleaner.state.floatbank8_c_level\n",
      "[-498.66659546 -499.31510741 -500.87006932 ... -399.98827492 -399.52134386\n",
      " -400.58611561]\n",
      "Уникальные значения столбца primary_cleaner.state.floatbank8_d_air\n",
      "[1554.36743164 1574.47925899 1599.54151472 ... 1649.7727139  1651.4985915\n",
      " 1649.46458174]\n",
      "Уникальные значения столбца primary_cleaner.state.floatbank8_d_level\n",
      "[-493.4281311  -498.9316652  -499.82744411 ... -399.83190155 -399.7453286\n",
      " -400.67330254]\n",
      "Уникальные значения столбца rougher.calculation.sulfate_to_au_concentrate\n",
      "[41885.70703125 42050.86180929 42018.1011843  ... 44585.18133426\n",
      " 44084.73570763 44082.86656477]\n",
      "Уникальные значения столбца rougher.calculation.floatbank10_sulfate_to_au_feed\n",
      "[3481.77905273 3498.3709791  3495.34891012 ... 2510.81354487 2507.57249359\n",
      " 2487.4777621 ]\n",
      "Уникальные значения столбца rougher.calculation.floatbank11_sulfate_to_au_feed\n",
      "[3520.3371582  3489.98185731 3502.35981942 ... 2510.14243297 2507.7233612\n",
      " 2488.62608025]\n",
      "Уникальные значения столбца rougher.calculation.au_pb_ratio\n",
      "[2.83868678 2.85899801 2.9459892  ... 1.12563651 1.11793477 1.12636713]\n",
      "Уникальные значения столбца rougher.input.feed_ag\n",
      "[6.10037804 6.16111348 6.1164549  ... 5.97051525 6.04813022 6.15871773]\n",
      "Уникальные значения столбца rougher.input.feed_pb\n",
      "[2.28491211 2.26603263 2.15962163 ... 4.02000219 3.90253661 3.87572678]\n",
      "Уникальные значения столбца rougher.input.feed_rate\n",
      "[523.54632568 525.2905809  530.02661044 ... 555.68287198 544.73168688\n",
      " 555.82020835]\n",
      "Уникальные значения столбца rougher.input.feed_size\n",
      "[ 55.48659897  57.27866586  57.51064892 ... 122.26268985 123.74242952\n",
      "  94.54435803]\n",
      "Уникальные значения столбца rougher.input.feed_sol\n",
      "[36.80859375 35.75338487 35.97163007 ... 40.0740256  39.71390632\n",
      " 39.13511856]\n",
      "Уникальные значения столбца rougher.input.feed_au\n",
      "[6.48614979 6.47858279 6.36222199 ... 4.52506124 4.36278136 4.36549126]\n",
      "Уникальные значения столбца rougher.input.floatbank10_sulfate\n",
      "[11.98661613 11.97119324 11.92060278 ...  6.58602044  6.21011918\n",
      "  6.14698197]\n",
      "Уникальные значения столбца rougher.input.floatbank10_xanthate\n",
      "[6.00798988 6.00576591 6.19737694 ... 9.29960607 9.29770949 9.30861213]\n",
      "Уникальные значения столбца rougher.input.floatbank11_sulfate\n",
      "[11.83674335 11.99616279 11.9203052  ...  6.58413031  6.20951712\n",
      "  6.16893878]\n",
      "Уникальные значения столбца rougher.input.floatbank11_xanthate\n",
      "[6.00581837 6.01259367 6.20463318 ... 9.30013304 9.29719433 9.30985188]\n",
      "Уникальные значения столбца rougher.output.concentrate_ag\n",
      "[11.50077057 11.61586517 11.6957533  ...  8.52349701 11.65879854\n",
      " 11.95948557]\n",
      "Уникальные значения столбца rougher.output.concentrate_pb\n",
      "[ 7.10107422  7.2788067   7.21683259 ...  8.95513452 10.65537698\n",
      " 10.70214844]\n",
      "Уникальные значения столбца rougher.output.concentrate_sol\n",
      "[28.02929688 28.06706333 27.45403684 ... 22.78646719 29.05274175\n",
      " 29.07823461]\n",
      "Уникальные значения столбца rougher.output.concentrate_au\n",
      "[19.79380798 20.05097514 19.73717002 ... 15.11123105 17.83477207\n",
      " 17.80413414]\n",
      "Уникальные значения столбца rougher.output.recovery\n",
      "[87.10776293 86.84326051 86.84230826 ... 88.89057853 89.858126\n",
      " 89.51495973]\n",
      "Уникальные значения столбца rougher.output.tail_ag\n",
      "[5.00801802 4.95537791 4.84345988 ... 4.05001019 3.90249404 3.92547281]\n",
      "Уникальные значения столбца rougher.output.tail_pb\n",
      "[0.50872803 0.53668947 0.54641563 ... 0.63609521 0.62560948 0.63867696]\n",
      "Уникальные значения столбца rougher.output.tail_sol\n",
      "[19.15429688 18.96523438 18.80853299 ... 18.32308011 19.42374\n",
      " 19.94667303]\n",
      "Уникальные значения столбца rougher.output.tail_au\n",
      "[1.17024398 1.18482746 1.16256189 ... 0.68505927 0.56713038 0.58643898]\n",
      "Уникальные значения столбца rougher.state.floatbank10_a_air\n",
      "[ 999.70690918 1000.28639767  999.71956517 ... 1204.86663888 1201.90417739\n",
      " 1196.23811223]\n",
      "Уникальные значения столбца rougher.state.floatbank10_a_level\n",
      "[-404.06698608 -400.06519557 -400.07402844 ... -299.23567501 -299.90730825\n",
      " -299.86274301]\n",
      "Уникальные значения столбца rougher.state.floatbank10_b_air\n",
      "[1603.01135254 1600.75458659 1599.33732987 ... 1149.94290216 1154.08780412\n",
      " 1147.24824118]\n",
      "Уникальные значения столбца rougher.state.floatbank10_b_level\n",
      "[-434.71502686 -449.95343451 -450.00853022 ... -501.71790333 -500.03657999\n",
      " -500.3631647 ]\n",
      "Уникальные значения столбца rougher.state.floatbank10_c_air\n",
      "[1602.375      1600.47957991 1599.6727973  ... 1049.60439027 1054.00975578\n",
      " 1047.27906544]\n",
      "Уникальные значения столбца rougher.state.floatbank10_c_level\n",
      "[-442.20446777 -449.83064631 -449.95449144 ... -500.54905279 -500.23733476\n",
      " -500.35409056]\n",
      "Уникальные значения столбца rougher.state.floatbank10_d_air\n",
      "[1598.93725586 1600.52758858 1599.84932514 ...  952.70273231  944.13879272\n",
      "  948.75660844]\n",
      "Уникальные значения столбца rougher.state.floatbank10_d_level\n",
      "[-451.29412842 -449.95364917 -449.95418548 ... -502.35229596 -496.866953\n",
      " -498.43941603]\n",
      "Уникальные значения столбца rougher.state.floatbank10_e_air\n",
      "[1404.4720459  1399.2270837  1399.18094498 ...  849.01601744  851.58976668\n",
      "  849.44191754]\n",
      "Уникальные значения столбца rougher.state.floatbank10_e_level\n",
      "[-455.46298218 -450.86984762 -449.93758816 ... -500.5056773  -499.04046576\n",
      " -499.2555029 ]\n",
      "Уникальные значения столбца rougher.state.floatbank10_f_air\n",
      "[1416.35498047 1399.71951394 1400.31668194 ...  850.45563548  851.34560554\n",
      "  850.1122457 ]\n",
      "Уникальные значения столбца rougher.state.floatbank10_f_level\n",
      "[-451.93963623 -450.11900131 -450.52714684 ... -506.89796845 -499.12256076\n",
      " -499.4071117 ]\n",
      "Уникальные значения столбца secondary_cleaner.output.tail_ag\n",
      "[14.50018406 14.26547351 14.11566201 ... 17.13755562 16.96498398\n",
      "  8.96792307]\n",
      "Уникальные значения столбца secondary_cleaner.output.tail_pb\n",
      "[ 4.69482422  4.59254704  4.62477543 ... 12.52731928 12.85695999\n",
      "  7.09398241]\n",
      "Уникальные значения столбца secondary_cleaner.output.tail_sol\n",
      "[8.76464844 9.00149429 8.84289576 ... 0.7037185  0.94262078 0.27486187]\n",
      "Уникальные значения столбца secondary_cleaner.output.tail_au\n",
      "[2.60618496 2.48824831 2.45818675 ... 3.03130078 3.13033332 1.6156866 ]\n",
      "Уникальные значения столбца secondary_cleaner.state.floatbank2_a_air\n",
      "[25.85310936 25.88053867 26.00524491 ... 35.00358616 34.98074164\n",
      " 34.94091896]\n",
      "Уникальные значения столбца secondary_cleaner.state.floatbank2_a_level\n",
      "[-498.52648926 -499.98965641 -499.92961595 ... -501.08379358 -498.1310022\n",
      " -500.15050979]\n",
      "Уникальные значения столбца secondary_cleaner.state.floatbank2_b_air\n",
      "[23.89365959 23.88952979 23.88665666 ... 29.99053346 29.96845329\n",
      " 30.03186698]\n",
      "Уникальные значения столбца secondary_cleaner.state.floatbank2_b_level\n",
      "[-501.40628052 -500.37242843 -499.95192762 ... -611.85589811 -586.01333036\n",
      " -500.32833475]\n",
      "Уникальные значения столбца secondary_cleaner.state.floatbank3_a_air\n",
      "[23.96179771 23.97055025 23.91353473 ... 25.94842861 25.97173699\n",
      " 26.03398999]\n",
      "Уникальные значения столбца secondary_cleaner.state.floatbank3_a_level\n",
      "[-495.26281738 -500.08547327 -499.44234284 ... -500.06726776 -499.60839245\n",
      " -500.14779215]\n",
      "Уникальные значения столбца secondary_cleaner.state.floatbank3_b_air\n",
      "[21.94040871 22.08571374 23.95771654 ... 22.96826762 22.95844822\n",
      " 22.9523062 ]\n",
      "Уникальные значения столбца secondary_cleaner.state.floatbank3_b_level\n",
      "[-499.3409729  -499.44689706 -499.90198202 ... -499.83944174 -499.82130767\n",
      " -500.03767788]\n",
      "Уникальные значения столбца secondary_cleaner.state.floatbank4_a_air\n",
      "[14.01683521 13.99228103 14.01501546 ... 23.01571849 23.02496288\n",
      " 23.0186224 ]\n",
      "Уникальные значения столбца secondary_cleaner.state.floatbank4_a_level\n",
      "[-502.48800659 -505.50326215 -502.5209008  ... -501.71159927 -501.15340926\n",
      " -500.49270228]\n",
      "Уникальные значения столбца secondary_cleaner.state.floatbank4_b_air\n",
      "[12.09993076 11.95053085 11.91278306 ... 19.95123119 20.05412154\n",
      " 20.02020485]\n",
      "Уникальные значения столбца secondary_cleaner.state.floatbank4_b_level\n",
      "[-504.71594238 -501.33152943 -501.13338307 ... -499.85702705 -500.31471091\n",
      " -500.22029567]\n",
      "Уникальные значения столбца secondary_cleaner.state.floatbank5_a_air\n",
      "[ 9.92563343 10.03924535 10.07091323 ... 18.01954335 17.979515\n",
      " 17.96351155]\n",
      "Уникальные значения столбца secondary_cleaner.state.floatbank5_a_level\n",
      "[-498.31021118 -500.16998257 -500.12913456 ... -500.45115603 -499.27287133\n",
      " -499.93948991]\n",
      "Уникальные значения столбца secondary_cleaner.state.floatbank5_b_air\n",
      "[ 8.07966614  7.9847572   8.01387688 ... 13.02343079 12.99240352\n",
      " 12.99030588]\n",
      "Уникальные значения столбца secondary_cleaner.state.floatbank5_b_level\n",
      "[-500.47097778 -500.58216767 -500.51757225 ... -499.91439075 -499.97626781\n",
      " -500.08099337]\n",
      "Уникальные значения столбца secondary_cleaner.state.floatbank6_a_air\n",
      "[14.15134144 13.99835264 14.02866312 ... 19.99088509 20.01398578\n",
      " 19.99033553]\n",
      "Уникальные значения столбца secondary_cleaner.state.floatbank6_a_level\n",
      "[-605.84197998 -599.78718423 -601.42736323 ... -501.51845197 -500.62547062\n",
      " -499.1915746 ]\n",
      "Количество пропусков в каждом столбце\n",
      "date                                            0\n",
      "final.output.concentrate_ag                    89\n",
      "final.output.concentrate_pb                    87\n",
      "final.output.concentrate_sol                  385\n",
      "final.output.concentrate_au                    86\n",
      "                                             ... \n",
      "secondary_cleaner.state.floatbank5_a_level    101\n",
      "secondary_cleaner.state.floatbank5_b_air      101\n",
      "secondary_cleaner.state.floatbank5_b_level    100\n",
      "secondary_cleaner.state.floatbank6_a_air      119\n",
      "secondary_cleaner.state.floatbank6_a_level    101\n",
      "Length: 87, dtype: int64\n"
     ]
    }
   ],
   "source": [
    "show_rows(gold_recovery_full)"
   ]
  },
  {
   "cell_type": "markdown",
   "metadata": {},
   "source": [
    "Рассчитаю эффективность обогащения чернового концентрата rougher.output.recovery из обучающей выборки. Предварительно удалю пропуски из столбцов со значением NaN."
   ]
  },
  {
   "cell_type": "code",
   "execution_count": 233,
   "metadata": {},
   "outputs": [
    {
     "name": "stdout",
     "output_type": "stream",
     "text": [
      "<class 'pandas.core.frame.DataFrame'>\n",
      "Int64Index: 14287 entries, 0 to 16859\n",
      "Data columns (total 87 columns):\n",
      " #   Column                                              Non-Null Count  Dtype  \n",
      "---  ------                                              --------------  -----  \n",
      " 0   date                                                14287 non-null  object \n",
      " 1   final.output.concentrate_ag                         14282 non-null  float64\n",
      " 2   final.output.concentrate_pb                         14282 non-null  float64\n",
      " 3   final.output.concentrate_sol                        14055 non-null  float64\n",
      " 4   final.output.concentrate_au                         14283 non-null  float64\n",
      " 5   final.output.recovery                               14149 non-null  float64\n",
      " 6   final.output.tail_ag                                14287 non-null  float64\n",
      " 7   final.output.tail_pb                                14173 non-null  float64\n",
      " 8   final.output.tail_sol                               14279 non-null  float64\n",
      " 9   final.output.tail_au                                14287 non-null  float64\n",
      " 10  primary_cleaner.input.sulfate                       14261 non-null  float64\n",
      " 11  primary_cleaner.input.depressant                    14249 non-null  float64\n",
      " 12  primary_cleaner.input.feed_size                     14287 non-null  float64\n",
      " 13  primary_cleaner.input.xanthate                      14182 non-null  float64\n",
      " 14  primary_cleaner.output.concentrate_ag               14287 non-null  float64\n",
      " 15  primary_cleaner.output.concentrate_pb               14164 non-null  float64\n",
      " 16  primary_cleaner.output.concentrate_sol              13949 non-null  float64\n",
      " 17  primary_cleaner.output.concentrate_au               14287 non-null  float64\n",
      " 18  primary_cleaner.output.tail_ag                      14286 non-null  float64\n",
      " 19  primary_cleaner.output.tail_pb                      14271 non-null  float64\n",
      " 20  primary_cleaner.output.tail_sol                     14208 non-null  float64\n",
      " 21  primary_cleaner.output.tail_au                      14287 non-null  float64\n",
      " 22  primary_cleaner.state.floatbank8_a_air              14283 non-null  float64\n",
      " 23  primary_cleaner.state.floatbank8_a_level            14286 non-null  float64\n",
      " 24  primary_cleaner.state.floatbank8_b_air              14283 non-null  float64\n",
      " 25  primary_cleaner.state.floatbank8_b_level            14286 non-null  float64\n",
      " 26  primary_cleaner.state.floatbank8_c_air              14285 non-null  float64\n",
      " 27  primary_cleaner.state.floatbank8_c_level            14286 non-null  float64\n",
      " 28  primary_cleaner.state.floatbank8_d_air              14284 non-null  float64\n",
      " 29  primary_cleaner.state.floatbank8_d_level            14286 non-null  float64\n",
      " 30  rougher.calculation.sulfate_to_au_concentrate       14286 non-null  float64\n",
      " 31  rougher.calculation.floatbank10_sulfate_to_au_feed  14286 non-null  float64\n",
      " 32  rougher.calculation.floatbank11_sulfate_to_au_feed  14286 non-null  float64\n",
      " 33  rougher.calculation.au_pb_ratio                     14287 non-null  float64\n",
      " 34  rougher.input.feed_ag                               14287 non-null  float64\n",
      " 35  rougher.input.feed_pb                               14164 non-null  float64\n",
      " 36  rougher.input.feed_rate                             14274 non-null  float64\n",
      " 37  rougher.input.feed_size                             14138 non-null  float64\n",
      " 38  rougher.input.feed_sol                              14191 non-null  float64\n",
      " 39  rougher.input.feed_au                               14287 non-null  float64\n",
      " 40  rougher.input.floatbank10_sulfate                   14256 non-null  float64\n",
      " 41  rougher.input.floatbank10_xanthate                  14278 non-null  float64\n",
      " 42  rougher.input.floatbank11_sulfate                   14249 non-null  float64\n",
      " 43  rougher.input.floatbank11_xanthate                  13853 non-null  float64\n",
      " 44  rougher.output.concentrate_ag                       14287 non-null  float64\n",
      " 45  rougher.output.concentrate_pb                       14287 non-null  float64\n",
      " 46  rougher.output.concentrate_sol                      14261 non-null  float64\n",
      " 47  rougher.output.concentrate_au                       14287 non-null  float64\n",
      " 48  rougher.output.recovery                             14287 non-null  float64\n",
      " 49  rougher.output.tail_ag                              14286 non-null  float64\n",
      " 50  rougher.output.tail_pb                              14287 non-null  float64\n",
      " 51  rougher.output.tail_sol                             14287 non-null  float64\n",
      " 52  rougher.output.tail_au                              14287 non-null  float64\n",
      " 53  rougher.state.floatbank10_a_air                     14286 non-null  float64\n",
      " 54  rougher.state.floatbank10_a_level                   14286 non-null  float64\n",
      " 55  rougher.state.floatbank10_b_air                     14286 non-null  float64\n",
      " 56  rougher.state.floatbank10_b_level                   14286 non-null  float64\n",
      " 57  rougher.state.floatbank10_c_air                     14286 non-null  float64\n",
      " 58  rougher.state.floatbank10_c_level                   14286 non-null  float64\n",
      " 59  rougher.state.floatbank10_d_air                     14287 non-null  float64\n",
      " 60  rougher.state.floatbank10_d_level                   14287 non-null  float64\n",
      " 61  rougher.state.floatbank10_e_air                     13849 non-null  float64\n",
      " 62  rougher.state.floatbank10_e_level                   14287 non-null  float64\n",
      " 63  rougher.state.floatbank10_f_air                     14287 non-null  float64\n",
      " 64  rougher.state.floatbank10_f_level                   14287 non-null  float64\n",
      " 65  secondary_cleaner.output.tail_ag                    14285 non-null  float64\n",
      " 66  secondary_cleaner.output.tail_pb                    14277 non-null  float64\n",
      " 67  secondary_cleaner.output.tail_sol                   12633 non-null  float64\n",
      " 68  secondary_cleaner.output.tail_au                    14287 non-null  float64\n",
      " 69  secondary_cleaner.state.floatbank2_a_air            14068 non-null  float64\n",
      " 70  secondary_cleaner.state.floatbank2_a_level          14286 non-null  float64\n",
      " 71  secondary_cleaner.state.floatbank2_b_air            14264 non-null  float64\n",
      " 72  secondary_cleaner.state.floatbank2_b_level          14286 non-null  float64\n",
      " 73  secondary_cleaner.state.floatbank3_a_air            14283 non-null  float64\n",
      " 74  secondary_cleaner.state.floatbank3_a_level          14286 non-null  float64\n",
      " 75  secondary_cleaner.state.floatbank3_b_air            14286 non-null  float64\n",
      " 76  secondary_cleaner.state.floatbank3_b_level          14286 non-null  float64\n",
      " 77  secondary_cleaner.state.floatbank4_a_air            14281 non-null  float64\n",
      " 78  secondary_cleaner.state.floatbank4_a_level          14286 non-null  float64\n",
      " 79  secondary_cleaner.state.floatbank4_b_air            14286 non-null  float64\n",
      " 80  secondary_cleaner.state.floatbank4_b_level          14286 non-null  float64\n",
      " 81  secondary_cleaner.state.floatbank5_a_air            14286 non-null  float64\n",
      " 82  secondary_cleaner.state.floatbank5_a_level          14286 non-null  float64\n",
      " 83  secondary_cleaner.state.floatbank5_b_air            14286 non-null  float64\n",
      " 84  secondary_cleaner.state.floatbank5_b_level          14286 non-null  float64\n",
      " 85  secondary_cleaner.state.floatbank6_a_air            14284 non-null  float64\n",
      " 86  secondary_cleaner.state.floatbank6_a_level          14286 non-null  float64\n",
      "dtypes: float64(86), object(1)\n",
      "memory usage: 9.6+ MB\n"
     ]
    }
   ],
   "source": [
    "gold_recovery_train.dropna(subset=['rougher.output.concentrate_au', 'rougher.input.feed_au',\n",
    "                                   'rougher.output.tail_au','rougher.output.recovery'], inplace=True)\n",
    "gold_recovery_train.info()"
   ]
  },
  {
   "cell_type": "code",
   "execution_count": 234,
   "metadata": {
    "scrolled": true
   },
   "outputs": [
    {
     "name": "stdout",
     "output_type": "stream",
     "text": [
      "Абсолютная средняя ошибка = 1.035865202282935e-14\n"
     ]
    }
   ],
   "source": [
    "concentrate_au_column = gold_recovery_train['rougher.output.concentrate_au']\n",
    "feed_au_column = gold_recovery_train['rougher.input.feed_au']\n",
    "tail_au_column = gold_recovery_train['rougher.output.tail_au']\n",
    "input_recovery = gold_recovery_train['rougher.output.recovery']\n",
    "calculated_recovery = concentrate_au_column * (feed_au_column - tail_au_column) / feed_au_column / (concentrate_au_column - tail_au_column) * 100\n",
    "print('Абсолютная средняя ошибка =', mean_absolute_error(input_recovery, calculated_recovery))"
   ]
  },
  {
   "cell_type": "markdown",
   "metadata": {},
   "source": [
    "MAE имеет очень малое отклонение - это значит, что расчетное значение rougher.output.recovery совпадает с данными из столбца."
   ]
  },
  {
   "cell_type": "markdown",
   "metadata": {},
   "source": [
    "Удалю пропущенные значения в обучающей и тестовой выборке."
   ]
  },
  {
   "cell_type": "code",
   "execution_count": 235,
   "metadata": {},
   "outputs": [
    {
     "data": {
      "text/plain": [
       "date                                          0\n",
       "final.output.concentrate_ag                   0\n",
       "final.output.concentrate_pb                   0\n",
       "final.output.concentrate_sol                  0\n",
       "final.output.concentrate_au                   0\n",
       "                                             ..\n",
       "secondary_cleaner.state.floatbank5_a_level    0\n",
       "secondary_cleaner.state.floatbank5_b_air      0\n",
       "secondary_cleaner.state.floatbank5_b_level    0\n",
       "secondary_cleaner.state.floatbank6_a_air      0\n",
       "secondary_cleaner.state.floatbank6_a_level    0\n",
       "Length: 87, dtype: int64"
      ]
     },
     "execution_count": 235,
     "metadata": {},
     "output_type": "execute_result"
    }
   ],
   "source": [
    "good_gold_recovery_train = gold_recovery_train.dropna()\n",
    "good_gold_recovery_train.isna().sum()"
   ]
  },
  {
   "cell_type": "code",
   "execution_count": 236,
   "metadata": {},
   "outputs": [
    {
     "data": {
      "text/plain": [
       "date                                          0\n",
       "primary_cleaner.input.sulfate                 0\n",
       "primary_cleaner.input.depressant              0\n",
       "primary_cleaner.input.feed_size               0\n",
       "primary_cleaner.input.xanthate                0\n",
       "primary_cleaner.state.floatbank8_a_air        0\n",
       "primary_cleaner.state.floatbank8_a_level      0\n",
       "primary_cleaner.state.floatbank8_b_air        0\n",
       "primary_cleaner.state.floatbank8_b_level      0\n",
       "primary_cleaner.state.floatbank8_c_air        0\n",
       "primary_cleaner.state.floatbank8_c_level      0\n",
       "primary_cleaner.state.floatbank8_d_air        0\n",
       "primary_cleaner.state.floatbank8_d_level      0\n",
       "rougher.input.feed_ag                         0\n",
       "rougher.input.feed_pb                         0\n",
       "rougher.input.feed_rate                       0\n",
       "rougher.input.feed_size                       0\n",
       "rougher.input.feed_sol                        0\n",
       "rougher.input.feed_au                         0\n",
       "rougher.input.floatbank10_sulfate             0\n",
       "rougher.input.floatbank10_xanthate            0\n",
       "rougher.input.floatbank11_sulfate             0\n",
       "rougher.input.floatbank11_xanthate            0\n",
       "rougher.state.floatbank10_a_air               0\n",
       "rougher.state.floatbank10_a_level             0\n",
       "rougher.state.floatbank10_b_air               0\n",
       "rougher.state.floatbank10_b_level             0\n",
       "rougher.state.floatbank10_c_air               0\n",
       "rougher.state.floatbank10_c_level             0\n",
       "rougher.state.floatbank10_d_air               0\n",
       "rougher.state.floatbank10_d_level             0\n",
       "rougher.state.floatbank10_e_air               0\n",
       "rougher.state.floatbank10_e_level             0\n",
       "rougher.state.floatbank10_f_air               0\n",
       "rougher.state.floatbank10_f_level             0\n",
       "secondary_cleaner.state.floatbank2_a_air      0\n",
       "secondary_cleaner.state.floatbank2_a_level    0\n",
       "secondary_cleaner.state.floatbank2_b_air      0\n",
       "secondary_cleaner.state.floatbank2_b_level    0\n",
       "secondary_cleaner.state.floatbank3_a_air      0\n",
       "secondary_cleaner.state.floatbank3_a_level    0\n",
       "secondary_cleaner.state.floatbank3_b_air      0\n",
       "secondary_cleaner.state.floatbank3_b_level    0\n",
       "secondary_cleaner.state.floatbank4_a_air      0\n",
       "secondary_cleaner.state.floatbank4_a_level    0\n",
       "secondary_cleaner.state.floatbank4_b_air      0\n",
       "secondary_cleaner.state.floatbank4_b_level    0\n",
       "secondary_cleaner.state.floatbank5_a_air      0\n",
       "secondary_cleaner.state.floatbank5_a_level    0\n",
       "secondary_cleaner.state.floatbank5_b_air      0\n",
       "secondary_cleaner.state.floatbank5_b_level    0\n",
       "secondary_cleaner.state.floatbank6_a_air      0\n",
       "secondary_cleaner.state.floatbank6_a_level    0\n",
       "dtype: int64"
      ]
     },
     "execution_count": 236,
     "metadata": {},
     "output_type": "execute_result"
    }
   ],
   "source": [
    "good_gold_recovery_test = gold_recovery_test.dropna()\n",
    "good_gold_recovery_test.isna().sum()"
   ]
  },
  {
   "cell_type": "markdown",
   "metadata": {},
   "source": [
    "В тестовой выборке отсуствуют столбцы этапов rougher.output, rougher.calculation, final.output, primary_cleaner.output и secondary_cleaner.output. Эти данные будут получены позже, по результатам технологического процесса. Это онлайн метрики. Остальные столбцы исторически известны - значит это офлайн метрики."
   ]
  },
  {
   "cell_type": "markdown",
   "metadata": {},
   "source": [
    "Выделю столбцы из тестовой выборки, по которым будет обучаться модель. Столбец data не несет смысла для обучающей модели. Для предсказания rougher.output.recovery будут использоваться данные из стобцов этапа rougher. Для вычисления final.output.recovery будут использованы все столбцы из тестовой выборки."
   ]
  },
  {
   "cell_type": "code",
   "execution_count": 237,
   "metadata": {},
   "outputs": [
    {
     "name": "stdout",
     "output_type": "stream",
     "text": [
      "{'rougher.state.floatbank10_b_air', 'rougher.state.floatbank10_a_level', 'rougher.state.floatbank10_f_level', 'rougher.state.floatbank10_c_level', 'rougher.input.feed_pb', 'rougher.input.feed_ag', 'rougher.input.floatbank10_xanthate', 'rougher.state.floatbank10_d_level', 'rougher.input.feed_au', 'rougher.state.floatbank10_e_air', 'rougher.input.floatbank11_sulfate', 'rougher.input.feed_sol', 'rougher.input.floatbank10_sulfate', 'rougher.state.floatbank10_d_air', 'rougher.state.floatbank10_e_level', 'rougher.state.floatbank10_f_air', 'rougher.input.feed_size', 'rougher.state.floatbank10_b_level', 'rougher.input.floatbank11_xanthate', 'rougher.state.floatbank10_a_air', 'rougher.state.floatbank10_c_air', 'rougher.input.feed_rate'}\n",
      "\n",
      "{'secondary_cleaner.state.floatbank3_b_air', 'primary_cleaner.state.floatbank8_c_air', 'primary_cleaner.state.floatbank8_a_level', 'secondary_cleaner.state.floatbank3_a_air', 'primary_cleaner.state.floatbank8_b_air', 'rougher.state.floatbank10_b_air', 'primary_cleaner.input.depressant', 'rougher.state.floatbank10_a_level', 'rougher.state.floatbank10_f_level', 'secondary_cleaner.state.floatbank6_a_air', 'secondary_cleaner.state.floatbank4_a_level', 'rougher.state.floatbank10_c_level', 'rougher.input.feed_pb', 'secondary_cleaner.state.floatbank4_b_level', 'primary_cleaner.state.floatbank8_d_level', 'rougher.input.feed_ag', 'rougher.input.floatbank10_xanthate', 'rougher.state.floatbank10_d_level', 'primary_cleaner.state.floatbank8_d_air', 'rougher.input.feed_au', 'primary_cleaner.state.floatbank8_c_level', 'secondary_cleaner.state.floatbank4_b_air', 'rougher.input.floatbank11_sulfate', 'rougher.state.floatbank10_e_air', 'primary_cleaner.state.floatbank8_a_air', 'secondary_cleaner.state.floatbank2_a_air', 'secondary_cleaner.state.floatbank3_a_level', 'secondary_cleaner.state.floatbank4_a_air', 'rougher.input.feed_sol', 'rougher.input.floatbank10_sulfate', 'rougher.state.floatbank10_d_air', 'rougher.state.floatbank10_e_level', 'rougher.state.floatbank10_f_air', 'secondary_cleaner.state.floatbank2_a_level', 'secondary_cleaner.state.floatbank3_b_level', 'secondary_cleaner.state.floatbank5_a_level', 'secondary_cleaner.state.floatbank6_a_level', 'primary_cleaner.input.feed_size', 'rougher.input.feed_size', 'secondary_cleaner.state.floatbank2_b_level', 'secondary_cleaner.state.floatbank5_b_level', 'rougher.state.floatbank10_b_level', 'primary_cleaner.input.xanthate', 'rougher.input.floatbank11_xanthate', 'secondary_cleaner.state.floatbank5_b_air', 'rougher.state.floatbank10_a_air', 'rougher.state.floatbank10_c_air', 'secondary_cleaner.state.floatbank2_b_air', 'primary_cleaner.state.floatbank8_b_level', 'secondary_cleaner.state.floatbank5_a_air', 'rougher.input.feed_rate', 'primary_cleaner.input.sulfate'}\n"
     ]
    }
   ],
   "source": [
    "features_columns = good_gold_recovery_test.columns[1:]\n",
    "rougher_features_columns = set(features_columns[12:34])\n",
    "final_features_columns = set(features_columns)\n",
    "print(rougher_features_columns)\n",
    "print()\n",
    "print(final_features_columns)"
   ]
  },
  {
   "cell_type": "markdown",
   "metadata": {},
   "source": [
    "Пройдусь и визуализирую по ключевым столбцам в обучающей выборке."
   ]
  },
  {
   "cell_type": "code",
   "execution_count": 238,
   "metadata": {},
   "outputs": [
    {
     "data": {
      "image/png": "[encoded data removed]",
      "text/plain": [
       "<Figure size 864x648 with 1 Axes>"
      ]
     },
     "metadata": {
      "needs_background": "light"
     },
     "output_type": "display_data"
    }
   ],
   "source": [
    "plt.figure(figsize=[12,9])\n",
    "\n",
    "plt.hist(good_gold_recovery_train['rougher.output.recovery'], bins=100)\n",
    "\n",
    "plt.xlim([0, 100])\n",
    "plt.ylim([0, 700])\n",
    "\n",
    "plt.xlabel(\"Эффективность обогащения чернового концентрата \")\n",
    "plt.ylabel(\"Количество результатов\")\n",
    "\n",
    "plt.title(\"Гистограмма распределения по эффективности обогащения\")\n",
    "plt.show()"
   ]
  },
  {
   "cell_type": "markdown",
   "metadata": {},
   "source": [
    "Изучу нулевые значения в столбце rougher.output.recovery."
   ]
  },
  {
   "cell_type": "code",
   "execution_count": 239,
   "metadata": {},
   "outputs": [
    {
     "data": {
      "text/html": [
       "<div>\n",
       "<style scoped>\n",
       "    .dataframe tbody tr th:only-of-type {\n",
       "        vertical-align: middle;\n",
       "    }\n",
       "\n",
       "    .dataframe tbody tr th {\n",
       "        vertical-align: top;\n",
       "    }\n",
       "\n",
       "    .dataframe thead th {\n",
       "        text-align: right;\n",
       "    }\n",
       "</style>\n",
       "<table border=\"1\" class=\"dataframe\">\n",
       "  <thead>\n",
       "    <tr style=\"text-align: right;\">\n",
       "      <th></th>\n",
       "      <th>date</th>\n",
       "      <th>final.output.concentrate_ag</th>\n",
       "      <th>final.output.concentrate_pb</th>\n",
       "      <th>final.output.concentrate_sol</th>\n",
       "      <th>final.output.concentrate_au</th>\n",
       "      <th>final.output.recovery</th>\n",
       "      <th>final.output.tail_ag</th>\n",
       "      <th>final.output.tail_pb</th>\n",
       "      <th>final.output.tail_sol</th>\n",
       "      <th>final.output.tail_au</th>\n",
       "      <th>...</th>\n",
       "      <th>secondary_cleaner.state.floatbank4_a_air</th>\n",
       "      <th>secondary_cleaner.state.floatbank4_a_level</th>\n",
       "      <th>secondary_cleaner.state.floatbank4_b_air</th>\n",
       "      <th>secondary_cleaner.state.floatbank4_b_level</th>\n",
       "      <th>secondary_cleaner.state.floatbank5_a_air</th>\n",
       "      <th>secondary_cleaner.state.floatbank5_a_level</th>\n",
       "      <th>secondary_cleaner.state.floatbank5_b_air</th>\n",
       "      <th>secondary_cleaner.state.floatbank5_b_level</th>\n",
       "      <th>secondary_cleaner.state.floatbank6_a_air</th>\n",
       "      <th>secondary_cleaner.state.floatbank6_a_level</th>\n",
       "    </tr>\n",
       "  </thead>\n",
       "  <tbody>\n",
       "    <tr>\n",
       "      <th>45</th>\n",
       "      <td>2016-01-16 21:00:00</td>\n",
       "      <td>4.566664</td>\n",
       "      <td>10.406178</td>\n",
       "      <td>4.588698</td>\n",
       "      <td>46.614456</td>\n",
       "      <td>68.403877</td>\n",
       "      <td>10.705777</td>\n",
       "      <td>1.509070</td>\n",
       "      <td>17.875134</td>\n",
       "      <td>2.509776</td>\n",
       "      <td>...</td>\n",
       "      <td>14.025588</td>\n",
       "      <td>-550.404242</td>\n",
       "      <td>12.028925</td>\n",
       "      <td>-550.570104</td>\n",
       "      <td>10.052072</td>\n",
       "      <td>-500.797905</td>\n",
       "      <td>7.984500</td>\n",
       "      <td>-499.581046</td>\n",
       "      <td>11.982025</td>\n",
       "      <td>-599.161228</td>\n",
       "    </tr>\n",
       "    <tr>\n",
       "      <th>46</th>\n",
       "      <td>2016-01-16 22:00:00</td>\n",
       "      <td>4.577832</td>\n",
       "      <td>10.691605</td>\n",
       "      <td>5.274175</td>\n",
       "      <td>46.250638</td>\n",
       "      <td>70.675633</td>\n",
       "      <td>10.728531</td>\n",
       "      <td>1.641216</td>\n",
       "      <td>18.349339</td>\n",
       "      <td>2.540843</td>\n",
       "      <td>...</td>\n",
       "      <td>14.094808</td>\n",
       "      <td>-550.676337</td>\n",
       "      <td>12.004728</td>\n",
       "      <td>-550.496522</td>\n",
       "      <td>9.953139</td>\n",
       "      <td>-500.330920</td>\n",
       "      <td>8.012074</td>\n",
       "      <td>-500.133530</td>\n",
       "      <td>11.975316</td>\n",
       "      <td>-598.839683</td>\n",
       "    </tr>\n",
       "    <tr>\n",
       "      <th>51</th>\n",
       "      <td>2016-01-17 03:00:00</td>\n",
       "      <td>5.759800</td>\n",
       "      <td>9.537415</td>\n",
       "      <td>3.997737</td>\n",
       "      <td>45.267942</td>\n",
       "      <td>68.638723</td>\n",
       "      <td>10.623064</td>\n",
       "      <td>1.217058</td>\n",
       "      <td>16.072705</td>\n",
       "      <td>2.471388</td>\n",
       "      <td>...</td>\n",
       "      <td>14.164342</td>\n",
       "      <td>-552.959690</td>\n",
       "      <td>11.917980</td>\n",
       "      <td>-549.417320</td>\n",
       "      <td>10.016315</td>\n",
       "      <td>-497.644975</td>\n",
       "      <td>7.999080</td>\n",
       "      <td>-500.112143</td>\n",
       "      <td>12.043030</td>\n",
       "      <td>-599.630112</td>\n",
       "    </tr>\n",
       "    <tr>\n",
       "      <th>52</th>\n",
       "      <td>2016-01-17 04:00:00</td>\n",
       "      <td>5.807253</td>\n",
       "      <td>10.439505</td>\n",
       "      <td>6.512951</td>\n",
       "      <td>43.237493</td>\n",
       "      <td>72.136712</td>\n",
       "      <td>10.518407</td>\n",
       "      <td>1.336890</td>\n",
       "      <td>17.750367</td>\n",
       "      <td>2.323883</td>\n",
       "      <td>...</td>\n",
       "      <td>14.097072</td>\n",
       "      <td>-549.292129</td>\n",
       "      <td>12.000525</td>\n",
       "      <td>-550.306171</td>\n",
       "      <td>9.925991</td>\n",
       "      <td>-501.985618</td>\n",
       "      <td>7.948277</td>\n",
       "      <td>-500.060988</td>\n",
       "      <td>12.005620</td>\n",
       "      <td>-601.746110</td>\n",
       "    </tr>\n",
       "    <tr>\n",
       "      <th>836</th>\n",
       "      <td>2016-02-18 20:00:00</td>\n",
       "      <td>8.478624</td>\n",
       "      <td>11.303437</td>\n",
       "      <td>10.547473</td>\n",
       "      <td>35.776254</td>\n",
       "      <td>80.041038</td>\n",
       "      <td>12.958362</td>\n",
       "      <td>2.369492</td>\n",
       "      <td>9.839622</td>\n",
       "      <td>3.066451</td>\n",
       "      <td>...</td>\n",
       "      <td>23.709602</td>\n",
       "      <td>-412.029336</td>\n",
       "      <td>22.639733</td>\n",
       "      <td>-412.896304</td>\n",
       "      <td>25.021629</td>\n",
       "      <td>-428.537556</td>\n",
       "      <td>21.011542</td>\n",
       "      <td>-400.287375</td>\n",
       "      <td>30.004867</td>\n",
       "      <td>-396.683519</td>\n",
       "    </tr>\n",
       "  </tbody>\n",
       "</table>\n",
       "<p>5 rows × 87 columns</p>\n",
       "</div>"
      ],
      "text/plain": [
       "                    date  final.output.concentrate_ag  \\\n",
       "45   2016-01-16 21:00:00                     4.566664   \n",
       "46   2016-01-16 22:00:00                     4.577832   \n",
       "51   2016-01-17 03:00:00                     5.759800   \n",
       "52   2016-01-17 04:00:00                     5.807253   \n",
       "836  2016-02-18 20:00:00                     8.478624   \n",
       "\n",
       "     final.output.concentrate_pb  final.output.concentrate_sol  \\\n",
       "45                     10.406178                      4.588698   \n",
       "46                     10.691605                      5.274175   \n",
       "51                      9.537415                      3.997737   \n",
       "52                     10.439505                      6.512951   \n",
       "836                    11.303437                     10.547473   \n",
       "\n",
       "     final.output.concentrate_au  final.output.recovery  final.output.tail_ag  \\\n",
       "45                     46.614456              68.403877             10.705777   \n",
       "46                     46.250638              70.675633             10.728531   \n",
       "51                     45.267942              68.638723             10.623064   \n",
       "52                     43.237493              72.136712             10.518407   \n",
       "836                    35.776254              80.041038             12.958362   \n",
       "\n",
       "     final.output.tail_pb  final.output.tail_sol  final.output.tail_au  ...  \\\n",
       "45               1.509070              17.875134              2.509776  ...   \n",
       "46               1.641216              18.349339              2.540843  ...   \n",
       "51               1.217058              16.072705              2.471388  ...   \n",
       "52               1.336890              17.750367              2.323883  ...   \n",
       "836              2.369492               9.839622              3.066451  ...   \n",
       "\n",
       "     secondary_cleaner.state.floatbank4_a_air  \\\n",
       "45                                  14.025588   \n",
       "46                                  14.094808   \n",
       "51                                  14.164342   \n",
       "52                                  14.097072   \n",
       "836                                 23.709602   \n",
       "\n",
       "     secondary_cleaner.state.floatbank4_a_level  \\\n",
       "45                                  -550.404242   \n",
       "46                                  -550.676337   \n",
       "51                                  -552.959690   \n",
       "52                                  -549.292129   \n",
       "836                                 -412.029336   \n",
       "\n",
       "     secondary_cleaner.state.floatbank4_b_air  \\\n",
       "45                                  12.028925   \n",
       "46                                  12.004728   \n",
       "51                                  11.917980   \n",
       "52                                  12.000525   \n",
       "836                                 22.639733   \n",
       "\n",
       "     secondary_cleaner.state.floatbank4_b_level  \\\n",
       "45                                  -550.570104   \n",
       "46                                  -550.496522   \n",
       "51                                  -549.417320   \n",
       "52                                  -550.306171   \n",
       "836                                 -412.896304   \n",
       "\n",
       "     secondary_cleaner.state.floatbank5_a_air  \\\n",
       "45                                  10.052072   \n",
       "46                                   9.953139   \n",
       "51                                  10.016315   \n",
       "52                                   9.925991   \n",
       "836                                 25.021629   \n",
       "\n",
       "     secondary_cleaner.state.floatbank5_a_level  \\\n",
       "45                                  -500.797905   \n",
       "46                                  -500.330920   \n",
       "51                                  -497.644975   \n",
       "52                                  -501.985618   \n",
       "836                                 -428.537556   \n",
       "\n",
       "     secondary_cleaner.state.floatbank5_b_air  \\\n",
       "45                                   7.984500   \n",
       "46                                   8.012074   \n",
       "51                                   7.999080   \n",
       "52                                   7.948277   \n",
       "836                                 21.011542   \n",
       "\n",
       "     secondary_cleaner.state.floatbank5_b_level  \\\n",
       "45                                  -499.581046   \n",
       "46                                  -500.133530   \n",
       "51                                  -500.112143   \n",
       "52                                  -500.060988   \n",
       "836                                 -400.287375   \n",
       "\n",
       "     secondary_cleaner.state.floatbank6_a_air  \\\n",
       "45                                  11.982025   \n",
       "46                                  11.975316   \n",
       "51                                  12.043030   \n",
       "52                                  12.005620   \n",
       "836                                 30.004867   \n",
       "\n",
       "     secondary_cleaner.state.floatbank6_a_level  \n",
       "45                                  -599.161228  \n",
       "46                                  -598.839683  \n",
       "51                                  -599.630112  \n",
       "52                                  -601.746110  \n",
       "836                                 -396.683519  \n",
       "\n",
       "[5 rows x 87 columns]"
      ]
     },
     "execution_count": 239,
     "metadata": {},
     "output_type": "execute_result"
    }
   ],
   "source": [
    "good_gold_recovery_train[good_gold_recovery_train['rougher.output.recovery'] < 1].head()"
   ]
  },
  {
   "cell_type": "code",
   "execution_count": 240,
   "metadata": {
    "scrolled": false
   },
   "outputs": [
    {
     "data": {
      "text/html": [
       "<div>\n",
       "<style scoped>\n",
       "    .dataframe tbody tr th:only-of-type {\n",
       "        vertical-align: middle;\n",
       "    }\n",
       "\n",
       "    .dataframe tbody tr th {\n",
       "        vertical-align: top;\n",
       "    }\n",
       "\n",
       "    .dataframe thead th {\n",
       "        text-align: right;\n",
       "    }\n",
       "</style>\n",
       "<table border=\"1\" class=\"dataframe\">\n",
       "  <thead>\n",
       "    <tr style=\"text-align: right;\">\n",
       "      <th></th>\n",
       "      <th>date</th>\n",
       "      <th>final.output.concentrate_ag</th>\n",
       "      <th>final.output.concentrate_pb</th>\n",
       "      <th>final.output.concentrate_sol</th>\n",
       "      <th>final.output.concentrate_au</th>\n",
       "      <th>final.output.recovery</th>\n",
       "      <th>final.output.tail_ag</th>\n",
       "      <th>final.output.tail_pb</th>\n",
       "      <th>final.output.tail_sol</th>\n",
       "      <th>final.output.tail_au</th>\n",
       "      <th>...</th>\n",
       "      <th>secondary_cleaner.state.floatbank4_a_air</th>\n",
       "      <th>secondary_cleaner.state.floatbank4_a_level</th>\n",
       "      <th>secondary_cleaner.state.floatbank4_b_air</th>\n",
       "      <th>secondary_cleaner.state.floatbank4_b_level</th>\n",
       "      <th>secondary_cleaner.state.floatbank5_a_air</th>\n",
       "      <th>secondary_cleaner.state.floatbank5_a_level</th>\n",
       "      <th>secondary_cleaner.state.floatbank5_b_air</th>\n",
       "      <th>secondary_cleaner.state.floatbank5_b_level</th>\n",
       "      <th>secondary_cleaner.state.floatbank6_a_air</th>\n",
       "      <th>secondary_cleaner.state.floatbank6_a_level</th>\n",
       "    </tr>\n",
       "  </thead>\n",
       "  <tbody>\n",
       "    <tr>\n",
       "      <th>45</th>\n",
       "      <td>2016-01-16 21:00:00</td>\n",
       "      <td>4.566664</td>\n",
       "      <td>10.406178</td>\n",
       "      <td>4.588698</td>\n",
       "      <td>46.614456</td>\n",
       "      <td>68.403877</td>\n",
       "      <td>10.705777</td>\n",
       "      <td>1.509070</td>\n",
       "      <td>17.875134</td>\n",
       "      <td>2.509776</td>\n",
       "      <td>...</td>\n",
       "      <td>14.025588</td>\n",
       "      <td>-550.404242</td>\n",
       "      <td>12.028925</td>\n",
       "      <td>-550.570104</td>\n",
       "      <td>10.052072</td>\n",
       "      <td>-500.797905</td>\n",
       "      <td>7.984500</td>\n",
       "      <td>-499.581046</td>\n",
       "      <td>11.982025</td>\n",
       "      <td>-599.161228</td>\n",
       "    </tr>\n",
       "    <tr>\n",
       "      <th>46</th>\n",
       "      <td>2016-01-16 22:00:00</td>\n",
       "      <td>4.577832</td>\n",
       "      <td>10.691605</td>\n",
       "      <td>5.274175</td>\n",
       "      <td>46.250638</td>\n",
       "      <td>70.675633</td>\n",
       "      <td>10.728531</td>\n",
       "      <td>1.641216</td>\n",
       "      <td>18.349339</td>\n",
       "      <td>2.540843</td>\n",
       "      <td>...</td>\n",
       "      <td>14.094808</td>\n",
       "      <td>-550.676337</td>\n",
       "      <td>12.004728</td>\n",
       "      <td>-550.496522</td>\n",
       "      <td>9.953139</td>\n",
       "      <td>-500.330920</td>\n",
       "      <td>8.012074</td>\n",
       "      <td>-500.133530</td>\n",
       "      <td>11.975316</td>\n",
       "      <td>-598.839683</td>\n",
       "    </tr>\n",
       "    <tr>\n",
       "      <th>51</th>\n",
       "      <td>2016-01-17 03:00:00</td>\n",
       "      <td>5.759800</td>\n",
       "      <td>9.537415</td>\n",
       "      <td>3.997737</td>\n",
       "      <td>45.267942</td>\n",
       "      <td>68.638723</td>\n",
       "      <td>10.623064</td>\n",
       "      <td>1.217058</td>\n",
       "      <td>16.072705</td>\n",
       "      <td>2.471388</td>\n",
       "      <td>...</td>\n",
       "      <td>14.164342</td>\n",
       "      <td>-552.959690</td>\n",
       "      <td>11.917980</td>\n",
       "      <td>-549.417320</td>\n",
       "      <td>10.016315</td>\n",
       "      <td>-497.644975</td>\n",
       "      <td>7.999080</td>\n",
       "      <td>-500.112143</td>\n",
       "      <td>12.043030</td>\n",
       "      <td>-599.630112</td>\n",
       "    </tr>\n",
       "    <tr>\n",
       "      <th>52</th>\n",
       "      <td>2016-01-17 04:00:00</td>\n",
       "      <td>5.807253</td>\n",
       "      <td>10.439505</td>\n",
       "      <td>6.512951</td>\n",
       "      <td>43.237493</td>\n",
       "      <td>72.136712</td>\n",
       "      <td>10.518407</td>\n",
       "      <td>1.336890</td>\n",
       "      <td>17.750367</td>\n",
       "      <td>2.323883</td>\n",
       "      <td>...</td>\n",
       "      <td>14.097072</td>\n",
       "      <td>-549.292129</td>\n",
       "      <td>12.000525</td>\n",
       "      <td>-550.306171</td>\n",
       "      <td>9.925991</td>\n",
       "      <td>-501.985618</td>\n",
       "      <td>7.948277</td>\n",
       "      <td>-500.060988</td>\n",
       "      <td>12.005620</td>\n",
       "      <td>-601.746110</td>\n",
       "    </tr>\n",
       "    <tr>\n",
       "      <th>836</th>\n",
       "      <td>2016-02-18 20:00:00</td>\n",
       "      <td>8.478624</td>\n",
       "      <td>11.303437</td>\n",
       "      <td>10.547473</td>\n",
       "      <td>35.776254</td>\n",
       "      <td>80.041038</td>\n",
       "      <td>12.958362</td>\n",
       "      <td>2.369492</td>\n",
       "      <td>9.839622</td>\n",
       "      <td>3.066451</td>\n",
       "      <td>...</td>\n",
       "      <td>23.709602</td>\n",
       "      <td>-412.029336</td>\n",
       "      <td>22.639733</td>\n",
       "      <td>-412.896304</td>\n",
       "      <td>25.021629</td>\n",
       "      <td>-428.537556</td>\n",
       "      <td>21.011542</td>\n",
       "      <td>-400.287375</td>\n",
       "      <td>30.004867</td>\n",
       "      <td>-396.683519</td>\n",
       "    </tr>\n",
       "  </tbody>\n",
       "</table>\n",
       "<p>5 rows × 87 columns</p>\n",
       "</div>"
      ],
      "text/plain": [
       "                    date  final.output.concentrate_ag  \\\n",
       "45   2016-01-16 21:00:00                     4.566664   \n",
       "46   2016-01-16 22:00:00                     4.577832   \n",
       "51   2016-01-17 03:00:00                     5.759800   \n",
       "52   2016-01-17 04:00:00                     5.807253   \n",
       "836  2016-02-18 20:00:00                     8.478624   \n",
       "\n",
       "     final.output.concentrate_pb  final.output.concentrate_sol  \\\n",
       "45                     10.406178                      4.588698   \n",
       "46                     10.691605                      5.274175   \n",
       "51                      9.537415                      3.997737   \n",
       "52                     10.439505                      6.512951   \n",
       "836                    11.303437                     10.547473   \n",
       "\n",
       "     final.output.concentrate_au  final.output.recovery  final.output.tail_ag  \\\n",
       "45                     46.614456              68.403877             10.705777   \n",
       "46                     46.250638              70.675633             10.728531   \n",
       "51                     45.267942              68.638723             10.623064   \n",
       "52                     43.237493              72.136712             10.518407   \n",
       "836                    35.776254              80.041038             12.958362   \n",
       "\n",
       "     final.output.tail_pb  final.output.tail_sol  final.output.tail_au  ...  \\\n",
       "45               1.509070              17.875134              2.509776  ...   \n",
       "46               1.641216              18.349339              2.540843  ...   \n",
       "51               1.217058              16.072705              2.471388  ...   \n",
       "52               1.336890              17.750367              2.323883  ...   \n",
       "836              2.369492               9.839622              3.066451  ...   \n",
       "\n",
       "     secondary_cleaner.state.floatbank4_a_air  \\\n",
       "45                                  14.025588   \n",
       "46                                  14.094808   \n",
       "51                                  14.164342   \n",
       "52                                  14.097072   \n",
       "836                                 23.709602   \n",
       "\n",
       "     secondary_cleaner.state.floatbank4_a_level  \\\n",
       "45                                  -550.404242   \n",
       "46                                  -550.676337   \n",
       "51                                  -552.959690   \n",
       "52                                  -549.292129   \n",
       "836                                 -412.029336   \n",
       "\n",
       "     secondary_cleaner.state.floatbank4_b_air  \\\n",
       "45                                  12.028925   \n",
       "46                                  12.004728   \n",
       "51                                  11.917980   \n",
       "52                                  12.000525   \n",
       "836                                 22.639733   \n",
       "\n",
       "     secondary_cleaner.state.floatbank4_b_level  \\\n",
       "45                                  -550.570104   \n",
       "46                                  -550.496522   \n",
       "51                                  -549.417320   \n",
       "52                                  -550.306171   \n",
       "836                                 -412.896304   \n",
       "\n",
       "     secondary_cleaner.state.floatbank5_a_air  \\\n",
       "45                                  10.052072   \n",
       "46                                   9.953139   \n",
       "51                                  10.016315   \n",
       "52                                   9.925991   \n",
       "836                                 25.021629   \n",
       "\n",
       "     secondary_cleaner.state.floatbank5_a_level  \\\n",
       "45                                  -500.797905   \n",
       "46                                  -500.330920   \n",
       "51                                  -497.644975   \n",
       "52                                  -501.985618   \n",
       "836                                 -428.537556   \n",
       "\n",
       "     secondary_cleaner.state.floatbank5_b_air  \\\n",
       "45                                   7.984500   \n",
       "46                                   8.012074   \n",
       "51                                   7.999080   \n",
       "52                                   7.948277   \n",
       "836                                 21.011542   \n",
       "\n",
       "     secondary_cleaner.state.floatbank5_b_level  \\\n",
       "45                                  -499.581046   \n",
       "46                                  -500.133530   \n",
       "51                                  -500.112143   \n",
       "52                                  -500.060988   \n",
       "836                                 -400.287375   \n",
       "\n",
       "     secondary_cleaner.state.floatbank6_a_air  \\\n",
       "45                                  11.982025   \n",
       "46                                  11.975316   \n",
       "51                                  12.043030   \n",
       "52                                  12.005620   \n",
       "836                                 30.004867   \n",
       "\n",
       "     secondary_cleaner.state.floatbank6_a_level  \n",
       "45                                  -599.161228  \n",
       "46                                  -598.839683  \n",
       "51                                  -599.630112  \n",
       "52                                  -601.746110  \n",
       "836                                 -396.683519  \n",
       "\n",
       "[5 rows x 87 columns]"
      ]
     },
     "execution_count": 240,
     "metadata": {},
     "output_type": "execute_result"
    }
   ],
   "source": [
    "good_gold_recovery_train[good_gold_recovery_train['rougher.output.concentrate_au'] < 1].head()"
   ]
  },
  {
   "cell_type": "markdown",
   "metadata": {},
   "source": [
    "В данных нет информации о этапе rougher. Удалю эти значения, так как они могут исказить данные."
   ]
  },
  {
   "cell_type": "code",
   "execution_count": 241,
   "metadata": {},
   "outputs": [
    {
     "data": {
      "text/html": [
       "<div>\n",
       "<style scoped>\n",
       "    .dataframe tbody tr th:only-of-type {\n",
       "        vertical-align: middle;\n",
       "    }\n",
       "\n",
       "    .dataframe tbody tr th {\n",
       "        vertical-align: top;\n",
       "    }\n",
       "\n",
       "    .dataframe thead th {\n",
       "        text-align: right;\n",
       "    }\n",
       "</style>\n",
       "<table border=\"1\" class=\"dataframe\">\n",
       "  <thead>\n",
       "    <tr style=\"text-align: right;\">\n",
       "      <th></th>\n",
       "      <th>date</th>\n",
       "      <th>final.output.concentrate_ag</th>\n",
       "      <th>final.output.concentrate_pb</th>\n",
       "      <th>final.output.concentrate_sol</th>\n",
       "      <th>final.output.concentrate_au</th>\n",
       "      <th>final.output.recovery</th>\n",
       "      <th>final.output.tail_ag</th>\n",
       "      <th>final.output.tail_pb</th>\n",
       "      <th>final.output.tail_sol</th>\n",
       "      <th>final.output.tail_au</th>\n",
       "      <th>...</th>\n",
       "      <th>secondary_cleaner.state.floatbank4_a_air</th>\n",
       "      <th>secondary_cleaner.state.floatbank4_a_level</th>\n",
       "      <th>secondary_cleaner.state.floatbank4_b_air</th>\n",
       "      <th>secondary_cleaner.state.floatbank4_b_level</th>\n",
       "      <th>secondary_cleaner.state.floatbank5_a_air</th>\n",
       "      <th>secondary_cleaner.state.floatbank5_a_level</th>\n",
       "      <th>secondary_cleaner.state.floatbank5_b_air</th>\n",
       "      <th>secondary_cleaner.state.floatbank5_b_level</th>\n",
       "      <th>secondary_cleaner.state.floatbank6_a_air</th>\n",
       "      <th>secondary_cleaner.state.floatbank6_a_level</th>\n",
       "    </tr>\n",
       "  </thead>\n",
       "  <tbody>\n",
       "  </tbody>\n",
       "</table>\n",
       "<p>0 rows × 87 columns</p>\n",
       "</div>"
      ],
      "text/plain": [
       "Empty DataFrame\n",
       "Columns: [date, final.output.concentrate_ag, final.output.concentrate_pb, final.output.concentrate_sol, final.output.concentrate_au, final.output.recovery, final.output.tail_ag, final.output.tail_pb, final.output.tail_sol, final.output.tail_au, primary_cleaner.input.sulfate, primary_cleaner.input.depressant, primary_cleaner.input.feed_size, primary_cleaner.input.xanthate, primary_cleaner.output.concentrate_ag, primary_cleaner.output.concentrate_pb, primary_cleaner.output.concentrate_sol, primary_cleaner.output.concentrate_au, primary_cleaner.output.tail_ag, primary_cleaner.output.tail_pb, primary_cleaner.output.tail_sol, primary_cleaner.output.tail_au, primary_cleaner.state.floatbank8_a_air, primary_cleaner.state.floatbank8_a_level, primary_cleaner.state.floatbank8_b_air, primary_cleaner.state.floatbank8_b_level, primary_cleaner.state.floatbank8_c_air, primary_cleaner.state.floatbank8_c_level, primary_cleaner.state.floatbank8_d_air, primary_cleaner.state.floatbank8_d_level, rougher.calculation.sulfate_to_au_concentrate, rougher.calculation.floatbank10_sulfate_to_au_feed, rougher.calculation.floatbank11_sulfate_to_au_feed, rougher.calculation.au_pb_ratio, rougher.input.feed_ag, rougher.input.feed_pb, rougher.input.feed_rate, rougher.input.feed_size, rougher.input.feed_sol, rougher.input.feed_au, rougher.input.floatbank10_sulfate, rougher.input.floatbank10_xanthate, rougher.input.floatbank11_sulfate, rougher.input.floatbank11_xanthate, rougher.output.concentrate_ag, rougher.output.concentrate_pb, rougher.output.concentrate_sol, rougher.output.concentrate_au, rougher.output.recovery, rougher.output.tail_ag, rougher.output.tail_pb, rougher.output.tail_sol, rougher.output.tail_au, rougher.state.floatbank10_a_air, rougher.state.floatbank10_a_level, rougher.state.floatbank10_b_air, rougher.state.floatbank10_b_level, rougher.state.floatbank10_c_air, rougher.state.floatbank10_c_level, rougher.state.floatbank10_d_air, rougher.state.floatbank10_d_level, rougher.state.floatbank10_e_air, rougher.state.floatbank10_e_level, rougher.state.floatbank10_f_air, rougher.state.floatbank10_f_level, secondary_cleaner.output.tail_ag, secondary_cleaner.output.tail_pb, secondary_cleaner.output.tail_sol, secondary_cleaner.output.tail_au, secondary_cleaner.state.floatbank2_a_air, secondary_cleaner.state.floatbank2_a_level, secondary_cleaner.state.floatbank2_b_air, secondary_cleaner.state.floatbank2_b_level, secondary_cleaner.state.floatbank3_a_air, secondary_cleaner.state.floatbank3_a_level, secondary_cleaner.state.floatbank3_b_air, secondary_cleaner.state.floatbank3_b_level, secondary_cleaner.state.floatbank4_a_air, secondary_cleaner.state.floatbank4_a_level, secondary_cleaner.state.floatbank4_b_air, secondary_cleaner.state.floatbank4_b_level, secondary_cleaner.state.floatbank5_a_air, secondary_cleaner.state.floatbank5_a_level, secondary_cleaner.state.floatbank5_b_air, secondary_cleaner.state.floatbank5_b_level, secondary_cleaner.state.floatbank6_a_air, secondary_cleaner.state.floatbank6_a_level]\n",
       "Index: []\n",
       "\n",
       "[0 rows x 87 columns]"
      ]
     },
     "execution_count": 241,
     "metadata": {},
     "output_type": "execute_result"
    }
   ],
   "source": [
    "# проверка на наличие\n",
    "good_gold_recovery_train = good_gold_recovery_train.drop(good_gold_recovery_train[good_gold_recovery_train['rougher.output.recovery'] == 0].index)\n",
    "good_gold_recovery_train[good_gold_recovery_train['rougher.output.recovery'] < 1].head()"
   ]
  },
  {
   "cell_type": "code",
   "execution_count": 242,
   "metadata": {},
   "outputs": [
    {
     "data": {
      "image/png": "[encoded data removed]",
      "text/plain": [
       "<Figure size 864x648 with 1 Axes>"
      ]
     },
     "metadata": {
      "needs_background": "light"
     },
     "output_type": "display_data"
    }
   ],
   "source": [
    "plt.figure(figsize=[12,9])\n",
    "\n",
    "plt.hist(good_gold_recovery_train['final.output.recovery'], bins=100)\n",
    "\n",
    "plt.xlim([0, 100])\n",
    "plt.ylim([0, 1000])\n",
    "\n",
    "plt.xlabel(\"Эффективность обогащения финального концентрата \")\n",
    "plt.ylabel(\"Количество результатов\")\n",
    "\n",
    "plt.title(\"Гистограмма распределения по эффективности обогащения\")\n",
    "plt.show()"
   ]
  },
  {
   "cell_type": "code",
   "execution_count": 243,
   "metadata": {},
   "outputs": [
    {
     "data": {
      "text/html": [
       "<div>\n",
       "<style scoped>\n",
       "    .dataframe tbody tr th:only-of-type {\n",
       "        vertical-align: middle;\n",
       "    }\n",
       "\n",
       "    .dataframe tbody tr th {\n",
       "        vertical-align: top;\n",
       "    }\n",
       "\n",
       "    .dataframe thead th {\n",
       "        text-align: right;\n",
       "    }\n",
       "</style>\n",
       "<table border=\"1\" class=\"dataframe\">\n",
       "  <thead>\n",
       "    <tr style=\"text-align: right;\">\n",
       "      <th></th>\n",
       "      <th>date</th>\n",
       "      <th>final.output.concentrate_ag</th>\n",
       "      <th>final.output.concentrate_pb</th>\n",
       "      <th>final.output.concentrate_sol</th>\n",
       "      <th>final.output.concentrate_au</th>\n",
       "      <th>final.output.recovery</th>\n",
       "      <th>final.output.tail_ag</th>\n",
       "      <th>final.output.tail_pb</th>\n",
       "      <th>final.output.tail_sol</th>\n",
       "      <th>final.output.tail_au</th>\n",
       "      <th>...</th>\n",
       "      <th>secondary_cleaner.state.floatbank4_a_air</th>\n",
       "      <th>secondary_cleaner.state.floatbank4_a_level</th>\n",
       "      <th>secondary_cleaner.state.floatbank4_b_air</th>\n",
       "      <th>secondary_cleaner.state.floatbank4_b_level</th>\n",
       "      <th>secondary_cleaner.state.floatbank5_a_air</th>\n",
       "      <th>secondary_cleaner.state.floatbank5_a_level</th>\n",
       "      <th>secondary_cleaner.state.floatbank5_b_air</th>\n",
       "      <th>secondary_cleaner.state.floatbank5_b_level</th>\n",
       "      <th>secondary_cleaner.state.floatbank6_a_air</th>\n",
       "      <th>secondary_cleaner.state.floatbank6_a_level</th>\n",
       "    </tr>\n",
       "  </thead>\n",
       "  <tbody>\n",
       "    <tr>\n",
       "      <th>707</th>\n",
       "      <td>2016-02-13 11:00:00</td>\n",
       "      <td>0.0</td>\n",
       "      <td>0.0</td>\n",
       "      <td>0.0</td>\n",
       "      <td>0.0</td>\n",
       "      <td>0.0</td>\n",
       "      <td>8.894029</td>\n",
       "      <td>0.843584</td>\n",
       "      <td>15.417342</td>\n",
       "      <td>1.779052</td>\n",
       "      <td>...</td>\n",
       "      <td>21.991762</td>\n",
       "      <td>-399.587122</td>\n",
       "      <td>21.988937</td>\n",
       "      <td>-401.366408</td>\n",
       "      <td>22.995012</td>\n",
       "      <td>-399.370680</td>\n",
       "      <td>20.966863</td>\n",
       "      <td>-399.308354</td>\n",
       "      <td>24.987274</td>\n",
       "      <td>-399.619808</td>\n",
       "    </tr>\n",
       "    <tr>\n",
       "      <th>1354</th>\n",
       "      <td>2016-03-11 10:00:00</td>\n",
       "      <td>0.0</td>\n",
       "      <td>0.0</td>\n",
       "      <td>0.0</td>\n",
       "      <td>0.0</td>\n",
       "      <td>0.0</td>\n",
       "      <td>10.817313</td>\n",
       "      <td>1.462800</td>\n",
       "      <td>16.407607</td>\n",
       "      <td>2.984504</td>\n",
       "      <td>...</td>\n",
       "      <td>11.979352</td>\n",
       "      <td>-453.431061</td>\n",
       "      <td>12.003445</td>\n",
       "      <td>-450.179844</td>\n",
       "      <td>11.982937</td>\n",
       "      <td>-449.856468</td>\n",
       "      <td>9.927727</td>\n",
       "      <td>-450.521700</td>\n",
       "      <td>19.971682</td>\n",
       "      <td>-500.685521</td>\n",
       "    </tr>\n",
       "    <tr>\n",
       "      <th>1355</th>\n",
       "      <td>2016-03-11 11:00:00</td>\n",
       "      <td>0.0</td>\n",
       "      <td>0.0</td>\n",
       "      <td>0.0</td>\n",
       "      <td>0.0</td>\n",
       "      <td>0.0</td>\n",
       "      <td>10.436792</td>\n",
       "      <td>1.207636</td>\n",
       "      <td>17.800392</td>\n",
       "      <td>2.747294</td>\n",
       "      <td>...</td>\n",
       "      <td>12.034636</td>\n",
       "      <td>-446.590944</td>\n",
       "      <td>12.130405</td>\n",
       "      <td>-449.684812</td>\n",
       "      <td>11.844983</td>\n",
       "      <td>-450.881424</td>\n",
       "      <td>9.916784</td>\n",
       "      <td>-449.542871</td>\n",
       "      <td>20.004767</td>\n",
       "      <td>-500.137068</td>\n",
       "    </tr>\n",
       "    <tr>\n",
       "      <th>1356</th>\n",
       "      <td>2016-03-11 12:00:00</td>\n",
       "      <td>0.0</td>\n",
       "      <td>0.0</td>\n",
       "      <td>0.0</td>\n",
       "      <td>0.0</td>\n",
       "      <td>0.0</td>\n",
       "      <td>10.637073</td>\n",
       "      <td>1.405778</td>\n",
       "      <td>17.195897</td>\n",
       "      <td>2.791440</td>\n",
       "      <td>...</td>\n",
       "      <td>12.016716</td>\n",
       "      <td>-496.613149</td>\n",
       "      <td>12.055535</td>\n",
       "      <td>-496.908551</td>\n",
       "      <td>12.091144</td>\n",
       "      <td>-496.404140</td>\n",
       "      <td>9.976074</td>\n",
       "      <td>-496.783155</td>\n",
       "      <td>19.921634</td>\n",
       "      <td>-500.769011</td>\n",
       "    </tr>\n",
       "    <tr>\n",
       "      <th>1357</th>\n",
       "      <td>2016-03-11 13:00:00</td>\n",
       "      <td>0.0</td>\n",
       "      <td>0.0</td>\n",
       "      <td>0.0</td>\n",
       "      <td>0.0</td>\n",
       "      <td>0.0</td>\n",
       "      <td>10.530320</td>\n",
       "      <td>1.461550</td>\n",
       "      <td>17.556860</td>\n",
       "      <td>2.682127</td>\n",
       "      <td>...</td>\n",
       "      <td>11.993898</td>\n",
       "      <td>-500.427824</td>\n",
       "      <td>12.083824</td>\n",
       "      <td>-500.162537</td>\n",
       "      <td>12.078809</td>\n",
       "      <td>-499.903743</td>\n",
       "      <td>10.075259</td>\n",
       "      <td>-499.540325</td>\n",
       "      <td>20.039788</td>\n",
       "      <td>-499.932405</td>\n",
       "    </tr>\n",
       "  </tbody>\n",
       "</table>\n",
       "<p>5 rows × 87 columns</p>\n",
       "</div>"
      ],
      "text/plain": [
       "                     date  final.output.concentrate_ag  \\\n",
       "707   2016-02-13 11:00:00                          0.0   \n",
       "1354  2016-03-11 10:00:00                          0.0   \n",
       "1355  2016-03-11 11:00:00                          0.0   \n",
       "1356  2016-03-11 12:00:00                          0.0   \n",
       "1357  2016-03-11 13:00:00                          0.0   \n",
       "\n",
       "      final.output.concentrate_pb  final.output.concentrate_sol  \\\n",
       "707                           0.0                           0.0   \n",
       "1354                          0.0                           0.0   \n",
       "1355                          0.0                           0.0   \n",
       "1356                          0.0                           0.0   \n",
       "1357                          0.0                           0.0   \n",
       "\n",
       "      final.output.concentrate_au  final.output.recovery  \\\n",
       "707                           0.0                    0.0   \n",
       "1354                          0.0                    0.0   \n",
       "1355                          0.0                    0.0   \n",
       "1356                          0.0                    0.0   \n",
       "1357                          0.0                    0.0   \n",
       "\n",
       "      final.output.tail_ag  final.output.tail_pb  final.output.tail_sol  \\\n",
       "707               8.894029              0.843584              15.417342   \n",
       "1354             10.817313              1.462800              16.407607   \n",
       "1355             10.436792              1.207636              17.800392   \n",
       "1356             10.637073              1.405778              17.195897   \n",
       "1357             10.530320              1.461550              17.556860   \n",
       "\n",
       "      final.output.tail_au  ...  secondary_cleaner.state.floatbank4_a_air  \\\n",
       "707               1.779052  ...                                 21.991762   \n",
       "1354              2.984504  ...                                 11.979352   \n",
       "1355              2.747294  ...                                 12.034636   \n",
       "1356              2.791440  ...                                 12.016716   \n",
       "1357              2.682127  ...                                 11.993898   \n",
       "\n",
       "      secondary_cleaner.state.floatbank4_a_level  \\\n",
       "707                                  -399.587122   \n",
       "1354                                 -453.431061   \n",
       "1355                                 -446.590944   \n",
       "1356                                 -496.613149   \n",
       "1357                                 -500.427824   \n",
       "\n",
       "      secondary_cleaner.state.floatbank4_b_air  \\\n",
       "707                                  21.988937   \n",
       "1354                                 12.003445   \n",
       "1355                                 12.130405   \n",
       "1356                                 12.055535   \n",
       "1357                                 12.083824   \n",
       "\n",
       "      secondary_cleaner.state.floatbank4_b_level  \\\n",
       "707                                  -401.366408   \n",
       "1354                                 -450.179844   \n",
       "1355                                 -449.684812   \n",
       "1356                                 -496.908551   \n",
       "1357                                 -500.162537   \n",
       "\n",
       "      secondary_cleaner.state.floatbank5_a_air  \\\n",
       "707                                  22.995012   \n",
       "1354                                 11.982937   \n",
       "1355                                 11.844983   \n",
       "1356                                 12.091144   \n",
       "1357                                 12.078809   \n",
       "\n",
       "      secondary_cleaner.state.floatbank5_a_level  \\\n",
       "707                                  -399.370680   \n",
       "1354                                 -449.856468   \n",
       "1355                                 -450.881424   \n",
       "1356                                 -496.404140   \n",
       "1357                                 -499.903743   \n",
       "\n",
       "      secondary_cleaner.state.floatbank5_b_air  \\\n",
       "707                                  20.966863   \n",
       "1354                                  9.927727   \n",
       "1355                                  9.916784   \n",
       "1356                                  9.976074   \n",
       "1357                                 10.075259   \n",
       "\n",
       "      secondary_cleaner.state.floatbank5_b_level  \\\n",
       "707                                  -399.308354   \n",
       "1354                                 -450.521700   \n",
       "1355                                 -449.542871   \n",
       "1356                                 -496.783155   \n",
       "1357                                 -499.540325   \n",
       "\n",
       "      secondary_cleaner.state.floatbank6_a_air  \\\n",
       "707                                  24.987274   \n",
       "1354                                 19.971682   \n",
       "1355                                 20.004767   \n",
       "1356                                 19.921634   \n",
       "1357                                 20.039788   \n",
       "\n",
       "      secondary_cleaner.state.floatbank6_a_level  \n",
       "707                                  -399.619808  \n",
       "1354                                 -500.685521  \n",
       "1355                                 -500.137068  \n",
       "1356                                 -500.769011  \n",
       "1357                                 -499.932405  \n",
       "\n",
       "[5 rows x 87 columns]"
      ]
     },
     "execution_count": 243,
     "metadata": {},
     "output_type": "execute_result"
    }
   ],
   "source": [
    "good_gold_recovery_train[good_gold_recovery_train['final.output.recovery'] < 1].head()"
   ]
  },
  {
   "cell_type": "code",
   "execution_count": 244,
   "metadata": {},
   "outputs": [
    {
     "data": {
      "text/html": [
       "<div>\n",
       "<style scoped>\n",
       "    .dataframe tbody tr th:only-of-type {\n",
       "        vertical-align: middle;\n",
       "    }\n",
       "\n",
       "    .dataframe tbody tr th {\n",
       "        vertical-align: top;\n",
       "    }\n",
       "\n",
       "    .dataframe thead th {\n",
       "        text-align: right;\n",
       "    }\n",
       "</style>\n",
       "<table border=\"1\" class=\"dataframe\">\n",
       "  <thead>\n",
       "    <tr style=\"text-align: right;\">\n",
       "      <th></th>\n",
       "      <th>date</th>\n",
       "      <th>final.output.concentrate_ag</th>\n",
       "      <th>final.output.concentrate_pb</th>\n",
       "      <th>final.output.concentrate_sol</th>\n",
       "      <th>final.output.concentrate_au</th>\n",
       "      <th>final.output.recovery</th>\n",
       "      <th>final.output.tail_ag</th>\n",
       "      <th>final.output.tail_pb</th>\n",
       "      <th>final.output.tail_sol</th>\n",
       "      <th>final.output.tail_au</th>\n",
       "      <th>...</th>\n",
       "      <th>secondary_cleaner.state.floatbank4_a_air</th>\n",
       "      <th>secondary_cleaner.state.floatbank4_a_level</th>\n",
       "      <th>secondary_cleaner.state.floatbank4_b_air</th>\n",
       "      <th>secondary_cleaner.state.floatbank4_b_level</th>\n",
       "      <th>secondary_cleaner.state.floatbank5_a_air</th>\n",
       "      <th>secondary_cleaner.state.floatbank5_a_level</th>\n",
       "      <th>secondary_cleaner.state.floatbank5_b_air</th>\n",
       "      <th>secondary_cleaner.state.floatbank5_b_level</th>\n",
       "      <th>secondary_cleaner.state.floatbank6_a_air</th>\n",
       "      <th>secondary_cleaner.state.floatbank6_a_level</th>\n",
       "    </tr>\n",
       "  </thead>\n",
       "  <tbody>\n",
       "  </tbody>\n",
       "</table>\n",
       "<p>0 rows × 87 columns</p>\n",
       "</div>"
      ],
      "text/plain": [
       "Empty DataFrame\n",
       "Columns: [date, final.output.concentrate_ag, final.output.concentrate_pb, final.output.concentrate_sol, final.output.concentrate_au, final.output.recovery, final.output.tail_ag, final.output.tail_pb, final.output.tail_sol, final.output.tail_au, primary_cleaner.input.sulfate, primary_cleaner.input.depressant, primary_cleaner.input.feed_size, primary_cleaner.input.xanthate, primary_cleaner.output.concentrate_ag, primary_cleaner.output.concentrate_pb, primary_cleaner.output.concentrate_sol, primary_cleaner.output.concentrate_au, primary_cleaner.output.tail_ag, primary_cleaner.output.tail_pb, primary_cleaner.output.tail_sol, primary_cleaner.output.tail_au, primary_cleaner.state.floatbank8_a_air, primary_cleaner.state.floatbank8_a_level, primary_cleaner.state.floatbank8_b_air, primary_cleaner.state.floatbank8_b_level, primary_cleaner.state.floatbank8_c_air, primary_cleaner.state.floatbank8_c_level, primary_cleaner.state.floatbank8_d_air, primary_cleaner.state.floatbank8_d_level, rougher.calculation.sulfate_to_au_concentrate, rougher.calculation.floatbank10_sulfate_to_au_feed, rougher.calculation.floatbank11_sulfate_to_au_feed, rougher.calculation.au_pb_ratio, rougher.input.feed_ag, rougher.input.feed_pb, rougher.input.feed_rate, rougher.input.feed_size, rougher.input.feed_sol, rougher.input.feed_au, rougher.input.floatbank10_sulfate, rougher.input.floatbank10_xanthate, rougher.input.floatbank11_sulfate, rougher.input.floatbank11_xanthate, rougher.output.concentrate_ag, rougher.output.concentrate_pb, rougher.output.concentrate_sol, rougher.output.concentrate_au, rougher.output.recovery, rougher.output.tail_ag, rougher.output.tail_pb, rougher.output.tail_sol, rougher.output.tail_au, rougher.state.floatbank10_a_air, rougher.state.floatbank10_a_level, rougher.state.floatbank10_b_air, rougher.state.floatbank10_b_level, rougher.state.floatbank10_c_air, rougher.state.floatbank10_c_level, rougher.state.floatbank10_d_air, rougher.state.floatbank10_d_level, rougher.state.floatbank10_e_air, rougher.state.floatbank10_e_level, rougher.state.floatbank10_f_air, rougher.state.floatbank10_f_level, secondary_cleaner.output.tail_ag, secondary_cleaner.output.tail_pb, secondary_cleaner.output.tail_sol, secondary_cleaner.output.tail_au, secondary_cleaner.state.floatbank2_a_air, secondary_cleaner.state.floatbank2_a_level, secondary_cleaner.state.floatbank2_b_air, secondary_cleaner.state.floatbank2_b_level, secondary_cleaner.state.floatbank3_a_air, secondary_cleaner.state.floatbank3_a_level, secondary_cleaner.state.floatbank3_b_air, secondary_cleaner.state.floatbank3_b_level, secondary_cleaner.state.floatbank4_a_air, secondary_cleaner.state.floatbank4_a_level, secondary_cleaner.state.floatbank4_b_air, secondary_cleaner.state.floatbank4_b_level, secondary_cleaner.state.floatbank5_a_air, secondary_cleaner.state.floatbank5_a_level, secondary_cleaner.state.floatbank5_b_air, secondary_cleaner.state.floatbank5_b_level, secondary_cleaner.state.floatbank6_a_air, secondary_cleaner.state.floatbank6_a_level]\n",
       "Index: []\n",
       "\n",
       "[0 rows x 87 columns]"
      ]
     },
     "execution_count": 244,
     "metadata": {},
     "output_type": "execute_result"
    }
   ],
   "source": [
    "good_gold_recovery_train = good_gold_recovery_train.drop(good_gold_recovery_train[good_gold_recovery_train['final.output.recovery'] == 0].index)\n",
    "good_gold_recovery_train[good_gold_recovery_train['final.output.recovery'] < 1].head()"
   ]
  },
  {
   "cell_type": "code",
   "execution_count": 245,
   "metadata": {},
   "outputs": [
    {
     "name": "stdout",
     "output_type": "stream",
     "text": [
      "<class 'pandas.core.frame.DataFrame'>\n",
      "Int64Index: 10784 entries, 0 to 16859\n",
      "Data columns (total 87 columns):\n",
      " #   Column                                              Non-Null Count  Dtype  \n",
      "---  ------                                              --------------  -----  \n",
      " 0   date                                                10784 non-null  object \n",
      " 1   final.output.concentrate_ag                         10784 non-null  float64\n",
      " 2   final.output.concentrate_pb                         10784 non-null  float64\n",
      " 3   final.output.concentrate_sol                        10784 non-null  float64\n",
      " 4   final.output.concentrate_au                         10784 non-null  float64\n",
      " 5   final.output.recovery                               10784 non-null  float64\n",
      " 6   final.output.tail_ag                                10784 non-null  float64\n",
      " 7   final.output.tail_pb                                10784 non-null  float64\n",
      " 8   final.output.tail_sol                               10784 non-null  float64\n",
      " 9   final.output.tail_au                                10784 non-null  float64\n",
      " 10  primary_cleaner.input.sulfate                       10784 non-null  float64\n",
      " 11  primary_cleaner.input.depressant                    10784 non-null  float64\n",
      " 12  primary_cleaner.input.feed_size                     10784 non-null  float64\n",
      " 13  primary_cleaner.input.xanthate                      10784 non-null  float64\n",
      " 14  primary_cleaner.output.concentrate_ag               10784 non-null  float64\n",
      " 15  primary_cleaner.output.concentrate_pb               10784 non-null  float64\n",
      " 16  primary_cleaner.output.concentrate_sol              10784 non-null  float64\n",
      " 17  primary_cleaner.output.concentrate_au               10784 non-null  float64\n",
      " 18  primary_cleaner.output.tail_ag                      10784 non-null  float64\n",
      " 19  primary_cleaner.output.tail_pb                      10784 non-null  float64\n",
      " 20  primary_cleaner.output.tail_sol                     10784 non-null  float64\n",
      " 21  primary_cleaner.output.tail_au                      10784 non-null  float64\n",
      " 22  primary_cleaner.state.floatbank8_a_air              10784 non-null  float64\n",
      " 23  primary_cleaner.state.floatbank8_a_level            10784 non-null  float64\n",
      " 24  primary_cleaner.state.floatbank8_b_air              10784 non-null  float64\n",
      " 25  primary_cleaner.state.floatbank8_b_level            10784 non-null  float64\n",
      " 26  primary_cleaner.state.floatbank8_c_air              10784 non-null  float64\n",
      " 27  primary_cleaner.state.floatbank8_c_level            10784 non-null  float64\n",
      " 28  primary_cleaner.state.floatbank8_d_air              10784 non-null  float64\n",
      " 29  primary_cleaner.state.floatbank8_d_level            10784 non-null  float64\n",
      " 30  rougher.calculation.sulfate_to_au_concentrate       10784 non-null  float64\n",
      " 31  rougher.calculation.floatbank10_sulfate_to_au_feed  10784 non-null  float64\n",
      " 32  rougher.calculation.floatbank11_sulfate_to_au_feed  10784 non-null  float64\n",
      " 33  rougher.calculation.au_pb_ratio                     10784 non-null  float64\n",
      " 34  rougher.input.feed_ag                               10784 non-null  float64\n",
      " 35  rougher.input.feed_pb                               10784 non-null  float64\n",
      " 36  rougher.input.feed_rate                             10784 non-null  float64\n",
      " 37  rougher.input.feed_size                             10784 non-null  float64\n",
      " 38  rougher.input.feed_sol                              10784 non-null  float64\n",
      " 39  rougher.input.feed_au                               10784 non-null  float64\n",
      " 40  rougher.input.floatbank10_sulfate                   10784 non-null  float64\n",
      " 41  rougher.input.floatbank10_xanthate                  10784 non-null  float64\n",
      " 42  rougher.input.floatbank11_sulfate                   10784 non-null  float64\n",
      " 43  rougher.input.floatbank11_xanthate                  10784 non-null  float64\n",
      " 44  rougher.output.concentrate_ag                       10784 non-null  float64\n",
      " 45  rougher.output.concentrate_pb                       10784 non-null  float64\n",
      " 46  rougher.output.concentrate_sol                      10784 non-null  float64\n",
      " 47  rougher.output.concentrate_au                       10784 non-null  float64\n",
      " 48  rougher.output.recovery                             10784 non-null  float64\n",
      " 49  rougher.output.tail_ag                              10784 non-null  float64\n",
      " 50  rougher.output.tail_pb                              10784 non-null  float64\n",
      " 51  rougher.output.tail_sol                             10784 non-null  float64\n",
      " 52  rougher.output.tail_au                              10784 non-null  float64\n",
      " 53  rougher.state.floatbank10_a_air                     10784 non-null  float64\n",
      " 54  rougher.state.floatbank10_a_level                   10784 non-null  float64\n",
      " 55  rougher.state.floatbank10_b_air                     10784 non-null  float64\n",
      " 56  rougher.state.floatbank10_b_level                   10784 non-null  float64\n",
      " 57  rougher.state.floatbank10_c_air                     10784 non-null  float64\n",
      " 58  rougher.state.floatbank10_c_level                   10784 non-null  float64\n",
      " 59  rougher.state.floatbank10_d_air                     10784 non-null  float64\n",
      " 60  rougher.state.floatbank10_d_level                   10784 non-null  float64\n",
      " 61  rougher.state.floatbank10_e_air                     10784 non-null  float64\n",
      " 62  rougher.state.floatbank10_e_level                   10784 non-null  float64\n",
      " 63  rougher.state.floatbank10_f_air                     10784 non-null  float64\n",
      " 64  rougher.state.floatbank10_f_level                   10784 non-null  float64\n",
      " 65  secondary_cleaner.output.tail_ag                    10784 non-null  float64\n",
      " 66  secondary_cleaner.output.tail_pb                    10784 non-null  float64\n",
      " 67  secondary_cleaner.output.tail_sol                   10784 non-null  float64\n",
      " 68  secondary_cleaner.output.tail_au                    10784 non-null  float64\n",
      " 69  secondary_cleaner.state.floatbank2_a_air            10784 non-null  float64\n",
      " 70  secondary_cleaner.state.floatbank2_a_level          10784 non-null  float64\n",
      " 71  secondary_cleaner.state.floatbank2_b_air            10784 non-null  float64\n",
      " 72  secondary_cleaner.state.floatbank2_b_level          10784 non-null  float64\n",
      " 73  secondary_cleaner.state.floatbank3_a_air            10784 non-null  float64\n",
      " 74  secondary_cleaner.state.floatbank3_a_level          10784 non-null  float64\n",
      " 75  secondary_cleaner.state.floatbank3_b_air            10784 non-null  float64\n",
      " 76  secondary_cleaner.state.floatbank3_b_level          10784 non-null  float64\n",
      " 77  secondary_cleaner.state.floatbank4_a_air            10784 non-null  float64\n",
      " 78  secondary_cleaner.state.floatbank4_a_level          10784 non-null  float64\n",
      " 79  secondary_cleaner.state.floatbank4_b_air            10784 non-null  float64\n",
      " 80  secondary_cleaner.state.floatbank4_b_level          10784 non-null  float64\n",
      " 81  secondary_cleaner.state.floatbank5_a_air            10784 non-null  float64\n",
      " 82  secondary_cleaner.state.floatbank5_a_level          10784 non-null  float64\n",
      " 83  secondary_cleaner.state.floatbank5_b_air            10784 non-null  float64\n",
      " 84  secondary_cleaner.state.floatbank5_b_level          10784 non-null  float64\n",
      " 85  secondary_cleaner.state.floatbank6_a_air            10784 non-null  float64\n",
      " 86  secondary_cleaner.state.floatbank6_a_level          10784 non-null  float64\n",
      "dtypes: float64(86), object(1)\n",
      "memory usage: 7.2+ MB\n"
     ]
    }
   ],
   "source": [
    "good_gold_recovery_train.info()"
   ]
  },
  {
   "cell_type": "markdown",
   "metadata": {},
   "source": [
    "Проверю есть ли нулевые значения в primary_cleaner.output и secondary_cleaner.output."
   ]
  },
  {
   "cell_type": "code",
   "execution_count": 246,
   "metadata": {},
   "outputs": [
    {
     "data": {
      "text/plain": [
       "109"
      ]
     },
     "execution_count": 246,
     "metadata": {},
     "output_type": "execute_result"
    }
   ],
   "source": [
    "good_gold_recovery_train[good_gold_recovery_train['primary_cleaner.output.concentrate_au'] < 1]['primary_cleaner.output.concentrate_au'].count()"
   ]
  },
  {
   "cell_type": "code",
   "execution_count": 247,
   "metadata": {},
   "outputs": [
    {
     "data": {
      "text/plain": [
       "426"
      ]
     },
     "execution_count": 247,
     "metadata": {},
     "output_type": "execute_result"
    }
   ],
   "source": [
    "good_gold_recovery_train[good_gold_recovery_train['secondary_cleaner.output.tail_au'] < 1]['secondary_cleaner.output.tail_au'].count()"
   ]
  },
  {
   "cell_type": "markdown",
   "metadata": {},
   "source": [
    "По данным этапам тоже присутвуют нулевые значения. Но так как они не являются целью модели и не входят в список столбцов обучающей модели, оставим их без изменения."
   ]
  },
  {
   "cell_type": "markdown",
   "metadata": {},
   "source": [
    "**Вывод**\n",
    "\n",
    "В данных присутвовали аномалии:\n",
    "\n",
    "- Пропущенные значение;\n",
    "- Нулевые значения на ключевых этапах;\n",
    "- Неподходящие данные были удалены. Возможно не были сняты данные по выбранным этапам или они еще не были получены в результате работы системы.\n",
    "\n",
    "Данные готовы к дальнейшему анализу."
   ]
  },
  {
   "cell_type": "markdown",
   "metadata": {},
   "source": [
    "## Анализ данных"
   ]
  },
  {
   "cell_type": "markdown",
   "metadata": {},
   "source": [
    "Визуализирую и посмотрю концентрацию веществ на каждом этапе."
   ]
  },
  {
   "cell_type": "code",
   "execution_count": 248,
   "metadata": {},
   "outputs": [
    {
     "data": {
      "image/png": "[encoded data removed]",
      "text/plain": [
       "<Figure size 864x648 with 1 Axes>"
      ]
     },
     "metadata": {
      "needs_background": "light"
     },
     "output_type": "display_data"
    }
   ],
   "source": [
    "plt.figure(figsize=[12,9])\n",
    "    \n",
    "plt.hist(good_gold_recovery_train['rougher.input.feed_au'], bins=100, label = 'Сырьё', alpha=.5)\n",
    "plt.hist(good_gold_recovery_train['rougher.output.concentrate_au'], bins=100, label = 'Черновой концентрат', alpha=.5)\n",
    "plt.hist(good_gold_recovery_train['primary_cleaner.output.concentrate_au'], bins=100, label = 'Первый этап очистки',\n",
    "         alpha=.5)\n",
    "plt.hist(good_gold_recovery_train['final.output.concentrate_au'], bins=100, label = 'Финальный концентрат', alpha=.5)\n",
    "    \n",
    "    \n",
    "plt.xlim([0, 55])\n",
    "plt.ylim([0, 1000])\n",
    "    \n",
    "plt.xlabel('Концентрация золота на выходе на каждом этапе')\n",
    "plt.ylabel('Количество результатов')\n",
    "    \n",
    "plt.legend(loc='upper left', fontsize='x-large')\n",
    "    \n",
    "plt.title('Гистограмма распределения концентрации золота', fontsize=15)\n",
    "plt.show()"
   ]
  },
  {
   "cell_type": "markdown",
   "metadata": {},
   "source": [
    "Концентрация золота повышается с каждым этапом. Цель флотации и очисток - увеличить концентрацию золота."
   ]
  },
  {
   "cell_type": "code",
   "execution_count": 249,
   "metadata": {},
   "outputs": [
    {
     "data": {
      "image/png": "[encoded data removed]",
      "text/plain": [
       "<Figure size 864x648 with 1 Axes>"
      ]
     },
     "metadata": {
      "needs_background": "light"
     },
     "output_type": "display_data"
    }
   ],
   "source": [
    "plt.figure(figsize=[12,9])\n",
    "    \n",
    "plt.hist(good_gold_recovery_train['rougher.input.feed_ag'], bins=100, label = 'Сырьё', alpha=.5)\n",
    "plt.hist(good_gold_recovery_train['rougher.output.concentrate_ag'], bins=100, label = 'Черновой концентрат', alpha=.5)\n",
    "plt.hist(good_gold_recovery_train['primary_cleaner.output.concentrate_ag'], bins=100, label = 'Первый этап очистки',\n",
    "         alpha=.5)\n",
    "plt.hist(good_gold_recovery_train['final.output.concentrate_ag'], bins=100, label = 'Финальный концентрат', alpha=.5)\n",
    "    \n",
    "    \n",
    "plt.xlim([0, 25])\n",
    "plt.ylim([0, 600])\n",
    "    \n",
    "plt.xlabel('Концентрация серебра на выходе на каждом этапе')\n",
    "plt.ylabel('Количество результатов')\n",
    "    \n",
    "plt.legend(loc='upper left', fontsize='x-large')\n",
    "    \n",
    "plt.title('Гистограмма распределения концентрации серебра', fontsize=15)\n",
    "plt.show()"
   ]
  },
  {
   "cell_type": "markdown",
   "metadata": {},
   "source": [
    "Конецентрация серебра понижается с каждым шагом очистки. Так как основным металом является золото, то остальные металлы и соединения должны быть отфильтрованы и их значение снижено."
   ]
  },
  {
   "cell_type": "code",
   "execution_count": 250,
   "metadata": {},
   "outputs": [
    {
     "data": {
      "image/png": "[encoded data removed]",
      "text/plain": [
       "<Figure size 864x648 with 1 Axes>"
      ]
     },
     "metadata": {
      "needs_background": "light"
     },
     "output_type": "display_data"
    }
   ],
   "source": [
    "plt.figure(figsize=[12,9])\n",
    "    \n",
    "plt.hist(good_gold_recovery_train['rougher.input.feed_pb'], bins=100, label = 'Сырьё', alpha=.5)\n",
    "plt.hist(good_gold_recovery_train['rougher.output.concentrate_pb'], bins=100, label = 'Черновой концентрат', alpha=.5)\n",
    "plt.hist(good_gold_recovery_train['primary_cleaner.output.concentrate_pb'], bins=100, label = 'Первый этап очистки',\n",
    "         alpha=.5)\n",
    "plt.hist(good_gold_recovery_train['final.output.concentrate_pb'], bins=100, label = 'Финальный концентрат', alpha=.5)\n",
    "    \n",
    "    \n",
    "plt.xlim([0, 20])\n",
    "plt.ylim([0, 600])\n",
    "    \n",
    "plt.xlabel('Концентрация свинца на выходе на каждом этапе')\n",
    "plt.ylabel('Количество результатов')\n",
    "    \n",
    "plt.legend(loc='upper left', fontsize='x-large')\n",
    "    \n",
    "plt.title('Гистограмма распределения концентрации свинца', fontsize=15)\n",
    "plt.show()"
   ]
  },
  {
   "cell_type": "markdown",
   "metadata": {},
   "source": [
    "Концентрация свинца повышается с этапа rougher до primary_cleaner. И потом усредняется. Это связано с химическим процесами очищения золота. При использование азотнокислого выщелачивания в концентрате образуется много сульфата свинца. Повышение концентрации свинца в целом происходит не только из-за этого процесса, но из-за очищения других составляющих из золотоносной руды."
   ]
  },
  {
   "cell_type": "markdown",
   "metadata": {},
   "source": [
    "Изучу размеры сырья на этапах обработки."
   ]
  },
  {
   "cell_type": "code",
   "execution_count": 251,
   "metadata": {},
   "outputs": [
    {
     "data": {
      "image/png": "[encoded data removed]",
      "text/plain": [
       "<Figure size 864x648 with 1 Axes>"
      ]
     },
     "metadata": {
      "needs_background": "light"
     },
     "output_type": "display_data"
    }
   ],
   "source": [
    "plt.figure(figsize=[12,9])\n",
    "\n",
    "plt.hist(good_gold_recovery_train['rougher.input.feed_size'], bins=200, label = 'Train rougher.input.feed_size', alpha=.5)\n",
    "plt.hist(good_gold_recovery_test['rougher.input.feed_size'], bins=200, label = 'Test rougher.input.feed_size', alpha=.5)\n",
    "\n",
    "plt.xlim([0, 500])\n",
    "plt.ylim([0, 1300])\n",
    "\n",
    "plt.xlabel(\"Размер гранул сырья\")\n",
    "plt.ylabel(\"Количество результатов\")\n",
    "\n",
    "plt.legend(loc='upper left', fontsize='x-large')\n",
    "\n",
    "plt.title(\"Гистограмма распределения гранул сырья перед флотацией\")\n",
    "plt.show()"
   ]
  },
  {
   "cell_type": "markdown",
   "metadata": {},
   "source": [
    "Распределение гранул до флотации похоже на нормальное со смещением влево как в обучающей, так и в тестовой выбрке. Существуют выбросы после размера гранул 100."
   ]
  },
  {
   "cell_type": "code",
   "execution_count": 252,
   "metadata": {},
   "outputs": [
    {
     "data": {
      "image/png": "[encoded data removed]",
      "text/plain": [
       "<Figure size 864x648 with 1 Axes>"
      ]
     },
     "metadata": {
      "needs_background": "light"
     },
     "output_type": "display_data"
    }
   ],
   "source": [
    "plt.figure(figsize=[12,9])\n",
    "\n",
    "plt.hist(good_gold_recovery_train['primary_cleaner.input.feed_size'], bins=100, label = 'Train primary_cleaner.input.feed_size', alpha=.5)\n",
    "plt.hist(good_gold_recovery_test['primary_cleaner.input.feed_size'], bins=100, label = 'Test primary_cleaner.input.feed_size', alpha=.5)\n",
    "\n",
    "plt.xlim([0, 16])\n",
    "plt.ylim([0, 1000])\n",
    "\n",
    "plt.xlabel(\"Размер гранул сырья\")\n",
    "plt.ylabel(\"Количество результатов\")\n",
    "\n",
    "plt.legend(loc='upper left', fontsize='x-large')\n",
    "\n",
    "plt.title(\"Гистограмма распределения гранул сырья перед первичной очисткой\")\n",
    "plt.show()"
   ]
  },
  {
   "cell_type": "markdown",
   "metadata": {},
   "source": [
    "Размеры гранул перед первичной очисткой обладают нормальным распределением."
   ]
  },
  {
   "cell_type": "markdown",
   "metadata": {},
   "source": [
    "Подготовлю столбцы с финальными концентрациями в обучающей выборке."
   ]
  },
  {
   "cell_type": "code",
   "execution_count": 253,
   "metadata": {},
   "outputs": [],
   "source": [
    "final_output_concentrate_sum_train = (good_gold_recovery_train['final.output.concentrate_au'] + \n",
    "                                      good_gold_recovery_train['final.output.concentrate_ag'] + \n",
    "                                      good_gold_recovery_train['final.output.concentrate_pb'] +\n",
    "                                      good_gold_recovery_train['final.output.concentrate_sol'])\n",
    "primary_cleaner_output_concentrate_sum_train = (good_gold_recovery_train['primary_cleaner.output.concentrate_au'] + \n",
    "                                                good_gold_recovery_train['primary_cleaner.output.concentrate_ag'] + \n",
    "                                                good_gold_recovery_train['primary_cleaner.output.concentrate_pb'] +\n",
    "                                                good_gold_recovery_train['primary_cleaner.output.concentrate_sol'])\n",
    "rougher_output_concentrate_sum_train = (good_gold_recovery_train['rougher.output.concentrate_au'] + \n",
    "                                        good_gold_recovery_train['rougher.output.concentrate_ag'] + \n",
    "                                        good_gold_recovery_train['rougher.output.concentrate_pb'] +\n",
    "                                        good_gold_recovery_train['rougher.output.concentrate_sol'])"
   ]
  },
  {
   "cell_type": "code",
   "execution_count": 254,
   "metadata": {
    "scrolled": false
   },
   "outputs": [
    {
     "data": {
      "image/png": "[encoded data removed]",
      "text/plain": [
       "<Figure size 864x648 with 1 Axes>"
      ]
     },
     "metadata": {
      "needs_background": "light"
     },
     "output_type": "display_data"
    }
   ],
   "source": [
    "plt.figure(figsize=[12,9])\n",
    "\n",
    "plt.hist(final_output_concentrate_sum_train, bins=100, label = 'final_output', alpha=.5)\n",
    "plt.hist(primary_cleaner_output_concentrate_sum_train, bins=100, label = 'primary_cleaner_output', alpha=.5)\n",
    "plt.hist(rougher_output_concentrate_sum_train, bins=100, label = 'rougher_output', alpha=.5)\n",
    "\n",
    "plt.xlim([0, 100])\n",
    "plt.ylim([0, 1500])\n",
    "\n",
    "plt.xlabel(\"Суммарная концентраця\")\n",
    "plt.ylabel(\"Количество результатов\")\n",
    "\n",
    "plt.legend(loc='upper left', fontsize='x-large')\n",
    "\n",
    "plt.title(\"Гистограмма распределения концентраций на разных этапах очистки\")\n",
    "plt.show()"
   ]
  },
  {
   "cell_type": "markdown",
   "metadata": {},
   "source": [
    "По графику видно, что из аномалий много значений в 0."
   ]
  },
  {
   "cell_type": "markdown",
   "metadata": {},
   "source": [
    "На этапе предобрабоки были найдены строки с нулевыми значениями в primary_cleaner.output. Эти же строки показывают суммарную концентрацию равную 0. Соответственно они являются аномалией. Удалю их."
   ]
  },
  {
   "cell_type": "code",
   "execution_count": 255,
   "metadata": {},
   "outputs": [
    {
     "data": {
      "text/html": [
       "<div>\n",
       "<style scoped>\n",
       "    .dataframe tbody tr th:only-of-type {\n",
       "        vertical-align: middle;\n",
       "    }\n",
       "\n",
       "    .dataframe tbody tr th {\n",
       "        vertical-align: top;\n",
       "    }\n",
       "\n",
       "    .dataframe thead th {\n",
       "        text-align: right;\n",
       "    }\n",
       "</style>\n",
       "<table border=\"1\" class=\"dataframe\">\n",
       "  <thead>\n",
       "    <tr style=\"text-align: right;\">\n",
       "      <th></th>\n",
       "      <th>date</th>\n",
       "      <th>final.output.concentrate_ag</th>\n",
       "      <th>final.output.concentrate_pb</th>\n",
       "      <th>final.output.concentrate_sol</th>\n",
       "      <th>final.output.concentrate_au</th>\n",
       "      <th>final.output.recovery</th>\n",
       "      <th>final.output.tail_ag</th>\n",
       "      <th>final.output.tail_pb</th>\n",
       "      <th>final.output.tail_sol</th>\n",
       "      <th>final.output.tail_au</th>\n",
       "      <th>...</th>\n",
       "      <th>secondary_cleaner.state.floatbank4_a_air</th>\n",
       "      <th>secondary_cleaner.state.floatbank4_a_level</th>\n",
       "      <th>secondary_cleaner.state.floatbank4_b_air</th>\n",
       "      <th>secondary_cleaner.state.floatbank4_b_level</th>\n",
       "      <th>secondary_cleaner.state.floatbank5_a_air</th>\n",
       "      <th>secondary_cleaner.state.floatbank5_a_level</th>\n",
       "      <th>secondary_cleaner.state.floatbank5_b_air</th>\n",
       "      <th>secondary_cleaner.state.floatbank5_b_level</th>\n",
       "      <th>secondary_cleaner.state.floatbank6_a_air</th>\n",
       "      <th>secondary_cleaner.state.floatbank6_a_level</th>\n",
       "    </tr>\n",
       "  </thead>\n",
       "  <tbody>\n",
       "  </tbody>\n",
       "</table>\n",
       "<p>0 rows × 87 columns</p>\n",
       "</div>"
      ],
      "text/plain": [
       "Empty DataFrame\n",
       "Columns: [date, final.output.concentrate_ag, final.output.concentrate_pb, final.output.concentrate_sol, final.output.concentrate_au, final.output.recovery, final.output.tail_ag, final.output.tail_pb, final.output.tail_sol, final.output.tail_au, primary_cleaner.input.sulfate, primary_cleaner.input.depressant, primary_cleaner.input.feed_size, primary_cleaner.input.xanthate, primary_cleaner.output.concentrate_ag, primary_cleaner.output.concentrate_pb, primary_cleaner.output.concentrate_sol, primary_cleaner.output.concentrate_au, primary_cleaner.output.tail_ag, primary_cleaner.output.tail_pb, primary_cleaner.output.tail_sol, primary_cleaner.output.tail_au, primary_cleaner.state.floatbank8_a_air, primary_cleaner.state.floatbank8_a_level, primary_cleaner.state.floatbank8_b_air, primary_cleaner.state.floatbank8_b_level, primary_cleaner.state.floatbank8_c_air, primary_cleaner.state.floatbank8_c_level, primary_cleaner.state.floatbank8_d_air, primary_cleaner.state.floatbank8_d_level, rougher.calculation.sulfate_to_au_concentrate, rougher.calculation.floatbank10_sulfate_to_au_feed, rougher.calculation.floatbank11_sulfate_to_au_feed, rougher.calculation.au_pb_ratio, rougher.input.feed_ag, rougher.input.feed_pb, rougher.input.feed_rate, rougher.input.feed_size, rougher.input.feed_sol, rougher.input.feed_au, rougher.input.floatbank10_sulfate, rougher.input.floatbank10_xanthate, rougher.input.floatbank11_sulfate, rougher.input.floatbank11_xanthate, rougher.output.concentrate_ag, rougher.output.concentrate_pb, rougher.output.concentrate_sol, rougher.output.concentrate_au, rougher.output.recovery, rougher.output.tail_ag, rougher.output.tail_pb, rougher.output.tail_sol, rougher.output.tail_au, rougher.state.floatbank10_a_air, rougher.state.floatbank10_a_level, rougher.state.floatbank10_b_air, rougher.state.floatbank10_b_level, rougher.state.floatbank10_c_air, rougher.state.floatbank10_c_level, rougher.state.floatbank10_d_air, rougher.state.floatbank10_d_level, rougher.state.floatbank10_e_air, rougher.state.floatbank10_e_level, rougher.state.floatbank10_f_air, rougher.state.floatbank10_f_level, secondary_cleaner.output.tail_ag, secondary_cleaner.output.tail_pb, secondary_cleaner.output.tail_sol, secondary_cleaner.output.tail_au, secondary_cleaner.state.floatbank2_a_air, secondary_cleaner.state.floatbank2_a_level, secondary_cleaner.state.floatbank2_b_air, secondary_cleaner.state.floatbank2_b_level, secondary_cleaner.state.floatbank3_a_air, secondary_cleaner.state.floatbank3_a_level, secondary_cleaner.state.floatbank3_b_air, secondary_cleaner.state.floatbank3_b_level, secondary_cleaner.state.floatbank4_a_air, secondary_cleaner.state.floatbank4_a_level, secondary_cleaner.state.floatbank4_b_air, secondary_cleaner.state.floatbank4_b_level, secondary_cleaner.state.floatbank5_a_air, secondary_cleaner.state.floatbank5_a_level, secondary_cleaner.state.floatbank5_b_air, secondary_cleaner.state.floatbank5_b_level, secondary_cleaner.state.floatbank6_a_air, secondary_cleaner.state.floatbank6_a_level]\n",
       "Index: []\n",
       "\n",
       "[0 rows x 87 columns]"
      ]
     },
     "execution_count": 255,
     "metadata": {},
     "output_type": "execute_result"
    }
   ],
   "source": [
    "good_gold_recovery_train = good_gold_recovery_train.drop(good_gold_recovery_train[good_gold_recovery_train['primary_cleaner.output.concentrate_au'] == 0].index)\n",
    "good_gold_recovery_train[good_gold_recovery_train['primary_cleaner.output.concentrate_au'] == 0].head()"
   ]
  },
  {
   "cell_type": "markdown",
   "metadata": {},
   "source": [
    "**Вывод**\n",
    "\n",
    "В результате анализа были изучены:\n",
    "\n",
    "- Концетрации основных веществ на разных этапах очистки.\n",
    "- Размер гранул тестовой и обучающей выборки.\n",
    "- Суммарная концентрация веществ.\n",
    "\n",
    "Аномалии были удалены. Данные подготовлены к обучению."
   ]
  },
  {
   "cell_type": "markdown",
   "metadata": {},
   "source": [
    "## Модель"
   ]
  },
  {
   "cell_type": "markdown",
   "metadata": {},
   "source": [
    "Создам разделение признаков для предсказания rougher.output.recovery и final.output.recovery."
   ]
  },
  {
   "cell_type": "code",
   "execution_count": 256,
   "metadata": {
    "scrolled": true
   },
   "outputs": [
    {
     "name": "stdout",
     "output_type": "stream",
     "text": [
      "{'final.output.concentrate_pb', 'primary_cleaner.output.concentrate_pb', 'primary_cleaner.output.tail_pb', 'rougher.output.concentrate_ag', 'rougher.output.tail_au', 'primary_cleaner.output.concentrate_ag', 'final.output.concentrate_au', 'rougher.output.concentrate_pb', 'final.output.concentrate_ag', 'rougher.output.tail_ag', 'rougher.output.concentrate_au', 'rougher.calculation.floatbank11_sulfate_to_au_feed', 'final.output.concentrate_sol', 'secondary_cleaner.output.tail_pb', 'rougher.calculation.floatbank10_sulfate_to_au_feed', 'secondary_cleaner.output.tail_sol', 'primary_cleaner.output.tail_au', 'rougher.output.tail_pb', 'secondary_cleaner.output.tail_ag', 'rougher.calculation.au_pb_ratio', 'primary_cleaner.output.concentrate_au', 'primary_cleaner.output.tail_ag', 'final.output.tail_au', 'final.output.tail_pb', 'rougher.output.recovery', 'primary_cleaner.output.concentrate_sol', 'rougher.calculation.sulfate_to_au_concentrate', 'rougher.output.concentrate_sol', 'rougher.output.tail_sol', 'primary_cleaner.output.tail_sol', 'final.output.recovery', 'date', 'final.output.tail_ag', 'final.output.tail_sol', 'secondary_cleaner.output.tail_au'}\n",
      "\n",
      "Index(['primary_cleaner.input.sulfate', 'primary_cleaner.input.depressant',\n",
      "       'primary_cleaner.input.feed_size', 'primary_cleaner.input.xanthate',\n",
      "       'primary_cleaner.state.floatbank8_a_air',\n",
      "       'primary_cleaner.state.floatbank8_a_level',\n",
      "       'primary_cleaner.state.floatbank8_b_air',\n",
      "       'primary_cleaner.state.floatbank8_b_level',\n",
      "       'primary_cleaner.state.floatbank8_c_air',\n",
      "       'primary_cleaner.state.floatbank8_c_level',\n",
      "       'primary_cleaner.state.floatbank8_d_air',\n",
      "       'primary_cleaner.state.floatbank8_d_level', 'rougher.input.feed_ag',\n",
      "       'rougher.input.feed_pb', 'rougher.input.feed_rate',\n",
      "       'rougher.input.feed_size', 'rougher.input.feed_sol',\n",
      "       'rougher.input.feed_au', 'rougher.input.floatbank10_sulfate',\n",
      "       'rougher.input.floatbank10_xanthate',\n",
      "       'rougher.input.floatbank11_sulfate',\n",
      "       'rougher.input.floatbank11_xanthate', 'rougher.state.floatbank10_a_air',\n",
      "       'rougher.state.floatbank10_a_level', 'rougher.state.floatbank10_b_air',\n",
      "       'rougher.state.floatbank10_b_level', 'rougher.state.floatbank10_c_air',\n",
      "       'rougher.state.floatbank10_c_level', 'rougher.state.floatbank10_d_air',\n",
      "       'rougher.state.floatbank10_d_level', 'rougher.state.floatbank10_e_air',\n",
      "       'rougher.state.floatbank10_e_level', 'rougher.state.floatbank10_f_air',\n",
      "       'rougher.state.floatbank10_f_level',\n",
      "       'secondary_cleaner.state.floatbank2_a_air',\n",
      "       'secondary_cleaner.state.floatbank2_a_level',\n",
      "       'secondary_cleaner.state.floatbank2_b_air',\n",
      "       'secondary_cleaner.state.floatbank2_b_level',\n",
      "       'secondary_cleaner.state.floatbank3_a_air',\n",
      "       'secondary_cleaner.state.floatbank3_a_level',\n",
      "       'secondary_cleaner.state.floatbank3_b_air',\n",
      "       'secondary_cleaner.state.floatbank3_b_level',\n",
      "       'secondary_cleaner.state.floatbank4_a_air',\n",
      "       'secondary_cleaner.state.floatbank4_a_level',\n",
      "       'secondary_cleaner.state.floatbank4_b_air',\n",
      "       'secondary_cleaner.state.floatbank4_b_level',\n",
      "       'secondary_cleaner.state.floatbank5_a_air',\n",
      "       'secondary_cleaner.state.floatbank5_a_level',\n",
      "       'secondary_cleaner.state.floatbank5_b_air',\n",
      "       'secondary_cleaner.state.floatbank5_b_level',\n",
      "       'secondary_cleaner.state.floatbank6_a_air',\n",
      "       'secondary_cleaner.state.floatbank6_a_level'],\n",
      "      dtype='object')\n",
      "set()\n",
      "{'secondary_cleaner.state.floatbank3_b_air', 'primary_cleaner.state.floatbank8_c_air', 'primary_cleaner.state.floatbank8_a_level', 'secondary_cleaner.state.floatbank3_a_air', 'primary_cleaner.state.floatbank8_b_air', 'primary_cleaner.input.depressant', 'secondary_cleaner.state.floatbank6_a_air', 'secondary_cleaner.state.floatbank4_a_level', 'secondary_cleaner.state.floatbank4_b_level', 'primary_cleaner.state.floatbank8_d_level', 'primary_cleaner.state.floatbank8_d_air', 'secondary_cleaner.state.floatbank4_b_air', 'primary_cleaner.state.floatbank8_c_level', 'secondary_cleaner.state.floatbank2_a_air', 'primary_cleaner.state.floatbank8_a_air', 'secondary_cleaner.state.floatbank3_a_level', 'secondary_cleaner.state.floatbank4_a_air', 'secondary_cleaner.state.floatbank3_b_level', 'secondary_cleaner.state.floatbank2_a_level', 'secondary_cleaner.state.floatbank6_a_level', 'secondary_cleaner.state.floatbank5_a_level', 'primary_cleaner.input.feed_size', 'secondary_cleaner.state.floatbank2_b_level', 'secondary_cleaner.state.floatbank5_b_level', 'primary_cleaner.input.xanthate', 'secondary_cleaner.state.floatbank5_b_air', 'secondary_cleaner.state.floatbank2_b_air', 'primary_cleaner.state.floatbank8_b_level', 'secondary_cleaner.state.floatbank5_a_air', 'primary_cleaner.input.sulfate'}\n",
      "\n",
      "Index(['rougher.input.feed_ag', 'rougher.input.feed_pb',\n",
      "       'rougher.input.feed_rate', 'rougher.input.feed_size',\n",
      "       'rougher.input.feed_sol', 'rougher.input.feed_au',\n",
      "       'rougher.input.floatbank10_sulfate',\n",
      "       'rougher.input.floatbank10_xanthate',\n",
      "       'rougher.input.floatbank11_sulfate',\n",
      "       'rougher.input.floatbank11_xanthate', 'rougher.state.floatbank10_a_air',\n",
      "       'rougher.state.floatbank10_a_level', 'rougher.state.floatbank10_b_air',\n",
      "       'rougher.state.floatbank10_b_level', 'rougher.state.floatbank10_c_air',\n",
      "       'rougher.state.floatbank10_c_level', 'rougher.state.floatbank10_d_air',\n",
      "       'rougher.state.floatbank10_d_level', 'rougher.state.floatbank10_e_air',\n",
      "       'rougher.state.floatbank10_e_level', 'rougher.state.floatbank10_f_air',\n",
      "       'rougher.state.floatbank10_f_level'],\n",
      "      dtype='object')\n"
     ]
    }
   ],
   "source": [
    "# Подготовка признаков для final.output.recovery\n",
    "columns_to_delete = set(good_gold_recovery_train.columns) - final_features_columns\n",
    "print(columns_to_delete)\n",
    "train_features_final = good_gold_recovery_train.drop(columns_to_delete, axis=1)\n",
    "print()\n",
    "print(train_features_final.columns)\n",
    "# Проверка вхождения всех столбцов из feateures в столбцах тестовой выборки\n",
    "print(set(train_features_final.columns) - set(gold_recovery_test.columns))\n",
    "\n",
    "# Подготовка признаков для rougher.output.recovery\n",
    "columns_to_delete = set(train_features_final.columns) - rougher_features_columns\n",
    "print(columns_to_delete)\n",
    "train_features_rougher = train_features_final.drop(columns_to_delete, axis=1)\n",
    "print()\n",
    "print(train_features_rougher.columns)"
   ]
  },
  {
   "cell_type": "code",
   "execution_count": 257,
   "metadata": {},
   "outputs": [],
   "source": [
    "# Подготовлю целевой признак\n",
    "train_target_final = good_gold_recovery_train['final.output.recovery']\n",
    "train_target_rougher = good_gold_recovery_train['rougher.output.recovery']\n",
    "\n",
    "# Подготовлю признаки тестовой выборки\n",
    "test_features = good_gold_recovery_test.drop('date', axis=1)\n"
   ]
  },
  {
   "cell_type": "code",
   "execution_count": 258,
   "metadata": {},
   "outputs": [
    {
     "name": "stdout",
     "output_type": "stream",
     "text": [
      "{'secondary_cleaner.state.floatbank3_b_air', 'primary_cleaner.state.floatbank8_c_air', 'primary_cleaner.state.floatbank8_a_level', 'secondary_cleaner.state.floatbank3_a_air', 'primary_cleaner.state.floatbank8_b_air', 'primary_cleaner.input.depressant', 'secondary_cleaner.state.floatbank6_a_air', 'secondary_cleaner.state.floatbank4_a_level', 'secondary_cleaner.state.floatbank4_b_level', 'primary_cleaner.state.floatbank8_d_level', 'primary_cleaner.state.floatbank8_d_air', 'secondary_cleaner.state.floatbank4_b_air', 'primary_cleaner.state.floatbank8_c_level', 'secondary_cleaner.state.floatbank2_a_air', 'primary_cleaner.state.floatbank8_a_air', 'secondary_cleaner.state.floatbank3_a_level', 'secondary_cleaner.state.floatbank4_a_air', 'secondary_cleaner.state.floatbank3_b_level', 'secondary_cleaner.state.floatbank2_a_level', 'secondary_cleaner.state.floatbank6_a_level', 'secondary_cleaner.state.floatbank5_a_level', 'primary_cleaner.input.feed_size', 'secondary_cleaner.state.floatbank2_b_level', 'secondary_cleaner.state.floatbank5_b_level', 'primary_cleaner.input.xanthate', 'secondary_cleaner.state.floatbank5_b_air', 'secondary_cleaner.state.floatbank2_b_air', 'primary_cleaner.state.floatbank8_b_level', 'secondary_cleaner.state.floatbank5_a_air', 'primary_cleaner.input.sulfate'}\n"
     ]
    }
   ],
   "source": [
    "test_features_final = test_features\n",
    "columns_to_delete = set(test_features_final.columns) - rougher_features_columns\n",
    "print(columns_to_delete)\n",
    "test_features_rougher = test_features_final.drop(columns_to_delete, axis=1)"
   ]
  },
  {
   "cell_type": "code",
   "execution_count": 259,
   "metadata": {},
   "outputs": [],
   "source": [
    "# Функция вычисления симметричного среднего абсолютного процентного отклонения\n",
    "def sMAPE(y_true, y_pred):\n",
    "    smape_score = np.mean(abs(y_true - y_pred)/((abs(y_true)+abs(y_pred))/2))*100\n",
    "    return smape_score"
   ]
  },
  {
   "cell_type": "code",
   "execution_count": 260,
   "metadata": {},
   "outputs": [],
   "source": [
    "def total_sMAPE(sMAPE_rougher, sMAPE_final):\n",
    "    return (0.25*sMAPE_rougher + 0.75*sMAPE_final)"
   ]
  },
  {
   "cell_type": "markdown",
   "metadata": {},
   "source": [
    "Это задача регресии. Поэтому выберу следующие модели для обучения:\n",
    "\n",
    "- Линейная регрессия\n",
    "- Полиноминальная регрессия. Применется на линейной регрессии с подготовленными признаками\n",
    "- Регрессия Ridge\n",
    "- DecisionTreeRegressor"
   ]
  },
  {
   "cell_type": "markdown",
   "metadata": {},
   "source": [
    "Теперь буду выполнять поиск лучшей модели"
   ]
  },
  {
   "cell_type": "code",
   "execution_count": 261,
   "metadata": {},
   "outputs": [],
   "source": [
    "custom_score = make_scorer(sMAPE, greater_is_better=False)"
   ]
  },
  {
   "cell_type": "code",
   "execution_count": 262,
   "metadata": {
    "scrolled": true
   },
   "outputs": [
    {
     "name": "stdout",
     "output_type": "stream",
     "text": [
      "Mean R2 from CV of LinearRegression = -0.19455349428687413\n",
      "Mean MAE from CV of LinearRegression = -9.018601124709084\n",
      "CPU times: user 849 ms, sys: 1.68 s, total: 2.53 s\n",
      "Wall time: 2.53 s\n"
     ]
    }
   ],
   "source": [
    "%%time\n",
    "\n",
    "regressor = LinearRegression()\n",
    "print('Mean R2 from CV of LinearRegression =', cross_val_score(regressor, train_features_final,\n",
    "                                                               train_target_final, cv=5).mean())\n",
    "print('Mean scoring from CV of LinearRegression =', cross_val_score(regressor, train_features_final, \n",
    "                                                                train_target_final, cv=5, scoring=custom_score).mean())"
   ]
  },
  {
   "cell_type": "markdown",
   "metadata": {},
   "source": [
    "Проверю влияние масштаба признаков на качество модели"
   ]
  },
  {
   "cell_type": "code",
   "execution_count": 263,
   "metadata": {
    "scrolled": true
   },
   "outputs": [
    {
     "name": "stdout",
     "output_type": "stream",
     "text": [
      "Mean R2 from CV of LinearRegression = -0.19455349428688795\n",
      "Mean MAE from CV of LinearRegression = -9.018601124709132\n",
      "CPU times: user 963 ms, sys: 1.83 s, total: 2.79 s\n",
      "Wall time: 2.8 s\n"
     ]
    }
   ],
   "source": [
    "%%time\n",
    "\n",
    "regressor = LinearRegression()\n",
    "scaller = StandardScaler()\n",
    "pipeline = Pipeline([(\"standard_scaller\", scaller),(\"linear_regression\", regressor)])\n",
    "print('Mean R2 from CV of LinearRegression =', cross_val_score(pipeline, train_features_final,\n",
    "                                                               train_target_final, cv=5).mean())\n",
    "print('Mean MAE from CV of LinearRegression =', cross_val_score(pipeline, train_features_final, \n",
    "                                                                train_target_final, cv=5, scoring=custom_score).mean())\n"
   ]
  },
  {
   "cell_type": "markdown",
   "metadata": {},
   "source": [
    "Масштаб признаков не влияет."
   ]
  },
  {
   "cell_type": "code",
   "execution_count": 264,
   "metadata": {},
   "outputs": [
    {
     "name": "stdout",
     "output_type": "stream",
     "text": [
      "Mean R2 from CV of PolynomialRegression with 2 degree = -53.89653171574984\n",
      "Mean MAE from CV of PolynomialRegression with 2 degree = -47.70415476751319\n",
      "CPU times: user 1min 17s, sys: 55.9 s, total: 2min 12s\n",
      "Wall time: 2min 13s\n"
     ]
    }
   ],
   "source": [
    "%%time\n",
    "\n",
    "regressor = LinearRegression()\n",
    "polynomial_features = PolynomialFeatures(degree=2, include_bias=False)\n",
    "pipeline = Pipeline([(\"polynomial_features\", polynomial_features),(\"linear_regression\", regressor)])\n",
    "print('Mean R2 from CV of PolynomialRegression with 2 degree =', cross_val_score(pipeline, \n",
    "                                                                                 train_features_final, \n",
    "                                                                                 train_target_final, cv=5).mean())\n",
    "print('Mean MAE from CV of PolynomialRegression with 2 degree =', cross_val_score(pipeline, train_features_final,\n",
    "                                                                                  train_target_final, cv=5, \n",
    "                                                                                  scoring=custom_score).mean())"
   ]
  },
  {
   "cell_type": "markdown",
   "metadata": {},
   "source": [
    "Для регрессоров Ridge и DecisionTreeRegressor буду применять метод GridSearchCV. В нем уже вложена кросс-валидация."
   ]
  },
  {
   "cell_type": "code",
   "execution_count": 265,
   "metadata": {
    "scrolled": true
   },
   "outputs": [
    {
     "name": "stdout",
     "output_type": "stream",
     "text": [
      "# Tuning hyper-parameters for r2\n",
      "\n",
      "Best parameters set found on development set:\n",
      "\n",
      "{'alpha': 1, 'solver': 'sparse_cg'}\n",
      "\n",
      "Grid scores on development set:\n",
      "\n",
      "-9.019 (+/-2.932) for {'alpha': 0.1, 'solver': 'auto'}\n",
      "-9.018 (+/-2.931) for {'alpha': 1, 'solver': 'auto'}\n",
      "-9.015 (+/-2.922) for {'alpha': 10, 'solver': 'auto'}\n",
      "-8.985 (+/-2.831) for {'alpha': 100, 'solver': 'auto'}\n",
      "-9.019 (+/-2.932) for {'alpha': 0.1, 'solver': 'svd'}\n",
      "-9.018 (+/-2.931) for {'alpha': 1, 'solver': 'svd'}\n",
      "-9.015 (+/-2.922) for {'alpha': 10, 'solver': 'svd'}\n",
      "-8.985 (+/-2.831) for {'alpha': 100, 'solver': 'svd'}\n",
      "-9.019 (+/-2.932) for {'alpha': 0.1, 'solver': 'cholesky'}\n",
      "-9.018 (+/-2.931) for {'alpha': 1, 'solver': 'cholesky'}\n",
      "-9.015 (+/-2.922) for {'alpha': 10, 'solver': 'cholesky'}\n",
      "-8.985 (+/-2.831) for {'alpha': 100, 'solver': 'cholesky'}\n",
      "-9.309 (+/-1.831) for {'alpha': 0.1, 'solver': 'lsqr'}\n",
      "-9.309 (+/-1.831) for {'alpha': 1, 'solver': 'lsqr'}\n",
      "-9.309 (+/-1.831) for {'alpha': 10, 'solver': 'lsqr'}\n",
      "-9.309 (+/-1.833) for {'alpha': 100, 'solver': 'lsqr'}\n",
      "-9.064 (+/-2.326) for {'alpha': 0.1, 'solver': 'sparse_cg'}\n",
      "-8.975 (+/-2.178) for {'alpha': 1, 'solver': 'sparse_cg'}\n",
      "-8.988 (+/-2.165) for {'alpha': 10, 'solver': 'sparse_cg'}\n",
      "-8.989 (+/-2.136) for {'alpha': 100, 'solver': 'sparse_cg'}\n",
      "\n",
      "# Tuning hyper-parameters for neg_mean_absolute_error\n",
      "\n",
      "Best parameters set found on development set:\n",
      "\n",
      "{'alpha': 1, 'solver': 'sparse_cg'}\n",
      "\n",
      "Grid scores on development set:\n",
      "\n",
      "-9.019 (+/-2.932) for {'alpha': 0.1, 'solver': 'auto'}\n",
      "-9.018 (+/-2.931) for {'alpha': 1, 'solver': 'auto'}\n",
      "-9.015 (+/-2.922) for {'alpha': 10, 'solver': 'auto'}\n",
      "-8.985 (+/-2.831) for {'alpha': 100, 'solver': 'auto'}\n",
      "-9.019 (+/-2.932) for {'alpha': 0.1, 'solver': 'svd'}\n",
      "-9.018 (+/-2.931) for {'alpha': 1, 'solver': 'svd'}\n",
      "-9.015 (+/-2.922) for {'alpha': 10, 'solver': 'svd'}\n",
      "-8.985 (+/-2.831) for {'alpha': 100, 'solver': 'svd'}\n",
      "-9.019 (+/-2.932) for {'alpha': 0.1, 'solver': 'cholesky'}\n",
      "-9.018 (+/-2.931) for {'alpha': 1, 'solver': 'cholesky'}\n",
      "-9.015 (+/-2.922) for {'alpha': 10, 'solver': 'cholesky'}\n",
      "-8.985 (+/-2.831) for {'alpha': 100, 'solver': 'cholesky'}\n",
      "-9.309 (+/-1.831) for {'alpha': 0.1, 'solver': 'lsqr'}\n",
      "-9.309 (+/-1.831) for {'alpha': 1, 'solver': 'lsqr'}\n",
      "-9.309 (+/-1.831) for {'alpha': 10, 'solver': 'lsqr'}\n",
      "-9.309 (+/-1.833) for {'alpha': 100, 'solver': 'lsqr'}\n",
      "-9.064 (+/-2.326) for {'alpha': 0.1, 'solver': 'sparse_cg'}\n",
      "-8.975 (+/-2.178) for {'alpha': 1, 'solver': 'sparse_cg'}\n",
      "-8.988 (+/-2.165) for {'alpha': 10, 'solver': 'sparse_cg'}\n",
      "-8.989 (+/-2.136) for {'alpha': 100, 'solver': 'sparse_cg'}\n",
      "\n",
      "CPU times: user 14.5 s, sys: 20.5 s, total: 34.9 s\n",
      "Wall time: 34.9 s\n"
     ]
    }
   ],
   "source": [
    "%%time\n",
    "\n",
    "regressor = Ridge()\n",
    "hyperparams = [{'alpha':[0.1, 1, 10, 100], 'solver':['auto']},\n",
    "                 {'alpha':[0.1, 1, 10, 100], 'solver':['svd']}, \n",
    "                 {'alpha':[0.1, 1, 10, 100], 'solver':['cholesky']},\n",
    "                 {'alpha':[0.1, 1, 10, 100], 'solver':['lsqr']}, \n",
    "                 {'alpha':[0.1, 1, 10, 100], 'solver':['sparse_cg']}]\n",
    "\n",
    "scores = ['r2', 'neg_mean_absolute_error']\n",
    "\n",
    "for score in scores:\n",
    "    print('# Tuning hyper-parameters for %s' % score)\n",
    "    print()\n",
    "    clf = GridSearchCV(regressor, hyperparams, scoring=make_scorer(sMAPE, greater_is_better=False))\n",
    "    clf.fit(train_features_final, train_target_final)\n",
    "    print(\"Best parameters set found on development set:\")\n",
    "    print()\n",
    "    print(clf.best_params_)\n",
    "    print()\n",
    "    print(\"Grid scores on development set:\")\n",
    "    print()\n",
    "    means = clf.cv_results_['mean_test_score']\n",
    "    stds = clf.cv_results_['std_test_score']\n",
    "    for mean, std, params in zip(means, stds, clf.cv_results_['params']):\n",
    "        print(\"%0.3f (+/-%0.03f) for %r\"% (mean, std * 2, params))\n",
    "    print()"
   ]
  },
  {
   "cell_type": "code",
   "execution_count": 266,
   "metadata": {},
   "outputs": [
    {
     "name": "stdout",
     "output_type": "stream",
     "text": [
      "# Tuning hyper-parameters\n",
      "\n",
      "Best parameters set found on development set:\n",
      "\n",
      "{'criterion': 'mae', 'max_depth': 2, 'random_state': 12345}\n",
      "\n",
      "Grid scores on development set:\n",
      "\n",
      "-0.235 (+/-0.384) for {'criterion': 'mse', 'max_depth': 2, 'random_state': 12345}\n",
      "-0.305 (+/-0.563) for {'criterion': 'mse', 'max_depth': 4, 'random_state': 12345}\n",
      "-0.399 (+/-0.614) for {'criterion': 'mse', 'max_depth': 6, 'random_state': 12345}\n",
      "-0.668 (+/-1.238) for {'criterion': 'mse', 'max_depth': 8, 'random_state': 12345}\n",
      "-1.144 (+/-1.398) for {'criterion': 'mse', 'max_depth': 10, 'random_state': 12345}\n",
      "-1.538 (+/-1.647) for {'criterion': 'mse', 'max_depth': 12, 'random_state': 12345}\n",
      "-1.343 (+/-1.419) for {'criterion': 'mse', 'max_depth': 14, 'random_state': 12345}\n",
      "-1.491 (+/-1.228) for {'criterion': 'mse', 'max_depth': 16, 'random_state': 12345}\n",
      "-1.609 (+/-1.451) for {'criterion': 'mse', 'max_depth': 18, 'random_state': 12345}\n",
      "-1.930 (+/-2.500) for {'criterion': 'mse', 'max_depth': 20, 'random_state': 12345}\n",
      "-0.030 (+/-0.238) for {'criterion': 'mae', 'max_depth': 2, 'random_state': 12345}\n",
      "-0.295 (+/-0.315) for {'criterion': 'mae', 'max_depth': 4, 'random_state': 12345}\n",
      "-0.449 (+/-0.501) for {'criterion': 'mae', 'max_depth': 6, 'random_state': 12345}\n",
      "-0.978 (+/-2.080) for {'criterion': 'mae', 'max_depth': 8, 'random_state': 12345}\n",
      "-1.543 (+/-2.639) for {'criterion': 'mae', 'max_depth': 10, 'random_state': 12345}\n",
      "-1.732 (+/-2.153) for {'criterion': 'mae', 'max_depth': 12, 'random_state': 12345}\n",
      "-1.693 (+/-2.149) for {'criterion': 'mae', 'max_depth': 14, 'random_state': 12345}\n",
      "-1.946 (+/-1.909) for {'criterion': 'mae', 'max_depth': 16, 'random_state': 12345}\n",
      "-1.682 (+/-1.976) for {'criterion': 'mae', 'max_depth': 18, 'random_state': 12345}\n",
      "-2.186 (+/-1.974) for {'criterion': 'mae', 'max_depth': 20, 'random_state': 12345}\n",
      "\n",
      "CPU times: user 14min 35s, sys: 0 ns, total: 14min 35s\n",
      "Wall time: 14min 40s\n"
     ]
    }
   ],
   "source": [
    "%%time\n",
    "\n",
    "regressor = DecisionTreeRegressor() \n",
    "max_depth_list = [x for x in range(2, 21, 2)]\n",
    "hyperparams = [{'criterion':['mse'], 'max_depth':max_depth_list, 'random_state':[12345]},\n",
    "               {'criterion':['mae'], 'max_depth':max_depth_list, 'random_state':[12345]}]\n",
    "\n",
    "print('# Tuning hyper-parameters')\n",
    "print()\n",
    "clf = GridSearchCV(regressor, hyperparams)\n",
    "clf.fit(train_features_final, train_target_final)\n",
    "print(\"Best parameters set found on development set:\")\n",
    "print()\n",
    "print(clf.best_params_)\n",
    "print()\n",
    "print(\"Grid scores on development set:\")\n",
    "print()\n",
    "means = clf.cv_results_['mean_test_score']\n",
    "stds = clf.cv_results_['std_test_score']\n",
    "for mean, std, params in zip(means, stds, clf.cv_results_['params']):\n",
    "    print(\"%0.3f (+/-%0.03f) for %r\"% (mean, std * 2, params))\n",
    "print()"
   ]
  },
  {
   "cell_type": "markdown",
   "metadata": {},
   "source": [
    "Проверю лучшие модели по метрикам на созданной метрике sMAPE. Проверю реальные данные."
   ]
  },
  {
   "cell_type": "code",
   "execution_count": 267,
   "metadata": {},
   "outputs": [
    {
     "name": "stdout",
     "output_type": "stream",
     "text": [
      "Процент пропусков в общей выборке 0.14397176295745867\n",
      "Процент пропусков в общей выборке 0.10477428942968604\n"
     ]
    }
   ],
   "source": [
    "rougher_recovery_real = gold_recovery_full.loc[test_features_rougher.index,'rougher.output.recovery']\n",
    "final_recovery_real = gold_recovery_full.loc[test_features_final.index,'final.output.recovery']\n",
    "print('Процент пропусков в общей выборке', rougher_recovery_real.isna().mean())\n",
    "print('Процент пропусков в общей выборке', final_recovery_real.isna().mean())"
   ]
  },
  {
   "cell_type": "markdown",
   "metadata": {},
   "source": [
    "В реальной таблице отсутсвуют зачения для выборки. Они будут игнорироваться при расчете sMAPE."
   ]
  },
  {
   "cell_type": "code",
   "execution_count": 276,
   "metadata": {},
   "outputs": [
    {
     "name": "stdout",
     "output_type": "stream",
     "text": [
      "sMAPE для линейной регресии 14.612198687884215\n",
      "sMAPE для полиноминальной регресии 17.605324333147536\n",
      "sMAPE для регресии Ridge 17.605324333147536\n",
      "sMAPE для DecisionTreeRegressor 14.60199260746918\n",
      "CPU times: user 33.2 s, sys: 3.91 s, total: 37.1 s\n",
      "Wall time: 37.3 s\n"
     ]
    }
   ],
   "source": [
    "%%time\n",
    "\n",
    "model = LinearRegression()\n",
    "model.fit(train_features_rougher, train_target_rougher)\n",
    "rougher_recovery_predicted = model.predict(test_features_rougher)\n",
    "model.fit(train_features_final, train_target_final)\n",
    "final_recovery_predicted = model.predict(test_features_final)\n",
    "print('sMAPE для линейной регресии', sMAPE(rougher_recovery_real, rougher_recovery_predicted))\n",
    "\n",
    "regressor = LinearRegression()\n",
    "polynomial_features = PolynomialFeatures(degree=2, include_bias=False)\n",
    "model = Pipeline([(\"polynomial_features\", polynomial_features),(\"linear_regression\", regressor)])\n",
    "model.fit(train_features_rougher, train_target_rougher)\n",
    "rougher_recovery_predicted = model.predict(test_features_rougher)\n",
    "model.fit(train_features_final, train_target_final)\n",
    "final_recovery_predicted = model.predict(test_features_final)\n",
    "print('sMAPE для полиноминальной регресии', sMAPE(rougher_recovery_real, rougher_recovery_predicted))\n",
    "\n",
    "model_rd = Ridge(alpha=1, solver='sparse_cg')\n",
    "model_rd.fit(train_features_rougher, train_target_rougher)\n",
    "rougher_recovery_predicted_rd = model_rd.predict(test_features_rougher)\n",
    "model_rd.fit(train_features_final, train_target_final)\n",
    "final_recovery_predicted_rd = model_rd.predict(test_features_final)\n",
    "sMAPE_rd = sMAPE(rougher_recovery_real, rougher_recovery_predicted)\n",
    "print('sMAPE для регресии Ridge', sMAPE_rd)\n",
    "\n",
    "model_tree = DecisionTreeRegressor(criterion='mae', max_depth=2, random_state=12345)\n",
    "model_tree.fit(train_features_rougher, train_target_rougher)\n",
    "rougher_recovery_predicted = model_tree.predict(test_features_rougher)\n",
    "model_tree.fit(train_features_final, train_target_final)\n",
    "final_recovery_predicted = model_tree.predict(test_features_final)\n",
    "sMAPE_tree = sMAPE(rougher_recovery_real, rougher_recovery_predicted)\n",
    "print('sMAPE для DecisionTreeRegressor', sMAPE_tree)"
   ]
  },
  {
   "cell_type": "markdown",
   "metadata": {},
   "source": [
    "Создам константную модель на медианных значениях. Изменю код функции для подсчета."
   ]
  },
  {
   "cell_type": "code",
   "execution_count": 269,
   "metadata": {},
   "outputs": [
    {
     "name": "stdout",
     "output_type": "stream",
     "text": [
      "sMAPE для медианной константной модели 11.437793816641223\n"
     ]
    }
   ],
   "source": [
    "median_rougher_recovery = gold_recovery_full['rougher.output.recovery'].median()\n",
    "median_final_recovery = gold_recovery_full['final.output.recovery'].median()\n",
    "\n",
    "n = rougher_recovery_real.shape[0]\n",
    "rougher_sMAPE = ((2*abs(rougher_recovery_real - median_rougher_recovery)/\n",
    "                     (abs(rougher_recovery_real) + abs(median_rougher_recovery))).sum() * 100 / n)\n",
    "final_sMAPE = ((2*abs(final_recovery_real - median_final_recovery)/\n",
    "                     (abs(final_recovery_real) + abs(median_final_recovery))).sum() * 100 / n)\n",
    "print('sMAPE для медианной константной модели', rougher_sMAPE * 0.25 + final_sMAPE * 0.75)"
   ]
  },
  {
   "cell_type": "markdown",
   "metadata": {},
   "source": [
    "Проведу сокращение тестовой выборки из-за пропущенных значений rougher.output.recovery и final.output.recovery в полном датафрейме. Для вычисления sMAPE длина и индексы всех серий должны быть одинаковы."
   ]
  },
  {
   "cell_type": "code",
   "execution_count": 270,
   "metadata": {},
   "outputs": [
    {
     "name": "stdout",
     "output_type": "stream",
     "text": [
      "Количество строк rougher_recovery_real = 4608\n",
      "Количество строк final_recovery_real = 4819\n",
      "Количество строк test_features_rougher = 5383\n",
      "Количество индексов с полными данными= 4554\n"
     ]
    }
   ],
   "source": [
    "rougher_recovery_real.dropna(inplace=True)\n",
    "print('Количество строк rougher_recovery_real =', rougher_recovery_real.shape[0])\n",
    "final_recovery_real.dropna(inplace=True)\n",
    "print('Количество строк final_recovery_real =', final_recovery_real.shape[0])\n",
    "print('Количество строк test_features_rougher =', test_features_rougher.shape[0])\n",
    "\n",
    "not_nan_index = set(test_features_rougher.index)\n",
    "not_nan_index = not_nan_index.intersection(set(final_recovery_real.index), set(rougher_recovery_real.index))\n",
    "print('Количество индексов с полными данными=', len(not_nan_index))"
   ]
  },
  {
   "cell_type": "markdown",
   "metadata": {},
   "source": [
    "Преобразую количество данных тестовой выбоки и рельных так, чтобы не было NaN."
   ]
  },
  {
   "cell_type": "code",
   "execution_count": 271,
   "metadata": {},
   "outputs": [
    {
     "name": "stdout",
     "output_type": "stream",
     "text": [
      "Количество строк test_features_final = 4554\n"
     ]
    }
   ],
   "source": [
    "rougher_recovery_real = gold_recovery_full.loc[not_nan_index,'rougher.output.recovery']\n",
    "final_recovery_real = gold_recovery_full.loc[not_nan_index,'final.output.recovery']\n",
    "test_features_rougher = test_features_rougher.loc[not_nan_index,:]\n",
    "test_features_final = test_features_final.loc[not_nan_index,:]\n",
    "print('Количество строк test_features_final =', test_features_final.shape[0])"
   ]
  },
  {
   "cell_type": "markdown",
   "metadata": {},
   "source": [
    "Повторю получение sMAPE на тех же моделях."
   ]
  },
  {
   "cell_type": "code",
   "execution_count": 277,
   "metadata": {},
   "outputs": [
    {
     "name": "stdout",
     "output_type": "stream",
     "text": [
      "sMAPE для линейной регресии 14.612198687884215\n",
      "sMAPE для полиноминальной регресии 17.605324333147536\n",
      "sMAPE для регресии Ridge 14.54727570320215\n",
      "sMAPE для DecisionTreeRegressor 14.60199260746918\n",
      "sMAPE для медианной константной модели 12.236756621839444\n",
      "CPU times: user 33.3 s, sys: 4.33 s, total: 37.6 s\n",
      "Wall time: 38.7 s\n"
     ]
    }
   ],
   "source": [
    "%%time\n",
    "\n",
    "model = LinearRegression()\n",
    "model.fit(train_features_rougher, train_target_rougher)\n",
    "rougher_recovery_predicted = model.predict(test_features_rougher)\n",
    "model.fit(train_features_final, train_target_final)\n",
    "final_recovery_predicted = model.predict(test_features_final)\n",
    "print('sMAPE для линейной регресии', sMAPE(rougher_recovery_real, rougher_recovery_predicted))\n",
    "\n",
    "\n",
    "regressor = LinearRegression()\n",
    "polynomial_features = PolynomialFeatures(degree=2, include_bias=False)\n",
    "model = Pipeline([(\"polynomial_features\", polynomial_features),(\"linear_regression\", regressor)])\n",
    "model.fit(train_features_rougher, train_target_rougher)\n",
    "rougher_recovery_predicted = model.predict(test_features_rougher)\n",
    "model.fit(train_features_final, train_target_final)\n",
    "final_recovery_predicted = model.predict(test_features_final)\n",
    "print('sMAPE для полиноминальной регресии', sMAPE(rougher_recovery_real, rougher_recovery_predicted))\n",
    "\n",
    "\n",
    "model_rd_final = Ridge(alpha=1, solver='sparse_cg')\n",
    "model_rd_final.fit(train_features_rougher, train_target_rougher)\n",
    "rougher_recovery_predicted = model_rd_final.predict(test_features_rougher)\n",
    "model_rd_final.fit(train_features_final, train_target_final)\n",
    "final_recovery_predicted_rd = model_rd_final.predict(test_features_final)\n",
    "sMAPE_rd_final = sMAPE(rougher_recovery_real, rougher_recovery_predicted)\n",
    "print('sMAPE для регресии Ridge', sMAPE_rd_final)\n",
    "\n",
    "\n",
    "model_tree_final = DecisionTreeRegressor(criterion='mae', max_depth=2, random_state=12345)\n",
    "model_tree_final.fit(train_features_rougher, train_target_rougher)\n",
    "rougher_recovery_predicted = model_tree_final.predict(test_features_rougher)\n",
    "model_tree_final.fit(train_features_final, train_target_final)\n",
    "final_recovery_predicted = model_tree_final.predict(test_features_final)\n",
    "sMAPE_tree_final = sMAPE(rougher_recovery_real, rougher_recovery_predicted)\n",
    "print('sMAPE для DecisionTreeRegressor', sMAPE_tree_final)\n",
    "\n",
    "\n",
    "n = rougher_recovery_real.shape[0]\n",
    "rougher_sMAPE = ((2*abs(rougher_recovery_real - median_rougher_recovery)/\n",
    "                     (abs(rougher_recovery_real) + abs(median_rougher_recovery))).sum() * 100 / n)\n",
    "final_sMAPE = ((2*abs(final_recovery_real - median_final_recovery)/\n",
    "                     (abs(final_recovery_real) + abs(median_final_recovery))).sum() * 100 / n)\n",
    "print('sMAPE для медианной константной модели', rougher_sMAPE * 0.25 + final_sMAPE * 0.75)"
   ]
  },
  {
   "cell_type": "markdown",
   "metadata": {},
   "source": [
    "Сравню модель Ridge c медианной константной по метрикам R2 и MAE. Проверю показания на final_recovery_real."
   ]
  },
  {
   "cell_type": "code",
   "execution_count": 279,
   "metadata": {},
   "outputs": [
    {
     "name": "stdout",
     "output_type": "stream",
     "text": [
      "R2 Ridge model = -41.54593084728279\n",
      "MAE Ridge model = 23.803166047755482\n",
      "\n",
      "R2 constant model = -0.16953176961687788\n",
      "MAE constant model = 6.986583173406041\n"
     ]
    }
   ],
   "source": [
    "model_rd_final = Ridge(alpha=1, solver='sparse_cg')\n",
    "model_rd_final.fit(train_features_final, train_target_final)\n",
    "final_recovery_predicted = model.predict(test_features_final)\n",
    "print('R2 Ridge model =', r2_score(final_recovery_real, final_recovery_predicted))\n",
    "print('MAE Ridge model =', mean_absolute_error(final_recovery_real, final_recovery_predicted))\n",
    "print()\n",
    "\n",
    "final_median_predict = pd.Series(median_final_recovery, index=not_nan_index)\n",
    "print('R2 constant model =', r2_score(final_recovery_real, final_median_predict))\n",
    "print('MAE constant model =', mean_absolute_error(final_recovery_real, final_median_predict))"
   ]
  },
  {
   "cell_type": "code",
   "execution_count": 274,
   "metadata": {},
   "outputs": [],
   "source": [
    "best_final_model = model_rd_final\n",
    "best_final_smape = sMAPE_rd_final"
   ]
  },
  {
   "cell_type": "code",
   "execution_count": 281,
   "metadata": {},
   "outputs": [
    {
     "name": "stdout",
     "output_type": "stream",
     "text": [
      "Итоговое sMAPE на лучшей модели: 15.31%\n"
     ]
    }
   ],
   "source": [
    "print('Итоговое sMAPE на лучшей модели: {:.2f}%'.format(total_sMAPE(sMAPE_rd, best_final_smape)))"
   ]
  },
  {
   "cell_type": "markdown",
   "metadata": {},
   "source": [
    "**Вывод**\n",
    "\n",
    "Была написана функция для вычисления sMAPE. Каждая модель была изучена на качество с помощью методов кросс-валидации и поиска гиперпараметров GridSearchCV.\n",
    "\n",
    "Была отобрана лучшая модель - DecisionTreeRegressor. Ее значение sMAPE самое низкое.\n",
    "\n",
    "Но после удаления значений NaN модель изменила свои значения. В полных данных отсутвует 14% и 10% данных по предсказаниям, возможно это повлияло на качество модели. И поэтому была выбрана другая модель - Ridge."
   ]
  },
  {
   "cell_type": "markdown",
   "metadata": {},
   "source": [
    "## Вывод"
   ]
  },
  {
   "cell_type": "markdown",
   "metadata": {},
   "source": [
    "В ходе работы было выполнено:\n",
    "\n",
    "- Подготовлены данные.\n",
    "- Проведен исследовательский анализ данных.\n",
    "- Построена и обучена модель.\n",
    "\n",
    "Регрессор Ridge показал себя лучше обычной линейной регресии. sMAPE показал 17.6 до того как убрать пропущенные значения, и 14.55 после. Если сравнивать с константной моделью, то значение проигрывает. Другие метрики тоже говорят о том, что константная модель адекватнее выбранной."
   ]
  }
 ],
 "metadata": {
  "ExecuteTimeLog": [
   {
    "duration": 1608,
    "start_time": "2022-04-06T09:27:45.846Z"
   },
   {
    "duration": 321,
    "start_time": "2022-04-06T09:30:38.563Z"
   },
   {
    "duration": 229,
    "start_time": "2022-04-06T09:31:06.978Z"
   },
   {
    "duration": 739,
    "start_time": "2022-04-06T09:31:42.512Z"
   },
   {
    "duration": 1422,
    "start_time": "2022-04-06T09:32:08.842Z"
   },
   {
    "duration": 4,
    "start_time": "2022-04-06T09:40:24.567Z"
   },
   {
    "duration": 45,
    "start_time": "2022-04-06T09:40:37.181Z"
   },
   {
    "duration": 4,
    "start_time": "2022-04-06T09:41:28.622Z"
   },
   {
    "duration": 3,
    "start_time": "2022-04-06T09:41:33.001Z"
   },
   {
    "duration": 54,
    "start_time": "2022-04-06T09:41:35.227Z"
   },
   {
    "duration": 98,
    "start_time": "2022-04-06T09:42:01.935Z"
   },
   {
    "duration": 117,
    "start_time": "2022-04-06T09:42:26.441Z"
   },
   {
    "duration": 98,
    "start_time": "2022-04-06T09:47:40.022Z"
   },
   {
    "duration": 11,
    "start_time": "2022-04-06T09:48:16.290Z"
   },
   {
    "duration": 19,
    "start_time": "2022-04-06T09:49:09.589Z"
   },
   {
    "duration": 15,
    "start_time": "2022-04-06T09:51:35.504Z"
   },
   {
    "duration": 913,
    "start_time": "2022-04-06T09:53:30.333Z"
   },
   {
    "duration": 1330,
    "start_time": "2022-04-06T09:53:46.102Z"
   },
   {
    "duration": 4,
    "start_time": "2022-04-06T09:54:11.548Z"
   },
   {
    "duration": 2478,
    "start_time": "2022-04-06T09:54:11.553Z"
   },
   {
    "duration": 1218,
    "start_time": "2022-04-06T09:54:14.033Z"
   },
   {
    "duration": 3093,
    "start_time": "2022-04-06T09:54:15.253Z"
   },
   {
    "duration": 4,
    "start_time": "2022-04-06T09:54:18.347Z"
   },
   {
    "duration": 110,
    "start_time": "2022-04-06T09:54:18.352Z"
   },
   {
    "duration": 60,
    "start_time": "2022-04-06T09:54:18.464Z"
   },
   {
    "duration": 144,
    "start_time": "2022-04-06T09:54:18.525Z"
   },
   {
    "duration": 20,
    "start_time": "2022-04-06T09:54:24.337Z"
   },
   {
    "duration": 6,
    "start_time": "2022-04-06T09:56:24.343Z"
   },
   {
    "duration": 16,
    "start_time": "2022-04-06T09:57:54.394Z"
   },
   {
    "duration": 14,
    "start_time": "2022-04-06T09:58:08.368Z"
   },
   {
    "duration": 10,
    "start_time": "2022-04-06T09:58:22.305Z"
   },
   {
    "duration": 4,
    "start_time": "2022-04-06T10:00:43.875Z"
   },
   {
    "duration": 161,
    "start_time": "2022-04-06T10:01:18.605Z"
   },
   {
    "duration": 242,
    "start_time": "2022-04-06T10:01:33.778Z"
   },
   {
    "duration": 20,
    "start_time": "2022-04-06T10:09:26.401Z"
   },
   {
    "duration": 19,
    "start_time": "2022-04-06T10:09:37.379Z"
   },
   {
    "duration": 154,
    "start_time": "2022-04-06T10:10:25.214Z"
   },
   {
    "duration": 14,
    "start_time": "2022-04-06T10:10:54.609Z"
   },
   {
    "duration": 223,
    "start_time": "2022-04-06T10:12:08.842Z"
   },
   {
    "duration": 156,
    "start_time": "2022-04-06T10:13:27.351Z"
   },
   {
    "duration": 19,
    "start_time": "2022-04-06T10:13:34.813Z"
   },
   {
    "duration": 15,
    "start_time": "2022-04-06T10:13:49.841Z"
   },
   {
    "duration": 78,
    "start_time": "2022-04-06T10:14:06.353Z"
   },
   {
    "duration": 170,
    "start_time": "2022-04-06T10:14:34.199Z"
   },
   {
    "duration": 6,
    "start_time": "2022-04-06T10:14:47.469Z"
   },
   {
    "duration": 6,
    "start_time": "2022-04-06T10:14:55.490Z"
   },
   {
    "duration": 443,
    "start_time": "2022-04-06T10:17:23.338Z"
   },
   {
    "duration": 435,
    "start_time": "2022-04-06T10:18:05.073Z"
   },
   {
    "duration": 550,
    "start_time": "2022-04-06T10:18:50.388Z"
   },
   {
    "duration": 489,
    "start_time": "2022-04-06T10:19:10.392Z"
   },
   {
    "duration": 467,
    "start_time": "2022-04-06T10:20:49.081Z"
   },
   {
    "duration": 759,
    "start_time": "2022-04-06T10:21:59.022Z"
   },
   {
    "duration": 368,
    "start_time": "2022-04-06T10:22:51.747Z"
   },
   {
    "duration": 156,
    "start_time": "2022-04-06T10:23:15.310Z"
   },
   {
    "duration": 7,
    "start_time": "2022-04-06T10:23:52.368Z"
   },
   {
    "duration": 463,
    "start_time": "2022-04-06T10:24:11.907Z"
   },
   {
    "duration": 564,
    "start_time": "2022-04-06T10:24:33.950Z"
   },
   {
    "duration": 473,
    "start_time": "2022-04-06T10:24:45.629Z"
   },
   {
    "duration": 14,
    "start_time": "2022-04-06T10:26:22.042Z"
   },
   {
    "duration": 9,
    "start_time": "2022-04-06T10:37:20.931Z"
   },
   {
    "duration": 6,
    "start_time": "2022-04-06T10:38:13.630Z"
   },
   {
    "duration": 5,
    "start_time": "2022-04-06T10:38:26.248Z"
   },
   {
    "duration": 4,
    "start_time": "2022-04-06T10:38:52.170Z"
   },
   {
    "duration": 1849,
    "start_time": "2022-04-06T10:41:04.840Z"
   },
   {
    "duration": 2261,
    "start_time": "2022-04-06T10:41:33.922Z"
   },
   {
    "duration": 5,
    "start_time": "2022-04-06T10:42:30.415Z"
   },
   {
    "duration": 4,
    "start_time": "2022-04-06T10:42:36.650Z"
   },
   {
    "duration": 3219,
    "start_time": "2022-04-06T10:42:53.969Z"
   },
   {
    "duration": 112131,
    "start_time": "2022-04-06T10:44:08.362Z"
   },
   {
    "duration": 50951,
    "start_time": "2022-04-06T10:49:45.443Z"
   },
   {
    "duration": 925147,
    "start_time": "2022-04-06T10:53:45.704Z"
   },
   {
    "duration": 7,
    "start_time": "2022-04-06T11:11:27.651Z"
   },
   {
    "duration": 545,
    "start_time": "2022-04-06T11:11:32.543Z"
   },
   {
    "duration": 45406,
    "start_time": "2022-04-06T11:12:36.481Z"
   },
   {
    "duration": 9,
    "start_time": "2022-04-06T11:13:32.390Z"
   },
   {
    "duration": 7,
    "start_time": "2022-04-06T11:13:38.799Z"
   },
   {
    "duration": 8,
    "start_time": "2022-04-06T11:13:42.974Z"
   },
   {
    "duration": 38705,
    "start_time": "2022-04-06T11:13:50.927Z"
   },
   {
    "duration": 122,
    "start_time": "2022-04-06T11:14:35.661Z"
   },
   {
    "duration": 104,
    "start_time": "2022-04-07T07:20:22.146Z"
   },
   {
    "duration": 1503,
    "start_time": "2022-04-07T07:56:23.373Z"
   },
   {
    "duration": 957,
    "start_time": "2022-04-07T07:56:24.878Z"
   },
   {
    "duration": 289,
    "start_time": "2022-04-07T07:56:25.837Z"
   },
   {
    "duration": 1168,
    "start_time": "2022-04-07T07:56:26.128Z"
   },
   {
    "duration": 3,
    "start_time": "2022-04-07T07:56:27.298Z"
   },
   {
    "duration": 108,
    "start_time": "2022-04-07T07:56:27.302Z"
   },
   {
    "duration": 54,
    "start_time": "2022-04-07T07:56:27.412Z"
   },
   {
    "duration": 147,
    "start_time": "2022-04-07T07:56:27.467Z"
   },
   {
    "duration": 33,
    "start_time": "2022-04-07T07:56:27.616Z"
   },
   {
    "duration": 6,
    "start_time": "2022-04-07T07:56:27.652Z"
   },
   {
    "duration": 20,
    "start_time": "2022-04-07T07:56:27.660Z"
   },
   {
    "duration": 10,
    "start_time": "2022-04-07T07:56:27.682Z"
   },
   {
    "duration": 4,
    "start_time": "2022-04-07T07:56:27.694Z"
   },
   {
    "duration": 246,
    "start_time": "2022-04-07T07:56:27.729Z"
   },
   {
    "duration": 20,
    "start_time": "2022-04-07T07:56:27.977Z"
   },
   {
    "duration": 35,
    "start_time": "2022-04-07T07:56:27.999Z"
   },
   {
    "duration": 16,
    "start_time": "2022-04-07T07:56:28.036Z"
   },
   {
    "duration": 240,
    "start_time": "2022-04-07T07:56:28.053Z"
   },
   {
    "duration": 21,
    "start_time": "2022-04-07T07:56:28.295Z"
   },
   {
    "duration": 16,
    "start_time": "2022-04-07T07:56:28.329Z"
   },
   {
    "duration": 14,
    "start_time": "2022-04-07T07:56:28.346Z"
   },
   {
    "duration": 5,
    "start_time": "2022-04-07T07:56:28.361Z"
   },
   {
    "duration": 10,
    "start_time": "2022-04-07T07:56:28.367Z"
   },
   {
    "duration": 526,
    "start_time": "2022-04-07T07:56:28.378Z"
   },
   {
    "duration": 451,
    "start_time": "2022-04-07T07:56:28.906Z"
   },
   {
    "duration": 458,
    "start_time": "2022-04-07T07:56:29.359Z"
   },
   {
    "duration": 4,
    "start_time": "2022-04-07T07:56:38.301Z"
   },
   {
    "duration": 332,
    "start_time": "2022-04-07T07:56:59.911Z"
   },
   {
    "duration": 233,
    "start_time": "2022-04-07T07:58:02.853Z"
   },
   {
    "duration": 234,
    "start_time": "2022-04-07T07:59:11.525Z"
   },
   {
    "duration": 509,
    "start_time": "2022-04-07T08:01:22.867Z"
   },
   {
    "duration": 592,
    "start_time": "2022-04-07T08:08:22.814Z"
   },
   {
    "duration": 5,
    "start_time": "2022-04-07T08:12:45.061Z"
   },
   {
    "duration": 963,
    "start_time": "2022-04-07T08:13:04.617Z"
   },
   {
    "duration": 5,
    "start_time": "2022-04-07T08:14:01.448Z"
   },
   {
    "duration": 620,
    "start_time": "2022-04-07T08:14:04.117Z"
   },
   {
    "duration": 5,
    "start_time": "2022-04-07T08:14:57.142Z"
   },
   {
    "duration": 504,
    "start_time": "2022-04-07T08:14:59.977Z"
   },
   {
    "duration": 7,
    "start_time": "2022-04-07T08:15:32.263Z"
   },
   {
    "duration": 594,
    "start_time": "2022-04-07T08:15:34.810Z"
   },
   {
    "duration": 5,
    "start_time": "2022-04-07T08:15:54.726Z"
   },
   {
    "duration": 867,
    "start_time": "2022-04-07T08:15:57.255Z"
   },
   {
    "duration": 8,
    "start_time": "2022-04-07T08:17:26.930Z"
   },
   {
    "duration": 675,
    "start_time": "2022-04-07T08:17:29.423Z"
   },
   {
    "duration": 7,
    "start_time": "2022-04-07T08:18:01.762Z"
   },
   {
    "duration": 518,
    "start_time": "2022-04-07T08:18:04.329Z"
   },
   {
    "duration": 5,
    "start_time": "2022-04-07T08:18:12.478Z"
   },
   {
    "duration": 612,
    "start_time": "2022-04-07T08:18:15.370Z"
   },
   {
    "duration": 553,
    "start_time": "2022-04-07T08:18:36.662Z"
   },
   {
    "duration": 5,
    "start_time": "2022-04-07T08:19:26.998Z"
   },
   {
    "duration": 1811,
    "start_time": "2022-04-07T08:19:29.904Z"
   },
   {
    "duration": 4,
    "start_time": "2022-04-07T08:20:21.861Z"
   },
   {
    "duration": 1698,
    "start_time": "2022-04-07T08:20:24.848Z"
   },
   {
    "duration": 613,
    "start_time": "2022-04-07T08:22:07.615Z"
   },
   {
    "duration": 102,
    "start_time": "2022-04-07T08:23:25.582Z"
   },
   {
    "duration": 525,
    "start_time": "2022-04-07T08:23:36.342Z"
   },
   {
    "duration": 738,
    "start_time": "2022-04-07T08:23:40.862Z"
   },
   {
    "duration": 526,
    "start_time": "2022-04-07T08:24:25.676Z"
   },
   {
    "duration": 519,
    "start_time": "2022-04-07T08:25:08.914Z"
   },
   {
    "duration": 651,
    "start_time": "2022-04-07T08:25:41.146Z"
   },
   {
    "duration": 575,
    "start_time": "2022-04-07T08:25:56.903Z"
   },
   {
    "duration": 3,
    "start_time": "2022-04-07T08:37:40.566Z"
   },
   {
    "duration": 3,
    "start_time": "2022-04-07T08:50:11.189Z"
   },
   {
    "duration": 3,
    "start_time": "2022-04-07T08:50:15.323Z"
   },
   {
    "duration": 3,
    "start_time": "2022-04-07T08:51:00.343Z"
   },
   {
    "duration": 2,
    "start_time": "2022-04-07T08:51:02.790Z"
   },
   {
    "duration": 91,
    "start_time": "2022-04-07T08:51:45.931Z"
   },
   {
    "duration": 8,
    "start_time": "2022-04-07T08:53:24.233Z"
   },
   {
    "duration": 4,
    "start_time": "2022-04-07T08:54:03.227Z"
   },
   {
    "duration": 5,
    "start_time": "2022-04-07T08:54:23.031Z"
   },
   {
    "duration": 920,
    "start_time": "2022-04-07T08:54:23.037Z"
   },
   {
    "duration": 231,
    "start_time": "2022-04-07T08:54:23.958Z"
   },
   {
    "duration": 1326,
    "start_time": "2022-04-07T08:54:24.190Z"
   },
   {
    "duration": 3,
    "start_time": "2022-04-07T08:54:25.518Z"
   },
   {
    "duration": 120,
    "start_time": "2022-04-07T08:54:25.522Z"
   },
   {
    "duration": 52,
    "start_time": "2022-04-07T08:54:25.644Z"
   },
   {
    "duration": 170,
    "start_time": "2022-04-07T08:54:25.698Z"
   },
   {
    "duration": 20,
    "start_time": "2022-04-07T08:54:25.870Z"
   },
   {
    "duration": 6,
    "start_time": "2022-04-07T08:54:25.891Z"
   },
   {
    "duration": 36,
    "start_time": "2022-04-07T08:54:25.900Z"
   },
   {
    "duration": 10,
    "start_time": "2022-04-07T08:54:25.937Z"
   },
   {
    "duration": 4,
    "start_time": "2022-04-07T08:54:25.948Z"
   },
   {
    "duration": 340,
    "start_time": "2022-04-07T08:54:25.954Z"
   },
   {
    "duration": 21,
    "start_time": "2022-04-07T08:54:26.296Z"
   },
   {
    "duration": 20,
    "start_time": "2022-04-07T08:54:26.330Z"
   },
   {
    "duration": 14,
    "start_time": "2022-04-07T08:54:26.351Z"
   },
   {
    "duration": 236,
    "start_time": "2022-04-07T08:54:26.367Z"
   },
   {
    "duration": 26,
    "start_time": "2022-04-07T08:54:26.605Z"
   },
   {
    "duration": 14,
    "start_time": "2022-04-07T08:54:26.633Z"
   },
   {
    "duration": 13,
    "start_time": "2022-04-07T08:54:26.648Z"
   },
   {
    "duration": 5,
    "start_time": "2022-04-07T08:54:26.662Z"
   },
   {
    "duration": 6,
    "start_time": "2022-04-07T08:54:26.668Z"
   },
   {
    "duration": 580,
    "start_time": "2022-04-07T08:54:26.675Z"
   },
   {
    "duration": 650,
    "start_time": "2022-04-07T08:54:27.257Z"
   },
   {
    "duration": 574,
    "start_time": "2022-04-07T08:54:27.909Z"
   },
   {
    "duration": 628,
    "start_time": "2022-04-07T08:54:28.484Z"
   },
   {
    "duration": 354,
    "start_time": "2022-04-07T08:54:29.114Z"
   },
   {
    "duration": 6,
    "start_time": "2022-04-07T08:54:29.472Z"
   },
   {
    "duration": 460,
    "start_time": "2022-04-07T08:54:29.480Z"
   },
   {
    "duration": 14,
    "start_time": "2022-04-07T08:54:29.941Z"
   },
   {
    "duration": 8,
    "start_time": "2022-04-07T08:54:29.956Z"
   },
   {
    "duration": 8,
    "start_time": "2022-04-07T08:54:29.966Z"
   },
   {
    "duration": 8,
    "start_time": "2022-04-07T08:54:29.976Z"
   },
   {
    "duration": 5,
    "start_time": "2022-04-07T08:54:29.986Z"
   },
   {
    "duration": 5,
    "start_time": "2022-04-07T08:54:29.992Z"
   },
   {
    "duration": 2,
    "start_time": "2022-04-07T08:54:36.279Z"
   },
   {
    "duration": 2,
    "start_time": "2022-04-07T08:55:52.886Z"
   },
   {
    "duration": 2716,
    "start_time": "2022-04-07T08:57:10.017Z"
   },
   {
    "duration": 109,
    "start_time": "2022-04-07T08:58:31.043Z"
   },
   {
    "duration": 1972,
    "start_time": "2022-04-07T08:58:49.959Z"
   },
   {
    "duration": 120252,
    "start_time": "2022-04-07T08:59:24.889Z"
   },
   {
    "duration": 49951,
    "start_time": "2022-04-07T09:02:06.681Z"
   },
   {
    "duration": 3,
    "start_time": "2022-04-07T09:07:34.663Z"
   },
   {
    "duration": 137,
    "start_time": "2022-04-07T09:08:23.325Z"
   },
   {
    "duration": 494,
    "start_time": "2022-04-07T09:12:10.841Z"
   },
   {
    "duration": 39231,
    "start_time": "2022-04-07T09:13:40.098Z"
   },
   {
    "duration": 454,
    "start_time": "2022-04-07T09:17:43.586Z"
   },
   {
    "duration": 4,
    "start_time": "2022-04-07T09:17:48.597Z"
   },
   {
    "duration": 777,
    "start_time": "2022-04-07T09:17:48.603Z"
   },
   {
    "duration": 243,
    "start_time": "2022-04-07T09:17:49.382Z"
   },
   {
    "duration": 1280,
    "start_time": "2022-04-07T09:17:49.627Z"
   },
   {
    "duration": 3,
    "start_time": "2022-04-07T09:17:50.909Z"
   },
   {
    "duration": 120,
    "start_time": "2022-04-07T09:17:50.913Z"
   },
   {
    "duration": 42,
    "start_time": "2022-04-07T09:17:51.035Z"
   },
   {
    "duration": 150,
    "start_time": "2022-04-07T09:17:51.079Z"
   },
   {
    "duration": 24,
    "start_time": "2022-04-07T09:17:51.231Z"
   },
   {
    "duration": 7,
    "start_time": "2022-04-07T09:17:51.256Z"
   },
   {
    "duration": 14,
    "start_time": "2022-04-07T09:17:51.265Z"
   },
   {
    "duration": 8,
    "start_time": "2022-04-07T09:17:51.281Z"
   },
   {
    "duration": 3,
    "start_time": "2022-04-07T09:17:51.291Z"
   },
   {
    "duration": 361,
    "start_time": "2022-04-07T09:17:51.296Z"
   },
   {
    "duration": 20,
    "start_time": "2022-04-07T09:17:51.658Z"
   },
   {
    "duration": 25,
    "start_time": "2022-04-07T09:17:51.680Z"
   },
   {
    "duration": 31,
    "start_time": "2022-04-07T09:17:51.707Z"
   },
   {
    "duration": 221,
    "start_time": "2022-04-07T09:17:51.739Z"
   },
   {
    "duration": 20,
    "start_time": "2022-04-07T09:17:51.962Z"
   },
   {
    "duration": 14,
    "start_time": "2022-04-07T09:17:51.983Z"
   },
   {
    "duration": 35,
    "start_time": "2022-04-07T09:17:51.999Z"
   },
   {
    "duration": 6,
    "start_time": "2022-04-07T09:17:52.035Z"
   },
   {
    "duration": 6,
    "start_time": "2022-04-07T09:17:52.043Z"
   },
   {
    "duration": 562,
    "start_time": "2022-04-07T09:17:52.050Z"
   },
   {
    "duration": 638,
    "start_time": "2022-04-07T09:17:52.614Z"
   },
   {
    "duration": 539,
    "start_time": "2022-04-07T09:17:53.253Z"
   },
   {
    "duration": 639,
    "start_time": "2022-04-07T09:17:53.794Z"
   },
   {
    "duration": 349,
    "start_time": "2022-04-07T09:17:54.435Z"
   },
   {
    "duration": 6,
    "start_time": "2022-04-07T09:17:54.787Z"
   },
   {
    "duration": 457,
    "start_time": "2022-04-07T09:17:54.794Z"
   },
   {
    "duration": 14,
    "start_time": "2022-04-07T09:17:55.253Z"
   },
   {
    "duration": 7,
    "start_time": "2022-04-07T09:17:55.269Z"
   },
   {
    "duration": 7,
    "start_time": "2022-04-07T09:17:55.278Z"
   },
   {
    "duration": 12,
    "start_time": "2022-04-07T09:17:55.287Z"
   },
   {
    "duration": 11,
    "start_time": "2022-04-07T09:17:55.301Z"
   },
   {
    "duration": 5,
    "start_time": "2022-04-07T09:17:55.313Z"
   },
   {
    "duration": 2,
    "start_time": "2022-04-07T09:17:55.330Z"
   },
   {
    "duration": 1702,
    "start_time": "2022-04-07T09:17:55.333Z"
   },
   {
    "duration": 2293,
    "start_time": "2022-04-07T09:17:57.037Z"
   },
   {
    "duration": 113807,
    "start_time": "2022-04-07T09:17:59.331Z"
   },
   {
    "duration": 40991,
    "start_time": "2022-04-07T09:19:53.140Z"
   },
   {
    "duration": 881498,
    "start_time": "2022-04-07T09:20:34.133Z"
   },
   {
    "duration": 7,
    "start_time": "2022-04-07T09:35:15.632Z"
   },
   {
    "duration": 6,
    "start_time": "2022-04-07T09:35:58.830Z"
   },
   {
    "duration": 37123,
    "start_time": "2022-04-07T09:36:51.477Z"
   },
   {
    "duration": 7,
    "start_time": "2022-04-07T09:37:54.819Z"
   },
   {
    "duration": 8,
    "start_time": "2022-04-07T09:38:07.563Z"
   },
   {
    "duration": 8,
    "start_time": "2022-04-07T09:38:13.295Z"
   },
   {
    "duration": 36486,
    "start_time": "2022-04-07T09:39:20.710Z"
   },
   {
    "duration": 120,
    "start_time": "2022-04-07T09:40:55.524Z"
   },
   {
    "duration": 51671,
    "start_time": "2022-04-07T09:44:43.938Z"
   },
   {
    "duration": 10,
    "start_time": "2022-04-07T09:46:33.540Z"
   },
   {
    "duration": 40088,
    "start_time": "2022-04-07T09:57:26.984Z"
   },
   {
    "duration": 42773,
    "start_time": "2022-04-07T10:04:54.572Z"
   },
   {
    "duration": 286,
    "start_time": "2022-04-07T10:05:37.347Z"
   },
   {
    "duration": 44053,
    "start_time": "2022-04-07T10:05:50.201Z"
   },
   {
    "duration": 44250,
    "start_time": "2022-04-07T10:06:34.256Z"
   },
   {
    "duration": 47907,
    "start_time": "2022-04-07T10:10:05.999Z"
   },
   {
    "duration": 38758,
    "start_time": "2022-04-07T10:15:18.877Z"
   },
   {
    "duration": 39663,
    "start_time": "2022-04-07T10:18:49.617Z"
   },
   {
    "duration": 45845,
    "start_time": "2022-04-07T10:19:52.905Z"
   },
   {
    "duration": 3,
    "start_time": "2022-04-07T10:20:38.751Z"
   },
   {
    "duration": 42406,
    "start_time": "2022-04-07T10:26:31.923Z"
   },
   {
    "duration": 43028,
    "start_time": "2022-04-07T10:28:52.248Z"
   },
   {
    "duration": 41564,
    "start_time": "2022-04-07T10:29:41.393Z"
   },
   {
    "duration": 3,
    "start_time": "2022-04-07T10:31:50.982Z"
   },
   {
    "duration": 4,
    "start_time": "2022-04-07T10:31:58.473Z"
   },
   {
    "duration": 696,
    "start_time": "2022-04-07T10:31:58.479Z"
   },
   {
    "duration": 229,
    "start_time": "2022-04-07T10:31:59.177Z"
   },
   {
    "duration": 1780,
    "start_time": "2022-04-07T10:31:59.407Z"
   },
   {
    "duration": 4,
    "start_time": "2022-04-07T10:32:01.189Z"
   },
   {
    "duration": 139,
    "start_time": "2022-04-07T10:32:01.194Z"
   },
   {
    "duration": 48,
    "start_time": "2022-04-07T10:32:01.335Z"
   },
   {
    "duration": 173,
    "start_time": "2022-04-07T10:32:01.385Z"
   },
   {
    "duration": 20,
    "start_time": "2022-04-07T10:32:01.561Z"
   },
   {
    "duration": 38,
    "start_time": "2022-04-07T10:32:01.582Z"
   },
   {
    "duration": 48,
    "start_time": "2022-04-07T10:32:01.621Z"
   },
   {
    "duration": 48,
    "start_time": "2022-04-07T10:32:01.671Z"
   },
   {
    "duration": 31,
    "start_time": "2022-04-07T10:32:01.721Z"
   },
   {
    "duration": 377,
    "start_time": "2022-04-07T10:32:01.754Z"
   },
   {
    "duration": 21,
    "start_time": "2022-04-07T10:32:02.133Z"
   },
   {
    "duration": 58,
    "start_time": "2022-04-07T10:32:02.156Z"
   },
   {
    "duration": 37,
    "start_time": "2022-04-07T10:32:02.216Z"
   },
   {
    "duration": 245,
    "start_time": "2022-04-07T10:32:02.254Z"
   },
   {
    "duration": 19,
    "start_time": "2022-04-07T10:32:02.501Z"
   },
   {
    "duration": 29,
    "start_time": "2022-04-07T10:32:02.521Z"
   },
   {
    "duration": 28,
    "start_time": "2022-04-07T10:32:02.551Z"
   },
   {
    "duration": 43,
    "start_time": "2022-04-07T10:32:02.581Z"
   },
   {
    "duration": 48,
    "start_time": "2022-04-07T10:32:02.626Z"
   },
   {
    "duration": 574,
    "start_time": "2022-04-07T10:32:02.677Z"
   },
   {
    "duration": 666,
    "start_time": "2022-04-07T10:32:03.252Z"
   },
   {
    "duration": 573,
    "start_time": "2022-04-07T10:32:03.920Z"
   },
   {
    "duration": 666,
    "start_time": "2022-04-07T10:32:04.495Z"
   },
   {
    "duration": 367,
    "start_time": "2022-04-07T10:32:05.162Z"
   },
   {
    "duration": 7,
    "start_time": "2022-04-07T10:32:05.531Z"
   },
   {
    "duration": 454,
    "start_time": "2022-04-07T10:32:05.540Z"
   },
   {
    "duration": 15,
    "start_time": "2022-04-07T10:32:05.996Z"
   },
   {
    "duration": 20,
    "start_time": "2022-04-07T10:32:06.012Z"
   },
   {
    "duration": 14,
    "start_time": "2022-04-07T10:32:06.034Z"
   },
   {
    "duration": 23,
    "start_time": "2022-04-07T10:32:06.049Z"
   },
   {
    "duration": 8,
    "start_time": "2022-04-07T10:32:06.073Z"
   },
   {
    "duration": 3,
    "start_time": "2022-04-07T10:32:28.738Z"
   },
   {
    "duration": 4,
    "start_time": "2022-04-07T10:34:58.652Z"
   },
   {
    "duration": 4,
    "start_time": "2022-04-07T10:35:05.779Z"
   },
   {
    "duration": 3,
    "start_time": "2022-04-07T10:45:02.880Z"
   },
   {
    "duration": 602,
    "start_time": "2022-04-07T10:59:34.841Z"
   },
   {
    "duration": 5,
    "start_time": "2022-04-07T10:59:56.036Z"
   },
   {
    "duration": 813,
    "start_time": "2022-04-07T10:59:56.043Z"
   },
   {
    "duration": 237,
    "start_time": "2022-04-07T10:59:56.857Z"
   },
   {
    "duration": 1283,
    "start_time": "2022-04-07T10:59:57.096Z"
   },
   {
    "duration": 4,
    "start_time": "2022-04-07T10:59:58.380Z"
   },
   {
    "duration": 144,
    "start_time": "2022-04-07T10:59:58.386Z"
   },
   {
    "duration": 48,
    "start_time": "2022-04-07T10:59:58.531Z"
   },
   {
    "duration": 167,
    "start_time": "2022-04-07T10:59:58.581Z"
   },
   {
    "duration": 21,
    "start_time": "2022-04-07T10:59:58.751Z"
   },
   {
    "duration": 6,
    "start_time": "2022-04-07T10:59:58.774Z"
   },
   {
    "duration": 19,
    "start_time": "2022-04-07T10:59:58.782Z"
   },
   {
    "duration": 35,
    "start_time": "2022-04-07T10:59:58.803Z"
   },
   {
    "duration": 4,
    "start_time": "2022-04-07T10:59:58.840Z"
   },
   {
    "duration": 264,
    "start_time": "2022-04-07T10:59:58.846Z"
   },
   {
    "duration": 27,
    "start_time": "2022-04-07T10:59:59.111Z"
   },
   {
    "duration": 21,
    "start_time": "2022-04-07T10:59:59.139Z"
   },
   {
    "duration": 18,
    "start_time": "2022-04-07T10:59:59.162Z"
   },
   {
    "duration": 349,
    "start_time": "2022-04-07T10:59:59.181Z"
   },
   {
    "duration": 19,
    "start_time": "2022-04-07T10:59:59.532Z"
   },
   {
    "duration": 17,
    "start_time": "2022-04-07T10:59:59.553Z"
   },
   {
    "duration": 13,
    "start_time": "2022-04-07T10:59:59.572Z"
   },
   {
    "duration": 5,
    "start_time": "2022-04-07T10:59:59.586Z"
   },
   {
    "duration": 10,
    "start_time": "2022-04-07T10:59:59.593Z"
   },
   {
    "duration": 589,
    "start_time": "2022-04-07T10:59:59.631Z"
   },
   {
    "duration": 677,
    "start_time": "2022-04-07T11:00:00.222Z"
   },
   {
    "duration": 932,
    "start_time": "2022-04-07T11:00:00.901Z"
   },
   {
    "duration": 950,
    "start_time": "2022-04-07T11:00:01.835Z"
   },
   {
    "duration": 513,
    "start_time": "2022-04-07T11:00:02.787Z"
   },
   {
    "duration": 8,
    "start_time": "2022-04-07T11:00:03.301Z"
   },
   {
    "duration": 487,
    "start_time": "2022-04-07T11:00:03.310Z"
   },
   {
    "duration": 15,
    "start_time": "2022-04-07T11:00:03.799Z"
   },
   {
    "duration": 22,
    "start_time": "2022-04-07T11:00:03.816Z"
   },
   {
    "duration": 7,
    "start_time": "2022-04-07T11:00:03.840Z"
   },
   {
    "duration": 16,
    "start_time": "2022-04-07T11:00:03.848Z"
   },
   {
    "duration": 5,
    "start_time": "2022-04-07T11:00:03.866Z"
   },
   {
    "duration": 11,
    "start_time": "2022-04-07T11:00:03.873Z"
   },
   {
    "duration": 6,
    "start_time": "2022-04-07T11:00:03.885Z"
   },
   {
    "duration": 2540,
    "start_time": "2022-04-07T11:00:03.892Z"
   },
   {
    "duration": 2803,
    "start_time": "2022-04-07T11:00:06.434Z"
   },
   {
    "duration": 133303,
    "start_time": "2022-04-07T11:00:09.239Z"
   },
   {
    "duration": 34991,
    "start_time": "2022-04-07T11:02:22.544Z"
   },
   {
    "duration": 880313,
    "start_time": "2022-04-07T11:02:57.536Z"
   },
   {
    "duration": 6,
    "start_time": "2022-04-07T11:17:37.851Z"
   },
   {
    "duration": 36502,
    "start_time": "2022-04-07T11:17:37.858Z"
   },
   {
    "duration": 8,
    "start_time": "2022-04-07T11:18:14.361Z"
   },
   {
    "duration": 7,
    "start_time": "2022-04-07T11:18:14.370Z"
   },
   {
    "duration": 7,
    "start_time": "2022-04-07T11:18:14.378Z"
   },
   {
    "duration": 39672,
    "start_time": "2022-04-07T11:18:14.387Z"
   },
   {
    "duration": 176,
    "start_time": "2022-04-07T11:18:54.060Z"
   },
   {
    "duration": 193,
    "start_time": "2022-04-07T11:18:54.238Z"
   },
   {
    "duration": 12,
    "start_time": "2022-04-07T11:18:54.432Z"
   },
   {
    "duration": 37352,
    "start_time": "2022-04-07T11:19:54.963Z"
   },
   {
    "duration": 38667,
    "start_time": "2022-04-07T11:21:20.582Z"
   },
   {
    "duration": 17182,
    "start_time": "2022-04-07T11:22:06.157Z"
   },
   {
    "duration": 390,
    "start_time": "2022-04-07T11:23:07.342Z"
   },
   {
    "duration": 2,
    "start_time": "2022-04-07T11:24:17.205Z"
   },
   {
    "duration": 3,
    "start_time": "2022-04-07T11:24:46.856Z"
   }
  ],
  "kernelspec": {
   "display_name": "Python 3 (ipykernel)",
   "language": "python",
   "name": "python3"
  },
  "language_info": {
   "codemirror_mode": {
    "name": "ipython",
    "version": 3
   },
   "file_extension": ".py",
   "mimetype": "text/x-python",
   "name": "python",
   "nbconvert_exporter": "python",
   "pygments_lexer": "ipython3",
   "version": "3.9.7"
  },
  "toc": {
   "base_numbering": 1,
   "nav_menu": {},
   "number_sections": true,
   "sideBar": true,
   "skip_h1_title": true,
   "title_cell": "Содержание",
   "title_sidebar": "Contents",
   "toc_cell": true,
   "toc_position": {},
   "toc_section_display": true,
   "toc_window_display": true
  }
 },
 "nbformat": 4,
 "nbformat_minor": 2
}
