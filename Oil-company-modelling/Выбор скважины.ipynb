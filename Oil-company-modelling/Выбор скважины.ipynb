{
 "cells": [
  {
   "cell_type": "markdown",
   "metadata": {},
   "source": [
    "# Выбор локации для скважины"
   ]
  },
  {
   "cell_type": "markdown",
   "metadata": {},
   "source": [
    "Допустим, вы работаете в добывающей компании «ГлавРосГосНефть». Нужно решить, где бурить новую скважину.\n",
    "\n",
    "Вам предоставлены пробы нефти в трёх регионах: в каждом 10 000 месторождений, где измерили качество нефти и объём её запасов. Постройте модель машинного обучения, которая поможет определить регион, где добыча принесёт наибольшую прибыль. Проанализируйте возможную прибыль и риски техникой *Bootstrap.*\n",
    "\n",
    "Шаги для выбора локации:\n",
    "\n",
    "- В избранном регионе ищут месторождения, для каждого определяют значения признаков;\n",
    "- Строят модель и оценивают объём запасов;\n",
    "- Выбирают месторождения с самым высокими оценками значений. Количество месторождений зависит от бюджета компании и стоимости разработки одной скважины;\n",
    "- Прибыль равна суммарной прибыли отобранных месторождений."
   ]
  },
  {
   "cell_type": "markdown",
   "metadata": {},
   "source": [
    "Описание данных:\n",
    "\n",
    "- id — уникальный идентификатор скважины;\n",
    "- f0, f1, f2 — три признака точек (неважно, что они означают, но сами признаки значимы);\n",
    "- product — объём запасов в скважине (тыс. баррелей)."
   ]
  },
  {
   "cell_type": "markdown",
   "metadata": {},
   "source": [
    "## Загрузка и подготовка данных"
   ]
  },
  {
   "cell_type": "code",
   "execution_count": 56,
   "metadata": {},
   "outputs": [],
   "source": [
    "# загружу библиотеки\n",
    "import pandas as pd\n",
    "import numpy as np\n",
    "import matplotlib.pyplot as plt\n",
    "from sklearn.model_selection import train_test_split\n",
    "from sklearn.linear_model import LinearRegression\n",
    "from sklearn.metrics import mean_squared_error\n",
    "from sklearn.metrics import r2_score\n",
    "from sklearn.metrics import mean_absolute_error\n",
    "import warnings\n",
    "warnings.filterwarnings('ignore')"
   ]
  },
  {
   "cell_type": "code",
   "execution_count": 57,
   "metadata": {
    "scrolled": false
   },
   "outputs": [
    {
     "data": {
      "text/html": [
       "<div>\n",
       "<style scoped>\n",
       "    .dataframe tbody tr th:only-of-type {\n",
       "        vertical-align: middle;\n",
       "    }\n",
       "\n",
       "    .dataframe tbody tr th {\n",
       "        vertical-align: top;\n",
       "    }\n",
       "\n",
       "    .dataframe thead th {\n",
       "        text-align: right;\n",
       "    }\n",
       "</style>\n",
       "<table border=\"1\" class=\"dataframe\">\n",
       "  <thead>\n",
       "    <tr style=\"text-align: right;\">\n",
       "      <th></th>\n",
       "      <th>id</th>\n",
       "      <th>f0</th>\n",
       "      <th>f1</th>\n",
       "      <th>f2</th>\n",
       "      <th>product</th>\n",
       "    </tr>\n",
       "  </thead>\n",
       "  <tbody>\n",
       "    <tr>\n",
       "      <th>0</th>\n",
       "      <td>txEyH</td>\n",
       "      <td>0.705745</td>\n",
       "      <td>-0.497823</td>\n",
       "      <td>1.221170</td>\n",
       "      <td>105.280062</td>\n",
       "    </tr>\n",
       "    <tr>\n",
       "      <th>1</th>\n",
       "      <td>2acmU</td>\n",
       "      <td>1.334711</td>\n",
       "      <td>-0.340164</td>\n",
       "      <td>4.365080</td>\n",
       "      <td>73.037750</td>\n",
       "    </tr>\n",
       "    <tr>\n",
       "      <th>2</th>\n",
       "      <td>409Wp</td>\n",
       "      <td>1.022732</td>\n",
       "      <td>0.151990</td>\n",
       "      <td>1.419926</td>\n",
       "      <td>85.265647</td>\n",
       "    </tr>\n",
       "    <tr>\n",
       "      <th>3</th>\n",
       "      <td>iJLyR</td>\n",
       "      <td>-0.032172</td>\n",
       "      <td>0.139033</td>\n",
       "      <td>2.978566</td>\n",
       "      <td>168.620776</td>\n",
       "    </tr>\n",
       "    <tr>\n",
       "      <th>4</th>\n",
       "      <td>Xdl7t</td>\n",
       "      <td>1.988431</td>\n",
       "      <td>0.155413</td>\n",
       "      <td>4.751769</td>\n",
       "      <td>154.036647</td>\n",
       "    </tr>\n",
       "  </tbody>\n",
       "</table>\n",
       "</div>"
      ],
      "text/plain": [
       "      id        f0        f1        f2     product\n",
       "0  txEyH  0.705745 -0.497823  1.221170  105.280062\n",
       "1  2acmU  1.334711 -0.340164  4.365080   73.037750\n",
       "2  409Wp  1.022732  0.151990  1.419926   85.265647\n",
       "3  iJLyR -0.032172  0.139033  2.978566  168.620776\n",
       "4  Xdl7t  1.988431  0.155413  4.751769  154.036647"
      ]
     },
     "metadata": {},
     "output_type": "display_data"
    },
    {
     "data": {
      "text/html": [
       "<div>\n",
       "<style scoped>\n",
       "    .dataframe tbody tr th:only-of-type {\n",
       "        vertical-align: middle;\n",
       "    }\n",
       "\n",
       "    .dataframe tbody tr th {\n",
       "        vertical-align: top;\n",
       "    }\n",
       "\n",
       "    .dataframe thead th {\n",
       "        text-align: right;\n",
       "    }\n",
       "</style>\n",
       "<table border=\"1\" class=\"dataframe\">\n",
       "  <thead>\n",
       "    <tr style=\"text-align: right;\">\n",
       "      <th></th>\n",
       "      <th>id</th>\n",
       "      <th>f0</th>\n",
       "      <th>f1</th>\n",
       "      <th>f2</th>\n",
       "      <th>product</th>\n",
       "    </tr>\n",
       "  </thead>\n",
       "  <tbody>\n",
       "    <tr>\n",
       "      <th>0</th>\n",
       "      <td>kBEdx</td>\n",
       "      <td>-15.001348</td>\n",
       "      <td>-8.276000</td>\n",
       "      <td>-0.005876</td>\n",
       "      <td>3.179103</td>\n",
       "    </tr>\n",
       "    <tr>\n",
       "      <th>1</th>\n",
       "      <td>62mP7</td>\n",
       "      <td>14.272088</td>\n",
       "      <td>-3.475083</td>\n",
       "      <td>0.999183</td>\n",
       "      <td>26.953261</td>\n",
       "    </tr>\n",
       "    <tr>\n",
       "      <th>2</th>\n",
       "      <td>vyE1P</td>\n",
       "      <td>6.263187</td>\n",
       "      <td>-5.948386</td>\n",
       "      <td>5.001160</td>\n",
       "      <td>134.766305</td>\n",
       "    </tr>\n",
       "    <tr>\n",
       "      <th>3</th>\n",
       "      <td>KcrkZ</td>\n",
       "      <td>-13.081196</td>\n",
       "      <td>-11.506057</td>\n",
       "      <td>4.999415</td>\n",
       "      <td>137.945408</td>\n",
       "    </tr>\n",
       "    <tr>\n",
       "      <th>4</th>\n",
       "      <td>AHL4O</td>\n",
       "      <td>12.702195</td>\n",
       "      <td>-8.147433</td>\n",
       "      <td>5.004363</td>\n",
       "      <td>134.766305</td>\n",
       "    </tr>\n",
       "  </tbody>\n",
       "</table>\n",
       "</div>"
      ],
      "text/plain": [
       "      id         f0         f1        f2     product\n",
       "0  kBEdx -15.001348  -8.276000 -0.005876    3.179103\n",
       "1  62mP7  14.272088  -3.475083  0.999183   26.953261\n",
       "2  vyE1P   6.263187  -5.948386  5.001160  134.766305\n",
       "3  KcrkZ -13.081196 -11.506057  4.999415  137.945408\n",
       "4  AHL4O  12.702195  -8.147433  5.004363  134.766305"
      ]
     },
     "metadata": {},
     "output_type": "display_data"
    },
    {
     "data": {
      "text/html": [
       "<div>\n",
       "<style scoped>\n",
       "    .dataframe tbody tr th:only-of-type {\n",
       "        vertical-align: middle;\n",
       "    }\n",
       "\n",
       "    .dataframe tbody tr th {\n",
       "        vertical-align: top;\n",
       "    }\n",
       "\n",
       "    .dataframe thead th {\n",
       "        text-align: right;\n",
       "    }\n",
       "</style>\n",
       "<table border=\"1\" class=\"dataframe\">\n",
       "  <thead>\n",
       "    <tr style=\"text-align: right;\">\n",
       "      <th></th>\n",
       "      <th>id</th>\n",
       "      <th>f0</th>\n",
       "      <th>f1</th>\n",
       "      <th>f2</th>\n",
       "      <th>product</th>\n",
       "    </tr>\n",
       "  </thead>\n",
       "  <tbody>\n",
       "    <tr>\n",
       "      <th>0</th>\n",
       "      <td>fwXo0</td>\n",
       "      <td>-1.146987</td>\n",
       "      <td>0.963328</td>\n",
       "      <td>-0.828965</td>\n",
       "      <td>27.758673</td>\n",
       "    </tr>\n",
       "    <tr>\n",
       "      <th>1</th>\n",
       "      <td>WJtFt</td>\n",
       "      <td>0.262778</td>\n",
       "      <td>0.269839</td>\n",
       "      <td>-2.530187</td>\n",
       "      <td>56.069697</td>\n",
       "    </tr>\n",
       "    <tr>\n",
       "      <th>2</th>\n",
       "      <td>ovLUW</td>\n",
       "      <td>0.194587</td>\n",
       "      <td>0.289035</td>\n",
       "      <td>-5.586433</td>\n",
       "      <td>62.871910</td>\n",
       "    </tr>\n",
       "    <tr>\n",
       "      <th>3</th>\n",
       "      <td>q6cA6</td>\n",
       "      <td>2.236060</td>\n",
       "      <td>-0.553760</td>\n",
       "      <td>0.930038</td>\n",
       "      <td>114.572842</td>\n",
       "    </tr>\n",
       "    <tr>\n",
       "      <th>4</th>\n",
       "      <td>WPMUX</td>\n",
       "      <td>-0.515993</td>\n",
       "      <td>1.716266</td>\n",
       "      <td>5.899011</td>\n",
       "      <td>149.600746</td>\n",
       "    </tr>\n",
       "  </tbody>\n",
       "</table>\n",
       "</div>"
      ],
      "text/plain": [
       "      id        f0        f1        f2     product\n",
       "0  fwXo0 -1.146987  0.963328 -0.828965   27.758673\n",
       "1  WJtFt  0.262778  0.269839 -2.530187   56.069697\n",
       "2  ovLUW  0.194587  0.289035 -5.586433   62.871910\n",
       "3  q6cA6  2.236060 -0.553760  0.930038  114.572842\n",
       "4  WPMUX -0.515993  1.716266  5.899011  149.600746"
      ]
     },
     "metadata": {},
     "output_type": "display_data"
    }
   ],
   "source": [
    "# загружу и ознакомлюсь с датасетами по регионам бурения\n",
    "df_1 = pd.read_csv('https://code.s3.yandex.net/datasets/geo_data_0.csv') # регион № 1\n",
    "df_2 = pd.read_csv('https://code.s3.yandex.net/datasets/geo_data_1.csv') # регион № 2\n",
    "df_3 = pd.read_csv('https://code.s3.yandex.net/datasets/geo_data_2.csv') # регион № 3\n",
    "display(df_1.head())\n",
    "display(df_2.head())\n",
    "display(df_3.head())"
   ]
  },
  {
   "cell_type": "code",
   "execution_count": 58,
   "metadata": {},
   "outputs": [
    {
     "name": "stdout",
     "output_type": "stream",
     "text": [
      "<class 'pandas.core.frame.DataFrame'>\n",
      "RangeIndex: 100000 entries, 0 to 99999\n",
      "Data columns (total 5 columns):\n",
      " #   Column   Non-Null Count   Dtype  \n",
      "---  ------   --------------   -----  \n",
      " 0   id       100000 non-null  object \n",
      " 1   f0       100000 non-null  float64\n",
      " 2   f1       100000 non-null  float64\n",
      " 3   f2       100000 non-null  float64\n",
      " 4   product  100000 non-null  float64\n",
      "dtypes: float64(4), object(1)\n",
      "memory usage: 3.8+ MB\n"
     ]
    },
    {
     "data": {
      "text/plain": [
       "None"
      ]
     },
     "metadata": {},
     "output_type": "display_data"
    },
    {
     "name": "stdout",
     "output_type": "stream",
     "text": [
      "<class 'pandas.core.frame.DataFrame'>\n",
      "RangeIndex: 100000 entries, 0 to 99999\n",
      "Data columns (total 5 columns):\n",
      " #   Column   Non-Null Count   Dtype  \n",
      "---  ------   --------------   -----  \n",
      " 0   id       100000 non-null  object \n",
      " 1   f0       100000 non-null  float64\n",
      " 2   f1       100000 non-null  float64\n",
      " 3   f2       100000 non-null  float64\n",
      " 4   product  100000 non-null  float64\n",
      "dtypes: float64(4), object(1)\n",
      "memory usage: 3.8+ MB\n"
     ]
    },
    {
     "data": {
      "text/plain": [
       "None"
      ]
     },
     "metadata": {},
     "output_type": "display_data"
    },
    {
     "name": "stdout",
     "output_type": "stream",
     "text": [
      "<class 'pandas.core.frame.DataFrame'>\n",
      "RangeIndex: 100000 entries, 0 to 99999\n",
      "Data columns (total 5 columns):\n",
      " #   Column   Non-Null Count   Dtype  \n",
      "---  ------   --------------   -----  \n",
      " 0   id       100000 non-null  object \n",
      " 1   f0       100000 non-null  float64\n",
      " 2   f1       100000 non-null  float64\n",
      " 3   f2       100000 non-null  float64\n",
      " 4   product  100000 non-null  float64\n",
      "dtypes: float64(4), object(1)\n",
      "memory usage: 3.8+ MB\n"
     ]
    },
    {
     "data": {
      "text/plain": [
       "None"
      ]
     },
     "metadata": {},
     "output_type": "display_data"
    }
   ],
   "source": [
    "# посмотрю на тип данных и наличие пропусков\n",
    "display(df_1.info())\n",
    "display(df_2.info())\n",
    "display(df_3.info())"
   ]
  },
  {
   "cell_type": "markdown",
   "metadata": {},
   "source": [
    "Пропусков нет, id имеет тип object"
   ]
  },
  {
   "cell_type": "code",
   "execution_count": 59,
   "metadata": {},
   "outputs": [
    {
     "data": {
      "text/plain": [
       "id          99990\n",
       "f0         100000\n",
       "f1         100000\n",
       "f2         100000\n",
       "product    100000\n",
       "dtype: int64"
      ]
     },
     "metadata": {},
     "output_type": "display_data"
    },
    {
     "data": {
      "text/plain": [
       "id          99996\n",
       "f0         100000\n",
       "f1         100000\n",
       "f2         100000\n",
       "product        12\n",
       "dtype: int64"
      ]
     },
     "metadata": {},
     "output_type": "display_data"
    },
    {
     "data": {
      "text/plain": [
       "id          99996\n",
       "f0         100000\n",
       "f1         100000\n",
       "f2         100000\n",
       "product    100000\n",
       "dtype: int64"
      ]
     },
     "metadata": {},
     "output_type": "display_data"
    }
   ],
   "source": [
    "# проверю на уникальные значения\n",
    "display(df_1.nunique())\n",
    "display(df_2.nunique())\n",
    "display(df_3.nunique())"
   ]
  },
  {
   "cell_type": "markdown",
   "metadata": {},
   "source": [
    "Возникли вопросы по значениям в id, скорее всего дубли скважин\n",
    "\n",
    "А также странные значения в product - 2 регион"
   ]
  },
  {
   "cell_type": "code",
   "execution_count": 60,
   "metadata": {},
   "outputs": [
    {
     "data": {
      "text/plain": [
       "fiKDv    2\n",
       "QcMuo    2\n",
       "AGS9W    2\n",
       "Tdehs    2\n",
       "74z30    2\n",
       "        ..\n",
       "x8osI    1\n",
       "gZ7tR    1\n",
       "Zw8hj    1\n",
       "zcrQO    1\n",
       "1CWhH    1\n",
       "Name: id, Length: 99990, dtype: int64"
      ]
     },
     "execution_count": 60,
     "metadata": {},
     "output_type": "execute_result"
    }
   ],
   "source": [
    "# проверю уникальные значения в 'id'\n",
    "df_1['id'].value_counts()"
   ]
  },
  {
   "cell_type": "code",
   "execution_count": 61,
   "metadata": {
    "scrolled": true
   },
   "outputs": [
    {
     "data": {
      "text/html": [
       "<div>\n",
       "<style scoped>\n",
       "    .dataframe tbody tr th:only-of-type {\n",
       "        vertical-align: middle;\n",
       "    }\n",
       "\n",
       "    .dataframe tbody tr th {\n",
       "        vertical-align: top;\n",
       "    }\n",
       "\n",
       "    .dataframe thead th {\n",
       "        text-align: right;\n",
       "    }\n",
       "</style>\n",
       "<table border=\"1\" class=\"dataframe\">\n",
       "  <thead>\n",
       "    <tr style=\"text-align: right;\">\n",
       "      <th></th>\n",
       "      <th>id</th>\n",
       "      <th>f0</th>\n",
       "      <th>f1</th>\n",
       "      <th>f2</th>\n",
       "      <th>product</th>\n",
       "    </tr>\n",
       "  </thead>\n",
       "  <tbody>\n",
       "    <tr>\n",
       "      <th>21426</th>\n",
       "      <td>Tdehs</td>\n",
       "      <td>0.829407</td>\n",
       "      <td>0.298807</td>\n",
       "      <td>-0.049563</td>\n",
       "      <td>96.035308</td>\n",
       "    </tr>\n",
       "    <tr>\n",
       "      <th>75715</th>\n",
       "      <td>Tdehs</td>\n",
       "      <td>0.112079</td>\n",
       "      <td>0.430296</td>\n",
       "      <td>3.218993</td>\n",
       "      <td>60.964018</td>\n",
       "    </tr>\n",
       "  </tbody>\n",
       "</table>\n",
       "</div>"
      ],
      "text/plain": [
       "          id        f0        f1        f2    product\n",
       "21426  Tdehs  0.829407  0.298807 -0.049563  96.035308\n",
       "75715  Tdehs  0.112079  0.430296  3.218993  60.964018"
      ]
     },
     "execution_count": 61,
     "metadata": {},
     "output_type": "execute_result"
    }
   ],
   "source": [
    "df_1[df_1['id'] == 'Tdehs'].head()"
   ]
  },
  {
   "cell_type": "markdown",
   "metadata": {},
   "source": [
    "Наименование одно, а данные другие."
   ]
  },
  {
   "cell_type": "markdown",
   "metadata": {},
   "source": [
    "id исключу при обучении, т.к. он никакой значимости не несет для прогноза. Суть модели в прогнозе количества сырья на основе характеристик скважины, а сопоставление по id совершенно не нужно, к тому же там странное поведение."
   ]
  },
  {
   "cell_type": "code",
   "execution_count": 62,
   "metadata": {},
   "outputs": [],
   "source": [
    "df_1 = df_1.drop('id', axis=1)\n",
    "df_2 = df_2.drop('id', axis=1)\n",
    "df_3 = df_3.drop('id', axis=1)"
   ]
  },
  {
   "cell_type": "markdown",
   "metadata": {},
   "source": [
    "Т.к. объём запасов в скважине измеряется в тыс. баррелей, то, пожалуй, округлю и уберу все значения после запятой."
   ]
  },
  {
   "cell_type": "code",
   "execution_count": 63,
   "metadata": {},
   "outputs": [
    {
     "data": {
      "text/plain": [
       "0        105.280062\n",
       "1         73.037750\n",
       "2         85.265647\n",
       "3        168.620776\n",
       "4        154.036647\n",
       "            ...    \n",
       "99995    110.744026\n",
       "99996    122.346843\n",
       "99997     64.375443\n",
       "99998     74.040764\n",
       "99999    149.633246\n",
       "Name: product, Length: 100000, dtype: float64"
      ]
     },
     "execution_count": 63,
     "metadata": {},
     "output_type": "execute_result"
    }
   ],
   "source": [
    "df_1['product']"
   ]
  },
  {
   "cell_type": "code",
   "execution_count": 64,
   "metadata": {},
   "outputs": [],
   "source": [
    "df_1['product'] = df_1['product'].round(0).astype('Int64')\n",
    "df_2['product'] = df_2['product'].round(0).astype('Int64')\n",
    "df_3['product'] = df_3['product'].round(0).astype('Int64')"
   ]
  },
  {
   "cell_type": "code",
   "execution_count": 65,
   "metadata": {
    "scrolled": true
   },
   "outputs": [
    {
     "data": {
      "text/plain": [
       "54     8472\n",
       "27     8468\n",
       "84     8431\n",
       "57     8390\n",
       "3      8337\n",
       "81     8320\n",
       "30     8306\n",
       "135    8304\n",
       "111    8303\n",
       "0      8235\n",
       "138    8233\n",
       "108    8201\n",
       "Name: product, dtype: Int64"
      ]
     },
     "execution_count": 65,
     "metadata": {},
     "output_type": "execute_result"
    }
   ],
   "source": [
    "df_2['product'].value_counts() "
   ]
  },
  {
   "cell_type": "markdown",
   "metadata": {},
   "source": [
    "Могу сделать предположение, что данную категорию поделили на 12 выборок по примерно равным объемам"
   ]
  },
  {
   "cell_type": "code",
   "execution_count": 66,
   "metadata": {
    "scrolled": false
   },
   "outputs": [
    {
     "data": {
      "text/html": [
       "<div>\n",
       "<style scoped>\n",
       "    .dataframe tbody tr th:only-of-type {\n",
       "        vertical-align: middle;\n",
       "    }\n",
       "\n",
       "    .dataframe tbody tr th {\n",
       "        vertical-align: top;\n",
       "    }\n",
       "\n",
       "    .dataframe thead th {\n",
       "        text-align: right;\n",
       "    }\n",
       "</style>\n",
       "<table border=\"1\" class=\"dataframe\">\n",
       "  <thead>\n",
       "    <tr style=\"text-align: right;\">\n",
       "      <th></th>\n",
       "      <th>f0</th>\n",
       "      <th>f1</th>\n",
       "      <th>f2</th>\n",
       "      <th>product</th>\n",
       "    </tr>\n",
       "  </thead>\n",
       "  <tbody>\n",
       "    <tr>\n",
       "      <th>count</th>\n",
       "      <td>100000.000000</td>\n",
       "      <td>100000.000000</td>\n",
       "      <td>100000.000000</td>\n",
       "      <td>100000.000000</td>\n",
       "    </tr>\n",
       "    <tr>\n",
       "      <th>mean</th>\n",
       "      <td>0.500419</td>\n",
       "      <td>0.250143</td>\n",
       "      <td>2.502647</td>\n",
       "      <td>92.500620</td>\n",
       "    </tr>\n",
       "    <tr>\n",
       "      <th>std</th>\n",
       "      <td>0.871832</td>\n",
       "      <td>0.504433</td>\n",
       "      <td>3.248248</td>\n",
       "      <td>44.289494</td>\n",
       "    </tr>\n",
       "    <tr>\n",
       "      <th>min</th>\n",
       "      <td>-1.408605</td>\n",
       "      <td>-0.848218</td>\n",
       "      <td>-12.088328</td>\n",
       "      <td>0.000000</td>\n",
       "    </tr>\n",
       "    <tr>\n",
       "      <th>25%</th>\n",
       "      <td>-0.072580</td>\n",
       "      <td>-0.200881</td>\n",
       "      <td>0.287748</td>\n",
       "      <td>56.000000</td>\n",
       "    </tr>\n",
       "    <tr>\n",
       "      <th>50%</th>\n",
       "      <td>0.502360</td>\n",
       "      <td>0.250252</td>\n",
       "      <td>2.515969</td>\n",
       "      <td>92.000000</td>\n",
       "    </tr>\n",
       "    <tr>\n",
       "      <th>75%</th>\n",
       "      <td>1.073581</td>\n",
       "      <td>0.700646</td>\n",
       "      <td>4.715088</td>\n",
       "      <td>129.000000</td>\n",
       "    </tr>\n",
       "    <tr>\n",
       "      <th>max</th>\n",
       "      <td>2.362331</td>\n",
       "      <td>1.343769</td>\n",
       "      <td>16.003790</td>\n",
       "      <td>185.000000</td>\n",
       "    </tr>\n",
       "  </tbody>\n",
       "</table>\n",
       "</div>"
      ],
      "text/plain": [
       "                  f0             f1             f2        product\n",
       "count  100000.000000  100000.000000  100000.000000  100000.000000\n",
       "mean        0.500419       0.250143       2.502647      92.500620\n",
       "std         0.871832       0.504433       3.248248      44.289494\n",
       "min        -1.408605      -0.848218     -12.088328       0.000000\n",
       "25%        -0.072580      -0.200881       0.287748      56.000000\n",
       "50%         0.502360       0.250252       2.515969      92.000000\n",
       "75%         1.073581       0.700646       4.715088     129.000000\n",
       "max         2.362331       1.343769      16.003790     185.000000"
      ]
     },
     "metadata": {},
     "output_type": "display_data"
    },
    {
     "data": {
      "text/html": [
       "<div>\n",
       "<style scoped>\n",
       "    .dataframe tbody tr th:only-of-type {\n",
       "        vertical-align: middle;\n",
       "    }\n",
       "\n",
       "    .dataframe tbody tr th {\n",
       "        vertical-align: top;\n",
       "    }\n",
       "\n",
       "    .dataframe thead th {\n",
       "        text-align: right;\n",
       "    }\n",
       "</style>\n",
       "<table border=\"1\" class=\"dataframe\">\n",
       "  <thead>\n",
       "    <tr style=\"text-align: right;\">\n",
       "      <th></th>\n",
       "      <th>f0</th>\n",
       "      <th>f1</th>\n",
       "      <th>f2</th>\n",
       "      <th>product</th>\n",
       "    </tr>\n",
       "  </thead>\n",
       "  <tbody>\n",
       "    <tr>\n",
       "      <th>count</th>\n",
       "      <td>100000.000000</td>\n",
       "      <td>100000.000000</td>\n",
       "      <td>100000.000000</td>\n",
       "      <td>100000.00000</td>\n",
       "    </tr>\n",
       "    <tr>\n",
       "      <th>mean</th>\n",
       "      <td>1.141296</td>\n",
       "      <td>-4.796579</td>\n",
       "      <td>2.494541</td>\n",
       "      <td>68.85204</td>\n",
       "    </tr>\n",
       "    <tr>\n",
       "      <th>std</th>\n",
       "      <td>8.965932</td>\n",
       "      <td>5.119872</td>\n",
       "      <td>1.703572</td>\n",
       "      <td>46.02096</td>\n",
       "    </tr>\n",
       "    <tr>\n",
       "      <th>min</th>\n",
       "      <td>-31.609576</td>\n",
       "      <td>-26.358598</td>\n",
       "      <td>-0.018144</td>\n",
       "      <td>0.00000</td>\n",
       "    </tr>\n",
       "    <tr>\n",
       "      <th>25%</th>\n",
       "      <td>-6.298551</td>\n",
       "      <td>-8.267985</td>\n",
       "      <td>1.000021</td>\n",
       "      <td>27.00000</td>\n",
       "    </tr>\n",
       "    <tr>\n",
       "      <th>50%</th>\n",
       "      <td>1.153055</td>\n",
       "      <td>-4.813172</td>\n",
       "      <td>2.011479</td>\n",
       "      <td>57.00000</td>\n",
       "    </tr>\n",
       "    <tr>\n",
       "      <th>75%</th>\n",
       "      <td>8.621015</td>\n",
       "      <td>-1.332816</td>\n",
       "      <td>3.999904</td>\n",
       "      <td>108.00000</td>\n",
       "    </tr>\n",
       "    <tr>\n",
       "      <th>max</th>\n",
       "      <td>29.421755</td>\n",
       "      <td>18.734063</td>\n",
       "      <td>5.019721</td>\n",
       "      <td>138.00000</td>\n",
       "    </tr>\n",
       "  </tbody>\n",
       "</table>\n",
       "</div>"
      ],
      "text/plain": [
       "                  f0             f1             f2       product\n",
       "count  100000.000000  100000.000000  100000.000000  100000.00000\n",
       "mean        1.141296      -4.796579       2.494541      68.85204\n",
       "std         8.965932       5.119872       1.703572      46.02096\n",
       "min       -31.609576     -26.358598      -0.018144       0.00000\n",
       "25%        -6.298551      -8.267985       1.000021      27.00000\n",
       "50%         1.153055      -4.813172       2.011479      57.00000\n",
       "75%         8.621015      -1.332816       3.999904     108.00000\n",
       "max        29.421755      18.734063       5.019721     138.00000"
      ]
     },
     "metadata": {},
     "output_type": "display_data"
    },
    {
     "data": {
      "text/html": [
       "<div>\n",
       "<style scoped>\n",
       "    .dataframe tbody tr th:only-of-type {\n",
       "        vertical-align: middle;\n",
       "    }\n",
       "\n",
       "    .dataframe tbody tr th {\n",
       "        vertical-align: top;\n",
       "    }\n",
       "\n",
       "    .dataframe thead th {\n",
       "        text-align: right;\n",
       "    }\n",
       "</style>\n",
       "<table border=\"1\" class=\"dataframe\">\n",
       "  <thead>\n",
       "    <tr style=\"text-align: right;\">\n",
       "      <th></th>\n",
       "      <th>f0</th>\n",
       "      <th>f1</th>\n",
       "      <th>f2</th>\n",
       "      <th>product</th>\n",
       "    </tr>\n",
       "  </thead>\n",
       "  <tbody>\n",
       "    <tr>\n",
       "      <th>count</th>\n",
       "      <td>100000.000000</td>\n",
       "      <td>100000.000000</td>\n",
       "      <td>100000.000000</td>\n",
       "      <td>100000.000000</td>\n",
       "    </tr>\n",
       "    <tr>\n",
       "      <th>mean</th>\n",
       "      <td>0.002023</td>\n",
       "      <td>-0.002081</td>\n",
       "      <td>2.495128</td>\n",
       "      <td>94.998580</td>\n",
       "    </tr>\n",
       "    <tr>\n",
       "      <th>std</th>\n",
       "      <td>1.732045</td>\n",
       "      <td>1.730417</td>\n",
       "      <td>3.473445</td>\n",
       "      <td>44.751123</td>\n",
       "    </tr>\n",
       "    <tr>\n",
       "      <th>min</th>\n",
       "      <td>-8.760004</td>\n",
       "      <td>-7.084020</td>\n",
       "      <td>-11.970335</td>\n",
       "      <td>0.000000</td>\n",
       "    </tr>\n",
       "    <tr>\n",
       "      <th>25%</th>\n",
       "      <td>-1.162288</td>\n",
       "      <td>-1.174820</td>\n",
       "      <td>0.130359</td>\n",
       "      <td>59.000000</td>\n",
       "    </tr>\n",
       "    <tr>\n",
       "      <th>50%</th>\n",
       "      <td>0.009424</td>\n",
       "      <td>-0.009482</td>\n",
       "      <td>2.484236</td>\n",
       "      <td>95.000000</td>\n",
       "    </tr>\n",
       "    <tr>\n",
       "      <th>75%</th>\n",
       "      <td>1.158535</td>\n",
       "      <td>1.163678</td>\n",
       "      <td>4.858794</td>\n",
       "      <td>131.000000</td>\n",
       "    </tr>\n",
       "    <tr>\n",
       "      <th>max</th>\n",
       "      <td>7.238262</td>\n",
       "      <td>7.844801</td>\n",
       "      <td>16.739402</td>\n",
       "      <td>190.000000</td>\n",
       "    </tr>\n",
       "  </tbody>\n",
       "</table>\n",
       "</div>"
      ],
      "text/plain": [
       "                  f0             f1             f2        product\n",
       "count  100000.000000  100000.000000  100000.000000  100000.000000\n",
       "mean        0.002023      -0.002081       2.495128      94.998580\n",
       "std         1.732045       1.730417       3.473445      44.751123\n",
       "min        -8.760004      -7.084020     -11.970335       0.000000\n",
       "25%        -1.162288      -1.174820       0.130359      59.000000\n",
       "50%         0.009424      -0.009482       2.484236      95.000000\n",
       "75%         1.158535       1.163678       4.858794     131.000000\n",
       "max         7.238262       7.844801      16.739402     190.000000"
      ]
     },
     "metadata": {},
     "output_type": "display_data"
    }
   ],
   "source": [
    "# посмотрю основные статистические значения\n",
    "display(df_1.describe())\n",
    "display(df_2.describe())\n",
    "display(df_3.describe())"
   ]
  },
  {
   "cell_type": "code",
   "execution_count": 67,
   "metadata": {},
   "outputs": [],
   "source": [
    "# функция для построения графика по product для 3 регионов\n",
    "def show_me_hist(df, i):\n",
    "    df[df.columns.values[i]].hist(bins=50)\n",
    "    plt.xlabel('count')\n",
    "    plt.ylabel('frequency')\n",
    "    plt.title(df.columns.values[i])\n",
    "    plt.show()"
   ]
  },
  {
   "cell_type": "code",
   "execution_count": 68,
   "metadata": {},
   "outputs": [
    {
     "data": {
      "image/png": "[encoded data removed]",
      "text/plain": [
       "<Figure size 432x288 with 1 Axes>"
      ]
     },
     "metadata": {
      "needs_background": "light"
     },
     "output_type": "display_data"
    },
    {
     "data": {
      "image/png": "[encoded data removed]",
      "text/plain": [
       "<Figure size 432x288 with 1 Axes>"
      ]
     },
     "metadata": {
      "needs_background": "light"
     },
     "output_type": "display_data"
    },
    {
     "data": {
      "image/png": "[encoded data removed]",
      "text/plain": [
       "<Figure size 432x288 with 1 Axes>"
      ]
     },
     "metadata": {
      "needs_background": "light"
     },
     "output_type": "display_data"
    }
   ],
   "source": [
    "show_me_hist(df_1, 3)\n",
    "show_me_hist(df_2, 3)\n",
    "show_me_hist(df_3, 3)"
   ]
  },
  {
   "cell_type": "markdown",
   "metadata": {},
   "source": [
    "**Вывод**\n",
    "\n",
    "- Регион 1 - среднее и медианы равны, ср.кв.отклонение 44, нормальное распределение;\n",
    "- Регион 2 - среднее выше, чем медиана, значит больше скважин с большими значениями. На графике \"небоскрёбы\". Значения запасов меньше, чем в регионе 1 и 3;\n",
    "- Регион 3 - данные такие же как в регионе 1, но запасов чуть больше."
   ]
  },
  {
   "cell_type": "markdown",
   "metadata": {},
   "source": [
    "## Обучение и проверка модели"
   ]
  },
  {
   "cell_type": "code",
   "execution_count": 69,
   "metadata": {},
   "outputs": [],
   "source": [
    "rnd = np.random.RandomState(12345)"
   ]
  },
  {
   "cell_type": "code",
   "execution_count": 70,
   "metadata": {},
   "outputs": [],
   "source": [
    "# выделю целевой признак\n",
    "X_1 = df_1.drop('product', axis=1)\n",
    "y_1 = df_1['product']\n",
    "X_2 = df_2.drop('product', axis=1)\n",
    "y_2 = df_2['product']\n",
    "X_3 = df_3.drop('product', axis=1)\n",
    "y_3 = df_3['product']"
   ]
  },
  {
   "cell_type": "code",
   "execution_count": 71,
   "metadata": {},
   "outputs": [],
   "source": [
    "# разобью выборки на тренировочную и валидационную (стратифицированные)\n",
    "X_tr_1, X_v_1, y_tr_1, y_v_1 = train_test_split(X_1, y_1, test_size=0.25, stratify = y_1, random_state=42)\n",
    "X_tr_2, X_v_2, y_tr_2, y_v_2 = train_test_split(X_2, y_2, test_size=0.25, stratify = y_2, random_state=42)\n",
    "X_tr_3, X_v_3, y_tr_3, y_v_3 = train_test_split(X_3, y_3, test_size=0.25, stratify = y_3, random_state=42)"
   ]
  },
  {
   "cell_type": "code",
   "execution_count": 72,
   "metadata": {
    "scrolled": true
   },
   "outputs": [
    {
     "name": "stdout",
     "output_type": "stream",
     "text": [
      "(75000, 3) (25000, 3) (75000,) (25000,)\n"
     ]
    }
   ],
   "source": [
    "# проверю, как разбились выборки\n",
    "print(X_tr_1.shape, X_v_1.shape, y_tr_1.shape, y_v_1.shape)"
   ]
  },
  {
   "cell_type": "code",
   "execution_count": 73,
   "metadata": {
    "scrolled": true
   },
   "outputs": [
    {
     "data": {
      "text/plain": [
       "LinearRegression()"
      ]
     },
     "execution_count": 73,
     "metadata": {},
     "output_type": "execute_result"
    }
   ],
   "source": [
    "# обучу линейную регрессию на данных 3-х регионов\n",
    "lr_1 = LinearRegression()\n",
    "lr_2 = LinearRegression()\n",
    "lr_3 = LinearRegression()\n",
    "lr_1.fit(X_tr_1, y_tr_1)\n",
    "lr_2.fit(X_tr_2, y_tr_2)\n",
    "lr_3.fit(X_tr_3, y_tr_3)"
   ]
  },
  {
   "cell_type": "code",
   "execution_count": 74,
   "metadata": {},
   "outputs": [],
   "source": [
    "# получу предсказания и занесу их в переменные\n",
    "pred_1 = lr_1.predict(X_v_1)\n",
    "pred_2 = lr_2.predict(X_v_2)\n",
    "pred_3 = lr_3.predict(X_v_3)"
   ]
  },
  {
   "cell_type": "code",
   "execution_count": 75,
   "metadata": {},
   "outputs": [],
   "source": [
    "# переведу предсказания в Series\n",
    "pred_1 = pd.Series(pred_1)\n",
    "pred_2 = pd.Series(pred_2)\n",
    "pred_3 = pd.Series(pred_3)"
   ]
  },
  {
   "cell_type": "code",
   "execution_count": 76,
   "metadata": {},
   "outputs": [],
   "source": [
    "# верные ответы, сброшу индексы для дальнейших расчетов\n",
    "target_1 = y_v_1.reset_index(drop=True)\n",
    "target_2 = y_v_2.reset_index(drop=True)\n",
    "target_3 = y_v_3.reset_index(drop=True)"
   ]
  },
  {
   "cell_type": "code",
   "execution_count": 77,
   "metadata": {
    "scrolled": false
   },
   "outputs": [
    {
     "name": "stdout",
     "output_type": "stream",
     "text": [
      "Средний запас предсказанного сырья_1: 92.48\n",
      "RMSE модели_1: 37.81\n",
      "Средний запас предсказанного сырья_2: 68.85\n",
      "RMSE модели_2: 0.84\n",
      "Средний запас предсказанного сырья_3: 94.94\n",
      "RMSE модели_3: 39.88\n"
     ]
    }
   ],
   "source": [
    "# Cредний запас предсказанного сырья и RMSE модели_1\n",
    "print('Средний запас предсказанного сырья_1: {:.2f}'.format(pred_1.mean()))\n",
    "print('RMSE модели_1: {:.2f}'.format(mean_squared_error(target_1, pred_1)**0.5))\n",
    "# Cредний запас предсказанного сырья и RMSE модели_2\n",
    "print('Средний запас предсказанного сырья_2: {:.2f}'.format(pred_2.mean()))\n",
    "print('RMSE модели_2: {:.2f}'.format(mean_squared_error(target_2, pred_2)**0.5))\n",
    "# Cредний запас предсказанного сырья и RMSE модели_3\n",
    "print('Средний запас предсказанного сырья_3: {:.2f}'.format(pred_3.mean()))\n",
    "print('RMSE модели_3: {:.2f}'.format(mean_squared_error(target_3, pred_3)**0.5))\n"
   ]
  },
  {
   "cell_type": "markdown",
   "metadata": {},
   "source": [
    "**Вывод**\n",
    "\n",
    "- Средний запас предсказанного сырья практически соответствует средним значениям запасов первоначальных данных;\n",
    "- Минимальная метрика RMSE достигнута в регионе № 2, хуже всего предсказывает модель региона № 3, RMSE = 39,88;\n",
    "- Модель № 2, скорее всего, так справилась из-за предварительно сгруппированных данных по запасам (12 подвыборок)."
   ]
  },
  {
   "cell_type": "markdown",
   "metadata": {},
   "source": [
    "## Подготовка к расчёту прибыли"
   ]
  },
  {
   "cell_type": "code",
   "execution_count": 78,
   "metadata": {},
   "outputs": [
    {
     "name": "stdout",
     "output_type": "stream",
     "text": [
      "Объём сырья для безубыточной разработки одной скважины: 111.11 тыс. баррелей\n"
     ]
    }
   ],
   "source": [
    "# создам константы и рассчитаю минимальный запас в скважине\n",
    "# для безубыточной разработки месторождения\n",
    "BUDGET = 10000000000\n",
    "PRICE_BAR = 450000\n",
    "PROFIT_0 = BUDGET / 200 / PRICE_BAR\n",
    "MLRD = 1000000000\n",
    "print('Объём сырья для безубыточной разработки одной скважины: {:.2f} тыс. баррелей'.format(PROFIT_0))"
   ]
  },
  {
   "cell_type": "code",
   "execution_count": 79,
   "metadata": {
    "scrolled": true
   },
   "outputs": [
    {
     "name": "stdout",
     "output_type": "stream",
     "text": [
      "Средний истинный запас сырья в регионах, тыс. баррелей:\n",
      "\n",
      "Регион  1 :  92.50456\n",
      "Регион  2 :  68.85096\n",
      "Регион  3 :  94.99448\n"
     ]
    }
   ],
   "source": [
    "print(\"Средний истинный запас сырья в регионах, тыс. баррелей:\")\n",
    "print()\n",
    "count = 0\n",
    "targets = [target_1, target_2, target_3]\n",
    "for target in targets:\n",
    "    count += 1\n",
    "    print('Регион ', count,': ',  target.mean())"
   ]
  },
  {
   "cell_type": "markdown",
   "metadata": {},
   "source": [
    "**Вывод**\n",
    "\n",
    "- Чтобы получать прибыль, нужно будет выбать скважины с запасами выше 111.11 тыс.баррелей;\n",
    "- Средние запасы каждого из регионов меньше необходимого запаса для безубыточной разработки, но ср.кв.ошибка говорит о том, что верные ответы целевого признака имеют большие запасы."
   ]
  },
  {
   "cell_type": "markdown",
   "metadata": {},
   "source": [
    "## Расчёт прибыли и рисков "
   ]
  },
  {
   "cell_type": "code",
   "execution_count": 80,
   "metadata": {},
   "outputs": [],
   "source": [
    "# создам функцию по расчету прибыли при разработки n-лучших скважин\n",
    "def profit(target, predict, count):\n",
    "    predict_sorted = predict.sort_values(ascending=False)\n",
    "    selected = target[predict_sorted.index][:count]\n",
    "    return PRICE_BAR * selected.sum() - BUDGET"
   ]
  },
  {
   "cell_type": "code",
   "execution_count": 81,
   "metadata": {
    "scrolled": true
   },
   "outputs": [
    {
     "name": "stdout",
     "output_type": "stream",
     "text": [
      "Прибыль региона № 1 (200 лучших скважин): 3.41675 млрд.рублей\n",
      "Прибыль региона № 2 (200 лучших скважин): 2.42 млрд.рублей\n",
      "Прибыль региона № 3 (200 лучших скважин): 2.56175 млрд.рублей\n"
     ]
    }
   ],
   "source": [
    "# определю максимальную прибыль с региона, при выборе 200 лучших скважин\n",
    "print('Прибыль региона № 1 (200 лучших скважин): {} млрд.рублей'.format(profit(target_1, pred_1, 200) / MLRD))\n",
    "print('Прибыль региона № 2 (200 лучших скважин): {} млрд.рублей'.format(profit(target_2, pred_2, 200) / MLRD))\n",
    "print('Прибыль региона № 3 (200 лучших скважин): {} млрд.рублей'.format(profit(target_3, pred_3, 200) / MLRD))"
   ]
  },
  {
   "cell_type": "markdown",
   "metadata": {},
   "source": [
    "Максимальная прибыль у региона 1"
   ]
  },
  {
   "cell_type": "code",
   "execution_count": 82,
   "metadata": {},
   "outputs": [],
   "source": [
    "# исходя из условий задачи я исследую 500 точек, а выбираю 200 лучших.\n",
    "# найду случайные 500 скважин из всей выборки (1000 раз), из них выберу 200 лучших,\n",
    "# затем упакую и посчитаю среднюю прибыль по всей выборке и по регионам\n",
    "def bootstrap (target, predictions):\n",
    "    values = []\n",
    "    for i in range(1000):\n",
    "        target_subsample = target.reset_index(drop=True).sample(n=500, replace=True, random_state=rnd)\n",
    "        pred_subsample = predictions[target_subsample.index]\n",
    "        values.append(profit(target_subsample, pred_subsample, 200))\n",
    "    risk = 0.025\n",
    "    values = pd.Series(values)\n",
    "    lower = values.quantile(risk)\n",
    "    high = values.quantile(0.975)\n",
    "    confidence_interval = (lower, high)\n",
    "    mean = values.mean()\n",
    "\n",
    "    print(\"Средняя прибыль региона: {:.2f} млрд.рублей\".format(mean / MLRD))\n",
    "    print(\"2,5%-квантиль: {:.2f} млрд.рублей\".format(lower / MLRD))\n",
    "    print(\"97,5%-квантиль: {:.2f} млрд.рублей\".format(high / MLRD))\n",
    "    print(\"Доверительный интервал: \", confidence_interval)\n",
    "    print(\"Риск убытка:\", (values < 0).mean())"
   ]
  },
  {
   "cell_type": "code",
   "execution_count": 83,
   "metadata": {
    "scrolled": true
   },
   "outputs": [
    {
     "name": "stdout",
     "output_type": "stream",
     "text": [
      "Средняя прибыль региона: 0.45 млрд.рублей\n",
      "2,5%-квантиль: -0.08 млрд.рублей\n",
      "97,5%-квантиль: 0.96 млрд.рублей\n",
      "Доверительный интервал:  (-79300000.0, 958163749.9999994)\n",
      "Риск убытка: 0.044\n"
     ]
    }
   ],
   "source": [
    "bootstrap(target_1, pred_1)"
   ]
  },
  {
   "cell_type": "code",
   "execution_count": 84,
   "metadata": {
    "scrolled": true
   },
   "outputs": [
    {
     "name": "stdout",
     "output_type": "stream",
     "text": [
      "Средняя прибыль региона: 0.52 млрд.рублей\n",
      "2,5%-квантиль: 0.08 млрд.рублей\n",
      "97,5%-квантиль: 0.95 млрд.рублей\n",
      "Доверительный интервал:  (84432500.0, 951301249.9999999)\n",
      "Риск убытка: 0.005\n"
     ]
    }
   ],
   "source": [
    "bootstrap(target_2, pred_2)"
   ]
  },
  {
   "cell_type": "code",
   "execution_count": 85,
   "metadata": {
    "scrolled": true
   },
   "outputs": [
    {
     "name": "stdout",
     "output_type": "stream",
     "text": [
      "Средняя прибыль региона: 0.43 млрд.рублей\n",
      "2,5%-квантиль: -0.12 млрд.рублей\n",
      "97,5%-квантиль: 1.00 млрд.рублей\n",
      "Доверительный интервал:  (-120250000.0, 998134999.9999999)\n",
      "Риск убытка: 0.064\n"
     ]
    }
   ],
   "source": [
    "bootstrap(target_3, pred_3)"
   ]
  },
  {
   "cell_type": "markdown",
   "metadata": {},
   "source": [
    "По совокупности критериев - для скважины выбираю регион № 2."
   ]
  },
  {
   "cell_type": "markdown",
   "metadata": {},
   "source": [
    "**Вывод**\n",
    "\n",
    "- Большое кол-во скважин с лучшими запасами имеет регион № 1, который показал прибыль 3.4 млрд рублей на лучших предсказанных данных;\n",
    "- Но выбирать регион только по лучшей прибыли некорректно, т.к. надо рассматривать и риски и расходы, особенно, когда на разработку нужно потратить 10 млрд рублей;\n",
    "- Основной критерий - вероятность убытков - 2.5 %. Регион № 2 имеет самую низкую вероятность убытков, всего 0.5%. И более узкий доверительный интервал, и соответственно более высокую среднюю прибыль;\n",
    "- Остальные регионы имеют риск, превышающий основной критерий, поэтому рассмотрены быть не могут, хотя регион № 3 имеет более высокие значения верхней границы доверительного интервала."
   ]
  }
 ],
 "metadata": {
  "ExecuteTimeLog": [
   {
    "duration": 2232,
    "start_time": "2022-03-28T10:32:00.317Z"
   },
   {
    "duration": 469,
    "start_time": "2022-03-28T10:32:34.558Z"
   },
   {
    "duration": 57,
    "start_time": "2022-03-28T10:33:29.734Z"
   },
   {
    "duration": 189,
    "start_time": "2022-03-28T10:34:28.768Z"
   },
   {
    "duration": 84,
    "start_time": "2022-03-28T10:36:21.398Z"
   },
   {
    "duration": 23,
    "start_time": "2022-03-28T10:37:56.003Z"
   },
   {
    "duration": 19,
    "start_time": "2022-03-28T10:42:11.320Z"
   },
   {
    "duration": 10,
    "start_time": "2022-03-28T10:42:39.557Z"
   },
   {
    "duration": 293,
    "start_time": "2022-03-28T10:46:51.049Z"
   },
   {
    "duration": 5,
    "start_time": "2022-03-28T10:48:44.248Z"
   },
   {
    "duration": 966,
    "start_time": "2022-03-28T10:48:49.220Z"
   },
   {
    "duration": 184,
    "start_time": "2022-03-28T10:49:37.678Z"
   },
   {
    "duration": 16,
    "start_time": "2022-03-28T10:49:46.568Z"
   },
   {
    "duration": 929,
    "start_time": "2022-03-28T10:49:53.509Z"
   },
   {
    "duration": 1090,
    "start_time": "2022-03-28T10:50:00.338Z"
   },
   {
    "duration": 4,
    "start_time": "2022-03-28T10:56:46.487Z"
   },
   {
    "duration": 19,
    "start_time": "2022-03-28T10:57:09.507Z"
   },
   {
    "duration": 328,
    "start_time": "2022-03-28T10:57:54.836Z"
   },
   {
    "duration": 5,
    "start_time": "2022-03-28T10:58:25.352Z"
   },
   {
    "duration": 48,
    "start_time": "2022-03-28T11:01:07.689Z"
   },
   {
    "duration": 5,
    "start_time": "2022-03-28T11:13:04.923Z"
   },
   {
    "duration": 7,
    "start_time": "2022-03-28T11:15:40.186Z"
   },
   {
    "duration": 65,
    "start_time": "2022-03-28T11:16:18.635Z"
   },
   {
    "duration": 14,
    "start_time": "2022-03-28T11:19:35.954Z"
   },
   {
    "duration": 184,
    "start_time": "2022-03-28T11:19:44.848Z"
   },
   {
    "duration": 6,
    "start_time": "2022-03-28T11:19:58.815Z"
   },
   {
    "duration": 434,
    "start_time": "2022-03-28T11:19:58.823Z"
   },
   {
    "duration": 84,
    "start_time": "2022-03-28T11:19:59.260Z"
   },
   {
    "duration": 169,
    "start_time": "2022-03-28T11:19:59.348Z"
   },
   {
    "duration": 88,
    "start_time": "2022-03-28T11:19:59.518Z"
   },
   {
    "duration": 38,
    "start_time": "2022-03-28T11:19:59.608Z"
   },
   {
    "duration": 19,
    "start_time": "2022-03-28T11:19:59.649Z"
   },
   {
    "duration": 10,
    "start_time": "2022-03-28T11:19:59.671Z"
   },
   {
    "duration": 327,
    "start_time": "2022-03-28T11:19:59.683Z"
   },
   {
    "duration": 5,
    "start_time": "2022-03-28T11:20:00.014Z"
   },
   {
    "duration": 1127,
    "start_time": "2022-03-28T11:20:00.021Z"
   },
   {
    "duration": 4,
    "start_time": "2022-03-28T11:20:01.151Z"
   },
   {
    "duration": 18,
    "start_time": "2022-03-28T11:20:01.157Z"
   },
   {
    "duration": 68,
    "start_time": "2022-03-28T11:20:03.962Z"
   },
   {
    "duration": 8,
    "start_time": "2022-03-28T11:21:20.579Z"
   },
   {
    "duration": 5,
    "start_time": "2022-03-28T11:21:33.918Z"
   },
   {
    "duration": 462,
    "start_time": "2022-03-28T11:21:33.925Z"
   },
   {
    "duration": 76,
    "start_time": "2022-03-28T11:21:34.389Z"
   },
   {
    "duration": 182,
    "start_time": "2022-03-28T11:21:34.468Z"
   },
   {
    "duration": 71,
    "start_time": "2022-03-28T11:21:34.652Z"
   },
   {
    "duration": 32,
    "start_time": "2022-03-28T11:21:34.725Z"
   },
   {
    "duration": 8,
    "start_time": "2022-03-28T11:21:36.811Z"
   },
   {
    "duration": 14,
    "start_time": "2022-03-28T11:21:46.642Z"
   },
   {
    "duration": 10,
    "start_time": "2022-03-28T11:21:49.808Z"
   },
   {
    "duration": 15,
    "start_time": "2022-03-28T11:22:52.386Z"
   },
   {
    "duration": 15,
    "start_time": "2022-03-28T11:23:37.522Z"
   },
   {
    "duration": 314,
    "start_time": "2022-03-28T11:23:57.406Z"
   },
   {
    "duration": 4,
    "start_time": "2022-03-28T11:24:07.894Z"
   },
   {
    "duration": 5,
    "start_time": "2022-03-28T11:24:11.464Z"
   },
   {
    "duration": 450,
    "start_time": "2022-03-28T11:24:11.471Z"
   },
   {
    "duration": 183,
    "start_time": "2022-03-28T11:24:11.923Z"
   },
   {
    "duration": 185,
    "start_time": "2022-03-28T11:24:12.108Z"
   },
   {
    "duration": 90,
    "start_time": "2022-03-28T11:24:12.295Z"
   },
   {
    "duration": 20,
    "start_time": "2022-03-28T11:24:12.387Z"
   },
   {
    "duration": 42,
    "start_time": "2022-03-28T11:24:12.409Z"
   },
   {
    "duration": 10,
    "start_time": "2022-03-28T11:24:12.453Z"
   },
   {
    "duration": 11,
    "start_time": "2022-03-28T11:24:12.465Z"
   },
   {
    "duration": 12,
    "start_time": "2022-03-28T11:24:12.478Z"
   },
   {
    "duration": 335,
    "start_time": "2022-03-28T11:24:12.494Z"
   },
   {
    "duration": 5,
    "start_time": "2022-03-28T11:24:12.831Z"
   },
   {
    "duration": 18,
    "start_time": "2022-03-28T11:24:12.844Z"
   },
   {
    "duration": 0,
    "start_time": "2022-03-28T11:24:12.865Z"
   },
   {
    "duration": 0,
    "start_time": "2022-03-28T11:24:12.867Z"
   },
   {
    "duration": 0,
    "start_time": "2022-03-28T11:24:12.869Z"
   },
   {
    "duration": 49,
    "start_time": "2022-03-28T11:24:21.915Z"
   },
   {
    "duration": 16,
    "start_time": "2022-03-28T11:25:04.488Z"
   },
   {
    "duration": 6,
    "start_time": "2022-03-28T11:25:30.320Z"
   },
   {
    "duration": 18,
    "start_time": "2022-03-28T11:25:44.794Z"
   },
   {
    "duration": 17,
    "start_time": "2022-03-28T11:27:49.152Z"
   },
   {
    "duration": 333,
    "start_time": "2022-03-28T11:28:05.781Z"
   },
   {
    "duration": 974,
    "start_time": "2022-03-28T11:28:11.255Z"
   }
  ],
  "kernelspec": {
   "display_name": "Python 3 (ipykernel)",
   "language": "python",
   "name": "python3"
  },
  "language_info": {
   "codemirror_mode": {
    "name": "ipython",
    "version": 3
   },
   "file_extension": ".py",
   "mimetype": "text/x-python",
   "name": "python",
   "nbconvert_exporter": "python",
   "pygments_lexer": "ipython3",
   "version": "3.9.7"
  },
  "toc": {
   "base_numbering": 1,
   "nav_menu": {},
   "number_sections": true,
   "sideBar": true,
   "skip_h1_title": true,
   "title_cell": "Table of Contents",
   "title_sidebar": "Contents",
   "toc_cell": false,
   "toc_position": {},
   "toc_section_display": true,
   "toc_window_display": false
  }
 },
 "nbformat": 4,
 "nbformat_minor": 2
}
