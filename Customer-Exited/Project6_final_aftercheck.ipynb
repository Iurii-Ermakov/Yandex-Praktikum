{
 "cells": [
  {
   "cell_type": "markdown",
   "metadata": {
    "toc": true
   },
   "source": [
    "<h1>Содержание<span class=\"tocSkip\"></span></h1>\n",
    "<div class=\"toc\"><ul class=\"toc-item\"><li><span><a href=\"#Подготовка-данных\" data-toc-modified-id=\"Подготовка-данных-1\"><span class=\"toc-item-num\">1&nbsp;&nbsp;</span>Подготовка данных</a></span></li><li><span><a href=\"#Исследование-задачи\" data-toc-modified-id=\"Исследование-задачи-2\"><span class=\"toc-item-num\">2&nbsp;&nbsp;</span>Исследование задачи</a></span><ul class=\"toc-item\"><li><span><a href=\"#Проверка-на-Logistic-Regression\" data-toc-modified-id=\"Проверка-на-Logistic-Regression-2.1\"><span class=\"toc-item-num\">2.1&nbsp;&nbsp;</span>Проверка на Logistic Regression</a></span></li><li><span><a href=\"#Проверка-на-Decision-Tree-Classifier\" data-toc-modified-id=\"Проверка-на-Decision-Tree-Classifier-2.2\"><span class=\"toc-item-num\">2.2&nbsp;&nbsp;</span>Проверка на Decision Tree Classifier</a></span></li><li><span><a href=\"#Проверка-на--Random-Forest-Classifier\" data-toc-modified-id=\"Проверка-на--Random-Forest-Classifier-2.3\"><span class=\"toc-item-num\">2.3&nbsp;&nbsp;</span>Проверка на  Random Forest Classifier</a></span></li></ul></li><li><span><a href=\"#Борьба-с-дисбалансом\" data-toc-modified-id=\"Борьба-с-дисбалансом-3\"><span class=\"toc-item-num\">3&nbsp;&nbsp;</span>Борьба с дисбалансом</a></span><ul class=\"toc-item\"><li><span><a href=\"#Балансировка-классов\" data-toc-modified-id=\"Балансировка-классов-3.1\"><span class=\"toc-item-num\">3.1&nbsp;&nbsp;</span>Балансировка классов</a></span></li><li><span><a href=\"#Upsampling\" data-toc-modified-id=\"Upsampling-3.2\"><span class=\"toc-item-num\">3.2&nbsp;&nbsp;</span>Upsampling</a></span></li><li><span><a href=\"#Downsampling\" data-toc-modified-id=\"Downsampling-3.3\"><span class=\"toc-item-num\">3.3&nbsp;&nbsp;</span>Downsampling</a></span></li></ul></li><li><span><a href=\"#Тестирование-модели\" data-toc-modified-id=\"Тестирование-модели-4\"><span class=\"toc-item-num\">4&nbsp;&nbsp;</span>Тестирование модели</a></span></li><li><span><a href=\"#Чек-лист-готовности-проекта\" data-toc-modified-id=\"Чек-лист-готовности-проекта-5\"><span class=\"toc-item-num\">5&nbsp;&nbsp;</span>Чек-лист готовности проекта</a></span></li></ul></div>"
   ]
  },
  {
   "cell_type": "markdown",
   "metadata": {},
   "source": [
    "<div class=\"alert alert-success\" style=\"border-color: green; border-radius: 5px\">\n",
    "    <p><u><b>✅ КОММЕНТАРИЙ РЕВЬЮЕРА</b></u></p>\n",
    "    <p>Таким образом оформляется комментарий, означающий что пункт выполнен без ошибок.</p>\n",
    "</div>"
   ]
  },
  {
   "cell_type": "markdown",
   "metadata": {},
   "source": [
    "<div class=\"alert alert-warning\" style=\"border-color: orange; border-radius: 5px\">\n",
    "    <p><u><b>⚠️ КОММЕНТАРИЙ РЕВЬЮЕРА</b></u></p>\n",
    "    <p>Таким образом оформляется коммтарий, означающий что в пункте есть некритичные недочеты.</p>\n",
    "</div>"
   ]
  },
  {
   "cell_type": "markdown",
   "metadata": {},
   "source": [
    "<div class=\"alert alert-danger\" style=\"border-color: #8B0000; border-radius: 5px\">\n",
    "    <p><u><b>❌ КОММЕНТАРИЙ РЕВЬЮЕРА</b></u></p>\n",
    "    <p>Таким образом оформляется комментарий, означающий что в пункте есть критичные недочеты, требующие исправления.</p>\n",
    "</div>"
   ]
  },
  {
   "cell_type": "markdown",
   "metadata": {},
   "source": [
    "<div style=\"background: #B0E0E6; padding: 5px; border: 1px solid SteelBlue; border-radius: 5px;\">\n",
    "    <font color='4682B4'><u><b>КОММЕНТАРИЙ СТУДЕНТА</b></u></font>\n",
    "    <br />\n",
    "    <font color='4682B4'>Буду очень признателен, если ты тоже оформишь свои комментарии и вопросы ко мне с прменением цветовой разметки. Например, так.</font>\n",
    "</div>"
   ]
  },
  {
   "cell_type": "markdown",
   "metadata": {},
   "source": [
    "<div style=\"background: #B0E0E6; padding: 5px; border: 1px solid SteelBlue; border-radius: 5px;\">\n",
    "    <font color='4682B4'><u><b>КОММЕНТАРИЙ СТУДЕНТА</b></u></font>\n",
    "    <br />\n",
    "    <font color='4682B4'>Кирилл, привет! На \"ты\" мне подходит. Спасибо за проверку моего проекта.</font>\n",
    "</div>"
   ]
  },
  {
   "cell_type": "markdown",
   "metadata": {
    "toc": true
   },
   "source": [
    "<h1>Содержание<span class=\"tocSkip\"></span></h1>\n",
    "<div class=\"toc\"><ul class=\"toc-item\"><li><span><a href=\"#Подготовка-данных\" data-toc-modified-id=\"Подготовка-данных-1\"><span class=\"toc-item-num\">1&nbsp;&nbsp;</span>Подготовка данных</a></span></li><li><span><a href=\"#Исследование-задачи\" data-toc-modified-id=\"Исследование-задачи-2\"><span class=\"toc-item-num\">2&nbsp;&nbsp;</span>Исследование задачи</a></span><ul class=\"toc-item\"><li><span><a href=\"#Проверка-на-Logistic-Regression\" data-toc-modified-id=\"Проверка-на-Logistic-Regression-2.1\"><span class=\"toc-item-num\">2.1&nbsp;&nbsp;</span>Проверка на Logistic Regression</a></span></li><li><span><a href=\"#Проверка-на-Decision-Tree-Classifier\" data-toc-modified-id=\"Проверка-на-Decision-Tree-Classifier-2.2\"><span class=\"toc-item-num\">2.2&nbsp;&nbsp;</span>Проверка на Decision Tree Classifier</a></span></li><li><span><a href=\"#Проверка-на--Random-Forest-Classifier\" data-toc-modified-id=\"Проверка-на--Random-Forest-Classifier-2.3\"><span class=\"toc-item-num\">2.3&nbsp;&nbsp;</span>Проверка на  Random Forest Classifier</a></span></li></ul></li><li><span><a href=\"#Борьба-с-дисбалансом\" data-toc-modified-id=\"Борьба-с-дисбалансом-3\"><span class=\"toc-item-num\">3&nbsp;&nbsp;</span>Борьба с дисбалансом</a></span><ul class=\"toc-item\"><li><span><a href=\"#Балансировка-классов\" data-toc-modified-id=\"Балансировка-классов-3.1\"><span class=\"toc-item-num\">3.1&nbsp;&nbsp;</span>Балансировка классов</a></span></li><li><span><a href=\"#Upsampling\" data-toc-modified-id=\"Upsampling-3.2\"><span class=\"toc-item-num\">3.2&nbsp;&nbsp;</span>Upsampling</a></span></li><li><span><a href=\"#Downsampling\" data-toc-modified-id=\"Downsampling-3.3\"><span class=\"toc-item-num\">3.3&nbsp;&nbsp;</span>Downsampling</a></span></li></ul></li><li><span><a href=\"#Тестирование-модели\" data-toc-modified-id=\"Тестирование-модели-4\"><span class=\"toc-item-num\">4&nbsp;&nbsp;</span>Тестирование модели</a></span></li><li><span><a href=\"#Чек-лист-готовности-проекта\" data-toc-modified-id=\"Чек-лист-готовности-проекта-5\"><span class=\"toc-item-num\">5&nbsp;&nbsp;</span>Чек-лист готовности проекта</a></span></li></ul></div>"
   ]
  },
  {
   "cell_type": "markdown",
   "metadata": {},
   "source": [
    "# Отток клиентов"
   ]
  },
  {
   "cell_type": "markdown",
   "metadata": {},
   "source": [
    "Из «Бета-Банка» стали уходить клиенты. Каждый месяц. Немного, но заметно. Банковские маркетологи посчитали: сохранять текущих клиентов дешевле, чем привлекать новых.\n",
    "\n",
    "Нужно спрогнозировать, уйдёт клиент из банка в ближайшее время или нет. Вам предоставлены исторические данные о поведении клиентов и расторжении договоров с банком. \n",
    "\n",
    "Постройте модель с предельно большим значением *F1*-меры. Чтобы сдать проект успешно, нужно довести метрику до 0.59. Проверьте *F1*-меру на тестовой выборке самостоятельно.\n",
    "\n",
    "Дополнительно измеряйте *AUC-ROC*, сравнивайте её значение с *F1*-мерой.\n",
    "\n",
    "Источник данных: [https://www.kaggle.com/barelydedicated/bank-customer-churn-modeling](https://www.kaggle.com/barelydedicated/bank-customer-churn-modeling)"
   ]
  },
  {
   "cell_type": "markdown",
   "metadata": {},
   "source": [
    "<div class=\"alert alert-success\" style=\"border-color: green; border-radius: 5px\">\n",
    "    <p><u><b>✅ КОММЕНТАРИЙ РЕВЬЮЕРА v.1</b></u></p>\n",
    "    <p>Содержание и формулировка задачи на месте. Отлично!</p>\n",
    "</div>"
   ]
  },
  {
   "cell_type": "markdown",
   "metadata": {},
   "source": [
    "## Подготовка данных"
   ]
  },
  {
   "cell_type": "markdown",
   "metadata": {},
   "source": [
    "Из задачи известны следующие **признаки**:\n",
    "\n",
    "- RowNumber — индекс строки в данных\n",
    "- CustomerId — уникальный идентификатор клиента\n",
    "- Surname — фамилия\n",
    "- CreditScore — кредитный рейтинг\n",
    "- Geography — страна проживания\n",
    "- Gender — пол\n",
    "- Age — возраст\n",
    "- Tenure — сколько лет человек является клиентом банка\n",
    "- Balance — баланс на счёте\n",
    "- NumOfProducts — количество продуктов банка, используемых клиентом\n",
    "- HasCrCard — наличие кредитной карты\n",
    "- IsActiveMember — активность клиента\n",
    "- EstimatedSalary — предполагаемая зарплата\n",
    "\n",
    "**Целевой признак**\n",
    "- Exited — факт ухода клиента"
   ]
  },
  {
   "cell_type": "code",
   "execution_count": 1,
   "metadata": {},
   "outputs": [],
   "source": [
    "# импорт библиотек\n",
    "\n",
    "import pandas as pd\n",
    "import numpy as np\n",
    "import seaborn as sb\n",
    "import matplotlib.pyplot as plt\n",
    "from sklearn.metrics import f1_score\n",
    "from sklearn.metrics import recall_score\n",
    "from sklearn.metrics import precision_score\n",
    "from sklearn.metrics import auc\n",
    "from sklearn.metrics import roc_curve\n",
    "from sklearn.metrics import roc_auc_score\n",
    "from sklearn.metrics import accuracy_score\n",
    "from sklearn.metrics import confusion_matrix\n",
    "import matplotlib.pyplot as plt\n",
    "from sklearn.preprocessing import OrdinalEncoder, StandardScaler\n",
    "from sklearn.linear_model import LogisticRegression\n",
    "from sklearn.ensemble import RandomForestClassifier\n",
    "from sklearn.tree import DecisionTreeClassifier\n",
    "from sklearn.model_selection import train_test_split\n",
    "from tqdm import tqdm\n",
    "from sklearn.utils import shuffle\n",
    "from sklearn.preprocessing import StandardScaler\n",
    "from sklearn.model_selection import GridSearchCV\n",
    "\n",
    "import warnings\n",
    "warnings.filterwarnings(\"ignore\")"
   ]
  },
  {
   "cell_type": "markdown",
   "metadata": {},
   "source": [
    "<div class=\"alert alert-success\" style=\"border-color: green; border-radius: 5px\">\n",
    "    <p><u><b>✅ КОММЕНТАРИЙ РЕВЬЮЕРА v.1</b></u></p>\n",
    "    <p>Хорошо, что импортируешь нужные библиотеки на первом этапе. Так те, кто будет запускать твой проект в будущем сразу будут знать, какие библиотеки необходимо установить.</p>"
   ]
  },
  {
   "cell_type": "code",
   "execution_count": 2,
   "metadata": {},
   "outputs": [],
   "source": [
    "df = pd.read_csv('/datasets/Churn.csv')"
   ]
  },
  {
   "cell_type": "code",
   "execution_count": 3,
   "metadata": {
    "scrolled": true
   },
   "outputs": [
    {
     "name": "stdout",
     "output_type": "stream",
     "text": [
      "<class 'pandas.core.frame.DataFrame'>\n",
      "RangeIndex: 10000 entries, 0 to 9999\n",
      "Data columns (total 14 columns):\n",
      "RowNumber          10000 non-null int64\n",
      "CustomerId         10000 non-null int64\n",
      "Surname            10000 non-null object\n",
      "CreditScore        10000 non-null int64\n",
      "Geography          10000 non-null object\n",
      "Gender             10000 non-null object\n",
      "Age                10000 non-null int64\n",
      "Tenure             9091 non-null float64\n",
      "Balance            10000 non-null float64\n",
      "NumOfProducts      10000 non-null int64\n",
      "HasCrCard          10000 non-null int64\n",
      "IsActiveMember     10000 non-null int64\n",
      "EstimatedSalary    10000 non-null float64\n",
      "Exited             10000 non-null int64\n",
      "dtypes: float64(3), int64(8), object(3)\n",
      "memory usage: 1.1+ MB\n"
     ]
    }
   ],
   "source": [
    "df.info()"
   ]
  },
  {
   "cell_type": "code",
   "execution_count": 4,
   "metadata": {},
   "outputs": [
    {
     "data": {
      "text/plain": [
       "1.0     952\n",
       "2.0     950\n",
       "8.0     933\n",
       "3.0     928\n",
       "5.0     927\n",
       "7.0     925\n",
       "4.0     885\n",
       "9.0     882\n",
       "6.0     881\n",
       "10.0    446\n",
       "0.0     382\n",
       "Name: Tenure, dtype: int64"
      ]
     },
     "execution_count": 4,
     "metadata": {},
     "output_type": "execute_result"
    }
   ],
   "source": [
    "df['Tenure'].value_counts()"
   ]
  },
  {
   "cell_type": "markdown",
   "metadata": {},
   "source": [
    "В столбце Tenure имеются пропуски, т.к. Tenure — это признак, который сообщает сколько лет человек является клиентом банка, то заменять его на медианное значение, или какое-то абстрактное будет не совсем корректно, пропуски порядка 10% от всей выборки, а выборка на 10000. Поэтому я удалю данные пропуски, чтобы не испортить данные."
   ]
  },
  {
   "cell_type": "code",
   "execution_count": 5,
   "metadata": {},
   "outputs": [
    {
     "name": "stdout",
     "output_type": "stream",
     "text": [
      "<class 'pandas.core.frame.DataFrame'>\n",
      "RangeIndex: 10000 entries, 0 to 9999\n",
      "Data columns (total 14 columns):\n",
      "RowNumber          10000 non-null int64\n",
      "CustomerId         10000 non-null int64\n",
      "Surname            10000 non-null object\n",
      "CreditScore        10000 non-null int64\n",
      "Geography          10000 non-null object\n",
      "Gender             10000 non-null object\n",
      "Age                10000 non-null int64\n",
      "Tenure             10000 non-null float64\n",
      "Balance            10000 non-null float64\n",
      "NumOfProducts      10000 non-null int64\n",
      "HasCrCard          10000 non-null int64\n",
      "IsActiveMember     10000 non-null int64\n",
      "EstimatedSalary    10000 non-null float64\n",
      "Exited             10000 non-null int64\n",
      "dtypes: float64(3), int64(8), object(3)\n",
      "memory usage: 1.1+ MB\n"
     ]
    }
   ],
   "source": [
    "df['Tenure'] = df['Tenure'].fillna(df['Tenure'].median())\n",
    "df.info()"
   ]
  },
  {
   "cell_type": "markdown",
   "metadata": {},
   "source": [
    "<div class=\"alert alert-danger\" style=\"border-color: #8B0000; border-radius: 5px\">\n",
    "    <p><u><b>❌ КОММЕНТАРИЙ РЕВЬЮЕРА v.1</b></u></p>\n",
    "    <p>Здесь давай остановимся поподробнее. Расскажи, пожалуйста, почему ты решил, что некорректно заменить пропуски медианным значением? На мой взгляд медиана как раз статистические верно отражает характер признака.</p>\n",
    "</div>"
   ]
  },
  {
   "cell_type": "markdown",
   "metadata": {},
   "source": [
    "<div style=\"background: #B0E0E6; padding: 5px; border: 1px solid SteelBlue; border-radius: 5px;\">\n",
    "    <font color='4682B4'><u><b>КОММЕНТАРИЙ СТУДЕНТА</b></u></font>\n",
    "    <br />\n",
    "    <font color='4682B4'>Заменил пропуски на медианное значение. Т.к. сейчас пока соглашаюсь с тем, что мне написал ревьюер. А вообще в целом, посчитал, что исправление на медианное или среднее значение может привести к переобучению модели, поэтому решил очистить данные таким образом. Возможно я ошибался, но я исправил.</font>\n",
    "</div>"
   ]
  },
  {
   "cell_type": "markdown",
   "metadata": {},
   "source": [
    "<div class=\"alert alert-success\" style=\"border-color: green; border-radius: 5px\">\n",
    "    <p><u><b>✅ КОММЕНТАРИЙ РЕВЬЮЕРА v.2</b></u></p>\n",
    "    <p>Заполнение пропусков - тонкая материя))</p>\n",
    "    <p>В реальной жизни можно сдеать несколько экспериментов, заполнив пропуски так или иначе, но для бэйзлайна медианное значение - самое то.</p>\n",
    "    <p>А лучше всего обратиться к представителю бизнеса и уточнить у него - откуда взялись пропуски:)</p>\n",
    "    <p>Этот пункт готов.</p>\n",
    "</div>"
   ]
  },
  {
   "cell_type": "markdown",
   "metadata": {},
   "source": [
    "<div style=\"background: #B0E0E6; padding: 5px; border: 1px solid SteelBlue; border-radius: 5px;\">\n",
    "    <font color='4682B4'><u><b>КОММЕНТАРИЙ СТУДЕНТА v.2</b></u></font>\n",
    "    <br />\n",
    "    <font color='4682B4'>Это точно. Согласен с тобой.</font>\n",
    "</div>"
   ]
  },
  {
   "cell_type": "markdown",
   "metadata": {},
   "source": [
    "<div class=\"alert alert-success\" style=\"border-color: green; border-radius: 5px\">\n",
    "    <p><u><b>✅ КОММЕНТАРИЙ РЕВЬЮЕРА v.3</b></u></p>\n",
    "    <p>:-)</p>\n",
    "</div>"
   ]
  },
  {
   "cell_type": "code",
   "execution_count": 6,
   "metadata": {},
   "outputs": [
    {
     "data": {
      "text/html": [
       "<div>\n",
       "<style scoped>\n",
       "    .dataframe tbody tr th:only-of-type {\n",
       "        vertical-align: middle;\n",
       "    }\n",
       "\n",
       "    .dataframe tbody tr th {\n",
       "        vertical-align: top;\n",
       "    }\n",
       "\n",
       "    .dataframe thead th {\n",
       "        text-align: right;\n",
       "    }\n",
       "</style>\n",
       "<table border=\"1\" class=\"dataframe\">\n",
       "  <thead>\n",
       "    <tr style=\"text-align: right;\">\n",
       "      <th></th>\n",
       "      <th>RowNumber</th>\n",
       "      <th>CustomerId</th>\n",
       "      <th>Surname</th>\n",
       "      <th>CreditScore</th>\n",
       "      <th>Geography</th>\n",
       "      <th>Gender</th>\n",
       "      <th>Age</th>\n",
       "      <th>Tenure</th>\n",
       "      <th>Balance</th>\n",
       "      <th>NumOfProducts</th>\n",
       "      <th>HasCrCard</th>\n",
       "      <th>IsActiveMember</th>\n",
       "      <th>EstimatedSalary</th>\n",
       "      <th>Exited</th>\n",
       "    </tr>\n",
       "  </thead>\n",
       "  <tbody>\n",
       "    <tr>\n",
       "      <td>0</td>\n",
       "      <td>1</td>\n",
       "      <td>15634602</td>\n",
       "      <td>Hargrave</td>\n",
       "      <td>619</td>\n",
       "      <td>France</td>\n",
       "      <td>Female</td>\n",
       "      <td>42</td>\n",
       "      <td>2.0</td>\n",
       "      <td>0.00</td>\n",
       "      <td>1</td>\n",
       "      <td>1</td>\n",
       "      <td>1</td>\n",
       "      <td>101348.88</td>\n",
       "      <td>1</td>\n",
       "    </tr>\n",
       "    <tr>\n",
       "      <td>1</td>\n",
       "      <td>2</td>\n",
       "      <td>15647311</td>\n",
       "      <td>Hill</td>\n",
       "      <td>608</td>\n",
       "      <td>Spain</td>\n",
       "      <td>Female</td>\n",
       "      <td>41</td>\n",
       "      <td>1.0</td>\n",
       "      <td>83807.86</td>\n",
       "      <td>1</td>\n",
       "      <td>0</td>\n",
       "      <td>1</td>\n",
       "      <td>112542.58</td>\n",
       "      <td>0</td>\n",
       "    </tr>\n",
       "    <tr>\n",
       "      <td>2</td>\n",
       "      <td>3</td>\n",
       "      <td>15619304</td>\n",
       "      <td>Onio</td>\n",
       "      <td>502</td>\n",
       "      <td>France</td>\n",
       "      <td>Female</td>\n",
       "      <td>42</td>\n",
       "      <td>8.0</td>\n",
       "      <td>159660.80</td>\n",
       "      <td>3</td>\n",
       "      <td>1</td>\n",
       "      <td>0</td>\n",
       "      <td>113931.57</td>\n",
       "      <td>1</td>\n",
       "    </tr>\n",
       "    <tr>\n",
       "      <td>3</td>\n",
       "      <td>4</td>\n",
       "      <td>15701354</td>\n",
       "      <td>Boni</td>\n",
       "      <td>699</td>\n",
       "      <td>France</td>\n",
       "      <td>Female</td>\n",
       "      <td>39</td>\n",
       "      <td>1.0</td>\n",
       "      <td>0.00</td>\n",
       "      <td>2</td>\n",
       "      <td>0</td>\n",
       "      <td>0</td>\n",
       "      <td>93826.63</td>\n",
       "      <td>0</td>\n",
       "    </tr>\n",
       "    <tr>\n",
       "      <td>4</td>\n",
       "      <td>5</td>\n",
       "      <td>15737888</td>\n",
       "      <td>Mitchell</td>\n",
       "      <td>850</td>\n",
       "      <td>Spain</td>\n",
       "      <td>Female</td>\n",
       "      <td>43</td>\n",
       "      <td>2.0</td>\n",
       "      <td>125510.82</td>\n",
       "      <td>1</td>\n",
       "      <td>1</td>\n",
       "      <td>1</td>\n",
       "      <td>79084.10</td>\n",
       "      <td>0</td>\n",
       "    </tr>\n",
       "  </tbody>\n",
       "</table>\n",
       "</div>"
      ],
      "text/plain": [
       "   RowNumber  CustomerId   Surname  CreditScore Geography  Gender  Age  \\\n",
       "0          1    15634602  Hargrave          619    France  Female   42   \n",
       "1          2    15647311      Hill          608     Spain  Female   41   \n",
       "2          3    15619304      Onio          502    France  Female   42   \n",
       "3          4    15701354      Boni          699    France  Female   39   \n",
       "4          5    15737888  Mitchell          850     Spain  Female   43   \n",
       "\n",
       "   Tenure    Balance  NumOfProducts  HasCrCard  IsActiveMember  \\\n",
       "0     2.0       0.00              1          1               1   \n",
       "1     1.0   83807.86              1          0               1   \n",
       "2     8.0  159660.80              3          1               0   \n",
       "3     1.0       0.00              2          0               0   \n",
       "4     2.0  125510.82              1          1               1   \n",
       "\n",
       "   EstimatedSalary  Exited  \n",
       "0        101348.88       1  \n",
       "1        112542.58       0  \n",
       "2        113931.57       1  \n",
       "3         93826.63       0  \n",
       "4         79084.10       0  "
      ]
     },
     "execution_count": 6,
     "metadata": {},
     "output_type": "execute_result"
    }
   ],
   "source": [
    "df.head()"
   ]
  },
  {
   "cell_type": "code",
   "execution_count": 7,
   "metadata": {},
   "outputs": [],
   "source": [
    "# приведу столбцы к нижнему регистру\n",
    "df.columns = map(str.lower, df.columns)"
   ]
  },
  {
   "cell_type": "code",
   "execution_count": 8,
   "metadata": {
    "scrolled": true
   },
   "outputs": [
    {
     "data": {
      "text/html": [
       "<div>\n",
       "<style scoped>\n",
       "    .dataframe tbody tr th:only-of-type {\n",
       "        vertical-align: middle;\n",
       "    }\n",
       "\n",
       "    .dataframe tbody tr th {\n",
       "        vertical-align: top;\n",
       "    }\n",
       "\n",
       "    .dataframe thead th {\n",
       "        text-align: right;\n",
       "    }\n",
       "</style>\n",
       "<table border=\"1\" class=\"dataframe\">\n",
       "  <thead>\n",
       "    <tr style=\"text-align: right;\">\n",
       "      <th></th>\n",
       "      <th>rownumber</th>\n",
       "      <th>customerid</th>\n",
       "      <th>surname</th>\n",
       "      <th>creditscore</th>\n",
       "      <th>geography</th>\n",
       "      <th>gender</th>\n",
       "      <th>age</th>\n",
       "      <th>tenure</th>\n",
       "      <th>balance</th>\n",
       "      <th>numofproducts</th>\n",
       "      <th>hascrcard</th>\n",
       "      <th>isactivemember</th>\n",
       "      <th>estimatedsalary</th>\n",
       "      <th>exited</th>\n",
       "    </tr>\n",
       "  </thead>\n",
       "  <tbody>\n",
       "    <tr>\n",
       "      <td>0</td>\n",
       "      <td>1</td>\n",
       "      <td>15634602</td>\n",
       "      <td>Hargrave</td>\n",
       "      <td>619</td>\n",
       "      <td>France</td>\n",
       "      <td>Female</td>\n",
       "      <td>42</td>\n",
       "      <td>2.0</td>\n",
       "      <td>0.00</td>\n",
       "      <td>1</td>\n",
       "      <td>1</td>\n",
       "      <td>1</td>\n",
       "      <td>101348.88</td>\n",
       "      <td>1</td>\n",
       "    </tr>\n",
       "    <tr>\n",
       "      <td>1</td>\n",
       "      <td>2</td>\n",
       "      <td>15647311</td>\n",
       "      <td>Hill</td>\n",
       "      <td>608</td>\n",
       "      <td>Spain</td>\n",
       "      <td>Female</td>\n",
       "      <td>41</td>\n",
       "      <td>1.0</td>\n",
       "      <td>83807.86</td>\n",
       "      <td>1</td>\n",
       "      <td>0</td>\n",
       "      <td>1</td>\n",
       "      <td>112542.58</td>\n",
       "      <td>0</td>\n",
       "    </tr>\n",
       "    <tr>\n",
       "      <td>2</td>\n",
       "      <td>3</td>\n",
       "      <td>15619304</td>\n",
       "      <td>Onio</td>\n",
       "      <td>502</td>\n",
       "      <td>France</td>\n",
       "      <td>Female</td>\n",
       "      <td>42</td>\n",
       "      <td>8.0</td>\n",
       "      <td>159660.80</td>\n",
       "      <td>3</td>\n",
       "      <td>1</td>\n",
       "      <td>0</td>\n",
       "      <td>113931.57</td>\n",
       "      <td>1</td>\n",
       "    </tr>\n",
       "    <tr>\n",
       "      <td>3</td>\n",
       "      <td>4</td>\n",
       "      <td>15701354</td>\n",
       "      <td>Boni</td>\n",
       "      <td>699</td>\n",
       "      <td>France</td>\n",
       "      <td>Female</td>\n",
       "      <td>39</td>\n",
       "      <td>1.0</td>\n",
       "      <td>0.00</td>\n",
       "      <td>2</td>\n",
       "      <td>0</td>\n",
       "      <td>0</td>\n",
       "      <td>93826.63</td>\n",
       "      <td>0</td>\n",
       "    </tr>\n",
       "    <tr>\n",
       "      <td>4</td>\n",
       "      <td>5</td>\n",
       "      <td>15737888</td>\n",
       "      <td>Mitchell</td>\n",
       "      <td>850</td>\n",
       "      <td>Spain</td>\n",
       "      <td>Female</td>\n",
       "      <td>43</td>\n",
       "      <td>2.0</td>\n",
       "      <td>125510.82</td>\n",
       "      <td>1</td>\n",
       "      <td>1</td>\n",
       "      <td>1</td>\n",
       "      <td>79084.10</td>\n",
       "      <td>0</td>\n",
       "    </tr>\n",
       "  </tbody>\n",
       "</table>\n",
       "</div>"
      ],
      "text/plain": [
       "   rownumber  customerid   surname  creditscore geography  gender  age  \\\n",
       "0          1    15634602  Hargrave          619    France  Female   42   \n",
       "1          2    15647311      Hill          608     Spain  Female   41   \n",
       "2          3    15619304      Onio          502    France  Female   42   \n",
       "3          4    15701354      Boni          699    France  Female   39   \n",
       "4          5    15737888  Mitchell          850     Spain  Female   43   \n",
       "\n",
       "   tenure    balance  numofproducts  hascrcard  isactivemember  \\\n",
       "0     2.0       0.00              1          1               1   \n",
       "1     1.0   83807.86              1          0               1   \n",
       "2     8.0  159660.80              3          1               0   \n",
       "3     1.0       0.00              2          0               0   \n",
       "4     2.0  125510.82              1          1               1   \n",
       "\n",
       "   estimatedsalary  exited  \n",
       "0        101348.88       1  \n",
       "1        112542.58       0  \n",
       "2        113931.57       1  \n",
       "3         93826.63       0  \n",
       "4         79084.10       0  "
      ]
     },
     "execution_count": 8,
     "metadata": {},
     "output_type": "execute_result"
    }
   ],
   "source": [
    "df.head()"
   ]
  },
  {
   "cell_type": "code",
   "execution_count": 9,
   "metadata": {},
   "outputs": [],
   "source": [
    "# удалю ненужные столбцы\n",
    "df = df.drop(['rownumber', 'customerid','surname'], axis=1)\n",
    "rnd_state = 20052020"
   ]
  },
  {
   "cell_type": "code",
   "execution_count": 10,
   "metadata": {},
   "outputs": [
    {
     "name": "stdout",
     "output_type": "stream",
     "text": [
      "Количество дубликатов: 0\n"
     ]
    }
   ],
   "source": [
    "print(\"Количество дубликатов:\", df.duplicated().sum())"
   ]
  },
  {
   "cell_type": "code",
   "execution_count": 11,
   "metadata": {
    "scrolled": false
   },
   "outputs": [
    {
     "data": {
      "text/html": [
       "<div>\n",
       "<style scoped>\n",
       "    .dataframe tbody tr th:only-of-type {\n",
       "        vertical-align: middle;\n",
       "    }\n",
       "\n",
       "    .dataframe tbody tr th {\n",
       "        vertical-align: top;\n",
       "    }\n",
       "\n",
       "    .dataframe thead th {\n",
       "        text-align: right;\n",
       "    }\n",
       "</style>\n",
       "<table border=\"1\" class=\"dataframe\">\n",
       "  <thead>\n",
       "    <tr style=\"text-align: right;\">\n",
       "      <th></th>\n",
       "      <th>creditscore</th>\n",
       "      <th>age</th>\n",
       "      <th>tenure</th>\n",
       "      <th>balance</th>\n",
       "      <th>numofproducts</th>\n",
       "      <th>hascrcard</th>\n",
       "      <th>isactivemember</th>\n",
       "      <th>estimatedsalary</th>\n",
       "      <th>exited</th>\n",
       "    </tr>\n",
       "  </thead>\n",
       "  <tbody>\n",
       "    <tr>\n",
       "      <td>count</td>\n",
       "      <td>10000.000000</td>\n",
       "      <td>10000.000000</td>\n",
       "      <td>10000.00000</td>\n",
       "      <td>10000.000000</td>\n",
       "      <td>10000.000000</td>\n",
       "      <td>10000.00000</td>\n",
       "      <td>10000.000000</td>\n",
       "      <td>10000.000000</td>\n",
       "      <td>10000.000000</td>\n",
       "    </tr>\n",
       "    <tr>\n",
       "      <td>mean</td>\n",
       "      <td>650.528800</td>\n",
       "      <td>38.921800</td>\n",
       "      <td>4.99790</td>\n",
       "      <td>76485.889288</td>\n",
       "      <td>1.530200</td>\n",
       "      <td>0.70550</td>\n",
       "      <td>0.515100</td>\n",
       "      <td>100090.239881</td>\n",
       "      <td>0.203700</td>\n",
       "    </tr>\n",
       "    <tr>\n",
       "      <td>std</td>\n",
       "      <td>96.653299</td>\n",
       "      <td>10.487806</td>\n",
       "      <td>2.76001</td>\n",
       "      <td>62397.405202</td>\n",
       "      <td>0.581654</td>\n",
       "      <td>0.45584</td>\n",
       "      <td>0.499797</td>\n",
       "      <td>57510.492818</td>\n",
       "      <td>0.402769</td>\n",
       "    </tr>\n",
       "    <tr>\n",
       "      <td>min</td>\n",
       "      <td>350.000000</td>\n",
       "      <td>18.000000</td>\n",
       "      <td>0.00000</td>\n",
       "      <td>0.000000</td>\n",
       "      <td>1.000000</td>\n",
       "      <td>0.00000</td>\n",
       "      <td>0.000000</td>\n",
       "      <td>11.580000</td>\n",
       "      <td>0.000000</td>\n",
       "    </tr>\n",
       "    <tr>\n",
       "      <td>25%</td>\n",
       "      <td>584.000000</td>\n",
       "      <td>32.000000</td>\n",
       "      <td>3.00000</td>\n",
       "      <td>0.000000</td>\n",
       "      <td>1.000000</td>\n",
       "      <td>0.00000</td>\n",
       "      <td>0.000000</td>\n",
       "      <td>51002.110000</td>\n",
       "      <td>0.000000</td>\n",
       "    </tr>\n",
       "    <tr>\n",
       "      <td>50%</td>\n",
       "      <td>652.000000</td>\n",
       "      <td>37.000000</td>\n",
       "      <td>5.00000</td>\n",
       "      <td>97198.540000</td>\n",
       "      <td>1.000000</td>\n",
       "      <td>1.00000</td>\n",
       "      <td>1.000000</td>\n",
       "      <td>100193.915000</td>\n",
       "      <td>0.000000</td>\n",
       "    </tr>\n",
       "    <tr>\n",
       "      <td>75%</td>\n",
       "      <td>718.000000</td>\n",
       "      <td>44.000000</td>\n",
       "      <td>7.00000</td>\n",
       "      <td>127644.240000</td>\n",
       "      <td>2.000000</td>\n",
       "      <td>1.00000</td>\n",
       "      <td>1.000000</td>\n",
       "      <td>149388.247500</td>\n",
       "      <td>0.000000</td>\n",
       "    </tr>\n",
       "    <tr>\n",
       "      <td>max</td>\n",
       "      <td>850.000000</td>\n",
       "      <td>92.000000</td>\n",
       "      <td>10.00000</td>\n",
       "      <td>250898.090000</td>\n",
       "      <td>4.000000</td>\n",
       "      <td>1.00000</td>\n",
       "      <td>1.000000</td>\n",
       "      <td>199992.480000</td>\n",
       "      <td>1.000000</td>\n",
       "    </tr>\n",
       "  </tbody>\n",
       "</table>\n",
       "</div>"
      ],
      "text/plain": [
       "        creditscore           age       tenure        balance  numofproducts  \\\n",
       "count  10000.000000  10000.000000  10000.00000   10000.000000   10000.000000   \n",
       "mean     650.528800     38.921800      4.99790   76485.889288       1.530200   \n",
       "std       96.653299     10.487806      2.76001   62397.405202       0.581654   \n",
       "min      350.000000     18.000000      0.00000       0.000000       1.000000   \n",
       "25%      584.000000     32.000000      3.00000       0.000000       1.000000   \n",
       "50%      652.000000     37.000000      5.00000   97198.540000       1.000000   \n",
       "75%      718.000000     44.000000      7.00000  127644.240000       2.000000   \n",
       "max      850.000000     92.000000     10.00000  250898.090000       4.000000   \n",
       "\n",
       "         hascrcard  isactivemember  estimatedsalary        exited  \n",
       "count  10000.00000    10000.000000     10000.000000  10000.000000  \n",
       "mean       0.70550        0.515100    100090.239881      0.203700  \n",
       "std        0.45584        0.499797     57510.492818      0.402769  \n",
       "min        0.00000        0.000000        11.580000      0.000000  \n",
       "25%        0.00000        0.000000     51002.110000      0.000000  \n",
       "50%        1.00000        1.000000    100193.915000      0.000000  \n",
       "75%        1.00000        1.000000    149388.247500      0.000000  \n",
       "max        1.00000        1.000000    199992.480000      1.000000  "
      ]
     },
     "execution_count": 11,
     "metadata": {},
     "output_type": "execute_result"
    }
   ],
   "source": [
    "df.describe()"
   ]
  },
  {
   "cell_type": "markdown",
   "metadata": {},
   "source": [
    "<div class=\"alert alert-success\" style=\"border-color: green; border-radius: 5px\">\n",
    "    <p><u><b>✅ КОММЕНТАРИЙ РЕВЬЮЕРА v.1</b></u></p>\n",
    "    <p>Данные загружены, отлично.</p>\n",
    "    <p>Хорошо, что применяешь метод <code>.head()</code> таким образом в память не будет загружен весь датасет, объем которого может быть огромным.</p>\n",
    "    <p>Методы <code>.info()</code> и <code>.describe()</code> обязательны к применению в таких задачах. С их помощью можно найти первые инсайты в данных.</p>\n",
    "    <p>Молодец, что проверил на дубликаты, это важно.</p>\n",
    "    <p>Удаление столбцоп проведено верно. Отлично!</p>\n",
    "    <p>Осталось разобраться с заполнением пропусков.</p>\n",
    "</div>"
   ]
  },
  {
   "cell_type": "markdown",
   "metadata": {},
   "source": [
    "**На графиках изучу данные о клиентах**"
   ]
  },
  {
   "cell_type": "code",
   "execution_count": 12,
   "metadata": {},
   "outputs": [],
   "source": [
    "def make_pie_plot(data, name):\n",
    "    counts = data.value_counts()\n",
    "    counts.plot.pie(legend=True, labeldistance=1.2, autopct='%1.2f%%', figsize=(12,6), title=name)\n",
    "    plt.show()"
   ]
  },
  {
   "cell_type": "code",
   "execution_count": 13,
   "metadata": {},
   "outputs": [
    {
     "data": {
      "image/png": "[encoded data removed]",
      "text/plain": [
       "<Figure size 864x432 with 1 Axes>"
      ]
     },
     "metadata": {},
     "output_type": "display_data"
    }
   ],
   "source": [
    "make_pie_plot(df['exited'], 'Количество клиентов, прекратившие сотрудничество с банком')\n",
    "# 1 = Да, 0 = Нет"
   ]
  },
  {
   "cell_type": "code",
   "execution_count": 14,
   "metadata": {},
   "outputs": [
    {
     "data": {
      "image/png": "[encoded data removed]",
      "text/plain": [
       "<Figure size 864x432 with 1 Axes>"
      ]
     },
     "metadata": {},
     "output_type": "display_data"
    }
   ],
   "source": [
    "make_pie_plot(df['hascrcard'], 'Клиенты, у которых есть кредитная карта банка')"
   ]
  },
  {
   "cell_type": "code",
   "execution_count": 15,
   "metadata": {},
   "outputs": [
    {
     "data": {
      "image/png": "[encoded data removed]",
      "text/plain": [
       "<Figure size 864x432 with 1 Axes>"
      ]
     },
     "metadata": {},
     "output_type": "display_data"
    }
   ],
   "source": [
    "make_pie_plot(df['isactivemember'], 'Активные клиенты банка')"
   ]
  },
  {
   "cell_type": "code",
   "execution_count": 16,
   "metadata": {
    "scrolled": false
   },
   "outputs": [
    {
     "data": {
      "image/png": "[encoded data removed]",
      "text/plain": [
       "<Figure size 864x432 with 1 Axes>"
      ]
     },
     "metadata": {},
     "output_type": "display_data"
    }
   ],
   "source": [
    "make_pie_plot(df['gender'], 'Гендер клиентов банка')"
   ]
  },
  {
   "cell_type": "code",
   "execution_count": 17,
   "metadata": {},
   "outputs": [
    {
     "data": {
      "image/png": "[encoded data removed]",
      "text/plain": [
       "<Figure size 864x432 with 1 Axes>"
      ]
     },
     "metadata": {},
     "output_type": "display_data"
    }
   ],
   "source": [
    "make_pie_plot(df['geography'], 'Из каких стран клиенты банка')"
   ]
  },
  {
   "cell_type": "code",
   "execution_count": 18,
   "metadata": {},
   "outputs": [
    {
     "data": {
      "image/png": "[encoded data removed]",
      "text/plain": [
       "<Figure size 432x288 with 1 Axes>"
      ]
     },
     "metadata": {
      "needs_background": "light"
     },
     "output_type": "display_data"
    }
   ],
   "source": [
    "df.pivot_table(index='age', values='isactivemember', aggfunc='sum').sort_values('age', ascending=False).plot(legend=False, title='Возраст клиентов банка')\n",
    "plt.show()"
   ]
  },
  {
   "cell_type": "markdown",
   "metadata": {},
   "source": [
    "Посмотрю, как выглядит на графике разбиение основных признаков клиента по целевому признаку ухода клиента из банка."
   ]
  },
  {
   "cell_type": "code",
   "execution_count": 19,
   "metadata": {},
   "outputs": [
    {
     "data": {
      "image/png": "[encoded data removed]",
      "text/plain": [
       "<Figure size 864x720 with 5 Axes>"
      ]
     },
     "metadata": {
      "needs_background": "light"
     },
     "output_type": "display_data"
    }
   ],
   "source": [
    "plt.figure(figsize=(12,10))\n",
    "columns = ['hascrcard', 'gender', 'isactivemember', 'numofproducts', 'geography']\n",
    "for i in range(5):\n",
    "    plt.subplot(3, 2, i+1)\n",
    "    sb.countplot(x=columns[i], hue='exited', data=df)\n",
    "    plt.xticks(rotation=0)\n",
    "    plt.legend([\"Not Exited\", \"Exited\"])\n",
    "plt.show()"
   ]
  },
  {
   "cell_type": "code",
   "execution_count": 20,
   "metadata": {},
   "outputs": [
    {
     "data": {
      "text/plain": [
       "France     5014\n",
       "Germany    2509\n",
       "Spain      2477\n",
       "Name: geography, dtype: int64"
      ]
     },
     "execution_count": 20,
     "metadata": {},
     "output_type": "execute_result"
    }
   ],
   "source": [
    "df['geography'].value_counts()"
   ]
  },
  {
   "cell_type": "code",
   "execution_count": 21,
   "metadata": {},
   "outputs": [
    {
     "data": {
      "text/plain": [
       "Male      5457\n",
       "Female    4543\n",
       "Name: gender, dtype: int64"
      ]
     },
     "execution_count": 21,
     "metadata": {},
     "output_type": "execute_result"
    }
   ],
   "source": [
    "df['gender'].value_counts()"
   ]
  },
  {
   "cell_type": "code",
   "execution_count": 22,
   "metadata": {},
   "outputs": [
    {
     "data": {
      "text/plain": [
       "1    5084\n",
       "2    4590\n",
       "3     266\n",
       "4      60\n",
       "Name: numofproducts, dtype: int64"
      ]
     },
     "execution_count": 22,
     "metadata": {},
     "output_type": "execute_result"
    }
   ],
   "source": [
    "df['numofproducts'].value_counts()"
   ]
  },
  {
   "cell_type": "code",
   "execution_count": 23,
   "metadata": {},
   "outputs": [
    {
     "data": {
      "text/plain": [
       "0    7963\n",
       "1    2037\n",
       "Name: exited, dtype: int64"
      ]
     },
     "execution_count": 23,
     "metadata": {},
     "output_type": "execute_result"
    }
   ],
   "source": [
    "df['exited'].value_counts()"
   ]
  },
  {
   "cell_type": "code",
   "execution_count": 24,
   "metadata": {},
   "outputs": [
    {
     "data": {
      "text/plain": [
       "3617"
      ]
     },
     "execution_count": 24,
     "metadata": {},
     "output_type": "execute_result"
    }
   ],
   "source": [
    "len(df.query('balance == 0'))"
   ]
  },
  {
   "cell_type": "code",
   "execution_count": 25,
   "metadata": {},
   "outputs": [
    {
     "data": {
      "text/plain": [
       "1    7055\n",
       "0    2945\n",
       "Name: hascrcard, dtype: int64"
      ]
     },
     "execution_count": 25,
     "metadata": {},
     "output_type": "execute_result"
    }
   ],
   "source": [
    "df['hascrcard'].value_counts()"
   ]
  },
  {
   "cell_type": "code",
   "execution_count": 26,
   "metadata": {},
   "outputs": [
    {
     "data": {
      "text/plain": [
       "1    5151\n",
       "0    4849\n",
       "Name: isactivemember, dtype: int64"
      ]
     },
     "execution_count": 26,
     "metadata": {},
     "output_type": "execute_result"
    }
   ],
   "source": [
    "df['isactivemember'].value_counts()"
   ]
  },
  {
   "cell_type": "markdown",
   "metadata": {},
   "source": [
    "**Вывод**"
   ]
  },
  {
   "cell_type": "markdown",
   "metadata": {},
   "source": [
    "Итак, что же удалось узнать после изучение и предобработки данных:\n",
    "\n",
    "- 10000 уникальных id (после удаления пропусков осталось 9091)\n",
    "\n",
    "Страны и количество клиентов банка:\n",
    "- France     4550\n",
    "- Germany    2293\n",
    "- Spain      2248\n",
    "\n",
    "Количество мужчин и женщин:\n",
    "- Male      4974\n",
    "- Female    4117\n",
    "\n",
    "Клиенты с нулевым балансом: 3283\n",
    "\n",
    "Всего 4 продукта банка и количество клиентов, использующих их:\n",
    "1    4617\n",
    "2    4184\n",
    "3     234\n",
    "4      56\n",
    "\n",
    "Следующие столбцы имеют булевые значения:\n",
    "- hascrcard\n",
    "- isactivemember\n",
    "- exited\n",
    "\n",
    "<br>Самому молодому клиенту банка 18 лет, самому старому 90+\n",
    "<br>Клиенты, ушедшие из банка: 1854\n",
    "<br>Клиенты, у которых есть кредитные карты банка: 6409\n",
    "<br>Активные клиенты банка: 4687"
   ]
  },
  {
   "cell_type": "markdown",
   "metadata": {},
   "source": [
    "<div class=\"alert alert-success\" style=\"border-color: green; border-radius: 5px\">\n",
    "    <p><u><b>✅ КОММЕНТАРИЙ РЕВЬЮЕРА v.1</b></u></p>\n",
    "    <p>Очень качественное исследование данных и подробный вывод. Зачет!</p>\n",
    "    <p>Дополнительно видно исследование дисбаланса классов.</p>\n",
    "</div>"
   ]
  },
  {
   "cell_type": "markdown",
   "metadata": {},
   "source": [
    "## Исследование задачи"
   ]
  },
  {
   "cell_type": "code",
   "execution_count": 27,
   "metadata": {},
   "outputs": [],
   "source": [
    "data_ohe = pd.get_dummies(df, drop_first=True)"
   ]
  },
  {
   "cell_type": "markdown",
   "metadata": {},
   "source": [
    "Исходный набор данных поделю  на три части: обучающую, валидационную и тестовую. Размеры тестового и валидационного наборов сделаю 60% / 20% / 20%"
   ]
  },
  {
   "cell_type": "code",
   "execution_count": 28,
   "metadata": {
    "scrolled": true
   },
   "outputs": [
    {
     "name": "stdout",
     "output_type": "stream",
     "text": [
      "(6000, 11) (2000, 11) (2000, 11)\n",
      "(6000,) (2000,) (2000,)\n"
     ]
    }
   ],
   "source": [
    "target = data_ohe['exited']\n",
    "features = data_ohe.drop('exited', axis=1)\n",
    "\n",
    "features_train, features_valid, target_train, target_valid = train_test_split(features, target, test_size=0.4, \n",
    "                                                                              random_state=rnd_state, stratify=target)\n",
    "features_valid, features_test, target_valid, target_test = train_test_split(features_valid, target_valid, test_size=0.5, \n",
    "                                                                              random_state=rnd_state, stratify=target_valid)\n",
    "print(features_train.shape, features_valid.shape, features_test.shape)\n",
    "print(target_train.shape, target_valid.shape, target_test.shape)"
   ]
  },
  {
   "cell_type": "code",
   "execution_count": 29,
   "metadata": {},
   "outputs": [],
   "source": [
    "scaler = StandardScaler()\n",
    "numeric = ['creditscore', 'age', 'tenure', 'balance', 'numofproducts', 'estimatedsalary']\n",
    "scaler.fit(features_train[numeric])\n",
    "    \n",
    "features_train[numeric] = scaler.transform(features_train[numeric])\n",
    "features_valid[numeric] = scaler.transform(features_valid[numeric])\n",
    "features_test[numeric] = scaler.transform(features_test[numeric])"
   ]
  },
  {
   "cell_type": "markdown",
   "metadata": {},
   "source": [
    "Проверю, как часто в целевом признаке исходного датасета встречается класс «1» или «0»"
   ]
  },
  {
   "cell_type": "code",
   "execution_count": 30,
   "metadata": {},
   "outputs": [
    {
     "data": {
      "text/plain": [
       "0    0.7963\n",
       "1    0.2037\n",
       "Name: exited, dtype: float64"
      ]
     },
     "execution_count": 30,
     "metadata": {},
     "output_type": "execute_result"
    }
   ],
   "source": [
    "frequency_of_0_1 = df['exited'].value_counts(normalize=True)\n",
    "frequency_of_0_1"
   ]
  },
  {
   "cell_type": "markdown",
   "metadata": {},
   "source": [
    "Соотношение классов примерно 1:4. Изучим модели без исправление баланса. Но на данном этапе я буду исследовать модели без учета дисбаланса классов, заведомо ожидая плохие результаты."
   ]
  },
  {
   "cell_type": "markdown",
   "metadata": {},
   "source": [
    "<div class=\"alert alert-danger\" style=\"border-color: #8B0000; border-radius: 5px\">\n",
    "    <p><u><b>❌ КОММЕНТАРИЙ РЕВЬЮЕРА v.1</b></u></p>\n",
    "    <p>Замечательно. Кодирование категориальных признаков и разделение на выборки выполненно корректно. Давай дополним этот пункт масштабированием численных признаков. Тогда можно будет считать, что подготовка данных выполненна на 100%.</p>\n",
    "</div>"
   ]
  },
  {
   "cell_type": "markdown",
   "metadata": {},
   "source": [
    "<div class=\"alert alert-warning\" style=\"border-color: orange; border-radius: 5px\">\n",
    "    <p><u><b>⚠️ КОММЕНТАРИЙ РЕВЬЮЕРА v.1</b></u></p>\n",
    "    <p><b>Полезный лайфхак!</b></p>   \n",
    "    <p>Может быть так, что при разделении на выборки почти все наблюдения класса 1 попадут, например, в валидационную выборку.</p>    \n",
    "    <p>Модель не получится хорошо обучить, и финальные результаты будут не очень приятными. Модель не сможет классифицировать клиентов, склонных к оттоку, так как она их не видела на этапе обучения.</p>\n",
    "    <p>Можно использовать параметр `stratify = y` в функции `train_test_split( )`, где `y` – соответствующая целевая переменная. Данные разделятся на два кластера (наблюдения класса 0 и наблюдения класса 1), и в валидационную выборку попадут по 20% наблюдений из каждого кластера:</p>    \n",
    "    <p>То есть, если соотношение классов в оригинальной выборке было 2:5, то в обучающей и валидационной выборках оно сохранится таким же.</p>    \n",
    "    <p>Такой подход в чем-то решает проблему несбалансированных классов.</p>\n",
    "</div>"
   ]
  },
  {
   "cell_type": "markdown",
   "metadata": {},
   "source": [
    "<div style=\"background: #B0E0E6; padding: 5px; border: 1px solid SteelBlue; border-radius: 5px;\">\n",
    "    <font color='4682B4'><u><b>КОММЕНТАРИЙ СТУДЕНТА</b></u></font>\n",
    "    <br />\n",
    "    <font color='4682B4'>Добавил стратификацию и сделал масштабирование.</font>\n",
    "</div>"
   ]
  },
  {
   "cell_type": "markdown",
   "metadata": {},
   "source": [
    "<div class=\"alert alert-success\" style=\"border-color: green; border-radius: 5px\">\n",
    "    <p><u><b>✅ КОММЕНТАРИЙ РЕВЬЮЕРА v.2</b></u></p>\n",
    "    <p>Теперь все отлично!</p>\n",
    "</div>"
   ]
  },
  {
   "cell_type": "markdown",
   "metadata": {},
   "source": [
    "### Проверка на Logistic Regression"
   ]
  },
  {
   "cell_type": "code",
   "execution_count": 31,
   "metadata": {},
   "outputs": [
    {
     "name": "stdout",
     "output_type": "stream",
     "text": [
      "F1 0.35571687840290384\n",
      "CPU times: user 28.2 ms, sys: 8.15 ms, total: 36.3 ms\n",
      "Wall time: 57.3 ms\n"
     ]
    }
   ],
   "source": [
    "%%time\n",
    "\n",
    "model = LogisticRegression(random_state=rnd_state, solver='liblinear')\n",
    "model.fit(features_train, target_train)\n",
    "predicted_valid = model.predict(features_valid)\n",
    "print('F1', f1_score(target_valid, predicted_valid))"
   ]
  },
  {
   "cell_type": "markdown",
   "metadata": {},
   "source": [
    "<div class=\"alert alert-danger\" style=\"border-color: #8B0000; border-radius: 5px\">\n",
    "    <p><u><b>❌ КОММЕНТАРИЙ РЕВЬЮЕРА v.1</b></u></p>\n",
    "    <p>Юрий, в ячейке выше багует код. Пожалуйста, исправь ошибку.</p>\n",
    "</div>"
   ]
  },
  {
   "cell_type": "markdown",
   "metadata": {},
   "source": [
    "<div style=\"background: #B0E0E6; padding: 5px; border: 1px solid SteelBlue; border-radius: 5px;\">\n",
    "    <font color='4682B4'><u><b>КОММЕНТАРИЙ СТУДЕНТА</b></u></font>\n",
    "    <br />\n",
    "    <font color='4682B4'>Спасибо. Исправил.</font>\n",
    "</div>"
   ]
  },
  {
   "cell_type": "markdown",
   "metadata": {},
   "source": [
    "<div class=\"alert alert-success\" style=\"border-color: green; border-radius: 5px\">\n",
    "    <p><u><b>✅ КОММЕНТАРИЙ РЕВЬЮЕРА v.2</b></u></p>\n",
    "    <p>Зачет!</p>\n",
    "</div>"
   ]
  },
  {
   "cell_type": "markdown",
   "metadata": {},
   "source": [
    "Показатели F1 при дисбалансе на логистической регрессии, далеки от хороших."
   ]
  },
  {
   "cell_type": "markdown",
   "metadata": {},
   "source": [
    "### Проверка на Decision Tree Classifier"
   ]
  },
  {
   "cell_type": "code",
   "execution_count": 32,
   "metadata": {},
   "outputs": [
    {
     "name": "stdout",
     "output_type": "stream",
     "text": [
      "Max depth: 2 F1-score: 0.5366568914956013\n",
      "Max depth: 3 F1-score: 0.4143126177024482\n",
      "Max depth: 4 F1-score: 0.5408000000000001\n",
      "Max depth: 5 F1-score: 0.5534591194968554\n",
      "Max depth: 6 F1-score: 0.5553822152886115\n",
      "Max depth: 7 F1-score: 0.5674846625766871\n",
      "Max depth: 8 F1-score: 0.5735735735735735\n",
      "Max depth: 9 F1-score: 0.5751824817518248\n",
      "Max depth: 10 F1-score: 0.564673157162726\n",
      "Max depth: 11 F1-score: 0.5582047685834503\n",
      "Max depth: 12 F1-score: 0.5493910690121786\n",
      "Max depth: 13 F1-score: 0.5331599479843953\n",
      "Max depth: 14 F1-score: 0.5380710659898478\n",
      "Max depth: 15 F1-score: 0.5175000000000001\n",
      "Max depth: 16 F1-score: 0.5097560975609755\n",
      "Max depth: 17 F1-score: 0.5142857142857142\n",
      "Max depth: 18 F1-score: 0.5115151515151516\n",
      "Max depth: 19 F1-score: 0.5170731707317073\n",
      "Max depth: 20 F1-score: 0.5247883917775091\n",
      "Max depth: 21 F1-score: 0.5180722891566265\n",
      "Max depth: 22 F1-score: 0.5219512195121953\n",
      "Max depth: 23 F1-score: 0.513317191283293\n",
      "Max depth: 24 F1-score: 0.5121359223300971\n",
      "Max depth: 25 F1-score: 0.5121359223300971\n",
      "Max depth: 26 F1-score: 0.5121359223300971\n",
      "Max depth: 27 F1-score: 0.5121359223300971\n",
      "Max depth: 28 F1-score: 0.5121359223300971\n",
      "Max depth: 29 F1-score: 0.5121359223300971\n",
      "Лучшая F-мера 0.5751824817518248 cо значением глубины = 29\n",
      "CPU times: user 1.1 s, sys: 9.37 ms, total: 1.1 s\n",
      "Wall time: 1.14 s\n"
     ]
    }
   ],
   "source": [
    "%%time\n",
    "\n",
    "best_model_tree = None\n",
    "best_result = 0\n",
    "accuracy_arr_tree = []\n",
    "\n",
    "for depth in range(2, 30):\n",
    "    model_tree = DecisionTreeClassifier(random_state=rnd_state, max_depth=depth)\n",
    "    model_tree.fit(features_train, target_train)\n",
    "    predicted_valid = model_tree.predict(features_valid)\n",
    "    print('Max depth:', depth,'F1-score:', f1_score(target_valid, predicted_valid))\n",
    "    result = f1_score(target_valid, predicted_valid)\n",
    "    \n",
    "    if best_result < result:\n",
    "        best_result = result\n",
    "        max_depth = depth\n",
    "        best_model_tree = model_tree\n",
    "\n",
    "print(\"Лучшая F-мера\", best_result, 'cо значением глубины =', depth)"
   ]
  },
  {
   "cell_type": "markdown",
   "metadata": {},
   "source": [
    "Лучший показатель при глубине 29 (max_depth 29) F1-score: 0.5751824817518248"
   ]
  },
  {
   "cell_type": "markdown",
   "metadata": {},
   "source": [
    "### Проверка на  Random Forest Classifier"
   ]
  },
  {
   "cell_type": "code",
   "execution_count": 33,
   "metadata": {
    "scrolled": true
   },
   "outputs": [
    {
     "name": "stdout",
     "output_type": "stream",
     "text": [
      "N estimators: 10 Глубина: 10 F1: 0.5898617511520737\n",
      "N estimators: 10 Глубина: 11 F1: 0.5913312693498453\n",
      "N estimators: 10 Глубина: 12 F1: 0.5583596214511041\n",
      "N estimators: 10 Глубина: 13 F1: 0.5718608169440242\n",
      "N estimators: 10 Глубина: 14 F1: 0.5775075987841946\n",
      "N estimators: 10 Глубина: 15 F1: 0.5618320610687023\n",
      "N estimators: 10 Глубина: 16 F1: 0.5575757575757576\n",
      "N estimators: 10 Глубина: 17 F1: 0.5527488855869243\n",
      "N estimators: 10 Глубина: 18 F1: 0.5604900459418071\n",
      "N estimators: 10 Глубина: 19 F1: 0.5318818040435459\n",
      "N estimators: 12 Глубина: 10 F1: 0.5828220858895705\n",
      "N estimators: 12 Глубина: 11 F1: 0.5897035881435257\n",
      "N estimators: 12 Глубина: 12 F1: 0.5477707006369427\n",
      "N estimators: 12 Глубина: 13 F1: 0.577572964669739\n",
      "N estimators: 12 Глубина: 14 F1: 0.5608628659476118\n",
      "N estimators: 12 Глубина: 15 F1: 0.5482388973966309\n",
      "N estimators: 12 Глубина: 16 F1: 0.5701219512195121\n",
      "N estimators: 12 Глубина: 17 F1: 0.5611940298507462\n",
      "N estimators: 12 Глубина: 18 F1: 0.5740181268882175\n",
      "N estimators: 12 Глубина: 19 F1: 0.541213063763608\n",
      "N estimators: 14 Глубина: 10 F1: 0.5824345146379044\n",
      "N estimators: 14 Глубина: 11 F1: 0.5891472868217054\n",
      "N estimators: 14 Глубина: 12 F1: 0.5532591414944357\n",
      "N estimators: 14 Глубина: 13 F1: 0.5727554179566563\n",
      "N estimators: 14 Глубина: 14 F1: 0.5749235474006116\n",
      "N estimators: 14 Глубина: 15 F1: 0.5538461538461539\n",
      "N estimators: 14 Глубина: 16 F1: 0.5855855855855856\n",
      "N estimators: 14 Глубина: 17 F1: 0.5778443113772455\n",
      "N estimators: 14 Глубина: 18 F1: 0.5822021116138762\n",
      "N estimators: 14 Глубина: 19 F1: 0.5564142194744977\n",
      "N estimators: 16 Глубина: 10 F1: 0.5855161787365177\n",
      "N estimators: 16 Глубина: 11 F1: 0.5984496124031007\n",
      "N estimators: 16 Глубина: 12 F1: 0.5641838351822505\n",
      "N estimators: 16 Глубина: 13 F1: 0.564742589703588\n",
      "N estimators: 16 Глубина: 14 F1: 0.566615620214395\n",
      "N estimators: 16 Глубина: 15 F1: 0.5510835913312694\n",
      "N estimators: 16 Глубина: 16 F1: 0.5774436090225564\n",
      "N estimators: 16 Глубина: 17 F1: 0.56797583081571\n",
      "N estimators: 16 Глубина: 18 F1: 0.5830815709969788\n",
      "N estimators: 16 Глубина: 19 F1: 0.5617283950617284\n",
      "N estimators: 18 Глубина: 10 F1: 0.5842349304482225\n",
      "N estimators: 18 Глубина: 11 F1: 0.5935085007727975\n",
      "N estimators: 18 Глубина: 12 F1: 0.5682539682539682\n",
      "N estimators: 18 Глубина: 13 F1: 0.5793528505392912\n",
      "N estimators: 18 Глубина: 14 F1: 0.5766312594840668\n",
      "N estimators: 18 Глубина: 15 F1: 0.5731707317073171\n",
      "N estimators: 18 Глубина: 16 F1: 0.5918057663125948\n",
      "N estimators: 18 Глубина: 17 F1: 0.5735963581183613\n",
      "N estimators: 18 Глубина: 18 F1: 0.5787878787878787\n",
      "N estimators: 18 Глубина: 19 F1: 0.5552147239263804\n",
      "N estimators: 20 Глубина: 10 F1: 0.57984496124031\n",
      "N estimators: 20 Глубина: 11 F1: 0.5851393188854489\n",
      "N estimators: 20 Глубина: 12 F1: 0.5664556962025317\n",
      "N estimators: 20 Глубина: 13 F1: 0.5745007680491551\n",
      "N estimators: 20 Глубина: 14 F1: 0.5839636913767019\n",
      "N estimators: 20 Глубина: 15 F1: 0.5819295558958651\n",
      "N estimators: 20 Глубина: 16 F1: 0.5975975975975976\n",
      "N estimators: 20 Глубина: 17 F1: 0.5791855203619909\n",
      "N estimators: 20 Глубина: 18 F1: 0.5848484848484848\n",
      "N estimators: 20 Глубина: 19 F1: 0.5652173913043478\n",
      "N estimators: 22 Глубина: 10 F1: 0.5834633385335414\n",
      "N estimators: 22 Глубина: 11 F1: 0.5891472868217054\n",
      "N estimators: 22 Глубина: 12 F1: 0.560126582278481\n",
      "N estimators: 22 Глубина: 13 F1: 0.581039755351682\n",
      "N estimators: 22 Глубина: 14 F1: 0.5818181818181817\n",
      "N estimators: 22 Глубина: 15 F1: 0.5855161787365177\n",
      "N estimators: 22 Глубина: 16 F1: 0.5921450151057401\n",
      "N estimators: 22 Глубина: 17 F1: 0.5775075987841946\n",
      "N estimators: 22 Глубина: 18 F1: 0.582701062215478\n",
      "N estimators: 22 Глубина: 19 F1: 0.5683563748079877\n",
      "N estimators: 24 Глубина: 10 F1: 0.5777080062794349\n",
      "N estimators: 24 Глубина: 11 F1: 0.5891472868217054\n",
      "N estimators: 24 Глубина: 12 F1: 0.5632911392405063\n",
      "N estimators: 24 Глубина: 13 F1: 0.5857359635811836\n",
      "N estimators: 24 Глубина: 14 F1: 0.5862595419847328\n",
      "N estimators: 24 Глубина: 15 F1: 0.5853658536585367\n",
      "N estimators: 24 Глубина: 16 F1: 0.5869894099848714\n",
      "N estimators: 24 Глубина: 17 F1: 0.5819295558958651\n",
      "N estimators: 24 Глубина: 18 F1: 0.5878787878787879\n",
      "N estimators: 24 Глубина: 19 F1: 0.5758039816232772\n",
      "N estimators: 26 Глубина: 10 F1: 0.5790297339593113\n",
      "N estimators: 26 Глубина: 11 F1: 0.5847589424572318\n",
      "N estimators: 26 Глубина: 12 F1: 0.5691823899371069\n",
      "N estimators: 26 Глубина: 13 F1: 0.5889570552147239\n",
      "N estimators: 26 Глубина: 14 F1: 0.5902140672782874\n",
      "N estimators: 26 Глубина: 15 F1: 0.5905631659056316\n",
      "N estimators: 26 Глубина: 16 F1: 0.5819295558958651\n",
      "N estimators: 26 Глубина: 17 F1: 0.5844748858447489\n",
      "N estimators: 26 Глубина: 18 F1: 0.5853658536585367\n",
      "N estimators: 26 Глубина: 19 F1: 0.5858895705521472\n",
      "N estimators: 28 Глубина: 10 F1: 0.58125\n",
      "N estimators: 28 Глубина: 11 F1: 0.5852895148669797\n",
      "N estimators: 28 Глубина: 12 F1: 0.5718799368088467\n",
      "N estimators: 28 Глубина: 13 F1: 0.5929339477726575\n",
      "N estimators: 28 Глубина: 14 F1: 0.5805471124620062\n",
      "N estimators: 28 Глубина: 15 F1: 0.5911179173047474\n",
      "N estimators: 28 Глубина: 16 F1: 0.5911179173047474\n",
      "N estimators: 28 Глубина: 17 F1: 0.5714285714285714\n",
      "N estimators: 28 Глубина: 18 F1: 0.593939393939394\n",
      "N estimators: 28 Глубина: 19 F1: 0.5858895705521472\n",
      "N estimators: 30 Глубина: 10 F1: 0.588785046728972\n",
      "N estimators: 30 Глубина: 11 F1: 0.5786163522012578\n",
      "N estimators: 30 Глубина: 12 F1: 0.5714285714285715\n",
      "N estimators: 30 Глубина: 13 F1: 0.5945121951219512\n",
      "N estimators: 30 Глубина: 14 F1: 0.5779816513761468\n",
      "N estimators: 30 Глубина: 15 F1: 0.5913312693498453\n",
      "N estimators: 30 Глубина: 16 F1: 0.6024464831804281\n",
      "N estimators: 30 Глубина: 17 F1: 0.5770992366412214\n",
      "N estimators: 30 Глубина: 18 F1: 0.5848484848484848\n",
      "N estimators: 30 Глубина: 19 F1: 0.577572964669739\n",
      "N estimators: 32 Глубина: 10 F1: 0.5909797822706065\n",
      "N estimators: 32 Глубина: 11 F1: 0.5777080062794349\n",
      "N estimators: 32 Глубина: 12 F1: 0.5641838351822505\n",
      "N estimators: 32 Глубина: 13 F1: 0.5902140672782874\n",
      "N estimators: 32 Глубина: 14 F1: 0.5814307458143075\n",
      "N estimators: 32 Глубина: 15 F1: 0.5913312693498453\n",
      "N estimators: 32 Глубина: 16 F1: 0.5950920245398773\n",
      "N estimators: 32 Глубина: 17 F1: 0.5857359635811836\n",
      "N estimators: 32 Глубина: 18 F1: 0.5796661608497724\n",
      "N estimators: 32 Глубина: 19 F1: 0.5758513931888545\n",
      "N estimators: 34 Глубина: 10 F1: 0.594090202177294\n",
      "N estimators: 34 Глубина: 11 F1: 0.5862068965517241\n",
      "N estimators: 34 Глубина: 12 F1: 0.5700787401574804\n",
      "N estimators: 34 Глубина: 13 F1: 0.5898617511520737\n",
      "N estimators: 34 Глубина: 14 F1: 0.5857359635811836\n",
      "N estimators: 34 Глубина: 15 F1: 0.5990783410138248\n",
      "N estimators: 34 Глубина: 16 F1: 0.598159509202454\n",
      "N estimators: 34 Глубина: 17 F1: 0.5871559633027523\n",
      "N estimators: 34 Глубина: 18 F1: 0.5857359635811836\n",
      "N estimators: 34 Глубина: 19 F1: 0.5837173579109064\n",
      "N estimators: 36 Глубина: 10 F1: 0.5928237129485179\n",
      "N estimators: 36 Глубина: 11 F1: 0.580343213728549\n",
      "N estimators: 36 Глубина: 12 F1: 0.5745682888540031\n",
      "N estimators: 36 Глубина: 13 F1: 0.5911179173047474\n",
      "N estimators: 36 Глубина: 14 F1: 0.5844748858447489\n",
      "N estimators: 36 Глубина: 15 F1: 0.5960061443932412\n",
      "N estimators: 36 Глубина: 16 F1: 0.599388379204893\n",
      "N estimators: 36 Глубина: 17 F1: 0.5797546012269938\n",
      "N estimators: 36 Глубина: 18 F1: 0.5972850678733032\n",
      "N estimators: 36 Глубина: 19 F1: 0.583206106870229\n",
      "N estimators: 38 Глубина: 10 F1: 0.5856697819314642\n",
      "N estimators: 38 Глубина: 11 F1: 0.5799373040752351\n",
      "N estimators: 38 Глубина: 12 F1: 0.5750000000000001\n",
      "N estimators: 38 Глубина: 13 F1: 0.598159509202454\n",
      "N estimators: 38 Глубина: 14 F1: 0.5835866261398177\n",
      "N estimators: 38 Глубина: 15 F1: 0.5929339477726575\n",
      "N estimators: 38 Глубина: 16 F1: 0.5990783410138248\n",
      "N estimators: 38 Глубина: 17 F1: 0.5796661608497724\n",
      "N estimators: 38 Глубина: 18 F1: 0.6003016591251886\n",
      "N estimators: 38 Глубина: 19 F1: 0.5898617511520737\n",
      "N estimators: 40 Глубина: 10 F1: 0.5862068965517241\n",
      "N estimators: 40 Глубина: 11 F1: 0.5795275590551181\n",
      "N estimators: 40 Глубина: 12 F1: 0.5745682888540031\n",
      "N estimators: 40 Глубина: 13 F1: 0.5975232198142415\n",
      "N estimators: 40 Глубина: 14 F1: 0.5819295558958651\n",
      "N estimators: 40 Глубина: 15 F1: 0.5932721712538226\n",
      "N estimators: 40 Глубина: 16 F1: 0.6000000000000001\n",
      "N estimators: 40 Глубина: 17 F1: 0.574468085106383\n",
      "N estimators: 40 Глубина: 18 F1: 0.5924812030075188\n",
      "N estimators: 40 Глубина: 19 F1: 0.5889570552147239\n",
      "N estimators: 42 Глубина: 10 F1: 0.5786163522012578\n",
      "N estimators: 42 Глубина: 11 F1: 0.573228346456693\n",
      "N estimators: 42 Глубина: 12 F1: 0.5794392523364486\n",
      "N estimators: 42 Глубина: 13 F1: 0.5965996908809892\n",
      "N estimators: 42 Глубина: 14 F1: 0.5902140672782874\n",
      "N estimators: 42 Глубина: 15 F1: 0.5916795069337442\n",
      "N estimators: 42 Глубина: 16 F1: 0.6000000000000001\n",
      "N estimators: 42 Глубина: 17 F1: 0.5735963581183613\n",
      "N estimators: 42 Глубина: 18 F1: 0.5948406676783005\n",
      "N estimators: 42 Глубина: 19 F1: 0.58678955453149\n",
      "N estimators: 44 Глубина: 10 F1: 0.5808477237048666\n",
      "N estimators: 44 Глубина: 11 F1: 0.5852895148669797\n",
      "N estimators: 44 Глубина: 12 F1: 0.58125\n",
      "N estimators: 44 Глубина: 13 F1: 0.5965996908809892\n",
      "N estimators: 44 Глубина: 14 F1: 0.5884146341463414\n",
      "N estimators: 44 Глубина: 15 F1: 0.5941807044410413\n",
      "N estimators: 44 Глубина: 16 F1: 0.6012269938650306\n",
      "N estimators: 44 Глубина: 17 F1: 0.5787878787878787\n",
      "N estimators: 44 Глубина: 18 F1: 0.5875190258751902\n",
      "N estimators: 44 Глубина: 19 F1: 0.584097859327217\n",
      "N estimators: 46 Глубина: 10 F1: 0.5871271585557299\n",
      "N estimators: 46 Глубина: 11 F1: 0.5777080062794349\n",
      "N estimators: 46 Глубина: 12 F1: 0.5790297339593113\n",
      "N estimators: 46 Глубина: 13 F1: 0.5947611710323575\n",
      "N estimators: 46 Глубина: 14 F1: 0.5941807044410413\n",
      "N estimators: 46 Глубина: 15 F1: 0.5938461538461538\n",
      "N estimators: 46 Глубина: 16 F1: 0.6021505376344086\n",
      "N estimators: 46 Глубина: 17 F1: 0.5748865355521936\n",
      "N estimators: 46 Глубина: 18 F1: 0.5864661654135338\n",
      "N estimators: 46 Глубина: 19 F1: 0.5815384615384616\n",
      "N estimators: 48 Глубина: 10 F1: 0.5875\n",
      "N estimators: 48 Глубина: 11 F1: 0.5830721003134797\n",
      "N estimators: 48 Глубина: 12 F1: 0.5777080062794349\n",
      "N estimators: 48 Глубина: 13 F1: 0.5929339477726575\n",
      "N estimators: 48 Глубина: 14 F1: 0.5876923076923077\n",
      "N estimators: 48 Глубина: 15 F1: 0.5864197530864197\n",
      "N estimators: 48 Глубина: 16 F1: 0.598159509202454\n",
      "N estimators: 48 Глубина: 17 F1: 0.574468085106383\n",
      "N estimators: 48 Глубина: 18 F1: 0.5933734939759037\n",
      "N estimators: 48 Глубина: 19 F1: 0.5849923430321592\n",
      "Лучшая F-мера 0.6024464831804281 при глубине = 16 и количестве деревьев = 30\n",
      "CPU times: user 56.3 s, sys: 271 ms, total: 56.6 s\n",
      "Wall time: 57.9 s\n"
     ]
    }
   ],
   "source": [
    "%%time\n",
    "\n",
    "best_model_rf = None\n",
    "best_result = 0\n",
    "best_depth = 0\n",
    "best_est = 0\n",
    "\n",
    "for estimator in range(10, 50, 2):\n",
    "    for depth in range(10, 20):\n",
    "        model_rf =  RandomForestClassifier(random_state=rnd_state, n_estimators=estimator, max_depth = depth)\n",
    "        model_rf.fit(features_train, target_train)\n",
    "        predicted_valid = model_rf.predict(features_valid)\n",
    "        print('N estimators:', estimator, 'Глубина:', depth, 'F1:', f1_score(target_valid, predicted_valid))\n",
    "        result = f1_score(target_valid, predicted_valid) \n",
    "        \n",
    "        if result > best_result:\n",
    "            best_model_rf = model_rf\n",
    "            best_result = result\n",
    "            best_depth = depth\n",
    "            best_est = estimator\n",
    "\n",
    "print(\"Лучшая F-мера\", best_result, 'при глубине = {0} и количестве деревьев = {1}'.format(best_depth, best_est))"
   ]
  },
  {
   "cell_type": "markdown",
   "metadata": {},
   "source": [
    "Лучшая F-мера 0.6024464831804281 при глубине = 16 и количестве деревьев = 30"
   ]
  },
  {
   "cell_type": "markdown",
   "metadata": {},
   "source": [
    "Проведу оценку accuracy, precision и recall, а также посмотрю F-метрику."
   ]
  },
  {
   "cell_type": "code",
   "execution_count": 34,
   "metadata": {
    "scrolled": true
   },
   "outputs": [
    {
     "name": "stdout",
     "output_type": "stream",
     "text": [
      "Логистическая регрессия\n",
      "Точность попадания по классам 0.8225\n",
      "Precision 0.6853146853146853\n",
      "Recall 0.24019607843137256\n",
      "F1 0.35571687840290384\n",
      "\n",
      "Решающее дерево\n",
      "Точность попадания по классам 0.799\n",
      "Precision 0.5072815533980582\n",
      "Recall 0.5122549019607843\n",
      "F1 0.5097560975609755\n",
      "\n",
      "Случайный лес\n",
      "Точность попадания по классам 0.87\n",
      "Precision 0.8008130081300813\n",
      "Recall 0.48284313725490197\n",
      "F1 0.6024464831804281\n",
      "\n",
      "CPU times: user 472 ms, sys: 100 ms, total: 572 ms\n",
      "Wall time: 588 ms\n"
     ]
    }
   ],
   "source": [
    "%%time\n",
    "\n",
    "model = LogisticRegression(random_state=rnd_state, solver='liblinear')\n",
    "model.fit(features_train, target_train)\n",
    "predicted_valid = model.predict(features_valid)\n",
    "print('Логистическая регрессия')\n",
    "print('Точность попадания по классам', accuracy_score(target_valid, predicted_valid))\n",
    "print('Precision', precision_score(target_valid, predicted_valid))\n",
    "print('Recall', recall_score(target_valid, predicted_valid))\n",
    "print('F1', f1_score(target_valid, predicted_valid))\n",
    "print()\n",
    "\n",
    "model = DecisionTreeClassifier(random_state=rnd_state, max_depth=best_depth)\n",
    "model.fit(features_train, target_train)\n",
    "predicted_valid = model.predict(features_valid)\n",
    "print('Решающее дерево')\n",
    "print('Точность попадания по классам', accuracy_score(target_valid, predicted_valid))\n",
    "print('Precision', precision_score(target_valid, predicted_valid))\n",
    "print('Recall', recall_score(target_valid, predicted_valid))\n",
    "print('F1', f1_score(target_valid, predicted_valid))\n",
    "print()\n",
    "\n",
    "model = RandomForestClassifier(random_state=rnd_state, n_estimators=best_est, max_depth=best_depth)\n",
    "model.fit(features_train, target_train)\n",
    "predicted_valid = model.predict(features_valid)\n",
    "print('Случайный лес')\n",
    "print('Точность попадания по классам', accuracy_score(target_valid, predicted_valid))\n",
    "print('Precision', precision_score(target_valid, predicted_valid))\n",
    "print('Recall', recall_score(target_valid, predicted_valid))\n",
    "print('F1', f1_score(target_valid, predicted_valid))\n",
    "print()"
   ]
  },
  {
   "cell_type": "markdown",
   "metadata": {},
   "source": [
    "Если не брать во внимание, что в данных присутствует дисбаланс, то лучшее значение F-меры 0.6024464831804281 у модели Случайный лес при глубине = 16 и количестве деревьев = 30, при этом точность - 0.8, а полнота - 0.48."
   ]
  },
  {
   "cell_type": "markdown",
   "metadata": {},
   "source": [
    "<div class=\"alert alert-warning\" style=\"border-color: orange; border-radius: 5px\">\n",
    "    <p><u><b>⚠️ КОММЕНТАРИЙ РЕВЬЮЕРА v.1</b></u></p>\n",
    "    <p>К этому пункту замечаний нет. Круто, что подбираешь гиперпараметры и обучаешь три модели.</p>   \n",
    "    <p>Один нюанс - лучшие гиперпараметры стоит в цикле сохранить в отдельные переменные, чтобы в случае необходимости к ним можо было легко обратиться.</p>\n",
    "</div>"
   ]
  },
  {
   "cell_type": "markdown",
   "metadata": {},
   "source": [
    "<div style=\"background: #B0E0E6; padding: 5px; border: 1px solid SteelBlue; border-radius: 5px;\">\n",
    "    <font color='4682B4'><u><b>КОММЕНТАРИЙ СТУДЕНТА</b></u></font>\n",
    "    <br />\n",
    "    <font color='4682B4'>Спасибо. Добавил.</font>\n",
    "</div>"
   ]
  },
  {
   "cell_type": "markdown",
   "metadata": {},
   "source": [
    "<div class=\"alert alert-warning\" style=\"border-color: orange; border-radius: 5px\">\n",
    "    <p><u><b>⚠️ КОММЕНТАРИЙ РЕВЬЮЕРА v.2</b></u></p>\n",
    "    <p>Хорошо. Еще было бы неплохо написать вывод о работе моделей без учета дисбаланса.</p>\n",
    "</div>"
   ]
  },
  {
   "cell_type": "markdown",
   "metadata": {},
   "source": [
    "<div style=\"background: #B0E0E6; padding: 5px; border: 1px solid SteelBlue; border-radius: 5px;\">\n",
    "    <font color='4682B4'><u><b>КОММЕНТАРИЙ СТУДЕНТА v.2</b></u></font>\n",
    "    <br />\n",
    "    <font color='4682B4'>Добавил.</font>\n",
    "</div>"
   ]
  },
  {
   "cell_type": "markdown",
   "metadata": {},
   "source": [
    "<div class=\"alert alert-success\" style=\"border-color: green; border-radius: 5px\">\n",
    "    <p><u><b>✅ КОММЕНТАРИЙ РЕВЬЮЕРА v.3</b></u></p>\n",
    "    <p>Хорошо, идем дальше.</p>\n",
    "</div>"
   ]
  },
  {
   "cell_type": "markdown",
   "metadata": {},
   "source": [
    "## Борьба с дисбалансом"
   ]
  },
  {
   "cell_type": "markdown",
   "metadata": {},
   "source": [
    "### Балансировка классов"
   ]
  },
  {
   "cell_type": "markdown",
   "metadata": {},
   "source": [
    "Придам объектам редкого класса 1 больший вес используя гиперпараметр class_weight='balanced'"
   ]
  },
  {
   "cell_type": "markdown",
   "metadata": {},
   "source": [
    "**Logistic Regression**"
   ]
  },
  {
   "cell_type": "code",
   "execution_count": 35,
   "metadata": {
    "scrolled": true
   },
   "outputs": [
    {
     "name": "stdout",
     "output_type": "stream",
     "text": [
      "Логистическая регрессия\n",
      "Точность попадания по классам 0.714\n",
      "Precision 0.388283378746594\n",
      "Recall 0.6985294117647058\n",
      "F1 0.49912434325744315\n",
      "\n",
      "CPU times: user 85.9 ms, sys: 76.3 ms, total: 162 ms\n",
      "Wall time: 132 ms\n"
     ]
    }
   ],
   "source": [
    "%%time\n",
    "\n",
    "model = LogisticRegression(random_state=rnd_state, solver='liblinear', class_weight='balanced')\n",
    "model.fit(features_train, target_train)\n",
    "predicted_valid = model.predict(features_valid)\n",
    "print('Логистическая регрессия')\n",
    "print('Точность попадания по классам', accuracy_score(target_valid, predicted_valid))\n",
    "print('Precision', precision_score(target_valid, predicted_valid))\n",
    "print('Recall', recall_score(target_valid, predicted_valid))\n",
    "print('F1', f1_score(target_valid, predicted_valid))\n",
    "print()\n"
   ]
  },
  {
   "cell_type": "markdown",
   "metadata": {},
   "source": [
    "Результат получше, чем с несбалансированными данными."
   ]
  },
  {
   "cell_type": "markdown",
   "metadata": {},
   "source": [
    "**Decision Tree Classifier**"
   ]
  },
  {
   "cell_type": "code",
   "execution_count": 36,
   "metadata": {},
   "outputs": [
    {
     "name": "stdout",
     "output_type": "stream",
     "text": [
      "Max depth: 2 F1-score: 0.5281220209723547\n",
      "Max depth: 3 F1-score: 0.5281220209723547\n",
      "Max depth: 4 F1-score: 0.5137318255250404\n",
      "Max depth: 5 F1-score: 0.597535934291581\n",
      "Max depth: 6 F1-score: 0.5849056603773585\n",
      "Max depth: 7 F1-score: 0.535303776683087\n",
      "Max depth: 8 F1-score: 0.5291005291005291\n",
      "Max depth: 9 F1-score: 0.5623130608175474\n",
      "Max depth: 10 F1-score: 0.5211665098777046\n",
      "Max depth: 11 F1-score: 0.5103857566765578\n",
      "Max depth: 12 F1-score: 0.519916142557652\n",
      "Max depth: 13 F1-score: 0.5047120418848168\n",
      "Max depth: 14 F1-score: 0.522133938706016\n",
      "Max depth: 15 F1-score: 0.5146198830409356\n",
      "Max depth: 16 F1-score: 0.5165876777251185\n",
      "Max depth: 17 F1-score: 0.5183374083129586\n",
      "Max depth: 18 F1-score: 0.5103280680437423\n",
      "Max depth: 19 F1-score: 0.5018450184501846\n",
      "Лучшая F-мера 0.597535934291581 cо значением глубины = 5\n",
      "CPU times: user 646 ms, sys: 8.14 ms, total: 654 ms\n",
      "Wall time: 672 ms\n"
     ]
    }
   ],
   "source": [
    "%%time\n",
    "\n",
    "best_model_tree_balance = None\n",
    "best_result_balance = 0\n",
    "\n",
    "for depth in range(2, 20):\n",
    "    model_tree_balance = DecisionTreeClassifier(random_state=rnd_state, max_depth=depth, class_weight='balanced')\n",
    "    model_tree_balance.fit(features_train, target_train)\n",
    "    predicted_valid = model_tree_balance.predict(features_valid)\n",
    "    print('Max depth:', depth,'F1-score:', f1_score(target_valid, predicted_valid))\n",
    "    result = f1_score(target_valid, predicted_valid)\n",
    "    \n",
    "    if best_result_balance < result:\n",
    "        best_result_balance = result\n",
    "        max_depth = depth\n",
    "        best_model_tree_balance = model_tree_balance\n",
    "\n",
    "print(\"Лучшая F-мера\", best_result_balance, 'cо значением глубины =', max_depth)\n"
   ]
  },
  {
   "cell_type": "markdown",
   "metadata": {},
   "source": [
    "Лучшая F-мера 0.597535934291581 cо значением глубины = 5"
   ]
  },
  {
   "cell_type": "markdown",
   "metadata": {},
   "source": [
    "**Random Forest Classifier**"
   ]
  },
  {
   "cell_type": "code",
   "execution_count": 37,
   "metadata": {
    "scrolled": true
   },
   "outputs": [
    {
     "name": "stdout",
     "output_type": "stream",
     "text": [
      "N estimators: 10 Глубина: 10 F1: 0.5990675990675991\n",
      "N estimators: 10 Глубина: 11 F1: 0.5989974937343359\n",
      "N estimators: 10 Глубина: 12 F1: 0.6044098573281453\n",
      "N estimators: 10 Глубина: 13 F1: 0.5775401069518717\n",
      "N estimators: 10 Глубина: 14 F1: 0.5560283687943263\n",
      "N estimators: 10 Глубина: 15 F1: 0.5730659025787965\n",
      "N estimators: 10 Глубина: 16 F1: 0.5457317073170731\n",
      "N estimators: 10 Глубина: 17 F1: 0.5473684210526316\n",
      "N estimators: 10 Глубина: 18 F1: 0.553323029366306\n",
      "N estimators: 10 Глубина: 19 F1: 0.5371248025276462\n",
      "N estimators: 30 Глубина: 10 F1: 0.617283950617284\n",
      "N estimators: 30 Глубина: 11 F1: 0.6048906048906049\n",
      "N estimators: 30 Глубина: 12 F1: 0.6125166444740345\n",
      "N estimators: 30 Глубина: 13 F1: 0.5966850828729282\n",
      "N estimators: 30 Глубина: 14 F1: 0.5887445887445888\n",
      "N estimators: 30 Глубина: 15 F1: 0.5892597968069666\n",
      "N estimators: 30 Глубина: 16 F1: 0.5676077265973254\n",
      "N estimators: 30 Глубина: 17 F1: 0.5637181409295352\n",
      "N estimators: 30 Глубина: 18 F1: 0.576271186440678\n",
      "N estimators: 30 Глубина: 19 F1: 0.5855161787365177\n",
      "N estimators: 50 Глубина: 10 F1: 0.6211180124223603\n",
      "N estimators: 50 Глубина: 11 F1: 0.6139896373056996\n",
      "N estimators: 50 Глубина: 12 F1: 0.6170500676589986\n",
      "N estimators: 50 Глубина: 13 F1: 0.5961002785515321\n",
      "N estimators: 50 Глубина: 14 F1: 0.5977337110481588\n",
      "N estimators: 50 Глубина: 15 F1: 0.5822416302765647\n",
      "N estimators: 50 Глубина: 16 F1: 0.5842026825633384\n",
      "N estimators: 50 Глубина: 17 F1: 0.5676077265973254\n",
      "N estimators: 50 Глубина: 18 F1: 0.5843373493975903\n",
      "N estimators: 50 Глубина: 19 F1: 0.5735963581183613\n",
      "N estimators: 70 Глубина: 10 F1: 0.6142322097378277\n",
      "N estimators: 70 Глубина: 11 F1: 0.6124031007751938\n",
      "N estimators: 70 Глубина: 12 F1: 0.6124661246612466\n",
      "N estimators: 70 Глубина: 13 F1: 0.607977991746905\n",
      "N estimators: 70 Глубина: 14 F1: 0.6028571428571429\n",
      "N estimators: 70 Глубина: 15 F1: 0.5927007299270073\n",
      "N estimators: 70 Глубина: 16 F1: 0.5854383358098069\n",
      "N estimators: 70 Глубина: 17 F1: 0.5783132530120481\n",
      "N estimators: 70 Глубина: 18 F1: 0.5818181818181817\n",
      "N estimators: 70 Глубина: 19 F1: 0.5727411944869831\n",
      "N estimators: 90 Глубина: 10 F1: 0.6290726817042607\n",
      "N estimators: 90 Глубина: 11 F1: 0.6131953428201812\n",
      "N estimators: 90 Глубина: 12 F1: 0.6170500676589986\n",
      "N estimators: 90 Глубина: 13 F1: 0.6128133704735376\n",
      "N estimators: 90 Глубина: 14 F1: 0.5942028985507246\n",
      "N estimators: 90 Глубина: 15 F1: 0.588235294117647\n",
      "N estimators: 90 Глубина: 16 F1: 0.591044776119403\n",
      "N estimators: 90 Глубина: 17 F1: 0.5829596412556054\n",
      "N estimators: 90 Глубина: 18 F1: 0.5775075987841946\n",
      "N estimators: 90 Глубина: 19 F1: 0.5745007680491551\n",
      "N estimators: 110 Глубина: 10 F1: 0.6225\n",
      "N estimators: 110 Глубина: 11 F1: 0.6139896373056996\n",
      "N estimators: 110 Глубина: 12 F1: 0.6168478260869564\n",
      "N estimators: 110 Глубина: 13 F1: 0.6050420168067226\n",
      "N estimators: 110 Глубина: 14 F1: 0.5959302325581395\n",
      "N estimators: 110 Глубина: 15 F1: 0.5908419497784342\n",
      "N estimators: 110 Глубина: 16 F1: 0.5894736842105263\n",
      "N estimators: 110 Глубина: 17 F1: 0.5861027190332325\n",
      "N estimators: 110 Глубина: 18 F1: 0.5909090909090909\n",
      "N estimators: 110 Глубина: 19 F1: 0.5792682926829268\n",
      "N estimators: 130 Глубина: 10 F1: 0.6248431618569636\n",
      "N estimators: 130 Глубина: 11 F1: 0.614785992217899\n",
      "N estimators: 130 Глубина: 12 F1: 0.612685560053981\n",
      "N estimators: 130 Глубина: 13 F1: 0.6061452513966481\n",
      "N estimators: 130 Глубина: 14 F1: 0.6069364161849711\n",
      "N estimators: 130 Глубина: 15 F1: 0.5979381443298969\n",
      "N estimators: 130 Глубина: 16 F1: 0.5964391691394658\n",
      "N estimators: 130 Глубина: 17 F1: 0.5813253012048192\n",
      "N estimators: 130 Глубина: 18 F1: 0.5900151285930408\n",
      "N estimators: 130 Глубина: 19 F1: 0.5796661608497724\n",
      "N estimators: 150 Глубина: 10 F1: 0.6256281407035177\n",
      "N estimators: 150 Глубина: 11 F1: 0.6127770534550194\n",
      "N estimators: 150 Глубина: 12 F1: 0.6099865047233469\n",
      "N estimators: 150 Глубина: 13 F1: 0.6097902097902097\n",
      "N estimators: 150 Глубина: 14 F1: 0.6011560693641619\n",
      "N estimators: 150 Глубина: 15 F1: 0.5979381443298969\n",
      "N estimators: 150 Глубина: 16 F1: 0.5931445603576752\n",
      "N estimators: 150 Глубина: 17 F1: 0.5861027190332325\n",
      "N estimators: 150 Глубина: 18 F1: 0.5792682926829268\n",
      "N estimators: 150 Глубина: 19 F1: 0.5819295558958651\n",
      "N estimators: 170 Глубина: 10 F1: 0.6223337515683814\n",
      "N estimators: 170 Глубина: 11 F1: 0.6143790849673202\n",
      "N estimators: 170 Глубина: 12 F1: 0.6102150537634409\n",
      "N estimators: 170 Глубина: 13 F1: 0.611731843575419\n",
      "N estimators: 170 Глубина: 14 F1: 0.6017191977077364\n",
      "N estimators: 170 Глубина: 15 F1: 0.6008836524300442\n",
      "N estimators: 170 Глубина: 16 F1: 0.591044776119403\n",
      "N estimators: 170 Глубина: 17 F1: 0.582701062215478\n",
      "N estimators: 170 Глубина: 18 F1: 0.583206106870229\n",
      "N estimators: 170 Глубина: 19 F1: 0.577572964669739\n",
      "N estimators: 190 Глубина: 10 F1: 0.6275\n",
      "N estimators: 190 Глубина: 11 F1: 0.6163849154746425\n",
      "N estimators: 190 Глубина: 12 F1: 0.6129032258064516\n",
      "N estimators: 190 Глубина: 13 F1: 0.6153846153846154\n",
      "N estimators: 190 Глубина: 14 F1: 0.5953757225433526\n",
      "N estimators: 190 Глубина: 15 F1: 0.5979381443298969\n",
      "N estimators: 190 Глубина: 16 F1: 0.5894736842105263\n",
      "N estimators: 190 Глубина: 17 F1: 0.5852187028657616\n",
      "N estimators: 190 Глубина: 18 F1: 0.5806451612903225\n",
      "N estimators: 190 Глубина: 19 F1: 0.5828220858895705\n",
      "N estimators: 210 Глубина: 10 F1: 0.6217228464419476\n",
      "N estimators: 210 Глубина: 11 F1: 0.6205997392438072\n",
      "N estimators: 210 Глубина: 12 F1: 0.6135135135135136\n",
      "N estimators: 210 Глубина: 13 F1: 0.6134453781512605\n",
      "N estimators: 210 Глубина: 14 F1: 0.5985611510791367\n",
      "N estimators: 210 Глубина: 15 F1: 0.5979381443298969\n",
      "N estimators: 210 Глубина: 16 F1: 0.5873493975903614\n",
      "N estimators: 210 Глубина: 17 F1: 0.5891238670694864\n",
      "N estimators: 210 Глубина: 18 F1: 0.5806451612903225\n",
      "N estimators: 210 Глубина: 19 F1: 0.5893129770992367\n",
      "N estimators: 230 Глубина: 10 F1: 0.6215538847117794\n",
      "N estimators: 230 Глубина: 11 F1: 0.6163849154746425\n",
      "N estimators: 230 Глубина: 12 F1: 0.6137281292059219\n",
      "N estimators: 230 Глубина: 13 F1: 0.6089385474860335\n",
      "N estimators: 230 Глубина: 14 F1: 0.5974025974025974\n",
      "N estimators: 230 Глубина: 15 F1: 0.5958702064896756\n",
      "N estimators: 230 Глубина: 16 F1: 0.5873493975903614\n",
      "N estimators: 230 Глубина: 17 F1: 0.5918057663125948\n",
      "N estimators: 230 Глубина: 18 F1: 0.5819295558958651\n",
      "N estimators: 230 Глубина: 19 F1: 0.5923664122137404\n",
      "N estimators: 250 Глубина: 10 F1: 0.6182728410513141\n",
      "N estimators: 250 Глубина: 11 F1: 0.6181818181818182\n",
      "N estimators: 250 Глубина: 12 F1: 0.6155913978494624\n",
      "N estimators: 250 Глубина: 13 F1: 0.611731843575419\n",
      "N estimators: 250 Глубина: 14 F1: 0.6023054755043227\n",
      "N estimators: 250 Глубина: 15 F1: 0.5929203539823009\n",
      "N estimators: 250 Глубина: 16 F1: 0.5855855855855856\n",
      "N estimators: 250 Глубина: 17 F1: 0.593939393939394\n",
      "N estimators: 250 Глубина: 18 F1: 0.581039755351682\n",
      "N estimators: 250 Глубина: 19 F1: 0.5884146341463414\n",
      "N estimators: 270 Глубина: 10 F1: 0.6225\n",
      "N estimators: 270 Глубина: 11 F1: 0.6189856957087126\n",
      "N estimators: 270 Глубина: 12 F1: 0.6153846153846155\n",
      "N estimators: 270 Глубина: 13 F1: 0.6121883656509696\n",
      "N estimators: 270 Глубина: 14 F1: 0.6014388489208633\n",
      "N estimators: 270 Глубина: 15 F1: 0.5958702064896756\n",
      "N estimators: 270 Глубина: 16 F1: 0.5873493975903614\n",
      "N estimators: 270 Глубина: 17 F1: 0.5921450151057401\n",
      "N estimators: 270 Глубина: 18 F1: 0.5797546012269938\n",
      "N estimators: 270 Глубина: 19 F1: 0.5884146341463414\n",
      "N estimators: 290 Глубина: 10 F1: 0.6175\n",
      "N estimators: 290 Глубина: 11 F1: 0.6181818181818182\n",
      "N estimators: 290 Глубина: 12 F1: 0.613941018766756\n",
      "N estimators: 290 Глубина: 13 F1: 0.6100278551532033\n",
      "N estimators: 290 Глубина: 14 F1: 0.6002886002886003\n",
      "N estimators: 290 Глубина: 15 F1: 0.5937961595273265\n",
      "N estimators: 290 Глубина: 16 F1: 0.5864661654135338\n",
      "N estimators: 290 Глубина: 17 F1: 0.5900151285930408\n",
      "N estimators: 290 Глубина: 18 F1: 0.581039755351682\n",
      "N estimators: 290 Глубина: 19 F1: 0.584097859327217\n",
      "Лучшая F-мера 0.6290726817042607 при глубине = 10 и количестве деревьев = 90\n",
      "CPU times: user 3min 25s, sys: 990 ms, total: 3min 26s\n",
      "Wall time: 3min 30s\n"
     ]
    }
   ],
   "source": [
    "%%time\n",
    "\n",
    "best_model_rf_balance = None\n",
    "best_result_balance = 0\n",
    "best_depth_balance = 0\n",
    "best_est_balance = 0\n",
    "\n",
    "for estimator in range(10, 300, 20):\n",
    "    for depth in range(10, 20):\n",
    "        model_rf_balance =  RandomForestClassifier(random_state=rnd_state, n_estimators=estimator, \n",
    "                                                   max_depth = depth, class_weight='balanced')\n",
    "        model_rf_balance.fit(features_train, target_train)\n",
    "        predicted_valid = model_rf_balance.predict(features_valid)\n",
    "        print('N estimators:', estimator, 'Глубина:', depth, 'F1:', f1_score(target_valid, predicted_valid))\n",
    "        result = f1_score(target_valid, predicted_valid) \n",
    "        \n",
    "        if result > best_result_balance:\n",
    "            best_model_rf_balance = model_rf_balance\n",
    "            best_result_balance = result\n",
    "            best_depth_balance = depth\n",
    "            best_est_balance = estimator\n",
    "\n",
    "print(\"Лучшая F-мера\", best_result_balance, 'при глубине = {0} и количестве деревьев = {1}'.format(best_depth_balance,\n",
    "                                                                                           best_est_balance))\n"
   ]
  },
  {
   "cell_type": "markdown",
   "metadata": {},
   "source": [
    "Лучшая F-мера 0.6290726817042607 при глубине = 10 и количестве деревьев = 90"
   ]
  },
  {
   "cell_type": "markdown",
   "metadata": {},
   "source": [
    "<div class=\"alert alert-danger\" style=\"border-color: #8B0000; border-radius: 5px\">\n",
    "    <p><u><b>❌ КОММЕНТАРИЙ РЕВЬЮЕРА v.1</b></u></p>\n",
    "    <p>Здесь для качественного эксперимента стоит заново подобрать гиперпараметры моделей. Так можно добиться повышения качества их работы.</p>\n",
    "</div>"
   ]
  },
  {
   "cell_type": "markdown",
   "metadata": {},
   "source": [
    "<div style=\"background: #B0E0E6; padding: 5px; border: 1px solid SteelBlue; border-radius: 5px;\">\n",
    "    <font color='4682B4'><u><b>КОММЕНТАРИЙ СТУДЕНТА</b></u></font>\n",
    "    <br />\n",
    "    <font color='4682B4'>Подобрал.</font>\n",
    "</div>"
   ]
  },
  {
   "cell_type": "markdown",
   "metadata": {},
   "source": [
    "<div class=\"alert alert-danger\" style=\"border-color: #8B0000; border-radius: 5px\">\n",
    "    <p><u><b>❌ КОММЕНТАРИЙ РЕВЬЮЕРА v.2</b></u></p>\n",
    "    <p>Смотри. Подбор гиперпараметров (пункты 2.2, 2.3) ты провел для моделей без учета дисбаланса. Теперь ты устраняешь дисбаланс, следовательно нужно заново запустить циклы подбора лучших гиперпараметров и сохранить их в отдельные переменные. Так эксперимент будет выполнен правильно.</p>\n",
    "</div>"
   ]
  },
  {
   "cell_type": "markdown",
   "metadata": {},
   "source": [
    "<div style=\"background: #B0E0E6; padding: 5px; border: 1px solid SteelBlue; border-radius: 5px;\">\n",
    "    <font color='4682B4'><u><b>КОММЕНТАРИЙ СТУДЕНТА v.2</b></u></font>\n",
    "    <br />\n",
    "    <font color='4682B4'>Точно. Не сообразил и упустил этот момент. Спасибо.</font>\n",
    "</div>"
   ]
  },
  {
   "cell_type": "markdown",
   "metadata": {},
   "source": [
    "<div class=\"alert alert-success\" style=\"border-color: green; border-radius: 5px\">\n",
    "    <p><u><b>✅ КОММЕНТАРИЙ РЕВЬЮЕРА v.3</b></u></p>\n",
    "    <p>Вот так все встало на свои места!</p>\n",
    "</div>"
   ]
  },
  {
   "cell_type": "markdown",
   "metadata": {},
   "source": [
    "### Upsampling"
   ]
  },
  {
   "cell_type": "markdown",
   "metadata": {},
   "source": [
    "Увеличу \n",
    "объекты редкого класса и заново обучу модели."
   ]
  },
  {
   "cell_type": "code",
   "execution_count": 38,
   "metadata": {},
   "outputs": [
    {
     "name": "stdout",
     "output_type": "stream",
     "text": [
      "1    4888\n",
      "0    4778\n",
      "Name: exited, dtype: int64\n"
     ]
    }
   ],
   "source": [
    "def upsample(features, target, repeat):\n",
    "    features_zeros = features[target == 0]\n",
    "    features_ones = features[target == 1]\n",
    "    target_zeros = target[target == 0]\n",
    "    target_ones = target[target == 1]\n",
    "\n",
    "    features_upsampled = pd.concat([features_zeros] + [features_ones] * repeat)\n",
    "    target_upsampled = pd.concat([target_zeros] + [target_ones] * repeat)\n",
    "    \n",
    "    features_upsampled, target_upsampled = shuffle(\n",
    "        features_upsampled, target_upsampled, random_state=rnd_state)\n",
    "    \n",
    "    return features_upsampled, target_upsampled\n",
    "\n",
    "features_upsampled, target_upsampled = upsample(features_train, target_train, 4)\n",
    "\n",
    "print(target_upsampled.value_counts())"
   ]
  },
  {
   "cell_type": "markdown",
   "metadata": {},
   "source": [
    "**Logistic Regression**"
   ]
  },
  {
   "cell_type": "code",
   "execution_count": 39,
   "metadata": {},
   "outputs": [
    {
     "name": "stdout",
     "output_type": "stream",
     "text": [
      "Логистическая регрессия\n",
      "Точность попадания по классам 0.707\n",
      "Precision 0.38133333333333336\n",
      "Recall 0.7009803921568627\n",
      "F1 0.4939550949913645\n",
      "\n",
      "CPU times: user 90.4 ms, sys: 44.2 ms, total: 135 ms\n",
      "Wall time: 85.8 ms\n"
     ]
    }
   ],
   "source": [
    "%%time\n",
    "\n",
    "model = LogisticRegression(random_state=rnd_state, solver='liblinear')\n",
    "model.fit(features_upsampled, target_upsampled)\n",
    "predicted_valid = model.predict(features_valid)\n",
    "print('Логистическая регрессия')\n",
    "print('Точность попадания по классам', accuracy_score(target_valid, predicted_valid))\n",
    "print('Precision', precision_score(target_valid, predicted_valid))\n",
    "print('Recall', recall_score(target_valid, predicted_valid))\n",
    "print('F1', f1_score(target_valid, predicted_valid))\n",
    "print()"
   ]
  },
  {
   "cell_type": "markdown",
   "metadata": {},
   "source": [
    "**Decision Tree Classifier**"
   ]
  },
  {
   "cell_type": "code",
   "execution_count": 40,
   "metadata": {},
   "outputs": [
    {
     "name": "stdout",
     "output_type": "stream",
     "text": [
      "Max depth: 2 F1-score: 0.5281220209723547\n",
      "Max depth: 3 F1-score: 0.5281220209723547\n",
      "Max depth: 4 F1-score: 0.5137318255250404\n",
      "Max depth: 5 F1-score: 0.597535934291581\n",
      "Max depth: 6 F1-score: 0.5849056603773585\n",
      "Max depth: 7 F1-score: 0.535303776683087\n",
      "Max depth: 8 F1-score: 0.5294635004397538\n",
      "Max depth: 9 F1-score: 0.5611940298507463\n",
      "Max depth: 10 F1-score: 0.5183788878416588\n",
      "Max depth: 11 F1-score: 0.5172754195459032\n",
      "Max depth: 12 F1-score: 0.5090137857900319\n",
      "Max depth: 13 F1-score: 0.5085470085470086\n",
      "Max depth: 14 F1-score: 0.5200892857142857\n",
      "Max depth: 15 F1-score: 0.5177304964539008\n",
      "Max depth: 16 F1-score: 0.5172004744958482\n",
      "Max depth: 17 F1-score: 0.5030525030525032\n",
      "Max depth: 18 F1-score: 0.5006195786864932\n",
      "Max depth: 19 F1-score: 0.5103785103785105\n",
      "Лучшая F-мера 0.597535934291581 cо значением глубины = 5\n",
      "CPU times: user 895 ms, sys: 16.1 ms, total: 911 ms\n",
      "Wall time: 943 ms\n"
     ]
    }
   ],
   "source": [
    "%%time\n",
    "\n",
    "\n",
    "best_model_tree_upsmple = None\n",
    "best_result_upsmple = 0\n",
    "\n",
    "for depth in range(2, 20):\n",
    "    model_tree_upsmple = DecisionTreeClassifier(random_state=rnd_state, max_depth=depth)\n",
    "    model_tree_upsmple.fit(features_upsampled, target_upsampled)\n",
    "    predicted_valid = model_tree_upsmple.predict(features_valid)\n",
    "    print('Max depth:', depth,'F1-score:', f1_score(target_valid, predicted_valid))\n",
    "    result = f1_score(target_valid, predicted_valid)\n",
    "    \n",
    "    if best_result_upsmple < result:\n",
    "        best_result_upsmple = result\n",
    "        max_depth_upsmple = depth\n",
    "        best_model_tree_upsmple = model_tree_upsmple\n",
    "\n",
    "print(\"Лучшая F-мера\", best_result_upsmple, 'cо значением глубины =', max_depth_upsmple)\n"
   ]
  },
  {
   "cell_type": "markdown",
   "metadata": {},
   "source": [
    "Лучшая F-мера 0.597535934291581 cо значением глубины = 5"
   ]
  },
  {
   "cell_type": "markdown",
   "metadata": {},
   "source": [
    "**Random Forest Classifier**"
   ]
  },
  {
   "cell_type": "code",
   "execution_count": 41,
   "metadata": {
    "scrolled": true
   },
   "outputs": [
    {
     "name": "stdout",
     "output_type": "stream",
     "text": [
      "N estimators: 10 Глубина: 10 F1: 0.6075388026607539\n",
      "N estimators: 10 Глубина: 11 F1: 0.5934065934065934\n",
      "N estimators: 10 Глубина: 12 F1: 0.6141367323290846\n",
      "N estimators: 10 Глубина: 13 F1: 0.607565011820331\n",
      "N estimators: 10 Глубина: 14 F1: 0.6044776119402985\n",
      "N estimators: 10 Глубина: 15 F1: 0.6015228426395939\n",
      "N estimators: 10 Глубина: 16 F1: 0.6005089058524173\n",
      "N estimators: 10 Глубина: 17 F1: 0.5668874172185431\n",
      "N estimators: 10 Глубина: 18 F1: 0.587467362924282\n",
      "N estimators: 10 Глубина: 19 F1: 0.5698924731182796\n",
      "N estimators: 30 Глубина: 10 F1: 0.6174496644295301\n",
      "N estimators: 30 Глубина: 11 F1: 0.6225769669327251\n",
      "N estimators: 30 Глубина: 12 F1: 0.6269368295589989\n",
      "N estimators: 30 Глубина: 13 F1: 0.6165048543689321\n",
      "N estimators: 30 Глубина: 14 F1: 0.6122961104140526\n",
      "N estimators: 30 Глубина: 15 F1: 0.6194690265486726\n",
      "N estimators: 30 Глубина: 16 F1: 0.6111833550065019\n",
      "N estimators: 30 Глубина: 17 F1: 0.5807291666666667\n",
      "N estimators: 30 Глубина: 18 F1: 0.6176084099868594\n",
      "N estimators: 30 Глубина: 19 F1: 0.6117021276595743\n",
      "N estimators: 50 Глубина: 10 F1: 0.6199999999999999\n",
      "N estimators: 50 Глубина: 11 F1: 0.6264501160092808\n",
      "N estimators: 50 Глубина: 12 F1: 0.6247030878859858\n",
      "N estimators: 50 Глубина: 13 F1: 0.6079613992762365\n",
      "N estimators: 50 Глубина: 14 F1: 0.6227848101265823\n",
      "N estimators: 50 Глубина: 15 F1: 0.6181353767560663\n",
      "N estimators: 50 Глубина: 16 F1: 0.6240208877284595\n",
      "N estimators: 50 Глубина: 17 F1: 0.5994764397905759\n",
      "N estimators: 50 Глубина: 18 F1: 0.6108897742363878\n",
      "N estimators: 50 Глубина: 19 F1: 0.6153846153846153\n",
      "N estimators: 70 Глубина: 10 F1: 0.6198439241917503\n",
      "N estimators: 70 Глубина: 11 F1: 0.6218097447795824\n",
      "N estimators: 70 Глубина: 12 F1: 0.6329411764705882\n",
      "N estimators: 70 Глубина: 13 F1: 0.6215235792019347\n",
      "N estimators: 70 Глубина: 14 F1: 0.6144121365360302\n",
      "N estimators: 70 Глубина: 15 F1: 0.6189856957087126\n",
      "N estimators: 70 Глубина: 16 F1: 0.627906976744186\n",
      "N estimators: 70 Глубина: 17 F1: 0.6\n",
      "N estimators: 70 Глубина: 18 F1: 0.6143617021276596\n",
      "N estimators: 70 Глубина: 19 F1: 0.6225165562913907\n",
      "N estimators: 90 Глубина: 10 F1: 0.6191536748329622\n",
      "N estimators: 90 Глубина: 11 F1: 0.6242774566473989\n",
      "N estimators: 90 Глубина: 12 F1: 0.6303317535545023\n",
      "N estimators: 90 Глубина: 13 F1: 0.6280788177339902\n",
      "N estimators: 90 Глубина: 14 F1: 0.6155778894472361\n",
      "N estimators: 90 Глубина: 15 F1: 0.628056628056628\n",
      "N estimators: 90 Глубина: 16 F1: 0.6159895150720839\n",
      "N estimators: 90 Глубина: 17 F1: 0.6053333333333334\n",
      "N estimators: 90 Глубина: 18 F1: 0.6061415220293724\n",
      "N estimators: 90 Глубина: 19 F1: 0.6180371352785146\n",
      "N estimators: 110 Глубина: 10 F1: 0.6220735785953178\n",
      "N estimators: 110 Глубина: 11 F1: 0.6351039260969976\n",
      "N estimators: 110 Глубина: 12 F1: 0.6267942583732058\n",
      "N estimators: 110 Глубина: 13 F1: 0.6275946275946276\n",
      "N estimators: 110 Глубина: 14 F1: 0.6238993710691823\n",
      "N estimators: 110 Глубина: 15 F1: 0.6307692307692307\n",
      "N estimators: 110 Глубина: 16 F1: 0.6143790849673202\n",
      "N estimators: 110 Глубина: 17 F1: 0.6125166444740345\n",
      "N estimators: 110 Глубина: 18 F1: 0.6162018592297476\n",
      "N estimators: 110 Глубина: 19 F1: 0.6184738955823292\n",
      "N estimators: 130 Глубина: 10 F1: 0.6270996640537514\n",
      "N estimators: 130 Глубина: 11 F1: 0.6359447004608295\n",
      "N estimators: 130 Глубина: 12 F1: 0.6224852071005916\n",
      "N estimators: 130 Глубина: 13 F1: 0.6182266009852218\n",
      "N estimators: 130 Глубина: 14 F1: 0.6169405815423514\n",
      "N estimators: 130 Глубина: 15 F1: 0.6290115532734274\n",
      "N estimators: 130 Глубина: 16 F1: 0.6176084099868594\n",
      "N estimators: 130 Глубина: 17 F1: 0.6104417670682731\n",
      "N estimators: 130 Глубина: 18 F1: 0.613941018766756\n",
      "N estimators: 130 Глубина: 19 F1: 0.6168224299065419\n",
      "N estimators: 150 Глубина: 10 F1: 0.6262626262626263\n",
      "N estimators: 150 Глубина: 11 F1: 0.6345933562428407\n",
      "N estimators: 150 Глубина: 12 F1: 0.6211764705882353\n",
      "N estimators: 150 Глубина: 13 F1: 0.6174661746617466\n",
      "N estimators: 150 Глубина: 14 F1: 0.6213836477987421\n",
      "N estimators: 150 Глубина: 15 F1: 0.6221079691516709\n",
      "N estimators: 150 Глубина: 16 F1: 0.6131578947368422\n",
      "N estimators: 150 Глубина: 17 F1: 0.6122994652406417\n",
      "N estimators: 150 Глубина: 18 F1: 0.6102150537634409\n",
      "N estimators: 150 Глубина: 19 F1: 0.6155913978494624\n",
      "N estimators: 170 Глубина: 10 F1: 0.6270996640537514\n",
      "N estimators: 170 Глубина: 11 F1: 0.6359447004608295\n",
      "N estimators: 170 Глубина: 12 F1: 0.613744075829384\n",
      "N estimators: 170 Глубина: 13 F1: 0.6180469715698393\n",
      "N estimators: 170 Глубина: 14 F1: 0.6256281407035177\n",
      "N estimators: 170 Глубина: 15 F1: 0.6238767650834404\n",
      "N estimators: 170 Глубина: 16 F1: 0.6091503267973856\n",
      "N estimators: 170 Глубина: 17 F1: 0.6071904127829562\n",
      "N estimators: 170 Глубина: 18 F1: 0.6075268817204301\n",
      "N estimators: 170 Глубина: 19 F1: 0.6176470588235294\n",
      "N estimators: 190 Глубина: 10 F1: 0.6273637374860956\n",
      "N estimators: 190 Глубина: 11 F1: 0.6349942062572421\n",
      "N estimators: 190 Глубина: 12 F1: 0.6153846153846154\n",
      "N estimators: 190 Глубина: 13 F1: 0.6167076167076168\n",
      "N estimators: 190 Глубина: 14 F1: 0.6272040302267002\n",
      "N estimators: 190 Глубина: 15 F1: 0.6219354838709678\n",
      "N estimators: 190 Глубина: 16 F1: 0.6055045871559633\n",
      "N estimators: 190 Глубина: 17 F1: 0.6106666666666666\n",
      "N estimators: 190 Глубина: 18 F1: 0.6064690026954177\n",
      "N estimators: 190 Глубина: 19 F1: 0.6174496644295302\n",
      "N estimators: 210 Глубина: 10 F1: 0.6294642857142857\n",
      "N estimators: 210 Глубина: 11 F1: 0.6397228637413395\n",
      "N estimators: 210 Глубина: 12 F1: 0.613744075829384\n",
      "N estimators: 210 Глубина: 13 F1: 0.6167076167076168\n",
      "N estimators: 210 Глубина: 14 F1: 0.6219974715549936\n",
      "N estimators: 210 Глубина: 15 F1: 0.6193548387096774\n",
      "N estimators: 210 Глубина: 16 F1: 0.6099476439790577\n",
      "N estimators: 210 Глубина: 17 F1: 0.6106666666666666\n",
      "N estimators: 210 Глубина: 18 F1: 0.6112600536193029\n",
      "N estimators: 210 Глубина: 19 F1: 0.6149732620320856\n",
      "N estimators: 230 Глубина: 10 F1: 0.6280623608017817\n",
      "N estimators: 230 Глубина: 11 F1: 0.6326767091541136\n",
      "N estimators: 230 Глубина: 12 F1: 0.6040428061831153\n",
      "N estimators: 230 Глубина: 13 F1: 0.6165228113440198\n",
      "N estimators: 230 Глубина: 14 F1: 0.6246851385390427\n",
      "N estimators: 230 Глубина: 15 F1: 0.6221079691516709\n",
      "N estimators: 230 Глубина: 16 F1: 0.6133682830930538\n",
      "N estimators: 230 Глубина: 17 F1: 0.6170212765957446\n",
      "N estimators: 230 Глубина: 18 F1: 0.6131191432396252\n",
      "N estimators: 230 Глубина: 19 F1: 0.6141522029372496\n",
      "N estimators: 250 Глубина: 10 F1: 0.6309921962095876\n",
      "N estimators: 250 Глубина: 11 F1: 0.629757785467128\n",
      "N estimators: 250 Глубина: 12 F1: 0.6111771700356718\n",
      "N estimators: 250 Глубина: 13 F1: 0.6165228113440198\n",
      "N estimators: 250 Глубина: 14 F1: 0.6185044359949302\n",
      "N estimators: 250 Глубина: 15 F1: 0.6201550387596899\n",
      "N estimators: 250 Глубина: 16 F1: 0.6178010471204188\n",
      "N estimators: 250 Глубина: 17 F1: 0.6090425531914894\n",
      "N estimators: 250 Глубина: 18 F1: 0.6093959731543624\n",
      "N estimators: 250 Глубина: 19 F1: 0.6176470588235294\n",
      "N estimators: 270 Глубина: 10 F1: 0.6316964285714286\n",
      "N estimators: 270 Глубина: 11 F1: 0.6357308584686775\n",
      "N estimators: 270 Глубина: 12 F1: 0.6069295101553165\n",
      "N estimators: 270 Глубина: 13 F1: 0.6182266009852218\n",
      "N estimators: 270 Глубина: 14 F1: 0.6221662468513853\n",
      "N estimators: 270 Глубина: 15 F1: 0.6211340206185566\n",
      "N estimators: 270 Глубина: 16 F1: 0.6167979002624673\n",
      "N estimators: 270 Глубина: 17 F1: 0.6088117489986649\n",
      "N estimators: 270 Глубина: 18 F1: 0.6157965194109772\n",
      "N estimators: 270 Глубина: 19 F1: 0.6193029490616622\n",
      "N estimators: 290 Глубина: 10 F1: 0.6339285714285714\n",
      "N estimators: 290 Глубина: 11 F1: 0.6290322580645161\n",
      "N estimators: 290 Глубина: 12 F1: 0.6083832335329341\n",
      "N estimators: 290 Глубина: 13 F1: 0.6182266009852218\n",
      "N estimators: 290 Глубина: 14 F1: 0.6256281407035177\n",
      "N estimators: 290 Глубина: 15 F1: 0.6211340206185566\n",
      "N estimators: 290 Глубина: 16 F1: 0.6159895150720839\n",
      "N estimators: 290 Глубина: 17 F1: 0.610079575596817\n",
      "N estimators: 290 Глубина: 18 F1: 0.6149732620320856\n",
      "N estimators: 290 Глубина: 19 F1: 0.6149732620320856\n",
      "Лучшая F-мера 0.6397228637413395 при глубине = 11 и количестве деревьев = 210\n",
      "CPU times: user 5min 7s, sys: 1.38 s, total: 5min 8s\n",
      "Wall time: 5min 14s\n"
     ]
    }
   ],
   "source": [
    "%%time\n",
    "\n",
    "best_model_rf_upsample = None\n",
    "best_result_upsample = 0\n",
    "best_depth_upsample = 0\n",
    "best_est_upsample = 0\n",
    "\n",
    "for estimator in range(10, 300, 20):\n",
    "    for depth in range(10, 20):\n",
    "        model_rf_upsample =  RandomForestClassifier(random_state=rnd_state, n_estimators=estimator, \n",
    "                                                   max_depth = depth)\n",
    "        model_rf_upsample.fit(features_upsampled, target_upsampled)\n",
    "        predicted_valid = model_rf_upsample.predict(features_valid)\n",
    "        print('N estimators:', estimator, 'Глубина:', depth, 'F1:', f1_score(target_valid, predicted_valid))\n",
    "        result = f1_score(target_valid, predicted_valid) \n",
    "        \n",
    "        if result > best_result_upsample:\n",
    "            best_model_rf_upsample = model_rf_upsample\n",
    "            best_result_upsample = result\n",
    "            best_depth_upsample = depth\n",
    "            best_est_upsample = estimator\n",
    "\n",
    "print(\"Лучшая F-мера\", best_result_upsample, 'при глубине = {0} и количестве деревьев = {1}'.format(best_depth_upsample,\n",
    "                                                                                           best_est_upsample))\n"
   ]
  },
  {
   "cell_type": "markdown",
   "metadata": {},
   "source": [
    "Лучшая F-мера 0.6397228637413395 при глубине = 11 и количестве деревьев = 210"
   ]
  },
  {
   "cell_type": "markdown",
   "metadata": {},
   "source": [
    "<div class=\"alert alert-danger\" style=\"border-color: #8B0000; border-radius: 5px\">\n",
    "    <p><u><b>❌ КОММЕНТАРИЙ РЕВЬЮЕРА v.1</b></u></p>\n",
    "    <p>Upsampling проведен отлично. Коэффициент увеличения подобран. Давай здесь тоже заново подберем гиперпараметры моделей и обучим их.</p>\n",
    "</div>"
   ]
  },
  {
   "cell_type": "markdown",
   "metadata": {},
   "source": [
    "<div style=\"background: #B0E0E6; padding: 5px; border: 1px solid SteelBlue; border-radius: 5px;\">\n",
    "    <font color='4682B4'><u><b>КОММЕНТАРИЙ СТУДЕНТА</b></u></font>\n",
    "    <br />\n",
    "    <font color='4682B4'>Сделал.</font>\n",
    "</div>"
   ]
  },
  {
   "cell_type": "markdown",
   "metadata": {},
   "source": [
    "<div class=\"alert alert-danger\" style=\"border-color: #8B0000; border-radius: 5px\">\n",
    "    <p><u><b>❌ КОММЕНТАРИЙ РЕВЬЮЕРА v.2</b></u></p>\n",
    "    <p>Замечание аналогично п.3.1. Исправь пожалуйста.</p>\n",
    "</div>"
   ]
  },
  {
   "cell_type": "markdown",
   "metadata": {},
   "source": [
    "<div style=\"background: #B0E0E6; padding: 5px; border: 1px solid SteelBlue; border-radius: 5px;\">\n",
    "    <font color='4682B4'><u><b>КОММЕНТАРИЙ СТУДЕНТА v.2</b></u></font>\n",
    "    <br />\n",
    "    <font color='4682B4'>Исправил.</font>\n",
    "</div>"
   ]
  },
  {
   "cell_type": "markdown",
   "metadata": {},
   "source": [
    "<div class=\"alert alert-success\" style=\"border-color: green; border-radius: 5px\">\n",
    "    <p><u><b>✅ КОММЕНТАРИЙ РЕВЬЮЕРА v.3</b></u></p>\n",
    "    <p>Пункт 3.2 готов. Полет нормальный)</p>\n",
    "</div>"
   ]
  },
  {
   "cell_type": "markdown",
   "metadata": {},
   "source": [
    "### Downsampling"
   ]
  },
  {
   "cell_type": "markdown",
   "metadata": {},
   "source": [
    "Теперь уменьшу выборку и посмотрю результаты."
   ]
  },
  {
   "cell_type": "code",
   "execution_count": 42,
   "metadata": {},
   "outputs": [
    {
     "name": "stdout",
     "output_type": "stream",
     "text": [
      "1    1222\n",
      "0    1194\n",
      "Name: exited, dtype: int64\n"
     ]
    }
   ],
   "source": [
    "def downsample(features, target, fraction):\n",
    "    features_zeros = features[target == 0]\n",
    "    features_ones = features[target == 1]\n",
    "    target_zeros = target[target == 0]\n",
    "    target_ones = target[target == 1]\n",
    "\n",
    "    features_downsampled = pd.concat(\n",
    "        [features_zeros.sample(frac=fraction, random_state=rnd_state)] + [features_ones])\n",
    "    target_downsampled = pd.concat(\n",
    "        [target_zeros.sample(frac=fraction, random_state=rnd_state)] + [target_ones])\n",
    "    \n",
    "    features_downsampled, target_downsampled = shuffle(\n",
    "        features_downsampled, target_downsampled, random_state=rnd_state)\n",
    "    \n",
    "    return features_downsampled, target_downsampled\n",
    "\n",
    "features_downsampled, target_downsampled = downsample(features_train, target_train, 0.25)\n",
    "\n",
    "print(target_downsampled.value_counts())"
   ]
  },
  {
   "cell_type": "markdown",
   "metadata": {},
   "source": [
    "**Logistic Regression**"
   ]
  },
  {
   "cell_type": "code",
   "execution_count": 43,
   "metadata": {},
   "outputs": [
    {
     "name": "stdout",
     "output_type": "stream",
     "text": [
      "Логистическая регрессия\n",
      "Точность попадания по классам 0.7085\n",
      "Precision 0.3841059602649007\n",
      "Recall 0.7107843137254902\n",
      "F1 0.49871023215821153\n",
      "\n",
      "CPU times: user 61.2 ms, sys: 32 ms, total: 93.2 ms\n",
      "Wall time: 60.7 ms\n"
     ]
    }
   ],
   "source": [
    "%%time\n",
    "\n",
    "model = LogisticRegression(random_state=rnd_state, solver='liblinear')\n",
    "model.fit(features_downsampled, target_downsampled)\n",
    "predicted_valid = model.predict(features_valid)\n",
    "print('Логистическая регрессия')\n",
    "print('Точность попадания по классам', accuracy_score(target_valid, predicted_valid))\n",
    "print('Precision', precision_score(target_valid, predicted_valid))\n",
    "print('Recall', recall_score(target_valid, predicted_valid))\n",
    "print('F1', f1_score(target_valid, predicted_valid))\n",
    "print()"
   ]
  },
  {
   "cell_type": "markdown",
   "metadata": {},
   "source": [
    "**Decision Tree Classifier**"
   ]
  },
  {
   "cell_type": "code",
   "execution_count": 44,
   "metadata": {},
   "outputs": [
    {
     "name": "stdout",
     "output_type": "stream",
     "text": [
      "Max depth: 2 F1-score: 0.5281220209723547\n",
      "Max depth: 3 F1-score: 0.5281220209723547\n",
      "Max depth: 4 F1-score: 0.5141342756183745\n",
      "Max depth: 5 F1-score: 0.5506958250497018\n",
      "Max depth: 6 F1-score: 0.5228070175438596\n",
      "Max depth: 7 F1-score: 0.541241890639481\n",
      "Max depth: 8 F1-score: 0.5145888594164457\n",
      "Max depth: 9 F1-score: 0.5174418604651163\n",
      "Max depth: 10 F1-score: 0.5089538171536286\n",
      "Max depth: 11 F1-score: 0.5095194922937443\n",
      "Max depth: 12 F1-score: 0.4967919340054995\n",
      "Max depth: 13 F1-score: 0.5039647577092511\n",
      "Max depth: 14 F1-score: 0.49336870026525204\n",
      "Max depth: 15 F1-score: 0.48299319727891155\n",
      "Max depth: 16 F1-score: 0.48639455782312924\n",
      "Max depth: 17 F1-score: 0.4904013961605585\n",
      "Max depth: 18 F1-score: 0.48020654044750427\n",
      "Max depth: 19 F1-score: 0.48448275862068974\n",
      "Лучшая F-мера 0.5506958250497018 cо значением глубины = 5\n",
      "CPU times: user 329 ms, sys: 16 ms, total: 345 ms\n",
      "Wall time: 360 ms\n"
     ]
    }
   ],
   "source": [
    "%%time\n",
    "\n",
    "\n",
    "best_model_tree_downsample = None\n",
    "best_result_downsample = 0\n",
    "\n",
    "for depth in range(2, 20):\n",
    "    model_tree_downsample = DecisionTreeClassifier(random_state=rnd_state, max_depth=depth)\n",
    "    model_tree_downsample.fit(features_downsampled, target_downsampled)\n",
    "    predicted_valid = model_tree_downsample.predict(features_valid)\n",
    "    print('Max depth:', depth,'F1-score:', f1_score(target_valid, predicted_valid))\n",
    "    result = f1_score(target_valid, predicted_valid)\n",
    "    \n",
    "    if best_result_downsample < result:\n",
    "        best_result_downsample = result\n",
    "        max_depth_downsample = depth\n",
    "        best_model_tree_downsample = model_tree_downsample\n",
    "\n",
    "print(\"Лучшая F-мера\", best_result_downsample, 'cо значением глубины =', max_depth_downsample)\n"
   ]
  },
  {
   "cell_type": "markdown",
   "metadata": {},
   "source": [
    "Лучшая F-мера 0.5506958250497018 cо значением глубины = 5"
   ]
  },
  {
   "cell_type": "markdown",
   "metadata": {},
   "source": [
    "**Random Forest Classifier**"
   ]
  },
  {
   "cell_type": "code",
   "execution_count": 45,
   "metadata": {
    "scrolled": true
   },
   "outputs": [
    {
     "name": "stdout",
     "output_type": "stream",
     "text": [
      "N estimators: 10 Глубина: 10 F1: 0.5512820512820512\n",
      "N estimators: 10 Глубина: 11 F1: 0.5708989805375347\n",
      "N estimators: 10 Глубина: 12 F1: 0.5499092558983666\n",
      "N estimators: 10 Глубина: 13 F1: 0.5528007346189163\n",
      "N estimators: 10 Глубина: 14 F1: 0.5531914893617021\n",
      "N estimators: 10 Глубина: 15 F1: 0.55893536121673\n",
      "N estimators: 10 Глубина: 16 F1: 0.5728155339805826\n",
      "N estimators: 10 Глубина: 17 F1: 0.5700293829578844\n",
      "N estimators: 10 Глубина: 18 F1: 0.560856864654333\n",
      "N estimators: 10 Глубина: 19 F1: 0.5518590998043053\n",
      "N estimators: 30 Глубина: 10 F1: 0.5736137667304015\n",
      "N estimators: 30 Глубина: 11 F1: 0.5830959164292498\n",
      "N estimators: 30 Глубина: 12 F1: 0.5784499054820416\n",
      "N estimators: 30 Глубина: 13 F1: 0.5830959164292498\n",
      "N estimators: 30 Глубина: 14 F1: 0.5869158878504672\n",
      "N estimators: 30 Глубина: 15 F1: 0.5700846660395108\n",
      "N estimators: 30 Глубина: 16 F1: 0.579961464354528\n",
      "N estimators: 30 Глубина: 17 F1: 0.5749761222540593\n",
      "N estimators: 30 Глубина: 18 F1: 0.5736137667304015\n",
      "N estimators: 30 Глубина: 19 F1: 0.5780346820809249\n",
      "N estimators: 50 Глубина: 10 F1: 0.5793499043977056\n",
      "N estimators: 50 Глубина: 11 F1: 0.5848513902205177\n",
      "N estimators: 50 Глубина: 12 F1: 0.5828571428571429\n",
      "N estimators: 50 Глубина: 13 F1: 0.5833333333333334\n",
      "N estimators: 50 Глубина: 14 F1: 0.5900094250706881\n",
      "N estimators: 50 Глубина: 15 F1: 0.585645933014354\n",
      "N estimators: 50 Глубина: 16 F1: 0.5747126436781609\n",
      "N estimators: 50 Глубина: 17 F1: 0.5811965811965811\n",
      "N estimators: 50 Глубина: 18 F1: 0.5776515151515151\n",
      "N estimators: 50 Глубина: 19 F1: 0.5859750240153698\n",
      "N estimators: 70 Глубина: 10 F1: 0.5722433460076045\n",
      "N estimators: 70 Глубина: 11 F1: 0.5873320537428022\n",
      "N estimators: 70 Глубина: 12 F1: 0.5800376647834274\n",
      "N estimators: 70 Глубина: 13 F1: 0.5793499043977056\n",
      "N estimators: 70 Глубина: 14 F1: 0.5844402277039848\n",
      "N estimators: 70 Глубина: 15 F1: 0.5857418111753372\n",
      "N estimators: 70 Глубина: 16 F1: 0.5749525616698292\n",
      "N estimators: 70 Глубина: 17 F1: 0.5827814569536424\n",
      "N estimators: 70 Глубина: 18 F1: 0.5789971617786187\n",
      "N estimators: 70 Глубина: 19 F1: 0.5837320574162679\n",
      "N estimators: 90 Глубина: 10 F1: 0.5830959164292498\n",
      "N estimators: 90 Глубина: 11 F1: 0.5835748792270532\n",
      "N estimators: 90 Глубина: 12 F1: 0.5866666666666667\n",
      "N estimators: 90 Глубина: 13 F1: 0.5805843543826579\n",
      "N estimators: 90 Глубина: 14 F1: 0.5807692307692308\n",
      "N estimators: 90 Глубина: 15 F1: 0.5829338446788112\n",
      "N estimators: 90 Глубина: 16 F1: 0.5782442748091604\n",
      "N estimators: 90 Глубина: 17 F1: 0.5959498553519768\n",
      "N estimators: 90 Глубина: 18 F1: 0.579047619047619\n",
      "N estimators: 90 Глубина: 19 F1: 0.5800947867298579\n",
      "N estimators: 110 Глубина: 10 F1: 0.5890279114533205\n",
      "N estimators: 110 Глубина: 11 F1: 0.5808325266214909\n",
      "N estimators: 110 Глубина: 12 F1: 0.5776515151515151\n",
      "N estimators: 110 Глубина: 13 F1: 0.5814393939393939\n",
      "N estimators: 110 Глубина: 14 F1: 0.5855513307984791\n",
      "N estimators: 110 Глубина: 15 F1: 0.5784966698382492\n",
      "N estimators: 110 Глубина: 16 F1: 0.5787476280834914\n",
      "N estimators: 110 Глубина: 17 F1: 0.5893719806763285\n",
      "N estimators: 110 Глубина: 18 F1: 0.5853193517635844\n",
      "N estimators: 110 Глубина: 19 F1: 0.5793499043977056\n",
      "N estimators: 130 Глубина: 10 F1: 0.5878962536023056\n",
      "N estimators: 130 Глубина: 11 F1: 0.5867446393762183\n",
      "N estimators: 130 Глубина: 12 F1: 0.5800947867298579\n",
      "N estimators: 130 Глубина: 13 F1: 0.5792972459639126\n",
      "N estimators: 130 Глубина: 14 F1: 0.5844402277039848\n",
      "N estimators: 130 Глубина: 15 F1: 0.576045627376426\n",
      "N estimators: 130 Глубина: 16 F1: 0.5837320574162679\n",
      "N estimators: 130 Глубина: 17 F1: 0.5846153846153846\n",
      "N estimators: 130 Глубина: 18 F1: 0.5838862559241705\n",
      "N estimators: 130 Глубина: 19 F1: 0.5837320574162679\n",
      "N estimators: 150 Глубина: 10 F1: 0.5911708253358924\n",
      "N estimators: 150 Глубина: 11 F1: 0.585603112840467\n",
      "N estimators: 150 Глубина: 12 F1: 0.5838862559241705\n",
      "N estimators: 150 Глубина: 13 F1: 0.5823025689819219\n",
      "N estimators: 150 Глубина: 14 F1: 0.586337760910816\n",
      "N estimators: 150 Глубина: 15 F1: 0.5814393939393939\n",
      "N estimators: 150 Глубина: 16 F1: 0.5825426944971538\n",
      "N estimators: 150 Глубина: 17 F1: 0.5855513307984791\n",
      "N estimators: 150 Глубина: 18 F1: 0.5882352941176471\n",
      "N estimators: 150 Глубина: 19 F1: 0.580952380952381\n",
      "N estimators: 170 Глубина: 10 F1: 0.5925215723873442\n",
      "N estimators: 170 Глубина: 11 F1: 0.5912195121951219\n",
      "N estimators: 170 Глубина: 12 F1: 0.5815061963775023\n",
      "N estimators: 170 Глубина: 13 F1: 0.5848513902205177\n",
      "N estimators: 170 Глубина: 14 F1: 0.5925925925925927\n",
      "N estimators: 170 Глубина: 15 F1: 0.5795996186844614\n",
      "N estimators: 170 Глубина: 16 F1: 0.5800947867298579\n",
      "N estimators: 170 Глубина: 17 F1: 0.5891325071496664\n",
      "N estimators: 170 Глубина: 18 F1: 0.5906932573599241\n",
      "N estimators: 170 Глубина: 19 F1: 0.5803996194100857\n",
      "N estimators: 190 Глубина: 10 F1: 0.5923809523809523\n",
      "N estimators: 190 Глубина: 11 F1: 0.5868725868725869\n",
      "N estimators: 190 Глубина: 12 F1: 0.588011417697431\n",
      "N estimators: 190 Глубина: 13 F1: 0.5851780558229066\n",
      "N estimators: 190 Глубина: 14 F1: 0.5881226053639846\n",
      "N estimators: 190 Глубина: 15 F1: 0.5786993402450519\n",
      "N estimators: 190 Глубина: 16 F1: 0.5814393939393939\n",
      "N estimators: 190 Глубина: 17 F1: 0.5902578796561604\n",
      "N estimators: 190 Глубина: 18 F1: 0.5860113421550094\n",
      "N estimators: 190 Глубина: 19 F1: 0.5814393939393939\n",
      "N estimators: 210 Глубина: 10 F1: 0.5959885386819483\n",
      "N estimators: 210 Глубина: 11 F1: 0.5840537944284342\n",
      "N estimators: 210 Глубина: 12 F1: 0.5884578997161779\n",
      "N estimators: 210 Глубина: 13 F1: 0.5873320537428022\n",
      "N estimators: 210 Глубина: 14 F1: 0.588011417697431\n",
      "N estimators: 210 Глубина: 15 F1: 0.5814393939393939\n",
      "N estimators: 210 Глубина: 16 F1: 0.5824693685202639\n",
      "N estimators: 210 Глубина: 17 F1: 0.5861084681255947\n",
      "N estimators: 210 Глубина: 18 F1: 0.5824693685202639\n",
      "N estimators: 210 Глубина: 19 F1: 0.5834127740705434\n",
      "N estimators: 230 Глубина: 10 F1: 0.5937202664129401\n",
      "N estimators: 230 Глубина: 11 F1: 0.5846153846153846\n",
      "N estimators: 230 Глубина: 12 F1: 0.5838862559241705\n",
      "N estimators: 230 Глубина: 13 F1: 0.5848513902205177\n",
      "N estimators: 230 Глубина: 14 F1: 0.5908221797323135\n",
      "N estimators: 230 Глубина: 15 F1: 0.5841209829867676\n",
      "N estimators: 230 Глубина: 16 F1: 0.5830188679245283\n",
      "N estimators: 230 Глубина: 17 F1: 0.5890151515151515\n",
      "N estimators: 230 Глубина: 18 F1: 0.5852272727272727\n",
      "N estimators: 230 Глубина: 19 F1: 0.5817490494296579\n",
      "N estimators: 250 Глубина: 10 F1: 0.5975024015369838\n",
      "N estimators: 250 Глубина: 11 F1: 0.5846153846153846\n",
      "N estimators: 250 Глубина: 12 F1: 0.5847619047619048\n",
      "N estimators: 250 Глубина: 13 F1: 0.5881226053639846\n",
      "N estimators: 250 Глубина: 14 F1: 0.5933014354066986\n",
      "N estimators: 250 Глубина: 15 F1: 0.5841209829867676\n",
      "N estimators: 250 Глубина: 16 F1: 0.5783582089552238\n",
      "N estimators: 250 Глубина: 17 F1: 0.5876777251184834\n",
      "N estimators: 250 Глубина: 18 F1: 0.5838041431261771\n",
      "N estimators: 250 Глубина: 19 F1: 0.5839694656488551\n",
      "N estimators: 270 Глубина: 10 F1: 0.5928777670837344\n",
      "N estimators: 270 Глубина: 11 F1: 0.5813282001924928\n",
      "N estimators: 270 Глубина: 12 F1: 0.5853193517635844\n",
      "N estimators: 270 Глубина: 13 F1: 0.5894736842105263\n",
      "N estimators: 270 Глубина: 14 F1: 0.5906040268456376\n",
      "N estimators: 270 Глубина: 15 F1: 0.5781544256120527\n",
      "N estimators: 270 Глубина: 16 F1: 0.580281690140845\n",
      "N estimators: 270 Глубина: 17 F1: 0.5893536121673003\n",
      "N estimators: 270 Глубина: 18 F1: 0.5833333333333334\n",
      "N estimators: 270 Глубина: 19 F1: 0.5858778625954197\n",
      "N estimators: 290 Глубина: 10 F1: 0.5926640926640926\n",
      "N estimators: 290 Глубина: 11 F1: 0.5826170009551098\n",
      "N estimators: 290 Глубина: 12 F1: 0.5858778625954197\n",
      "N estimators: 290 Глубина: 13 F1: 0.5898174831892411\n",
      "N estimators: 290 Глубина: 14 F1: 0.5890279114533205\n",
      "N estimators: 290 Глубина: 15 F1: 0.5824693685202639\n",
      "N estimators: 290 Глубина: 16 F1: 0.5827067669172932\n",
      "N estimators: 290 Глубина: 17 F1: 0.5920303605313093\n",
      "N estimators: 290 Глубина: 18 F1: 0.587121212121212\n",
      "N estimators: 290 Глубина: 19 F1: 0.588011417697431\n",
      "Лучшая F-мера 0.5975024015369838 при глубине = 10 и количестве деревьев = 250\n",
      "CPU times: user 1min 49s, sys: 829 ms, total: 1min 50s\n",
      "Wall time: 1min 51s\n"
     ]
    }
   ],
   "source": [
    "%%time\n",
    "\n",
    "best_model_rf_downsample = None\n",
    "best_result_downsample = 0\n",
    "best_depth_downsample = 0\n",
    "best_est_downsample = 0\n",
    "\n",
    "for estimator in range(10, 300, 20):\n",
    "    for depth in range(10, 20):\n",
    "        model_rf_downsample =  RandomForestClassifier(random_state=rnd_state, n_estimators=estimator, \n",
    "                                                   max_depth = depth)\n",
    "        model_rf_downsample.fit(features_downsampled, target_downsampled)\n",
    "        predicted_valid = model_rf_downsample.predict(features_valid)\n",
    "        print('N estimators:', estimator, 'Глубина:', depth, 'F1:', f1_score(target_valid, predicted_valid))\n",
    "        result = f1_score(target_valid, predicted_valid) \n",
    "        \n",
    "        if result > best_result_downsample:\n",
    "            best_model_rf_downsample = model_rf_downsample\n",
    "            best_result_downsample = result\n",
    "            best_depth_downsample = depth\n",
    "            best_est_downsample = estimator\n",
    "\n",
    "print(\"Лучшая F-мера\", best_result_downsample, 'при глубине = {0} и количестве деревьев = {1}'.format(best_depth_downsample,\n",
    "                                                                                           best_est_downsample))"
   ]
  },
  {
   "cell_type": "markdown",
   "metadata": {},
   "source": [
    "Лучшая F-мера 0.5975024015369838 при глубине = 10 и количестве деревьев = 250"
   ]
  },
  {
   "cell_type": "markdown",
   "metadata": {},
   "source": [
    "После всех проверок подытожу результаты:\n",
    "\n",
    "Балансировка\n",
    "<br>Logistic Regression F1 0.49912434325744315\n",
    "<br>Decision Tree Classifier Лучшая F-мера 0.597535934291581 cо значением глубины = 5\n",
    "<br>Лес Лучшая F-мера 0.6290726817042607 при глубине = 10 и количестве деревьев = 90\n",
    "\n",
    "Upsampling\n",
    "<br>Logistic Regression F1 0.4939550949913645\n",
    "<br>Decision Tree Classifier Лучшая F-мера 0.597535934291581 cо значением глубины = 5\n",
    "<br>Random Forest Classifier Лучшая F-мера 0.6397228637413395 при глубине = 11 и количестве деревьев = 210\n",
    "\n",
    "Downsampling\n",
    "<br>Logistic Regression F1 0.49871023215821153\n",
    "<br>Decision Tree Classifier Лучшая F-мера 0.5506958250497018 cо значением глубины = 5\n",
    "<br>Random Forest Classifier Лучшая F-мера 0.5975024015369838 при глубине = 10 и количестве деревьев = 250\n"
   ]
  },
  {
   "cell_type": "markdown",
   "metadata": {},
   "source": [
    "Выведу ROC-кривую и AUC-ROC лучшей модели."
   ]
  },
  {
   "cell_type": "code",
   "execution_count": 46,
   "metadata": {},
   "outputs": [
    {
     "name": "stdout",
     "output_type": "stream",
     "text": [
      "AUC-ROC RandomForestClassifier 0.7669074539363483\n"
     ]
    },
    {
     "data": {
      "image/png": "[encoded data removed]",
      "text/plain": [
       "<Figure size 864x648 with 1 Axes>"
      ]
     },
     "metadata": {
      "needs_background": "light"
     },
     "output_type": "display_data"
    }
   ],
   "source": [
    "plt.figure(figsize=[12,9])\n",
    "\n",
    "plt.plot([0, 1], [0, 1], linestyle='--', label='RandomModel')\n",
    "\n",
    "model_rf_upsample =  RandomForestClassifier(random_state=rnd_state, n_estimators=210, \n",
    "                                                   max_depth = 11)\n",
    "model_rf_upsample.fit(features_upsampled, target_upsampled)\n",
    "predicted_valid = model_rf_upsample.predict(features_valid)\n",
    "probabilities_valid = model.predict_proba(features_valid)\n",
    "probabilities_one_valid = probabilities_valid[:, 1]\n",
    "fpr, tpr, thresholds = roc_curve(target_valid, probabilities_one_valid)\n",
    "auc_roc = roc_auc_score(target_valid, probabilities_one_valid)\n",
    "print('AUC-ROC RandomForestClassifier',auc_roc)\n",
    "plt.plot(fpr, tpr, label='RandomForestClassifier')\n",
    "\n",
    "plt.xlim([0,1])\n",
    "plt.ylim([0,1])\n",
    "\n",
    "plt.xlabel(\"False Positive Rate\")\n",
    "plt.ylabel(\"True Positive Rate\")\n",
    "\n",
    "plt.legend(loc='lower right', fontsize='x-large')\n",
    "\n",
    "plt.title(\"ROC-кривая\")\n",
    "plt.show()"
   ]
  },
  {
   "cell_type": "markdown",
   "metadata": {},
   "source": [
    "<div class=\"alert alert-danger\" style=\"border-color: #8B0000; border-radius: 5px\">\n",
    "    <p><u><b>❌ КОММЕНТАРИЙ РЕВЬЮЕРА v.1</b></u></p>\n",
    "    <p>Downsampling на месте! Тут тоже нужен новый подбор гиперпараметров.</p>\n",
    "    <p>Отлично, что строишь графики!</p>\n",
    "</div>"
   ]
  },
  {
   "cell_type": "markdown",
   "metadata": {},
   "source": [
    "<div style=\"background: #B0E0E6; padding: 5px; border: 1px solid SteelBlue; border-radius: 5px;\">\n",
    "    <font color='4682B4'><u><b>КОММЕНТАРИЙ СТУДЕНТА</b></u></font>\n",
    "    <br />\n",
    "    <font color='4682B4'>Сделал.</font>\n",
    "</div>"
   ]
  },
  {
   "cell_type": "markdown",
   "metadata": {},
   "source": [
    "<div class=\"alert alert-danger\" style=\"border-color: #8B0000; border-radius: 5px\">\n",
    "    <p><u><b>❌ КОММЕНТАРИЙ РЕВЬЮЕРА v.2</b></u></p>\n",
    "    <p>Замечание аналогично п.3.1. Исправь пожалуйста.</p>\n",
    "</div>"
   ]
  },
  {
   "cell_type": "markdown",
   "metadata": {},
   "source": [
    "<div style=\"background: #B0E0E6; padding: 5px; border: 1px solid SteelBlue; border-radius: 5px;\">\n",
    "    <font color='4682B4'><u><b>КОММЕНТАРИЙ СТУДЕНТА v.2</b></u></font>\n",
    "    <br />\n",
    "    <font color='4682B4'>Исправил.</font>\n",
    "</div>"
   ]
  },
  {
   "cell_type": "markdown",
   "metadata": {},
   "source": [
    "<div class=\"alert alert-success\" style=\"border-color: green; border-radius: 5px\">\n",
    "    <p><u><b>✅ КОММЕНТАРИЙ РЕВЬЮЕРА v.3</b></u></p>\n",
    "    <p>Принято!</p>\n",
    "</div>"
   ]
  },
  {
   "cell_type": "markdown",
   "metadata": {},
   "source": [
    "## Тестирование модели"
   ]
  },
  {
   "cell_type": "markdown",
   "metadata": {},
   "source": [
    "Модель случайного леса на увеличенной выборке показала лучшее значение F-меры. Поэтому тестировать буду на этой модели."
   ]
  },
  {
   "cell_type": "code",
   "execution_count": 47,
   "metadata": {},
   "outputs": [],
   "source": [
    "# проведу объединение валидационной и тренировочной моделей\n",
    "\n",
    "features_full_train = pd.concat([features_train, features_valid])\n",
    "target_full_train = pd.concat([target_train, target_valid])"
   ]
  },
  {
   "cell_type": "markdown",
   "metadata": {
    "scrolled": true
   },
   "source": [
    "Это позволит протестить модель в других условиях с более полными данными."
   ]
  },
  {
   "cell_type": "code",
   "execution_count": 48,
   "metadata": {
    "scrolled": false
   },
   "outputs": [],
   "source": [
    "features_upsampled, target_upsampled = upsample(features_full_train, target_full_train, 4)"
   ]
  },
  {
   "cell_type": "code",
   "execution_count": 49,
   "metadata": {},
   "outputs": [
    {
     "data": {
      "text/plain": [
       "0.6004566210045662"
      ]
     },
     "execution_count": 49,
     "metadata": {},
     "output_type": "execute_result"
    }
   ],
   "source": [
    "model = RandomForestClassifier(random_state=rnd_state, n_estimators=210, \n",
    "                                                   max_depth = 11)\n",
    "model.fit(features_upsampled, target_upsampled)\n",
    "predicted_test = model.predict(features_test)\n",
    "f1_score(target_test, predicted_test)"
   ]
  },
  {
   "cell_type": "markdown",
   "metadata": {},
   "source": [
    "**Вывод**\n",
    "\n",
    "1. Изучил и подготовил данные. Классы оказались не сбалансированы. Тех кто остался в Бета-Банке 80%, тех, кто ушел, 20%.\n",
    "2. Разбил данные на тренировочную, валидационную и тестовую выборки.\n",
    "3. Проверил модели на данных без изменений.\n",
    "4. Скоректировал балланс класса. Изменил вес класса.\n",
    "5. Получил улучшенную модель. Провёл поиск гиперпараметров.\n",
    "6. Провёл финальный тест.\n",
    "\n",
    "Обученная модель случайного леса с увеличением выборки имеет достаточную адекватность, подтвержденная ее значением AUC-ROC = 0.767. Это лучше, чем случайная модель предсказывания (AUC-ROC = 0.5). На тестовой выборке показала значение F-меры - 0.6, что соответствует критерию задания/заказчика."
   ]
  },
  {
   "cell_type": "markdown",
   "metadata": {},
   "source": [
    "<div class=\"alert alert-danger\" style=\"border-color: #8B0000; border-radius: 5px\">\n",
    "    <p><u><b>❌ КОММЕНТАРИЙ РЕВЬЮЕРА v.1</b></u></p>\n",
    "    <p>Правильнее поступить следующим образом - подобрать гиперпараметры моделей на этапе борьбы с дисбалансом, затем выбрать лучшие из них. Например, если Случайный лес на увеличенной выборке показал наилучшие результаты, то стоит восопльзоваться теми гиперпараметрами.</p>\n",
    "    <p>И еще важный момент. Помнишь, у нас есть валидационная выборка? Давай объединим ее c обучающей выборкой, и проведем Upsampling. Так мы получим большее количество данных! Используем гиперпараметры, которые ты подберешь для лучшей модели, и заново обучим модель.</p>\n",
    "    <p>После этого проведем тестирование. Увидишь метрики будут лучше!</p>\n",
    "</div>"
   ]
  },
  {
   "cell_type": "markdown",
   "metadata": {},
   "source": [
    "<div style=\"background: #B0E0E6; padding: 5px; border: 1px solid SteelBlue; border-radius: 5px;\">\n",
    "    <font color='4682B4'><u><b>КОММЕНТАРИЙ СТУДЕНТА</b></u></font>\n",
    "    <br />\n",
    "    <font color='4682B4'>Подскажи, пожалуйста. Не понимаю как ты предлагаешь объядинить выборки (валидационную и обучающую), как это будет выглядеть в коде? У меня стало только всё хуже на тестовой, хотя я использовал те самые гиперпараметры, что показали наилучшие результаты. Но я не вижу улучшений. Подскажи, пожалуйста, где я могу ошибаться. И если можно не скупиться на код в примерах, мне так намного понятнее читать и понимать, что откуда берётся.</font>\n",
    "</div>"
   ]
  },
  {
   "cell_type": "markdown",
   "metadata": {},
   "source": [
    "<div class=\"alert alert-danger\" style=\"border-color: #8B0000; border-radius: 5px\">\n",
    "    <p><u><b>❌ КОММЕНТАРИЙ РЕВЬЮЕРА v.2</b></u></p>\n",
    "    <p>Смотри, основоная проблема сейчас в том, что ты переиспользуешь гиперпараметры, которые подобрал для несбалансированной выборки в каждом следующем эксперименте. Правильное решение - подбирать их каждый раз заново (запустиить циклы для взвешивания классов и для Upsampling), обучать на них модели, после чего по метрике f1 выбрать ту модель, которая показала лучший результат. Например это будет Случайный лес на Upsample-выборке. Следует взять ее гиперпараметры и провести тестирование модели на тестовой выборке с этими гиперпараметрами.</p>\n",
    "    <p>Ниже пример кода для этапа тестирования.\n",
    "</div>"
   ]
  },
  {
   "cell_type": "raw",
   "metadata": {},
   "source": [
    "# Объединение выборок\n",
    "features_full_train = pd.concat([features_train, features_valid])\n",
    "target_full_train = pd.concat([target_train, target_valid])\n",
    "\n",
    "# Применение Upsampling. Параметр repeat подбираем в зависимости от дисбаланса\n",
    "features_upsampled, target_upsampled = upsample(features_full_train, target_full_train, 3)\n",
    "\n",
    "# Обучаем модель используя найденные гиперпараметры\n",
    "model = RandomForestClassifier(random_state=12345, n_estimators=100)\n",
    "model.fit(features_upsampled, target_upsampled)"
   ]
  },
  {
   "cell_type": "markdown",
   "metadata": {},
   "source": [
    "<div style=\"background: #B0E0E6; padding: 5px; border: 1px solid SteelBlue; border-radius: 5px;\">\n",
    "    <font color='4682B4'><u><b>КОММЕНТАРИЙ СТУДЕНТА v.2</b></u></font>\n",
    "    <br />\n",
    "    <font color='4682B4'>Спасибо большое, так понятнее:).</font>\n",
    "</div>"
   ]
  },
  {
   "cell_type": "markdown",
   "metadata": {},
   "source": [
    "<div class=\"alert alert-success\" style=\"border-color: green; border-radius: 5px\">\n",
    "    <p><u><b>✅ КОММЕНТАРИЙ РЕВЬЮЕРА v.3</b></u></p>\n",
    "    <p>Ты во всем разобрался! Вопросов нет.</p>\n",
    "</div>"
   ]
  },
  {
   "cell_type": "markdown",
   "metadata": {},
   "source": [
    "## Чек-лист готовности проекта"
   ]
  },
  {
   "cell_type": "markdown",
   "metadata": {},
   "source": [
    "Поставьте 'x' в выполненных пунктах. Далее нажмите Shift+Enter."
   ]
  },
  {
   "cell_type": "markdown",
   "metadata": {},
   "source": [
    "- [x]  Jupyter Notebook открыт\n",
    "- [x]  Весь код выполняется без ошибок\n",
    "- [x]  Ячейки с кодом расположены в порядке исполнения\n",
    "- [x]  Выполнен шаг 1: данные подготовлены\n",
    "- [x]  Выполнен шаг 2: задача исследована\n",
    "    - [x]  Исследован баланс классов\n",
    "    - [x]  Изучены модели без учёта дисбаланса\n",
    "    - [x]  Написаны выводы по результатам исследования\n",
    "- [x]  Выполнен шаг 3: учтён дисбаланс\n",
    "    - [x]  Применено несколько способов борьбы с дисбалансом\n",
    "    - [x]  Написаны выводы по результатам исследования\n",
    "- [x]  Выполнен шаг 4: проведено тестирование\n",
    "- [x]  Удалось достичь *F1*-меры не менее 0.59\n",
    "- [x]  Исследована метрика *AUC-ROC*"
   ]
  },
  {
   "cell_type": "markdown",
   "metadata": {},
   "source": [
    "<div class=\"alert alert-danger\" style=\"border-color: #8B0000; border-radius: 5px\">\n",
    "    <p><u><b>❌ КОММЕНТАРИЙ РЕВЬЮЕРА v.1</b></u></p>\n",
    "    <p>Юрий, раобта супер!</p>\n",
    "    <p>Видно, что ты потрудился над проектом! Уверен, что исправление замечаний не составит для тебя труда.</p>\n",
    "    <p>Жду твою работу на повторное ревью. Если возникнут вопросы, обязательно задавай их!</p>\n",
    "</div>"
   ]
  },
  {
   "cell_type": "markdown",
   "metadata": {},
   "source": [
    "<div style=\"background: #B0E0E6; padding: 5px; border: 1px solid SteelBlue; border-radius: 5px;\">\n",
    "    <font color='4682B4'><u><b>КОММЕНТАРИЙ СТУДЕНТА</b></u></font>\n",
    "    <br />\n",
    "    <font color='4682B4'>Супер - это когда нет замечаний и есть только полезные ссылки, а у меня почти под каждой строкой красный абзац, что в этом суперского-то? Исправление замечаний составили труд, ибо какая-то путаница возникла в голове, хотя по началу я понимал, что и как делал проект, сейчас - когда F-мера стала хуже я не понимаю, что от меня требуется, прошу разъяснить по пунктам и подробно. Спасибо.</font>\n",
    "</div>"
   ]
  },
  {
   "cell_type": "markdown",
   "metadata": {},
   "source": [
    "<div class=\"alert alert-danger\" style=\"border-color: #8B0000; border-radius: 5px\">\n",
    "    <p><u><b>❌ КОММЕНТАРИЙ РЕВЬЮЕРА v.1</b></u></p>\n",
    "    <p>Суперскость работы в том, что ты ее сделал сам, при этом разрбрался с темой. Наличие замечаний не ухудшает ее, а дает шанс глубже понять пердмет))</p>\n",
    "    <p>Верю, что следующая итерация будет финальной!</p>\n",
    "    <p>P.S. Постарайся, пожалуйста, комментировать код в ячейках.</p>\n",
    "</div>"
   ]
  },
  {
   "cell_type": "markdown",
   "metadata": {},
   "source": [
    "<div style=\"background: #B0E0E6; padding: 5px; border: 1px solid SteelBlue; border-radius: 5px;\">\n",
    "    <font color='4682B4'><u><b>КОММЕНТАРИЙ СТУДЕНТА v.2</b></u></font>\n",
    "    <br />\n",
    "    <font color='4682B4'>Кирилл, спасибо тебе большое и за проверку, и за поддержку, и за комментарии, и за обучение. Ты мне реально очень помог, хотя изначально я думал, что я делаю правильно, но ты мне раскрыл глаза. Я тоже надеюсь, что эта итерация финальная, но если, что я готов к правкам, но было бы здорово, если без них:). А насчёт комментариев, я всегда это делал, но что-то в этот раз я добавлял текст к более значимым событиям, а в коде не добавлял, но буду иметь в виду и вернусь к старой привычке.</font>\n",
    "</div>"
   ]
  },
  {
   "cell_type": "markdown",
   "metadata": {},
   "source": [
    "<div class=\"alert alert-success\" style=\"border-color: green; border-radius: 5px\">\n",
    "    <p><u><b>✅ КОММЕНТАРИЙ РЕВЬЮЕРА v.3</b></u></p>\n",
    "    <p>Так мы добрались до зачета по всем пунктам, замечаний больше нет. Ты молодец!</p>\n",
    "    <p>Рад, что ты оценил нашу совместную работу) Надеюсь тебя посетило то классное чувство профессиональной прокачки по ходу решения.</p>\n",
    "    <p>Желаю не останавливаться на пути к поставленной цели. Успехов!</p>\n",
    "</div>"
   ]
  },
  {
   "cell_type": "code",
   "execution_count": null,
   "metadata": {},
   "outputs": [],
   "source": []
  }
 ],
 "metadata": {
  "ExecuteTimeLog": [
   {
    "duration": 1596,
    "start_time": "2022-03-14T10:10:36.959Z"
   },
   {
    "duration": 37,
    "start_time": "2022-03-14T10:10:42.933Z"
   },
   {
    "duration": 23,
    "start_time": "2022-03-14T10:12:14.480Z"
   },
   {
    "duration": 34,
    "start_time": "2022-03-14T10:12:25.975Z"
   },
   {
    "duration": 4,
    "start_time": "2022-03-14T10:13:14.500Z"
   },
   {
    "duration": 8,
    "start_time": "2022-03-14T10:20:25.074Z"
   },
   {
    "duration": 496,
    "start_time": "2022-03-14T10:20:35.753Z"
   },
   {
    "duration": 4,
    "start_time": "2022-03-14T10:20:48.360Z"
   },
   {
    "duration": 17,
    "start_time": "2022-03-14T10:20:57.738Z"
   },
   {
    "duration": 454,
    "start_time": "2022-03-14T10:21:11.108Z"
   },
   {
    "duration": 8,
    "start_time": "2022-03-14T10:21:17.455Z"
   },
   {
    "duration": 59,
    "start_time": "2022-03-14T10:21:17.466Z"
   },
   {
    "duration": 13,
    "start_time": "2022-03-14T10:21:17.528Z"
   },
   {
    "duration": 29,
    "start_time": "2022-03-14T10:21:17.543Z"
   },
   {
    "duration": 23,
    "start_time": "2022-03-14T10:21:17.575Z"
   },
   {
    "duration": 23,
    "start_time": "2022-03-14T10:21:17.601Z"
   },
   {
    "duration": 6,
    "start_time": "2022-03-14T10:21:27.456Z"
   },
   {
    "duration": 18,
    "start_time": "2022-03-14T10:22:13.224Z"
   },
   {
    "duration": 20,
    "start_time": "2022-03-14T10:22:22.064Z"
   },
   {
    "duration": 55,
    "start_time": "2022-03-14T10:25:42.637Z"
   },
   {
    "duration": 9031,
    "start_time": "2022-03-14T10:33:31.047Z"
   },
   {
    "duration": 7,
    "start_time": "2022-03-14T10:33:41.307Z"
   },
   {
    "duration": 36,
    "start_time": "2022-03-14T10:33:41.316Z"
   },
   {
    "duration": 9,
    "start_time": "2022-03-14T10:33:54.175Z"
   },
   {
    "duration": 17,
    "start_time": "2022-03-14T10:35:34.710Z"
   },
   {
    "duration": 20,
    "start_time": "2022-03-14T10:35:52.985Z"
   },
   {
    "duration": 19,
    "start_time": "2022-03-14T10:36:02.821Z"
   },
   {
    "duration": 4,
    "start_time": "2022-03-14T10:36:05.803Z"
   },
   {
    "duration": 19,
    "start_time": "2022-03-14T10:36:07.870Z"
   },
   {
    "duration": 6,
    "start_time": "2022-03-14T10:36:09.885Z"
   },
   {
    "duration": 14,
    "start_time": "2022-03-14T10:36:11.563Z"
   },
   {
    "duration": 52,
    "start_time": "2022-03-14T10:36:13.617Z"
   },
   {
    "duration": 5,
    "start_time": "2022-03-14T10:36:56.302Z"
   },
   {
    "duration": 225,
    "start_time": "2022-03-14T10:37:12.748Z"
   },
   {
    "duration": 204,
    "start_time": "2022-03-14T10:37:28.982Z"
   },
   {
    "duration": 200,
    "start_time": "2022-03-14T10:37:41.993Z"
   },
   {
    "duration": 210,
    "start_time": "2022-03-14T10:38:01.112Z"
   },
   {
    "duration": 219,
    "start_time": "2022-03-14T10:39:14.499Z"
   },
   {
    "duration": 342,
    "start_time": "2022-03-14T10:39:36.362Z"
   },
   {
    "duration": 408,
    "start_time": "2022-03-14T10:41:17.588Z"
   },
   {
    "duration": 279,
    "start_time": "2022-03-14T10:42:24.735Z"
   },
   {
    "duration": 282,
    "start_time": "2022-03-14T10:42:59.783Z"
   },
   {
    "duration": 1011,
    "start_time": "2022-03-14T10:43:53.293Z"
   },
   {
    "duration": 105,
    "start_time": "2022-03-14T10:44:18.422Z"
   },
   {
    "duration": 1171,
    "start_time": "2022-03-14T10:44:25.342Z"
   },
   {
    "duration": 9,
    "start_time": "2022-03-14T10:48:27.707Z"
   },
   {
    "duration": 9,
    "start_time": "2022-03-14T10:48:36.311Z"
   },
   {
    "duration": 8,
    "start_time": "2022-03-14T10:48:48.327Z"
   },
   {
    "duration": 8,
    "start_time": "2022-03-14T10:48:58.388Z"
   },
   {
    "duration": 18,
    "start_time": "2022-03-14T10:49:16.970Z"
   },
   {
    "duration": 8,
    "start_time": "2022-03-14T10:49:26.143Z"
   },
   {
    "duration": 8,
    "start_time": "2022-03-14T10:49:34.954Z"
   },
   {
    "duration": 4,
    "start_time": "2022-03-14T11:19:46.759Z"
   },
   {
    "duration": 8,
    "start_time": "2022-03-14T11:20:03.713Z"
   },
   {
    "duration": 7,
    "start_time": "2022-03-14T11:20:18.184Z"
   },
   {
    "duration": 7,
    "start_time": "2022-03-14T11:20:26.616Z"
   },
   {
    "duration": 106,
    "start_time": "2022-03-14T11:20:54.515Z"
   },
   {
    "duration": 6,
    "start_time": "2022-03-14T11:21:08.455Z"
   },
   {
    "duration": 21,
    "start_time": "2022-03-14T11:21:43.218Z"
   },
   {
    "duration": 10,
    "start_time": "2022-03-14T11:26:08.270Z"
   },
   {
    "duration": 371,
    "start_time": "2022-03-14T11:29:28.607Z"
   },
   {
    "duration": 7,
    "start_time": "2022-03-14T11:31:30.165Z"
   },
   {
    "duration": 32,
    "start_time": "2022-03-14T11:31:37.605Z"
   },
   {
    "duration": 131,
    "start_time": "2022-03-14T11:32:36.258Z"
   },
   {
    "duration": 500,
    "start_time": "2022-03-14T11:33:59.635Z"
   },
   {
    "duration": 1854,
    "start_time": "2022-03-14T11:35:24.053Z"
   },
   {
    "duration": 11616,
    "start_time": "2022-03-14T11:36:07.592Z"
   },
   {
    "duration": 166,
    "start_time": "2022-03-14T11:39:39.820Z"
   },
   {
    "duration": 513,
    "start_time": "2022-03-14T11:40:55.060Z"
   },
   {
    "duration": 115,
    "start_time": "2022-03-14T11:41:56.153Z"
   },
   {
    "duration": 13799,
    "start_time": "2022-03-14T11:42:43.059Z"
   },
   {
    "duration": 6,
    "start_time": "2022-03-14T11:45:32.854Z"
   },
   {
    "duration": 204,
    "start_time": "2022-03-14T11:46:05.970Z"
   },
   {
    "duration": 875,
    "start_time": "2022-03-14T11:46:40.789Z"
   },
   {
    "duration": 42068,
    "start_time": "2022-03-14T11:48:13.723Z"
   },
   {
    "duration": 5,
    "start_time": "2022-03-14T11:51:18.357Z"
   },
   {
    "duration": 84,
    "start_time": "2022-03-14T11:51:48.598Z"
   },
   {
    "duration": 139,
    "start_time": "2022-03-14T11:52:05.503Z"
   },
   {
    "duration": 516,
    "start_time": "2022-03-14T11:52:19.304Z"
   },
   {
    "duration": 7003,
    "start_time": "2022-03-14T11:54:04.187Z"
   },
   {
    "duration": 399,
    "start_time": "2022-03-14T12:13:12.786Z"
   },
   {
    "duration": 18646,
    "start_time": "2022-03-14T12:16:43.787Z"
   },
   {
    "duration": 30468,
    "start_time": "2022-03-14T12:18:06.751Z"
   },
   {
    "duration": 22818,
    "start_time": "2022-03-14T12:19:57.094Z"
   },
   {
    "duration": 18819,
    "start_time": "2022-03-14T12:20:27.739Z"
   },
   {
    "duration": 8542,
    "start_time": "2022-03-14T12:21:10.207Z"
   },
   {
    "duration": 10,
    "start_time": "2022-03-14T12:23:48.471Z"
   },
   {
    "duration": 46,
    "start_time": "2022-03-14T12:23:48.483Z"
   },
   {
    "duration": 12,
    "start_time": "2022-03-14T12:23:48.532Z"
   },
   {
    "duration": 10,
    "start_time": "2022-03-14T12:23:48.574Z"
   },
   {
    "duration": 25,
    "start_time": "2022-03-14T12:23:48.588Z"
   },
   {
    "duration": 19,
    "start_time": "2022-03-14T12:23:48.615Z"
   },
   {
    "duration": 40,
    "start_time": "2022-03-14T12:23:48.636Z"
   },
   {
    "duration": 26,
    "start_time": "2022-03-14T12:23:48.682Z"
   },
   {
    "duration": 8,
    "start_time": "2022-03-14T12:23:48.711Z"
   },
   {
    "duration": 17,
    "start_time": "2022-03-14T12:23:48.721Z"
   },
   {
    "duration": 89,
    "start_time": "2022-03-14T12:23:48.741Z"
   },
   {
    "duration": 4,
    "start_time": "2022-03-14T12:23:48.833Z"
   },
   {
    "duration": 235,
    "start_time": "2022-03-14T12:23:48.839Z"
   },
   {
    "duration": 226,
    "start_time": "2022-03-14T12:23:49.077Z"
   },
   {
    "duration": 314,
    "start_time": "2022-03-14T12:23:49.306Z"
   },
   {
    "duration": 226,
    "start_time": "2022-03-14T12:23:49.623Z"
   },
   {
    "duration": 247,
    "start_time": "2022-03-14T12:23:49.851Z"
   },
   {
    "duration": 309,
    "start_time": "2022-03-14T12:23:50.101Z"
   },
   {
    "duration": 1294,
    "start_time": "2022-03-14T12:23:50.413Z"
   },
   {
    "duration": 8,
    "start_time": "2022-03-14T12:23:51.710Z"
   },
   {
    "duration": 11,
    "start_time": "2022-03-14T12:23:51.720Z"
   },
   {
    "duration": 12,
    "start_time": "2022-03-14T12:23:51.733Z"
   },
   {
    "duration": 12,
    "start_time": "2022-03-14T12:23:51.775Z"
   },
   {
    "duration": 14,
    "start_time": "2022-03-14T12:23:51.791Z"
   },
   {
    "duration": 10,
    "start_time": "2022-03-14T12:23:51.808Z"
   },
   {
    "duration": 10,
    "start_time": "2022-03-14T12:23:51.820Z"
   },
   {
    "duration": 5,
    "start_time": "2022-03-14T12:23:51.874Z"
   },
   {
    "duration": 18,
    "start_time": "2022-03-14T12:23:51.882Z"
   },
   {
    "duration": 12,
    "start_time": "2022-03-14T12:23:51.902Z"
   },
   {
    "duration": 26,
    "start_time": "2022-03-14T12:23:51.916Z"
   },
   {
    "duration": 29,
    "start_time": "2022-03-14T12:23:51.944Z"
   },
   {
    "duration": 37,
    "start_time": "2022-03-14T12:23:51.976Z"
   },
   {
    "duration": 169,
    "start_time": "2022-03-14T12:23:52.015Z"
   },
   {
    "duration": 622,
    "start_time": "2022-03-14T12:23:52.188Z"
   },
   {
    "duration": 18913,
    "start_time": "2022-03-14T12:23:52.812Z"
   },
   {
    "duration": 154,
    "start_time": "2022-03-14T12:24:11.727Z"
   },
   {
    "duration": 678,
    "start_time": "2022-03-14T12:24:11.884Z"
   },
   {
    "duration": 14687,
    "start_time": "2022-03-14T12:24:12.565Z"
   },
   {
    "duration": 5,
    "start_time": "2022-03-14T12:24:27.255Z"
   },
   {
    "duration": 207,
    "start_time": "2022-03-14T12:24:27.274Z"
   },
   {
    "duration": 1046,
    "start_time": "2022-03-14T12:24:27.484Z"
   },
   {
    "duration": 30702,
    "start_time": "2022-03-14T12:24:28.532Z"
   },
   {
    "duration": 6,
    "start_time": "2022-03-14T12:24:59.237Z"
   },
   {
    "duration": 138,
    "start_time": "2022-03-14T12:24:59.246Z"
   },
   {
    "duration": 544,
    "start_time": "2022-03-14T12:24:59.388Z"
   },
   {
    "duration": 8185,
    "start_time": "2022-03-14T12:24:59.935Z"
   },
   {
    "duration": 454,
    "start_time": "2022-03-14T12:25:08.123Z"
   },
   {
    "duration": 757,
    "start_time": "2022-03-14T12:35:16.873Z"
   },
   {
    "duration": 657,
    "start_time": "2022-03-14T12:35:53.691Z"
   },
   {
    "duration": 434,
    "start_time": "2022-03-14T12:39:37.700Z"
   },
   {
    "duration": 10,
    "start_time": "2022-03-14T12:40:25.570Z"
   },
   {
    "duration": 439,
    "start_time": "2022-03-14T12:40:41.786Z"
   },
   {
    "duration": 8,
    "start_time": "2022-03-14T12:41:23.927Z"
   },
   {
    "duration": 26,
    "start_time": "2022-03-14T12:41:35.070Z"
   },
   {
    "duration": 9,
    "start_time": "2022-03-14T12:42:01.288Z"
   },
   {
    "duration": 47,
    "start_time": "2022-03-14T12:42:01.300Z"
   },
   {
    "duration": 30,
    "start_time": "2022-03-14T12:42:01.350Z"
   },
   {
    "duration": 10,
    "start_time": "2022-03-14T12:42:01.384Z"
   },
   {
    "duration": 27,
    "start_time": "2022-03-14T12:42:01.397Z"
   },
   {
    "duration": 22,
    "start_time": "2022-03-14T12:42:01.427Z"
   },
   {
    "duration": 6,
    "start_time": "2022-03-14T12:42:01.474Z"
   },
   {
    "duration": 40,
    "start_time": "2022-03-14T12:42:01.486Z"
   },
   {
    "duration": 25,
    "start_time": "2022-03-14T12:42:01.529Z"
   },
   {
    "duration": 39,
    "start_time": "2022-03-14T12:42:01.556Z"
   },
   {
    "duration": 63,
    "start_time": "2022-03-14T12:42:01.597Z"
   },
   {
    "duration": 8,
    "start_time": "2022-03-14T12:42:01.662Z"
   },
   {
    "duration": 254,
    "start_time": "2022-03-14T12:42:01.673Z"
   },
   {
    "duration": 243,
    "start_time": "2022-03-14T12:42:01.930Z"
   },
   {
    "duration": 227,
    "start_time": "2022-03-14T12:42:02.177Z"
   },
   {
    "duration": 329,
    "start_time": "2022-03-14T12:42:02.407Z"
   },
   {
    "duration": 253,
    "start_time": "2022-03-14T12:42:02.739Z"
   },
   {
    "duration": 333,
    "start_time": "2022-03-14T12:42:02.995Z"
   },
   {
    "duration": 1225,
    "start_time": "2022-03-14T12:42:03.331Z"
   },
   {
    "duration": 21,
    "start_time": "2022-03-14T12:42:04.558Z"
   },
   {
    "duration": 18,
    "start_time": "2022-03-14T12:42:04.582Z"
   },
   {
    "duration": 12,
    "start_time": "2022-03-14T12:42:04.603Z"
   },
   {
    "duration": 8,
    "start_time": "2022-03-14T12:42:04.620Z"
   },
   {
    "duration": 45,
    "start_time": "2022-03-14T12:42:04.630Z"
   },
   {
    "duration": 14,
    "start_time": "2022-03-14T12:42:04.679Z"
   },
   {
    "duration": 11,
    "start_time": "2022-03-14T12:42:04.695Z"
   },
   {
    "duration": 8,
    "start_time": "2022-03-14T12:42:04.709Z"
   },
   {
    "duration": 12,
    "start_time": "2022-03-14T12:42:04.719Z"
   },
   {
    "duration": 630,
    "start_time": "2022-03-14T13:35:50.159Z"
   },
   {
    "duration": 834,
    "start_time": "2022-03-14T13:36:14.474Z"
   },
   {
    "duration": 422,
    "start_time": "2022-03-14T13:36:44.518Z"
   },
   {
    "duration": 7,
    "start_time": "2022-03-14T13:37:33.409Z"
   },
   {
    "duration": 59,
    "start_time": "2022-03-14T13:37:41.551Z"
   },
   {
    "duration": 50,
    "start_time": "2022-03-14T13:41:34.937Z"
   },
   {
    "duration": 12,
    "start_time": "2022-03-14T13:42:01.125Z"
   },
   {
    "duration": 51,
    "start_time": "2022-03-14T13:42:06.556Z"
   },
   {
    "duration": 297,
    "start_time": "2022-03-14T13:43:11.222Z"
   },
   {
    "duration": 637,
    "start_time": "2022-03-14T13:46:25.458Z"
   },
   {
    "duration": 743,
    "start_time": "2022-03-14T13:46:35.230Z"
   },
   {
    "duration": 826,
    "start_time": "2022-03-14T13:46:40.720Z"
   },
   {
    "duration": 23400,
    "start_time": "2022-03-14T13:54:04.773Z"
   },
   {
    "duration": 14965,
    "start_time": "2022-03-14T13:55:11.344Z"
   },
   {
    "duration": 1038,
    "start_time": "2022-03-14T13:55:42.559Z"
   },
   {
    "duration": -90,
    "start_time": "2022-03-14T13:57:26.763Z"
   },
   {
    "duration": 37561,
    "start_time": "2022-03-14T13:57:30.541Z"
   },
   {
    "duration": 1847,
    "start_time": "2022-03-14T13:59:18.033Z"
   },
   {
    "duration": 80740,
    "start_time": "2022-03-14T13:59:49.024Z"
   },
   {
    "duration": 22552,
    "start_time": "2022-03-14T14:01:09.767Z"
   },
   {
    "duration": 37487,
    "start_time": "2022-03-14T14:01:32.323Z"
   },
   {
    "duration": 815,
    "start_time": "2022-03-14T14:03:13.401Z"
   },
   {
    "duration": 11766,
    "start_time": "2022-03-14T14:04:20.582Z"
   },
   {
    "duration": 9368,
    "start_time": "2022-03-14T14:04:43.513Z"
   },
   {
    "duration": 1221,
    "start_time": "2022-03-14T14:06:24.781Z"
   },
   {
    "duration": 1010,
    "start_time": "2022-03-14T14:06:32.181Z"
   },
   {
    "duration": 1824,
    "start_time": "2022-03-14T14:06:42.050Z"
   },
   {
    "duration": 866,
    "start_time": "2022-03-14T14:06:50.441Z"
   },
   {
    "duration": 730,
    "start_time": "2022-03-14T14:07:12.877Z"
   },
   {
    "duration": 613,
    "start_time": "2022-03-14T14:14:03.569Z"
   },
   {
    "duration": 696,
    "start_time": "2022-03-14T14:16:51.208Z"
   },
   {
    "duration": 630,
    "start_time": "2022-03-14T14:17:15.442Z"
   },
   {
    "duration": 382,
    "start_time": "2022-03-14T14:22:04.821Z"
   },
   {
    "duration": 15,
    "start_time": "2022-03-14T14:24:29.848Z"
   },
   {
    "duration": 5,
    "start_time": "2022-03-14T14:24:44.435Z"
   },
   {
    "duration": 392,
    "start_time": "2022-03-14T14:26:13.152Z"
   },
   {
    "duration": 10,
    "start_time": "2022-03-14T14:26:39.504Z"
   },
   {
    "duration": 14,
    "start_time": "2022-03-14T14:26:46.073Z"
   },
   {
    "duration": 385,
    "start_time": "2022-03-14T14:28:39.186Z"
   },
   {
    "duration": 17,
    "start_time": "2022-03-14T14:29:13.639Z"
   },
   {
    "duration": 11,
    "start_time": "2022-03-14T14:30:12.947Z"
   },
   {
    "duration": 52,
    "start_time": "2022-03-14T14:30:12.961Z"
   },
   {
    "duration": 16,
    "start_time": "2022-03-14T14:30:13.016Z"
   },
   {
    "duration": 41,
    "start_time": "2022-03-14T14:30:13.036Z"
   },
   {
    "duration": 19,
    "start_time": "2022-03-14T14:30:13.079Z"
   },
   {
    "duration": 22,
    "start_time": "2022-03-14T14:30:13.101Z"
   },
   {
    "duration": 7,
    "start_time": "2022-03-14T14:30:13.125Z"
   },
   {
    "duration": 61,
    "start_time": "2022-03-14T14:30:13.136Z"
   },
   {
    "duration": 12,
    "start_time": "2022-03-14T14:30:13.201Z"
   },
   {
    "duration": 18,
    "start_time": "2022-03-14T14:30:13.217Z"
   },
   {
    "duration": 83,
    "start_time": "2022-03-14T14:30:13.238Z"
   },
   {
    "duration": 6,
    "start_time": "2022-03-14T14:30:13.323Z"
   },
   {
    "duration": 245,
    "start_time": "2022-03-14T14:30:13.332Z"
   },
   {
    "duration": 233,
    "start_time": "2022-03-14T14:30:13.579Z"
   },
   {
    "duration": 404,
    "start_time": "2022-03-14T14:30:13.815Z"
   },
   {
    "duration": 229,
    "start_time": "2022-03-14T14:30:14.222Z"
   },
   {
    "duration": 242,
    "start_time": "2022-03-14T14:30:14.454Z"
   },
   {
    "duration": 405,
    "start_time": "2022-03-14T14:30:14.699Z"
   },
   {
    "duration": 1499,
    "start_time": "2022-03-14T14:30:15.108Z"
   },
   {
    "duration": 12,
    "start_time": "2022-03-14T14:30:16.610Z"
   },
   {
    "duration": 41,
    "start_time": "2022-03-14T14:30:16.626Z"
   },
   {
    "duration": 33,
    "start_time": "2022-03-14T14:30:16.672Z"
   },
   {
    "duration": 25,
    "start_time": "2022-03-14T14:30:16.712Z"
   },
   {
    "duration": 31,
    "start_time": "2022-03-14T14:30:16.740Z"
   },
   {
    "duration": 12,
    "start_time": "2022-03-14T14:30:16.775Z"
   },
   {
    "duration": 25,
    "start_time": "2022-03-14T14:30:16.790Z"
   },
   {
    "duration": 34,
    "start_time": "2022-03-14T14:30:16.818Z"
   },
   {
    "duration": 7,
    "start_time": "2022-03-14T14:30:16.855Z"
   },
   {
    "duration": 21,
    "start_time": "2022-03-14T14:30:16.873Z"
   },
   {
    "duration": 34,
    "start_time": "2022-03-14T14:30:16.903Z"
   },
   {
    "duration": 340,
    "start_time": "2022-03-14T14:30:19.488Z"
   },
   {
    "duration": 24,
    "start_time": "2022-03-14T14:31:24.026Z"
   },
   {
    "duration": 21,
    "start_time": "2022-03-14T14:31:26.496Z"
   },
   {
    "duration": 473,
    "start_time": "2022-03-14T14:32:24.793Z"
   },
   {
    "duration": 375,
    "start_time": "2022-03-14T14:32:48.360Z"
   },
   {
    "duration": 18,
    "start_time": "2022-03-14T14:33:31.480Z"
   },
   {
    "duration": 21,
    "start_time": "2022-03-14T14:33:38.941Z"
   },
   {
    "duration": 11,
    "start_time": "2022-03-14T14:34:29.110Z"
   },
   {
    "duration": 39,
    "start_time": "2022-03-14T14:34:29.124Z"
   },
   {
    "duration": 16,
    "start_time": "2022-03-14T14:34:29.167Z"
   },
   {
    "duration": 11,
    "start_time": "2022-03-14T14:34:29.187Z"
   },
   {
    "duration": 24,
    "start_time": "2022-03-14T14:34:29.201Z"
   },
   {
    "duration": 64,
    "start_time": "2022-03-14T14:34:29.228Z"
   },
   {
    "duration": 5,
    "start_time": "2022-03-14T14:34:29.296Z"
   },
   {
    "duration": 23,
    "start_time": "2022-03-14T14:34:29.305Z"
   },
   {
    "duration": 6,
    "start_time": "2022-03-14T14:34:29.331Z"
   },
   {
    "duration": 21,
    "start_time": "2022-03-14T14:34:29.375Z"
   },
   {
    "duration": 87,
    "start_time": "2022-03-14T14:34:29.399Z"
   },
   {
    "duration": 5,
    "start_time": "2022-03-14T14:34:29.489Z"
   },
   {
    "duration": 234,
    "start_time": "2022-03-14T14:34:29.498Z"
   },
   {
    "duration": 222,
    "start_time": "2022-03-14T14:34:29.736Z"
   },
   {
    "duration": 294,
    "start_time": "2022-03-14T14:34:29.960Z"
   },
   {
    "duration": 297,
    "start_time": "2022-03-14T14:34:30.257Z"
   },
   {
    "duration": 543,
    "start_time": "2022-03-14T14:34:30.557Z"
   },
   {
    "duration": 429,
    "start_time": "2022-03-14T14:34:31.103Z"
   },
   {
    "duration": 1166,
    "start_time": "2022-03-14T14:34:31.535Z"
   },
   {
    "duration": 10,
    "start_time": "2022-03-14T14:34:32.704Z"
   },
   {
    "duration": 18,
    "start_time": "2022-03-14T14:34:32.717Z"
   },
   {
    "duration": 37,
    "start_time": "2022-03-14T14:34:32.739Z"
   },
   {
    "duration": 20,
    "start_time": "2022-03-14T14:34:32.782Z"
   },
   {
    "duration": 31,
    "start_time": "2022-03-14T14:34:32.805Z"
   },
   {
    "duration": 23,
    "start_time": "2022-03-14T14:34:32.839Z"
   },
   {
    "duration": 38,
    "start_time": "2022-03-14T14:34:32.866Z"
   },
   {
    "duration": 41,
    "start_time": "2022-03-14T14:34:32.906Z"
   },
   {
    "duration": 21,
    "start_time": "2022-03-14T14:34:32.950Z"
   },
   {
    "duration": 46,
    "start_time": "2022-03-14T14:34:32.974Z"
   },
   {
    "duration": 412,
    "start_time": "2022-03-14T14:34:40.484Z"
   },
   {
    "duration": 32,
    "start_time": "2022-03-14T14:37:11.859Z"
   },
   {
    "duration": 383,
    "start_time": "2022-03-14T14:37:33.722Z"
   },
   {
    "duration": 347,
    "start_time": "2022-03-14T14:37:53.336Z"
   },
   {
    "duration": 333,
    "start_time": "2022-03-14T14:39:50.986Z"
   },
   {
    "duration": 115,
    "start_time": "2022-03-14T14:41:44.039Z"
   },
   {
    "duration": 11,
    "start_time": "2022-03-14T14:42:04.640Z"
   },
   {
    "duration": 35,
    "start_time": "2022-03-14T14:43:11.329Z"
   },
   {
    "duration": 8,
    "start_time": "2022-03-14T14:44:55.415Z"
   },
   {
    "duration": 776,
    "start_time": "2022-03-14T14:45:13.725Z"
   },
   {
    "duration": 358,
    "start_time": "2022-03-14T14:46:00.392Z"
   },
   {
    "duration": 46,
    "start_time": "2022-03-14T14:47:25.107Z"
   },
   {
    "duration": 365,
    "start_time": "2022-03-14T14:47:32.530Z"
   },
   {
    "duration": 54,
    "start_time": "2022-03-14T14:47:38.767Z"
   },
   {
    "duration": 34,
    "start_time": "2022-03-14T14:48:01.264Z"
   },
   {
    "duration": 20,
    "start_time": "2022-03-14T14:52:59.043Z"
   },
   {
    "duration": 6,
    "start_time": "2022-03-14T14:57:16.345Z"
   },
   {
    "duration": 10,
    "start_time": "2022-03-14T14:57:35.905Z"
   },
   {
    "duration": 9,
    "start_time": "2022-03-14T14:57:56.317Z"
   },
   {
    "duration": 122,
    "start_time": "2022-03-14T15:00:04.562Z"
   },
   {
    "duration": 43,
    "start_time": "2022-03-14T15:01:14.689Z"
   },
   {
    "duration": 526,
    "start_time": "2022-03-14T15:02:59.540Z"
   },
   {
    "duration": 370,
    "start_time": "2022-03-14T15:04:53.494Z"
   },
   {
    "duration": 11,
    "start_time": "2022-03-14T15:05:04.016Z"
   },
   {
    "duration": 53,
    "start_time": "2022-03-14T15:05:04.031Z"
   },
   {
    "duration": 15,
    "start_time": "2022-03-14T15:05:04.088Z"
   },
   {
    "duration": 9,
    "start_time": "2022-03-14T15:05:04.105Z"
   },
   {
    "duration": 25,
    "start_time": "2022-03-14T15:05:04.117Z"
   },
   {
    "duration": 53,
    "start_time": "2022-03-14T15:05:04.145Z"
   },
   {
    "duration": 8,
    "start_time": "2022-03-14T15:05:04.201Z"
   },
   {
    "duration": 63,
    "start_time": "2022-03-14T15:05:04.214Z"
   },
   {
    "duration": 11,
    "start_time": "2022-03-14T15:05:04.280Z"
   },
   {
    "duration": 18,
    "start_time": "2022-03-14T15:05:04.293Z"
   },
   {
    "duration": 92,
    "start_time": "2022-03-14T15:05:04.314Z"
   },
   {
    "duration": 6,
    "start_time": "2022-03-14T15:05:04.410Z"
   },
   {
    "duration": 326,
    "start_time": "2022-03-14T15:05:04.418Z"
   },
   {
    "duration": 228,
    "start_time": "2022-03-14T15:05:04.747Z"
   },
   {
    "duration": 227,
    "start_time": "2022-03-14T15:05:04.978Z"
   },
   {
    "duration": 269,
    "start_time": "2022-03-14T15:05:05.208Z"
   },
   {
    "duration": 259,
    "start_time": "2022-03-14T15:05:05.480Z"
   },
   {
    "duration": 357,
    "start_time": "2022-03-14T15:05:05.742Z"
   },
   {
    "duration": 1320,
    "start_time": "2022-03-14T15:05:06.102Z"
   },
   {
    "duration": 12,
    "start_time": "2022-03-14T15:05:07.424Z"
   },
   {
    "duration": 13,
    "start_time": "2022-03-14T15:05:07.439Z"
   },
   {
    "duration": 10,
    "start_time": "2022-03-14T15:05:07.475Z"
   },
   {
    "duration": 9,
    "start_time": "2022-03-14T15:05:07.491Z"
   },
   {
    "duration": 9,
    "start_time": "2022-03-14T15:05:07.503Z"
   },
   {
    "duration": 10,
    "start_time": "2022-03-14T15:05:07.515Z"
   },
   {
    "duration": 9,
    "start_time": "2022-03-14T15:05:07.572Z"
   },
   {
    "duration": 4,
    "start_time": "2022-03-14T15:05:07.584Z"
   },
   {
    "duration": 8,
    "start_time": "2022-03-14T15:05:07.590Z"
   },
   {
    "duration": 18,
    "start_time": "2022-03-14T15:05:07.602Z"
   },
   {
    "duration": 75,
    "start_time": "2022-03-14T15:05:07.623Z"
   },
   {
    "duration": 8,
    "start_time": "2022-03-14T15:05:07.701Z"
   },
   {
    "duration": 37,
    "start_time": "2022-03-14T15:05:07.712Z"
   },
   {
    "duration": 202,
    "start_time": "2022-03-14T15:05:07.774Z"
   },
   {
    "duration": 534,
    "start_time": "2022-03-14T15:05:07.979Z"
   },
   {
    "duration": 18219,
    "start_time": "2022-03-14T15:05:08.516Z"
   },
   {
    "duration": 237,
    "start_time": "2022-03-14T15:05:26.738Z"
   },
   {
    "duration": 1001,
    "start_time": "2022-03-14T15:05:26.978Z"
   },
   {
    "duration": 19019,
    "start_time": "2022-03-14T15:05:27.982Z"
   },
   {
    "duration": 6,
    "start_time": "2022-03-14T15:05:47.004Z"
   },
   {
    "duration": 362,
    "start_time": "2022-03-14T15:05:47.013Z"
   },
   {
    "duration": 2326,
    "start_time": "2022-03-14T15:05:47.378Z"
   },
   {
    "duration": 40537,
    "start_time": "2022-03-14T15:05:49.707Z"
   },
   {
    "duration": 6,
    "start_time": "2022-03-14T15:06:30.247Z"
   },
   {
    "duration": 127,
    "start_time": "2022-03-14T15:06:30.259Z"
   },
   {
    "duration": 972,
    "start_time": "2022-03-14T15:06:30.476Z"
   },
   {
    "duration": 6561,
    "start_time": "2022-03-14T15:06:31.450Z"
   },
   {
    "duration": 401,
    "start_time": "2022-03-14T15:06:38.014Z"
   },
   {
    "duration": -70,
    "start_time": "2022-03-14T15:06:38.488Z"
   },
   {
    "duration": -74,
    "start_time": "2022-03-14T15:06:38.493Z"
   },
   {
    "duration": 656,
    "start_time": "2022-03-14T15:06:52.873Z"
   },
   {
    "duration": 244,
    "start_time": "2022-03-14T15:07:56.259Z"
   },
   {
    "duration": 849,
    "start_time": "2022-03-14T15:08:07.546Z"
   },
   {
    "duration": 12,
    "start_time": "2022-03-14T15:16:56.641Z"
   },
   {
    "duration": 5,
    "start_time": "2022-03-14T15:17:32.942Z"
   },
   {
    "duration": 373,
    "start_time": "2022-03-14T15:17:44.319Z"
   },
   {
    "duration": 13,
    "start_time": "2022-03-14T15:17:55.995Z"
   },
   {
    "duration": 35,
    "start_time": "2022-03-14T15:18:24.423Z"
   },
   {
    "duration": 10,
    "start_time": "2022-03-14T15:19:44.819Z"
   },
   {
    "duration": 400,
    "start_time": "2022-03-14T15:21:38.099Z"
   },
   {
    "duration": 106,
    "start_time": "2022-03-14T15:23:27.973Z"
   },
   {
    "duration": 111,
    "start_time": "2022-03-14T15:32:07.942Z"
   },
   {
    "duration": 322,
    "start_time": "2022-03-14T15:32:15.499Z"
   },
   {
    "duration": 21,
    "start_time": "2022-03-14T15:32:21.656Z"
   },
   {
    "duration": 18,
    "start_time": "2022-03-14T15:33:04.208Z"
   },
   {
    "duration": 19,
    "start_time": "2022-03-14T15:33:21.342Z"
   },
   {
    "duration": 8,
    "start_time": "2022-03-14T15:34:21.743Z"
   },
   {
    "duration": 10,
    "start_time": "2022-03-14T15:35:02.640Z"
   },
   {
    "duration": 54,
    "start_time": "2022-03-14T15:37:32.341Z"
   },
   {
    "duration": 32,
    "start_time": "2022-03-14T15:39:54.356Z"
   },
   {
    "duration": 33,
    "start_time": "2022-03-14T15:42:04.470Z"
   },
   {
    "duration": 18,
    "start_time": "2022-03-14T15:42:09.997Z"
   },
   {
    "duration": 18,
    "start_time": "2022-03-14T15:44:13.961Z"
   },
   {
    "duration": 16,
    "start_time": "2022-03-14T15:44:39.921Z"
   },
   {
    "duration": 110,
    "start_time": "2022-03-14T15:47:03.074Z"
   },
   {
    "duration": 903,
    "start_time": "2022-03-14T15:47:59.002Z"
   },
   {
    "duration": 1108,
    "start_time": "2022-03-14T15:49:38.901Z"
   },
   {
    "duration": 936,
    "start_time": "2022-03-14T15:50:51.471Z"
   },
   {
    "duration": 40571,
    "start_time": "2022-03-14T15:52:40.123Z"
   },
   {
    "duration": 43013,
    "start_time": "2022-03-14T15:59:55.068Z"
   },
   {
    "duration": 370,
    "start_time": "2022-03-14T16:06:07.757Z"
   },
   {
    "duration": 782,
    "start_time": "2022-03-14T16:06:27.823Z"
   },
   {
    "duration": 167,
    "start_time": "2022-03-14T16:08:46.611Z"
   },
   {
    "duration": 38,
    "start_time": "2022-03-14T16:10:13.891Z"
   },
   {
    "duration": 2065,
    "start_time": "2022-03-14T16:12:13.298Z"
   },
   {
    "duration": 24,
    "start_time": "2022-03-14T16:14:09.125Z"
   },
   {
    "duration": 214,
    "start_time": "2022-03-14T16:15:07.258Z"
   },
   {
    "duration": 43,
    "start_time": "2022-03-14T16:16:45.546Z"
   },
   {
    "duration": 3143,
    "start_time": "2022-03-14T16:17:43.197Z"
   },
   {
    "duration": 22,
    "start_time": "2022-03-14T16:18:56.432Z"
   },
   {
    "duration": 182,
    "start_time": "2022-03-14T16:20:17.691Z"
   },
   {
    "duration": 26,
    "start_time": "2022-03-14T16:21:15.617Z"
   },
   {
    "duration": 1026,
    "start_time": "2022-03-14T16:22:07.622Z"
   },
   {
    "duration": 54,
    "start_time": "2022-03-14T16:26:01.421Z"
   },
   {
    "duration": 936,
    "start_time": "2022-03-14T16:26:05.392Z"
   },
   {
    "duration": 41569,
    "start_time": "2022-03-14T16:26:34.790Z"
   },
   {
    "duration": 749,
    "start_time": "2022-03-14T16:27:19.300Z"
   },
   {
    "duration": 2403,
    "start_time": "2022-03-14T16:27:58.014Z"
   },
   {
    "duration": 196,
    "start_time": "2022-03-14T16:28:08.087Z"
   },
   {
    "duration": 38,
    "start_time": "2022-03-14T16:28:16.564Z"
   },
   {
    "duration": 2958,
    "start_time": "2022-03-14T16:28:26.373Z"
   },
   {
    "duration": 34,
    "start_time": "2022-03-14T16:28:35.010Z"
   },
   {
    "duration": 144,
    "start_time": "2022-03-14T16:28:45.943Z"
   },
   {
    "duration": 44,
    "start_time": "2022-03-14T16:28:53.070Z"
   },
   {
    "duration": 3059,
    "start_time": "2022-03-14T16:28:58.870Z"
   },
   {
    "duration": 19,
    "start_time": "2022-03-14T16:33:19.690Z"
   },
   {
    "duration": 97,
    "start_time": "2022-03-14T16:34:07.286Z"
   },
   {
    "duration": 8,
    "start_time": "2022-03-14T16:34:25.715Z"
   },
   {
    "duration": 45,
    "start_time": "2022-03-14T16:34:25.727Z"
   },
   {
    "duration": 13,
    "start_time": "2022-03-14T16:34:25.776Z"
   },
   {
    "duration": 9,
    "start_time": "2022-03-14T16:34:25.792Z"
   },
   {
    "duration": 25,
    "start_time": "2022-03-14T16:34:25.803Z"
   },
   {
    "duration": 53,
    "start_time": "2022-03-14T16:34:25.830Z"
   },
   {
    "duration": 7,
    "start_time": "2022-03-14T16:34:25.885Z"
   },
   {
    "duration": 30,
    "start_time": "2022-03-14T16:34:25.895Z"
   },
   {
    "duration": 45,
    "start_time": "2022-03-14T16:34:25.931Z"
   },
   {
    "duration": 22,
    "start_time": "2022-03-14T16:34:25.981Z"
   },
   {
    "duration": 104,
    "start_time": "2022-03-14T16:34:26.006Z"
   },
   {
    "duration": 6,
    "start_time": "2022-03-14T16:34:26.113Z"
   },
   {
    "duration": 231,
    "start_time": "2022-03-14T16:34:26.123Z"
   },
   {
    "duration": 221,
    "start_time": "2022-03-14T16:34:26.356Z"
   },
   {
    "duration": 215,
    "start_time": "2022-03-14T16:34:26.580Z"
   },
   {
    "duration": 218,
    "start_time": "2022-03-14T16:34:26.798Z"
   },
   {
    "duration": 335,
    "start_time": "2022-03-14T16:34:27.018Z"
   },
   {
    "duration": 300,
    "start_time": "2022-03-14T16:34:27.357Z"
   },
   {
    "duration": 1690,
    "start_time": "2022-03-14T16:34:27.660Z"
   },
   {
    "duration": 24,
    "start_time": "2022-03-14T16:34:29.353Z"
   },
   {
    "duration": 11,
    "start_time": "2022-03-14T16:34:29.380Z"
   },
   {
    "duration": 11,
    "start_time": "2022-03-14T16:34:29.394Z"
   },
   {
    "duration": 18,
    "start_time": "2022-03-14T16:34:29.408Z"
   },
   {
    "duration": 14,
    "start_time": "2022-03-14T16:34:29.428Z"
   },
   {
    "duration": 9,
    "start_time": "2022-03-14T16:34:29.474Z"
   },
   {
    "duration": 8,
    "start_time": "2022-03-14T16:34:29.485Z"
   },
   {
    "duration": 23,
    "start_time": "2022-03-14T16:34:29.497Z"
   },
   {
    "duration": 54,
    "start_time": "2022-03-14T16:34:29.523Z"
   },
   {
    "duration": 9,
    "start_time": "2022-03-14T16:34:29.580Z"
   },
   {
    "duration": 95,
    "start_time": "2022-03-14T16:34:35.590Z"
   },
   {
    "duration": 1000,
    "start_time": "2022-03-14T16:34:51.324Z"
   },
   {
    "duration": 40619,
    "start_time": "2022-03-14T16:35:39.586Z"
   },
   {
    "duration": 2354,
    "start_time": "2022-03-14T16:37:45.998Z"
   },
   {
    "duration": 2990,
    "start_time": "2022-03-14T16:38:11.263Z"
   },
   {
    "duration": 25324,
    "start_time": "2022-03-14T16:38:55.061Z"
   },
   {
    "duration": 41977,
    "start_time": "2022-03-14T16:39:36.881Z"
   },
   {
    "duration": 2836,
    "start_time": "2022-03-14T16:40:25.806Z"
   },
   {
    "duration": 187,
    "start_time": "2022-03-14T16:40:52.486Z"
   },
   {
    "duration": 38,
    "start_time": "2022-03-14T16:41:21.597Z"
   },
   {
    "duration": 2742,
    "start_time": "2022-03-14T16:41:49.357Z"
   },
   {
    "duration": 2546,
    "start_time": "2022-03-14T16:42:06.771Z"
   },
   {
    "duration": 25,
    "start_time": "2022-03-14T16:42:09.320Z"
   },
   {
    "duration": 184,
    "start_time": "2022-03-14T16:42:28.790Z"
   },
   {
    "duration": 46,
    "start_time": "2022-03-14T16:42:49.625Z"
   },
   {
    "duration": 3111,
    "start_time": "2022-03-14T16:43:08.184Z"
   },
   {
    "duration": 5357,
    "start_time": "2022-03-14T16:43:47.038Z"
   },
   {
    "duration": 24,
    "start_time": "2022-03-14T16:44:03.383Z"
   },
   {
    "duration": 54,
    "start_time": "2022-03-14T16:44:20.629Z"
   },
   {
    "duration": 28,
    "start_time": "2022-03-14T16:44:37.267Z"
   },
   {
    "duration": 1076,
    "start_time": "2022-03-14T16:44:57.235Z"
   },
   {
    "duration": 1327,
    "start_time": "2022-03-14T16:45:16.473Z"
   },
   {
    "duration": 4708,
    "start_time": "2022-03-14T16:48:55.915Z"
   },
   {
    "duration": 382,
    "start_time": "2022-03-14T16:50:08.051Z"
   },
   {
    "duration": 165365,
    "start_time": "2022-03-14T16:50:36.108Z"
   },
   {
    "duration": 57470,
    "start_time": "2022-03-14T16:55:44.219Z"
   },
   {
    "duration": 6647,
    "start_time": "2022-03-14T16:57:16.262Z"
   },
   {
    "duration": 381,
    "start_time": "2022-03-14T16:59:30.241Z"
   },
   {
    "duration": 69100,
    "start_time": "2022-03-14T17:00:11.006Z"
   },
   {
    "duration": 62071,
    "start_time": "2022-03-14T17:05:13.177Z"
   },
   {
    "duration": 408,
    "start_time": "2022-03-14T17:06:20.484Z"
   },
   {
    "duration": 17955,
    "start_time": "2022-03-14T17:08:40.230Z"
   },
   {
    "duration": -51,
    "start_time": "2022-03-14T17:11:20.134Z"
   },
   {
    "duration": -52,
    "start_time": "2022-03-14T17:11:20.141Z"
   },
   {
    "duration": 7043,
    "start_time": "2022-03-14T17:12:06.790Z"
   },
   {
    "duration": 68518,
    "start_time": "2022-03-14T17:12:22.660Z"
   },
   {
    "duration": 20659,
    "start_time": "2022-03-14T17:14:09.505Z"
   },
   {
    "duration": 15282,
    "start_time": "2022-03-14T17:17:06.745Z"
   },
   {
    "duration": 102902,
    "start_time": "2022-03-14T17:22:00.679Z"
   },
   {
    "duration": 47740,
    "start_time": "2022-03-14T17:23:44.291Z"
   },
   {
    "duration": 8,
    "start_time": "2022-03-14T17:36:42.027Z"
   },
   {
    "duration": 36,
    "start_time": "2022-03-14T17:36:42.038Z"
   },
   {
    "duration": 13,
    "start_time": "2022-03-14T17:36:42.077Z"
   },
   {
    "duration": 11,
    "start_time": "2022-03-14T17:36:42.094Z"
   },
   {
    "duration": 70,
    "start_time": "2022-03-14T17:36:42.108Z"
   },
   {
    "duration": 23,
    "start_time": "2022-03-14T17:36:42.181Z"
   },
   {
    "duration": 5,
    "start_time": "2022-03-14T17:36:42.210Z"
   },
   {
    "duration": 76,
    "start_time": "2022-03-14T17:36:42.219Z"
   },
   {
    "duration": 8,
    "start_time": "2022-03-14T17:36:42.299Z"
   },
   {
    "duration": 17,
    "start_time": "2022-03-14T17:36:42.309Z"
   },
   {
    "duration": 98,
    "start_time": "2022-03-14T17:36:42.328Z"
   },
   {
    "duration": 5,
    "start_time": "2022-03-14T17:36:42.428Z"
   },
   {
    "duration": 273,
    "start_time": "2022-03-14T17:36:42.435Z"
   },
   {
    "duration": 220,
    "start_time": "2022-03-14T17:36:42.710Z"
   },
   {
    "duration": 233,
    "start_time": "2022-03-14T17:36:42.933Z"
   },
   {
    "duration": 228,
    "start_time": "2022-03-14T17:36:43.168Z"
   },
   {
    "duration": 251,
    "start_time": "2022-03-14T17:36:43.399Z"
   },
   {
    "duration": 308,
    "start_time": "2022-03-14T17:36:43.654Z"
   },
   {
    "duration": 1245,
    "start_time": "2022-03-14T17:36:43.968Z"
   },
   {
    "duration": 9,
    "start_time": "2022-03-14T17:36:45.217Z"
   },
   {
    "duration": 11,
    "start_time": "2022-03-14T17:36:45.228Z"
   },
   {
    "duration": 37,
    "start_time": "2022-03-14T17:36:45.242Z"
   },
   {
    "duration": 13,
    "start_time": "2022-03-14T17:36:45.282Z"
   },
   {
    "duration": 13,
    "start_time": "2022-03-14T17:36:45.297Z"
   },
   {
    "duration": 7,
    "start_time": "2022-03-14T17:36:45.313Z"
   },
   {
    "duration": 52,
    "start_time": "2022-03-14T17:36:45.322Z"
   },
   {
    "duration": 26,
    "start_time": "2022-03-14T17:36:45.377Z"
   },
   {
    "duration": 17,
    "start_time": "2022-03-14T17:36:45.406Z"
   },
   {
    "duration": 52,
    "start_time": "2022-03-14T17:36:45.426Z"
   },
   {
    "duration": 192,
    "start_time": "2022-03-14T17:36:45.481Z"
   },
   {
    "duration": 1051,
    "start_time": "2022-03-14T17:36:45.677Z"
   },
   {
    "duration": 42759,
    "start_time": "2022-03-14T17:36:46.731Z"
   },
   {
    "duration": 2817,
    "start_time": "2022-03-14T17:37:29.493Z"
   },
   {
    "duration": 166,
    "start_time": "2022-03-14T17:37:32.312Z"
   },
   {
    "duration": 127,
    "start_time": "2022-03-14T17:37:32.482Z"
   },
   {
    "duration": 2831,
    "start_time": "2022-03-14T17:37:32.612Z"
   },
   {
    "duration": 40,
    "start_time": "2022-03-14T17:37:35.445Z"
   },
   {
    "duration": 191,
    "start_time": "2022-03-14T17:37:35.488Z"
   },
   {
    "duration": 136,
    "start_time": "2022-03-14T17:37:35.683Z"
   },
   {
    "duration": 4054,
    "start_time": "2022-03-14T17:37:35.822Z"
   },
   {
    "duration": 29,
    "start_time": "2022-03-14T17:37:39.880Z"
   },
   {
    "duration": 175,
    "start_time": "2022-03-14T17:37:39.912Z"
   },
   {
    "duration": 28,
    "start_time": "2022-03-14T17:37:40.173Z"
   },
   {
    "duration": 1518,
    "start_time": "2022-03-14T17:37:40.204Z"
   },
   {
    "duration": 5317,
    "start_time": "2022-03-14T17:37:41.724Z"
   },
   {
    "duration": 170848,
    "start_time": "2022-03-14T17:37:47.045Z"
   },
   {
    "duration": 6693,
    "start_time": "2022-03-14T17:40:37.895Z"
   },
   {
    "duration": 67693,
    "start_time": "2022-03-14T17:40:44.591Z"
   },
   {
    "duration": 60330,
    "start_time": "2022-03-14T17:41:52.287Z"
   },
   {
    "duration": 14039,
    "start_time": "2022-03-14T17:42:52.619Z"
   },
   {
    "duration": 17899,
    "start_time": "2022-03-14T17:43:06.661Z"
   },
   {
    "duration": 1229,
    "start_time": "2022-03-15T05:58:43.748Z"
   },
   {
    "duration": 42,
    "start_time": "2022-03-15T05:58:44.979Z"
   },
   {
    "duration": 9,
    "start_time": "2022-03-15T05:58:45.026Z"
   },
   {
    "duration": 21,
    "start_time": "2022-03-15T05:58:45.037Z"
   },
   {
    "duration": 14,
    "start_time": "2022-03-15T05:58:45.060Z"
   },
   {
    "duration": 30,
    "start_time": "2022-03-15T05:58:45.076Z"
   },
   {
    "duration": 3,
    "start_time": "2022-03-15T05:58:45.109Z"
   },
   {
    "duration": 28,
    "start_time": "2022-03-15T05:58:45.115Z"
   },
   {
    "duration": 5,
    "start_time": "2022-03-15T05:58:45.144Z"
   },
   {
    "duration": 16,
    "start_time": "2022-03-15T05:58:45.151Z"
   },
   {
    "duration": 37,
    "start_time": "2022-03-15T05:58:45.169Z"
   },
   {
    "duration": 24,
    "start_time": "2022-03-15T05:58:45.208Z"
   },
   {
    "duration": 160,
    "start_time": "2022-03-15T05:58:45.234Z"
   },
   {
    "duration": 157,
    "start_time": "2022-03-15T05:58:45.396Z"
   },
   {
    "duration": 153,
    "start_time": "2022-03-15T05:58:45.555Z"
   },
   {
    "duration": 151,
    "start_time": "2022-03-15T05:58:45.710Z"
   },
   {
    "duration": 174,
    "start_time": "2022-03-15T05:58:45.863Z"
   },
   {
    "duration": 280,
    "start_time": "2022-03-15T05:58:46.040Z"
   },
   {
    "duration": 841,
    "start_time": "2022-03-15T05:58:46.322Z"
   },
   {
    "duration": 10,
    "start_time": "2022-03-15T05:58:47.165Z"
   },
   {
    "duration": 12,
    "start_time": "2022-03-15T05:58:47.177Z"
   },
   {
    "duration": 13,
    "start_time": "2022-03-15T05:58:47.194Z"
   },
   {
    "duration": 27,
    "start_time": "2022-03-15T05:58:47.210Z"
   },
   {
    "duration": 8,
    "start_time": "2022-03-15T05:58:47.238Z"
   },
   {
    "duration": 6,
    "start_time": "2022-03-15T05:58:47.247Z"
   },
   {
    "duration": 11,
    "start_time": "2022-03-15T05:58:47.254Z"
   },
   {
    "duration": 48,
    "start_time": "2022-03-15T05:58:47.267Z"
   },
   {
    "duration": 17,
    "start_time": "2022-03-15T05:58:47.317Z"
   },
   {
    "duration": 12,
    "start_time": "2022-03-15T05:58:47.336Z"
   },
   {
    "duration": 301,
    "start_time": "2022-03-15T05:58:47.350Z"
   },
   {
    "duration": 713,
    "start_time": "2022-03-15T05:58:47.653Z"
   },
   {
    "duration": 28851,
    "start_time": "2022-03-15T05:58:48.368Z"
   },
   {
    "duration": 2080,
    "start_time": "2022-03-15T05:59:17.221Z"
   },
   {
    "duration": 134,
    "start_time": "2022-03-15T05:59:19.303Z"
   },
   {
    "duration": 115,
    "start_time": "2022-03-15T05:59:19.439Z"
   },
   {
    "duration": 1781,
    "start_time": "2022-03-15T05:59:19.556Z"
   },
   {
    "duration": 17,
    "start_time": "2022-03-15T05:59:21.339Z"
   },
   {
    "duration": 80,
    "start_time": "2022-03-15T05:59:21.358Z"
   },
   {
    "duration": 122,
    "start_time": "2022-03-15T05:59:21.441Z"
   },
   {
    "duration": 2601,
    "start_time": "2022-03-15T05:59:21.565Z"
   },
   {
    "duration": 15,
    "start_time": "2022-03-15T05:59:24.168Z"
   },
   {
    "duration": 51,
    "start_time": "2022-03-15T05:59:24.186Z"
   },
   {
    "duration": 110,
    "start_time": "2022-03-15T05:59:24.239Z"
   },
   {
    "duration": 952,
    "start_time": "2022-03-15T05:59:24.351Z"
   },
   {
    "duration": 3192,
    "start_time": "2022-03-15T05:59:25.304Z"
   },
   {
    "duration": 116657,
    "start_time": "2022-03-15T05:59:28.498Z"
   },
   {
    "duration": 4706,
    "start_time": "2022-03-15T06:01:25.157Z"
   },
   {
    "duration": 46268,
    "start_time": "2022-03-15T06:01:29.865Z"
   },
   {
    "duration": 40957,
    "start_time": "2022-03-15T06:02:16.136Z"
   },
   {
    "duration": 9741,
    "start_time": "2022-03-15T06:02:57.095Z"
   },
   {
    "duration": 10578,
    "start_time": "2022-03-15T06:03:06.838Z"
   },
   {
    "duration": 1371,
    "start_time": "2022-03-15T06:19:00.919Z"
   },
   {
    "duration": 41,
    "start_time": "2022-03-15T06:19:02.292Z"
   },
   {
    "duration": 10,
    "start_time": "2022-03-15T06:19:02.335Z"
   },
   {
    "duration": 16,
    "start_time": "2022-03-15T06:19:02.347Z"
   },
   {
    "duration": 27,
    "start_time": "2022-03-15T06:19:02.365Z"
   },
   {
    "duration": 27,
    "start_time": "2022-03-15T06:19:02.393Z"
   },
   {
    "duration": 6,
    "start_time": "2022-03-15T06:19:02.422Z"
   },
   {
    "duration": 16,
    "start_time": "2022-03-15T06:19:02.430Z"
   },
   {
    "duration": 5,
    "start_time": "2022-03-15T06:19:02.448Z"
   },
   {
    "duration": 14,
    "start_time": "2022-03-15T06:19:02.455Z"
   },
   {
    "duration": 38,
    "start_time": "2022-03-15T06:19:02.471Z"
   },
   {
    "duration": 4,
    "start_time": "2022-03-15T06:19:02.532Z"
   },
   {
    "duration": 169,
    "start_time": "2022-03-15T06:19:02.537Z"
   },
   {
    "duration": 145,
    "start_time": "2022-03-15T06:19:02.708Z"
   },
   {
    "duration": 165,
    "start_time": "2022-03-15T06:19:02.855Z"
   },
   {
    "duration": 147,
    "start_time": "2022-03-15T06:19:03.022Z"
   },
   {
    "duration": 171,
    "start_time": "2022-03-15T06:19:03.171Z"
   },
   {
    "duration": 269,
    "start_time": "2022-03-15T06:19:03.344Z"
   },
   {
    "duration": 782,
    "start_time": "2022-03-15T06:19:03.615Z"
   },
   {
    "duration": 7,
    "start_time": "2022-03-15T06:19:04.398Z"
   },
   {
    "duration": 29,
    "start_time": "2022-03-15T06:19:04.407Z"
   },
   {
    "duration": 13,
    "start_time": "2022-03-15T06:19:04.438Z"
   },
   {
    "duration": 37,
    "start_time": "2022-03-15T06:19:04.454Z"
   },
   {
    "duration": 19,
    "start_time": "2022-03-15T06:19:04.493Z"
   },
   {
    "duration": 18,
    "start_time": "2022-03-15T06:19:04.514Z"
   },
   {
    "duration": 28,
    "start_time": "2022-03-15T06:19:04.534Z"
   },
   {
    "duration": 43,
    "start_time": "2022-03-15T06:19:04.564Z"
   },
   {
    "duration": 14,
    "start_time": "2022-03-15T06:19:04.609Z"
   },
   {
    "duration": 26,
    "start_time": "2022-03-15T06:19:04.625Z"
   },
   {
    "duration": 295,
    "start_time": "2022-03-15T06:19:04.653Z"
   },
   {
    "duration": 725,
    "start_time": "2022-03-15T06:19:04.950Z"
   },
   {
    "duration": 29086,
    "start_time": "2022-03-15T06:19:05.677Z"
   },
   {
    "duration": 2052,
    "start_time": "2022-03-15T06:19:34.764Z"
   },
   {
    "duration": 122,
    "start_time": "2022-03-15T06:19:36.818Z"
   },
   {
    "duration": 32,
    "start_time": "2022-03-15T06:19:37.032Z"
   },
   {
    "duration": 1995,
    "start_time": "2022-03-15T06:19:37.065Z"
   },
   {
    "duration": 19,
    "start_time": "2022-03-15T06:19:39.062Z"
   },
   {
    "duration": 155,
    "start_time": "2022-03-15T06:19:39.083Z"
   },
   {
    "duration": 123,
    "start_time": "2022-03-15T06:19:39.241Z"
   },
   {
    "duration": 2648,
    "start_time": "2022-03-15T06:19:39.366Z"
   },
   {
    "duration": 25,
    "start_time": "2022-03-15T06:19:42.016Z"
   },
   {
    "duration": 94,
    "start_time": "2022-03-15T06:19:42.042Z"
   },
   {
    "duration": 111,
    "start_time": "2022-03-15T06:19:42.139Z"
   },
   {
    "duration": 953,
    "start_time": "2022-03-15T06:19:42.252Z"
   },
   {
    "duration": 3255,
    "start_time": "2022-03-15T06:19:43.207Z"
   },
   {
    "duration": 114981,
    "start_time": "2022-03-15T06:19:46.464Z"
   },
   {
    "duration": 4455,
    "start_time": "2022-03-15T06:21:41.447Z"
   },
   {
    "duration": 45420,
    "start_time": "2022-03-15T06:21:45.904Z"
   },
   {
    "duration": 40602,
    "start_time": "2022-03-15T06:22:31.327Z"
   },
   {
    "duration": 9779,
    "start_time": "2022-03-15T06:23:11.932Z"
   },
   {
    "duration": 10854,
    "start_time": "2022-03-15T06:23:21.712Z"
   },
   {
    "duration": 1138,
    "start_time": "2022-03-15T07:30:08.662Z"
   },
   {
    "duration": 23,
    "start_time": "2022-03-15T07:30:09.802Z"
   },
   {
    "duration": 10,
    "start_time": "2022-03-15T07:30:09.828Z"
   },
   {
    "duration": 7,
    "start_time": "2022-03-15T07:30:09.840Z"
   },
   {
    "duration": 234,
    "start_time": "2022-03-15T07:30:12.357Z"
   },
   {
    "duration": 128,
    "start_time": "2022-03-15T07:30:23.794Z"
   },
   {
    "duration": 1594,
    "start_time": "2022-03-15T07:32:55.311Z"
   },
   {
    "duration": 5,
    "start_time": "2022-03-15T07:33:08.100Z"
   },
   {
    "duration": 30,
    "start_time": "2022-03-15T07:33:08.107Z"
   },
   {
    "duration": 8,
    "start_time": "2022-03-15T07:33:08.139Z"
   },
   {
    "duration": 9,
    "start_time": "2022-03-15T07:33:08.149Z"
   },
   {
    "duration": 10,
    "start_time": "2022-03-15T07:33:15.066Z"
   },
   {
    "duration": 122,
    "start_time": "2022-03-15T07:38:40.822Z"
   },
   {
    "duration": 153,
    "start_time": "2022-03-15T07:39:57.095Z"
   },
   {
    "duration": 4,
    "start_time": "2022-03-15T07:40:03.386Z"
   },
   {
    "duration": 33,
    "start_time": "2022-03-15T07:40:03.392Z"
   },
   {
    "duration": 8,
    "start_time": "2022-03-15T07:40:03.427Z"
   },
   {
    "duration": 7,
    "start_time": "2022-03-15T07:40:03.437Z"
   },
   {
    "duration": 9,
    "start_time": "2022-03-15T07:40:03.445Z"
   },
   {
    "duration": 12,
    "start_time": "2022-03-15T07:40:03.456Z"
   },
   {
    "duration": 2,
    "start_time": "2022-03-15T07:40:03.471Z"
   },
   {
    "duration": 18,
    "start_time": "2022-03-15T07:40:03.475Z"
   },
   {
    "duration": 39,
    "start_time": "2022-03-15T07:40:03.495Z"
   },
   {
    "duration": 8,
    "start_time": "2022-03-15T07:40:03.536Z"
   },
   {
    "duration": 36,
    "start_time": "2022-03-15T07:40:03.545Z"
   },
   {
    "duration": 2,
    "start_time": "2022-03-15T07:40:03.583Z"
   },
   {
    "duration": 172,
    "start_time": "2022-03-15T07:40:03.587Z"
   },
   {
    "duration": 150,
    "start_time": "2022-03-15T07:40:03.761Z"
   },
   {
    "duration": 134,
    "start_time": "2022-03-15T07:40:03.913Z"
   },
   {
    "duration": 124,
    "start_time": "2022-03-15T07:40:04.048Z"
   },
   {
    "duration": 195,
    "start_time": "2022-03-15T07:40:04.173Z"
   },
   {
    "duration": 159,
    "start_time": "2022-03-15T07:40:04.369Z"
   },
   {
    "duration": 603,
    "start_time": "2022-03-15T07:40:04.533Z"
   },
   {
    "duration": 6,
    "start_time": "2022-03-15T07:40:05.138Z"
   },
   {
    "duration": 11,
    "start_time": "2022-03-15T07:40:05.145Z"
   },
   {
    "duration": 7,
    "start_time": "2022-03-15T07:40:05.158Z"
   },
   {
    "duration": 7,
    "start_time": "2022-03-15T07:40:05.167Z"
   },
   {
    "duration": 9,
    "start_time": "2022-03-15T07:40:05.175Z"
   },
   {
    "duration": 7,
    "start_time": "2022-03-15T07:40:05.185Z"
   },
   {
    "duration": 12,
    "start_time": "2022-03-15T07:40:05.193Z"
   },
   {
    "duration": 35,
    "start_time": "2022-03-15T07:40:05.206Z"
   },
   {
    "duration": 130,
    "start_time": "2022-03-15T07:40:10.803Z"
   },
   {
    "duration": 4,
    "start_time": "2022-03-15T07:40:19.872Z"
   },
   {
    "duration": 31,
    "start_time": "2022-03-15T07:40:19.878Z"
   },
   {
    "duration": 9,
    "start_time": "2022-03-15T07:40:19.911Z"
   },
   {
    "duration": 9,
    "start_time": "2022-03-15T07:40:19.922Z"
   },
   {
    "duration": 19,
    "start_time": "2022-03-15T07:40:19.933Z"
   },
   {
    "duration": 14,
    "start_time": "2022-03-15T07:40:19.954Z"
   },
   {
    "duration": 9,
    "start_time": "2022-03-15T07:40:19.972Z"
   },
   {
    "duration": 17,
    "start_time": "2022-03-15T07:40:19.983Z"
   },
   {
    "duration": 5,
    "start_time": "2022-03-15T07:40:20.002Z"
   },
   {
    "duration": 28,
    "start_time": "2022-03-15T07:40:20.009Z"
   },
   {
    "duration": 41,
    "start_time": "2022-03-15T07:40:20.039Z"
   },
   {
    "duration": 3,
    "start_time": "2022-03-15T07:40:20.082Z"
   },
   {
    "duration": 166,
    "start_time": "2022-03-15T07:40:20.086Z"
   },
   {
    "duration": 152,
    "start_time": "2022-03-15T07:40:20.254Z"
   },
   {
    "duration": 132,
    "start_time": "2022-03-15T07:40:20.408Z"
   },
   {
    "duration": 127,
    "start_time": "2022-03-15T07:40:20.542Z"
   },
   {
    "duration": 144,
    "start_time": "2022-03-15T07:40:20.671Z"
   },
   {
    "duration": 183,
    "start_time": "2022-03-15T07:40:20.816Z"
   },
   {
    "duration": 766,
    "start_time": "2022-03-15T07:40:21.002Z"
   },
   {
    "duration": 6,
    "start_time": "2022-03-15T07:40:21.770Z"
   },
   {
    "duration": 8,
    "start_time": "2022-03-15T07:40:21.777Z"
   },
   {
    "duration": 7,
    "start_time": "2022-03-15T07:40:21.786Z"
   },
   {
    "duration": 7,
    "start_time": "2022-03-15T07:40:21.794Z"
   },
   {
    "duration": 34,
    "start_time": "2022-03-15T07:40:21.802Z"
   },
   {
    "duration": 6,
    "start_time": "2022-03-15T07:40:21.838Z"
   },
   {
    "duration": 9,
    "start_time": "2022-03-15T07:40:21.846Z"
   },
   {
    "duration": 16,
    "start_time": "2022-03-15T07:40:21.859Z"
   },
   {
    "duration": 13,
    "start_time": "2022-03-15T07:40:21.877Z"
   },
   {
    "duration": 28,
    "start_time": "2022-03-15T07:40:26.767Z"
   },
   {
    "duration": 15,
    "start_time": "2022-03-15T07:43:51.913Z"
   },
   {
    "duration": 5,
    "start_time": "2022-03-15T07:43:58.321Z"
   },
   {
    "duration": 31,
    "start_time": "2022-03-15T07:43:58.328Z"
   },
   {
    "duration": 8,
    "start_time": "2022-03-15T07:43:58.360Z"
   },
   {
    "duration": 6,
    "start_time": "2022-03-15T07:43:58.369Z"
   },
   {
    "duration": 10,
    "start_time": "2022-03-15T07:43:58.377Z"
   },
   {
    "duration": 12,
    "start_time": "2022-03-15T07:43:58.388Z"
   },
   {
    "duration": 5,
    "start_time": "2022-03-15T07:43:58.402Z"
   },
   {
    "duration": 34,
    "start_time": "2022-03-15T07:43:58.409Z"
   },
   {
    "duration": 6,
    "start_time": "2022-03-15T07:43:58.444Z"
   },
   {
    "duration": 11,
    "start_time": "2022-03-15T07:43:58.451Z"
   },
   {
    "duration": 33,
    "start_time": "2022-03-15T07:43:58.463Z"
   },
   {
    "duration": 3,
    "start_time": "2022-03-15T07:43:58.497Z"
   },
   {
    "duration": 152,
    "start_time": "2022-03-15T07:43:58.501Z"
   },
   {
    "duration": 128,
    "start_time": "2022-03-15T07:43:58.654Z"
   },
   {
    "duration": 122,
    "start_time": "2022-03-15T07:43:58.783Z"
   },
   {
    "duration": 125,
    "start_time": "2022-03-15T07:43:58.907Z"
   },
   {
    "duration": 139,
    "start_time": "2022-03-15T07:43:59.034Z"
   },
   {
    "duration": 162,
    "start_time": "2022-03-15T07:43:59.176Z"
   },
   {
    "duration": 640,
    "start_time": "2022-03-15T07:43:59.340Z"
   },
   {
    "duration": 7,
    "start_time": "2022-03-15T07:43:59.982Z"
   },
   {
    "duration": 12,
    "start_time": "2022-03-15T07:43:59.990Z"
   },
   {
    "duration": 7,
    "start_time": "2022-03-15T07:44:00.004Z"
   },
   {
    "duration": 8,
    "start_time": "2022-03-15T07:44:00.034Z"
   },
   {
    "duration": 11,
    "start_time": "2022-03-15T07:44:00.043Z"
   },
   {
    "duration": 10,
    "start_time": "2022-03-15T07:44:00.056Z"
   },
   {
    "duration": 13,
    "start_time": "2022-03-15T07:44:00.067Z"
   },
   {
    "duration": 21,
    "start_time": "2022-03-15T07:44:00.082Z"
   },
   {
    "duration": 17,
    "start_time": "2022-03-15T07:44:08.688Z"
   },
   {
    "duration": 96,
    "start_time": "2022-03-15T07:44:11.241Z"
   },
   {
    "duration": 5,
    "start_time": "2022-03-15T07:45:33.866Z"
   },
   {
    "duration": 28,
    "start_time": "2022-03-15T07:45:33.872Z"
   },
   {
    "duration": 8,
    "start_time": "2022-03-15T07:45:33.902Z"
   },
   {
    "duration": 6,
    "start_time": "2022-03-15T07:45:33.911Z"
   },
   {
    "duration": 9,
    "start_time": "2022-03-15T07:45:33.918Z"
   },
   {
    "duration": 12,
    "start_time": "2022-03-15T07:45:33.929Z"
   },
   {
    "duration": 4,
    "start_time": "2022-03-15T07:45:33.942Z"
   },
   {
    "duration": 14,
    "start_time": "2022-03-15T07:45:33.947Z"
   },
   {
    "duration": 4,
    "start_time": "2022-03-15T07:45:33.964Z"
   },
   {
    "duration": 10,
    "start_time": "2022-03-15T07:45:33.970Z"
   },
   {
    "duration": 65,
    "start_time": "2022-03-15T07:45:33.981Z"
   },
   {
    "duration": 2,
    "start_time": "2022-03-15T07:45:34.048Z"
   },
   {
    "duration": 130,
    "start_time": "2022-03-15T07:45:34.052Z"
   },
   {
    "duration": 131,
    "start_time": "2022-03-15T07:45:34.184Z"
   },
   {
    "duration": 121,
    "start_time": "2022-03-15T07:45:34.317Z"
   },
   {
    "duration": 124,
    "start_time": "2022-03-15T07:45:34.440Z"
   },
   {
    "duration": 140,
    "start_time": "2022-03-15T07:45:34.565Z"
   },
   {
    "duration": 168,
    "start_time": "2022-03-15T07:45:34.706Z"
   },
   {
    "duration": 618,
    "start_time": "2022-03-15T07:45:34.876Z"
   },
   {
    "duration": 7,
    "start_time": "2022-03-15T07:45:35.495Z"
   },
   {
    "duration": 8,
    "start_time": "2022-03-15T07:45:35.503Z"
   },
   {
    "duration": 29,
    "start_time": "2022-03-15T07:45:35.513Z"
   },
   {
    "duration": 13,
    "start_time": "2022-03-15T07:45:35.544Z"
   },
   {
    "duration": 8,
    "start_time": "2022-03-15T07:45:35.559Z"
   },
   {
    "duration": 6,
    "start_time": "2022-03-15T07:45:35.569Z"
   },
   {
    "duration": 9,
    "start_time": "2022-03-15T07:45:35.577Z"
   },
   {
    "duration": 21,
    "start_time": "2022-03-15T07:45:35.588Z"
   },
   {
    "duration": 18,
    "start_time": "2022-03-15T07:45:35.610Z"
   },
   {
    "duration": 21,
    "start_time": "2022-03-15T07:45:35.633Z"
   },
   {
    "duration": 6,
    "start_time": "2022-03-15T07:45:35.655Z"
   },
   {
    "duration": 26,
    "start_time": "2022-03-15T07:45:40.947Z"
   },
   {
    "duration": 46,
    "start_time": "2022-03-15T07:57:31.736Z"
   },
   {
    "duration": 39,
    "start_time": "2022-03-15T07:58:47.369Z"
   },
   {
    "duration": 104,
    "start_time": "2022-03-15T07:59:09.057Z"
   },
   {
    "duration": 96,
    "start_time": "2022-03-15T07:59:20.744Z"
   },
   {
    "duration": 718,
    "start_time": "2022-03-15T07:59:57.667Z"
   },
   {
    "duration": 720,
    "start_time": "2022-03-15T08:00:47.213Z"
   },
   {
    "duration": 124,
    "start_time": "2022-03-15T08:04:30.218Z"
   },
   {
    "duration": 1040,
    "start_time": "2022-03-15T08:06:51.785Z"
   },
   {
    "duration": 5,
    "start_time": "2022-03-15T08:06:52.829Z"
   },
   {
    "duration": 28,
    "start_time": "2022-03-15T08:06:52.835Z"
   },
   {
    "duration": 7,
    "start_time": "2022-03-15T08:06:52.865Z"
   },
   {
    "duration": 5,
    "start_time": "2022-03-15T08:06:52.875Z"
   },
   {
    "duration": 8,
    "start_time": "2022-03-15T08:06:52.882Z"
   },
   {
    "duration": 12,
    "start_time": "2022-03-15T08:06:52.892Z"
   },
   {
    "duration": 3,
    "start_time": "2022-03-15T08:06:52.933Z"
   },
   {
    "duration": 23,
    "start_time": "2022-03-15T08:06:52.938Z"
   },
   {
    "duration": 19,
    "start_time": "2022-03-15T08:06:52.963Z"
   },
   {
    "duration": 18,
    "start_time": "2022-03-15T08:06:52.983Z"
   },
   {
    "duration": 34,
    "start_time": "2022-03-15T08:06:53.003Z"
   },
   {
    "duration": 2,
    "start_time": "2022-03-15T08:06:53.039Z"
   },
   {
    "duration": 482,
    "start_time": "2022-03-15T08:06:53.043Z"
   },
   {
    "duration": -868,
    "start_time": "2022-03-15T08:06:54.395Z"
   },
   {
    "duration": -875,
    "start_time": "2022-03-15T08:06:54.403Z"
   },
   {
    "duration": -884,
    "start_time": "2022-03-15T08:06:54.413Z"
   },
   {
    "duration": -892,
    "start_time": "2022-03-15T08:06:54.422Z"
   },
   {
    "duration": -901,
    "start_time": "2022-03-15T08:06:54.432Z"
   },
   {
    "duration": -910,
    "start_time": "2022-03-15T08:06:54.441Z"
   },
   {
    "duration": -914,
    "start_time": "2022-03-15T08:06:54.447Z"
   },
   {
    "duration": -932,
    "start_time": "2022-03-15T08:06:54.466Z"
   },
   {
    "duration": -943,
    "start_time": "2022-03-15T08:06:54.477Z"
   },
   {
    "duration": -950,
    "start_time": "2022-03-15T08:06:54.485Z"
   },
   {
    "duration": -960,
    "start_time": "2022-03-15T08:06:54.496Z"
   },
   {
    "duration": -965,
    "start_time": "2022-03-15T08:06:54.502Z"
   },
   {
    "duration": -971,
    "start_time": "2022-03-15T08:06:54.509Z"
   },
   {
    "duration": -976,
    "start_time": "2022-03-15T08:06:54.515Z"
   },
   {
    "duration": -982,
    "start_time": "2022-03-15T08:06:54.522Z"
   },
   {
    "duration": -988,
    "start_time": "2022-03-15T08:06:54.529Z"
   },
   {
    "duration": -995,
    "start_time": "2022-03-15T08:06:54.536Z"
   },
   {
    "duration": -1000,
    "start_time": "2022-03-15T08:06:54.542Z"
   },
   {
    "duration": -1005,
    "start_time": "2022-03-15T08:06:54.548Z"
   },
   {
    "duration": 5,
    "start_time": "2022-03-15T08:07:07.986Z"
   },
   {
    "duration": 26,
    "start_time": "2022-03-15T08:07:07.993Z"
   },
   {
    "duration": 9,
    "start_time": "2022-03-15T08:07:08.021Z"
   },
   {
    "duration": 7,
    "start_time": "2022-03-15T08:07:08.032Z"
   },
   {
    "duration": 10,
    "start_time": "2022-03-15T08:07:08.040Z"
   },
   {
    "duration": 12,
    "start_time": "2022-03-15T08:07:08.052Z"
   },
   {
    "duration": 5,
    "start_time": "2022-03-15T08:07:08.066Z"
   },
   {
    "duration": 15,
    "start_time": "2022-03-15T08:07:08.073Z"
   },
   {
    "duration": 5,
    "start_time": "2022-03-15T08:07:08.089Z"
   },
   {
    "duration": 16,
    "start_time": "2022-03-15T08:07:08.132Z"
   },
   {
    "duration": 35,
    "start_time": "2022-03-15T08:07:08.150Z"
   },
   {
    "duration": 3,
    "start_time": "2022-03-15T08:07:08.187Z"
   },
   {
    "duration": 137,
    "start_time": "2022-03-15T08:07:08.191Z"
   },
   {
    "duration": 120,
    "start_time": "2022-03-15T08:07:08.332Z"
   },
   {
    "duration": 134,
    "start_time": "2022-03-15T08:07:08.454Z"
   },
   {
    "duration": 136,
    "start_time": "2022-03-15T08:07:08.590Z"
   },
   {
    "duration": 148,
    "start_time": "2022-03-15T08:07:08.727Z"
   },
   {
    "duration": 183,
    "start_time": "2022-03-15T08:07:08.876Z"
   },
   {
    "duration": 687,
    "start_time": "2022-03-15T08:07:09.061Z"
   },
   {
    "duration": 7,
    "start_time": "2022-03-15T08:07:09.750Z"
   },
   {
    "duration": 7,
    "start_time": "2022-03-15T08:07:09.759Z"
   },
   {
    "duration": 9,
    "start_time": "2022-03-15T08:07:09.767Z"
   },
   {
    "duration": 8,
    "start_time": "2022-03-15T08:07:09.777Z"
   },
   {
    "duration": 7,
    "start_time": "2022-03-15T08:07:09.787Z"
   },
   {
    "duration": 38,
    "start_time": "2022-03-15T08:07:09.796Z"
   },
   {
    "duration": 6,
    "start_time": "2022-03-15T08:07:09.836Z"
   },
   {
    "duration": 17,
    "start_time": "2022-03-15T08:07:09.844Z"
   },
   {
    "duration": 16,
    "start_time": "2022-03-15T08:07:09.863Z"
   },
   {
    "duration": 22,
    "start_time": "2022-03-15T08:07:09.881Z"
   },
   {
    "duration": 30,
    "start_time": "2022-03-15T08:07:09.904Z"
   },
   {
    "duration": 37,
    "start_time": "2022-03-15T08:07:09.936Z"
   },
   {
    "duration": 852,
    "start_time": "2022-03-15T08:07:10.035Z"
   },
   {
    "duration": 363,
    "start_time": "2022-03-15T08:08:58.520Z"
   },
   {
    "duration": 27484,
    "start_time": "2022-03-15T08:09:01.813Z"
   },
   {
    "duration": 27405,
    "start_time": "2022-03-15T08:09:36.258Z"
   },
   {
    "duration": 469,
    "start_time": "2022-03-15T08:12:55.784Z"
   },
   {
    "duration": 272308,
    "start_time": "2022-03-15T08:13:20.404Z"
   },
   {
    "duration": 38,
    "start_time": "2022-03-15T08:17:52.714Z"
   },
   {
    "duration": 166410,
    "start_time": "2022-03-15T08:17:58.522Z"
   },
   {
    "duration": 278841,
    "start_time": "2022-03-15T08:20:50.271Z"
   },
   {
    "duration": 35962,
    "start_time": "2022-03-15T08:25:56.550Z"
   },
   {
    "duration": 311,
    "start_time": "2022-03-15T08:27:09.703Z"
   },
   {
    "duration": 1503,
    "start_time": "2022-03-15T08:30:19.745Z"
   },
   {
    "duration": 33901,
    "start_time": "2022-03-15T08:32:28.613Z"
   },
   {
    "duration": 622,
    "start_time": "2022-03-15T08:36:23.226Z"
   },
   {
    "duration": 95,
    "start_time": "2022-03-15T08:37:19.636Z"
   },
   {
    "duration": 13,
    "start_time": "2022-03-15T08:37:28.500Z"
   },
   {
    "duration": 115,
    "start_time": "2022-03-15T08:37:31.720Z"
   },
   {
    "duration": 812,
    "start_time": "2022-03-15T08:37:35.785Z"
   },
   {
    "duration": 48563,
    "start_time": "2022-03-15T08:38:54.645Z"
   },
   {
    "duration": 47,
    "start_time": "2022-03-15T08:41:13.800Z"
   },
   {
    "duration": 95,
    "start_time": "2022-03-15T08:42:09.820Z"
   },
   {
    "duration": 14,
    "start_time": "2022-03-15T08:42:15.586Z"
   },
   {
    "duration": 39,
    "start_time": "2022-03-15T08:42:18.395Z"
   },
   {
    "duration": 265,
    "start_time": "2022-03-15T08:42:21.146Z"
   },
   {
    "duration": 17995,
    "start_time": "2022-03-15T08:42:58.618Z"
   },
   {
    "duration": 3015,
    "start_time": "2022-03-15T08:43:45.881Z"
   },
   {
    "duration": 552,
    "start_time": "2022-03-15T08:44:24.561Z"
   },
   {
    "duration": 44,
    "start_time": "2022-03-15T08:45:10.410Z"
   },
   {
    "duration": 18552,
    "start_time": "2022-03-15T08:59:10.224Z"
   },
   {
    "duration": 6,
    "start_time": "2022-03-15T09:03:29.699Z"
   },
   {
    "duration": 6426,
    "start_time": "2022-03-15T09:05:42.492Z"
   },
   {
    "duration": 37091,
    "start_time": "2022-03-15T09:07:41.052Z"
   },
   {
    "duration": 35346,
    "start_time": "2022-03-15T09:10:00.539Z"
   },
   {
    "duration": 35257,
    "start_time": "2022-03-15T09:11:26.615Z"
   },
   {
    "duration": 406,
    "start_time": "2022-03-15T09:12:27.546Z"
   },
   {
    "duration": 28,
    "start_time": "2022-03-15T09:12:40.412Z"
   },
   {
    "duration": 618,
    "start_time": "2022-03-15T09:12:46.890Z"
   },
   {
    "duration": 33658,
    "start_time": "2022-03-15T09:12:53.579Z"
   },
   {
    "duration": 37,
    "start_time": "2022-03-15T09:14:25.051Z"
   },
   {
    "duration": 200,
    "start_time": "2022-03-15T09:14:55.919Z"
   },
   {
    "duration": 14,
    "start_time": "2022-03-15T09:15:07.746Z"
   },
   {
    "duration": 91,
    "start_time": "2022-03-15T09:15:10.947Z"
   },
   {
    "duration": 44,
    "start_time": "2022-03-15T09:15:32.445Z"
   },
   {
    "duration": 111,
    "start_time": "2022-03-15T09:16:03.470Z"
   },
   {
    "duration": 101,
    "start_time": "2022-03-15T09:16:15.225Z"
   },
   {
    "duration": 16,
    "start_time": "2022-03-15T09:16:21.978Z"
   },
   {
    "duration": 173,
    "start_time": "2022-03-15T09:16:24.860Z"
   },
   {
    "duration": 43,
    "start_time": "2022-03-15T09:16:27.683Z"
   },
   {
    "duration": 91,
    "start_time": "2022-03-15T09:16:30.592Z"
   },
   {
    "duration": 269,
    "start_time": "2022-03-15T09:16:39.406Z"
   },
   {
    "duration": 14,
    "start_time": "2022-03-15T09:16:55.779Z"
   },
   {
    "duration": 44,
    "start_time": "2022-03-15T09:16:58.788Z"
   },
   {
    "duration": 21,
    "start_time": "2022-03-15T09:17:20.996Z"
   },
   {
    "duration": 108,
    "start_time": "2022-03-15T09:17:39.143Z"
   },
   {
    "duration": 753,
    "start_time": "2022-03-15T09:18:07.630Z"
   },
   {
    "duration": 106,
    "start_time": "2022-03-15T09:25:27.578Z"
   },
   {
    "duration": 276,
    "start_time": "2022-03-15T09:26:01.387Z"
   },
   {
    "duration": 1156,
    "start_time": "2022-03-15T09:47:41.355Z"
   },
   {
    "duration": 28,
    "start_time": "2022-03-15T09:47:42.513Z"
   },
   {
    "duration": 8,
    "start_time": "2022-03-15T09:47:42.543Z"
   },
   {
    "duration": 8,
    "start_time": "2022-03-15T09:47:42.553Z"
   },
   {
    "duration": 11,
    "start_time": "2022-03-15T09:47:42.562Z"
   },
   {
    "duration": 13,
    "start_time": "2022-03-15T09:47:42.574Z"
   },
   {
    "duration": 3,
    "start_time": "2022-03-15T09:47:42.588Z"
   },
   {
    "duration": 11,
    "start_time": "2022-03-15T09:47:42.594Z"
   },
   {
    "duration": 4,
    "start_time": "2022-03-15T09:47:42.634Z"
   },
   {
    "duration": 10,
    "start_time": "2022-03-15T09:47:42.640Z"
   },
   {
    "duration": 32,
    "start_time": "2022-03-15T09:47:42.652Z"
   },
   {
    "duration": 3,
    "start_time": "2022-03-15T09:47:42.685Z"
   },
   {
    "duration": 155,
    "start_time": "2022-03-15T09:47:42.690Z"
   },
   {
    "duration": 126,
    "start_time": "2022-03-15T09:47:42.847Z"
   },
   {
    "duration": 121,
    "start_time": "2022-03-15T09:47:42.975Z"
   },
   {
    "duration": 124,
    "start_time": "2022-03-15T09:47:43.098Z"
   },
   {
    "duration": 134,
    "start_time": "2022-03-15T09:47:43.224Z"
   },
   {
    "duration": 230,
    "start_time": "2022-03-15T09:47:43.359Z"
   },
   {
    "duration": 642,
    "start_time": "2022-03-15T09:47:43.592Z"
   },
   {
    "duration": 8,
    "start_time": "2022-03-15T09:47:44.236Z"
   },
   {
    "duration": 7,
    "start_time": "2022-03-15T09:47:44.246Z"
   },
   {
    "duration": 7,
    "start_time": "2022-03-15T09:47:44.255Z"
   },
   {
    "duration": 5,
    "start_time": "2022-03-15T09:47:44.266Z"
   },
   {
    "duration": 7,
    "start_time": "2022-03-15T09:47:44.274Z"
   },
   {
    "duration": 6,
    "start_time": "2022-03-15T09:47:44.283Z"
   },
   {
    "duration": 7,
    "start_time": "2022-03-15T09:47:44.333Z"
   },
   {
    "duration": 19,
    "start_time": "2022-03-15T09:47:44.342Z"
   },
   {
    "duration": 19,
    "start_time": "2022-03-15T09:47:44.362Z"
   },
   {
    "duration": 51,
    "start_time": "2022-03-15T09:47:44.382Z"
   },
   {
    "duration": 7,
    "start_time": "2022-03-15T09:47:44.435Z"
   },
   {
    "duration": 89,
    "start_time": "2022-03-15T09:47:44.444Z"
   },
   {
    "duration": 824,
    "start_time": "2022-03-15T09:47:44.535Z"
   },
   {
    "duration": 35868,
    "start_time": "2022-03-15T09:47:45.360Z"
   },
   {
    "duration": 436,
    "start_time": "2022-03-15T09:48:21.232Z"
   },
   {
    "duration": 163,
    "start_time": "2022-03-15T09:48:21.670Z"
   },
   {
    "duration": 36,
    "start_time": "2022-03-15T09:48:21.834Z"
   },
   {
    "duration": 209,
    "start_time": "2022-03-15T09:48:21.872Z"
   },
   {
    "duration": 13,
    "start_time": "2022-03-15T09:48:22.082Z"
   },
   {
    "duration": 136,
    "start_time": "2022-03-15T09:48:22.097Z"
   },
   {
    "duration": 131,
    "start_time": "2022-03-15T09:48:22.235Z"
   },
   {
    "duration": 284,
    "start_time": "2022-03-15T09:48:22.368Z"
   },
   {
    "duration": 13,
    "start_time": "2022-03-15T09:48:22.653Z"
   },
   {
    "duration": 70,
    "start_time": "2022-03-15T09:48:22.668Z"
   },
   {
    "duration": 115,
    "start_time": "2022-03-15T09:48:22.740Z"
   },
   {
    "duration": 128,
    "start_time": "2022-03-15T09:48:22.857Z"
   },
   {
    "duration": 801,
    "start_time": "2022-03-15T09:48:22.987Z"
   },
   {
    "duration": 281,
    "start_time": "2022-03-15T09:48:23.789Z"
   },
   {
    "duration": 10024,
    "start_time": "2022-03-15T09:48:24.072Z"
   },
   {
    "duration": 80,
    "start_time": "2022-03-15T17:39:33.330Z"
   },
   {
    "duration": 204,
    "start_time": "2022-03-15T17:41:58.149Z"
   },
   {
    "duration": 1073,
    "start_time": "2022-03-15T17:42:04.816Z"
   },
   {
    "duration": 39,
    "start_time": "2022-03-15T17:42:05.891Z"
   },
   {
    "duration": 8,
    "start_time": "2022-03-15T17:42:05.931Z"
   },
   {
    "duration": 8,
    "start_time": "2022-03-15T17:42:05.941Z"
   },
   {
    "duration": 13,
    "start_time": "2022-03-15T17:42:05.950Z"
   },
   {
    "duration": 12,
    "start_time": "2022-03-15T17:42:05.965Z"
   },
   {
    "duration": 2,
    "start_time": "2022-03-15T17:42:05.979Z"
   },
   {
    "duration": 14,
    "start_time": "2022-03-15T17:42:05.983Z"
   },
   {
    "duration": 6,
    "start_time": "2022-03-15T17:42:05.999Z"
   },
   {
    "duration": 10,
    "start_time": "2022-03-15T17:42:06.006Z"
   },
   {
    "duration": 31,
    "start_time": "2022-03-15T17:42:06.018Z"
   },
   {
    "duration": 3,
    "start_time": "2022-03-15T17:42:06.051Z"
   },
   {
    "duration": 144,
    "start_time": "2022-03-15T17:42:06.055Z"
   },
   {
    "duration": 124,
    "start_time": "2022-03-15T17:42:06.200Z"
   },
   {
    "duration": 117,
    "start_time": "2022-03-15T17:42:06.326Z"
   },
   {
    "duration": 118,
    "start_time": "2022-03-15T17:42:06.444Z"
   },
   {
    "duration": 125,
    "start_time": "2022-03-15T17:42:06.563Z"
   },
   {
    "duration": 211,
    "start_time": "2022-03-15T17:42:06.690Z"
   },
   {
    "duration": 588,
    "start_time": "2022-03-15T17:42:06.903Z"
   },
   {
    "duration": 5,
    "start_time": "2022-03-15T17:42:07.493Z"
   },
   {
    "duration": 8,
    "start_time": "2022-03-15T17:42:07.499Z"
   },
   {
    "duration": 7,
    "start_time": "2022-03-15T17:42:07.508Z"
   },
   {
    "duration": 8,
    "start_time": "2022-03-15T17:42:07.517Z"
   },
   {
    "duration": 10,
    "start_time": "2022-03-15T17:42:07.526Z"
   },
   {
    "duration": 5,
    "start_time": "2022-03-15T17:42:07.537Z"
   },
   {
    "duration": 5,
    "start_time": "2022-03-15T17:42:07.543Z"
   },
   {
    "duration": 34,
    "start_time": "2022-03-15T17:42:07.550Z"
   },
   {
    "duration": 15,
    "start_time": "2022-03-15T17:42:07.586Z"
   },
   {
    "duration": 19,
    "start_time": "2022-03-15T17:42:07.603Z"
   },
   {
    "duration": 6,
    "start_time": "2022-03-15T17:42:07.623Z"
   },
   {
    "duration": 59,
    "start_time": "2022-03-15T17:42:07.631Z"
   },
   {
    "duration": 689,
    "start_time": "2022-03-15T17:42:14.127Z"
   },
   {
    "duration": 33712,
    "start_time": "2022-03-15T17:42:38.664Z"
   },
   {
    "duration": 6,
    "start_time": "2022-03-15T17:45:46.000Z"
   },
   {
    "duration": 36,
    "start_time": "2022-03-15T17:45:46.008Z"
   },
   {
    "duration": 8,
    "start_time": "2022-03-15T17:45:46.046Z"
   },
   {
    "duration": 6,
    "start_time": "2022-03-15T17:45:46.056Z"
   },
   {
    "duration": 10,
    "start_time": "2022-03-15T17:45:46.064Z"
   },
   {
    "duration": 12,
    "start_time": "2022-03-15T17:45:46.076Z"
   },
   {
    "duration": 5,
    "start_time": "2022-03-15T17:45:46.090Z"
   },
   {
    "duration": 15,
    "start_time": "2022-03-15T17:45:46.096Z"
   },
   {
    "duration": 5,
    "start_time": "2022-03-15T17:45:46.114Z"
   },
   {
    "duration": 10,
    "start_time": "2022-03-15T17:45:46.121Z"
   },
   {
    "duration": 65,
    "start_time": "2022-03-15T17:45:46.133Z"
   },
   {
    "duration": 3,
    "start_time": "2022-03-15T17:45:46.200Z"
   },
   {
    "duration": 139,
    "start_time": "2022-03-15T17:45:46.205Z"
   },
   {
    "duration": 124,
    "start_time": "2022-03-15T17:45:46.346Z"
   },
   {
    "duration": 123,
    "start_time": "2022-03-15T17:45:46.471Z"
   },
   {
    "duration": 119,
    "start_time": "2022-03-15T17:45:46.596Z"
   },
   {
    "duration": 132,
    "start_time": "2022-03-15T17:45:46.716Z"
   },
   {
    "duration": 154,
    "start_time": "2022-03-15T17:45:46.850Z"
   },
   {
    "duration": 679,
    "start_time": "2022-03-15T17:45:47.006Z"
   },
   {
    "duration": 7,
    "start_time": "2022-03-15T17:45:47.687Z"
   },
   {
    "duration": 29,
    "start_time": "2022-03-15T17:45:47.696Z"
   },
   {
    "duration": 25,
    "start_time": "2022-03-15T17:45:47.727Z"
   },
   {
    "duration": 26,
    "start_time": "2022-03-15T17:45:47.753Z"
   },
   {
    "duration": 20,
    "start_time": "2022-03-15T17:45:47.782Z"
   },
   {
    "duration": 36,
    "start_time": "2022-03-15T17:45:47.804Z"
   },
   {
    "duration": 17,
    "start_time": "2022-03-15T17:45:47.842Z"
   },
   {
    "duration": 32,
    "start_time": "2022-03-15T17:45:47.860Z"
   },
   {
    "duration": 28,
    "start_time": "2022-03-15T17:45:47.894Z"
   },
   {
    "duration": 19,
    "start_time": "2022-03-15T17:45:47.924Z"
   },
   {
    "duration": 5,
    "start_time": "2022-03-15T17:45:47.945Z"
   },
   {
    "duration": 43,
    "start_time": "2022-03-15T17:45:47.951Z"
   },
   {
    "duration": 788,
    "start_time": "2022-03-15T17:45:48.082Z"
   },
   {
    "duration": 33877,
    "start_time": "2022-03-15T17:45:48.871Z"
   },
   {
    "duration": 433,
    "start_time": "2022-03-15T17:46:22.750Z"
   },
   {
    "duration": 100,
    "start_time": "2022-03-15T17:46:23.185Z"
   },
   {
    "duration": 670,
    "start_time": "2022-03-15T17:46:35.544Z"
   },
   {
    "duration": 36460,
    "start_time": "2022-03-15T17:48:49.649Z"
   },
   {
    "duration": 85,
    "start_time": "2022-03-15T17:49:26.112Z"
   },
   {
    "duration": 35559,
    "start_time": "2022-03-15T17:50:37.069Z"
   },
   {
    "duration": 81,
    "start_time": "2022-03-15T17:53:08.978Z"
   },
   {
    "duration": 134451,
    "start_time": "2022-03-15T17:56:32.547Z"
   },
   {
    "duration": 737,
    "start_time": "2022-03-15T17:58:54.963Z"
   },
   {
    "duration": 134483,
    "start_time": "2022-03-15T18:01:01.072Z"
   },
   {
    "duration": 1023,
    "start_time": "2022-03-15T18:03:15.557Z"
   },
   {
    "duration": 731,
    "start_time": "2022-03-15T18:03:51.629Z"
   },
   {
    "duration": 728,
    "start_time": "2022-03-15T18:04:03.524Z"
   },
   {
    "duration": 760,
    "start_time": "2022-03-15T18:05:03.141Z"
   },
   {
    "duration": 2871,
    "start_time": "2022-03-15T18:05:16.092Z"
   },
   {
    "duration": 1327,
    "start_time": "2022-03-15T18:05:40.995Z"
   },
   {
    "duration": 423,
    "start_time": "2022-03-15T18:05:51.509Z"
   },
   {
    "duration": 403,
    "start_time": "2022-03-15T18:08:59.902Z"
   },
   {
    "duration": 167,
    "start_time": "2022-03-15T18:10:07.727Z"
   },
   {
    "duration": 16,
    "start_time": "2022-03-15T18:10:16.206Z"
   },
   {
    "duration": 44,
    "start_time": "2022-03-15T18:10:18.740Z"
   },
   {
    "duration": 554,
    "start_time": "2022-03-15T18:10:28.663Z"
   },
   {
    "duration": 516,
    "start_time": "2022-03-15T18:11:03.340Z"
   },
   {
    "duration": 11,
    "start_time": "2022-03-15T18:15:50.008Z"
   },
   {
    "duration": 11,
    "start_time": "2022-03-15T18:16:22.003Z"
   },
   {
    "duration": 194708,
    "start_time": "2022-03-15T18:18:45.973Z"
   },
   {
    "duration": 13,
    "start_time": "2022-03-15T18:22:30.431Z"
   },
   {
    "duration": 102,
    "start_time": "2022-03-15T18:22:34.588Z"
   },
   {
    "duration": 220,
    "start_time": "2022-03-15T18:22:37.991Z"
   },
   {
    "duration": 4,
    "start_time": "2022-03-15T18:30:56.537Z"
   },
   {
    "duration": 1109,
    "start_time": "2022-03-15T18:30:56.543Z"
   },
   {
    "duration": -982,
    "start_time": "2022-03-15T18:30:58.638Z"
   },
   {
    "duration": -987,
    "start_time": "2022-03-15T18:30:58.644Z"
   },
   {
    "duration": -994,
    "start_time": "2022-03-15T18:30:58.652Z"
   },
   {
    "duration": -1001,
    "start_time": "2022-03-15T18:30:58.660Z"
   },
   {
    "duration": -1010,
    "start_time": "2022-03-15T18:30:58.670Z"
   },
   {
    "duration": -1020,
    "start_time": "2022-03-15T18:30:58.681Z"
   },
   {
    "duration": -1028,
    "start_time": "2022-03-15T18:30:58.690Z"
   },
   {
    "duration": -1035,
    "start_time": "2022-03-15T18:30:58.698Z"
   },
   {
    "duration": -1042,
    "start_time": "2022-03-15T18:30:58.706Z"
   },
   {
    "duration": -1060,
    "start_time": "2022-03-15T18:30:58.724Z"
   },
   {
    "duration": -1067,
    "start_time": "2022-03-15T18:30:58.733Z"
   },
   {
    "duration": -1072,
    "start_time": "2022-03-15T18:30:58.740Z"
   },
   {
    "duration": -1077,
    "start_time": "2022-03-15T18:30:58.746Z"
   },
   {
    "duration": -1082,
    "start_time": "2022-03-15T18:30:58.752Z"
   },
   {
    "duration": -1086,
    "start_time": "2022-03-15T18:30:58.758Z"
   },
   {
    "duration": -1091,
    "start_time": "2022-03-15T18:30:58.764Z"
   },
   {
    "duration": -1094,
    "start_time": "2022-03-15T18:30:58.769Z"
   },
   {
    "duration": -1099,
    "start_time": "2022-03-15T18:30:58.775Z"
   },
   {
    "duration": -1102,
    "start_time": "2022-03-15T18:30:58.779Z"
   },
   {
    "duration": -1106,
    "start_time": "2022-03-15T18:30:58.785Z"
   },
   {
    "duration": -1110,
    "start_time": "2022-03-15T18:30:58.790Z"
   },
   {
    "duration": -1114,
    "start_time": "2022-03-15T18:30:58.796Z"
   },
   {
    "duration": -1118,
    "start_time": "2022-03-15T18:30:58.801Z"
   },
   {
    "duration": -1121,
    "start_time": "2022-03-15T18:30:58.806Z"
   },
   {
    "duration": -1125,
    "start_time": "2022-03-15T18:30:58.811Z"
   },
   {
    "duration": -1128,
    "start_time": "2022-03-15T18:30:58.817Z"
   },
   {
    "duration": -1162,
    "start_time": "2022-03-15T18:30:58.852Z"
   },
   {
    "duration": -1166,
    "start_time": "2022-03-15T18:30:58.858Z"
   },
   {
    "duration": -1170,
    "start_time": "2022-03-15T18:30:58.863Z"
   },
   {
    "duration": -1175,
    "start_time": "2022-03-15T18:30:58.869Z"
   },
   {
    "duration": -1180,
    "start_time": "2022-03-15T18:30:58.875Z"
   },
   {
    "duration": -1187,
    "start_time": "2022-03-15T18:30:58.882Z"
   },
   {
    "duration": -1192,
    "start_time": "2022-03-15T18:30:58.888Z"
   },
   {
    "duration": -1198,
    "start_time": "2022-03-15T18:30:58.895Z"
   },
   {
    "duration": -1204,
    "start_time": "2022-03-15T18:30:58.902Z"
   },
   {
    "duration": -1209,
    "start_time": "2022-03-15T18:30:58.908Z"
   },
   {
    "duration": -1258,
    "start_time": "2022-03-15T18:30:58.958Z"
   },
   {
    "duration": -1276,
    "start_time": "2022-03-15T18:30:58.977Z"
   },
   {
    "duration": -1279,
    "start_time": "2022-03-15T18:30:58.981Z"
   },
   {
    "duration": -1284,
    "start_time": "2022-03-15T18:30:58.987Z"
   },
   {
    "duration": -1288,
    "start_time": "2022-03-15T18:30:58.992Z"
   },
   {
    "duration": -1292,
    "start_time": "2022-03-15T18:30:58.998Z"
   },
   {
    "duration": -1295,
    "start_time": "2022-03-15T18:30:59.002Z"
   },
   {
    "duration": -1300,
    "start_time": "2022-03-15T18:30:59.008Z"
   },
   {
    "duration": -1303,
    "start_time": "2022-03-15T18:30:59.012Z"
   },
   {
    "duration": -1307,
    "start_time": "2022-03-15T18:30:59.018Z"
   },
   {
    "duration": 4,
    "start_time": "2022-03-15T18:31:11.301Z"
   },
   {
    "duration": 31,
    "start_time": "2022-03-15T18:31:11.307Z"
   },
   {
    "duration": 9,
    "start_time": "2022-03-15T18:31:11.339Z"
   },
   {
    "duration": 4,
    "start_time": "2022-03-15T18:31:11.350Z"
   },
   {
    "duration": 8,
    "start_time": "2022-03-15T18:31:11.356Z"
   },
   {
    "duration": 16,
    "start_time": "2022-03-15T18:31:11.366Z"
   },
   {
    "duration": 3,
    "start_time": "2022-03-15T18:31:11.384Z"
   },
   {
    "duration": 24,
    "start_time": "2022-03-15T18:31:11.389Z"
   },
   {
    "duration": 8,
    "start_time": "2022-03-15T18:31:11.414Z"
   },
   {
    "duration": 14,
    "start_time": "2022-03-15T18:31:11.424Z"
   },
   {
    "duration": 45,
    "start_time": "2022-03-15T18:31:11.440Z"
   },
   {
    "duration": 4,
    "start_time": "2022-03-15T18:31:11.487Z"
   },
   {
    "duration": 137,
    "start_time": "2022-03-15T18:31:11.494Z"
   },
   {
    "duration": 123,
    "start_time": "2022-03-15T18:31:11.633Z"
   },
   {
    "duration": 123,
    "start_time": "2022-03-15T18:31:11.758Z"
   },
   {
    "duration": 128,
    "start_time": "2022-03-15T18:31:11.883Z"
   },
   {
    "duration": 140,
    "start_time": "2022-03-15T18:31:12.013Z"
   },
   {
    "duration": 239,
    "start_time": "2022-03-15T18:31:12.155Z"
   },
   {
    "duration": 628,
    "start_time": "2022-03-15T18:31:12.398Z"
   },
   {
    "duration": 6,
    "start_time": "2022-03-15T18:31:13.029Z"
   },
   {
    "duration": 16,
    "start_time": "2022-03-15T18:31:13.036Z"
   },
   {
    "duration": 21,
    "start_time": "2022-03-15T18:31:13.053Z"
   },
   {
    "duration": 7,
    "start_time": "2022-03-15T18:31:13.076Z"
   },
   {
    "duration": 24,
    "start_time": "2022-03-15T18:31:13.084Z"
   },
   {
    "duration": 14,
    "start_time": "2022-03-15T18:31:13.110Z"
   },
   {
    "duration": 16,
    "start_time": "2022-03-15T18:31:13.125Z"
   },
   {
    "duration": 30,
    "start_time": "2022-03-15T18:31:13.142Z"
   },
   {
    "duration": 33,
    "start_time": "2022-03-15T18:31:13.173Z"
   },
   {
    "duration": 27,
    "start_time": "2022-03-15T18:31:13.208Z"
   },
   {
    "duration": 6,
    "start_time": "2022-03-15T18:31:13.237Z"
   },
   {
    "duration": 46,
    "start_time": "2022-03-15T18:31:13.244Z"
   },
   {
    "duration": 931,
    "start_time": "2022-03-15T18:31:13.292Z"
   },
   {
    "duration": 36488,
    "start_time": "2022-03-15T18:31:14.225Z"
   },
   {
    "duration": 397,
    "start_time": "2022-03-15T18:31:50.715Z"
   },
   {
    "duration": 75,
    "start_time": "2022-03-15T18:31:51.113Z"
   },
   {
    "duration": 540,
    "start_time": "2022-03-15T18:31:51.191Z"
   },
   {
    "duration": 137703,
    "start_time": "2022-03-15T18:31:51.732Z"
   },
   {
    "duration": 13,
    "start_time": "2022-03-15T18:34:09.437Z"
   },
   {
    "duration": 52,
    "start_time": "2022-03-15T18:34:09.451Z"
   },
   {
    "duration": 659,
    "start_time": "2022-03-15T18:34:09.588Z"
   },
   {
    "duration": 20,
    "start_time": "2022-03-15T18:34:16.875Z"
   },
   {
    "duration": 80,
    "start_time": "2022-03-15T18:34:19.904Z"
   },
   {
    "duration": 568,
    "start_time": "2022-03-15T18:34:23.864Z"
   },
   {
    "duration": 214875,
    "start_time": "2022-03-15T18:34:54.261Z"
   },
   {
    "duration": 89,
    "start_time": "2022-03-15T18:38:29.138Z"
   },
   {
    "duration": 16,
    "start_time": "2022-03-15T18:38:55.688Z"
   },
   {
    "duration": 24,
    "start_time": "2022-03-15T18:38:59.410Z"
   },
   {
    "duration": 238,
    "start_time": "2022-03-15T18:39:04.234Z"
   },
   {
    "duration": 81201,
    "start_time": "2022-03-15T18:39:18.581Z"
   },
   {
    "duration": 2380,
    "start_time": "2022-03-15T18:53:30.268Z"
   },
   {
    "duration": 1990,
    "start_time": "2022-03-15T18:54:10.574Z"
   },
   {
    "duration": 97,
    "start_time": "2022-03-15T18:54:55.119Z"
   },
   {
    "duration": 7,
    "start_time": "2022-03-15T18:56:27.203Z"
   },
   {
    "duration": 91,
    "start_time": "2022-03-15T18:56:59.401Z"
   },
   {
    "duration": 11,
    "start_time": "2022-03-15T18:58:02.050Z"
   },
   {
    "duration": 1793,
    "start_time": "2022-03-15T18:58:59.379Z"
   },
   {
    "duration": 2656,
    "start_time": "2022-03-15T19:01:04.033Z"
   },
   {
    "duration": 16,
    "start_time": "2022-03-15T19:02:43.664Z"
   },
   {
    "duration": 2683,
    "start_time": "2022-03-15T19:02:45.931Z"
   },
   {
    "duration": 16,
    "start_time": "2022-03-15T19:02:54.053Z"
   },
   {
    "duration": 2924,
    "start_time": "2022-03-15T19:02:56.415Z"
   },
   {
    "duration": 2488,
    "start_time": "2022-03-15T19:03:57.880Z"
   },
   {
    "duration": 296,
    "start_time": "2022-03-15T19:07:11.523Z"
   },
   {
    "duration": 11,
    "start_time": "2022-03-15T19:07:21.767Z"
   },
   {
    "duration": 1755,
    "start_time": "2022-03-15T19:07:24.144Z"
   },
   {
    "duration": 16,
    "start_time": "2022-03-15T19:07:30.253Z"
   },
   {
    "duration": 2541,
    "start_time": "2022-03-15T19:07:32.920Z"
   },
   {
    "duration": 10,
    "start_time": "2022-03-15T19:07:42.018Z"
   },
   {
    "duration": 1945,
    "start_time": "2022-03-15T19:07:44.221Z"
   },
   {
    "duration": 12,
    "start_time": "2022-03-15T19:07:49.863Z"
   },
   {
    "duration": 2148,
    "start_time": "2022-03-15T19:07:53.191Z"
   },
   {
    "duration": 72,
    "start_time": "2022-03-15T19:10:58.784Z"
   },
   {
    "duration": 1587,
    "start_time": "2022-03-16T05:39:14.729Z"
   },
   {
    "duration": 31,
    "start_time": "2022-03-16T05:39:16.319Z"
   },
   {
    "duration": 25,
    "start_time": "2022-03-16T05:39:16.353Z"
   },
   {
    "duration": 11,
    "start_time": "2022-03-16T05:39:16.380Z"
   },
   {
    "duration": 14,
    "start_time": "2022-03-16T05:39:16.393Z"
   },
   {
    "duration": 20,
    "start_time": "2022-03-16T05:39:16.409Z"
   },
   {
    "duration": 41,
    "start_time": "2022-03-16T05:39:16.432Z"
   },
   {
    "duration": 18,
    "start_time": "2022-03-16T05:39:16.477Z"
   },
   {
    "duration": 7,
    "start_time": "2022-03-16T05:39:16.498Z"
   },
   {
    "duration": 16,
    "start_time": "2022-03-16T05:39:16.507Z"
   },
   {
    "duration": 88,
    "start_time": "2022-03-16T05:39:16.525Z"
   },
   {
    "duration": 4,
    "start_time": "2022-03-16T05:39:16.615Z"
   },
   {
    "duration": 228,
    "start_time": "2022-03-16T05:39:16.621Z"
   },
   {
    "duration": 216,
    "start_time": "2022-03-16T05:39:16.851Z"
   },
   {
    "duration": 206,
    "start_time": "2022-03-16T05:39:17.073Z"
   },
   {
    "duration": 219,
    "start_time": "2022-03-16T05:39:17.281Z"
   },
   {
    "duration": 236,
    "start_time": "2022-03-16T05:39:17.502Z"
   },
   {
    "duration": 372,
    "start_time": "2022-03-16T05:39:17.741Z"
   },
   {
    "duration": 1101,
    "start_time": "2022-03-16T05:39:18.115Z"
   },
   {
    "duration": 9,
    "start_time": "2022-03-16T05:39:19.219Z"
   },
   {
    "duration": 12,
    "start_time": "2022-03-16T05:39:19.230Z"
   },
   {
    "duration": 31,
    "start_time": "2022-03-16T05:39:19.244Z"
   },
   {
    "duration": 8,
    "start_time": "2022-03-16T05:39:19.280Z"
   },
   {
    "duration": 16,
    "start_time": "2022-03-16T05:39:19.291Z"
   },
   {
    "duration": 10,
    "start_time": "2022-03-16T05:39:19.310Z"
   },
   {
    "duration": 52,
    "start_time": "2022-03-16T05:39:19.322Z"
   },
   {
    "duration": 21,
    "start_time": "2022-03-16T05:39:19.377Z"
   },
   {
    "duration": 27,
    "start_time": "2022-03-16T05:39:19.401Z"
   },
   {
    "duration": 68,
    "start_time": "2022-03-16T05:39:19.430Z"
   },
   {
    "duration": 9,
    "start_time": "2022-03-16T05:39:19.501Z"
   },
   {
    "duration": 71,
    "start_time": "2022-03-16T05:39:19.512Z"
   },
   {
    "duration": 1147,
    "start_time": "2022-03-16T05:39:19.675Z"
   },
   {
    "duration": 57916,
    "start_time": "2022-03-16T05:39:20.825Z"
   },
   {
    "duration": 596,
    "start_time": "2022-03-16T05:40:18.743Z"
   },
   {
    "duration": 139,
    "start_time": "2022-03-16T05:40:19.341Z"
   },
   {
    "duration": 765,
    "start_time": "2022-03-16T05:40:19.483Z"
   },
   {
    "duration": 211002,
    "start_time": "2022-03-16T05:40:20.251Z"
   },
   {
    "duration": 33,
    "start_time": "2022-03-16T05:43:51.255Z"
   },
   {
    "duration": 183,
    "start_time": "2022-03-16T05:43:51.291Z"
   },
   {
    "duration": 949,
    "start_time": "2022-03-16T05:43:51.477Z"
   },
   {
    "duration": 314965,
    "start_time": "2022-03-16T05:43:52.428Z"
   },
   {
    "duration": 21,
    "start_time": "2022-03-16T05:49:07.395Z"
   },
   {
    "duration": 158,
    "start_time": "2022-03-16T05:49:07.418Z"
   },
   {
    "duration": 367,
    "start_time": "2022-03-16T05:49:07.579Z"
   },
   {
    "duration": 111983,
    "start_time": "2022-03-16T05:49:07.949Z"
   },
   {
    "duration": 3449,
    "start_time": "2022-03-16T05:50:59.935Z"
   },
   {
    "duration": 9,
    "start_time": "2022-03-16T05:51:03.386Z"
   },
   {
    "duration": 17,
    "start_time": "2022-03-16T05:51:03.397Z"
   },
   {
    "duration": 4028,
    "start_time": "2022-03-16T05:51:03.416Z"
   }
  ],
  "kernelspec": {
   "display_name": "Python 3",
   "language": "python",
   "name": "python3"
  },
  "language_info": {
   "codemirror_mode": {
    "name": "ipython",
    "version": 3
   },
   "file_extension": ".py",
   "mimetype": "text/x-python",
   "name": "python",
   "nbconvert_exporter": "python",
   "pygments_lexer": "ipython3",
   "version": "3.7.8"
  },
  "toc": {
   "base_numbering": 1,
   "nav_menu": {},
   "number_sections": true,
   "sideBar": true,
   "skip_h1_title": true,
   "title_cell": "Содержание",
   "title_sidebar": "Contents",
   "toc_cell": true,
   "toc_position": {
    "height": "calc(100% - 180px)",
    "left": "10px",
    "top": "150px",
    "width": "289.6px"
   },
   "toc_section_display": true,
   "toc_window_display": true
  }
 },
 "nbformat": 4,
 "nbformat_minor": 2
}
