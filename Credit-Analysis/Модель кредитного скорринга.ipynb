{
 "cells": [
  {
   "cell_type": "markdown",
   "metadata": {},
   "source": [
    "# Исследование надёжности заёмщиков\n",
    "\n",
    "Заказчик — кредитный отдел банка. Нужно разобраться, влияет ли семейное положение и количество детей клиента на факт погашения кредита в срок. Входные данные от банка — статистика о платёжеспособности клиентов.\n",
    "\n",
    "Результаты исследования будут учтены при построении модели **кредитного скоринга** — специальной системы, которая оценивает способность потенциального заёмщика вернуть кредит банку."
   ]
  },
  {
   "cell_type": "markdown",
   "metadata": {},
   "source": [
    "## Шаг 1. Откройте файл с данными и изучите общую информацию"
   ]
  },
  {
   "cell_type": "code",
   "execution_count": 1,
   "metadata": {},
   "outputs": [
    {
     "name": "stdout",
     "output_type": "stream",
     "text": [
      "<class 'pandas.core.frame.DataFrame'>\n",
      "RangeIndex: 21525 entries, 0 to 21524\n",
      "Data columns (total 12 columns):\n",
      "children            21525 non-null int64\n",
      "days_employed       19351 non-null float64\n",
      "dob_years           21525 non-null int64\n",
      "education           21525 non-null object\n",
      "education_id        21525 non-null int64\n",
      "family_status       21525 non-null object\n",
      "family_status_id    21525 non-null int64\n",
      "gender              21525 non-null object\n",
      "income_type         21525 non-null object\n",
      "debt                21525 non-null int64\n",
      "total_income        19351 non-null float64\n",
      "purpose             21525 non-null object\n",
      "dtypes: float64(2), int64(5), object(5)\n",
      "memory usage: 2.0+ MB\n"
     ]
    },
    {
     "data": {
      "text/plain": [
       "children               0\n",
       "days_employed       2174\n",
       "dob_years              0\n",
       "education              0\n",
       "education_id           0\n",
       "family_status          0\n",
       "family_status_id       0\n",
       "gender                 0\n",
       "income_type            0\n",
       "debt                   0\n",
       "total_income        2174\n",
       "purpose                0\n",
       "dtype: int64"
      ]
     },
     "metadata": {},
     "output_type": "display_data"
    },
    {
     "data": {
      "text/html": [
       "<div>\n",
       "<style scoped>\n",
       "    .dataframe tbody tr th:only-of-type {\n",
       "        vertical-align: middle;\n",
       "    }\n",
       "\n",
       "    .dataframe tbody tr th {\n",
       "        vertical-align: top;\n",
       "    }\n",
       "\n",
       "    .dataframe thead th {\n",
       "        text-align: right;\n",
       "    }\n",
       "</style>\n",
       "<table border=\"1\" class=\"dataframe\">\n",
       "  <thead>\n",
       "    <tr style=\"text-align: right;\">\n",
       "      <th></th>\n",
       "      <th>children</th>\n",
       "      <th>days_employed</th>\n",
       "      <th>dob_years</th>\n",
       "      <th>education</th>\n",
       "      <th>education_id</th>\n",
       "      <th>family_status</th>\n",
       "      <th>family_status_id</th>\n",
       "      <th>gender</th>\n",
       "      <th>income_type</th>\n",
       "      <th>debt</th>\n",
       "      <th>total_income</th>\n",
       "      <th>purpose</th>\n",
       "    </tr>\n",
       "  </thead>\n",
       "  <tbody>\n",
       "    <tr>\n",
       "      <td>0</td>\n",
       "      <td>1</td>\n",
       "      <td>-8437.673028</td>\n",
       "      <td>42</td>\n",
       "      <td>высшее</td>\n",
       "      <td>0</td>\n",
       "      <td>женат / замужем</td>\n",
       "      <td>0</td>\n",
       "      <td>F</td>\n",
       "      <td>сотрудник</td>\n",
       "      <td>0</td>\n",
       "      <td>253875.639453</td>\n",
       "      <td>покупка жилья</td>\n",
       "    </tr>\n",
       "    <tr>\n",
       "      <td>1</td>\n",
       "      <td>1</td>\n",
       "      <td>-4024.803754</td>\n",
       "      <td>36</td>\n",
       "      <td>среднее</td>\n",
       "      <td>1</td>\n",
       "      <td>женат / замужем</td>\n",
       "      <td>0</td>\n",
       "      <td>F</td>\n",
       "      <td>сотрудник</td>\n",
       "      <td>0</td>\n",
       "      <td>112080.014102</td>\n",
       "      <td>приобретение автомобиля</td>\n",
       "    </tr>\n",
       "    <tr>\n",
       "      <td>2</td>\n",
       "      <td>0</td>\n",
       "      <td>-5623.422610</td>\n",
       "      <td>33</td>\n",
       "      <td>Среднее</td>\n",
       "      <td>1</td>\n",
       "      <td>женат / замужем</td>\n",
       "      <td>0</td>\n",
       "      <td>M</td>\n",
       "      <td>сотрудник</td>\n",
       "      <td>0</td>\n",
       "      <td>145885.952297</td>\n",
       "      <td>покупка жилья</td>\n",
       "    </tr>\n",
       "    <tr>\n",
       "      <td>3</td>\n",
       "      <td>3</td>\n",
       "      <td>-4124.747207</td>\n",
       "      <td>32</td>\n",
       "      <td>среднее</td>\n",
       "      <td>1</td>\n",
       "      <td>женат / замужем</td>\n",
       "      <td>0</td>\n",
       "      <td>M</td>\n",
       "      <td>сотрудник</td>\n",
       "      <td>0</td>\n",
       "      <td>267628.550329</td>\n",
       "      <td>дополнительное образование</td>\n",
       "    </tr>\n",
       "    <tr>\n",
       "      <td>4</td>\n",
       "      <td>0</td>\n",
       "      <td>340266.072047</td>\n",
       "      <td>53</td>\n",
       "      <td>среднее</td>\n",
       "      <td>1</td>\n",
       "      <td>гражданский брак</td>\n",
       "      <td>1</td>\n",
       "      <td>F</td>\n",
       "      <td>пенсионер</td>\n",
       "      <td>0</td>\n",
       "      <td>158616.077870</td>\n",
       "      <td>сыграть свадьбу</td>\n",
       "    </tr>\n",
       "    <tr>\n",
       "      <td>5</td>\n",
       "      <td>0</td>\n",
       "      <td>-926.185831</td>\n",
       "      <td>27</td>\n",
       "      <td>высшее</td>\n",
       "      <td>0</td>\n",
       "      <td>гражданский брак</td>\n",
       "      <td>1</td>\n",
       "      <td>M</td>\n",
       "      <td>компаньон</td>\n",
       "      <td>0</td>\n",
       "      <td>255763.565419</td>\n",
       "      <td>покупка жилья</td>\n",
       "    </tr>\n",
       "    <tr>\n",
       "      <td>6</td>\n",
       "      <td>0</td>\n",
       "      <td>-2879.202052</td>\n",
       "      <td>43</td>\n",
       "      <td>высшее</td>\n",
       "      <td>0</td>\n",
       "      <td>женат / замужем</td>\n",
       "      <td>0</td>\n",
       "      <td>F</td>\n",
       "      <td>компаньон</td>\n",
       "      <td>0</td>\n",
       "      <td>240525.971920</td>\n",
       "      <td>операции с жильем</td>\n",
       "    </tr>\n",
       "    <tr>\n",
       "      <td>7</td>\n",
       "      <td>0</td>\n",
       "      <td>-152.779569</td>\n",
       "      <td>50</td>\n",
       "      <td>СРЕДНЕЕ</td>\n",
       "      <td>1</td>\n",
       "      <td>женат / замужем</td>\n",
       "      <td>0</td>\n",
       "      <td>M</td>\n",
       "      <td>сотрудник</td>\n",
       "      <td>0</td>\n",
       "      <td>135823.934197</td>\n",
       "      <td>образование</td>\n",
       "    </tr>\n",
       "    <tr>\n",
       "      <td>8</td>\n",
       "      <td>2</td>\n",
       "      <td>-6929.865299</td>\n",
       "      <td>35</td>\n",
       "      <td>ВЫСШЕЕ</td>\n",
       "      <td>0</td>\n",
       "      <td>гражданский брак</td>\n",
       "      <td>1</td>\n",
       "      <td>F</td>\n",
       "      <td>сотрудник</td>\n",
       "      <td>0</td>\n",
       "      <td>95856.832424</td>\n",
       "      <td>на проведение свадьбы</td>\n",
       "    </tr>\n",
       "    <tr>\n",
       "      <td>9</td>\n",
       "      <td>0</td>\n",
       "      <td>-2188.756445</td>\n",
       "      <td>41</td>\n",
       "      <td>среднее</td>\n",
       "      <td>1</td>\n",
       "      <td>женат / замужем</td>\n",
       "      <td>0</td>\n",
       "      <td>M</td>\n",
       "      <td>сотрудник</td>\n",
       "      <td>0</td>\n",
       "      <td>144425.938277</td>\n",
       "      <td>покупка жилья для семьи</td>\n",
       "    </tr>\n",
       "  </tbody>\n",
       "</table>\n",
       "</div>"
      ],
      "text/plain": [
       "   children  days_employed  dob_years education  education_id  \\\n",
       "0         1   -8437.673028         42    высшее             0   \n",
       "1         1   -4024.803754         36   среднее             1   \n",
       "2         0   -5623.422610         33   Среднее             1   \n",
       "3         3   -4124.747207         32   среднее             1   \n",
       "4         0  340266.072047         53   среднее             1   \n",
       "5         0    -926.185831         27    высшее             0   \n",
       "6         0   -2879.202052         43    высшее             0   \n",
       "7         0    -152.779569         50   СРЕДНЕЕ             1   \n",
       "8         2   -6929.865299         35    ВЫСШЕЕ             0   \n",
       "9         0   -2188.756445         41   среднее             1   \n",
       "\n",
       "      family_status  family_status_id gender income_type  debt   total_income  \\\n",
       "0   женат / замужем                 0      F   сотрудник     0  253875.639453   \n",
       "1   женат / замужем                 0      F   сотрудник     0  112080.014102   \n",
       "2   женат / замужем                 0      M   сотрудник     0  145885.952297   \n",
       "3   женат / замужем                 0      M   сотрудник     0  267628.550329   \n",
       "4  гражданский брак                 1      F   пенсионер     0  158616.077870   \n",
       "5  гражданский брак                 1      M   компаньон     0  255763.565419   \n",
       "6   женат / замужем                 0      F   компаньон     0  240525.971920   \n",
       "7   женат / замужем                 0      M   сотрудник     0  135823.934197   \n",
       "8  гражданский брак                 1      F   сотрудник     0   95856.832424   \n",
       "9   женат / замужем                 0      M   сотрудник     0  144425.938277   \n",
       "\n",
       "                      purpose  \n",
       "0               покупка жилья  \n",
       "1     приобретение автомобиля  \n",
       "2               покупка жилья  \n",
       "3  дополнительное образование  \n",
       "4             сыграть свадьбу  \n",
       "5               покупка жилья  \n",
       "6           операции с жильем  \n",
       "7                 образование  \n",
       "8       на проведение свадьбы  \n",
       "9     покупка жилья для семьи  "
      ]
     },
     "execution_count": 1,
     "metadata": {},
     "output_type": "execute_result"
    }
   ],
   "source": [
    "import pandas as pd\n",
    "from pymystem3 import Mystem\n",
    "from collections import Counter\n",
    "\n",
    "df = pd.read_csv('/datasets/data.csv')\n",
    "df.info()\n",
    "display(df.isna().sum())#количество имеющихся пропусков во всём фрейме\n",
    "df.head(10)"
   ]
  },
  {
   "cell_type": "markdown",
   "metadata": {},
   "source": [
    "**Вывод**"
   ]
  },
  {
   "cell_type": "markdown",
   "metadata": {},
   "source": [
    "Данные представлены 12 столбцами и 21525 строками:\n",
    "- children — количество детей в семье (int64)\n",
    "- days_employed — общий трудовой стаж в днях (float64)\n",
    "- dob_years — возраст клиента в годах (int64)\n",
    "- education — уровень образования клиента (object)\n",
    "- education_id — идентификатор уровня образования (int64)\n",
    "- family_status — семейное положение (object)\n",
    "- family_status_id — идентификатор семейного положения (int64)\n",
    "- gender — пол клиента (object)\n",
    "- income_type — тип занятости (object)\n",
    "- debt — имел ли задолженность по возврату кредитов: либо True, либо False (int64)\n",
    "- total_income — ежемесячный доход (float64)\n",
    "- purpose — цель получения кредита (object)"
   ]
  },
  {
   "cell_type": "markdown",
   "metadata": {},
   "source": [
    "В столбцах *days_employed* и *total_income* наблюдаю пропуски, причём значение количества для этих столбцов равно и составляет - 19351 из 21525. Возможно имеется какая-то связь возникновения таких пропусков. К тому же в столбце *days_employed* наблюдаются отрицательные значения. Данное поведение буду расценивать пока как артефакт, к которому обращусь на одном из шагов обработки данных.\n",
    "\n",
    "В стобце *education* различный регистр записи - приведу к единому отображению данных.\n",
    "\n",
    "Так как согласно основной гипотезе исследования нужно разобраться, влияет ли семейное положение и количество детей у клиента на факт погашения кредита в срок, то основными показателями для вывода по гипотезе буду считать семейное положение, количество детей клиента, ежемесячный доход и наличие задолженности у клиента."
   ]
  },
  {
   "cell_type": "markdown",
   "metadata": {},
   "source": [
    "## Шаг 2. Предобработка данных"
   ]
  },
  {
   "cell_type": "markdown",
   "metadata": {},
   "source": [
    "Прежде чем приступить к обработке пропусков поясню логику действий.\n",
    "Имеется два столбца с пропусками *days_employed* и *total_income* оба они являются количественными, а значит обработка должна вестись как с количественными переменными. В работу пока возьму *total_income*. Здесь для замены пропусков корректней всего взять медиану по ежемесячному доходу, однако есть один момент на который стоит обратить внимание, медиану, как я считаю и буду использовать, я буду брать по типу *income_type*, т.е.  по типу занятости клиента, а не по всему стобцу *total_income*. В рамках данного исследования считаю это наиболее обоснованным."
   ]
  },
  {
   "cell_type": "markdown",
   "metadata": {},
   "source": [
    "### Обработка пропусков"
   ]
  },
  {
   "cell_type": "code",
   "execution_count": 2,
   "metadata": {},
   "outputs": [
    {
     "data": {
      "text/plain": [
       "array(['сотрудник', 'пенсионер', 'компаньон', 'госслужащий',\n",
       "       'безработный', 'предприниматель', 'студент', 'в декрете'],\n",
       "      dtype=object)"
      ]
     },
     "execution_count": 2,
     "metadata": {},
     "output_type": "execute_result"
    }
   ],
   "source": [
    "df['income_type'].unique() #узнал и проверил уникальные значения для типов занятости клиентов"
   ]
  },
  {
   "cell_type": "code",
   "execution_count": 3,
   "metadata": {},
   "outputs": [
    {
     "name": "stdout",
     "output_type": "stream",
     "text": [
      "0        142594.396847\n",
      "1        142594.396847\n",
      "2        142594.396847\n",
      "3        142594.396847\n",
      "4        118514.486412\n",
      "             ...      \n",
      "21520    172357.950966\n",
      "21521    118514.486412\n",
      "21522    142594.396847\n",
      "21523    142594.396847\n",
      "21524    142594.396847\n",
      "Name: total_income, Length: 21525, dtype: float64\n"
     ]
    }
   ],
   "source": [
    "#медианное значение ежемесячного дохода для каждой категории в столбце total_income \n",
    "median_income_type = df.groupby('income_type')['total_income'].transform('median')\n",
    "print(median_income_type)"
   ]
  },
  {
   "cell_type": "code",
   "execution_count": 4,
   "metadata": {},
   "outputs": [
    {
     "data": {
      "text/plain": [
       "children               0\n",
       "days_employed       2174\n",
       "dob_years              0\n",
       "education              0\n",
       "education_id           0\n",
       "family_status          0\n",
       "family_status_id       0\n",
       "gender                 0\n",
       "income_type            0\n",
       "debt                   0\n",
       "total_income           0\n",
       "purpose                0\n",
       "dtype: int64"
      ]
     },
     "metadata": {},
     "output_type": "display_data"
    }
   ],
   "source": [
    "#заменю все пропущенные значения в столбце total_income на медианные значения для каждого типа занятости\n",
    "df['total_income'] = df['total_income'].fillna(median_income_type)\n",
    "#проверю на наличие пропущенных значений по данному столбцу\n",
    "display(df.isna().sum())"
   ]
  },
  {
   "cell_type": "code",
   "execution_count": 5,
   "metadata": {},
   "outputs": [
    {
     "data": {
      "text/plain": [
       "income_type\n",
       "безработный            2\n",
       "в декрете              1\n",
       "госслужащий         1312\n",
       "компаньон           4577\n",
       "пенсионер           3443\n",
       "предприниматель        1\n",
       "сотрудник          10014\n",
       "студент                1\n",
       "Name: days_employed, dtype: int64"
      ]
     },
     "metadata": {},
     "output_type": "display_data"
    },
    {
     "data": {
      "text/plain": [
       "income_type\n",
       "безработный        7.328273e+05\n",
       "в декрете         -3.296760e+03\n",
       "госслужащий       -4.460665e+06\n",
       "компаньон         -9.664447e+06\n",
       "пенсионер          1.256707e+09\n",
       "предприниматель   -5.208481e+02\n",
       "сотрудник         -2.329756e+07\n",
       "студент           -5.787516e+02\n",
       "Name: days_employed, dtype: float64"
      ]
     },
     "metadata": {},
     "output_type": "display_data"
    }
   ],
   "source": [
    "#какой категории занятости клиентов больше всех принадлежит количество записей о трудовом стаже\n",
    "display(df.groupby('income_type')['days_employed'].count())\n",
    "#какое суммарное количество отработанных дней у каждой категории (делаю для выявления артефакта отображения)\n",
    "display(df.groupby('income_type')['days_employed'].sum())"
   ]
  },
  {
   "cell_type": "markdown",
   "metadata": {},
   "source": [
    "Исходя из полученных данных у двух безработных сумма трудовых дней превышает остальные данные, а у сотрудников (самой большой категории по типу занятости) количество отработанных дней в большом минусе. Могу сделать вывод, что при получении данных могла возникнуть как технологическая ошибка. Допустим в анкете стоит обратный отсчёт, либо ошибка возникла в случае человеческого фактора. Но в любом случае с этой категорией данных работать нет необходимости. Данные из этого стобца не влияют на гипотезу, однако в реальном случае необходимо было бы проверить как принимаются эти данные по этому столбцу (сообщить коллегам о возможной проблеме). В рамках проекта я удалю данный столбец."
   ]
  },
  {
   "cell_type": "code",
   "execution_count": 6,
   "metadata": {},
   "outputs": [],
   "source": [
    "#удаляю столбец days_employed\n",
    "del df['days_employed']"
   ]
  },
  {
   "cell_type": "code",
   "execution_count": 7,
   "metadata": {},
   "outputs": [
    {
     "name": "stdout",
     "output_type": "stream",
     "text": [
      "<class 'pandas.core.frame.DataFrame'>\n",
      "RangeIndex: 21525 entries, 0 to 21524\n",
      "Data columns (total 11 columns):\n",
      "children            21525 non-null int64\n",
      "dob_years           21525 non-null int64\n",
      "education           21525 non-null object\n",
      "education_id        21525 non-null int64\n",
      "family_status       21525 non-null object\n",
      "family_status_id    21525 non-null int64\n",
      "gender              21525 non-null object\n",
      "income_type         21525 non-null object\n",
      "debt                21525 non-null int64\n",
      "total_income        21525 non-null float64\n",
      "purpose             21525 non-null object\n",
      "dtypes: float64(1), int64(5), object(5)\n",
      "memory usage: 1.8+ MB\n"
     ]
    }
   ],
   "source": [
    "#проверю произошло ли корректное исправление пропусков и удаление столбца\n",
    "df.info()"
   ]
  },
  {
   "cell_type": "markdown",
   "metadata": {},
   "source": [
    "Столбца нет, пропусков тоже нет."
   ]
  },
  {
   "cell_type": "markdown",
   "metadata": {},
   "source": [
    "**Вывод**"
   ]
  },
  {
   "cell_type": "markdown",
   "metadata": {},
   "source": [
    "После анализа данных было выявлено, что имеется два столбца с пропусками days_employed и total_income. Для дальнейшей корректной работы было принято решение, что в столбце total_income необходимо заменить пропуски на медианное значение в рамках категории занятости клиентов. А в столбце days_employed имеются артефакты, которые можно считать как ошибками технологическими и/или вследствие допущения человеческого фактора, для дальнейшей работы такой столбец не актуален и был удалён из таблицы."
   ]
  },
  {
   "cell_type": "markdown",
   "metadata": {},
   "source": [
    "### Замена типа данных"
   ]
  },
  {
   "cell_type": "code",
   "execution_count": 8,
   "metadata": {},
   "outputs": [
    {
     "name": "stdout",
     "output_type": "stream",
     "text": [
      "<class 'pandas.core.frame.DataFrame'>\n",
      "RangeIndex: 21525 entries, 0 to 21524\n",
      "Data columns (total 11 columns):\n",
      "children            21525 non-null int64\n",
      "dob_years           21525 non-null int64\n",
      "education           21525 non-null object\n",
      "education_id        21525 non-null int64\n",
      "family_status       21525 non-null object\n",
      "family_status_id    21525 non-null int64\n",
      "gender              21525 non-null object\n",
      "income_type         21525 non-null object\n",
      "debt                21525 non-null int64\n",
      "total_income        21525 non-null int64\n",
      "purpose             21525 non-null object\n",
      "dtypes: int64(6), object(5)\n",
      "memory usage: 1.8+ MB\n"
     ]
    }
   ],
   "source": [
    "#переведу total_income из вещевстенного в целочисленное значение\n",
    "\n",
    "df['total_income'] = df['total_income'].astype('int64')\n",
    "df.info()\n",
    "#display(df.head(30))"
   ]
  },
  {
   "cell_type": "markdown",
   "metadata": {},
   "source": [
    "**Вывод**"
   ]
  },
  {
   "cell_type": "markdown",
   "metadata": {},
   "source": [
    "В данном случае понадобилась лишь одна замена типа данных для визуальной чистоты. Все строковые значения должны оставаться в строковом значении, значения в столбце *total_income* были переведены в целочисленные. Использовал метод *astype('int64')*"
   ]
  },
  {
   "cell_type": "markdown",
   "metadata": {},
   "source": [
    "### Обработка дубликатов"
   ]
  },
  {
   "cell_type": "code",
   "execution_count": 9,
   "metadata": {},
   "outputs": [
    {
     "data": {
      "text/plain": [
       "54"
      ]
     },
     "execution_count": 9,
     "metadata": {},
     "output_type": "execute_result"
    }
   ],
   "source": [
    "#проверю на наличие дубликатов во всей таблице\n",
    "df.duplicated().sum()"
   ]
  },
  {
   "cell_type": "code",
   "execution_count": 10,
   "metadata": {},
   "outputs": [
    {
     "data": {
      "text/plain": [
       "среднее                13750\n",
       "высшее                  4718\n",
       "СРЕДНЕЕ                  772\n",
       "Среднее                  711\n",
       "неоконченное высшее      668\n",
       "ВЫСШЕЕ                   274\n",
       "Высшее                   268\n",
       "начальное                250\n",
       "Неоконченное высшее       47\n",
       "НЕОКОНЧЕННОЕ ВЫСШЕЕ       29\n",
       "НАЧАЛЬНОЕ                 17\n",
       "Начальное                 15\n",
       "ученая степень             4\n",
       "УЧЕНАЯ СТЕПЕНЬ             1\n",
       "Ученая степень             1\n",
       "Name: education, dtype: int64"
      ]
     },
     "execution_count": 10,
     "metadata": {},
     "output_type": "execute_result"
    }
   ],
   "source": [
    "#проверю на наличие дубликатов в столбце education можно и через Counter(df['education']), но визуально так лучше\n",
    "df['education'].value_counts()"
   ]
  },
  {
   "cell_type": "code",
   "execution_count": 11,
   "metadata": {},
   "outputs": [],
   "source": [
    "#приведу все значения столбца education к единому регистру\n",
    "df['education'] = df['education'].str.lower()"
   ]
  },
  {
   "cell_type": "code",
   "execution_count": 12,
   "metadata": {},
   "outputs": [
    {
     "data": {
      "text/plain": [
       "среднее                15233\n",
       "высшее                  5260\n",
       "неоконченное высшее      744\n",
       "начальное                282\n",
       "ученая степень             6\n",
       "Name: education, dtype: int64"
      ]
     },
     "execution_count": 12,
     "metadata": {},
     "output_type": "execute_result"
    }
   ],
   "source": [
    "#проверка\n",
    "df['education'].value_counts()"
   ]
  },
  {
   "cell_type": "code",
   "execution_count": 13,
   "metadata": {},
   "outputs": [
    {
     "data": {
      "text/plain": [
       "женат / замужем          12380\n",
       "гражданский брак          4177\n",
       "Не женат / не замужем     2813\n",
       "в разводе                 1195\n",
       "вдовец / вдова             960\n",
       "Name: family_status, dtype: int64"
      ]
     },
     "execution_count": 13,
     "metadata": {},
     "output_type": "execute_result"
    }
   ],
   "source": [
    "#проверю на наличие дубликатов в столбце family_status\n",
    "df['family_status'].value_counts()"
   ]
  },
  {
   "cell_type": "code",
   "execution_count": 14,
   "metadata": {},
   "outputs": [],
   "source": [
    "#дубликатов нет, но приведу все значения столбца family_status к единому регистру\n",
    "df['family_status'] = df['family_status'].str.lower()"
   ]
  },
  {
   "cell_type": "code",
   "execution_count": 15,
   "metadata": {},
   "outputs": [
    {
     "data": {
      "text/plain": [
       "женат / замужем          12380\n",
       "гражданский брак          4177\n",
       "не женат / не замужем     2813\n",
       "в разводе                 1195\n",
       "вдовец / вдова             960\n",
       "Name: family_status, dtype: int64"
      ]
     },
     "execution_count": 15,
     "metadata": {},
     "output_type": "execute_result"
    }
   ],
   "source": [
    "#проверка\n",
    "df['family_status'].value_counts()"
   ]
  },
  {
   "cell_type": "code",
   "execution_count": 16,
   "metadata": {},
   "outputs": [
    {
     "data": {
      "text/plain": [
       "F      14236\n",
       "M       7288\n",
       "XNA        1\n",
       "Name: gender, dtype: int64"
      ]
     },
     "execution_count": 16,
     "metadata": {},
     "output_type": "execute_result"
    }
   ],
   "source": [
    "#проверю на наличие дубликатов в столбце gender\n",
    "df['gender'].value_counts()"
   ]
  },
  {
   "cell_type": "code",
   "execution_count": 17,
   "metadata": {},
   "outputs": [],
   "source": [
    "#дубликатов нет, но присутствует некатегорийное значение - удалю \n",
    "df = df.drop(df[df['gender']=='XNA'].index)"
   ]
  },
  {
   "cell_type": "code",
   "execution_count": 18,
   "metadata": {},
   "outputs": [
    {
     "data": {
      "text/plain": [
       "F    14236\n",
       "M     7288\n",
       "Name: gender, dtype: int64"
      ]
     },
     "execution_count": 18,
     "metadata": {},
     "output_type": "execute_result"
    }
   ],
   "source": [
    "#проверка\n",
    "df['gender'].value_counts()"
   ]
  },
  {
   "cell_type": "code",
   "execution_count": 19,
   "metadata": {},
   "outputs": [
    {
     "data": {
      "text/plain": [
       " 0     14148\n",
       " 1      4818\n",
       " 2      2055\n",
       " 3       330\n",
       " 20       76\n",
       "-1        47\n",
       " 4        41\n",
       " 5         9\n",
       "Name: children, dtype: int64"
      ]
     },
     "execution_count": 19,
     "metadata": {},
     "output_type": "execute_result"
    }
   ],
   "source": [
    "#проверю на наличие дубликатов в столбце children\n",
    "df['children'].value_counts()"
   ]
  },
  {
   "cell_type": "code",
   "execution_count": 20,
   "metadata": {},
   "outputs": [],
   "source": [
    "#были выявлены не дубликаты, а возможно опечатки/ошибки при вводе значений\n",
    "#заменю -1 на 1, а 20 на 2\n",
    "df['children'] = df['children'].replace(-1, 1)\n",
    "df['children'] = df['children'].replace(20, 2)"
   ]
  },
  {
   "cell_type": "code",
   "execution_count": 21,
   "metadata": {},
   "outputs": [
    {
     "data": {
      "text/plain": [
       "0    14148\n",
       "1     4865\n",
       "2     2131\n",
       "3      330\n",
       "4       41\n",
       "5        9\n",
       "Name: children, dtype: int64"
      ]
     },
     "execution_count": 21,
     "metadata": {},
     "output_type": "execute_result"
    }
   ],
   "source": [
    "#проверка\n",
    "df['children'].value_counts()"
   ]
  },
  {
   "cell_type": "code",
   "execution_count": 22,
   "metadata": {},
   "outputs": [
    {
     "data": {
      "text/plain": [
       "35    617\n",
       "40    609\n",
       "41    607\n",
       "34    603\n",
       "38    598\n",
       "42    597\n",
       "33    581\n",
       "39    573\n",
       "31    560\n",
       "36    555\n",
       "44    547\n",
       "29    545\n",
       "30    540\n",
       "48    538\n",
       "37    537\n",
       "50    514\n",
       "43    513\n",
       "32    510\n",
       "49    508\n",
       "28    503\n",
       "45    497\n",
       "27    493\n",
       "56    487\n",
       "52    484\n",
       "47    480\n",
       "54    479\n",
       "46    475\n",
       "58    461\n",
       "57    460\n",
       "53    459\n",
       "51    448\n",
       "59    444\n",
       "55    443\n",
       "26    408\n",
       "60    377\n",
       "25    357\n",
       "61    355\n",
       "62    352\n",
       "63    269\n",
       "64    265\n",
       "24    263\n",
       "23    254\n",
       "65    194\n",
       "66    183\n",
       "22    183\n",
       "67    167\n",
       "21    111\n",
       "0     101\n",
       "68     99\n",
       "69     85\n",
       "70     65\n",
       "71     58\n",
       "20     51\n",
       "72     33\n",
       "19     14\n",
       "73      8\n",
       "74      6\n",
       "75      1\n",
       "Name: dob_years, dtype: int64"
      ]
     },
     "execution_count": 22,
     "metadata": {},
     "output_type": "execute_result"
    }
   ],
   "source": [
    "#осталось проверить столбец dob_years\n",
    "df['dob_years'].value_counts()"
   ]
  },
  {
   "cell_type": "code",
   "execution_count": 23,
   "metadata": {},
   "outputs": [],
   "source": [
    "#такая простая проверка позволила выявить некорректность в данных\n",
    "#есть клиенты с возрастом 0 и их 101 человек, явно ошибка при заполнении\n",
    "#общее количество клиентов в данной выборке 928317 поэтому я могу пренебречь таким маленьким процентом \n",
    "#и просто удалю это значение\n",
    "df = df.drop(df[df['dob_years'] == 0].index)"
   ]
  },
  {
   "cell_type": "code",
   "execution_count": 24,
   "metadata": {},
   "outputs": [
    {
     "data": {
      "text/plain": [
       "array([42, 36, 33, 32, 53, 27, 43, 50, 35, 41, 40, 65, 54, 56, 26, 48, 24,\n",
       "       21, 57, 67, 28, 63, 62, 47, 34, 68, 25, 31, 30, 20, 49, 37, 45, 61,\n",
       "       64, 44, 52, 46, 23, 38, 39, 51, 59, 29, 60, 55, 58, 71, 22, 73, 66,\n",
       "       69, 19, 72, 70, 74, 75])"
      ]
     },
     "execution_count": 24,
     "metadata": {},
     "output_type": "execute_result"
    }
   ],
   "source": [
    "#проверю, осталось ли это значение\n",
    "df['dob_years'].unique()"
   ]
  },
  {
   "cell_type": "code",
   "execution_count": 25,
   "metadata": {},
   "outputs": [],
   "source": [
    "#удалю все возможные дубликаты\n",
    "df = df.drop_duplicates().reset_index(drop = True)"
   ]
  },
  {
   "cell_type": "code",
   "execution_count": 26,
   "metadata": {},
   "outputs": [
    {
     "data": {
      "text/plain": [
       "0"
      ]
     },
     "execution_count": 26,
     "metadata": {},
     "output_type": "execute_result"
    }
   ],
   "source": [
    "#проверю на наличие дубликатов во всей таблице\n",
    "df.duplicated().sum()"
   ]
  },
  {
   "cell_type": "markdown",
   "metadata": {},
   "source": [
    "**Вывод**"
   ]
  },
  {
   "cell_type": "markdown",
   "metadata": {},
   "source": [
    "Все дубликаты удалены. Найденные артефакты исправлены, скорректированы возможные технологические ошибки или ошибки возникшие вследствие человеческого фактора. Значения столбцов *education* и *family_status* приведены к единому нижнему регистру."
   ]
  },
  {
   "cell_type": "markdown",
   "metadata": {},
   "source": [
    "### Лемматизация"
   ]
  },
  {
   "cell_type": "code",
   "execution_count": 27,
   "metadata": {},
   "outputs": [],
   "source": [
    "#присвою m библиотеку pymystem3 для лемматизации\n",
    "m = Mystem() "
   ]
  },
  {
   "cell_type": "code",
   "execution_count": 28,
   "metadata": {},
   "outputs": [
    {
     "data": {
      "text/plain": [
       "свадьба                                   786\n",
       "на проведение свадьбы                     764\n",
       "сыграть свадьбу                           760\n",
       "операции с недвижимостью                  672\n",
       "покупка коммерческой недвижимости         658\n",
       "покупка жилья для сдачи                   649\n",
       "операции с коммерческой недвижимостью     648\n",
       "операции с жильем                         646\n",
       "покупка жилья                             640\n",
       "жилье                                     640\n",
       "покупка жилья для семьи                   637\n",
       "строительство собственной недвижимости    633\n",
       "недвижимость                              629\n",
       "операции со своей недвижимостью           627\n",
       "строительство жилой недвижимости          621\n",
       "строительство недвижимости                619\n",
       "покупка своего жилья                      619\n",
       "покупка недвижимости                      617\n",
       "ремонт жилью                              605\n",
       "покупка жилой недвижимости                603\n",
       "на покупку своего автомобиля              502\n",
       "заняться высшим образованием              493\n",
       "автомобиль                                490\n",
       "сделка с подержанным автомобилем          484\n",
       "на покупку подержанного автомобиля        478\n",
       "автомобили                                476\n",
       "свой автомобиль                           475\n",
       "на покупку автомобиля                     466\n",
       "приобретение автомобиля                   459\n",
       "дополнительное образование                458\n",
       "сделка с автомобилем                      454\n",
       "высшее образование                        449\n",
       "образование                               444\n",
       "получение дополнительного образования     444\n",
       "получение образования                     441\n",
       "профильное образование                    435\n",
       "получение высшего образования             424\n",
       "заняться образованием                     407\n",
       "Name: purpose, dtype: int64"
      ]
     },
     "execution_count": 28,
     "metadata": {},
     "output_type": "execute_result"
    }
   ],
   "source": [
    "#по столбцу purpose узнаю все цели\n",
    "df['purpose'].value_counts()"
   ]
  },
  {
   "cell_type": "markdown",
   "metadata": {},
   "source": [
    "Из списка указанных целей могу выделить несколько основных целей:\n",
    "- свадьба;\n",
    "- недвижимость и имеется второе значение - жильё;\n",
    "- авто;\n",
    "- образование."
   ]
  },
  {
   "cell_type": "code",
   "execution_count": 29,
   "metadata": {},
   "outputs": [
    {
     "name": "stdout",
     "output_type": "stream",
     "text": [
      "Counter({'автомобиль': 966, 'свадьба': 786, 'на проведение свадьба': 764, 'сыграть свадьба': 760, 'операция с недвижимость': 672, 'покупка коммерческий недвижимость': 658, 'покупка жилье для сдача': 649, 'операция с коммерческий недвижимость': 648, 'операция с жилье': 646, 'покупка жилье': 640, 'жилье': 640, 'покупка жилье для семья': 637, 'строительство собственный недвижимость': 633, 'недвижимость': 629, 'операция со свой недвижимость': 627, 'строительство жилой недвижимость': 621, 'строительство недвижимость': 619, 'покупка свой жилье': 619, 'покупка недвижимость': 617, 'ремонт жилье': 605, 'покупка жилой недвижимость': 603, 'на покупка свой автомобиль': 502, 'заниматься высокий образование': 493, 'сделка с подержанный автомобиль': 484, 'на покупка подержать автомобиль': 478, 'свой автомобиль': 475, 'на покупка автомобиль': 466, 'приобретение автомобиль': 459, 'дополнительный образование': 458, 'сделка с автомобиль': 454, 'высокий образование': 449, 'образование': 444, 'получение дополнительный образование': 444, 'получение образование': 441, 'профильный образование': 435, 'получение высокий образование': 424, 'заниматься образование': 407})\n"
     ]
    }
   ],
   "source": [
    "#увидел в обсуждениях такой вариант, решил попробовать, но пока мой вариант (который выше) мне нравится больше,\n",
    "#но перепроверку провёл\n",
    "lemmas_list = []\n",
    "unique_purpose = df['purpose']\n",
    "m = Mystem()\n",
    "for purpose in unique_purpose:\n",
    "    try:\n",
    "        lemmas = ''.join(m.lemmatize(purpose)).strip()\n",
    "        lemmas_list.append(lemmas)\n",
    "    except:\n",
    "        print('Ошибка прохождения по целям')\n",
    "print(Counter(lemmas_list))"
   ]
  },
  {
   "cell_type": "code",
   "execution_count": 30,
   "metadata": {},
   "outputs": [],
   "source": [
    "#создам функцию. В ней будет переменная с леммитизированными значениями из столбца purpose,\n",
    "#которая будет проверять переменную функции и закидывать к какой цели можно определить\n",
    "\n",
    "def lemmatization(purpose):\n",
    "    lemmas = m.lemmatize(purpose)\n",
    "    lemma_name = []\n",
    "    try:\n",
    "        if ('жилье' in lemmas) or ('недвижимость' in lemmas):\n",
    "            lemma_name = 'недвижимость'\n",
    "            return lemma_name\n",
    "        if 'автомобиль' in lemmas:\n",
    "            lemma_name = 'автомобиль'\n",
    "            return lemma_name\n",
    "        if 'образование' in lemmas:\n",
    "            lemma_name = 'образование'\n",
    "            return lemma_name\n",
    "        if 'свадьба' in lemmas:\n",
    "            lemma_name = 'свадьба'\n",
    "            return lemma_name\n",
    "    except:\n",
    "        print('ошибка выбора цели')"
   ]
  },
  {
   "cell_type": "code",
   "execution_count": 31,
   "metadata": {},
   "outputs": [],
   "source": [
    "#объявлю новую переменную в которой соберу все значения функции\n",
    "lemma_purpose = df['purpose'].apply(lemmatization)\n",
    "#заменю прежние значения на 4 основные цели\n",
    "df['purpose'] = lemma_purpose"
   ]
  },
  {
   "cell_type": "code",
   "execution_count": 32,
   "metadata": {},
   "outputs": [
    {
     "data": {
      "text/html": [
       "<div>\n",
       "<style scoped>\n",
       "    .dataframe tbody tr th:only-of-type {\n",
       "        vertical-align: middle;\n",
       "    }\n",
       "\n",
       "    .dataframe tbody tr th {\n",
       "        vertical-align: top;\n",
       "    }\n",
       "\n",
       "    .dataframe thead th {\n",
       "        text-align: right;\n",
       "    }\n",
       "</style>\n",
       "<table border=\"1\" class=\"dataframe\">\n",
       "  <thead>\n",
       "    <tr style=\"text-align: right;\">\n",
       "      <th></th>\n",
       "      <th>children</th>\n",
       "      <th>dob_years</th>\n",
       "      <th>education</th>\n",
       "      <th>education_id</th>\n",
       "      <th>family_status</th>\n",
       "      <th>family_status_id</th>\n",
       "      <th>gender</th>\n",
       "      <th>income_type</th>\n",
       "      <th>debt</th>\n",
       "      <th>total_income</th>\n",
       "      <th>purpose</th>\n",
       "    </tr>\n",
       "  </thead>\n",
       "  <tbody>\n",
       "    <tr>\n",
       "      <td>0</td>\n",
       "      <td>1</td>\n",
       "      <td>42</td>\n",
       "      <td>высшее</td>\n",
       "      <td>0</td>\n",
       "      <td>женат / замужем</td>\n",
       "      <td>0</td>\n",
       "      <td>F</td>\n",
       "      <td>сотрудник</td>\n",
       "      <td>0</td>\n",
       "      <td>253875</td>\n",
       "      <td>недвижимость</td>\n",
       "    </tr>\n",
       "    <tr>\n",
       "      <td>1</td>\n",
       "      <td>1</td>\n",
       "      <td>36</td>\n",
       "      <td>среднее</td>\n",
       "      <td>1</td>\n",
       "      <td>женат / замужем</td>\n",
       "      <td>0</td>\n",
       "      <td>F</td>\n",
       "      <td>сотрудник</td>\n",
       "      <td>0</td>\n",
       "      <td>112080</td>\n",
       "      <td>автомобиль</td>\n",
       "    </tr>\n",
       "    <tr>\n",
       "      <td>2</td>\n",
       "      <td>0</td>\n",
       "      <td>33</td>\n",
       "      <td>среднее</td>\n",
       "      <td>1</td>\n",
       "      <td>женат / замужем</td>\n",
       "      <td>0</td>\n",
       "      <td>M</td>\n",
       "      <td>сотрудник</td>\n",
       "      <td>0</td>\n",
       "      <td>145885</td>\n",
       "      <td>недвижимость</td>\n",
       "    </tr>\n",
       "    <tr>\n",
       "      <td>3</td>\n",
       "      <td>3</td>\n",
       "      <td>32</td>\n",
       "      <td>среднее</td>\n",
       "      <td>1</td>\n",
       "      <td>женат / замужем</td>\n",
       "      <td>0</td>\n",
       "      <td>M</td>\n",
       "      <td>сотрудник</td>\n",
       "      <td>0</td>\n",
       "      <td>267628</td>\n",
       "      <td>образование</td>\n",
       "    </tr>\n",
       "    <tr>\n",
       "      <td>4</td>\n",
       "      <td>0</td>\n",
       "      <td>53</td>\n",
       "      <td>среднее</td>\n",
       "      <td>1</td>\n",
       "      <td>гражданский брак</td>\n",
       "      <td>1</td>\n",
       "      <td>F</td>\n",
       "      <td>пенсионер</td>\n",
       "      <td>0</td>\n",
       "      <td>158616</td>\n",
       "      <td>свадьба</td>\n",
       "    </tr>\n",
       "    <tr>\n",
       "      <td>5</td>\n",
       "      <td>0</td>\n",
       "      <td>27</td>\n",
       "      <td>высшее</td>\n",
       "      <td>0</td>\n",
       "      <td>гражданский брак</td>\n",
       "      <td>1</td>\n",
       "      <td>M</td>\n",
       "      <td>компаньон</td>\n",
       "      <td>0</td>\n",
       "      <td>255763</td>\n",
       "      <td>недвижимость</td>\n",
       "    </tr>\n",
       "    <tr>\n",
       "      <td>6</td>\n",
       "      <td>0</td>\n",
       "      <td>43</td>\n",
       "      <td>высшее</td>\n",
       "      <td>0</td>\n",
       "      <td>женат / замужем</td>\n",
       "      <td>0</td>\n",
       "      <td>F</td>\n",
       "      <td>компаньон</td>\n",
       "      <td>0</td>\n",
       "      <td>240525</td>\n",
       "      <td>недвижимость</td>\n",
       "    </tr>\n",
       "    <tr>\n",
       "      <td>7</td>\n",
       "      <td>0</td>\n",
       "      <td>50</td>\n",
       "      <td>среднее</td>\n",
       "      <td>1</td>\n",
       "      <td>женат / замужем</td>\n",
       "      <td>0</td>\n",
       "      <td>M</td>\n",
       "      <td>сотрудник</td>\n",
       "      <td>0</td>\n",
       "      <td>135823</td>\n",
       "      <td>образование</td>\n",
       "    </tr>\n",
       "    <tr>\n",
       "      <td>8</td>\n",
       "      <td>2</td>\n",
       "      <td>35</td>\n",
       "      <td>высшее</td>\n",
       "      <td>0</td>\n",
       "      <td>гражданский брак</td>\n",
       "      <td>1</td>\n",
       "      <td>F</td>\n",
       "      <td>сотрудник</td>\n",
       "      <td>0</td>\n",
       "      <td>95856</td>\n",
       "      <td>свадьба</td>\n",
       "    </tr>\n",
       "    <tr>\n",
       "      <td>9</td>\n",
       "      <td>0</td>\n",
       "      <td>41</td>\n",
       "      <td>среднее</td>\n",
       "      <td>1</td>\n",
       "      <td>женат / замужем</td>\n",
       "      <td>0</td>\n",
       "      <td>M</td>\n",
       "      <td>сотрудник</td>\n",
       "      <td>0</td>\n",
       "      <td>144425</td>\n",
       "      <td>недвижимость</td>\n",
       "    </tr>\n",
       "  </tbody>\n",
       "</table>\n",
       "</div>"
      ],
      "text/plain": [
       "   children  dob_years education  education_id     family_status  \\\n",
       "0         1         42    высшее             0   женат / замужем   \n",
       "1         1         36   среднее             1   женат / замужем   \n",
       "2         0         33   среднее             1   женат / замужем   \n",
       "3         3         32   среднее             1   женат / замужем   \n",
       "4         0         53   среднее             1  гражданский брак   \n",
       "5         0         27    высшее             0  гражданский брак   \n",
       "6         0         43    высшее             0   женат / замужем   \n",
       "7         0         50   среднее             1   женат / замужем   \n",
       "8         2         35    высшее             0  гражданский брак   \n",
       "9         0         41   среднее             1   женат / замужем   \n",
       "\n",
       "   family_status_id gender income_type  debt  total_income       purpose  \n",
       "0                 0      F   сотрудник     0        253875  недвижимость  \n",
       "1                 0      F   сотрудник     0        112080    автомобиль  \n",
       "2                 0      M   сотрудник     0        145885  недвижимость  \n",
       "3                 0      M   сотрудник     0        267628   образование  \n",
       "4                 1      F   пенсионер     0        158616       свадьба  \n",
       "5                 1      M   компаньон     0        255763  недвижимость  \n",
       "6                 0      F   компаньон     0        240525  недвижимость  \n",
       "7                 0      M   сотрудник     0        135823   образование  \n",
       "8                 1      F   сотрудник     0         95856       свадьба  \n",
       "9                 0      M   сотрудник     0        144425  недвижимость  "
      ]
     },
     "execution_count": 32,
     "metadata": {},
     "output_type": "execute_result"
    }
   ],
   "source": [
    "df.head(10)"
   ]
  },
  {
   "cell_type": "markdown",
   "metadata": {},
   "source": [
    "**Вывод**"
   ]
  },
  {
   "cell_type": "markdown",
   "metadata": {},
   "source": [
    "После лемматизации цели обрели структурность и теперь стало ясно, что основных целей всего 4. Таблицу теперь проще анализировать."
   ]
  },
  {
   "cell_type": "markdown",
   "metadata": {},
   "source": [
    "### Категоризация данных"
   ]
  },
  {
   "cell_type": "markdown",
   "metadata": {},
   "source": [
    " Итак, нужно разобраться, влияет ли семейное положение и количество детей клиента на факт погашения кредита в срок.\n",
    " \n",
    " Поэтому я для категоризации буду использовать \"словарь\" в котором как раз будет обозначена возможная зависимость между семейным положением и количеством детей клиента на факт погашения кредита в срок. Словарь будет из столбцов *family_status*, *children* и *debt*. И заодно произведу классификацию по уровню дохода клиентов."
   ]
  },
  {
   "cell_type": "code",
   "execution_count": 33,
   "metadata": {},
   "outputs": [],
   "source": [
    "#добавлю функцию для категоризации по наличию детей\n",
    "def category_children(child):\n",
    "    try:\n",
    "        if child == 0:\n",
    "            return 'нет детей'\n",
    "        if child > 0:\n",
    "            return 'есть дети'\n",
    "    except:\n",
    "        print('Ошибка в заполнении поля \"Дети\"')"
   ]
  },
  {
   "cell_type": "code",
   "execution_count": 35,
   "metadata": {},
   "outputs": [],
   "source": [
    "#создаю словарь\n",
    "credits_dict = df[['category_children', 'family_status', 'debt']]"
   ]
  },
  {
   "cell_type": "code",
   "execution_count": 36,
   "metadata": {},
   "outputs": [
    {
     "data": {
      "text/html": [
       "<div>\n",
       "<style scoped>\n",
       "    .dataframe tbody tr th:only-of-type {\n",
       "        vertical-align: middle;\n",
       "    }\n",
       "\n",
       "    .dataframe tbody tr th {\n",
       "        vertical-align: top;\n",
       "    }\n",
       "\n",
       "    .dataframe thead th {\n",
       "        text-align: right;\n",
       "    }\n",
       "</style>\n",
       "<table border=\"1\" class=\"dataframe\">\n",
       "  <thead>\n",
       "    <tr style=\"text-align: right;\">\n",
       "      <th></th>\n",
       "      <th>category_children</th>\n",
       "      <th>family_status</th>\n",
       "      <th>debt</th>\n",
       "    </tr>\n",
       "  </thead>\n",
       "  <tbody>\n",
       "    <tr>\n",
       "      <td>11110</td>\n",
       "      <td>нет детей</td>\n",
       "      <td>в разводе</td>\n",
       "      <td>1</td>\n",
       "    </tr>\n",
       "    <tr>\n",
       "      <td>13234</td>\n",
       "      <td>нет детей</td>\n",
       "      <td>не женат / не замужем</td>\n",
       "      <td>1</td>\n",
       "    </tr>\n",
       "    <tr>\n",
       "      <td>8764</td>\n",
       "      <td>есть дети</td>\n",
       "      <td>женат / замужем</td>\n",
       "      <td>1</td>\n",
       "    </tr>\n",
       "    <tr>\n",
       "      <td>18773</td>\n",
       "      <td>есть дети</td>\n",
       "      <td>не женат / не замужем</td>\n",
       "      <td>1</td>\n",
       "    </tr>\n",
       "    <tr>\n",
       "      <td>8758</td>\n",
       "      <td>есть дети</td>\n",
       "      <td>женат / замужем</td>\n",
       "      <td>1</td>\n",
       "    </tr>\n",
       "    <tr>\n",
       "      <td>8754</td>\n",
       "      <td>нет детей</td>\n",
       "      <td>женат / замужем</td>\n",
       "      <td>1</td>\n",
       "    </tr>\n",
       "    <tr>\n",
       "      <td>8752</td>\n",
       "      <td>есть дети</td>\n",
       "      <td>гражданский брак</td>\n",
       "      <td>1</td>\n",
       "    </tr>\n",
       "    <tr>\n",
       "      <td>13250</td>\n",
       "      <td>нет детей</td>\n",
       "      <td>женат / замужем</td>\n",
       "      <td>1</td>\n",
       "    </tr>\n",
       "    <tr>\n",
       "      <td>18756</td>\n",
       "      <td>нет детей</td>\n",
       "      <td>не женат / не замужем</td>\n",
       "      <td>1</td>\n",
       "    </tr>\n",
       "    <tr>\n",
       "      <td>13257</td>\n",
       "      <td>есть дети</td>\n",
       "      <td>гражданский брак</td>\n",
       "      <td>1</td>\n",
       "    </tr>\n",
       "  </tbody>\n",
       "</table>\n",
       "</div>"
      ],
      "text/plain": [
       "      category_children          family_status  debt\n",
       "11110         нет детей              в разводе     1\n",
       "13234         нет детей  не женат / не замужем     1\n",
       "8764          есть дети        женат / замужем     1\n",
       "18773         есть дети  не женат / не замужем     1\n",
       "8758          есть дети        женат / замужем     1\n",
       "8754          нет детей        женат / замужем     1\n",
       "8752          есть дети       гражданский брак     1\n",
       "13250         нет детей        женат / замужем     1\n",
       "18756         нет детей  не женат / не замужем     1\n",
       "13257         есть дети       гражданский брак     1"
      ]
     },
     "metadata": {},
     "output_type": "display_data"
    }
   ],
   "source": [
    "#Теперь сгруппирую и отсортирую по задолженности от тех у кого есть до тех у кого нет\n",
    "display(credits_dict.sort_values(by='debt', ascending=False).head(10))"
   ]
  },
  {
   "cell_type": "markdown",
   "metadata": {},
   "source": [
    "Для категоризации уровня дохода введу 4 уровня дохода, ориентируясь на статью, в которой были обозначены данные от Федеральной службы государственной статистики. Служба разделяет уровень жизни россиян в зависимости от доходов на следующие категории:\n",
    "- крайняя нищета — доходы ниже прожиточного минимума (до 7-8 тыс.р.)\n",
    "- нищета — доходы от одного до двух прожиточных минимума (от 8 до 12 тыс.р.)\n",
    "- бедность — доходы от 12 до 20 тысяч рублей в месяц.\n",
    "- выше бедности — доходы от 20 до 30 тысяч рублей в месяц.\n",
    "- средний достаток — доходы от 30 до 60 тысяч рублей в месяц.\n",
    "- состоятельные — доходы от 60 до 90 тысяч рублей в месяц.\n",
    "- богатые — доходы от 90 тысяч рублей в месяц.\n",
    "- сверхбогатые — доходы свыше 150 тысяч рублей в месяц.\n",
    "\n",
    "В своей категоризации я буду использовать следующие категории:\n",
    "- низкий доход - 29 999 рублей в месяц.\n",
    "- средний доход - от 30 000 до 59 999 рублей в месяц.\n",
    "- высокий доход - от 60 000 до 149 999 рублей в месяц.\n",
    "- сверхвысокий доход - свыше 150 тысяч рублей в месяц."
   ]
  },
  {
   "cell_type": "code",
   "execution_count": 37,
   "metadata": {},
   "outputs": [],
   "source": [
    "#добавлю функцию для категоризации по доходу\n",
    "def total_income_sort(income):\n",
    "    try:\n",
    "        if income < 29999:\n",
    "            return 'низкий доход'\n",
    "        if 30000 < income < 59999:\n",
    "            return 'средний доход'\n",
    "        if 60000 < income < 149999:\n",
    "            return 'высокий доход'\n",
    "        if income > 150000:\n",
    "            return 'сверхвысокий доход'\n",
    "    except:\n",
    "        print('Ошибка в доходах')"
   ]
  },
  {
   "cell_type": "code",
   "execution_count": 38,
   "metadata": {},
   "outputs": [
    {
     "data": {
      "text/plain": [
       "'высокий доход'"
      ]
     },
     "execution_count": 38,
     "metadata": {},
     "output_type": "execute_result"
    }
   ],
   "source": [
    "#проверка\n",
    "total_income_sort(90000)"
   ]
  },
  {
   "cell_type": "code",
   "execution_count": 39,
   "metadata": {},
   "outputs": [
    {
     "data": {
      "text/html": [
       "<div>\n",
       "<style scoped>\n",
       "    .dataframe tbody tr th:only-of-type {\n",
       "        vertical-align: middle;\n",
       "    }\n",
       "\n",
       "    .dataframe tbody tr th {\n",
       "        vertical-align: top;\n",
       "    }\n",
       "\n",
       "    .dataframe thead th {\n",
       "        text-align: right;\n",
       "    }\n",
       "</style>\n",
       "<table border=\"1\" class=\"dataframe\">\n",
       "  <thead>\n",
       "    <tr style=\"text-align: right;\">\n",
       "      <th></th>\n",
       "      <th>children</th>\n",
       "      <th>dob_years</th>\n",
       "      <th>education</th>\n",
       "      <th>education_id</th>\n",
       "      <th>family_status</th>\n",
       "      <th>family_status_id</th>\n",
       "      <th>gender</th>\n",
       "      <th>income_type</th>\n",
       "      <th>debt</th>\n",
       "      <th>total_income</th>\n",
       "      <th>purpose</th>\n",
       "      <th>category_children</th>\n",
       "      <th>total_income_sort</th>\n",
       "    </tr>\n",
       "  </thead>\n",
       "  <tbody>\n",
       "    <tr>\n",
       "      <td>0</td>\n",
       "      <td>1</td>\n",
       "      <td>42</td>\n",
       "      <td>высшее</td>\n",
       "      <td>0</td>\n",
       "      <td>женат / замужем</td>\n",
       "      <td>0</td>\n",
       "      <td>F</td>\n",
       "      <td>сотрудник</td>\n",
       "      <td>0</td>\n",
       "      <td>253875</td>\n",
       "      <td>недвижимость</td>\n",
       "      <td>есть дети</td>\n",
       "      <td>сверхвысокий доход</td>\n",
       "    </tr>\n",
       "    <tr>\n",
       "      <td>1</td>\n",
       "      <td>1</td>\n",
       "      <td>36</td>\n",
       "      <td>среднее</td>\n",
       "      <td>1</td>\n",
       "      <td>женат / замужем</td>\n",
       "      <td>0</td>\n",
       "      <td>F</td>\n",
       "      <td>сотрудник</td>\n",
       "      <td>0</td>\n",
       "      <td>112080</td>\n",
       "      <td>автомобиль</td>\n",
       "      <td>есть дети</td>\n",
       "      <td>высокий доход</td>\n",
       "    </tr>\n",
       "    <tr>\n",
       "      <td>2</td>\n",
       "      <td>0</td>\n",
       "      <td>33</td>\n",
       "      <td>среднее</td>\n",
       "      <td>1</td>\n",
       "      <td>женат / замужем</td>\n",
       "      <td>0</td>\n",
       "      <td>M</td>\n",
       "      <td>сотрудник</td>\n",
       "      <td>0</td>\n",
       "      <td>145885</td>\n",
       "      <td>недвижимость</td>\n",
       "      <td>нет детей</td>\n",
       "      <td>высокий доход</td>\n",
       "    </tr>\n",
       "    <tr>\n",
       "      <td>3</td>\n",
       "      <td>3</td>\n",
       "      <td>32</td>\n",
       "      <td>среднее</td>\n",
       "      <td>1</td>\n",
       "      <td>женат / замужем</td>\n",
       "      <td>0</td>\n",
       "      <td>M</td>\n",
       "      <td>сотрудник</td>\n",
       "      <td>0</td>\n",
       "      <td>267628</td>\n",
       "      <td>образование</td>\n",
       "      <td>есть дети</td>\n",
       "      <td>сверхвысокий доход</td>\n",
       "    </tr>\n",
       "    <tr>\n",
       "      <td>4</td>\n",
       "      <td>0</td>\n",
       "      <td>53</td>\n",
       "      <td>среднее</td>\n",
       "      <td>1</td>\n",
       "      <td>гражданский брак</td>\n",
       "      <td>1</td>\n",
       "      <td>F</td>\n",
       "      <td>пенсионер</td>\n",
       "      <td>0</td>\n",
       "      <td>158616</td>\n",
       "      <td>свадьба</td>\n",
       "      <td>нет детей</td>\n",
       "      <td>сверхвысокий доход</td>\n",
       "    </tr>\n",
       "    <tr>\n",
       "      <td>5</td>\n",
       "      <td>0</td>\n",
       "      <td>27</td>\n",
       "      <td>высшее</td>\n",
       "      <td>0</td>\n",
       "      <td>гражданский брак</td>\n",
       "      <td>1</td>\n",
       "      <td>M</td>\n",
       "      <td>компаньон</td>\n",
       "      <td>0</td>\n",
       "      <td>255763</td>\n",
       "      <td>недвижимость</td>\n",
       "      <td>нет детей</td>\n",
       "      <td>сверхвысокий доход</td>\n",
       "    </tr>\n",
       "    <tr>\n",
       "      <td>6</td>\n",
       "      <td>0</td>\n",
       "      <td>43</td>\n",
       "      <td>высшее</td>\n",
       "      <td>0</td>\n",
       "      <td>женат / замужем</td>\n",
       "      <td>0</td>\n",
       "      <td>F</td>\n",
       "      <td>компаньон</td>\n",
       "      <td>0</td>\n",
       "      <td>240525</td>\n",
       "      <td>недвижимость</td>\n",
       "      <td>нет детей</td>\n",
       "      <td>сверхвысокий доход</td>\n",
       "    </tr>\n",
       "    <tr>\n",
       "      <td>7</td>\n",
       "      <td>0</td>\n",
       "      <td>50</td>\n",
       "      <td>среднее</td>\n",
       "      <td>1</td>\n",
       "      <td>женат / замужем</td>\n",
       "      <td>0</td>\n",
       "      <td>M</td>\n",
       "      <td>сотрудник</td>\n",
       "      <td>0</td>\n",
       "      <td>135823</td>\n",
       "      <td>образование</td>\n",
       "      <td>нет детей</td>\n",
       "      <td>высокий доход</td>\n",
       "    </tr>\n",
       "    <tr>\n",
       "      <td>8</td>\n",
       "      <td>2</td>\n",
       "      <td>35</td>\n",
       "      <td>высшее</td>\n",
       "      <td>0</td>\n",
       "      <td>гражданский брак</td>\n",
       "      <td>1</td>\n",
       "      <td>F</td>\n",
       "      <td>сотрудник</td>\n",
       "      <td>0</td>\n",
       "      <td>95856</td>\n",
       "      <td>свадьба</td>\n",
       "      <td>есть дети</td>\n",
       "      <td>высокий доход</td>\n",
       "    </tr>\n",
       "    <tr>\n",
       "      <td>9</td>\n",
       "      <td>0</td>\n",
       "      <td>41</td>\n",
       "      <td>среднее</td>\n",
       "      <td>1</td>\n",
       "      <td>женат / замужем</td>\n",
       "      <td>0</td>\n",
       "      <td>M</td>\n",
       "      <td>сотрудник</td>\n",
       "      <td>0</td>\n",
       "      <td>144425</td>\n",
       "      <td>недвижимость</td>\n",
       "      <td>нет детей</td>\n",
       "      <td>высокий доход</td>\n",
       "    </tr>\n",
       "  </tbody>\n",
       "</table>\n",
       "</div>"
      ],
      "text/plain": [
       "   children  dob_years education  education_id     family_status  \\\n",
       "0         1         42    высшее             0   женат / замужем   \n",
       "1         1         36   среднее             1   женат / замужем   \n",
       "2         0         33   среднее             1   женат / замужем   \n",
       "3         3         32   среднее             1   женат / замужем   \n",
       "4         0         53   среднее             1  гражданский брак   \n",
       "5         0         27    высшее             0  гражданский брак   \n",
       "6         0         43    высшее             0   женат / замужем   \n",
       "7         0         50   среднее             1   женат / замужем   \n",
       "8         2         35    высшее             0  гражданский брак   \n",
       "9         0         41   среднее             1   женат / замужем   \n",
       "\n",
       "   family_status_id gender income_type  debt  total_income       purpose  \\\n",
       "0                 0      F   сотрудник     0        253875  недвижимость   \n",
       "1                 0      F   сотрудник     0        112080    автомобиль   \n",
       "2                 0      M   сотрудник     0        145885  недвижимость   \n",
       "3                 0      M   сотрудник     0        267628   образование   \n",
       "4                 1      F   пенсионер     0        158616       свадьба   \n",
       "5                 1      M   компаньон     0        255763  недвижимость   \n",
       "6                 0      F   компаньон     0        240525  недвижимость   \n",
       "7                 0      M   сотрудник     0        135823   образование   \n",
       "8                 1      F   сотрудник     0         95856       свадьба   \n",
       "9                 0      M   сотрудник     0        144425  недвижимость   \n",
       "\n",
       "  category_children   total_income_sort  \n",
       "0         есть дети  сверхвысокий доход  \n",
       "1         есть дети       высокий доход  \n",
       "2         нет детей       высокий доход  \n",
       "3         есть дети  сверхвысокий доход  \n",
       "4         нет детей  сверхвысокий доход  \n",
       "5         нет детей  сверхвысокий доход  \n",
       "6         нет детей  сверхвысокий доход  \n",
       "7         нет детей       высокий доход  \n",
       "8         есть дети       высокий доход  \n",
       "9         нет детей       высокий доход  "
      ]
     },
     "execution_count": 39,
     "metadata": {},
     "output_type": "execute_result"
    }
   ],
   "source": [
    "#добавлю новый столбец с этой категоризацией\n",
    "df['total_income_sort'] = df['total_income'].apply(total_income_sort)\n",
    "df.head(10)"
   ]
  },
  {
   "cell_type": "code",
   "execution_count": 40,
   "metadata": {},
   "outputs": [],
   "source": [
    "#добавлю функцию для категоризации по возрасту\n",
    "def dob_years_group(age):\n",
    "    try:\n",
    "        if 18 <= age <= 35:\n",
    "            return 'молодые'\n",
    "        if 36 <= age <= 64:\n",
    "            return 'взрослые'\n",
    "        if 65 < age:\n",
    "            return 'пенсионеры'\n",
    "    except:\n",
    "        print('Ошибка заполнения возраста')"
   ]
  },
  {
   "cell_type": "code",
   "execution_count": 41,
   "metadata": {},
   "outputs": [
    {
     "data": {
      "text/plain": [
       "'молодые'"
      ]
     },
     "execution_count": 41,
     "metadata": {},
     "output_type": "execute_result"
    }
   ],
   "source": [
    "#проверка\n",
    "dob_years_group(19)"
   ]
  },
  {
   "cell_type": "code",
   "execution_count": 42,
   "metadata": {},
   "outputs": [
    {
     "data": {
      "text/html": [
       "<div>\n",
       "<style scoped>\n",
       "    .dataframe tbody tr th:only-of-type {\n",
       "        vertical-align: middle;\n",
       "    }\n",
       "\n",
       "    .dataframe tbody tr th {\n",
       "        vertical-align: top;\n",
       "    }\n",
       "\n",
       "    .dataframe thead th {\n",
       "        text-align: right;\n",
       "    }\n",
       "</style>\n",
       "<table border=\"1\" class=\"dataframe\">\n",
       "  <thead>\n",
       "    <tr style=\"text-align: right;\">\n",
       "      <th></th>\n",
       "      <th>children</th>\n",
       "      <th>dob_years</th>\n",
       "      <th>education</th>\n",
       "      <th>education_id</th>\n",
       "      <th>family_status</th>\n",
       "      <th>family_status_id</th>\n",
       "      <th>gender</th>\n",
       "      <th>income_type</th>\n",
       "      <th>debt</th>\n",
       "      <th>total_income</th>\n",
       "      <th>purpose</th>\n",
       "      <th>category_children</th>\n",
       "      <th>total_income_sort</th>\n",
       "      <th>dob_years_group</th>\n",
       "    </tr>\n",
       "  </thead>\n",
       "  <tbody>\n",
       "    <tr>\n",
       "      <td>0</td>\n",
       "      <td>1</td>\n",
       "      <td>42</td>\n",
       "      <td>высшее</td>\n",
       "      <td>0</td>\n",
       "      <td>женат / замужем</td>\n",
       "      <td>0</td>\n",
       "      <td>F</td>\n",
       "      <td>сотрудник</td>\n",
       "      <td>0</td>\n",
       "      <td>253875</td>\n",
       "      <td>недвижимость</td>\n",
       "      <td>есть дети</td>\n",
       "      <td>сверхвысокий доход</td>\n",
       "      <td>взрослые</td>\n",
       "    </tr>\n",
       "    <tr>\n",
       "      <td>1</td>\n",
       "      <td>1</td>\n",
       "      <td>36</td>\n",
       "      <td>среднее</td>\n",
       "      <td>1</td>\n",
       "      <td>женат / замужем</td>\n",
       "      <td>0</td>\n",
       "      <td>F</td>\n",
       "      <td>сотрудник</td>\n",
       "      <td>0</td>\n",
       "      <td>112080</td>\n",
       "      <td>автомобиль</td>\n",
       "      <td>есть дети</td>\n",
       "      <td>высокий доход</td>\n",
       "      <td>взрослые</td>\n",
       "    </tr>\n",
       "    <tr>\n",
       "      <td>2</td>\n",
       "      <td>0</td>\n",
       "      <td>33</td>\n",
       "      <td>среднее</td>\n",
       "      <td>1</td>\n",
       "      <td>женат / замужем</td>\n",
       "      <td>0</td>\n",
       "      <td>M</td>\n",
       "      <td>сотрудник</td>\n",
       "      <td>0</td>\n",
       "      <td>145885</td>\n",
       "      <td>недвижимость</td>\n",
       "      <td>нет детей</td>\n",
       "      <td>высокий доход</td>\n",
       "      <td>молодые</td>\n",
       "    </tr>\n",
       "    <tr>\n",
       "      <td>3</td>\n",
       "      <td>3</td>\n",
       "      <td>32</td>\n",
       "      <td>среднее</td>\n",
       "      <td>1</td>\n",
       "      <td>женат / замужем</td>\n",
       "      <td>0</td>\n",
       "      <td>M</td>\n",
       "      <td>сотрудник</td>\n",
       "      <td>0</td>\n",
       "      <td>267628</td>\n",
       "      <td>образование</td>\n",
       "      <td>есть дети</td>\n",
       "      <td>сверхвысокий доход</td>\n",
       "      <td>молодые</td>\n",
       "    </tr>\n",
       "    <tr>\n",
       "      <td>4</td>\n",
       "      <td>0</td>\n",
       "      <td>53</td>\n",
       "      <td>среднее</td>\n",
       "      <td>1</td>\n",
       "      <td>гражданский брак</td>\n",
       "      <td>1</td>\n",
       "      <td>F</td>\n",
       "      <td>пенсионер</td>\n",
       "      <td>0</td>\n",
       "      <td>158616</td>\n",
       "      <td>свадьба</td>\n",
       "      <td>нет детей</td>\n",
       "      <td>сверхвысокий доход</td>\n",
       "      <td>взрослые</td>\n",
       "    </tr>\n",
       "    <tr>\n",
       "      <td>5</td>\n",
       "      <td>0</td>\n",
       "      <td>27</td>\n",
       "      <td>высшее</td>\n",
       "      <td>0</td>\n",
       "      <td>гражданский брак</td>\n",
       "      <td>1</td>\n",
       "      <td>M</td>\n",
       "      <td>компаньон</td>\n",
       "      <td>0</td>\n",
       "      <td>255763</td>\n",
       "      <td>недвижимость</td>\n",
       "      <td>нет детей</td>\n",
       "      <td>сверхвысокий доход</td>\n",
       "      <td>молодые</td>\n",
       "    </tr>\n",
       "    <tr>\n",
       "      <td>6</td>\n",
       "      <td>0</td>\n",
       "      <td>43</td>\n",
       "      <td>высшее</td>\n",
       "      <td>0</td>\n",
       "      <td>женат / замужем</td>\n",
       "      <td>0</td>\n",
       "      <td>F</td>\n",
       "      <td>компаньон</td>\n",
       "      <td>0</td>\n",
       "      <td>240525</td>\n",
       "      <td>недвижимость</td>\n",
       "      <td>нет детей</td>\n",
       "      <td>сверхвысокий доход</td>\n",
       "      <td>взрослые</td>\n",
       "    </tr>\n",
       "    <tr>\n",
       "      <td>7</td>\n",
       "      <td>0</td>\n",
       "      <td>50</td>\n",
       "      <td>среднее</td>\n",
       "      <td>1</td>\n",
       "      <td>женат / замужем</td>\n",
       "      <td>0</td>\n",
       "      <td>M</td>\n",
       "      <td>сотрудник</td>\n",
       "      <td>0</td>\n",
       "      <td>135823</td>\n",
       "      <td>образование</td>\n",
       "      <td>нет детей</td>\n",
       "      <td>высокий доход</td>\n",
       "      <td>взрослые</td>\n",
       "    </tr>\n",
       "    <tr>\n",
       "      <td>8</td>\n",
       "      <td>2</td>\n",
       "      <td>35</td>\n",
       "      <td>высшее</td>\n",
       "      <td>0</td>\n",
       "      <td>гражданский брак</td>\n",
       "      <td>1</td>\n",
       "      <td>F</td>\n",
       "      <td>сотрудник</td>\n",
       "      <td>0</td>\n",
       "      <td>95856</td>\n",
       "      <td>свадьба</td>\n",
       "      <td>есть дети</td>\n",
       "      <td>высокий доход</td>\n",
       "      <td>молодые</td>\n",
       "    </tr>\n",
       "    <tr>\n",
       "      <td>9</td>\n",
       "      <td>0</td>\n",
       "      <td>41</td>\n",
       "      <td>среднее</td>\n",
       "      <td>1</td>\n",
       "      <td>женат / замужем</td>\n",
       "      <td>0</td>\n",
       "      <td>M</td>\n",
       "      <td>сотрудник</td>\n",
       "      <td>0</td>\n",
       "      <td>144425</td>\n",
       "      <td>недвижимость</td>\n",
       "      <td>нет детей</td>\n",
       "      <td>высокий доход</td>\n",
       "      <td>взрослые</td>\n",
       "    </tr>\n",
       "  </tbody>\n",
       "</table>\n",
       "</div>"
      ],
      "text/plain": [
       "   children  dob_years education  education_id     family_status  \\\n",
       "0         1         42    высшее             0   женат / замужем   \n",
       "1         1         36   среднее             1   женат / замужем   \n",
       "2         0         33   среднее             1   женат / замужем   \n",
       "3         3         32   среднее             1   женат / замужем   \n",
       "4         0         53   среднее             1  гражданский брак   \n",
       "5         0         27    высшее             0  гражданский брак   \n",
       "6         0         43    высшее             0   женат / замужем   \n",
       "7         0         50   среднее             1   женат / замужем   \n",
       "8         2         35    высшее             0  гражданский брак   \n",
       "9         0         41   среднее             1   женат / замужем   \n",
       "\n",
       "   family_status_id gender income_type  debt  total_income       purpose  \\\n",
       "0                 0      F   сотрудник     0        253875  недвижимость   \n",
       "1                 0      F   сотрудник     0        112080    автомобиль   \n",
       "2                 0      M   сотрудник     0        145885  недвижимость   \n",
       "3                 0      M   сотрудник     0        267628   образование   \n",
       "4                 1      F   пенсионер     0        158616       свадьба   \n",
       "5                 1      M   компаньон     0        255763  недвижимость   \n",
       "6                 0      F   компаньон     0        240525  недвижимость   \n",
       "7                 0      M   сотрудник     0        135823   образование   \n",
       "8                 1      F   сотрудник     0         95856       свадьба   \n",
       "9                 0      M   сотрудник     0        144425  недвижимость   \n",
       "\n",
       "  category_children   total_income_sort dob_years_group  \n",
       "0         есть дети  сверхвысокий доход        взрослые  \n",
       "1         есть дети       высокий доход        взрослые  \n",
       "2         нет детей       высокий доход         молодые  \n",
       "3         есть дети  сверхвысокий доход         молодые  \n",
       "4         нет детей  сверхвысокий доход        взрослые  \n",
       "5         нет детей  сверхвысокий доход         молодые  \n",
       "6         нет детей  сверхвысокий доход        взрослые  \n",
       "7         нет детей       высокий доход        взрослые  \n",
       "8         есть дети       высокий доход         молодые  \n",
       "9         нет детей       высокий доход        взрослые  "
      ]
     },
     "execution_count": 42,
     "metadata": {},
     "output_type": "execute_result"
    }
   ],
   "source": [
    "#добавлю новый столбец с этой категоризацией\n",
    "df['dob_years_group'] = df['dob_years'].apply(dob_years_group)\n",
    "df.head(10)"
   ]
  },
  {
   "cell_type": "markdown",
   "metadata": {},
   "source": [
    "**Вывод**"
   ]
  },
  {
   "cell_type": "markdown",
   "metadata": {},
   "source": [
    "Для категоризации я создал один \"словарь\" по сортировке которого можно попытаться найти зависимость между семейным положением и количеством детей клиента на факт погашения кредита в срок.\n",
    "\n",
    "Так же были написаны функции, целью которых является создание категорий клиентов по их доходам, возрасту и по наличию детей. Это позволит ответить на все вопросы зависимости между уровнем дохода, семейным положением, наличием детей и возвратом кредита в срок.\n",
    "Во время лемматизации так же была проведена категоризация клиентов на 4 основные цели, данное действие было произведено мною с целью попытки ответить на вопрос как разные цели кредита влияют на его возврат в срок?\n",
    "Как раз ответы на эти вопросы будут представлены ниже."
   ]
  },
  {
   "cell_type": "markdown",
   "metadata": {},
   "source": [
    "## Шаг 3. Ответьте на вопросы"
   ]
  },
  {
   "cell_type": "markdown",
   "metadata": {},
   "source": [
    "- Есть ли зависимость между наличием детей и возвратом кредита в срок?"
   ]
  },
  {
   "cell_type": "code",
   "execution_count": 43,
   "metadata": {},
   "outputs": [],
   "source": [
    "#чтобы ответить на вопрос про есть ли зависимость между наличием детей и возвратом кредита в срок?\n",
    "#добавлю сводную таблицу по общему количеству задолженностей у клиентов у которых нет детей и у тех, у которых есть дети\n",
    "df_pivot_children = df.pivot_table(index=['children'], columns='category_children', values='debt', aggfunc='sum')"
   ]
  },
  {
   "cell_type": "code",
   "execution_count": 44,
   "metadata": {},
   "outputs": [
    {
     "data": {
      "text/html": [
       "<div>\n",
       "<style scoped>\n",
       "    .dataframe tbody tr th:only-of-type {\n",
       "        vertical-align: middle;\n",
       "    }\n",
       "\n",
       "    .dataframe tbody tr th {\n",
       "        vertical-align: top;\n",
       "    }\n",
       "\n",
       "    .dataframe thead th {\n",
       "        text-align: right;\n",
       "    }\n",
       "</style>\n",
       "<table border=\"1\" class=\"dataframe\">\n",
       "  <thead>\n",
       "    <tr style=\"text-align: right;\">\n",
       "      <th>category_children</th>\n",
       "      <th>есть дети</th>\n",
       "      <th>нет детей</th>\n",
       "    </tr>\n",
       "    <tr>\n",
       "      <th>children</th>\n",
       "      <th></th>\n",
       "      <th></th>\n",
       "    </tr>\n",
       "  </thead>\n",
       "  <tbody>\n",
       "    <tr>\n",
       "      <td>0</td>\n",
       "      <td>NaN</td>\n",
       "      <td>1058.0</td>\n",
       "    </tr>\n",
       "    <tr>\n",
       "      <td>1</td>\n",
       "      <td>442.0</td>\n",
       "      <td>NaN</td>\n",
       "    </tr>\n",
       "    <tr>\n",
       "      <td>2</td>\n",
       "      <td>202.0</td>\n",
       "      <td>NaN</td>\n",
       "    </tr>\n",
       "    <tr>\n",
       "      <td>3</td>\n",
       "      <td>27.0</td>\n",
       "      <td>NaN</td>\n",
       "    </tr>\n",
       "    <tr>\n",
       "      <td>4</td>\n",
       "      <td>4.0</td>\n",
       "      <td>NaN</td>\n",
       "    </tr>\n",
       "    <tr>\n",
       "      <td>5</td>\n",
       "      <td>0.0</td>\n",
       "      <td>NaN</td>\n",
       "    </tr>\n",
       "  </tbody>\n",
       "</table>\n",
       "</div>"
      ],
      "text/plain": [
       "category_children  есть дети  нет детей\n",
       "children                               \n",
       "0                        NaN     1058.0\n",
       "1                      442.0        NaN\n",
       "2                      202.0        NaN\n",
       "3                       27.0        NaN\n",
       "4                        4.0        NaN\n",
       "5                        0.0        NaN"
      ]
     },
     "execution_count": 44,
     "metadata": {},
     "output_type": "execute_result"
    }
   ],
   "source": [
    "df_pivot_children.head(10)"
   ]
  },
  {
   "cell_type": "markdown",
   "metadata": {},
   "source": [
    "Как видно из сводной таблицы количество клиентов у которых нет детей и есть задолженность составляет - 1063 человека.\n",
    "В это же время мы наблюдаем, что чем больше детей у клиентов, тем меньше клиентов у которых есть задолженность.\n",
    "Но данная таблица может не отображать все результаты, поэтому для проверки добавлю ещё и агрегированную функцию."
   ]
  },
  {
   "cell_type": "code",
   "execution_count": 45,
   "metadata": {},
   "outputs": [],
   "source": [
    "#добавлю агрегированную функцию, которая считает по столбцу debt (задолженность)\n",
    "#общее количество, сумму и находит среднее, что позволит сделать выводы как наличие детей влияет на задолженность\n",
    "children_debt = df.groupby('children').agg({'debt':['count','sum', 'mean']})"
   ]
  },
  {
   "cell_type": "code",
   "execution_count": 46,
   "metadata": {},
   "outputs": [
    {
     "data": {
      "text/html": [
       "<div>\n",
       "<style scoped>\n",
       "    .dataframe tbody tr th:only-of-type {\n",
       "        vertical-align: middle;\n",
       "    }\n",
       "\n",
       "    .dataframe tbody tr th {\n",
       "        vertical-align: top;\n",
       "    }\n",
       "\n",
       "    .dataframe thead tr th {\n",
       "        text-align: left;\n",
       "    }\n",
       "\n",
       "    .dataframe thead tr:last-of-type th {\n",
       "        text-align: right;\n",
       "    }\n",
       "</style>\n",
       "<table border=\"1\" class=\"dataframe\">\n",
       "  <thead>\n",
       "    <tr>\n",
       "      <th></th>\n",
       "      <th colspan=\"3\" halign=\"left\">debt</th>\n",
       "    </tr>\n",
       "    <tr>\n",
       "      <th></th>\n",
       "      <th>count</th>\n",
       "      <th>sum</th>\n",
       "      <th>mean</th>\n",
       "    </tr>\n",
       "    <tr>\n",
       "      <th>children</th>\n",
       "      <th></th>\n",
       "      <th></th>\n",
       "      <th></th>\n",
       "    </tr>\n",
       "  </thead>\n",
       "  <tbody>\n",
       "    <tr>\n",
       "      <td>0</td>\n",
       "      <td>14021</td>\n",
       "      <td>1058</td>\n",
       "      <td>0.075458</td>\n",
       "    </tr>\n",
       "    <tr>\n",
       "      <td>1</td>\n",
       "      <td>4839</td>\n",
       "      <td>442</td>\n",
       "      <td>0.091341</td>\n",
       "    </tr>\n",
       "    <tr>\n",
       "      <td>2</td>\n",
       "      <td>2114</td>\n",
       "      <td>202</td>\n",
       "      <td>0.095553</td>\n",
       "    </tr>\n",
       "    <tr>\n",
       "      <td>3</td>\n",
       "      <td>328</td>\n",
       "      <td>27</td>\n",
       "      <td>0.082317</td>\n",
       "    </tr>\n",
       "    <tr>\n",
       "      <td>4</td>\n",
       "      <td>41</td>\n",
       "      <td>4</td>\n",
       "      <td>0.097561</td>\n",
       "    </tr>\n",
       "    <tr>\n",
       "      <td>5</td>\n",
       "      <td>9</td>\n",
       "      <td>0</td>\n",
       "      <td>0.000000</td>\n",
       "    </tr>\n",
       "  </tbody>\n",
       "</table>\n",
       "</div>"
      ],
      "text/plain": [
       "           debt                \n",
       "          count   sum      mean\n",
       "children                       \n",
       "0         14021  1058  0.075458\n",
       "1          4839   442  0.091341\n",
       "2          2114   202  0.095553\n",
       "3           328    27  0.082317\n",
       "4            41     4  0.097561\n",
       "5             9     0  0.000000"
      ]
     },
     "execution_count": 46,
     "metadata": {},
     "output_type": "execute_result"
    }
   ],
   "source": [
    "children_debt"
   ]
  },
  {
   "cell_type": "markdown",
   "metadata": {},
   "source": [
    "Благодаря агрегированной функции наблюдается изменение в интерпретации результатов. Согласно этим расчётам, несмотря на то, что задолженности больше у клиентов, у которых нет детей, при этом этих клиентов больше всего у банка и если рассмотреть соотношение количества клиентов и количества задолженностей, то получается, что среди клиентов у которых нет детей самый низкий процент задолженностей.\n",
    "\n",
    "У клиентов у которых 4 детей самый высокий процент задолженностей. У клиентов с одним, двумя детьми процент у кого есть задолженность выше, чем среди клиентов у которых нет детей. "
   ]
  },
  {
   "cell_type": "code",
   "execution_count": 47,
   "metadata": {},
   "outputs": [],
   "source": [
    "#добавлю сводную таблицу по соотношению количества клиентов с задолженностью\n",
    "#от общего количества клиентов по каждой категории наличия детей\n",
    "df_pivot_children = df.pivot_table(index=['children'], columns='category_children', values='debt', aggfunc='mean')"
   ]
  },
  {
   "cell_type": "code",
   "execution_count": 48,
   "metadata": {},
   "outputs": [
    {
     "data": {
      "text/html": [
       "<div>\n",
       "<style scoped>\n",
       "    .dataframe tbody tr th:only-of-type {\n",
       "        vertical-align: middle;\n",
       "    }\n",
       "\n",
       "    .dataframe tbody tr th {\n",
       "        vertical-align: top;\n",
       "    }\n",
       "\n",
       "    .dataframe thead th {\n",
       "        text-align: right;\n",
       "    }\n",
       "</style>\n",
       "<table border=\"1\" class=\"dataframe\">\n",
       "  <thead>\n",
       "    <tr style=\"text-align: right;\">\n",
       "      <th>category_children</th>\n",
       "      <th>есть дети</th>\n",
       "      <th>нет детей</th>\n",
       "    </tr>\n",
       "    <tr>\n",
       "      <th>children</th>\n",
       "      <th></th>\n",
       "      <th></th>\n",
       "    </tr>\n",
       "  </thead>\n",
       "  <tbody>\n",
       "    <tr>\n",
       "      <td>0</td>\n",
       "      <td>NaN</td>\n",
       "      <td>0.075458</td>\n",
       "    </tr>\n",
       "    <tr>\n",
       "      <td>1</td>\n",
       "      <td>0.091341</td>\n",
       "      <td>NaN</td>\n",
       "    </tr>\n",
       "    <tr>\n",
       "      <td>2</td>\n",
       "      <td>0.095553</td>\n",
       "      <td>NaN</td>\n",
       "    </tr>\n",
       "    <tr>\n",
       "      <td>3</td>\n",
       "      <td>0.082317</td>\n",
       "      <td>NaN</td>\n",
       "    </tr>\n",
       "    <tr>\n",
       "      <td>4</td>\n",
       "      <td>0.097561</td>\n",
       "      <td>NaN</td>\n",
       "    </tr>\n",
       "    <tr>\n",
       "      <td>5</td>\n",
       "      <td>0.000000</td>\n",
       "      <td>NaN</td>\n",
       "    </tr>\n",
       "  </tbody>\n",
       "</table>\n",
       "</div>"
      ],
      "text/plain": [
       "category_children  есть дети  нет детей\n",
       "children                               \n",
       "0                        NaN   0.075458\n",
       "1                   0.091341        NaN\n",
       "2                   0.095553        NaN\n",
       "3                   0.082317        NaN\n",
       "4                   0.097561        NaN\n",
       "5                   0.000000        NaN"
      ]
     },
     "metadata": {},
     "output_type": "display_data"
    }
   ],
   "source": [
    "display(df_pivot_children.head(10))"
   ]
  },
  {
   "cell_type": "markdown",
   "metadata": {},
   "source": [
    "**Вывод**"
   ]
  },
  {
   "cell_type": "markdown",
   "metadata": {},
   "source": [
    "Как видим из полученных результатов зависимость между наличием детей и возвратом кредита в срок имеется.\n",
    "\n",
    "Нет совсем задолженности у клиентов, у которых 5 детей. Здесь правда присутствует один момент - малая выборка, чтобы делать окончательный вывод, однако клиенты, с таким количеством детей, подходят к взятию кредита и исполнению финансовых обязательств с большей долей ответственности. При этом самый низкий процент задолженностей у клиентов у которых нет детей, что говорит о возможности свободных средств для погашения кредита во время."
   ]
  },
  {
   "cell_type": "markdown",
   "metadata": {},
   "source": [
    "- Есть ли зависимость между семейным положением и возвратом кредита в срок?"
   ]
  },
  {
   "cell_type": "code",
   "execution_count": 49,
   "metadata": {},
   "outputs": [],
   "source": [
    "#добавлю сводную таблицу для того чтобы сделать выводы\n",
    "#сводная таблица группируется по family_status, значения, которые отображены это столбец debt\n",
    "df_pivot_family_status = df.pivot_table(index=['family_status'],\n",
    "                                        columns='family_status_id', values='debt', aggfunc='sum')"
   ]
  },
  {
   "cell_type": "code",
   "execution_count": 50,
   "metadata": {},
   "outputs": [
    {
     "data": {
      "text/html": [
       "<div>\n",
       "<style scoped>\n",
       "    .dataframe tbody tr th:only-of-type {\n",
       "        vertical-align: middle;\n",
       "    }\n",
       "\n",
       "    .dataframe tbody tr th {\n",
       "        vertical-align: top;\n",
       "    }\n",
       "\n",
       "    .dataframe thead th {\n",
       "        text-align: right;\n",
       "    }\n",
       "</style>\n",
       "<table border=\"1\" class=\"dataframe\">\n",
       "  <thead>\n",
       "    <tr style=\"text-align: right;\">\n",
       "      <th>family_status_id</th>\n",
       "      <th>0</th>\n",
       "      <th>1</th>\n",
       "      <th>2</th>\n",
       "      <th>3</th>\n",
       "      <th>4</th>\n",
       "    </tr>\n",
       "    <tr>\n",
       "      <th>family_status</th>\n",
       "      <th></th>\n",
       "      <th></th>\n",
       "      <th></th>\n",
       "      <th></th>\n",
       "      <th></th>\n",
       "    </tr>\n",
       "  </thead>\n",
       "  <tbody>\n",
       "    <tr>\n",
       "      <td>в разводе</td>\n",
       "      <td>NaN</td>\n",
       "      <td>NaN</td>\n",
       "      <td>NaN</td>\n",
       "      <td>85.0</td>\n",
       "      <td>NaN</td>\n",
       "    </tr>\n",
       "    <tr>\n",
       "      <td>вдовец / вдова</td>\n",
       "      <td>NaN</td>\n",
       "      <td>NaN</td>\n",
       "      <td>62.0</td>\n",
       "      <td>NaN</td>\n",
       "      <td>NaN</td>\n",
       "    </tr>\n",
       "    <tr>\n",
       "      <td>гражданский брак</td>\n",
       "      <td>NaN</td>\n",
       "      <td>386.0</td>\n",
       "      <td>NaN</td>\n",
       "      <td>NaN</td>\n",
       "      <td>NaN</td>\n",
       "    </tr>\n",
       "    <tr>\n",
       "      <td>женат / замужем</td>\n",
       "      <td>927.0</td>\n",
       "      <td>NaN</td>\n",
       "      <td>NaN</td>\n",
       "      <td>NaN</td>\n",
       "      <td>NaN</td>\n",
       "    </tr>\n",
       "    <tr>\n",
       "      <td>не женат / не замужем</td>\n",
       "      <td>NaN</td>\n",
       "      <td>NaN</td>\n",
       "      <td>NaN</td>\n",
       "      <td>NaN</td>\n",
       "      <td>273.0</td>\n",
       "    </tr>\n",
       "  </tbody>\n",
       "</table>\n",
       "</div>"
      ],
      "text/plain": [
       "family_status_id           0      1     2     3      4\n",
       "family_status                                         \n",
       "в разводе                NaN    NaN   NaN  85.0    NaN\n",
       "вдовец / вдова           NaN    NaN  62.0   NaN    NaN\n",
       "гражданский брак         NaN  386.0   NaN   NaN    NaN\n",
       "женат / замужем        927.0    NaN   NaN   NaN    NaN\n",
       "не женат / не замужем    NaN    NaN   NaN   NaN  273.0"
      ]
     },
     "execution_count": 50,
     "metadata": {},
     "output_type": "execute_result"
    }
   ],
   "source": [
    "df_pivot_family_status.head(10)"
   ]
  },
  {
   "cell_type": "markdown",
   "metadata": {},
   "source": [
    "Как видно из таблицы больше всего задолежнностей у клиентов, находящихся в семейном статусе женат/замужем."
   ]
  },
  {
   "cell_type": "code",
   "execution_count": 51,
   "metadata": {},
   "outputs": [],
   "source": [
    "#проверю показатели по соотношению между количеством задолженностей\n",
    "#и общим количеством должников в разных семейных статусах\n",
    "df_pivot_family_status = df.pivot_table(index=['family_status'],\n",
    "                                        columns='family_status_id', values='debt', aggfunc='mean')"
   ]
  },
  {
   "cell_type": "code",
   "execution_count": 52,
   "metadata": {},
   "outputs": [
    {
     "data": {
      "text/html": [
       "<div>\n",
       "<style scoped>\n",
       "    .dataframe tbody tr th:only-of-type {\n",
       "        vertical-align: middle;\n",
       "    }\n",
       "\n",
       "    .dataframe tbody tr th {\n",
       "        vertical-align: top;\n",
       "    }\n",
       "\n",
       "    .dataframe thead th {\n",
       "        text-align: right;\n",
       "    }\n",
       "</style>\n",
       "<table border=\"1\" class=\"dataframe\">\n",
       "  <thead>\n",
       "    <tr style=\"text-align: right;\">\n",
       "      <th>family_status_id</th>\n",
       "      <th>0</th>\n",
       "      <th>1</th>\n",
       "      <th>2</th>\n",
       "      <th>3</th>\n",
       "      <th>4</th>\n",
       "    </tr>\n",
       "    <tr>\n",
       "      <th>family_status</th>\n",
       "      <th></th>\n",
       "      <th></th>\n",
       "      <th></th>\n",
       "      <th></th>\n",
       "      <th></th>\n",
       "    </tr>\n",
       "  </thead>\n",
       "  <tbody>\n",
       "    <tr>\n",
       "      <td>в разводе</td>\n",
       "      <td>NaN</td>\n",
       "      <td>NaN</td>\n",
       "      <td>NaN</td>\n",
       "      <td>0.07173</td>\n",
       "      <td>NaN</td>\n",
       "    </tr>\n",
       "    <tr>\n",
       "      <td>вдовец / вдова</td>\n",
       "      <td>NaN</td>\n",
       "      <td>NaN</td>\n",
       "      <td>0.06499</td>\n",
       "      <td>NaN</td>\n",
       "      <td>NaN</td>\n",
       "    </tr>\n",
       "    <tr>\n",
       "      <td>гражданский брак</td>\n",
       "      <td>NaN</td>\n",
       "      <td>0.093485</td>\n",
       "      <td>NaN</td>\n",
       "      <td>NaN</td>\n",
       "      <td>NaN</td>\n",
       "    </tr>\n",
       "    <tr>\n",
       "      <td>женат / замужем</td>\n",
       "      <td>0.075427</td>\n",
       "      <td>NaN</td>\n",
       "      <td>NaN</td>\n",
       "      <td>NaN</td>\n",
       "      <td>NaN</td>\n",
       "    </tr>\n",
       "    <tr>\n",
       "      <td>не женат / не замужем</td>\n",
       "      <td>NaN</td>\n",
       "      <td>NaN</td>\n",
       "      <td>NaN</td>\n",
       "      <td>NaN</td>\n",
       "      <td>0.097709</td>\n",
       "    </tr>\n",
       "  </tbody>\n",
       "</table>\n",
       "</div>"
      ],
      "text/plain": [
       "family_status_id              0         1        2        3         4\n",
       "family_status                                                        \n",
       "в разводе                   NaN       NaN      NaN  0.07173       NaN\n",
       "вдовец / вдова              NaN       NaN  0.06499      NaN       NaN\n",
       "гражданский брак            NaN  0.093485      NaN      NaN       NaN\n",
       "женат / замужем        0.075427       NaN      NaN      NaN       NaN\n",
       "не женат / не замужем       NaN       NaN      NaN      NaN  0.097709"
      ]
     },
     "execution_count": 52,
     "metadata": {},
     "output_type": "execute_result"
    }
   ],
   "source": [
    "df_pivot_family_status.head(10)"
   ]
  },
  {
   "cell_type": "code",
   "execution_count": 53,
   "metadata": {},
   "outputs": [],
   "source": [
    "#добавлю агрегированную функцию для проверки и корректности выводов\n",
    "family_grouped = df.groupby('family_status').agg({'debt':['count','sum', 'mean']}) "
   ]
  },
  {
   "cell_type": "code",
   "execution_count": 54,
   "metadata": {},
   "outputs": [
    {
     "data": {
      "text/html": [
       "<div>\n",
       "<style scoped>\n",
       "    .dataframe tbody tr th:only-of-type {\n",
       "        vertical-align: middle;\n",
       "    }\n",
       "\n",
       "    .dataframe tbody tr th {\n",
       "        vertical-align: top;\n",
       "    }\n",
       "\n",
       "    .dataframe thead tr th {\n",
       "        text-align: left;\n",
       "    }\n",
       "\n",
       "    .dataframe thead tr:last-of-type th {\n",
       "        text-align: right;\n",
       "    }\n",
       "</style>\n",
       "<table border=\"1\" class=\"dataframe\">\n",
       "  <thead>\n",
       "    <tr>\n",
       "      <th></th>\n",
       "      <th colspan=\"3\" halign=\"left\">debt</th>\n",
       "    </tr>\n",
       "    <tr>\n",
       "      <th></th>\n",
       "      <th>count</th>\n",
       "      <th>sum</th>\n",
       "      <th>mean</th>\n",
       "    </tr>\n",
       "    <tr>\n",
       "      <th>family_status</th>\n",
       "      <th></th>\n",
       "      <th></th>\n",
       "      <th></th>\n",
       "    </tr>\n",
       "  </thead>\n",
       "  <tbody>\n",
       "    <tr>\n",
       "      <td>в разводе</td>\n",
       "      <td>1185</td>\n",
       "      <td>85</td>\n",
       "      <td>0.071730</td>\n",
       "    </tr>\n",
       "    <tr>\n",
       "      <td>вдовец / вдова</td>\n",
       "      <td>954</td>\n",
       "      <td>62</td>\n",
       "      <td>0.064990</td>\n",
       "    </tr>\n",
       "    <tr>\n",
       "      <td>гражданский брак</td>\n",
       "      <td>4129</td>\n",
       "      <td>386</td>\n",
       "      <td>0.093485</td>\n",
       "    </tr>\n",
       "    <tr>\n",
       "      <td>женат / замужем</td>\n",
       "      <td>12290</td>\n",
       "      <td>927</td>\n",
       "      <td>0.075427</td>\n",
       "    </tr>\n",
       "    <tr>\n",
       "      <td>не женат / не замужем</td>\n",
       "      <td>2794</td>\n",
       "      <td>273</td>\n",
       "      <td>0.097709</td>\n",
       "    </tr>\n",
       "  </tbody>\n",
       "</table>\n",
       "</div>"
      ],
      "text/plain": [
       "                        debt               \n",
       "                       count  sum      mean\n",
       "family_status                              \n",
       "в разводе               1185   85  0.071730\n",
       "вдовец / вдова           954   62  0.064990\n",
       "гражданский брак        4129  386  0.093485\n",
       "женат / замужем        12290  927  0.075427\n",
       "не женат / не замужем   2794  273  0.097709"
      ]
     },
     "execution_count": 54,
     "metadata": {},
     "output_type": "execute_result"
    }
   ],
   "source": [
    "family_grouped"
   ]
  },
  {
   "cell_type": "code",
   "execution_count": 55,
   "metadata": {},
   "outputs": [],
   "source": [
    "#перед выводом добавлю ещё одну сводную таблицу\n",
    "#которая как мне кажется подробнее отображает значимые показатели\n",
    "df_pivot_children_family_status = df.pivot_table(index=['children'],\n",
    "                                                 columns='family_status', values='debt', aggfunc='mean')"
   ]
  },
  {
   "cell_type": "code",
   "execution_count": 56,
   "metadata": {},
   "outputs": [
    {
     "data": {
      "text/html": [
       "<div>\n",
       "<style scoped>\n",
       "    .dataframe tbody tr th:only-of-type {\n",
       "        vertical-align: middle;\n",
       "    }\n",
       "\n",
       "    .dataframe tbody tr th {\n",
       "        vertical-align: top;\n",
       "    }\n",
       "\n",
       "    .dataframe thead th {\n",
       "        text-align: right;\n",
       "    }\n",
       "</style>\n",
       "<table border=\"1\" class=\"dataframe\">\n",
       "  <thead>\n",
       "    <tr style=\"text-align: right;\">\n",
       "      <th>family_status</th>\n",
       "      <th>в разводе</th>\n",
       "      <th>вдовец / вдова</th>\n",
       "      <th>гражданский брак</th>\n",
       "      <th>женат / замужем</th>\n",
       "      <th>не женат / не замужем</th>\n",
       "    </tr>\n",
       "    <tr>\n",
       "      <th>children</th>\n",
       "      <th></th>\n",
       "      <th></th>\n",
       "      <th></th>\n",
       "      <th></th>\n",
       "      <th></th>\n",
       "    </tr>\n",
       "  </thead>\n",
       "  <tbody>\n",
       "    <tr>\n",
       "      <td>0</td>\n",
       "      <td>0.070785</td>\n",
       "      <td>0.061758</td>\n",
       "      <td>0.083579</td>\n",
       "      <td>0.069114</td>\n",
       "      <td>0.093375</td>\n",
       "    </tr>\n",
       "    <tr>\n",
       "      <td>1</td>\n",
       "      <td>0.066667</td>\n",
       "      <td>0.086420</td>\n",
       "      <td>0.118712</td>\n",
       "      <td>0.081748</td>\n",
       "      <td>0.112832</td>\n",
       "    </tr>\n",
       "    <tr>\n",
       "      <td>2</td>\n",
       "      <td>0.098765</td>\n",
       "      <td>0.125000</td>\n",
       "      <td>0.093484</td>\n",
       "      <td>0.094088</td>\n",
       "      <td>0.120482</td>\n",
       "    </tr>\n",
       "    <tr>\n",
       "      <td>3</td>\n",
       "      <td>0.090909</td>\n",
       "      <td>0.000000</td>\n",
       "      <td>0.142857</td>\n",
       "      <td>0.068826</td>\n",
       "      <td>0.125000</td>\n",
       "    </tr>\n",
       "    <tr>\n",
       "      <td>4</td>\n",
       "      <td>0.000000</td>\n",
       "      <td>0.000000</td>\n",
       "      <td>0.000000</td>\n",
       "      <td>0.103448</td>\n",
       "      <td>0.500000</td>\n",
       "    </tr>\n",
       "    <tr>\n",
       "      <td>5</td>\n",
       "      <td>NaN</td>\n",
       "      <td>NaN</td>\n",
       "      <td>0.000000</td>\n",
       "      <td>0.000000</td>\n",
       "      <td>NaN</td>\n",
       "    </tr>\n",
       "  </tbody>\n",
       "</table>\n",
       "</div>"
      ],
      "text/plain": [
       "family_status  в разводе  вдовец / вдова  гражданский брак  женат / замужем  \\\n",
       "children                                                                      \n",
       "0               0.070785        0.061758          0.083579         0.069114   \n",
       "1               0.066667        0.086420          0.118712         0.081748   \n",
       "2               0.098765        0.125000          0.093484         0.094088   \n",
       "3               0.090909        0.000000          0.142857         0.068826   \n",
       "4               0.000000        0.000000          0.000000         0.103448   \n",
       "5                    NaN             NaN          0.000000         0.000000   \n",
       "\n",
       "family_status  не женат / не замужем  \n",
       "children                              \n",
       "0                           0.093375  \n",
       "1                           0.112832  \n",
       "2                           0.120482  \n",
       "3                           0.125000  \n",
       "4                           0.500000  \n",
       "5                                NaN  "
      ]
     },
     "execution_count": 56,
     "metadata": {},
     "output_type": "execute_result"
    }
   ],
   "source": [
    "df_pivot_children_family_status"
   ]
  },
  {
   "cell_type": "markdown",
   "metadata": {},
   "source": [
    "**Вывод**"
   ]
  },
  {
   "cell_type": "markdown",
   "metadata": {},
   "source": [
    "Зависимость между семейным положением и возвратом кредита в срок наблюдается. Клиенты со статусами вдовец/вдова, в разводе и женат/замужем имеют низкий процент количества задолженностей среди общего числа клиентов с этими же статусами. При этом высокий процент задолженностей наблюдается у клиентов, которые в семейных статусах указывают гражданский брак, не женат/не замужем. При этом основные клиенты банка это люди с семейным статусом женат/замужем, но процент задолженностей у них средний среди остальных клиентов."
   ]
  },
  {
   "cell_type": "markdown",
   "metadata": {},
   "source": [
    "- Есть ли зависимость между уровнем дохода и возвратом кредита в срок?"
   ]
  },
  {
   "cell_type": "code",
   "execution_count": 57,
   "metadata": {},
   "outputs": [],
   "source": [
    "#добавлю сводную таблицу для того чтобы сделать выводы\n",
    "#сводная таблица группируется по total_income_sort, значения, которые отображены это столбец debt - задолженность\n",
    "df_pivot_total_income = df.pivot_table(index=['total_income_sort'],\n",
    "                                        columns='dob_years_group', values='debt', aggfunc='sum')"
   ]
  },
  {
   "cell_type": "code",
   "execution_count": 58,
   "metadata": {},
   "outputs": [
    {
     "data": {
      "text/html": [
       "<div>\n",
       "<style scoped>\n",
       "    .dataframe tbody tr th:only-of-type {\n",
       "        vertical-align: middle;\n",
       "    }\n",
       "\n",
       "    .dataframe tbody tr th {\n",
       "        vertical-align: top;\n",
       "    }\n",
       "\n",
       "    .dataframe thead th {\n",
       "        text-align: right;\n",
       "    }\n",
       "</style>\n",
       "<table border=\"1\" class=\"dataframe\">\n",
       "  <thead>\n",
       "    <tr style=\"text-align: right;\">\n",
       "      <th>dob_years_group</th>\n",
       "      <th>взрослые</th>\n",
       "      <th>молодые</th>\n",
       "      <th>пенсионеры</th>\n",
       "    </tr>\n",
       "    <tr>\n",
       "      <th>total_income_sort</th>\n",
       "      <th></th>\n",
       "      <th></th>\n",
       "      <th></th>\n",
       "    </tr>\n",
       "  </thead>\n",
       "  <tbody>\n",
       "    <tr>\n",
       "      <td>высокий доход</td>\n",
       "      <td>508</td>\n",
       "      <td>389</td>\n",
       "      <td>20</td>\n",
       "    </tr>\n",
       "    <tr>\n",
       "      <td>низкий доход</td>\n",
       "      <td>2</td>\n",
       "      <td>0</td>\n",
       "      <td>0</td>\n",
       "    </tr>\n",
       "    <tr>\n",
       "      <td>сверхвысокий доход</td>\n",
       "      <td>449</td>\n",
       "      <td>295</td>\n",
       "      <td>11</td>\n",
       "    </tr>\n",
       "    <tr>\n",
       "      <td>средний доход</td>\n",
       "      <td>27</td>\n",
       "      <td>14</td>\n",
       "      <td>4</td>\n",
       "    </tr>\n",
       "  </tbody>\n",
       "</table>\n",
       "</div>"
      ],
      "text/plain": [
       "dob_years_group     взрослые  молодые  пенсионеры\n",
       "total_income_sort                                \n",
       "высокий доход            508      389          20\n",
       "низкий доход               2        0           0\n",
       "сверхвысокий доход       449      295          11\n",
       "средний доход             27       14           4"
      ]
     },
     "execution_count": 58,
     "metadata": {},
     "output_type": "execute_result"
    }
   ],
   "source": [
    "df_pivot_total_income.head(10)"
   ]
  },
  {
   "cell_type": "code",
   "execution_count": 59,
   "metadata": {},
   "outputs": [],
   "source": [
    "#добавлю сводную таблицу для того чтобы сделать выводы\n",
    "#сводная таблица группируется по total_income_sort, значения, которые отображены это столбец debt - задолженность\n",
    "#указано в соотношении наличия задолженности на общее количество клиентов в каждой категории\n",
    "df_pivot_total_income = df.pivot_table(index=['total_income_sort'],\n",
    "                                        columns='dob_years_group', values='debt', aggfunc='mean')"
   ]
  },
  {
   "cell_type": "code",
   "execution_count": 60,
   "metadata": {},
   "outputs": [
    {
     "data": {
      "text/html": [
       "<div>\n",
       "<style scoped>\n",
       "    .dataframe tbody tr th:only-of-type {\n",
       "        vertical-align: middle;\n",
       "    }\n",
       "\n",
       "    .dataframe tbody tr th {\n",
       "        vertical-align: top;\n",
       "    }\n",
       "\n",
       "    .dataframe thead th {\n",
       "        text-align: right;\n",
       "    }\n",
       "</style>\n",
       "<table border=\"1\" class=\"dataframe\">\n",
       "  <thead>\n",
       "    <tr style=\"text-align: right;\">\n",
       "      <th>dob_years_group</th>\n",
       "      <th>взрослые</th>\n",
       "      <th>молодые</th>\n",
       "      <th>пенсионеры</th>\n",
       "    </tr>\n",
       "    <tr>\n",
       "      <th>total_income_sort</th>\n",
       "      <th></th>\n",
       "      <th></th>\n",
       "      <th></th>\n",
       "    </tr>\n",
       "  </thead>\n",
       "  <tbody>\n",
       "    <tr>\n",
       "      <td>высокий доход</td>\n",
       "      <td>0.073442</td>\n",
       "      <td>0.117629</td>\n",
       "      <td>0.047170</td>\n",
       "    </tr>\n",
       "    <tr>\n",
       "      <td>низкий доход</td>\n",
       "      <td>0.117647</td>\n",
       "      <td>0.000000</td>\n",
       "      <td>0.000000</td>\n",
       "    </tr>\n",
       "    <tr>\n",
       "      <td>сверхвысокий доход</td>\n",
       "      <td>0.070101</td>\n",
       "      <td>0.094703</td>\n",
       "      <td>0.055556</td>\n",
       "    </tr>\n",
       "    <tr>\n",
       "      <td>средний доход</td>\n",
       "      <td>0.050373</td>\n",
       "      <td>0.088050</td>\n",
       "      <td>0.052632</td>\n",
       "    </tr>\n",
       "  </tbody>\n",
       "</table>\n",
       "</div>"
      ],
      "text/plain": [
       "dob_years_group     взрослые   молодые  пенсионеры\n",
       "total_income_sort                                 \n",
       "высокий доход       0.073442  0.117629    0.047170\n",
       "низкий доход        0.117647  0.000000    0.000000\n",
       "сверхвысокий доход  0.070101  0.094703    0.055556\n",
       "средний доход       0.050373  0.088050    0.052632"
      ]
     },
     "execution_count": 60,
     "metadata": {},
     "output_type": "execute_result"
    }
   ],
   "source": [
    "df_pivot_total_income.head(10)"
   ]
  },
  {
   "cell_type": "code",
   "execution_count": 61,
   "metadata": {},
   "outputs": [],
   "source": [
    "#добавлю агрегированную функцию\n",
    "total_income_grouped = df.groupby('total_income_sort').agg({'debt':['count','sum', 'mean']}) "
   ]
  },
  {
   "cell_type": "code",
   "execution_count": 62,
   "metadata": {},
   "outputs": [
    {
     "data": {
      "text/html": [
       "<div>\n",
       "<style scoped>\n",
       "    .dataframe tbody tr th:only-of-type {\n",
       "        vertical-align: middle;\n",
       "    }\n",
       "\n",
       "    .dataframe tbody tr th {\n",
       "        vertical-align: top;\n",
       "    }\n",
       "\n",
       "    .dataframe thead tr th {\n",
       "        text-align: left;\n",
       "    }\n",
       "\n",
       "    .dataframe thead tr:last-of-type th {\n",
       "        text-align: right;\n",
       "    }\n",
       "</style>\n",
       "<table border=\"1\" class=\"dataframe\">\n",
       "  <thead>\n",
       "    <tr>\n",
       "      <th></th>\n",
       "      <th colspan=\"3\" halign=\"left\">debt</th>\n",
       "    </tr>\n",
       "    <tr>\n",
       "      <th></th>\n",
       "      <th>count</th>\n",
       "      <th>sum</th>\n",
       "      <th>mean</th>\n",
       "    </tr>\n",
       "    <tr>\n",
       "      <th>total_income_sort</th>\n",
       "      <th></th>\n",
       "      <th></th>\n",
       "      <th></th>\n",
       "    </tr>\n",
       "  </thead>\n",
       "  <tbody>\n",
       "    <tr>\n",
       "      <td>высокий доход</td>\n",
       "      <td>10768</td>\n",
       "      <td>925</td>\n",
       "      <td>0.085903</td>\n",
       "    </tr>\n",
       "    <tr>\n",
       "      <td>низкий доход</td>\n",
       "      <td>22</td>\n",
       "      <td>2</td>\n",
       "      <td>0.090909</td>\n",
       "    </tr>\n",
       "    <tr>\n",
       "      <td>сверхвысокий доход</td>\n",
       "      <td>9782</td>\n",
       "      <td>759</td>\n",
       "      <td>0.077591</td>\n",
       "    </tr>\n",
       "    <tr>\n",
       "      <td>средний доход</td>\n",
       "      <td>780</td>\n",
       "      <td>47</td>\n",
       "      <td>0.060256</td>\n",
       "    </tr>\n",
       "  </tbody>\n",
       "</table>\n",
       "</div>"
      ],
      "text/plain": [
       "                     debt               \n",
       "                    count  sum      mean\n",
       "total_income_sort                       \n",
       "высокий доход       10768  925  0.085903\n",
       "низкий доход           22    2  0.090909\n",
       "сверхвысокий доход   9782  759  0.077591\n",
       "средний доход         780   47  0.060256"
      ]
     },
     "execution_count": 62,
     "metadata": {},
     "output_type": "execute_result"
    }
   ],
   "source": [
    "total_income_grouped"
   ]
  },
  {
   "cell_type": "markdown",
   "metadata": {},
   "source": [
    "**Вывод**"
   ]
  },
  {
   "cell_type": "markdown",
   "metadata": {},
   "source": [
    "Как видно из таблиц клиенты со средним доходом имеют самый низкий процент задолженностей, самый высокий у клиентов с низким доходом. Клиентов со сверхвысоким доходом большого количество у банка при этом один из самых низких процентов задолженностей."
   ]
  },
  {
   "cell_type": "markdown",
   "metadata": {},
   "source": [
    "- Как разные цели кредита влияют на его возврат в срок?"
   ]
  },
  {
   "cell_type": "code",
   "execution_count": 63,
   "metadata": {},
   "outputs": [],
   "source": [
    "#добавлю сводную таблицу\n",
    "#сводная таблица группируется по purpose, значения, которые отображены это столбец debt - задолженность\n",
    "df_pivot_purpose = df.pivot_table(index=['purpose'],\n",
    "                                        columns='income_type', values='debt', aggfunc='sum')"
   ]
  },
  {
   "cell_type": "code",
   "execution_count": 64,
   "metadata": {},
   "outputs": [
    {
     "data": {
      "text/html": [
       "<div>\n",
       "<style scoped>\n",
       "    .dataframe tbody tr th:only-of-type {\n",
       "        vertical-align: middle;\n",
       "    }\n",
       "\n",
       "    .dataframe tbody tr th {\n",
       "        vertical-align: top;\n",
       "    }\n",
       "\n",
       "    .dataframe thead th {\n",
       "        text-align: right;\n",
       "    }\n",
       "</style>\n",
       "<table border=\"1\" class=\"dataframe\">\n",
       "  <thead>\n",
       "    <tr style=\"text-align: right;\">\n",
       "      <th>income_type</th>\n",
       "      <th>безработный</th>\n",
       "      <th>в декрете</th>\n",
       "      <th>госслужащий</th>\n",
       "      <th>компаньон</th>\n",
       "      <th>пенсионер</th>\n",
       "      <th>предприниматель</th>\n",
       "      <th>сотрудник</th>\n",
       "      <th>студент</th>\n",
       "    </tr>\n",
       "    <tr>\n",
       "      <th>purpose</th>\n",
       "      <th></th>\n",
       "      <th></th>\n",
       "      <th></th>\n",
       "      <th></th>\n",
       "      <th></th>\n",
       "      <th></th>\n",
       "      <th></th>\n",
       "      <th></th>\n",
       "    </tr>\n",
       "  </thead>\n",
       "  <tbody>\n",
       "    <tr>\n",
       "      <td>автомобиль</td>\n",
       "      <td>NaN</td>\n",
       "      <td>1.0</td>\n",
       "      <td>22.0</td>\n",
       "      <td>84.0</td>\n",
       "      <td>50.0</td>\n",
       "      <td>NaN</td>\n",
       "      <td>243.0</td>\n",
       "      <td>NaN</td>\n",
       "    </tr>\n",
       "    <tr>\n",
       "      <td>недвижимость</td>\n",
       "      <td>1.0</td>\n",
       "      <td>NaN</td>\n",
       "      <td>36.0</td>\n",
       "      <td>167.0</td>\n",
       "      <td>92.0</td>\n",
       "      <td>0.0</td>\n",
       "      <td>483.0</td>\n",
       "      <td>0.0</td>\n",
       "    </tr>\n",
       "    <tr>\n",
       "      <td>образование</td>\n",
       "      <td>NaN</td>\n",
       "      <td>NaN</td>\n",
       "      <td>21.0</td>\n",
       "      <td>72.0</td>\n",
       "      <td>48.0</td>\n",
       "      <td>NaN</td>\n",
       "      <td>229.0</td>\n",
       "      <td>NaN</td>\n",
       "    </tr>\n",
       "    <tr>\n",
       "      <td>свадьба</td>\n",
       "      <td>NaN</td>\n",
       "      <td>NaN</td>\n",
       "      <td>7.0</td>\n",
       "      <td>52.0</td>\n",
       "      <td>25.0</td>\n",
       "      <td>0.0</td>\n",
       "      <td>100.0</td>\n",
       "      <td>NaN</td>\n",
       "    </tr>\n",
       "  </tbody>\n",
       "</table>\n",
       "</div>"
      ],
      "text/plain": [
       "income_type   безработный  в декрете  госслужащий  компаньон  пенсионер  \\\n",
       "purpose                                                                   \n",
       "автомобиль            NaN        1.0         22.0       84.0       50.0   \n",
       "недвижимость          1.0        NaN         36.0      167.0       92.0   \n",
       "образование           NaN        NaN         21.0       72.0       48.0   \n",
       "свадьба               NaN        NaN          7.0       52.0       25.0   \n",
       "\n",
       "income_type   предприниматель  сотрудник  студент  \n",
       "purpose                                            \n",
       "автомобиль                NaN      243.0      NaN  \n",
       "недвижимость              0.0      483.0      0.0  \n",
       "образование               NaN      229.0      NaN  \n",
       "свадьба                   0.0      100.0      NaN  "
      ]
     },
     "execution_count": 64,
     "metadata": {},
     "output_type": "execute_result"
    }
   ],
   "source": [
    "df_pivot_purpose.head(10)"
   ]
  },
  {
   "cell_type": "markdown",
   "metadata": {},
   "source": [
    "Данная сводная таблица позволяет не просто наблюдать какие задолженность по целям кредита, но и у какой категории по типу занятости."
   ]
  },
  {
   "cell_type": "code",
   "execution_count": 65,
   "metadata": {},
   "outputs": [],
   "source": [
    "#добавлю сводную таблицу\n",
    "#сводная таблица группируется по purpose, значения, которые отображены это столбец debt - задолженность\n",
    "#указано в соотношении наличия задолженности на общее количество клиентов в каждой категории\n",
    "df_pivot_purpose = df.pivot_table(index=['purpose'],\n",
    "                                        columns='income_type', values='debt', aggfunc='mean')"
   ]
  },
  {
   "cell_type": "code",
   "execution_count": 66,
   "metadata": {},
   "outputs": [
    {
     "data": {
      "text/html": [
       "<div>\n",
       "<style scoped>\n",
       "    .dataframe tbody tr th:only-of-type {\n",
       "        vertical-align: middle;\n",
       "    }\n",
       "\n",
       "    .dataframe tbody tr th {\n",
       "        vertical-align: top;\n",
       "    }\n",
       "\n",
       "    .dataframe thead th {\n",
       "        text-align: right;\n",
       "    }\n",
       "</style>\n",
       "<table border=\"1\" class=\"dataframe\">\n",
       "  <thead>\n",
       "    <tr style=\"text-align: right;\">\n",
       "      <th>income_type</th>\n",
       "      <th>безработный</th>\n",
       "      <th>в декрете</th>\n",
       "      <th>госслужащий</th>\n",
       "      <th>компаньон</th>\n",
       "      <th>пенсионер</th>\n",
       "      <th>предприниматель</th>\n",
       "      <th>сотрудник</th>\n",
       "      <th>студент</th>\n",
       "    </tr>\n",
       "    <tr>\n",
       "      <th>purpose</th>\n",
       "      <th></th>\n",
       "      <th></th>\n",
       "      <th></th>\n",
       "      <th></th>\n",
       "      <th></th>\n",
       "      <th></th>\n",
       "      <th></th>\n",
       "      <th></th>\n",
       "    </tr>\n",
       "  </thead>\n",
       "  <tbody>\n",
       "    <tr>\n",
       "      <td>автомобиль</td>\n",
       "      <td>NaN</td>\n",
       "      <td>1.0</td>\n",
       "      <td>0.077193</td>\n",
       "      <td>0.080383</td>\n",
       "      <td>0.063131</td>\n",
       "      <td>NaN</td>\n",
       "      <td>0.112448</td>\n",
       "      <td>NaN</td>\n",
       "    </tr>\n",
       "    <tr>\n",
       "      <td>недвижимость</td>\n",
       "      <td>0.5</td>\n",
       "      <td>NaN</td>\n",
       "      <td>0.047809</td>\n",
       "      <td>0.065800</td>\n",
       "      <td>0.048910</td>\n",
       "      <td>0.0</td>\n",
       "      <td>0.086451</td>\n",
       "      <td>0.0</td>\n",
       "    </tr>\n",
       "    <tr>\n",
       "      <td>образование</td>\n",
       "      <td>NaN</td>\n",
       "      <td>NaN</td>\n",
       "      <td>0.082031</td>\n",
       "      <td>0.075710</td>\n",
       "      <td>0.067133</td>\n",
       "      <td>NaN</td>\n",
       "      <td>0.110468</td>\n",
       "      <td>NaN</td>\n",
       "    </tr>\n",
       "    <tr>\n",
       "      <td>свадьба</td>\n",
       "      <td>NaN</td>\n",
       "      <td>NaN</td>\n",
       "      <td>0.044586</td>\n",
       "      <td>0.099426</td>\n",
       "      <td>0.059382</td>\n",
       "      <td>0.0</td>\n",
       "      <td>0.082781</td>\n",
       "      <td>NaN</td>\n",
       "    </tr>\n",
       "  </tbody>\n",
       "</table>\n",
       "</div>"
      ],
      "text/plain": [
       "income_type   безработный  в декрете  госслужащий  компаньон  пенсионер  \\\n",
       "purpose                                                                   \n",
       "автомобиль            NaN        1.0     0.077193   0.080383   0.063131   \n",
       "недвижимость          0.5        NaN     0.047809   0.065800   0.048910   \n",
       "образование           NaN        NaN     0.082031   0.075710   0.067133   \n",
       "свадьба               NaN        NaN     0.044586   0.099426   0.059382   \n",
       "\n",
       "income_type   предприниматель  сотрудник  студент  \n",
       "purpose                                            \n",
       "автомобиль                NaN   0.112448      NaN  \n",
       "недвижимость              0.0   0.086451      0.0  \n",
       "образование               NaN   0.110468      NaN  \n",
       "свадьба                   0.0   0.082781      NaN  "
      ]
     },
     "execution_count": 66,
     "metadata": {},
     "output_type": "execute_result"
    }
   ],
   "source": [
    "df_pivot_purpose.head(10)"
   ]
  },
  {
   "cell_type": "code",
   "execution_count": 67,
   "metadata": {},
   "outputs": [],
   "source": [
    "#добавлю агрегированную функцию\n",
    "purpose_grouped = df.groupby('purpose').agg({'debt':['count','sum', 'mean']}) "
   ]
  },
  {
   "cell_type": "code",
   "execution_count": 68,
   "metadata": {},
   "outputs": [
    {
     "data": {
      "text/html": [
       "<div>\n",
       "<style scoped>\n",
       "    .dataframe tbody tr th:only-of-type {\n",
       "        vertical-align: middle;\n",
       "    }\n",
       "\n",
       "    .dataframe tbody tr th {\n",
       "        vertical-align: top;\n",
       "    }\n",
       "\n",
       "    .dataframe thead tr th {\n",
       "        text-align: left;\n",
       "    }\n",
       "\n",
       "    .dataframe thead tr:last-of-type th {\n",
       "        text-align: right;\n",
       "    }\n",
       "</style>\n",
       "<table border=\"1\" class=\"dataframe\">\n",
       "  <thead>\n",
       "    <tr>\n",
       "      <th></th>\n",
       "      <th colspan=\"3\" halign=\"left\">debt</th>\n",
       "    </tr>\n",
       "    <tr>\n",
       "      <th></th>\n",
       "      <th>count</th>\n",
       "      <th>sum</th>\n",
       "      <th>mean</th>\n",
       "    </tr>\n",
       "    <tr>\n",
       "      <th>purpose</th>\n",
       "      <th></th>\n",
       "      <th></th>\n",
       "      <th></th>\n",
       "    </tr>\n",
       "  </thead>\n",
       "  <tbody>\n",
       "    <tr>\n",
       "      <td>автомобиль</td>\n",
       "      <td>4284</td>\n",
       "      <td>400</td>\n",
       "      <td>0.093371</td>\n",
       "    </tr>\n",
       "    <tr>\n",
       "      <td>недвижимость</td>\n",
       "      <td>10763</td>\n",
       "      <td>779</td>\n",
       "      <td>0.072378</td>\n",
       "    </tr>\n",
       "    <tr>\n",
       "      <td>образование</td>\n",
       "      <td>3995</td>\n",
       "      <td>370</td>\n",
       "      <td>0.092616</td>\n",
       "    </tr>\n",
       "    <tr>\n",
       "      <td>свадьба</td>\n",
       "      <td>2310</td>\n",
       "      <td>184</td>\n",
       "      <td>0.079654</td>\n",
       "    </tr>\n",
       "  </tbody>\n",
       "</table>\n",
       "</div>"
      ],
      "text/plain": [
       "               debt               \n",
       "              count  sum      mean\n",
       "purpose                           \n",
       "автомобиль     4284  400  0.093371\n",
       "недвижимость  10763  779  0.072378\n",
       "образование    3995  370  0.092616\n",
       "свадьба        2310  184  0.079654"
      ]
     },
     "execution_count": 68,
     "metadata": {},
     "output_type": "execute_result"
    }
   ],
   "source": [
    "purpose_grouped"
   ]
  },
  {
   "cell_type": "markdown",
   "metadata": {},
   "source": [
    "**Вывод**"
   ]
  },
  {
   "cell_type": "markdown",
   "metadata": {},
   "source": [
    "Клиенты у которых цель кредита был автомобиль или образование имеют самые высокие показатели по задолженности. Люди, которые брали кредит на жильё имеют самый низкий процент задолженности среди представленных клиентов. Здесь можно судить о более серьёзном подходе к такой категории как недвижимость. "
   ]
  },
  {
   "cell_type": "markdown",
   "metadata": {},
   "source": [
    "## Шаг 4. Общий вывод"
   ]
  },
  {
   "cell_type": "markdown",
   "metadata": {},
   "source": [
    "Заказчиком исследования является кредитный отдел банка. Была поставлена задача, узнать влияет ли семейное положение и количество детей клиента на факт погашения кредита в срок.\n",
    "В ходе работе с предоставленными данными о платёжеспособности клиента были проанализированы разные категории клиентов в разных разрезах: цели кредита, уровень дохода, возраст, наличие детей и семейное положение.\n",
    "\n",
    "Самое низкое соотношение количества должников к общему количеству клиентов по конкретной категории имеют клиенты в семейных статусах: вдовец/вдова - 0.065693, в разводе - 0.071130, женат/замужем - 0.075452.\n",
    "\n",
    "По наличию и отсутствию детей можно выделить клиентов, у которых самое низкое соотношение количества должников к общему количеству клиентов по конкретной категории: 5 детей - 0 задолженностей, нет детей - 0.075444, 3 детей - 0.081818.\n"
   ]
  }
 ],
 "metadata": {
  "ExecuteTimeLog": [
   {
    "duration": 3192,
    "start_time": "2021-12-25T11:07:33.330Z"
   },
   {
    "duration": 2885,
    "start_time": "2021-12-25T11:08:11.542Z"
   },
   {
    "duration": 3027,
    "start_time": "2021-12-25T11:12:13.353Z"
   },
   {
    "duration": 2445,
    "start_time": "2021-12-25T11:15:32.421Z"
   },
   {
    "duration": 2617,
    "start_time": "2021-12-25T11:16:25.851Z"
   },
   {
    "duration": 2426,
    "start_time": "2021-12-25T11:19:17.339Z"
   },
   {
    "duration": 2399,
    "start_time": "2021-12-25T11:22:46.648Z"
   },
   {
    "duration": 2339,
    "start_time": "2021-12-25T11:22:54.967Z"
   },
   {
    "duration": 2406,
    "start_time": "2021-12-25T11:28:05.695Z"
   },
   {
    "duration": 2301,
    "start_time": "2021-12-25T11:38:40.103Z"
   },
   {
    "duration": 804,
    "start_time": "2021-12-25T11:38:47.046Z"
   },
   {
    "duration": 1312,
    "start_time": "2021-12-25T11:42:49.132Z"
   },
   {
    "duration": 2401,
    "start_time": "2021-12-25T11:43:03.182Z"
   },
   {
    "duration": 2543,
    "start_time": "2021-12-25T11:43:09.571Z"
   },
   {
    "duration": 2536,
    "start_time": "2021-12-25T11:43:14.893Z"
   },
   {
    "duration": 852,
    "start_time": "2021-12-26T11:39:49.884Z"
   },
   {
    "duration": 7,
    "start_time": "2021-12-26T11:41:21.531Z"
   },
   {
    "duration": 11,
    "start_time": "2021-12-26T11:41:34.515Z"
   },
   {
    "duration": 16,
    "start_time": "2021-12-26T11:42:07.864Z"
   },
   {
    "duration": 18,
    "start_time": "2021-12-26T11:42:28.106Z"
   },
   {
    "duration": 4,
    "start_time": "2021-12-26T11:43:42.092Z"
   },
   {
    "duration": 13,
    "start_time": "2021-12-26T11:43:52.782Z"
   },
   {
    "duration": 14,
    "start_time": "2021-12-26T11:44:39.200Z"
   },
   {
    "duration": 17,
    "start_time": "2021-12-26T11:45:54.514Z"
   },
   {
    "duration": 22,
    "start_time": "2021-12-26T11:46:52.903Z"
   },
   {
    "duration": 10,
    "start_time": "2021-12-26T11:48:56.278Z"
   },
   {
    "duration": 105,
    "start_time": "2021-12-26T11:48:59.516Z"
   },
   {
    "duration": 6,
    "start_time": "2021-12-26T11:48:59.623Z"
   },
   {
    "duration": 32,
    "start_time": "2021-12-26T11:48:59.632Z"
   },
   {
    "duration": 13,
    "start_time": "2021-12-26T11:48:59.667Z"
   },
   {
    "duration": 15,
    "start_time": "2021-12-26T11:48:59.683Z"
   },
   {
    "duration": 4,
    "start_time": "2021-12-26T11:48:59.700Z"
   },
   {
    "duration": 53,
    "start_time": "2021-12-26T11:48:59.706Z"
   },
   {
    "duration": 17,
    "start_time": "2021-12-26T11:48:59.763Z"
   },
   {
    "duration": 20,
    "start_time": "2021-12-26T11:48:59.783Z"
   },
   {
    "duration": 10,
    "start_time": "2021-12-26T11:48:59.805Z"
   },
   {
    "duration": 53,
    "start_time": "2021-12-26T11:48:59.818Z"
   },
   {
    "duration": 10,
    "start_time": "2021-12-26T11:48:59.873Z"
   },
   {
    "duration": 12,
    "start_time": "2021-12-26T11:49:44.759Z"
   },
   {
    "duration": 17,
    "start_time": "2021-12-26T11:50:03.930Z"
   },
   {
    "duration": 12,
    "start_time": "2021-12-26T11:50:35.493Z"
   },
   {
    "duration": 11,
    "start_time": "2021-12-26T11:50:44.101Z"
   },
   {
    "duration": 11,
    "start_time": "2021-12-26T11:50:58.234Z"
   },
   {
    "duration": 9,
    "start_time": "2021-12-26T11:51:19.900Z"
   },
   {
    "duration": 8,
    "start_time": "2021-12-26T11:51:43.575Z"
   },
   {
    "duration": 7,
    "start_time": "2021-12-26T11:52:05.669Z"
   },
   {
    "duration": 8,
    "start_time": "2021-12-26T11:52:22.606Z"
   },
   {
    "duration": 8,
    "start_time": "2021-12-26T11:52:44.770Z"
   },
   {
    "duration": 11,
    "start_time": "2021-12-26T11:53:28.211Z"
   },
   {
    "duration": 6,
    "start_time": "2021-12-26T11:53:47.804Z"
   },
   {
    "duration": 26,
    "start_time": "2021-12-26T11:53:55.080Z"
   },
   {
    "duration": 103,
    "start_time": "2021-12-26T11:54:00.989Z"
   },
   {
    "duration": 9,
    "start_time": "2021-12-26T11:54:01.096Z"
   },
   {
    "duration": 13,
    "start_time": "2021-12-26T11:54:01.108Z"
   },
   {
    "duration": 49,
    "start_time": "2021-12-26T11:54:01.123Z"
   },
   {
    "duration": 16,
    "start_time": "2021-12-26T11:54:01.175Z"
   },
   {
    "duration": 4,
    "start_time": "2021-12-26T11:54:01.193Z"
   },
   {
    "duration": 63,
    "start_time": "2021-12-26T11:54:01.199Z"
   },
   {
    "duration": 23,
    "start_time": "2021-12-26T11:54:01.266Z"
   },
   {
    "duration": 21,
    "start_time": "2021-12-26T11:54:01.292Z"
   },
   {
    "duration": 10,
    "start_time": "2021-12-26T11:54:01.315Z"
   },
   {
    "duration": 46,
    "start_time": "2021-12-26T11:54:01.327Z"
   },
   {
    "duration": 18,
    "start_time": "2021-12-26T11:54:01.376Z"
   },
   {
    "duration": 14,
    "start_time": "2021-12-26T11:54:01.396Z"
   },
   {
    "duration": 18,
    "start_time": "2021-12-26T11:54:01.412Z"
   },
   {
    "duration": 36,
    "start_time": "2021-12-26T11:54:01.433Z"
   },
   {
    "duration": 10,
    "start_time": "2021-12-26T11:54:01.472Z"
   },
   {
    "duration": 11,
    "start_time": "2021-12-26T11:54:01.484Z"
   },
   {
    "duration": 12,
    "start_time": "2021-12-26T11:54:01.497Z"
   },
   {
    "duration": 8,
    "start_time": "2021-12-26T11:54:01.511Z"
   },
   {
    "duration": 44,
    "start_time": "2021-12-26T11:54:01.521Z"
   },
   {
    "duration": 9,
    "start_time": "2021-12-26T11:54:01.567Z"
   },
   {
    "duration": 10,
    "start_time": "2021-12-26T11:54:01.578Z"
   },
   {
    "duration": 10,
    "start_time": "2021-12-26T11:54:01.592Z"
   },
   {
    "duration": 11,
    "start_time": "2021-12-26T11:54:01.605Z"
   },
   {
    "duration": 6,
    "start_time": "2021-12-26T11:54:04.213Z"
   },
   {
    "duration": 27,
    "start_time": "2021-12-26T11:54:04.899Z"
   },
   {
    "duration": 22,
    "start_time": "2021-12-26T11:54:19.114Z"
   },
   {
    "duration": 120,
    "start_time": "2021-12-26T11:54:24.725Z"
   },
   {
    "duration": 17,
    "start_time": "2021-12-26T11:54:24.847Z"
   },
   {
    "duration": 12,
    "start_time": "2021-12-26T11:54:24.867Z"
   },
   {
    "duration": 15,
    "start_time": "2021-12-26T11:54:24.882Z"
   },
   {
    "duration": 65,
    "start_time": "2021-12-26T11:54:24.899Z"
   },
   {
    "duration": 4,
    "start_time": "2021-12-26T11:54:24.967Z"
   },
   {
    "duration": 17,
    "start_time": "2021-12-26T11:54:24.974Z"
   },
   {
    "duration": 16,
    "start_time": "2021-12-26T11:54:24.994Z"
   },
   {
    "duration": 57,
    "start_time": "2021-12-26T11:54:25.013Z"
   },
   {
    "duration": 98,
    "start_time": "2021-12-26T11:54:29.077Z"
   },
   {
    "duration": 6,
    "start_time": "2021-12-26T11:54:29.177Z"
   },
   {
    "duration": 12,
    "start_time": "2021-12-26T11:54:29.186Z"
   },
   {
    "duration": 14,
    "start_time": "2021-12-26T11:54:29.201Z"
   },
   {
    "duration": 44,
    "start_time": "2021-12-26T11:54:29.217Z"
   },
   {
    "duration": 4,
    "start_time": "2021-12-26T11:54:29.263Z"
   },
   {
    "duration": 16,
    "start_time": "2021-12-26T11:54:29.269Z"
   },
   {
    "duration": 15,
    "start_time": "2021-12-26T11:54:29.289Z"
   },
   {
    "duration": 53,
    "start_time": "2021-12-26T11:54:29.306Z"
   },
   {
    "duration": 98,
    "start_time": "2021-12-26T11:54:34.533Z"
   },
   {
    "duration": 26,
    "start_time": "2021-12-26T11:54:34.634Z"
   },
   {
    "duration": 13,
    "start_time": "2021-12-26T11:54:34.664Z"
   },
   {
    "duration": 19,
    "start_time": "2021-12-26T11:54:34.680Z"
   },
   {
    "duration": 13,
    "start_time": "2021-12-26T11:54:34.702Z"
   },
   {
    "duration": 46,
    "start_time": "2021-12-26T11:54:34.717Z"
   },
   {
    "duration": 28,
    "start_time": "2021-12-26T11:54:34.767Z"
   },
   {
    "duration": 16,
    "start_time": "2021-12-26T11:54:34.798Z"
   },
   {
    "duration": 53,
    "start_time": "2021-12-26T11:54:34.817Z"
   },
   {
    "duration": 10,
    "start_time": "2021-12-26T11:54:34.872Z"
   },
   {
    "duration": 17,
    "start_time": "2021-12-26T11:54:34.884Z"
   },
   {
    "duration": 12,
    "start_time": "2021-12-26T11:54:34.903Z"
   },
   {
    "duration": 55,
    "start_time": "2021-12-26T11:54:34.917Z"
   },
   {
    "duration": 21,
    "start_time": "2021-12-26T11:54:34.974Z"
   },
   {
    "duration": 98,
    "start_time": "2021-12-26T11:54:41.415Z"
   },
   {
    "duration": 8,
    "start_time": "2021-12-26T11:54:41.516Z"
   },
   {
    "duration": 39,
    "start_time": "2021-12-26T11:54:41.528Z"
   },
   {
    "duration": 13,
    "start_time": "2021-12-26T11:54:41.570Z"
   },
   {
    "duration": 15,
    "start_time": "2021-12-26T11:54:41.586Z"
   },
   {
    "duration": 4,
    "start_time": "2021-12-26T11:54:41.603Z"
   },
   {
    "duration": 53,
    "start_time": "2021-12-26T11:54:41.609Z"
   },
   {
    "duration": 23,
    "start_time": "2021-12-26T11:54:41.666Z"
   },
   {
    "duration": 21,
    "start_time": "2021-12-26T11:54:41.692Z"
   },
   {
    "duration": 9,
    "start_time": "2021-12-26T11:54:41.716Z"
   },
   {
    "duration": 17,
    "start_time": "2021-12-26T11:54:41.759Z"
   },
   {
    "duration": 18,
    "start_time": "2021-12-26T11:54:41.778Z"
   },
   {
    "duration": 10,
    "start_time": "2021-12-26T11:54:41.798Z"
   },
   {
    "duration": 22,
    "start_time": "2021-12-26T11:54:41.810Z"
   },
   {
    "duration": 11,
    "start_time": "2021-12-26T11:54:41.859Z"
   },
   {
    "duration": 6,
    "start_time": "2021-12-26T11:54:51.245Z"
   },
   {
    "duration": 101,
    "start_time": "2021-12-26T11:54:57.895Z"
   },
   {
    "duration": 6,
    "start_time": "2021-12-26T11:54:57.999Z"
   },
   {
    "duration": 12,
    "start_time": "2021-12-26T11:54:58.008Z"
   },
   {
    "duration": 40,
    "start_time": "2021-12-26T11:54:58.023Z"
   },
   {
    "duration": 15,
    "start_time": "2021-12-26T11:54:58.065Z"
   },
   {
    "duration": 4,
    "start_time": "2021-12-26T11:54:58.082Z"
   },
   {
    "duration": 15,
    "start_time": "2021-12-26T11:54:58.088Z"
   },
   {
    "duration": 60,
    "start_time": "2021-12-26T11:54:58.107Z"
   },
   {
    "duration": 21,
    "start_time": "2021-12-26T11:54:58.171Z"
   },
   {
    "duration": 10,
    "start_time": "2021-12-26T11:54:58.194Z"
   },
   {
    "duration": 16,
    "start_time": "2021-12-26T11:54:58.206Z"
   },
   {
    "duration": 43,
    "start_time": "2021-12-26T11:54:58.225Z"
   },
   {
    "duration": 9,
    "start_time": "2021-12-26T11:54:58.271Z"
   },
   {
    "duration": 17,
    "start_time": "2021-12-26T11:54:58.283Z"
   },
   {
    "duration": 11,
    "start_time": "2021-12-26T11:54:58.303Z"
   },
   {
    "duration": 46,
    "start_time": "2021-12-26T11:54:58.317Z"
   },
   {
    "duration": 11,
    "start_time": "2021-12-26T11:54:58.366Z"
   },
   {
    "duration": 9,
    "start_time": "2021-12-26T11:54:58.380Z"
   },
   {
    "duration": 7,
    "start_time": "2021-12-26T11:54:58.391Z"
   },
   {
    "duration": 6,
    "start_time": "2021-12-26T11:54:58.401Z"
   },
   {
    "duration": 50,
    "start_time": "2021-12-26T11:54:58.409Z"
   },
   {
    "duration": 8,
    "start_time": "2021-12-26T11:54:58.462Z"
   },
   {
    "duration": 9,
    "start_time": "2021-12-26T11:54:58.474Z"
   },
   {
    "duration": 6,
    "start_time": "2021-12-26T11:54:58.486Z"
   },
   {
    "duration": 65,
    "start_time": "2021-12-26T11:54:58.495Z"
   },
   {
    "duration": 25,
    "start_time": "2021-12-26T12:26:25.702Z"
   },
   {
    "duration": 22,
    "start_time": "2021-12-26T12:26:26.828Z"
   },
   {
    "duration": 4,
    "start_time": "2021-12-26T12:27:03.319Z"
   },
   {
    "duration": 5,
    "start_time": "2021-12-26T12:30:25.630Z"
   },
   {
    "duration": 104,
    "start_time": "2021-12-26T12:31:01.102Z"
   },
   {
    "duration": 7,
    "start_time": "2021-12-26T12:31:01.209Z"
   },
   {
    "duration": 46,
    "start_time": "2021-12-26T12:31:01.219Z"
   },
   {
    "duration": 19,
    "start_time": "2021-12-26T12:31:01.267Z"
   },
   {
    "duration": 19,
    "start_time": "2021-12-26T12:31:01.288Z"
   },
   {
    "duration": 50,
    "start_time": "2021-12-26T12:31:01.309Z"
   },
   {
    "duration": 14,
    "start_time": "2021-12-26T12:31:01.362Z"
   },
   {
    "duration": 18,
    "start_time": "2021-12-26T12:31:01.380Z"
   },
   {
    "duration": 21,
    "start_time": "2021-12-26T12:31:01.401Z"
   },
   {
    "duration": 44,
    "start_time": "2021-12-26T12:31:01.424Z"
   },
   {
    "duration": 18,
    "start_time": "2021-12-26T12:31:01.471Z"
   },
   {
    "duration": 13,
    "start_time": "2021-12-26T12:31:01.492Z"
   },
   {
    "duration": 9,
    "start_time": "2021-12-26T12:31:01.508Z"
   },
   {
    "duration": 57,
    "start_time": "2021-12-26T12:31:01.519Z"
   },
   {
    "duration": 13,
    "start_time": "2021-12-26T12:31:01.579Z"
   },
   {
    "duration": 12,
    "start_time": "2021-12-26T12:31:01.594Z"
   },
   {
    "duration": 12,
    "start_time": "2021-12-26T12:31:01.609Z"
   },
   {
    "duration": 10,
    "start_time": "2021-12-26T12:31:01.660Z"
   },
   {
    "duration": 12,
    "start_time": "2021-12-26T12:31:01.673Z"
   },
   {
    "duration": 7,
    "start_time": "2021-12-26T12:31:01.687Z"
   },
   {
    "duration": 21,
    "start_time": "2021-12-26T12:31:01.696Z"
   },
   {
    "duration": 41,
    "start_time": "2021-12-26T12:31:01.720Z"
   },
   {
    "duration": 11,
    "start_time": "2021-12-26T12:31:01.766Z"
   },
   {
    "duration": 6,
    "start_time": "2021-12-26T12:31:01.780Z"
   },
   {
    "duration": 33,
    "start_time": "2021-12-26T12:31:01.788Z"
   },
   {
    "duration": 21,
    "start_time": "2021-12-26T12:31:01.860Z"
   },
   {
    "duration": 4,
    "start_time": "2021-12-26T12:31:01.883Z"
   },
   {
    "duration": 14,
    "start_time": "2021-12-26T12:31:01.889Z"
   },
   {
    "duration": 4887,
    "start_time": "2021-12-26T12:31:01.905Z"
   },
   {
    "duration": 8,
    "start_time": "2021-12-26T12:31:06.795Z"
   },
   {
    "duration": 3983,
    "start_time": "2021-12-26T12:31:06.807Z"
   },
   {
    "duration": 18,
    "start_time": "2021-12-26T12:31:10.792Z"
   },
   {
    "duration": 8,
    "start_time": "2021-12-26T12:31:10.812Z"
   },
   {
    "duration": 41,
    "start_time": "2021-12-26T12:31:10.822Z"
   },
   {
    "duration": 5,
    "start_time": "2021-12-26T12:31:10.865Z"
   },
   {
    "duration": 7,
    "start_time": "2021-12-26T12:31:10.872Z"
   },
   {
    "duration": 34,
    "start_time": "2021-12-26T12:31:10.881Z"
   },
   {
    "duration": 17,
    "start_time": "2021-12-26T15:33:58.034Z"
   },
   {
    "duration": 6,
    "start_time": "2021-12-26T17:19:13.601Z"
   },
   {
    "duration": 386,
    "start_time": "2021-12-26T17:19:15.478Z"
   },
   {
    "duration": 340,
    "start_time": "2021-12-26T17:19:17.874Z"
   },
   {
    "duration": 843,
    "start_time": "2021-12-26T17:19:24.985Z"
   },
   {
    "duration": 6,
    "start_time": "2021-12-26T17:19:25.830Z"
   },
   {
    "duration": 11,
    "start_time": "2021-12-26T17:19:25.858Z"
   },
   {
    "duration": 13,
    "start_time": "2021-12-26T17:19:25.872Z"
   },
   {
    "duration": 15,
    "start_time": "2021-12-26T17:19:25.888Z"
   },
   {
    "duration": 4,
    "start_time": "2021-12-26T17:19:25.905Z"
   },
   {
    "duration": 57,
    "start_time": "2021-12-26T17:19:25.911Z"
   },
   {
    "duration": 19,
    "start_time": "2021-12-26T17:19:25.972Z"
   },
   {
    "duration": 28,
    "start_time": "2021-12-26T17:19:25.995Z"
   },
   {
    "duration": 41,
    "start_time": "2021-12-26T17:19:26.026Z"
   },
   {
    "duration": 23,
    "start_time": "2021-12-26T17:19:26.070Z"
   },
   {
    "duration": 14,
    "start_time": "2021-12-26T17:19:26.095Z"
   },
   {
    "duration": 12,
    "start_time": "2021-12-26T17:19:26.112Z"
   },
   {
    "duration": 18,
    "start_time": "2021-12-26T17:19:26.160Z"
   },
   {
    "duration": 17,
    "start_time": "2021-12-26T17:19:26.180Z"
   },
   {
    "duration": 13,
    "start_time": "2021-12-26T17:19:26.200Z"
   },
   {
    "duration": 44,
    "start_time": "2021-12-26T17:19:26.215Z"
   },
   {
    "duration": 10,
    "start_time": "2021-12-26T17:19:26.262Z"
   },
   {
    "duration": 8,
    "start_time": "2021-12-26T17:19:26.275Z"
   },
   {
    "duration": 6,
    "start_time": "2021-12-26T17:19:26.285Z"
   },
   {
    "duration": 8,
    "start_time": "2021-12-26T17:19:26.293Z"
   },
   {
    "duration": 8,
    "start_time": "2021-12-26T17:19:26.303Z"
   },
   {
    "duration": 10,
    "start_time": "2021-12-26T17:19:26.360Z"
   },
   {
    "duration": 6,
    "start_time": "2021-12-26T17:19:26.373Z"
   },
   {
    "duration": 35,
    "start_time": "2021-12-26T17:19:26.381Z"
   },
   {
    "duration": 50,
    "start_time": "2021-12-26T17:19:26.418Z"
   },
   {
    "duration": 3,
    "start_time": "2021-12-26T17:19:26.471Z"
   },
   {
    "duration": 13,
    "start_time": "2021-12-26T17:19:26.476Z"
   },
   {
    "duration": 5214,
    "start_time": "2021-12-26T17:19:26.492Z"
   },
   {
    "duration": 6,
    "start_time": "2021-12-26T17:19:31.709Z"
   },
   {
    "duration": 3913,
    "start_time": "2021-12-26T17:19:31.718Z"
   },
   {
    "duration": 36,
    "start_time": "2021-12-26T17:19:35.633Z"
   },
   {
    "duration": 5,
    "start_time": "2021-12-26T17:19:35.671Z"
   },
   {
    "duration": 28,
    "start_time": "2021-12-26T17:19:35.678Z"
   },
   {
    "duration": 10,
    "start_time": "2021-12-26T17:19:35.708Z"
   },
   {
    "duration": 47,
    "start_time": "2021-12-26T17:19:35.720Z"
   },
   {
    "duration": 4,
    "start_time": "2021-12-26T17:19:35.770Z"
   },
   {
    "duration": 7,
    "start_time": "2021-12-26T17:19:35.776Z"
   },
   {
    "duration": 34,
    "start_time": "2021-12-26T17:19:35.785Z"
   },
   {
    "duration": 61,
    "start_time": "2021-12-26T17:19:35.821Z"
   },
   {
    "duration": 10,
    "start_time": "2021-12-26T17:19:35.884Z"
   },
   {
    "duration": 12,
    "start_time": "2021-12-26T17:19:35.896Z"
   },
   {
    "duration": 11,
    "start_time": "2021-12-26T17:19:35.911Z"
   },
   {
    "duration": 22,
    "start_time": "2021-12-26T17:19:35.960Z"
   },
   {
    "duration": 12,
    "start_time": "2021-12-26T17:19:35.985Z"
   },
   {
    "duration": 31,
    "start_time": "2021-12-26T17:19:35.999Z"
   },
   {
    "duration": 34,
    "start_time": "2021-12-26T17:19:36.033Z"
   },
   {
    "duration": 38,
    "start_time": "2021-12-26T17:19:36.070Z"
   },
   {
    "duration": 5,
    "start_time": "2021-12-26T17:21:52.202Z"
   },
   {
    "duration": 5,
    "start_time": "2021-12-26T17:22:03.836Z"
   },
   {
    "duration": 37,
    "start_time": "2021-12-26T17:22:40.252Z"
   },
   {
    "duration": 27,
    "start_time": "2021-12-26T17:23:13.162Z"
   },
   {
    "duration": 23,
    "start_time": "2021-12-26T17:24:49.121Z"
   },
   {
    "duration": 12,
    "start_time": "2021-12-26T17:24:49.700Z"
   },
   {
    "duration": 12,
    "start_time": "2021-12-26T17:25:42.683Z"
   },
   {
    "duration": 13,
    "start_time": "2021-12-26T17:25:59.624Z"
   },
   {
    "duration": 12,
    "start_time": "2021-12-26T17:26:06.922Z"
   },
   {
    "duration": 24,
    "start_time": "2021-12-26T17:27:51.512Z"
   },
   {
    "duration": 12,
    "start_time": "2021-12-26T17:28:02.491Z"
   },
   {
    "duration": 25,
    "start_time": "2021-12-26T17:28:27.015Z"
   },
   {
    "duration": 10,
    "start_time": "2021-12-26T17:28:38.736Z"
   },
   {
    "duration": 23,
    "start_time": "2021-12-26T17:28:59.779Z"
   },
   {
    "duration": 15,
    "start_time": "2021-12-26T17:29:11.052Z"
   },
   {
    "duration": 13,
    "start_time": "2021-12-26T17:29:23.588Z"
   },
   {
    "duration": 11,
    "start_time": "2021-12-26T17:29:32.663Z"
   },
   {
    "duration": 31,
    "start_time": "2021-12-26T17:30:07.677Z"
   },
   {
    "duration": 15,
    "start_time": "2021-12-26T17:30:17.967Z"
   },
   {
    "duration": 32,
    "start_time": "2021-12-26T17:30:45.517Z"
   },
   {
    "duration": 17,
    "start_time": "2021-12-26T17:30:54.893Z"
   },
   {
    "duration": 13,
    "start_time": "2021-12-26T17:31:04.804Z"
   },
   {
    "duration": 17,
    "start_time": "2021-12-26T17:31:12.815Z"
   },
   {
    "duration": 677,
    "start_time": "2021-12-27T12:59:22.147Z"
   },
   {
    "duration": 5,
    "start_time": "2021-12-27T12:59:22.829Z"
   },
   {
    "duration": 10,
    "start_time": "2021-12-27T12:59:22.836Z"
   },
   {
    "duration": 10,
    "start_time": "2021-12-27T12:59:22.848Z"
   },
   {
    "duration": 10,
    "start_time": "2021-12-27T12:59:22.860Z"
   },
   {
    "duration": 3,
    "start_time": "2021-12-27T12:59:22.872Z"
   },
   {
    "duration": 11,
    "start_time": "2021-12-27T12:59:22.878Z"
   },
   {
    "duration": 50,
    "start_time": "2021-12-27T12:59:22.891Z"
   },
   {
    "duration": 14,
    "start_time": "2021-12-27T12:59:22.943Z"
   },
   {
    "duration": 7,
    "start_time": "2021-12-27T12:59:22.958Z"
   },
   {
    "duration": 13,
    "start_time": "2021-12-27T12:59:22.966Z"
   },
   {
    "duration": 16,
    "start_time": "2021-12-27T12:59:22.981Z"
   },
   {
    "duration": 14,
    "start_time": "2021-12-27T12:59:22.999Z"
   },
   {
    "duration": 30,
    "start_time": "2021-12-27T12:59:23.014Z"
   },
   {
    "duration": 8,
    "start_time": "2021-12-27T12:59:23.046Z"
   },
   {
    "duration": 11,
    "start_time": "2021-12-27T12:59:23.055Z"
   },
   {
    "duration": 13,
    "start_time": "2021-12-27T12:59:23.068Z"
   },
   {
    "duration": 8,
    "start_time": "2021-12-27T12:59:23.082Z"
   },
   {
    "duration": 11,
    "start_time": "2021-12-27T12:59:23.091Z"
   },
   {
    "duration": 7,
    "start_time": "2021-12-27T12:59:23.104Z"
   },
   {
    "duration": 11,
    "start_time": "2021-12-27T12:59:23.112Z"
   },
   {
    "duration": 15,
    "start_time": "2021-12-27T12:59:23.127Z"
   },
   {
    "duration": 9,
    "start_time": "2021-12-27T12:59:23.144Z"
   },
   {
    "duration": 8,
    "start_time": "2021-12-27T12:59:23.155Z"
   },
   {
    "duration": 26,
    "start_time": "2021-12-27T12:59:23.164Z"
   },
   {
    "duration": 13,
    "start_time": "2021-12-27T12:59:23.192Z"
   },
   {
    "duration": 2,
    "start_time": "2021-12-27T12:59:23.207Z"
   },
   {
    "duration": 14,
    "start_time": "2021-12-27T12:59:23.210Z"
   },
   {
    "duration": 3301,
    "start_time": "2021-12-27T12:59:23.225Z"
   },
   {
    "duration": 13,
    "start_time": "2021-12-27T12:59:26.528Z"
   },
   {
    "duration": 2612,
    "start_time": "2021-12-27T12:59:26.543Z"
   },
   {
    "duration": 11,
    "start_time": "2021-12-27T12:59:29.157Z"
   },
   {
    "duration": 6,
    "start_time": "2021-12-27T12:59:29.170Z"
   },
   {
    "duration": 17,
    "start_time": "2021-12-27T12:59:29.177Z"
   },
   {
    "duration": 7,
    "start_time": "2021-12-27T12:59:29.196Z"
   },
   {
    "duration": 13,
    "start_time": "2021-12-27T12:59:29.205Z"
   },
   {
    "duration": 24,
    "start_time": "2021-12-27T12:59:29.219Z"
   },
   {
    "duration": 6,
    "start_time": "2021-12-27T12:59:29.245Z"
   },
   {
    "duration": 21,
    "start_time": "2021-12-27T12:59:29.252Z"
   },
   {
    "duration": 3,
    "start_time": "2021-12-27T12:59:29.275Z"
   },
   {
    "duration": 8,
    "start_time": "2021-12-27T12:59:29.279Z"
   },
   {
    "duration": 21,
    "start_time": "2021-12-27T12:59:29.288Z"
   },
   {
    "duration": 46,
    "start_time": "2021-12-27T12:59:29.310Z"
   },
   {
    "duration": 6,
    "start_time": "2021-12-27T12:59:29.358Z"
   },
   {
    "duration": 10,
    "start_time": "2021-12-27T12:59:29.365Z"
   },
   {
    "duration": 9,
    "start_time": "2021-12-27T12:59:29.376Z"
   },
   {
    "duration": 23,
    "start_time": "2021-12-27T12:59:29.386Z"
   },
   {
    "duration": 6,
    "start_time": "2021-12-27T12:59:29.411Z"
   },
   {
    "duration": 30,
    "start_time": "2021-12-27T12:59:29.418Z"
   },
   {
    "duration": 7,
    "start_time": "2021-12-27T12:59:29.450Z"
   },
   {
    "duration": 20,
    "start_time": "2021-12-27T12:59:29.458Z"
   },
   {
    "duration": 12,
    "start_time": "2021-12-27T12:59:29.479Z"
   },
   {
    "duration": 12,
    "start_time": "2021-12-27T12:59:29.492Z"
   },
   {
    "duration": 7,
    "start_time": "2021-12-27T12:59:29.506Z"
   },
   {
    "duration": 28,
    "start_time": "2021-12-27T12:59:29.514Z"
   },
   {
    "duration": 7,
    "start_time": "2021-12-27T12:59:29.544Z"
   },
   {
    "duration": 19,
    "start_time": "2021-12-27T12:59:29.553Z"
   },
   {
    "duration": 6,
    "start_time": "2021-12-27T12:59:29.574Z"
   },
   {
    "duration": 19,
    "start_time": "2021-12-27T12:59:29.581Z"
   },
   {
    "duration": 6,
    "start_time": "2021-12-27T12:59:29.601Z"
   },
   {
    "duration": 15,
    "start_time": "2021-12-27T12:59:29.609Z"
   },
   {
    "duration": 21,
    "start_time": "2021-12-27T12:59:29.626Z"
   },
   {
    "duration": 17,
    "start_time": "2021-12-27T12:59:29.648Z"
   },
   {
    "duration": 9,
    "start_time": "2021-12-27T12:59:29.666Z"
   },
   {
    "duration": 21,
    "start_time": "2021-12-27T12:59:29.677Z"
   },
   {
    "duration": 8,
    "start_time": "2021-12-27T12:59:29.700Z"
   },
   {
    "duration": 10,
    "start_time": "2021-12-27T12:59:29.713Z"
   },
   {
    "duration": 22,
    "start_time": "2021-12-27T12:59:29.724Z"
   },
   {
    "duration": 646,
    "start_time": "2021-12-27T13:06:56.071Z"
   },
   {
    "duration": 4,
    "start_time": "2021-12-27T13:06:56.719Z"
   },
   {
    "duration": 12,
    "start_time": "2021-12-27T13:06:56.725Z"
   },
   {
    "duration": 9,
    "start_time": "2021-12-27T13:06:56.739Z"
   },
   {
    "duration": 14,
    "start_time": "2021-12-27T13:06:56.749Z"
   },
   {
    "duration": 3,
    "start_time": "2021-12-27T13:06:56.764Z"
   },
   {
    "duration": 15,
    "start_time": "2021-12-27T13:06:56.768Z"
   },
   {
    "duration": 12,
    "start_time": "2021-12-27T13:06:56.785Z"
   },
   {
    "duration": 14,
    "start_time": "2021-12-27T13:06:56.799Z"
   },
   {
    "duration": 33,
    "start_time": "2021-12-27T13:06:56.815Z"
   },
   {
    "duration": 21,
    "start_time": "2021-12-27T13:06:56.849Z"
   },
   {
    "duration": 10,
    "start_time": "2021-12-27T13:06:56.872Z"
   },
   {
    "duration": 15,
    "start_time": "2021-12-27T13:06:56.884Z"
   },
   {
    "duration": 15,
    "start_time": "2021-12-27T13:06:56.901Z"
   },
   {
    "duration": 15,
    "start_time": "2021-12-27T13:06:56.917Z"
   },
   {
    "duration": 10,
    "start_time": "2021-12-27T13:06:56.934Z"
   },
   {
    "duration": 10,
    "start_time": "2021-12-27T13:06:56.946Z"
   },
   {
    "duration": 9,
    "start_time": "2021-12-27T13:06:56.958Z"
   },
   {
    "duration": 10,
    "start_time": "2021-12-27T13:06:56.968Z"
   },
   {
    "duration": 10,
    "start_time": "2021-12-27T13:06:56.979Z"
   },
   {
    "duration": 9,
    "start_time": "2021-12-27T13:06:56.990Z"
   },
   {
    "duration": 12,
    "start_time": "2021-12-27T13:06:57.001Z"
   },
   {
    "duration": 9,
    "start_time": "2021-12-27T13:06:57.016Z"
   },
   {
    "duration": 14,
    "start_time": "2021-12-27T13:06:57.027Z"
   },
   {
    "duration": 24,
    "start_time": "2021-12-27T13:06:57.043Z"
   },
   {
    "duration": 15,
    "start_time": "2021-12-27T13:06:57.069Z"
   },
   {
    "duration": 3,
    "start_time": "2021-12-27T13:06:57.085Z"
   },
   {
    "duration": 15,
    "start_time": "2021-12-27T13:06:57.089Z"
   },
   {
    "duration": 3412,
    "start_time": "2021-12-27T13:06:57.105Z"
   },
   {
    "duration": 4,
    "start_time": "2021-12-27T13:07:00.519Z"
   },
   {
    "duration": 2775,
    "start_time": "2021-12-27T13:07:00.525Z"
   },
   {
    "duration": 13,
    "start_time": "2021-12-27T13:07:03.302Z"
   },
   {
    "duration": 8,
    "start_time": "2021-12-27T13:07:03.317Z"
   },
   {
    "duration": 28,
    "start_time": "2021-12-27T13:07:03.327Z"
   },
   {
    "duration": 12,
    "start_time": "2021-12-27T13:07:03.356Z"
   },
   {
    "duration": 9,
    "start_time": "2021-12-27T13:07:03.370Z"
   },
   {
    "duration": 3,
    "start_time": "2021-12-27T13:07:03.381Z"
   },
   {
    "duration": 7,
    "start_time": "2021-12-27T13:07:03.386Z"
   },
   {
    "duration": 19,
    "start_time": "2021-12-27T13:07:03.395Z"
   },
   {
    "duration": 28,
    "start_time": "2021-12-27T13:07:03.415Z"
   },
   {
    "duration": 7,
    "start_time": "2021-12-27T13:07:03.444Z"
   },
   {
    "duration": 22,
    "start_time": "2021-12-27T13:07:03.452Z"
   },
   {
    "duration": 20,
    "start_time": "2021-12-27T13:07:03.477Z"
   },
   {
    "duration": 6,
    "start_time": "2021-12-27T13:07:03.499Z"
   },
   {
    "duration": 10,
    "start_time": "2021-12-27T13:07:03.507Z"
   },
   {
    "duration": 30,
    "start_time": "2021-12-27T13:07:03.518Z"
   },
   {
    "duration": 18,
    "start_time": "2021-12-27T13:07:03.549Z"
   },
   {
    "duration": 36,
    "start_time": "2021-12-27T13:07:03.568Z"
   },
   {
    "duration": 39,
    "start_time": "2021-12-27T13:07:03.606Z"
   },
   {
    "duration": 22,
    "start_time": "2021-12-27T13:07:03.647Z"
   },
   {
    "duration": 44,
    "start_time": "2021-12-27T13:07:03.671Z"
   },
   {
    "duration": 30,
    "start_time": "2021-12-27T13:07:03.717Z"
   },
   {
    "duration": 27,
    "start_time": "2021-12-27T13:07:03.749Z"
   },
   {
    "duration": 37,
    "start_time": "2021-12-27T13:07:03.777Z"
   },
   {
    "duration": 39,
    "start_time": "2021-12-27T13:07:03.816Z"
   },
   {
    "duration": 40,
    "start_time": "2021-12-27T13:07:03.857Z"
   },
   {
    "duration": 33,
    "start_time": "2021-12-27T13:07:03.899Z"
   },
   {
    "duration": 22,
    "start_time": "2021-12-27T13:07:03.934Z"
   },
   {
    "duration": 56,
    "start_time": "2021-12-27T13:07:03.958Z"
   },
   {
    "duration": 51,
    "start_time": "2021-12-27T13:07:04.016Z"
   },
   {
    "duration": 19,
    "start_time": "2021-12-27T13:07:04.068Z"
   },
   {
    "duration": 6,
    "start_time": "2021-12-27T13:07:04.089Z"
   },
   {
    "duration": 17,
    "start_time": "2021-12-27T13:07:04.097Z"
   },
   {
    "duration": 9,
    "start_time": "2021-12-27T13:07:04.116Z"
   },
   {
    "duration": 15,
    "start_time": "2021-12-27T13:07:04.127Z"
   },
   {
    "duration": 8,
    "start_time": "2021-12-27T13:07:04.144Z"
   },
   {
    "duration": 9,
    "start_time": "2021-12-27T13:07:04.154Z"
   },
   {
    "duration": 7,
    "start_time": "2021-12-27T13:07:04.167Z"
   }
  ],
  "kernelspec": {
   "display_name": "Python 3 (ipykernel)",
   "language": "python",
   "name": "python3"
  },
  "language_info": {
   "codemirror_mode": {
    "name": "ipython",
    "version": 3
   },
   "file_extension": ".py",
   "mimetype": "text/x-python",
   "name": "python",
   "nbconvert_exporter": "python",
   "pygments_lexer": "ipython3",
   "version": "3.9.7"
  },
  "toc": {
   "base_numbering": 1,
   "nav_menu": {},
   "number_sections": true,
   "sideBar": true,
   "skip_h1_title": true,
   "title_cell": "Table of Contents",
   "title_sidebar": "Contents",
   "toc_cell": false,
   "toc_position": {},
   "toc_section_display": true,
   "toc_window_display": false
  }
 },
 "nbformat": 4,
 "nbformat_minor": 2
}
