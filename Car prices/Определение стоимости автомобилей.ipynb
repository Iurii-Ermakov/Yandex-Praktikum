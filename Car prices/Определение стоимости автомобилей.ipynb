{
 "cells": [
  {
   "cell_type": "markdown",
   "metadata": {},
   "source": [
    "# Определение стоимости автомобилей"
   ]
  },
  {
   "cell_type": "markdown",
   "metadata": {},
   "source": [
    "Сервис по продаже автомобилей с пробегом «Не бит, не крашен» разрабатывает приложение для привлечения новых клиентов. В нём можно быстро узнать рыночную стоимость своего автомобиля. В вашем распоряжении исторические данные: технические характеристики, комплектации и цены автомобилей. Вам нужно построить модель для определения стоимости. \n",
    "\n",
    "Заказчику важны:\n",
    "\n",
    "- качество предсказания;\n",
    "- скорость предсказания;\n",
    "- время обучения."
   ]
  },
  {
   "cell_type": "markdown",
   "metadata": {},
   "source": [
    "**Признаки**\n",
    "\n",
    "- DateCrawled — дата скачивания анкеты из базы\n",
    "- VehicleType — тип автомобильного кузова\n",
    "- RegistrationYear — год регистрации автомобиля\n",
    "- Gearbox — тип коробки передач\n",
    "- Power — мощность (л. с.)\n",
    "- Model — модель автомобиля\n",
    "- Kilometer — пробег (км)\n",
    "- RegistrationMonth — месяц регистрации автомобиля\n",
    "- FuelType — тип топлива\n",
    "- Brand — марка автомобиля\n",
    "- NotRepaired — была машина в ремонте или нет\n",
    "- DateCreated — дата создания анкеты\n",
    "- NumberOfPictures — количество фотографий автомобиля\n",
    "- PostalCode — почтовый индекс владельца анкеты (пользователя)\n",
    "- LastSeen — дата последней активности пользователя\n",
    "\n",
    "**Целевой признак:**\n",
    "- Price — цена (евро)"
   ]
  },
  {
   "cell_type": "markdown",
   "metadata": {},
   "source": [
    "## Подготовка данных"
   ]
  },
  {
   "cell_type": "code",
   "execution_count": 1,
   "metadata": {},
   "outputs": [],
   "source": [
    "# импорт библиотек\n",
    "\n",
    "import matplotlib.pyplot as plt\n",
    "import numpy as np\n",
    "import pandas as pd\n",
    "import seaborn as sns\n",
    "\n",
    "from sklearn.model_selection import train_test_split\n",
    "from sklearn.preprocessing import StandardScaler\n",
    "from sklearn.preprocessing import PolynomialFeatures\n",
    "from sklearn.preprocessing import OrdinalEncoder\n",
    "\n",
    "from sklearn.metrics import mean_squared_error\n",
    "from sklearn.linear_model import LinearRegression\n",
    "from sklearn.linear_model import Ridge\n",
    "from sklearn.tree import DecisionTreeRegressor\n",
    "from sklearn.ensemble import ExtraTreesRegressor\n",
    "from catboost import Pool, CatBoostRegressor, cv\n",
    "from lightgbm import LGBMRegressor\n",
    "from sklearn.model_selection import cross_val_score\n",
    "from sklearn.model_selection import GridSearchCV\n",
    "from sklearn.pipeline import Pipeline\n",
    "\n",
    "import time\n",
    "import warnings\n",
    "warnings.filterwarnings('ignore')"
   ]
  },
  {
   "cell_type": "code",
   "execution_count": 2,
   "metadata": {},
   "outputs": [],
   "source": [
    "# загружу данные\n",
    "try:\n",
    "    df = pd.read_csv('/datasets/autos.csv')\n",
    "except (IOError, EOFError) as e:\n",
    "    print(\"Testing multiple exceptions. {}\".format(e.args[-1]))"
   ]
  },
  {
   "cell_type": "markdown",
   "metadata": {},
   "source": [
    "### Анализ данных"
   ]
  },
  {
   "cell_type": "code",
   "execution_count": 3,
   "metadata": {},
   "outputs": [],
   "source": [
    "# функция на первичную проверку данных\n",
    "def df_check(dataset):\n",
    "    print('Общая информация\\n')\n",
    "    display(dataset.info())\n",
    "    print('Первые строки датасета\\n')\n",
    "    display(dataset.head())\n",
    "    print('Описательная статистика\\n')\n",
    "    display(dataset.describe())\n",
    "    print('Описательная статистика категориальных признаков\\n')\n",
    "    display(df.describe(include=['object', 'bool']))\n",
    "    print('Количество пропусков в каждом столбце\\n')\n",
    "    display(dataset.isna().sum())\n",
    "    print('Количество уникальных значений\\n')\n",
    "    display(dataset.nunique())\n",
    "    print('Количество дубликатов\\n')\n",
    "    display(dataset.duplicated().sum())    "
   ]
  },
  {
   "cell_type": "code",
   "execution_count": 4,
   "metadata": {},
   "outputs": [
    {
     "name": "stdout",
     "output_type": "stream",
     "text": [
      "Общая информация\n",
      "\n",
      "<class 'pandas.core.frame.DataFrame'>\n",
      "RangeIndex: 354369 entries, 0 to 354368\n",
      "Data columns (total 16 columns):\n",
      " #   Column             Non-Null Count   Dtype \n",
      "---  ------             --------------   ----- \n",
      " 0   DateCrawled        354369 non-null  object\n",
      " 1   Price              354369 non-null  int64 \n",
      " 2   VehicleType        316879 non-null  object\n",
      " 3   RegistrationYear   354369 non-null  int64 \n",
      " 4   Gearbox            334536 non-null  object\n",
      " 5   Power              354369 non-null  int64 \n",
      " 6   Model              334664 non-null  object\n",
      " 7   Kilometer          354369 non-null  int64 \n",
      " 8   RegistrationMonth  354369 non-null  int64 \n",
      " 9   FuelType           321474 non-null  object\n",
      " 10  Brand              354369 non-null  object\n",
      " 11  NotRepaired        283215 non-null  object\n",
      " 12  DateCreated        354369 non-null  object\n",
      " 13  NumberOfPictures   354369 non-null  int64 \n",
      " 14  PostalCode         354369 non-null  int64 \n",
      " 15  LastSeen           354369 non-null  object\n",
      "dtypes: int64(7), object(9)\n",
      "memory usage: 43.3+ MB\n"
     ]
    },
    {
     "data": {
      "text/plain": [
       "None"
      ]
     },
     "metadata": {},
     "output_type": "display_data"
    },
    {
     "name": "stdout",
     "output_type": "stream",
     "text": [
      "Первые строки датасета\n",
      "\n"
     ]
    },
    {
     "data": {
      "text/html": [
       "<div>\n",
       "<style scoped>\n",
       "    .dataframe tbody tr th:only-of-type {\n",
       "        vertical-align: middle;\n",
       "    }\n",
       "\n",
       "    .dataframe tbody tr th {\n",
       "        vertical-align: top;\n",
       "    }\n",
       "\n",
       "    .dataframe thead th {\n",
       "        text-align: right;\n",
       "    }\n",
       "</style>\n",
       "<table border=\"1\" class=\"dataframe\">\n",
       "  <thead>\n",
       "    <tr style=\"text-align: right;\">\n",
       "      <th></th>\n",
       "      <th>DateCrawled</th>\n",
       "      <th>Price</th>\n",
       "      <th>VehicleType</th>\n",
       "      <th>RegistrationYear</th>\n",
       "      <th>Gearbox</th>\n",
       "      <th>Power</th>\n",
       "      <th>Model</th>\n",
       "      <th>Kilometer</th>\n",
       "      <th>RegistrationMonth</th>\n",
       "      <th>FuelType</th>\n",
       "      <th>Brand</th>\n",
       "      <th>NotRepaired</th>\n",
       "      <th>DateCreated</th>\n",
       "      <th>NumberOfPictures</th>\n",
       "      <th>PostalCode</th>\n",
       "      <th>LastSeen</th>\n",
       "    </tr>\n",
       "  </thead>\n",
       "  <tbody>\n",
       "    <tr>\n",
       "      <th>0</th>\n",
       "      <td>2016-03-24 11:52:17</td>\n",
       "      <td>480</td>\n",
       "      <td>NaN</td>\n",
       "      <td>1993</td>\n",
       "      <td>manual</td>\n",
       "      <td>0</td>\n",
       "      <td>golf</td>\n",
       "      <td>150000</td>\n",
       "      <td>0</td>\n",
       "      <td>petrol</td>\n",
       "      <td>volkswagen</td>\n",
       "      <td>NaN</td>\n",
       "      <td>2016-03-24 00:00:00</td>\n",
       "      <td>0</td>\n",
       "      <td>70435</td>\n",
       "      <td>2016-04-07 03:16:57</td>\n",
       "    </tr>\n",
       "    <tr>\n",
       "      <th>1</th>\n",
       "      <td>2016-03-24 10:58:45</td>\n",
       "      <td>18300</td>\n",
       "      <td>coupe</td>\n",
       "      <td>2011</td>\n",
       "      <td>manual</td>\n",
       "      <td>190</td>\n",
       "      <td>NaN</td>\n",
       "      <td>125000</td>\n",
       "      <td>5</td>\n",
       "      <td>gasoline</td>\n",
       "      <td>audi</td>\n",
       "      <td>yes</td>\n",
       "      <td>2016-03-24 00:00:00</td>\n",
       "      <td>0</td>\n",
       "      <td>66954</td>\n",
       "      <td>2016-04-07 01:46:50</td>\n",
       "    </tr>\n",
       "    <tr>\n",
       "      <th>2</th>\n",
       "      <td>2016-03-14 12:52:21</td>\n",
       "      <td>9800</td>\n",
       "      <td>suv</td>\n",
       "      <td>2004</td>\n",
       "      <td>auto</td>\n",
       "      <td>163</td>\n",
       "      <td>grand</td>\n",
       "      <td>125000</td>\n",
       "      <td>8</td>\n",
       "      <td>gasoline</td>\n",
       "      <td>jeep</td>\n",
       "      <td>NaN</td>\n",
       "      <td>2016-03-14 00:00:00</td>\n",
       "      <td>0</td>\n",
       "      <td>90480</td>\n",
       "      <td>2016-04-05 12:47:46</td>\n",
       "    </tr>\n",
       "    <tr>\n",
       "      <th>3</th>\n",
       "      <td>2016-03-17 16:54:04</td>\n",
       "      <td>1500</td>\n",
       "      <td>small</td>\n",
       "      <td>2001</td>\n",
       "      <td>manual</td>\n",
       "      <td>75</td>\n",
       "      <td>golf</td>\n",
       "      <td>150000</td>\n",
       "      <td>6</td>\n",
       "      <td>petrol</td>\n",
       "      <td>volkswagen</td>\n",
       "      <td>no</td>\n",
       "      <td>2016-03-17 00:00:00</td>\n",
       "      <td>0</td>\n",
       "      <td>91074</td>\n",
       "      <td>2016-03-17 17:40:17</td>\n",
       "    </tr>\n",
       "    <tr>\n",
       "      <th>4</th>\n",
       "      <td>2016-03-31 17:25:20</td>\n",
       "      <td>3600</td>\n",
       "      <td>small</td>\n",
       "      <td>2008</td>\n",
       "      <td>manual</td>\n",
       "      <td>69</td>\n",
       "      <td>fabia</td>\n",
       "      <td>90000</td>\n",
       "      <td>7</td>\n",
       "      <td>gasoline</td>\n",
       "      <td>skoda</td>\n",
       "      <td>no</td>\n",
       "      <td>2016-03-31 00:00:00</td>\n",
       "      <td>0</td>\n",
       "      <td>60437</td>\n",
       "      <td>2016-04-06 10:17:21</td>\n",
       "    </tr>\n",
       "  </tbody>\n",
       "</table>\n",
       "</div>"
      ],
      "text/plain": [
       "           DateCrawled  Price VehicleType  RegistrationYear Gearbox  Power  \\\n",
       "0  2016-03-24 11:52:17    480         NaN              1993  manual      0   \n",
       "1  2016-03-24 10:58:45  18300       coupe              2011  manual    190   \n",
       "2  2016-03-14 12:52:21   9800         suv              2004    auto    163   \n",
       "3  2016-03-17 16:54:04   1500       small              2001  manual     75   \n",
       "4  2016-03-31 17:25:20   3600       small              2008  manual     69   \n",
       "\n",
       "   Model  Kilometer  RegistrationMonth  FuelType       Brand NotRepaired  \\\n",
       "0   golf     150000                  0    petrol  volkswagen         NaN   \n",
       "1    NaN     125000                  5  gasoline        audi         yes   \n",
       "2  grand     125000                  8  gasoline        jeep         NaN   \n",
       "3   golf     150000                  6    petrol  volkswagen          no   \n",
       "4  fabia      90000                  7  gasoline       skoda          no   \n",
       "\n",
       "           DateCreated  NumberOfPictures  PostalCode             LastSeen  \n",
       "0  2016-03-24 00:00:00                 0       70435  2016-04-07 03:16:57  \n",
       "1  2016-03-24 00:00:00                 0       66954  2016-04-07 01:46:50  \n",
       "2  2016-03-14 00:00:00                 0       90480  2016-04-05 12:47:46  \n",
       "3  2016-03-17 00:00:00                 0       91074  2016-03-17 17:40:17  \n",
       "4  2016-03-31 00:00:00                 0       60437  2016-04-06 10:17:21  "
      ]
     },
     "metadata": {},
     "output_type": "display_data"
    },
    {
     "name": "stdout",
     "output_type": "stream",
     "text": [
      "Описательная статистика\n",
      "\n"
     ]
    },
    {
     "data": {
      "text/html": [
       "<div>\n",
       "<style scoped>\n",
       "    .dataframe tbody tr th:only-of-type {\n",
       "        vertical-align: middle;\n",
       "    }\n",
       "\n",
       "    .dataframe tbody tr th {\n",
       "        vertical-align: top;\n",
       "    }\n",
       "\n",
       "    .dataframe thead th {\n",
       "        text-align: right;\n",
       "    }\n",
       "</style>\n",
       "<table border=\"1\" class=\"dataframe\">\n",
       "  <thead>\n",
       "    <tr style=\"text-align: right;\">\n",
       "      <th></th>\n",
       "      <th>Price</th>\n",
       "      <th>RegistrationYear</th>\n",
       "      <th>Power</th>\n",
       "      <th>Kilometer</th>\n",
       "      <th>RegistrationMonth</th>\n",
       "      <th>NumberOfPictures</th>\n",
       "      <th>PostalCode</th>\n",
       "    </tr>\n",
       "  </thead>\n",
       "  <tbody>\n",
       "    <tr>\n",
       "      <th>count</th>\n",
       "      <td>354369.000000</td>\n",
       "      <td>354369.000000</td>\n",
       "      <td>354369.000000</td>\n",
       "      <td>354369.000000</td>\n",
       "      <td>354369.000000</td>\n",
       "      <td>354369.0</td>\n",
       "      <td>354369.000000</td>\n",
       "    </tr>\n",
       "    <tr>\n",
       "      <th>mean</th>\n",
       "      <td>4416.656776</td>\n",
       "      <td>2004.234448</td>\n",
       "      <td>110.094337</td>\n",
       "      <td>128211.172535</td>\n",
       "      <td>5.714645</td>\n",
       "      <td>0.0</td>\n",
       "      <td>50508.689087</td>\n",
       "    </tr>\n",
       "    <tr>\n",
       "      <th>std</th>\n",
       "      <td>4514.158514</td>\n",
       "      <td>90.227958</td>\n",
       "      <td>189.850405</td>\n",
       "      <td>37905.341530</td>\n",
       "      <td>3.726421</td>\n",
       "      <td>0.0</td>\n",
       "      <td>25783.096248</td>\n",
       "    </tr>\n",
       "    <tr>\n",
       "      <th>min</th>\n",
       "      <td>0.000000</td>\n",
       "      <td>1000.000000</td>\n",
       "      <td>0.000000</td>\n",
       "      <td>5000.000000</td>\n",
       "      <td>0.000000</td>\n",
       "      <td>0.0</td>\n",
       "      <td>1067.000000</td>\n",
       "    </tr>\n",
       "    <tr>\n",
       "      <th>25%</th>\n",
       "      <td>1050.000000</td>\n",
       "      <td>1999.000000</td>\n",
       "      <td>69.000000</td>\n",
       "      <td>125000.000000</td>\n",
       "      <td>3.000000</td>\n",
       "      <td>0.0</td>\n",
       "      <td>30165.000000</td>\n",
       "    </tr>\n",
       "    <tr>\n",
       "      <th>50%</th>\n",
       "      <td>2700.000000</td>\n",
       "      <td>2003.000000</td>\n",
       "      <td>105.000000</td>\n",
       "      <td>150000.000000</td>\n",
       "      <td>6.000000</td>\n",
       "      <td>0.0</td>\n",
       "      <td>49413.000000</td>\n",
       "    </tr>\n",
       "    <tr>\n",
       "      <th>75%</th>\n",
       "      <td>6400.000000</td>\n",
       "      <td>2008.000000</td>\n",
       "      <td>143.000000</td>\n",
       "      <td>150000.000000</td>\n",
       "      <td>9.000000</td>\n",
       "      <td>0.0</td>\n",
       "      <td>71083.000000</td>\n",
       "    </tr>\n",
       "    <tr>\n",
       "      <th>max</th>\n",
       "      <td>20000.000000</td>\n",
       "      <td>9999.000000</td>\n",
       "      <td>20000.000000</td>\n",
       "      <td>150000.000000</td>\n",
       "      <td>12.000000</td>\n",
       "      <td>0.0</td>\n",
       "      <td>99998.000000</td>\n",
       "    </tr>\n",
       "  </tbody>\n",
       "</table>\n",
       "</div>"
      ],
      "text/plain": [
       "               Price  RegistrationYear          Power      Kilometer  \\\n",
       "count  354369.000000     354369.000000  354369.000000  354369.000000   \n",
       "mean     4416.656776       2004.234448     110.094337  128211.172535   \n",
       "std      4514.158514         90.227958     189.850405   37905.341530   \n",
       "min         0.000000       1000.000000       0.000000    5000.000000   \n",
       "25%      1050.000000       1999.000000      69.000000  125000.000000   \n",
       "50%      2700.000000       2003.000000     105.000000  150000.000000   \n",
       "75%      6400.000000       2008.000000     143.000000  150000.000000   \n",
       "max     20000.000000       9999.000000   20000.000000  150000.000000   \n",
       "\n",
       "       RegistrationMonth  NumberOfPictures     PostalCode  \n",
       "count      354369.000000          354369.0  354369.000000  \n",
       "mean            5.714645               0.0   50508.689087  \n",
       "std             3.726421               0.0   25783.096248  \n",
       "min             0.000000               0.0    1067.000000  \n",
       "25%             3.000000               0.0   30165.000000  \n",
       "50%             6.000000               0.0   49413.000000  \n",
       "75%             9.000000               0.0   71083.000000  \n",
       "max            12.000000               0.0   99998.000000  "
      ]
     },
     "metadata": {},
     "output_type": "display_data"
    },
    {
     "name": "stdout",
     "output_type": "stream",
     "text": [
      "Описательная статистика категориальных признаков\n",
      "\n"
     ]
    },
    {
     "data": {
      "text/html": [
       "<div>\n",
       "<style scoped>\n",
       "    .dataframe tbody tr th:only-of-type {\n",
       "        vertical-align: middle;\n",
       "    }\n",
       "\n",
       "    .dataframe tbody tr th {\n",
       "        vertical-align: top;\n",
       "    }\n",
       "\n",
       "    .dataframe thead th {\n",
       "        text-align: right;\n",
       "    }\n",
       "</style>\n",
       "<table border=\"1\" class=\"dataframe\">\n",
       "  <thead>\n",
       "    <tr style=\"text-align: right;\">\n",
       "      <th></th>\n",
       "      <th>DateCrawled</th>\n",
       "      <th>VehicleType</th>\n",
       "      <th>Gearbox</th>\n",
       "      <th>Model</th>\n",
       "      <th>FuelType</th>\n",
       "      <th>Brand</th>\n",
       "      <th>NotRepaired</th>\n",
       "      <th>DateCreated</th>\n",
       "      <th>LastSeen</th>\n",
       "    </tr>\n",
       "  </thead>\n",
       "  <tbody>\n",
       "    <tr>\n",
       "      <th>count</th>\n",
       "      <td>354369</td>\n",
       "      <td>316879</td>\n",
       "      <td>334536</td>\n",
       "      <td>334664</td>\n",
       "      <td>321474</td>\n",
       "      <td>354369</td>\n",
       "      <td>283215</td>\n",
       "      <td>354369</td>\n",
       "      <td>354369</td>\n",
       "    </tr>\n",
       "    <tr>\n",
       "      <th>unique</th>\n",
       "      <td>271174</td>\n",
       "      <td>8</td>\n",
       "      <td>2</td>\n",
       "      <td>250</td>\n",
       "      <td>7</td>\n",
       "      <td>40</td>\n",
       "      <td>2</td>\n",
       "      <td>109</td>\n",
       "      <td>179150</td>\n",
       "    </tr>\n",
       "    <tr>\n",
       "      <th>top</th>\n",
       "      <td>2016-03-24 14:49:47</td>\n",
       "      <td>sedan</td>\n",
       "      <td>manual</td>\n",
       "      <td>golf</td>\n",
       "      <td>petrol</td>\n",
       "      <td>volkswagen</td>\n",
       "      <td>no</td>\n",
       "      <td>2016-04-03 00:00:00</td>\n",
       "      <td>2016-04-06 13:45:54</td>\n",
       "    </tr>\n",
       "    <tr>\n",
       "      <th>freq</th>\n",
       "      <td>7</td>\n",
       "      <td>91457</td>\n",
       "      <td>268251</td>\n",
       "      <td>29232</td>\n",
       "      <td>216352</td>\n",
       "      <td>77013</td>\n",
       "      <td>247161</td>\n",
       "      <td>13719</td>\n",
       "      <td>17</td>\n",
       "    </tr>\n",
       "  </tbody>\n",
       "</table>\n",
       "</div>"
      ],
      "text/plain": [
       "                DateCrawled VehicleType Gearbox   Model FuelType       Brand  \\\n",
       "count                354369      316879  334536  334664   321474      354369   \n",
       "unique               271174           8       2     250        7          40   \n",
       "top     2016-03-24 14:49:47       sedan  manual    golf   petrol  volkswagen   \n",
       "freq                      7       91457  268251   29232   216352       77013   \n",
       "\n",
       "       NotRepaired          DateCreated             LastSeen  \n",
       "count       283215               354369               354369  \n",
       "unique           2                  109               179150  \n",
       "top             no  2016-04-03 00:00:00  2016-04-06 13:45:54  \n",
       "freq        247161                13719                   17  "
      ]
     },
     "metadata": {},
     "output_type": "display_data"
    },
    {
     "name": "stdout",
     "output_type": "stream",
     "text": [
      "Количество пропусков в каждом столбце\n",
      "\n"
     ]
    },
    {
     "data": {
      "text/plain": [
       "DateCrawled              0\n",
       "Price                    0\n",
       "VehicleType          37490\n",
       "RegistrationYear         0\n",
       "Gearbox              19833\n",
       "Power                    0\n",
       "Model                19705\n",
       "Kilometer                0\n",
       "RegistrationMonth        0\n",
       "FuelType             32895\n",
       "Brand                    0\n",
       "NotRepaired          71154\n",
       "DateCreated              0\n",
       "NumberOfPictures         0\n",
       "PostalCode               0\n",
       "LastSeen                 0\n",
       "dtype: int64"
      ]
     },
     "metadata": {},
     "output_type": "display_data"
    },
    {
     "name": "stdout",
     "output_type": "stream",
     "text": [
      "Количество уникальных значений\n",
      "\n"
     ]
    },
    {
     "data": {
      "text/plain": [
       "DateCrawled          271174\n",
       "Price                  3731\n",
       "VehicleType               8\n",
       "RegistrationYear        151\n",
       "Gearbox                   2\n",
       "Power                   712\n",
       "Model                   250\n",
       "Kilometer                13\n",
       "RegistrationMonth        13\n",
       "FuelType                  7\n",
       "Brand                    40\n",
       "NotRepaired               2\n",
       "DateCreated             109\n",
       "NumberOfPictures          1\n",
       "PostalCode             8143\n",
       "LastSeen             179150\n",
       "dtype: int64"
      ]
     },
     "metadata": {},
     "output_type": "display_data"
    },
    {
     "name": "stdout",
     "output_type": "stream",
     "text": [
      "Количество дубликатов\n",
      "\n"
     ]
    },
    {
     "data": {
      "text/plain": [
       "4"
      ]
     },
     "metadata": {},
     "output_type": "display_data"
    }
   ],
   "source": [
    "df_check(df)"
   ]
  },
  {
   "cell_type": "markdown",
   "metadata": {},
   "source": [
    "Пожалуй изучу, что скрывается в каждом столбце в качестве уникального значения."
   ]
  },
  {
   "cell_type": "code",
   "execution_count": 5,
   "metadata": {},
   "outputs": [],
   "source": [
    "def show_rows(dataset):\n",
    "    for column in dataset.columns:\n",
    "        print('Уникальные значения столбца', column)\n",
    "        print(dataset[column].unique())"
   ]
  },
  {
   "cell_type": "code",
   "execution_count": 6,
   "metadata": {},
   "outputs": [
    {
     "name": "stdout",
     "output_type": "stream",
     "text": [
      "Уникальные значения столбца DateCrawled\n",
      "['2016-03-24 11:52:17' '2016-03-24 10:58:45' '2016-03-14 12:52:21' ...\n",
      " '2016-03-21 09:50:58' '2016-03-14 17:48:27' '2016-03-19 18:57:12']\n",
      "Уникальные значения столбца Price\n",
      "[  480 18300  9800 ... 12395 18429 10985]\n",
      "Уникальные значения столбца VehicleType\n",
      "[nan 'coupe' 'suv' 'small' 'sedan' 'convertible' 'bus' 'wagon' 'other']\n",
      "Уникальные значения столбца RegistrationYear\n",
      "[1993 2011 2004 2001 2008 1995 1980 2014 1998 2005 1910 2016 2007 2009\n",
      " 2002 2018 1997 1990 2017 1981 2003 1994 1991 1984 2006 1999 2012 2010\n",
      " 2000 1992 2013 1996 1985 1989 2015 1982 1976 1983 1973 1111 1969 1971\n",
      " 1987 1986 1988 1970 1965 1945 1925 1974 1979 1955 1978 1972 1968 1977\n",
      " 1961 1960 1966 1975 1963 1964 5000 1954 1958 1967 1959 9999 1956 3200\n",
      " 1000 1941 8888 1500 2200 4100 1962 1929 1957 1940 3000 2066 1949 2019\n",
      " 1937 1951 1800 1953 1234 8000 5300 9000 2900 6000 5900 5911 1933 1400\n",
      " 1950 4000 1948 1952 1200 8500 1932 1255 3700 3800 4800 1942 7000 1935\n",
      " 1936 6500 1923 2290 2500 1930 1001 9450 1944 1943 1934 1938 1688 2800\n",
      " 1253 1928 1919 5555 5600 1600 2222 1039 9996 1300 8455 1931 1915 4500\n",
      " 1920 1602 7800 9229 1947 1927 7100 8200 1946 7500 3500]\n",
      "Уникальные значения столбца Gearbox\n",
      "['manual' 'auto' nan]\n",
      "Уникальные значения столбца Power\n",
      "[    0   190   163    75    69   102   109    50   125   101   105   140\n",
      "   115   131    60   136   160   231    90   118   193    99   113   218\n",
      "   122   129    70   306    95    61   177    80   170    55   143    64\n",
      "   286   232   150   156    82   155    54   185    87   180    86    84\n",
      "   224   235   200   178   265    77   110   144   120   116   184   126\n",
      "   204    88   194   305   197   179   250    45   313    41   165    98\n",
      "   130   114   211    56   201   213    58   107    83   174   100   220\n",
      "    85    73   192    68    66   299    74    52   147    65   310    71\n",
      "    97   239   203     5   300   103   258   320    63    81   148    44\n",
      "   145   230   280   260   104   188   333   186   117   141    59   132\n",
      "   234   158    39    92    51   135    53   209    43   146    67   106\n",
      "   166   276   344    72   249   237   245   111   326   279    23   138\n",
      "   175    96   226    26    37   301   334   128   133   124    33   219\n",
      "   241   167    94   182   196   238  1398   228   112    48   272   139\n",
      "  1799    40   240    79   256   360   243   375   252   396   340   108\n",
      "   121   345   187   289   222   198   284   450   233   387   152   347\n",
      "   172    57   137   212   476   314    30     7    47   173   290   207\n",
      "   205   171   750    78    91    89   349   325    76   151   350   953\n",
      "    93   142   500   343   199   119   164    16   264   367   208   210\n",
      "    46   435  1001   225   127   176   161   603   307   354    35   206\n",
      "   771   355   273   223   255   123   154   149  7515  1400   268   620\n",
      "   169   400   275    34     2   242  1779   285   162   328  1753   329\n",
      "   134   420   247   168 10317   215    18   330   283    62    10   214\n",
      "   183   254    15   321   322   315   952   600   181   426   599   379\n",
      "   999    22   157    42   195   553     4   309   507   381   271   440\n",
      "   189   401  1111  2729    21   236  1240  1704   521     1  1900   270\n",
      "    24   159   292   808   515  1200   303    29    38  1993    14   216\n",
      "   610   504    49   267   331   363   261   385  1011   253   696 10520\n",
      "   376   227   311    27   217    20  1999    11  1056    25   394    12\n",
      "   298   296  1659   294   551  6920   246    17  1800  1625   368   390\n",
      "   221  1367   259   606   327  2017  1597   266   374   392     9   405\n",
      "    13   262   601   430   295     8   411   900   541  7512   382 10218\n",
      "  7544  1102   287    19   751   297  1090   457   282   602   388     6\n",
      "  1000  5411   335  1360   202  3750   805  1062  1024 11530   364  1796\n",
      "  5000   269   460  1002   288  1780 12012 17932   316  2005  1399   191\n",
      "   278  1300   380   257   449  1256   153  1653   520   560   281 12510\n",
      "     3  1500   386    32  1202  2016  1436  1405   671   274  1288  1055\n",
      " 10912 15016  6226  1115   277  1105   341  1223  2340  8404  1968   338\n",
      "   445  1920   370   517  4400 10710 10522  9010   431  1164 11509   371\n",
      "  1501   428 11635    36   304   348  1703  1910  1995   579 10000   580\n",
      "   408    31  1005   358  1403   489  5575 19211   585   960   365   353\n",
      "   490   352  1801   346   550  3199   800  7508  1312   357  1937   950\n",
      "  4700  1600  3454 19208   251   850   337   700  8011  2331  2789   487\n",
      "   519  2461  6006  3500  5815  6018  1781  1503   612  1596   229  1506\n",
      "  5809 15020  5867  2172  1598 17410  1363   584  1054   851  1339   318\n",
      "   510   525  1700    28  1151   685  6011   317   703  1771 15001   514\n",
      "   362   332   324  6045   530   425   308  6010   475   903   640  2000\n",
      "   248   651  2799 17011   505  1103  1521   351 16051   398  9000  1998\n",
      " 10311   409  1230 17019 12684  8259  1895   901  1317   871   909  2201\n",
      "  1595   776 17700 11011  1199   459  1162  1120 15033  1896   339   361\n",
      "   574  6512   454   650 13616   604   607 16312  1082   336 20000   416\n",
      "   678  6012  1401  1021  1870 13636  1250  9710   323  1158  2009   902\n",
      "  6062  1275   572   244   399  1016   743  1221  2402 16011  1362   544\n",
      "   645   907   702 12512  1986  1003  1432  9013  9011   442  1017  1394\n",
      " 15017 10910  1992   540  2018 11025  1433  1701  2792  1502  1239  1390\n",
      " 14009  1160  1351 11111  1783  9007   923  1149   754  1988   402  2004\n",
      "  5420  1793  1324   356  7511  1299   293 19312  1079  1689   998  1100\n",
      "  9012  1933   508 16311   682  1252  1922  7529   732  2389  2200  1707\n",
      "  1416  8500  1012   485  3000 10110   421  4507  1631  7518   377  1004\n",
      "  2007  2598  1548  1241]\n",
      "Уникальные значения столбца Model\n",
      "['golf' nan 'grand' 'fabia' '3er' '2_reihe' 'other' 'c_max' '3_reihe'\n",
      " 'passat' 'navara' 'ka' 'polo' 'twingo' 'a_klasse' 'scirocco' '5er'\n",
      " 'meriva' 'arosa' 'c4' 'civic' 'transporter' 'punto' 'e_klasse' 'clio'\n",
      " 'kadett' 'kangoo' 'corsa' 'one' 'fortwo' '1er' 'b_klasse' 'signum'\n",
      " 'astra' 'a8' 'jetta' 'fiesta' 'c_klasse' 'micra' 'vito' 'sprinter' '156'\n",
      " 'escort' 'forester' 'xc_reihe' 'scenic' 'a4' 'a1' 'insignia' 'combo'\n",
      " 'focus' 'tt' 'a6' 'jazz' 'omega' 'slk' '7er' '80' '147' '100' 'z_reihe'\n",
      " 'sportage' 'sorento' 'v40' 'ibiza' 'mustang' 'eos' 'touran' 'getz' 'a3'\n",
      " 'almera' 'megane' 'lupo' 'r19' 'zafira' 'caddy' 'mondeo' 'cordoba' 'colt'\n",
      " 'impreza' 'vectra' 'berlingo' 'tiguan' 'i_reihe' 'espace' 'sharan'\n",
      " '6_reihe' 'panda' 'up' 'seicento' 'ceed' '5_reihe' 'yeti' 'octavia' 'mii'\n",
      " 'rx_reihe' '6er' 'modus' 'fox' 'matiz' 'beetle' 'c1' 'rio' 'touareg'\n",
      " 'logan' 'spider' 'cuore' 's_max' 'a2' 'galaxy' 'c3' 'viano' 's_klasse'\n",
      " '1_reihe' 'avensis' 'roomster' 'sl' 'kaefer' 'santa' 'cooper' 'leon'\n",
      " '4_reihe' 'a5' '500' 'laguna' 'ptcruiser' 'clk' 'primera' 'x_reihe'\n",
      " 'exeo' '159' 'transit' 'juke' 'qashqai' 'carisma' 'accord' 'corolla'\n",
      " 'lanos' 'phaeton' 'verso' 'swift' 'rav' 'picanto' 'boxster' 'kalos'\n",
      " 'superb' 'stilo' 'alhambra' 'mx_reihe' 'roadster' 'ypsilon' 'cayenne'\n",
      " 'galant' 'justy' '90' 'sirion' 'crossfire' 'agila' 'duster' 'cr_reihe'\n",
      " 'v50' 'c_reihe' 'v_klasse' 'm_klasse' 'yaris' 'c5' 'aygo' 'cc' 'carnival'\n",
      " 'fusion' '911' 'bora' 'forfour' 'm_reihe' 'cl' 'tigra' '300c' 'spark'\n",
      " 'v70' 'kuga' 'x_type' 'ducato' 's_type' 'x_trail' 'toledo' 'altea'\n",
      " 'voyager' 'calibra' 'bravo' 'antara' 'tucson' 'citigo' 'jimny' 'wrangler'\n",
      " 'lybra' 'q7' 'lancer' 'captiva' 'c2' 'discovery' 'freelander' 'sandero'\n",
      " 'note' '900' 'cherokee' 'clubman' 'samara' 'defender' '601' 'cx_reihe'\n",
      " 'legacy' 'pajero' 'auris' 'niva' 's60' 'nubira' 'vivaro' 'g_klasse'\n",
      " 'lodgy' '850' 'range_rover' 'q3' 'serie_2' 'glk' 'charade' 'croma'\n",
      " 'outlander' 'doblo' 'musa' 'move' '9000' 'v60' '145' 'aveo' '200' 'b_max'\n",
      " 'range_rover_sport' 'terios' 'rangerover' 'q5' 'range_rover_evoque'\n",
      " 'materia' 'delta' 'gl' 'kalina' 'amarok' 'elefantino' 'i3' 'kappa'\n",
      " 'serie_3' 'serie_1']\n",
      "Уникальные значения столбца Kilometer\n",
      "[150000 125000  90000  40000  30000  70000   5000 100000  60000  20000\n",
      "  80000  50000  10000]\n",
      "Уникальные значения столбца RegistrationMonth\n",
      "[ 0  5  8  6  7 10 12 11  2  3  1  4  9]\n",
      "Уникальные значения столбца FuelType\n",
      "['petrol' 'gasoline' nan 'lpg' 'other' 'hybrid' 'cng' 'electric']\n",
      "Уникальные значения столбца Brand\n",
      "['volkswagen' 'audi' 'jeep' 'skoda' 'bmw' 'peugeot' 'ford' 'mazda'\n",
      " 'nissan' 'renault' 'mercedes_benz' 'opel' 'seat' 'citroen' 'honda' 'fiat'\n",
      " 'mini' 'smart' 'hyundai' 'sonstige_autos' 'alfa_romeo' 'subaru' 'volvo'\n",
      " 'mitsubishi' 'kia' 'suzuki' 'lancia' 'toyota' 'chevrolet' 'dacia'\n",
      " 'daihatsu' 'trabant' 'saab' 'chrysler' 'jaguar' 'daewoo' 'porsche'\n",
      " 'rover' 'land_rover' 'lada']\n",
      "Уникальные значения столбца NotRepaired\n",
      "[nan 'yes' 'no']\n",
      "Уникальные значения столбца DateCreated\n",
      "['2016-03-24 00:00:00' '2016-03-14 00:00:00' '2016-03-17 00:00:00'\n",
      " '2016-03-31 00:00:00' '2016-04-04 00:00:00' '2016-04-01 00:00:00'\n",
      " '2016-03-21 00:00:00' '2016-03-26 00:00:00' '2016-04-07 00:00:00'\n",
      " '2016-03-15 00:00:00' '2016-03-11 00:00:00' '2016-03-20 00:00:00'\n",
      " '2016-03-23 00:00:00' '2016-03-27 00:00:00' '2016-03-12 00:00:00'\n",
      " '2016-03-13 00:00:00' '2016-03-18 00:00:00' '2016-03-10 00:00:00'\n",
      " '2016-03-07 00:00:00' '2016-03-09 00:00:00' '2016-03-08 00:00:00'\n",
      " '2016-04-03 00:00:00' '2016-03-29 00:00:00' '2016-03-25 00:00:00'\n",
      " '2016-03-28 00:00:00' '2016-03-30 00:00:00' '2016-03-22 00:00:00'\n",
      " '2016-02-09 00:00:00' '2016-03-05 00:00:00' '2016-04-02 00:00:00'\n",
      " '2016-03-16 00:00:00' '2016-03-19 00:00:00' '2016-04-05 00:00:00'\n",
      " '2016-03-06 00:00:00' '2016-02-12 00:00:00' '2016-03-03 00:00:00'\n",
      " '2016-03-01 00:00:00' '2016-03-04 00:00:00' '2016-04-06 00:00:00'\n",
      " '2016-02-15 00:00:00' '2016-02-24 00:00:00' '2016-02-27 00:00:00'\n",
      " '2015-03-20 00:00:00' '2016-02-28 00:00:00' '2016-02-17 00:00:00'\n",
      " '2016-01-27 00:00:00' '2016-02-20 00:00:00' '2016-02-29 00:00:00'\n",
      " '2016-02-10 00:00:00' '2016-02-23 00:00:00' '2016-02-21 00:00:00'\n",
      " '2015-11-02 00:00:00' '2016-02-19 00:00:00' '2016-02-26 00:00:00'\n",
      " '2016-02-11 00:00:00' '2016-01-10 00:00:00' '2016-02-06 00:00:00'\n",
      " '2016-02-18 00:00:00' '2016-01-29 00:00:00' '2016-03-02 00:00:00'\n",
      " '2015-12-06 00:00:00' '2016-01-24 00:00:00' '2016-01-30 00:00:00'\n",
      " '2016-02-02 00:00:00' '2016-02-16 00:00:00' '2016-02-13 00:00:00'\n",
      " '2016-02-05 00:00:00' '2016-02-22 00:00:00' '2015-11-17 00:00:00'\n",
      " '2014-03-10 00:00:00' '2016-02-07 00:00:00' '2016-01-23 00:00:00'\n",
      " '2016-02-25 00:00:00' '2016-02-14 00:00:00' '2016-01-02 00:00:00'\n",
      " '2015-09-04 00:00:00' '2015-11-12 00:00:00' '2015-12-27 00:00:00'\n",
      " '2015-11-24 00:00:00' '2016-01-20 00:00:00' '2016-02-03 00:00:00'\n",
      " '2015-12-05 00:00:00' '2015-08-07 00:00:00' '2016-01-28 00:00:00'\n",
      " '2016-01-31 00:00:00' '2016-02-08 00:00:00' '2016-01-07 00:00:00'\n",
      " '2016-01-22 00:00:00' '2016-01-18 00:00:00' '2016-01-08 00:00:00'\n",
      " '2015-11-23 00:00:00' '2016-01-13 00:00:00' '2016-01-17 00:00:00'\n",
      " '2016-01-15 00:00:00' '2015-11-08 00:00:00' '2016-01-26 00:00:00'\n",
      " '2016-02-04 00:00:00' '2016-01-25 00:00:00' '2016-01-16 00:00:00'\n",
      " '2015-08-10 00:00:00' '2016-01-03 00:00:00' '2016-01-19 00:00:00'\n",
      " '2015-12-30 00:00:00' '2016-02-01 00:00:00' '2015-12-17 00:00:00'\n",
      " '2015-11-10 00:00:00' '2016-01-06 00:00:00' '2015-09-09 00:00:00'\n",
      " '2015-06-18 00:00:00']\n",
      "Уникальные значения столбца NumberOfPictures\n",
      "[0]\n",
      "Уникальные значения столбца PostalCode\n",
      "[70435 66954 90480 ... 38528 38325 31096]\n",
      "Уникальные значения столбца LastSeen\n",
      "['2016-04-07 03:16:57' '2016-04-07 01:46:50' '2016-04-05 12:47:46' ...\n",
      " '2016-03-19 20:44:43' '2016-03-29 10:17:23' '2016-03-21 10:42:49']\n"
     ]
    }
   ],
   "source": [
    "show_rows(df)"
   ]
  },
  {
   "cell_type": "markdown",
   "metadata": {},
   "source": [
    "Более менее картинка о данных сформировалась, небольшой итог с чем предстоит работать:\n",
    "\n",
    "- 354365 строк и 16 столбцов\n",
    "- Присутствуют пропуски в столбцах VehicleType, Gearbox, Model, FuelType, NotRepaired.\n",
    "- Медианная стоимость авто 2700 евро\n",
    "- В столбце RegistrationYear существуют некорректные значения года регистрации. Минимальный год регистриции автомобиля 1000, максимальный - 9999.\n",
    "- Неправильно выставлены месяцы. Если первый месяц 0, то последний месяц не должен быть 12\n",
    "- В столбце Power присутвует некорректное значение мощности. Макс.значение мощности автомобиля в лошадинных силах = 20 000.\n",
    "- Минимальный пробег авто 5000, максимальный - 150000, но при этом много авто имееют максимальный пробег. Возможно просто ограничение ввода данных на сайте.\n",
    "- Столбец NumberOfPictures с фото автомобилей. Фото нет, всего одно уникальное значение на все данные.\n",
    "- 8 уникальных типов автомобильного кузова.\n",
    "- Чаще встречаются авто с ручной коробкой передач.\n",
    "- Чаще встречаются автомобиле на бензине.\n",
    "- Самый популярный бренд автомобиль - Volkswagen."
   ]
  },
  {
   "cell_type": "code",
   "execution_count": 7,
   "metadata": {},
   "outputs": [],
   "source": [
    "# посмотрим корреляцию\n",
    "corr = df.corr()"
   ]
  },
  {
   "cell_type": "code",
   "execution_count": 8,
   "metadata": {},
   "outputs": [
    {
     "data": {
      "text/html": [
       "<div>\n",
       "<style scoped>\n",
       "    .dataframe tbody tr th:only-of-type {\n",
       "        vertical-align: middle;\n",
       "    }\n",
       "\n",
       "    .dataframe tbody tr th {\n",
       "        vertical-align: top;\n",
       "    }\n",
       "\n",
       "    .dataframe thead th {\n",
       "        text-align: right;\n",
       "    }\n",
       "</style>\n",
       "<table border=\"1\" class=\"dataframe\">\n",
       "  <thead>\n",
       "    <tr style=\"text-align: right;\">\n",
       "      <th></th>\n",
       "      <th>Price</th>\n",
       "      <th>RegistrationYear</th>\n",
       "      <th>Power</th>\n",
       "      <th>Kilometer</th>\n",
       "      <th>RegistrationMonth</th>\n",
       "      <th>NumberOfPictures</th>\n",
       "      <th>PostalCode</th>\n",
       "    </tr>\n",
       "  </thead>\n",
       "  <tbody>\n",
       "    <tr>\n",
       "      <th>Price</th>\n",
       "      <td>1.000000</td>\n",
       "      <td>0.026916</td>\n",
       "      <td>0.158872</td>\n",
       "      <td>-0.333199</td>\n",
       "      <td>0.110581</td>\n",
       "      <td>NaN</td>\n",
       "      <td>0.076055</td>\n",
       "    </tr>\n",
       "    <tr>\n",
       "      <th>RegistrationYear</th>\n",
       "      <td>0.026916</td>\n",
       "      <td>1.000000</td>\n",
       "      <td>-0.000828</td>\n",
       "      <td>-0.053447</td>\n",
       "      <td>-0.011619</td>\n",
       "      <td>NaN</td>\n",
       "      <td>-0.003459</td>\n",
       "    </tr>\n",
       "    <tr>\n",
       "      <th>Power</th>\n",
       "      <td>0.158872</td>\n",
       "      <td>-0.000828</td>\n",
       "      <td>1.000000</td>\n",
       "      <td>0.024002</td>\n",
       "      <td>0.043380</td>\n",
       "      <td>NaN</td>\n",
       "      <td>0.021665</td>\n",
       "    </tr>\n",
       "    <tr>\n",
       "      <th>Kilometer</th>\n",
       "      <td>-0.333199</td>\n",
       "      <td>-0.053447</td>\n",
       "      <td>0.024002</td>\n",
       "      <td>1.000000</td>\n",
       "      <td>0.009571</td>\n",
       "      <td>NaN</td>\n",
       "      <td>-0.007698</td>\n",
       "    </tr>\n",
       "    <tr>\n",
       "      <th>RegistrationMonth</th>\n",
       "      <td>0.110581</td>\n",
       "      <td>-0.011619</td>\n",
       "      <td>0.043380</td>\n",
       "      <td>0.009571</td>\n",
       "      <td>1.000000</td>\n",
       "      <td>NaN</td>\n",
       "      <td>0.013995</td>\n",
       "    </tr>\n",
       "    <tr>\n",
       "      <th>NumberOfPictures</th>\n",
       "      <td>NaN</td>\n",
       "      <td>NaN</td>\n",
       "      <td>NaN</td>\n",
       "      <td>NaN</td>\n",
       "      <td>NaN</td>\n",
       "      <td>NaN</td>\n",
       "      <td>NaN</td>\n",
       "    </tr>\n",
       "    <tr>\n",
       "      <th>PostalCode</th>\n",
       "      <td>0.076055</td>\n",
       "      <td>-0.003459</td>\n",
       "      <td>0.021665</td>\n",
       "      <td>-0.007698</td>\n",
       "      <td>0.013995</td>\n",
       "      <td>NaN</td>\n",
       "      <td>1.000000</td>\n",
       "    </tr>\n",
       "  </tbody>\n",
       "</table>\n",
       "</div>"
      ],
      "text/plain": [
       "                      Price  RegistrationYear     Power  Kilometer  \\\n",
       "Price              1.000000          0.026916  0.158872  -0.333199   \n",
       "RegistrationYear   0.026916          1.000000 -0.000828  -0.053447   \n",
       "Power              0.158872         -0.000828  1.000000   0.024002   \n",
       "Kilometer         -0.333199         -0.053447  0.024002   1.000000   \n",
       "RegistrationMonth  0.110581         -0.011619  0.043380   0.009571   \n",
       "NumberOfPictures        NaN               NaN       NaN        NaN   \n",
       "PostalCode         0.076055         -0.003459  0.021665  -0.007698   \n",
       "\n",
       "                   RegistrationMonth  NumberOfPictures  PostalCode  \n",
       "Price                       0.110581               NaN    0.076055  \n",
       "RegistrationYear           -0.011619               NaN   -0.003459  \n",
       "Power                       0.043380               NaN    0.021665  \n",
       "Kilometer                   0.009571               NaN   -0.007698  \n",
       "RegistrationMonth           1.000000               NaN    0.013995  \n",
       "NumberOfPictures                 NaN               NaN         NaN  \n",
       "PostalCode                  0.013995               NaN    1.000000  "
      ]
     },
     "execution_count": 8,
     "metadata": {},
     "output_type": "execute_result"
    }
   ],
   "source": [
    "corr"
   ]
  },
  {
   "cell_type": "code",
   "execution_count": 9,
   "metadata": {
    "scrolled": false
   },
   "outputs": [
    {
     "data": {
      "text/plain": [
       "<AxesSubplot:>"
      ]
     },
     "execution_count": 9,
     "metadata": {},
     "output_type": "execute_result"
    },
    {
     "data": {
      "image/png": "[encoded data removed]",
      "text/plain": [
       "<Figure size 432x288 with 2 Axes>"
      ]
     },
     "metadata": {
      "needs_background": "light"
     },
     "output_type": "display_data"
    }
   ],
   "source": [
    "sns.heatmap(corr)"
   ]
  },
  {
   "cell_type": "markdown",
   "metadata": {},
   "source": [
    "Интересная картина нарисовалась. Не все признаки значимы и необходимы для обучения модели. \n",
    "\n",
    "Значимыми столбцами буду считать:\n",
    "- VehicleType. Тип машины определяет ее функционал. Чем больше возможностей у машины, тем выше цена.\n",
    "- Gearbox. Наличие автоматической коробки передач повышает стоимость машины из-за сложности конструкции.\n",
    "- Power. Мощность в лошадиных силах (далее л.с.) напрямую влияет на цену.\n",
    "- Kilometer. Имеет обратно пропорциональную зависимость от цены. Чем больше километров проехала машина, тем меньше ее надежность и соответсвенно цена.\n",
    "- FuelType. Тип топлива определяет конструкцию двигателя.\n",
    "- Brand. Концерн/компания, которая создала автомобиль показывает качество и надежность автомобиля.\n",
    "- NotRepaired. У машин, которые побывали в дтп или был ремонт обычно цена всегда будет ниже, чем у подобной при других равных показателях.\n",
    "- RegistrationYear. Год регистрации определяет сколько уже лет машина на ходу. Соответвенно, чем больше возраст, тем меньше цена.\n",
    "- Model. Вместе с типом машины и брендом может влиять на популярность у покупателей.\n",
    "\n",
    "Остальные столбцы для модели не требуются, так как не влияют на стоимость."
   ]
  },
  {
   "cell_type": "markdown",
   "metadata": {},
   "source": [
    "### Предобработка данных"
   ]
  },
  {
   "cell_type": "markdown",
   "metadata": {},
   "source": [
    "Как было принято раньше, для работы буду использовать лишь значимые столбцы."
   ]
  },
  {
   "cell_type": "code",
   "execution_count": 10,
   "metadata": {},
   "outputs": [],
   "source": [
    "new_df = df[['VehicleType', \n",
    "                         'Gearbox', \n",
    "                         'Power',\n",
    "                         'Kilometer',\n",
    "                         'FuelType',\n",
    "                         'Brand',\n",
    "                         'NotRepaired',\n",
    "                         'RegistrationYear',\n",
    "                         'Model',\n",
    "                         'Price']]"
   ]
  },
  {
   "cell_type": "code",
   "execution_count": 11,
   "metadata": {
    "scrolled": false
   },
   "outputs": [
    {
     "name": "stdout",
     "output_type": "stream",
     "text": [
      "<class 'pandas.core.frame.DataFrame'>\n",
      "RangeIndex: 354369 entries, 0 to 354368\n",
      "Data columns (total 10 columns):\n",
      " #   Column            Non-Null Count   Dtype \n",
      "---  ------            --------------   ----- \n",
      " 0   VehicleType       316879 non-null  object\n",
      " 1   Gearbox           334536 non-null  object\n",
      " 2   Power             354369 non-null  int64 \n",
      " 3   Kilometer         354369 non-null  int64 \n",
      " 4   FuelType          321474 non-null  object\n",
      " 5   Brand             354369 non-null  object\n",
      " 6   NotRepaired       283215 non-null  object\n",
      " 7   RegistrationYear  354369 non-null  int64 \n",
      " 8   Model             334664 non-null  object\n",
      " 9   Price             354369 non-null  int64 \n",
      "dtypes: int64(4), object(6)\n",
      "memory usage: 27.0+ MB\n"
     ]
    }
   ],
   "source": [
    "new_df.info()"
   ]
  },
  {
   "cell_type": "markdown",
   "metadata": {},
   "source": [
    "**Количественные признаки**"
   ]
  },
  {
   "cell_type": "markdown",
   "metadata": {},
   "source": [
    "**Цена**"
   ]
  },
  {
   "cell_type": "code",
   "execution_count": 12,
   "metadata": {},
   "outputs": [],
   "source": [
    "# функция для вызова проверки квантилей и графика по столбцам\n",
    "def check_columns(columns):\n",
    "    columns.hist(bins=100, figsize=(12,10))\n",
    "    display(columns.describe())"
   ]
  },
  {
   "cell_type": "code",
   "execution_count": 13,
   "metadata": {},
   "outputs": [
    {
     "data": {
      "text/plain": [
       "0        10772\n",
       "500       5670\n",
       "1500      5394\n",
       "1000      4649\n",
       "1200      4594\n",
       "         ...  \n",
       "13180        1\n",
       "10879        1\n",
       "2683         1\n",
       "634          1\n",
       "8188         1\n",
       "Name: Price, Length: 3731, dtype: int64"
      ]
     },
     "execution_count": 13,
     "metadata": {},
     "output_type": "execute_result"
    }
   ],
   "source": [
    "# проверю наполнение целевого признака Price\n",
    "new_df['Price'].value_counts()"
   ]
  },
  {
   "cell_type": "markdown",
   "metadata": {},
   "source": [
    "10772 автомобиля отдаются бесплатно. Удалю эти значения и проверю распределение цены на гистограмме."
   ]
  },
  {
   "cell_type": "code",
   "execution_count": 14,
   "metadata": {},
   "outputs": [
    {
     "data": {
      "text/plain": [
       "count    343597.000000\n",
       "mean       4555.121974\n",
       "std        4515.058553\n",
       "min           1.000000\n",
       "25%        1200.000000\n",
       "50%        2890.000000\n",
       "75%        6500.000000\n",
       "max       20000.000000\n",
       "Name: Price, dtype: float64"
      ]
     },
     "metadata": {},
     "output_type": "display_data"
    },
    {
     "data": {
      "image/png": "[encoded data removed]",
      "text/plain": [
       "<Figure size 864x720 with 1 Axes>"
      ]
     },
     "metadata": {
      "needs_background": "light"
     },
     "output_type": "display_data"
    }
   ],
   "source": [
    "new_df = new_df.query('Price > 0')\n",
    "check_columns(new_df['Price'])"
   ]
  },
  {
   "cell_type": "code",
   "execution_count": 15,
   "metadata": {
    "scrolled": false
   },
   "outputs": [
    {
     "data": {
      "image/png": "[encoded data removed]",
      "text/plain": [
       "<Figure size 864x432 with 2 Axes>"
      ]
     },
     "metadata": {
      "needs_background": "light"
     },
     "output_type": "display_data"
    }
   ],
   "source": [
    "fig, axes = plt.subplots(1, 2, figsize=(12, 6))\n",
    "\n",
    "axes[0].set_title('Price')\n",
    "sns.boxplot(y = 'Price', data=new_df, ax = axes[0])\n",
    "axes[0].set_xlabel('Количество')\n",
    "     \n",
    "axes[1].set_title('Price')\n",
    "sns.distplot(new_df['Price'], kde=False, bins=50, ax = axes[1])\n",
    "axes[1].set_ylabel('Количество')\n",
    "            \n",
    "plt.show()"
   ]
  },
  {
   "cell_type": "code",
   "execution_count": 16,
   "metadata": {
    "scrolled": true
   },
   "outputs": [
    {
     "name": "stdout",
     "output_type": "stream",
     "text": [
      "<class 'pandas.core.frame.DataFrame'>\n",
      "Int64Index: 309121 entries, 0 to 354368\n",
      "Data columns (total 10 columns):\n",
      " #   Column            Non-Null Count   Dtype \n",
      "---  ------            --------------   ----- \n",
      " 0   VehicleType       280516 non-null  object\n",
      " 1   Gearbox           295030 non-null  object\n",
      " 2   Power             309121 non-null  int64 \n",
      " 3   Kilometer         309121 non-null  int64 \n",
      " 4   FuelType          284472 non-null  object\n",
      " 5   Brand             309121 non-null  object\n",
      " 6   NotRepaired       251821 non-null  object\n",
      " 7   RegistrationYear  309121 non-null  int64 \n",
      " 8   Model             294101 non-null  object\n",
      " 9   Price             309121 non-null  int64 \n",
      "dtypes: int64(4), object(6)\n",
      "memory usage: 25.9+ MB\n"
     ]
    }
   ],
   "source": [
    "new_df = new_df.query('350 <= Price <= 14450')\n",
    "new_df.info()"
   ]
  },
  {
   "cell_type": "markdown",
   "metadata": {},
   "source": [
    "**Мощность**"
   ]
  },
  {
   "cell_type": "code",
   "execution_count": 17,
   "metadata": {
    "scrolled": false
   },
   "outputs": [
    {
     "data": {
      "text/plain": [
       "count    309121.000000\n",
       "mean        109.468910\n",
       "std         188.996258\n",
       "min           0.000000\n",
       "25%          71.000000\n",
       "50%         105.000000\n",
       "75%         140.000000\n",
       "max       20000.000000\n",
       "Name: Power, dtype: float64"
      ]
     },
     "metadata": {},
     "output_type": "display_data"
    },
    {
     "data": {
      "image/png": "[encoded data removed]",
      "text/plain": [
       "<Figure size 864x720 with 1 Axes>"
      ]
     },
     "metadata": {
      "needs_background": "light"
     },
     "output_type": "display_data"
    }
   ],
   "source": [
    "check_columns(new_df['Power'])"
   ]
  },
  {
   "cell_type": "code",
   "execution_count": 18,
   "metadata": {},
   "outputs": [
    {
     "data": {
      "image/png": "[encoded data removed]",
      "text/plain": [
       "<Figure size 432x288 with 1 Axes>"
      ]
     },
     "metadata": {
      "needs_background": "light"
     },
     "output_type": "display_data"
    }
   ],
   "source": [
    "new_df.boxplot(column='Power')\n",
    "plt.show()"
   ]
  },
  {
   "cell_type": "markdown",
   "metadata": {},
   "source": [
    "Слишком много выбросов. График неинформативный, отсеку пока выбросы свыше 1000 лс."
   ]
  },
  {
   "cell_type": "code",
   "execution_count": 19,
   "metadata": {},
   "outputs": [
    {
     "data": {
      "text/plain": [
       "count    308858.000000\n",
       "mean        106.032941\n",
       "std          59.947762\n",
       "min           0.000000\n",
       "25%          71.000000\n",
       "50%         104.000000\n",
       "75%         140.000000\n",
       "max        1000.000000\n",
       "Name: Power, dtype: float64"
      ]
     },
     "metadata": {},
     "output_type": "display_data"
    },
    {
     "data": {
      "image/png": "[encoded data removed]",
      "text/plain": [
       "<Figure size 864x720 with 1 Axes>"
      ]
     },
     "metadata": {
      "needs_background": "light"
     },
     "output_type": "display_data"
    }
   ],
   "source": [
    "new_df = new_df.query('Power < 1001')\n",
    "check_columns(new_df['Power'])"
   ]
  },
  {
   "cell_type": "code",
   "execution_count": 20,
   "metadata": {},
   "outputs": [
    {
     "data": {
      "image/png": "[encoded data removed]",
      "text/plain": [
       "<Figure size 432x288 with 1 Axes>"
      ]
     },
     "metadata": {
      "needs_background": "light"
     },
     "output_type": "display_data"
    }
   ],
   "source": [
    "new_df.boxplot(column='Power')\n",
    "plt.show()"
   ]
  },
  {
   "cell_type": "markdown",
   "metadata": {},
   "source": [
    "Как видно из графика, в основном встречаются авто с мощностью до 250 лс. Избавлюсь от выбросов согласно с распространенным методом для точечных выбросов с BoxPlots, который писал выше. В моём случае это будет нижней точкой - 28, а верхней 247, но решил округлить до 250.</div>"
   ]
  },
  {
   "cell_type": "code",
   "execution_count": 21,
   "metadata": {},
   "outputs": [
    {
     "data": {
      "text/plain": [
       "count    272923.000000\n",
       "mean        114.685845\n",
       "std          43.922631\n",
       "min          28.000000\n",
       "25%          75.000000\n",
       "50%         109.000000\n",
       "75%         143.000000\n",
       "max         250.000000\n",
       "Name: Power, dtype: float64"
      ]
     },
     "metadata": {},
     "output_type": "display_data"
    },
    {
     "data": {
      "image/png": "[encoded data removed]",
      "text/plain": [
       "<Figure size 864x720 with 1 Axes>"
      ]
     },
     "metadata": {
      "needs_background": "light"
     },
     "output_type": "display_data"
    }
   ],
   "source": [
    "new_df = new_df.query('27 < Power <= 250')\n",
    "check_columns(new_df['Power'])"
   ]
  },
  {
   "cell_type": "markdown",
   "metadata": {},
   "source": [
    "**Год регистрации**"
   ]
  },
  {
   "cell_type": "code",
   "execution_count": 22,
   "metadata": {
    "scrolled": false
   },
   "outputs": [
    {
     "data": {
      "text/plain": [
       "count    272923.000000\n",
       "mean       2003.310868\n",
       "std          28.566918\n",
       "min        1000.000000\n",
       "25%        1999.000000\n",
       "50%        2003.000000\n",
       "75%        2007.000000\n",
       "max        9999.000000\n",
       "Name: RegistrationYear, dtype: float64"
      ]
     },
     "metadata": {},
     "output_type": "display_data"
    },
    {
     "data": {
      "image/png": "[encoded data removed]",
      "text/plain": [
       "<Figure size 864x720 with 1 Axes>"
      ]
     },
     "metadata": {
      "needs_background": "light"
     },
     "output_type": "display_data"
    }
   ],
   "source": [
    "check_columns(new_df['RegistrationYear'])"
   ]
  },
  {
   "cell_type": "markdown",
   "metadata": {},
   "source": [
    "Слишком много выбросов для года регистрации. Проверю когда была скачена последняя анкета автомобиля."
   ]
  },
  {
   "cell_type": "code",
   "execution_count": 23,
   "metadata": {},
   "outputs": [
    {
     "data": {
      "text/plain": [
       "Timestamp('2016-04-07 14:36:58')"
      ]
     },
     "execution_count": 23,
     "metadata": {},
     "output_type": "execute_result"
    }
   ],
   "source": [
    "date = pd.to_datetime(df['DateCrawled'])\n",
    "date.max()"
   ]
  },
  {
   "cell_type": "markdown",
   "metadata": {},
   "source": [
    "Даты регистрации после 2016 года брать не буду, они в данном случае некорректны, ну и машин раньше 1900 года не было. Отсеку не нужное для модели."
   ]
  },
  {
   "cell_type": "code",
   "execution_count": 24,
   "metadata": {
    "scrolled": false
   },
   "outputs": [
    {
     "data": {
      "text/plain": [
       "count    263275.000000\n",
       "mean       2002.633801\n",
       "std           6.176413\n",
       "min        1910.000000\n",
       "25%        1999.000000\n",
       "50%        2003.000000\n",
       "75%        2007.000000\n",
       "max        2016.000000\n",
       "Name: RegistrationYear, dtype: float64"
      ]
     },
     "metadata": {},
     "output_type": "display_data"
    },
    {
     "data": {
      "image/png": "[encoded data removed]",
      "text/plain": [
       "<Figure size 864x720 with 1 Axes>"
      ]
     },
     "metadata": {
      "needs_background": "light"
     },
     "output_type": "display_data"
    }
   ],
   "source": [
    "new_df = new_df.query('1899 < RegistrationYear < 2017')\n",
    "check_columns(new_df['RegistrationYear'])"
   ]
  },
  {
   "cell_type": "markdown",
   "metadata": {},
   "source": [
    "Так самый ранний год 1910, но по левой части гистограммы видно, что адекватно использовать левую границу в 1960 год, так как это старые, но возможно еще работающие машины."
   ]
  },
  {
   "cell_type": "code",
   "execution_count": 25,
   "metadata": {},
   "outputs": [
    {
     "data": {
      "text/plain": [
       "count    263191.000000\n",
       "mean       2002.650649\n",
       "std           6.100926\n",
       "min        1960.000000\n",
       "25%        1999.000000\n",
       "50%        2003.000000\n",
       "75%        2007.000000\n",
       "max        2016.000000\n",
       "Name: RegistrationYear, dtype: float64"
      ]
     },
     "metadata": {},
     "output_type": "display_data"
    },
    {
     "data": {
      "image/png": "[encoded data removed]",
      "text/plain": [
       "<Figure size 864x720 with 1 Axes>"
      ]
     },
     "metadata": {
      "needs_background": "light"
     },
     "output_type": "display_data"
    }
   ],
   "source": [
    "new_df = new_df.query('1959 < RegistrationYear < 2017')\n",
    "check_columns(new_df['RegistrationYear'])"
   ]
  },
  {
   "cell_type": "markdown",
   "metadata": {},
   "source": [
    "**Километраж**"
   ]
  },
  {
   "cell_type": "code",
   "execution_count": 26,
   "metadata": {},
   "outputs": [
    {
     "data": {
      "text/plain": [
       "count    263191.000000\n",
       "mean     130361.220558\n",
       "std       34750.411899\n",
       "min        5000.000000\n",
       "25%      125000.000000\n",
       "50%      150000.000000\n",
       "75%      150000.000000\n",
       "max      150000.000000\n",
       "Name: Kilometer, dtype: float64"
      ]
     },
     "metadata": {},
     "output_type": "display_data"
    },
    {
     "data": {
      "image/png": "[encoded data removed]",
      "text/plain": [
       "<Figure size 864x720 with 1 Axes>"
      ]
     },
     "metadata": {
      "needs_background": "light"
     },
     "output_type": "display_data"
    }
   ],
   "source": [
    "check_columns(new_df['Kilometer'])"
   ]
  },
  {
   "cell_type": "markdown",
   "metadata": {},
   "source": [
    "Пропусков нет, уникальных значений всего 13, больше всего по максимальному значению, возможно на сайте это предел, а у пользователей был километраж и 150000+, но ставили просто максимум сайта, в любом случае значения эти трогать не буду."
   ]
  },
  {
   "cell_type": "code",
   "execution_count": 27,
   "metadata": {},
   "outputs": [],
   "source": [
    "# функция для построения графика зависимости цены от некоторых показателей\n",
    "\n",
    "def make_price_plot(feature, title):\n",
    "    mean_price = new_df[[feature, 'Price']].groupby(feature, as_index=False).mean().astype('int')\n",
    "    plt.figure(figsize=(12,6))\n",
    "    plt.grid(axis = 'both')\n",
    "    sns.lineplot(x=feature, y='Price', data=mean_price)\n",
    "    plt.xlabel(feature, size=12)\n",
    "    plt.ylabel('Средняя цена в евро', size=12)\n",
    "    plt.title(title, size=15, y=1.02)\n",
    "    plt.show()"
   ]
  },
  {
   "cell_type": "code",
   "execution_count": 28,
   "metadata": {},
   "outputs": [
    {
     "data": {
      "image/png": "[encoded data removed]",
      "text/plain": [
       "<Figure size 864x432 with 1 Axes>"
      ]
     },
     "metadata": {
      "needs_background": "light"
     },
     "output_type": "display_data"
    },
    {
     "data": {
      "image/png": "[encoded data removed]",
      "text/plain": [
       "<Figure size 864x432 with 1 Axes>"
      ]
     },
     "metadata": {
      "needs_background": "light"
     },
     "output_type": "display_data"
    },
    {
     "data": {
      "image/png": "[encoded data removed]",
      "text/plain": [
       "<Figure size 864x432 with 1 Axes>"
      ]
     },
     "metadata": {
      "needs_background": "light"
     },
     "output_type": "display_data"
    }
   ],
   "source": [
    "make_price_plot('Power', 'Изменение цены в зависимости от мощности')\n",
    "make_price_plot('Kilometer', 'Изменение цены в зависимости от пробега')\n",
    "make_price_plot('RegistrationYear', 'Изменение цены в зависимости от года регистрации')"
   ]
  },
  {
   "cell_type": "markdown",
   "metadata": {},
   "source": [
    "**Категориальные признаки**"
   ]
  },
  {
   "cell_type": "code",
   "execution_count": 29,
   "metadata": {},
   "outputs": [
    {
     "data": {
      "text/plain": [
       "<AxesSubplot:>"
      ]
     },
     "execution_count": 29,
     "metadata": {},
     "output_type": "execute_result"
    },
    {
     "data": {
      "image/png": "[encoded data removed]",
      "text/plain": [
       "<Figure size 432x288 with 1 Axes>"
      ]
     },
     "metadata": {
      "needs_background": "light"
     },
     "output_type": "display_data"
    }
   ],
   "source": [
    "(new_df.isna().sum().sort_values(ascending=False) / df.shape[0] * 100).plot(kind='bar')"
   ]
  },
  {
   "cell_type": "markdown",
   "metadata": {},
   "source": [
    "Объем пропущенных значений составляют:\n",
    "\n",
    "- 10% в столбце NotRepaired. Скорее всего владельцы пропустили это значение потому что авто прежде не ремонтировалось. Либо просто скрыли информацию, чтобы автомобиль не казался менее привлекательным к покупке\n",
    "- Почти 4% в столбце FuelType\n",
    "- Примерно 2,5% в столбцах VehicleType и Model\n",
    "- 1,5% в столбце GearBox"
   ]
  },
  {
   "cell_type": "markdown",
   "metadata": {},
   "source": [
    "Проведу замену пропусков в Gearbox, NotRepaired и Model."
   ]
  },
  {
   "cell_type": "code",
   "execution_count": 30,
   "metadata": {},
   "outputs": [
    {
     "data": {
      "text/plain": [
       "VehicleType          9078\n",
       "Gearbox                 0\n",
       "Power                   0\n",
       "Kilometer               0\n",
       "FuelType            13183\n",
       "Brand                   0\n",
       "NotRepaired             0\n",
       "RegistrationYear        0\n",
       "Model                   0\n",
       "Price                   0\n",
       "dtype: int64"
      ]
     },
     "execution_count": 30,
     "metadata": {},
     "output_type": "execute_result"
    }
   ],
   "source": [
    "new_df.fillna({'Gearbox':'manual', 'NotRepaired':'yes', 'Model':'unknown'}, inplace=True)\n",
    "new_df.isna().sum()"
   ]
  },
  {
   "cell_type": "markdown",
   "metadata": {},
   "source": [
    "Оценю количество пропущенных значений относительно всех значений в столбце VehicleType"
   ]
  },
  {
   "cell_type": "code",
   "execution_count": 31,
   "metadata": {},
   "outputs": [
    {
     "data": {
      "text/plain": [
       "sedan          73901\n",
       "small          64423\n",
       "wagon          53589\n",
       "bus            24289\n",
       "convertible    16135\n",
       "coupe          11643\n",
       "suv             7969\n",
       "other           2164\n",
       "Name: VehicleType, dtype: int64"
      ]
     },
     "metadata": {},
     "output_type": "display_data"
    }
   ],
   "source": [
    "display(new_df['VehicleType'].value_counts())"
   ]
  },
  {
   "cell_type": "code",
   "execution_count": 32,
   "metadata": {
    "scrolled": false
   },
   "outputs": [
    {
     "data": {
      "text/html": [
       "<div>\n",
       "<style scoped>\n",
       "    .dataframe tbody tr th:only-of-type {\n",
       "        vertical-align: middle;\n",
       "    }\n",
       "\n",
       "    .dataframe tbody tr th {\n",
       "        vertical-align: top;\n",
       "    }\n",
       "\n",
       "    .dataframe thead th {\n",
       "        text-align: right;\n",
       "    }\n",
       "</style>\n",
       "<table border=\"1\" class=\"dataframe\">\n",
       "  <thead>\n",
       "    <tr style=\"text-align: right;\">\n",
       "      <th>Brand</th>\n",
       "      <th>alfa_romeo</th>\n",
       "      <th>audi</th>\n",
       "      <th>bmw</th>\n",
       "      <th>chevrolet</th>\n",
       "      <th>chrysler</th>\n",
       "      <th>citroen</th>\n",
       "      <th>dacia</th>\n",
       "      <th>daewoo</th>\n",
       "      <th>daihatsu</th>\n",
       "      <th>fiat</th>\n",
       "      <th>...</th>\n",
       "      <th>seat</th>\n",
       "      <th>skoda</th>\n",
       "      <th>smart</th>\n",
       "      <th>sonstige_autos</th>\n",
       "      <th>subaru</th>\n",
       "      <th>suzuki</th>\n",
       "      <th>toyota</th>\n",
       "      <th>trabant</th>\n",
       "      <th>volkswagen</th>\n",
       "      <th>volvo</th>\n",
       "    </tr>\n",
       "    <tr>\n",
       "      <th>VehicleType</th>\n",
       "      <th></th>\n",
       "      <th></th>\n",
       "      <th></th>\n",
       "      <th></th>\n",
       "      <th></th>\n",
       "      <th></th>\n",
       "      <th></th>\n",
       "      <th></th>\n",
       "      <th></th>\n",
       "      <th></th>\n",
       "      <th></th>\n",
       "      <th></th>\n",
       "      <th></th>\n",
       "      <th></th>\n",
       "      <th></th>\n",
       "      <th></th>\n",
       "      <th></th>\n",
       "      <th></th>\n",
       "      <th></th>\n",
       "      <th></th>\n",
       "      <th></th>\n",
       "    </tr>\n",
       "  </thead>\n",
       "  <tbody>\n",
       "    <tr>\n",
       "      <th>bus</th>\n",
       "      <td>NaN</td>\n",
       "      <td>9.0</td>\n",
       "      <td>3.0</td>\n",
       "      <td>127.0</td>\n",
       "      <td>349.0</td>\n",
       "      <td>1120.0</td>\n",
       "      <td>43.0</td>\n",
       "      <td>24.0</td>\n",
       "      <td>29.0</td>\n",
       "      <td>702.0</td>\n",
       "      <td>...</td>\n",
       "      <td>556.0</td>\n",
       "      <td>219.0</td>\n",
       "      <td>NaN</td>\n",
       "      <td>140.0</td>\n",
       "      <td>15.0</td>\n",
       "      <td>25.0</td>\n",
       "      <td>402.0</td>\n",
       "      <td>NaN</td>\n",
       "      <td>7785.0</td>\n",
       "      <td>NaN</td>\n",
       "    </tr>\n",
       "    <tr>\n",
       "      <th>convertible</th>\n",
       "      <td>146.0</td>\n",
       "      <td>1202.0</td>\n",
       "      <td>2473.0</td>\n",
       "      <td>9.0</td>\n",
       "      <td>196.0</td>\n",
       "      <td>87.0</td>\n",
       "      <td>NaN</td>\n",
       "      <td>1.0</td>\n",
       "      <td>16.0</td>\n",
       "      <td>431.0</td>\n",
       "      <td>...</td>\n",
       "      <td>NaN</td>\n",
       "      <td>3.0</td>\n",
       "      <td>1048.0</td>\n",
       "      <td>202.0</td>\n",
       "      <td>1.0</td>\n",
       "      <td>25.0</td>\n",
       "      <td>59.0</td>\n",
       "      <td>NaN</td>\n",
       "      <td>2421.0</td>\n",
       "      <td>61.0</td>\n",
       "    </tr>\n",
       "    <tr>\n",
       "      <th>coupe</th>\n",
       "      <td>202.0</td>\n",
       "      <td>903.0</td>\n",
       "      <td>2816.0</td>\n",
       "      <td>46.0</td>\n",
       "      <td>39.0</td>\n",
       "      <td>126.0</td>\n",
       "      <td>NaN</td>\n",
       "      <td>2.0</td>\n",
       "      <td>NaN</td>\n",
       "      <td>139.0</td>\n",
       "      <td>...</td>\n",
       "      <td>66.0</td>\n",
       "      <td>5.0</td>\n",
       "      <td>292.0</td>\n",
       "      <td>98.0</td>\n",
       "      <td>4.0</td>\n",
       "      <td>5.0</td>\n",
       "      <td>179.0</td>\n",
       "      <td>1.0</td>\n",
       "      <td>1209.0</td>\n",
       "      <td>63.0</td>\n",
       "    </tr>\n",
       "    <tr>\n",
       "      <th>other</th>\n",
       "      <td>8.0</td>\n",
       "      <td>77.0</td>\n",
       "      <td>188.0</td>\n",
       "      <td>24.0</td>\n",
       "      <td>5.0</td>\n",
       "      <td>86.0</td>\n",
       "      <td>6.0</td>\n",
       "      <td>3.0</td>\n",
       "      <td>5.0</td>\n",
       "      <td>134.0</td>\n",
       "      <td>...</td>\n",
       "      <td>44.0</td>\n",
       "      <td>17.0</td>\n",
       "      <td>4.0</td>\n",
       "      <td>47.0</td>\n",
       "      <td>4.0</td>\n",
       "      <td>9.0</td>\n",
       "      <td>14.0</td>\n",
       "      <td>NaN</td>\n",
       "      <td>580.0</td>\n",
       "      <td>4.0</td>\n",
       "    </tr>\n",
       "    <tr>\n",
       "      <th>sedan</th>\n",
       "      <td>788.0</td>\n",
       "      <td>8504.0</td>\n",
       "      <td>14004.0</td>\n",
       "      <td>186.0</td>\n",
       "      <td>197.0</td>\n",
       "      <td>584.0</td>\n",
       "      <td>95.0</td>\n",
       "      <td>78.0</td>\n",
       "      <td>37.0</td>\n",
       "      <td>739.0</td>\n",
       "      <td>...</td>\n",
       "      <td>1465.0</td>\n",
       "      <td>775.0</td>\n",
       "      <td>26.0</td>\n",
       "      <td>236.0</td>\n",
       "      <td>114.0</td>\n",
       "      <td>147.0</td>\n",
       "      <td>803.0</td>\n",
       "      <td>9.0</td>\n",
       "      <td>16604.0</td>\n",
       "      <td>544.0</td>\n",
       "    </tr>\n",
       "    <tr>\n",
       "      <th>small</th>\n",
       "      <td>211.0</td>\n",
       "      <td>1095.0</td>\n",
       "      <td>338.0</td>\n",
       "      <td>523.0</td>\n",
       "      <td>10.0</td>\n",
       "      <td>1322.0</td>\n",
       "      <td>214.0</td>\n",
       "      <td>205.0</td>\n",
       "      <td>396.0</td>\n",
       "      <td>4211.0</td>\n",
       "      <td>...</td>\n",
       "      <td>2705.0</td>\n",
       "      <td>1024.0</td>\n",
       "      <td>2961.0</td>\n",
       "      <td>77.0</td>\n",
       "      <td>93.0</td>\n",
       "      <td>832.0</td>\n",
       "      <td>1436.0</td>\n",
       "      <td>5.0</td>\n",
       "      <td>15092.0</td>\n",
       "      <td>6.0</td>\n",
       "    </tr>\n",
       "    <tr>\n",
       "      <th>suv</th>\n",
       "      <td>NaN</td>\n",
       "      <td>62.0</td>\n",
       "      <td>435.0</td>\n",
       "      <td>233.0</td>\n",
       "      <td>11.0</td>\n",
       "      <td>29.0</td>\n",
       "      <td>183.0</td>\n",
       "      <td>1.0</td>\n",
       "      <td>41.0</td>\n",
       "      <td>22.0</td>\n",
       "      <td>...</td>\n",
       "      <td>3.0</td>\n",
       "      <td>114.0</td>\n",
       "      <td>NaN</td>\n",
       "      <td>225.0</td>\n",
       "      <td>49.0</td>\n",
       "      <td>659.0</td>\n",
       "      <td>356.0</td>\n",
       "      <td>NaN</td>\n",
       "      <td>704.0</td>\n",
       "      <td>142.0</td>\n",
       "    </tr>\n",
       "    <tr>\n",
       "      <th>wagon</th>\n",
       "      <td>416.0</td>\n",
       "      <td>8837.0</td>\n",
       "      <td>6430.0</td>\n",
       "      <td>96.0</td>\n",
       "      <td>211.0</td>\n",
       "      <td>520.0</td>\n",
       "      <td>227.0</td>\n",
       "      <td>35.0</td>\n",
       "      <td>14.0</td>\n",
       "      <td>339.0</td>\n",
       "      <td>...</td>\n",
       "      <td>320.0</td>\n",
       "      <td>2292.0</td>\n",
       "      <td>9.0</td>\n",
       "      <td>90.0</td>\n",
       "      <td>246.0</td>\n",
       "      <td>74.0</td>\n",
       "      <td>493.0</td>\n",
       "      <td>8.0</td>\n",
       "      <td>10784.0</td>\n",
       "      <td>1680.0</td>\n",
       "    </tr>\n",
       "  </tbody>\n",
       "</table>\n",
       "<p>8 rows × 40 columns</p>\n",
       "</div>"
      ],
      "text/plain": [
       "Brand        alfa_romeo    audi      bmw  chevrolet  chrysler  citroen  dacia  \\\n",
       "VehicleType                                                                     \n",
       "bus                 NaN     9.0      3.0      127.0     349.0   1120.0   43.0   \n",
       "convertible       146.0  1202.0   2473.0        9.0     196.0     87.0    NaN   \n",
       "coupe             202.0   903.0   2816.0       46.0      39.0    126.0    NaN   \n",
       "other               8.0    77.0    188.0       24.0       5.0     86.0    6.0   \n",
       "sedan             788.0  8504.0  14004.0      186.0     197.0    584.0   95.0   \n",
       "small             211.0  1095.0    338.0      523.0      10.0   1322.0  214.0   \n",
       "suv                 NaN    62.0    435.0      233.0      11.0     29.0  183.0   \n",
       "wagon             416.0  8837.0   6430.0       96.0     211.0    520.0  227.0   \n",
       "\n",
       "Brand        daewoo  daihatsu    fiat  ...    seat   skoda   smart  \\\n",
       "VehicleType                            ...                           \n",
       "bus            24.0      29.0   702.0  ...   556.0   219.0     NaN   \n",
       "convertible     1.0      16.0   431.0  ...     NaN     3.0  1048.0   \n",
       "coupe           2.0       NaN   139.0  ...    66.0     5.0   292.0   \n",
       "other           3.0       5.0   134.0  ...    44.0    17.0     4.0   \n",
       "sedan          78.0      37.0   739.0  ...  1465.0   775.0    26.0   \n",
       "small         205.0     396.0  4211.0  ...  2705.0  1024.0  2961.0   \n",
       "suv             1.0      41.0    22.0  ...     3.0   114.0     NaN   \n",
       "wagon          35.0      14.0   339.0  ...   320.0  2292.0     9.0   \n",
       "\n",
       "Brand        sonstige_autos  subaru  suzuki  toyota  trabant  volkswagen  \\\n",
       "VehicleType                                                                \n",
       "bus                   140.0    15.0    25.0   402.0      NaN      7785.0   \n",
       "convertible           202.0     1.0    25.0    59.0      NaN      2421.0   \n",
       "coupe                  98.0     4.0     5.0   179.0      1.0      1209.0   \n",
       "other                  47.0     4.0     9.0    14.0      NaN       580.0   \n",
       "sedan                 236.0   114.0   147.0   803.0      9.0     16604.0   \n",
       "small                  77.0    93.0   832.0  1436.0      5.0     15092.0   \n",
       "suv                   225.0    49.0   659.0   356.0      NaN       704.0   \n",
       "wagon                  90.0   246.0    74.0   493.0      8.0     10784.0   \n",
       "\n",
       "Brand         volvo  \n",
       "VehicleType          \n",
       "bus             NaN  \n",
       "convertible    61.0  \n",
       "coupe          63.0  \n",
       "other           4.0  \n",
       "sedan         544.0  \n",
       "small           6.0  \n",
       "suv           142.0  \n",
       "wagon        1680.0  \n",
       "\n",
       "[8 rows x 40 columns]"
      ]
     },
     "metadata": {},
     "output_type": "display_data"
    },
    {
     "data": {
      "text/plain": [
       "sedan          14004\n",
       "wagon           6430\n",
       "coupe           2816\n",
       "convertible     2473\n",
       "suv              435\n",
       "small            338\n",
       "other            188\n",
       "bus                3\n",
       "Name: VehicleType, dtype: int64"
      ]
     },
     "execution_count": 32,
     "metadata": {},
     "output_type": "execute_result"
    }
   ],
   "source": [
    "vehicle_type_pivot_table = new_df.pivot_table(index='VehicleType', columns='Brand', values='Price', aggfunc='count')\n",
    "display(vehicle_type_pivot_table)\n",
    "new_df[new_df['Brand'] == 'bmw']['VehicleType'].value_counts()"
   ]
  },
  {
   "cell_type": "markdown",
   "metadata": {},
   "source": [
    "Теперь создам словарь брендов и популярных типов машин и заполню пропуски по столбцу VehicleType."
   ]
  },
  {
   "cell_type": "code",
   "execution_count": 33,
   "metadata": {},
   "outputs": [
    {
     "name": "stdout",
     "output_type": "stream",
     "text": [
      "<class 'pandas.core.frame.DataFrame'>\n",
      "Int64Index: 263191 entries, 2 to 354368\n",
      "Data columns (total 10 columns):\n",
      " #   Column            Non-Null Count   Dtype \n",
      "---  ------            --------------   ----- \n",
      " 0   VehicleType       254113 non-null  object\n",
      " 1   Gearbox           263191 non-null  object\n",
      " 2   Power             263191 non-null  int64 \n",
      " 3   Kilometer         263191 non-null  int64 \n",
      " 4   FuelType          250008 non-null  object\n",
      " 5   Brand             263191 non-null  object\n",
      " 6   NotRepaired       263191 non-null  object\n",
      " 7   RegistrationYear  263191 non-null  int64 \n",
      " 8   Model             263191 non-null  object\n",
      " 9   Price             263191 non-null  int64 \n",
      "dtypes: int64(4), object(6)\n",
      "memory usage: 22.1+ MB\n"
     ]
    }
   ],
   "source": [
    "new_df.info()"
   ]
  },
  {
   "cell_type": "code",
   "execution_count": 34,
   "metadata": {},
   "outputs": [],
   "source": [
    "new_df.fillna({'VehicleType':0},inplace=True)\n",
    "\n",
    "def fillna_by_brand(row, row_number, vehicle_type_pivot_table):\n",
    "    brand = row[5]\n",
    "    fill_value = row[row_number]\n",
    "    if row[row_number] == 0:\n",
    "        fill_value = vehicle_type_pivot_table[brand].idxmax()\n",
    "    return fill_value"
   ]
  },
  {
   "cell_type": "code",
   "execution_count": 35,
   "metadata": {},
   "outputs": [
    {
     "data": {
      "text/plain": [
       "0"
      ]
     },
     "metadata": {},
     "output_type": "display_data"
    },
    {
     "data": {
      "text/plain": [
       "sedan          78300\n",
       "small          68209\n",
       "wagon          54435\n",
       "bus            24313\n",
       "convertible    16142\n",
       "coupe          11643\n",
       "suv             7985\n",
       "other           2164\n",
       "Name: VehicleType, dtype: int64"
      ]
     },
     "execution_count": 35,
     "metadata": {},
     "output_type": "execute_result"
    }
   ],
   "source": [
    "new_df['VehicleType'] = new_df.apply(\n",
    "                                fillna_by_brand, \n",
    "                                args=[0, vehicle_type_pivot_table],\n",
    "                                axis=1)\n",
    "display(new_df['VehicleType'].isna().sum())\n",
    "new_df['VehicleType'].value_counts()"
   ]
  },
  {
   "cell_type": "markdown",
   "metadata": {},
   "source": [
    "По такому же принципу заполню пропуски в FuelType."
   ]
  },
  {
   "cell_type": "code",
   "execution_count": 36,
   "metadata": {},
   "outputs": [
    {
     "data": {
      "text/html": [
       "<div>\n",
       "<style scoped>\n",
       "    .dataframe tbody tr th:only-of-type {\n",
       "        vertical-align: middle;\n",
       "    }\n",
       "\n",
       "    .dataframe tbody tr th {\n",
       "        vertical-align: top;\n",
       "    }\n",
       "\n",
       "    .dataframe thead th {\n",
       "        text-align: right;\n",
       "    }\n",
       "</style>\n",
       "<table border=\"1\" class=\"dataframe\">\n",
       "  <thead>\n",
       "    <tr style=\"text-align: right;\">\n",
       "      <th>Brand</th>\n",
       "      <th>alfa_romeo</th>\n",
       "      <th>audi</th>\n",
       "      <th>bmw</th>\n",
       "      <th>chevrolet</th>\n",
       "      <th>chrysler</th>\n",
       "      <th>citroen</th>\n",
       "      <th>dacia</th>\n",
       "      <th>daewoo</th>\n",
       "      <th>daihatsu</th>\n",
       "      <th>fiat</th>\n",
       "      <th>...</th>\n",
       "      <th>seat</th>\n",
       "      <th>skoda</th>\n",
       "      <th>smart</th>\n",
       "      <th>sonstige_autos</th>\n",
       "      <th>subaru</th>\n",
       "      <th>suzuki</th>\n",
       "      <th>toyota</th>\n",
       "      <th>trabant</th>\n",
       "      <th>volkswagen</th>\n",
       "      <th>volvo</th>\n",
       "    </tr>\n",
       "    <tr>\n",
       "      <th>FuelType</th>\n",
       "      <th></th>\n",
       "      <th></th>\n",
       "      <th></th>\n",
       "      <th></th>\n",
       "      <th></th>\n",
       "      <th></th>\n",
       "      <th></th>\n",
       "      <th></th>\n",
       "      <th></th>\n",
       "      <th></th>\n",
       "      <th></th>\n",
       "      <th></th>\n",
       "      <th></th>\n",
       "      <th></th>\n",
       "      <th></th>\n",
       "      <th></th>\n",
       "      <th></th>\n",
       "      <th></th>\n",
       "      <th></th>\n",
       "      <th></th>\n",
       "      <th></th>\n",
       "    </tr>\n",
       "  </thead>\n",
       "  <tbody>\n",
       "    <tr>\n",
       "      <th>cng</th>\n",
       "      <td>NaN</td>\n",
       "      <td>NaN</td>\n",
       "      <td>6.0</td>\n",
       "      <td>4.0</td>\n",
       "      <td>NaN</td>\n",
       "      <td>5.0</td>\n",
       "      <td>2.0</td>\n",
       "      <td>NaN</td>\n",
       "      <td>NaN</td>\n",
       "      <td>61.0</td>\n",
       "      <td>...</td>\n",
       "      <td>2.0</td>\n",
       "      <td>6.0</td>\n",
       "      <td>2.0</td>\n",
       "      <td>6.0</td>\n",
       "      <td>2.0</td>\n",
       "      <td>NaN</td>\n",
       "      <td>NaN</td>\n",
       "      <td>NaN</td>\n",
       "      <td>164.0</td>\n",
       "      <td>20.0</td>\n",
       "    </tr>\n",
       "    <tr>\n",
       "      <th>electric</th>\n",
       "      <td>NaN</td>\n",
       "      <td>2.0</td>\n",
       "      <td>2.0</td>\n",
       "      <td>NaN</td>\n",
       "      <td>NaN</td>\n",
       "      <td>1.0</td>\n",
       "      <td>NaN</td>\n",
       "      <td>NaN</td>\n",
       "      <td>1.0</td>\n",
       "      <td>2.0</td>\n",
       "      <td>...</td>\n",
       "      <td>NaN</td>\n",
       "      <td>NaN</td>\n",
       "      <td>3.0</td>\n",
       "      <td>1.0</td>\n",
       "      <td>NaN</td>\n",
       "      <td>NaN</td>\n",
       "      <td>NaN</td>\n",
       "      <td>NaN</td>\n",
       "      <td>1.0</td>\n",
       "      <td>NaN</td>\n",
       "    </tr>\n",
       "    <tr>\n",
       "      <th>gasoline</th>\n",
       "      <td>536.0</td>\n",
       "      <td>9316.0</td>\n",
       "      <td>8788.0</td>\n",
       "      <td>172.0</td>\n",
       "      <td>309.0</td>\n",
       "      <td>1345.0</td>\n",
       "      <td>177.0</td>\n",
       "      <td>1.0</td>\n",
       "      <td>4.0</td>\n",
       "      <td>1199.0</td>\n",
       "      <td>...</td>\n",
       "      <td>1436.0</td>\n",
       "      <td>1584.0</td>\n",
       "      <td>760.0</td>\n",
       "      <td>235.0</td>\n",
       "      <td>27.0</td>\n",
       "      <td>198.0</td>\n",
       "      <td>856.0</td>\n",
       "      <td>1.0</td>\n",
       "      <td>20251.0</td>\n",
       "      <td>844.0</td>\n",
       "    </tr>\n",
       "    <tr>\n",
       "      <th>hybrid</th>\n",
       "      <td>NaN</td>\n",
       "      <td>NaN</td>\n",
       "      <td>NaN</td>\n",
       "      <td>NaN</td>\n",
       "      <td>NaN</td>\n",
       "      <td>NaN</td>\n",
       "      <td>NaN</td>\n",
       "      <td>NaN</td>\n",
       "      <td>NaN</td>\n",
       "      <td>3.0</td>\n",
       "      <td>...</td>\n",
       "      <td>1.0</td>\n",
       "      <td>NaN</td>\n",
       "      <td>1.0</td>\n",
       "      <td>9.0</td>\n",
       "      <td>NaN</td>\n",
       "      <td>NaN</td>\n",
       "      <td>82.0</td>\n",
       "      <td>NaN</td>\n",
       "      <td>3.0</td>\n",
       "      <td>NaN</td>\n",
       "    </tr>\n",
       "    <tr>\n",
       "      <th>lpg</th>\n",
       "      <td>28.0</td>\n",
       "      <td>341.0</td>\n",
       "      <td>570.0</td>\n",
       "      <td>145.0</td>\n",
       "      <td>74.0</td>\n",
       "      <td>56.0</td>\n",
       "      <td>47.0</td>\n",
       "      <td>21.0</td>\n",
       "      <td>3.0</td>\n",
       "      <td>57.0</td>\n",
       "      <td>...</td>\n",
       "      <td>58.0</td>\n",
       "      <td>49.0</td>\n",
       "      <td>3.0</td>\n",
       "      <td>64.0</td>\n",
       "      <td>27.0</td>\n",
       "      <td>16.0</td>\n",
       "      <td>19.0</td>\n",
       "      <td>NaN</td>\n",
       "      <td>461.0</td>\n",
       "      <td>92.0</td>\n",
       "    </tr>\n",
       "    <tr>\n",
       "      <th>other</th>\n",
       "      <td>NaN</td>\n",
       "      <td>1.0</td>\n",
       "      <td>3.0</td>\n",
       "      <td>NaN</td>\n",
       "      <td>NaN</td>\n",
       "      <td>NaN</td>\n",
       "      <td>NaN</td>\n",
       "      <td>NaN</td>\n",
       "      <td>NaN</td>\n",
       "      <td>NaN</td>\n",
       "      <td>...</td>\n",
       "      <td>NaN</td>\n",
       "      <td>NaN</td>\n",
       "      <td>NaN</td>\n",
       "      <td>6.0</td>\n",
       "      <td>NaN</td>\n",
       "      <td>1.0</td>\n",
       "      <td>NaN</td>\n",
       "      <td>NaN</td>\n",
       "      <td>10.0</td>\n",
       "      <td>2.0</td>\n",
       "    </tr>\n",
       "    <tr>\n",
       "      <th>petrol</th>\n",
       "      <td>1185.0</td>\n",
       "      <td>10685.0</td>\n",
       "      <td>16698.0</td>\n",
       "      <td>908.0</td>\n",
       "      <td>608.0</td>\n",
       "      <td>2414.0</td>\n",
       "      <td>522.0</td>\n",
       "      <td>328.0</td>\n",
       "      <td>514.0</td>\n",
       "      <td>5301.0</td>\n",
       "      <td>...</td>\n",
       "      <td>3611.0</td>\n",
       "      <td>2755.0</td>\n",
       "      <td>3532.0</td>\n",
       "      <td>756.0</td>\n",
       "      <td>454.0</td>\n",
       "      <td>1534.0</td>\n",
       "      <td>2763.0</td>\n",
       "      <td>20.0</td>\n",
       "      <td>33857.0</td>\n",
       "      <td>1479.0</td>\n",
       "    </tr>\n",
       "  </tbody>\n",
       "</table>\n",
       "<p>7 rows × 40 columns</p>\n",
       "</div>"
      ],
      "text/plain": [
       "Brand     alfa_romeo     audi      bmw  chevrolet  chrysler  citroen  dacia  \\\n",
       "FuelType                                                                      \n",
       "cng              NaN      NaN      6.0        4.0       NaN      5.0    2.0   \n",
       "electric         NaN      2.0      2.0        NaN       NaN      1.0    NaN   \n",
       "gasoline       536.0   9316.0   8788.0      172.0     309.0   1345.0  177.0   \n",
       "hybrid           NaN      NaN      NaN        NaN       NaN      NaN    NaN   \n",
       "lpg             28.0    341.0    570.0      145.0      74.0     56.0   47.0   \n",
       "other            NaN      1.0      3.0        NaN       NaN      NaN    NaN   \n",
       "petrol        1185.0  10685.0  16698.0      908.0     608.0   2414.0  522.0   \n",
       "\n",
       "Brand     daewoo  daihatsu    fiat  ...    seat   skoda   smart  \\\n",
       "FuelType                            ...                           \n",
       "cng          NaN       NaN    61.0  ...     2.0     6.0     2.0   \n",
       "electric     NaN       1.0     2.0  ...     NaN     NaN     3.0   \n",
       "gasoline     1.0       4.0  1199.0  ...  1436.0  1584.0   760.0   \n",
       "hybrid       NaN       NaN     3.0  ...     1.0     NaN     1.0   \n",
       "lpg         21.0       3.0    57.0  ...    58.0    49.0     3.0   \n",
       "other        NaN       NaN     NaN  ...     NaN     NaN     NaN   \n",
       "petrol     328.0     514.0  5301.0  ...  3611.0  2755.0  3532.0   \n",
       "\n",
       "Brand     sonstige_autos  subaru  suzuki  toyota  trabant  volkswagen   volvo  \n",
       "FuelType                                                                       \n",
       "cng                  6.0     2.0     NaN     NaN      NaN       164.0    20.0  \n",
       "electric             1.0     NaN     NaN     NaN      NaN         1.0     NaN  \n",
       "gasoline           235.0    27.0   198.0   856.0      1.0     20251.0   844.0  \n",
       "hybrid               9.0     NaN     NaN    82.0      NaN         3.0     NaN  \n",
       "lpg                 64.0    27.0    16.0    19.0      NaN       461.0    92.0  \n",
       "other                6.0     NaN     1.0     NaN      NaN        10.0     2.0  \n",
       "petrol             756.0   454.0  1534.0  2763.0     20.0     33857.0  1479.0  \n",
       "\n",
       "[7 rows x 40 columns]"
      ]
     },
     "metadata": {},
     "output_type": "display_data"
    }
   ],
   "source": [
    "new_df['FuelType'].value_counts()\n",
    "fuel_type_pivot_table = new_df.pivot_table(index='FuelType', columns='Brand', values='Price', aggfunc='count')\n",
    "display(fuel_type_pivot_table)"
   ]
  },
  {
   "cell_type": "code",
   "execution_count": 37,
   "metadata": {},
   "outputs": [
    {
     "data": {
      "text/plain": [
       "0"
      ]
     },
     "metadata": {},
     "output_type": "display_data"
    },
    {
     "data": {
      "text/plain": [
       "petrol         168040\n",
       "gasoline        77168\n",
       "sedan            6034\n",
       "small            5700\n",
       "lpg              4103\n",
       "wagon            1344\n",
       "cng               468\n",
       "hybrid            152\n",
       "bus                51\n",
       "other              50\n",
       "suv                45\n",
       "electric           27\n",
       "convertible         9\n",
       "Name: FuelType, dtype: int64"
      ]
     },
     "execution_count": 37,
     "metadata": {},
     "output_type": "execute_result"
    }
   ],
   "source": [
    "new_df.fillna({'FuelType':0},inplace=True)\n",
    "\n",
    "new_df['FuelType'] = new_df.apply(\n",
    "                                fillna_by_brand, \n",
    "                                args=[4, vehicle_type_pivot_table],\n",
    "                                axis=1)\n",
    "display(new_df['FuelType'].isna().sum())\n",
    "new_df['FuelType'].value_counts()"
   ]
  },
  {
   "cell_type": "code",
   "execution_count": 38,
   "metadata": {},
   "outputs": [
    {
     "data": {
      "text/plain": [
       "VehicleType         0\n",
       "Gearbox             0\n",
       "Power               0\n",
       "Kilometer           0\n",
       "FuelType            0\n",
       "Brand               0\n",
       "NotRepaired         0\n",
       "RegistrationYear    0\n",
       "Model               0\n",
       "Price               0\n",
       "dtype: int64"
      ]
     },
     "execution_count": 38,
     "metadata": {},
     "output_type": "execute_result"
    }
   ],
   "source": [
    "new_df.isna().sum()"
   ]
  },
  {
   "cell_type": "markdown",
   "metadata": {},
   "source": [
    "Пропуски убраны. Теперь удалю дубликаты."
   ]
  },
  {
   "cell_type": "code",
   "execution_count": 39,
   "metadata": {},
   "outputs": [],
   "source": [
    "good_df = new_df.drop_duplicates().reset_index(drop=True)"
   ]
  },
  {
   "cell_type": "markdown",
   "metadata": {},
   "source": [
    "Проведу замену столбцов Gearbox и NotRepaired на булев тип.\n",
    "\n",
    "- IsManualGearbox. 1(manual) - означает механическую коробку передач. 0(auto) - автоматическую.\n",
    "- IsNotRepaired. 1(yes) - означает машину без ремонта. 0(no) - с ремонтом."
   ]
  },
  {
   "cell_type": "code",
   "execution_count": 40,
   "metadata": {},
   "outputs": [
    {
     "data": {
      "text/plain": [
       "1    184233\n",
       "0     41148\n",
       "Name: IsManualGearbox, dtype: int64"
      ]
     },
     "metadata": {},
     "output_type": "display_data"
    },
    {
     "data": {
      "text/plain": [
       "manual    184233\n",
       "auto       41148\n",
       "Name: Gearbox, dtype: int64"
      ]
     },
     "execution_count": 40,
     "metadata": {},
     "output_type": "execute_result"
    }
   ],
   "source": [
    "good_df['IsManualGearbox'] = 0\n",
    "good_df.loc[good_df['Gearbox'] == 'manual', 'IsManualGearbox'] = 1\n",
    "display(good_df['IsManualGearbox'].value_counts())\n",
    "good_df['Gearbox'].value_counts()"
   ]
  },
  {
   "cell_type": "code",
   "execution_count": 41,
   "metadata": {},
   "outputs": [
    {
     "data": {
      "text/plain": [
       "0    169506\n",
       "1     55875\n",
       "Name: IsNotRepaired, dtype: int64"
      ]
     },
     "metadata": {},
     "output_type": "display_data"
    },
    {
     "data": {
      "text/plain": [
       "no     169506\n",
       "yes     55875\n",
       "Name: NotRepaired, dtype: int64"
      ]
     },
     "execution_count": 41,
     "metadata": {},
     "output_type": "execute_result"
    }
   ],
   "source": [
    "good_df['IsNotRepaired'] = 0\n",
    "good_df.loc[good_df['NotRepaired'] == 'yes', 'IsNotRepaired'] = 1\n",
    "display(good_df['IsNotRepaired'].value_counts())\n",
    "good_df['NotRepaired'].value_counts()"
   ]
  },
  {
   "cell_type": "markdown",
   "metadata": {},
   "source": [
    "Удалю ненужные столбцы и уменьшу размерность хранения типа для ускорения работы с дата фреймом."
   ]
  },
  {
   "cell_type": "code",
   "execution_count": 42,
   "metadata": {},
   "outputs": [
    {
     "name": "stdout",
     "output_type": "stream",
     "text": [
      "<class 'pandas.core.frame.DataFrame'>\n",
      "RangeIndex: 225381 entries, 0 to 225380\n",
      "Data columns (total 10 columns):\n",
      " #   Column            Non-Null Count   Dtype \n",
      "---  ------            --------------   ----- \n",
      " 0   VehicleType       225381 non-null  object\n",
      " 1   Power             225381 non-null  int16 \n",
      " 2   Kilometer         225381 non-null  int32 \n",
      " 3   FuelType          225381 non-null  object\n",
      " 4   Brand             225381 non-null  object\n",
      " 5   RegistrationYear  225381 non-null  int16 \n",
      " 6   Model             225381 non-null  object\n",
      " 7   Price             225381 non-null  int16 \n",
      " 8   IsManualGearbox   225381 non-null  int8  \n",
      " 9   IsNotRepaired     225381 non-null  int8  \n",
      "dtypes: int16(3), int32(1), int8(2), object(4)\n",
      "memory usage: 9.5+ MB\n"
     ]
    },
    {
     "data": {
      "text/plain": [
       "(225381, 10)"
      ]
     },
     "metadata": {},
     "output_type": "display_data"
    }
   ],
   "source": [
    "good_df.drop(['NotRepaired','Gearbox'], inplace=True, axis=1)\n",
    "good_df['IsNotRepaired'] = pd.to_numeric(good_df['IsNotRepaired'], downcast='integer')\n",
    "good_df['IsManualGearbox'] = pd.to_numeric(good_df['IsManualGearbox'], downcast='integer')\n",
    "good_df['RegistrationYear'] = pd.to_numeric(good_df['RegistrationYear'], downcast='integer')\n",
    "good_df['Power'] = pd.to_numeric(good_df['Power'], downcast='integer')\n",
    "good_df['Kilometer'] = pd.to_numeric(good_df['Kilometer'], downcast='integer')\n",
    "good_df['Price'] = pd.to_numeric(good_df['Price'], downcast='integer')\n",
    "good_df.info()\n",
    "display(good_df.shape)"
   ]
  },
  {
   "cell_type": "code",
   "execution_count": 43,
   "metadata": {},
   "outputs": [
    {
     "name": "stdout",
     "output_type": "stream",
     "text": [
      "Уменьшение использования памяти на 78.06%\n"
     ]
    }
   ],
   "source": [
    "print('Уменьшение использования памяти на {:.2%}'.format(1 - 9.5/43.3))"
   ]
  },
  {
   "cell_type": "markdown",
   "metadata": {},
   "source": [
    "### Вывод\n",
    "\n",
    "- В данных было много пропущенных значений и выбросов.\n",
    "- Они успешно были удалены и/или заменены на корректные данные.\n",
    "- Отобраны небходимые столбцы для обучения модели.\n",
    "- Заменены два категориальных признака на численные.\n",
    "- Выигрыш в памяти составляет 78%, что ускорит обращение к памяти при обучении модели."
   ]
  },
  {
   "cell_type": "markdown",
   "metadata": {},
   "source": [
    "<div class=\"alert alert-success\">\n",
    "<h2> Комментарий ревьюера <a class=\"tocSkip\"> </h2>\n",
    "\n",
    "<b>Все отлично!👍:</b> \n",
    "    \n",
    "Детальный анализ провели и  подготовили данные. Переходим к обучению моделей."
   ]
  },
  {
   "cell_type": "markdown",
   "metadata": {},
   "source": [
    "## Обучение моделей"
   ]
  },
  {
   "cell_type": "markdown",
   "metadata": {},
   "source": [
    "Для обучения моделей буду использовать следующее:\n",
    "- LinearRegression\n",
    "- Ridge\n",
    "- DecisionTreeRegressor\n",
    "- CatBoostRegressor\n",
    "- LGBMRegressor"
   ]
  },
  {
   "cell_type": "markdown",
   "metadata": {},
   "source": [
    "В качестве метрики для всех моделей буду использовать MSE и в финальной таблице переведу в RMSE. Качество моделей буду проверять на кроссвалидации."
   ]
  },
  {
   "cell_type": "markdown",
   "metadata": {},
   "source": [
    "Подготовлю три типа признаков для кроссвалидации:\n",
    "\n",
    "- Неизмененные. Название original_features.\n",
    "- Закодированные методом OHE. Название ohe_features.\n",
    "- Закодированные методом OE. Название ordinal_features."
   ]
  },
  {
   "cell_type": "code",
   "execution_count": 44,
   "metadata": {},
   "outputs": [],
   "source": [
    "# неизмененные признаки\n",
    "original_features = good_df.drop('Price', axis=1)"
   ]
  },
  {
   "cell_type": "code",
   "execution_count": 45,
   "metadata": {},
   "outputs": [],
   "source": [
    "# прямое кодирование\n",
    "encoder = OrdinalEncoder()\n",
    "cat_columns = ['VehicleType','FuelType','Brand','Model']\n",
    "cat_features = original_features[cat_columns]\n",
    "cat_features = pd.DataFrame(encoder.fit_transform(cat_features),\n",
    "                                columns=cat_features.columns, \n",
    "                                index=cat_features.index)\n",
    "ordinal_features = original_features.copy()\n",
    "for column in cat_columns:\n",
    "    ordinal_features[column] = cat_features[column]"
   ]
  },
  {
   "cell_type": "code",
   "execution_count": 46,
   "metadata": {},
   "outputs": [],
   "source": [
    "# OHE кодирование\n",
    "ohe_features = pd.get_dummies(original_features, drop_first=True)"
   ]
  },
  {
   "cell_type": "code",
   "execution_count": 47,
   "metadata": {},
   "outputs": [],
   "source": [
    "# целевой признак\n",
    "target = good_df['Price']"
   ]
  },
  {
   "cell_type": "code",
   "execution_count": 48,
   "metadata": {},
   "outputs": [],
   "source": [
    "original_features_train, original_features_test, target_train, target_test = train_test_split(\n",
    "    original_features, target, test_size=0.25, random_state=12345)\n",
    "\n",
    "ordinal_features_train = ordinal_features.loc[original_features_train.index, :]\n",
    "ordinal_features_test = ordinal_features.loc[original_features_test.index, :]\n",
    "\n",
    "ohe_features_train = ohe_features.loc[original_features_train.index, :]\n",
    "ohe_features_test = ohe_features.loc[original_features_test.index, :]"
   ]
  },
  {
   "cell_type": "markdown",
   "metadata": {},
   "source": [
    "### Линейная регрессия"
   ]
  },
  {
   "cell_type": "code",
   "execution_count": 49,
   "metadata": {},
   "outputs": [
    {
     "name": "stdout",
     "output_type": "stream",
     "text": [
      "# Обучение для neg_root_mean_squared_error\n",
      "\n",
      "Mean RMSE from CV of LinearRegression = 2103.000710584877\n",
      "Время обучения модели: 94.35590124130249\n"
     ]
    }
   ],
   "source": [
    "start = time.time()\n",
    "\n",
    "regressor_lr = LinearRegression()\n",
    "print('# Обучение для neg_root_mean_squared_error')\n",
    "print()\n",
    "cv_RMSE_LR = (cross_val_score(regressor_lr, \n",
    "                             ohe_features_train, \n",
    "                             target_train, \n",
    "                             cv=5, \n",
    "                             scoring='neg_root_mean_squared_error').mean() * -1)\n",
    "print('Mean RMSE from CV of LinearRegression =', cv_RMSE_LR)\n",
    "end = time.time()\n",
    "regressor_lr_time_train = end - start\n",
    "print('Время обучения модели:', regressor_lr_time_train)"
   ]
  },
  {
   "cell_type": "markdown",
   "metadata": {},
   "source": [
    "Проведу масштабирование признаков"
   ]
  },
  {
   "cell_type": "code",
   "execution_count": 50,
   "metadata": {},
   "outputs": [
    {
     "name": "stdout",
     "output_type": "stream",
     "text": [
      "# Обучение для neg_root_mean_squared_error\n",
      "\n",
      "Mean RMSE from CV of LinearRegression = 2338128844554.1084\n",
      "Время обучения модели: 96.81733918190002\n"
     ]
    }
   ],
   "source": [
    "start = time.time()\n",
    "\n",
    "regressor_lr_m = LinearRegression()\n",
    "scaller = StandardScaler()\n",
    "pipeline = Pipeline([(\"standard_scaller\", scaller),(\"linear_regression\", regressor_lr_m)])\n",
    "print('# Обучение для neg_root_mean_squared_error')\n",
    "print()\n",
    "cv_RMSE_LR_S = (cross_val_score(pipeline,\n",
    "                                ohe_features_train, \n",
    "                                target_train, \n",
    "                                cv=5, \n",
    "                                scoring='neg_root_mean_squared_error').mean() * -1)\n",
    "print('Mean RMSE from CV of LinearRegression =', cv_RMSE_LR_S)\n",
    "\n",
    "end = time.time()\n",
    "regressor_lr_m_time_train = end - start\n",
    "print('Время обучения модели:', regressor_lr_m_time_train)"
   ]
  },
  {
   "cell_type": "markdown",
   "metadata": {},
   "source": [
    "Масштабирование только ухудшает модель - откажусь от масштабирования."
   ]
  },
  {
   "cell_type": "code",
   "execution_count": 51,
   "metadata": {},
   "outputs": [
    {
     "name": "stdout",
     "output_type": "stream",
     "text": [
      "Время предсказания модели: 20.592490434646606\n"
     ]
    }
   ],
   "source": [
    "start = time.time()\n",
    "regressor_lr.fit(ohe_features_train, target_train)\n",
    "lr_predict = regressor_lr.predict(ohe_features_train)\n",
    "end = time.time()\n",
    "lr_predict_time = end - start\n",
    "print('Время предсказания модели:', lr_predict_time)"
   ]
  },
  {
   "cell_type": "markdown",
   "metadata": {},
   "source": [
    "### Регрессия Ridge"
   ]
  },
  {
   "cell_type": "code",
   "execution_count": 52,
   "metadata": {},
   "outputs": [],
   "source": [
    "#%%time\n",
    "\n",
    "#regressor = Ridge()\n",
    "#hyperparams = [{'solver':['auto', 'svd', 'cholesky', 'lsqr','sparse_cg']}]\n",
    "\n",
    "\n",
    "#print('# Tuning hyper-parameters for root_mean_squared_error')\n",
    "#print()\n",
    "#clf = GridSearchCV(regressor, hyperparams, scoring='neg_mean_squared_error')\n",
    "#clf.fit(ohe_features_train, target_train)\n",
    "#print(\"Best parameters set found on development set:\")\n",
    "#print()\n",
    "#print(clf.best_params_)\n",
    "#print()\n",
    "#print(\"Grid scores on development set:\")\n",
    "#print()\n",
    "#means = clf.cv_results_['mean_test_score']\n",
    "#stds = clf.cv_results_['std_test_score']\n",
    "#for mean, std, params in zip(means, stds, clf.cv_results_['params']):\n",
    "    #print(\"%0.6f for %r\"% ((mean*-1)** 0.5, params))\n",
    "#print()\n",
    "\n",
    "#cv_RMSE_R = (max(means)*-1) ** 0.5"
   ]
  },
  {
   "cell_type": "markdown",
   "metadata": {},
   "source": [
    "У меня после изменений с выбросами в Price почему-то начал подыхать kernell на Регрессии Ridge. Убрал её пока из работы."
   ]
  },
  {
   "cell_type": "markdown",
   "metadata": {},
   "source": [
    "### Регрессия DecisionTreeRegressor"
   ]
  },
  {
   "cell_type": "markdown",
   "metadata": {},
   "source": [
    "Проведу два эксперимента:\n",
    "\n",
    "1. Проверю модель на признаках, закодированных по методу OHE.\n",
    "2. На признаках, закодированных по методу OE."
   ]
  },
  {
   "cell_type": "code",
   "execution_count": 53,
   "metadata": {
    "scrolled": false
   },
   "outputs": [],
   "source": [
    "#%%time\n",
    "\n",
    "#regressor_dtr_ohe = DecisionTreeRegressor(criterion='mse',  \n",
    "                #random_state=12345) \n",
    "#max_depth_list = [x for x in range(2, 31)]\n",
    "#hyperparams = [{'max_depth':max_depth_list}]\n",
    "\n",
    "#print('# Tuning hyper-parameters for root_mean_squared_error')\n",
    "#print()\n",
    "#clf = GridSearchCV(regressor_dtr_ohe, hyperparams, scoring='neg_mean_squared_error')\n",
    "#clf.fit(ohe_features_train, target_train)\n",
    "#print(\"Best parameters set found on development set:\")\n",
    "#print()\n",
    "#print(clf.best_params_)\n",
    "#print()\n",
    "#print(\"Grid scores on development set:\")\n",
    "#print()\n",
    "#means = clf.cv_results_['mean_test_score']\n",
    "#stds = clf.cv_results_['std_test_score']\n",
    "#for mean, std, params in zip(means, stds, clf.cv_results_['params']):\n",
    "    #print(\"%0.6f for %r\"% ((mean*-1)** 0.5, params))\n",
    "#print()\n",
    "\n",
    "#cv_RMSE_DTR_ohe = (max(means)*-1) ** 0.5"
   ]
  },
  {
   "cell_type": "code",
   "execution_count": 54,
   "metadata": {
    "scrolled": false
   },
   "outputs": [
    {
     "name": "stdout",
     "output_type": "stream",
     "text": [
      "# Tuning hyper-parameters for root_mean_squared_error\n",
      "\n",
      "Best parameters set found on development set:\n",
      "\n",
      "{'max_depth': 14}\n",
      "\n",
      "Grid scores on development set:\n",
      "\n",
      "2527.999839 for {'max_depth': 2}\n",
      "2324.132312 for {'max_depth': 3}\n",
      "2079.472500 for {'max_depth': 4}\n",
      "1962.538018 for {'max_depth': 5}\n",
      "1866.818415 for {'max_depth': 6}\n",
      "1789.199928 for {'max_depth': 7}\n",
      "1723.993724 for {'max_depth': 8}\n",
      "1674.807630 for {'max_depth': 9}\n",
      "1635.718316 for {'max_depth': 10}\n",
      "1607.106794 for {'max_depth': 11}\n",
      "1589.525045 for {'max_depth': 12}\n",
      "1583.283654 for {'max_depth': 13}\n",
      "1583.123157 for {'max_depth': 14}\n",
      "1591.311352 for {'max_depth': 15}\n",
      "1610.802884 for {'max_depth': 16}\n",
      "1624.971136 for {'max_depth': 17}\n",
      "1643.505659 for {'max_depth': 18}\n",
      "1653.440417 for {'max_depth': 19}\n",
      "1668.293700 for {'max_depth': 20}\n",
      "1676.825771 for {'max_depth': 21}\n",
      "1685.792192 for {'max_depth': 22}\n",
      "1688.628919 for {'max_depth': 23}\n",
      "1696.863156 for {'max_depth': 24}\n",
      "1698.949658 for {'max_depth': 25}\n",
      "1697.359873 for {'max_depth': 26}\n",
      "1699.902714 for {'max_depth': 27}\n",
      "1699.434715 for {'max_depth': 28}\n",
      "1698.748914 for {'max_depth': 29}\n",
      "1701.929567 for {'max_depth': 30}\n",
      "\n",
      "Время обучения модели: 47.23048543930054\n"
     ]
    }
   ],
   "source": [
    "start = time.time()\n",
    "\n",
    "regressor_dtr = DecisionTreeRegressor(criterion='mse', random_state=12345) \n",
    "max_depth_list = [x for x in range(2, 31)]\n",
    "hyperparams = [{'max_depth':max_depth_list}]\n",
    "\n",
    "print('# Tuning hyper-parameters for root_mean_squared_error')\n",
    "print()\n",
    "clf = GridSearchCV(regressor_dtr, hyperparams, scoring='neg_mean_squared_error')\n",
    "clf.fit(ordinal_features_train, target_train)\n",
    "print(\"Best parameters set found on development set:\")\n",
    "print()\n",
    "print(clf.best_params_)\n",
    "print()\n",
    "print(\"Grid scores on development set:\")\n",
    "print()\n",
    "means = clf.cv_results_['mean_test_score']\n",
    "stds = clf.cv_results_['std_test_score']\n",
    "for mean, std, params in zip(means, stds, clf.cv_results_['params']):\n",
    "    print(\"%0.6f for %r\"% ((mean*-1)** 0.5, params))\n",
    "print()\n",
    "\n",
    "cv_RMSE_DTR_ordinal = (max(means)*-1) ** 0.5\n",
    "\n",
    "end = time.time()\n",
    "regressor_dtr_time_train = end - start\n",
    "print('Время обучения модели:', regressor_dtr_time_train) "
   ]
  },
  {
   "cell_type": "code",
   "execution_count": 55,
   "metadata": {},
   "outputs": [
    {
     "name": "stdout",
     "output_type": "stream",
     "text": [
      "Время предсказания модели: 0.03471779823303223\n"
     ]
    }
   ],
   "source": [
    "start = time.time()\n",
    "\n",
    "regressor_dtr_predict = clf.predict(ordinal_features_train)\n",
    "end = time.time()\n",
    "regressor_dtr_time_predict = end - start\n",
    "print('Время предсказания модели:', regressor_dtr_time_predict)\n"
   ]
  },
  {
   "cell_type": "markdown",
   "metadata": {},
   "source": [
    "Обучение на OHE данных дало почти похожий результат, что и порядковое кодирование признаков. Т.к. в принципе на \"деревянной\" модели принято обучать на признаках с OE-кодирование, то его только и оставлю."
   ]
  },
  {
   "cell_type": "markdown",
   "metadata": {},
   "source": [
    "### Регрессия CatBoostRegressor"
   ]
  },
  {
   "cell_type": "markdown",
   "metadata": {},
   "source": [
    "Здесь так же проведу два эксперимента:\n",
    "\n",
    "1. Обучу модель на данных, закодированных по методу OE.\n",
    "2. Обучу на оригинальных данных с указанием категорий."
   ]
  },
  {
   "cell_type": "code",
   "execution_count": 56,
   "metadata": {},
   "outputs": [
    {
     "name": "stdout",
     "output_type": "stream",
     "text": [
      "# Tuning hyper-parameters for root_mean_squared_error\n",
      "\n",
      "Best parameters set found on development set:\n",
      "\n",
      "{'learning_rate': 0.5, 'random_state': 12345, 'verbose': False}\n",
      "\n",
      "Grid scores on development set:\n",
      "\n",
      "1340.231217 for {'learning_rate': 0.1, 'random_state': 12345, 'verbose': False}\n",
      "1327.359190 for {'learning_rate': 0.5, 'random_state': 12345, 'verbose': False}\n",
      "1357.393204 for {'learning_rate': 0.8, 'random_state': 12345, 'verbose': False}\n",
      "\n",
      "Время обучения модели: 298.8622844219208\n"
     ]
    }
   ],
   "source": [
    "start = time.time()\n",
    "\n",
    "regressor_cbr = CatBoostRegressor() \n",
    "hyperparams = [{'learning_rate':[0.1, 0.5, 0.8],\n",
    "                'random_state':[12345],\n",
    "                'verbose':[False]}]\n",
    "\n",
    "print('# Tuning hyper-parameters for root_mean_squared_error')\n",
    "print()\n",
    "clf = GridSearchCV(regressor_cbr, hyperparams, scoring='neg_mean_squared_error')\n",
    "clf.fit(ordinal_features_train, target_train)\n",
    "print(\"Best parameters set found on development set:\")\n",
    "print()\n",
    "print(clf.best_params_)\n",
    "print()\n",
    "print(\"Grid scores on development set:\")\n",
    "print()\n",
    "means = clf.cv_results_['mean_test_score']\n",
    "stds = clf.cv_results_['std_test_score']\n",
    "for mean, std, params in zip(means, stds, clf.cv_results_['params']):\n",
    "    print(\"%0.6f for %r\"% ((mean*-1)** 0.5, params))\n",
    "print()\n",
    "\n",
    "cv_RMSE_CBR_ordinal = (max(means)*-1) ** 0.5\n",
    "\n",
    "end = time.time()\n",
    "regressor_cbr_time_train = end - start\n",
    "\n",
    "print('Время обучения модели:', regressor_cbr_time_train) "
   ]
  },
  {
   "cell_type": "code",
   "execution_count": 57,
   "metadata": {},
   "outputs": [
    {
     "name": "stdout",
     "output_type": "stream",
     "text": [
      "Время предсказания модели: 0.16052627563476562\n"
     ]
    }
   ],
   "source": [
    "start = time.time()\n",
    "\n",
    "regressor_cbr_predict = clf.predict(ordinal_features_train)\n",
    "end = time.time()\n",
    "regressor_cbr_time_predict = end - start\n",
    "print('Время предсказания модели:', regressor_cbr_time_predict)\n"
   ]
  },
  {
   "cell_type": "code",
   "execution_count": 58,
   "metadata": {},
   "outputs": [
    {
     "name": "stdout",
     "output_type": "stream",
     "text": [
      "# Train for root_mean_squared_error\n",
      "\n",
      "Mean RMSE from CV of CatBoostRegressor = 1352.793441228656\n",
      "Время обучения модели: 98.23817658424377\n"
     ]
    }
   ],
   "source": [
    "start = time.time()\n",
    "\n",
    "regressor_cbr_original = CatBoostRegressor(learning_rate=0.5,\n",
    "                              iterations = 200,\n",
    "                              random_state=12345, \n",
    "                              verbose=False, \n",
    "                              cat_features=['VehicleType','FuelType','Brand','Model']) \n",
    "print('# Train for root_mean_squared_error')\n",
    "print()\n",
    "cv_RMSE_CBR_original = (cross_val_score(regressor_cbr_original,\n",
    "                                original_features_train, \n",
    "                                target_train, \n",
    "                                cv=5, \n",
    "                                scoring='neg_mean_squared_error').mean() * -1) ** 0.5\n",
    "print('Mean RMSE from CV of CatBoostRegressor =', cv_RMSE_CBR_original)\n",
    "\n",
    "end = time.time()\n",
    "regressor_cbr_original_time_train = end - start\n",
    "print('Время обучения модели:', regressor_cbr_original_time_train)\n"
   ]
  },
  {
   "cell_type": "code",
   "execution_count": 59,
   "metadata": {},
   "outputs": [
    {
     "name": "stdout",
     "output_type": "stream",
     "text": [
      "Время предсказания модели: 24.519901990890503\n"
     ]
    }
   ],
   "source": [
    "start = time.time()\n",
    "regressor_cbr_original.fit(original_features_train, target_train)\n",
    "regressor_cbr_original_predict = regressor_cbr_original.predict(original_features_train)\n",
    "\n",
    "end = time.time()\n",
    "regressor_cbr_original_time_predict = end - start\n",
    "print('Время предсказания модели:', regressor_cbr_original_time_predict)\n"
   ]
  },
  {
   "cell_type": "markdown",
   "metadata": {},
   "source": [
    "### Регрессия LGBMRegressor"
   ]
  },
  {
   "cell_type": "code",
   "execution_count": 60,
   "metadata": {},
   "outputs": [
    {
     "name": "stdout",
     "output_type": "stream",
     "text": [
      "# Tuning hyper-parameters for root_mean_squared_error\n",
      "\n",
      "Best parameters set found on development set:\n",
      "\n",
      "{'learning_rate': 0.1, 'num_leaves': 200, 'random_state': 12345}\n",
      "\n",
      "Grid scores on development set:\n",
      "\n",
      "1401.737050 for {'learning_rate': 0.1, 'num_leaves': 31, 'random_state': 12345}\n",
      "1345.474095 for {'learning_rate': 0.1, 'num_leaves': 100, 'random_state': 12345}\n",
      "1327.097291 for {'learning_rate': 0.1, 'num_leaves': 200, 'random_state': 12345}\n",
      "1360.724244 for {'learning_rate': 0.3, 'num_leaves': 31, 'random_state': 12345}\n",
      "1333.778507 for {'learning_rate': 0.3, 'num_leaves': 100, 'random_state': 12345}\n",
      "1330.347901 for {'learning_rate': 0.3, 'num_leaves': 200, 'random_state': 12345}\n",
      "1363.916869 for {'learning_rate': 0.5, 'num_leaves': 31, 'random_state': 12345}\n",
      "1354.640751 for {'learning_rate': 0.5, 'num_leaves': 100, 'random_state': 12345}\n",
      "1363.521991 for {'learning_rate': 0.5, 'num_leaves': 200, 'random_state': 12345}\n",
      "\n",
      "Время обучения модели: 318.79657196998596\n"
     ]
    }
   ],
   "source": [
    "start = time.time()\n",
    "\n",
    "regressor_lgbm = LGBMRegressor() \n",
    "hyperparams = [{'num_leaves':[31, 100, 200], \n",
    "                'learning_rate':[0.1, 0.3, 0.5],\n",
    "                'random_state':[12345]}]\n",
    "\n",
    "print('# Tuning hyper-parameters for root_mean_squared_error')\n",
    "print()\n",
    "clf = GridSearchCV(regressor_lgbm, hyperparams, scoring='neg_mean_squared_error')\n",
    "clf.fit(ordinal_features_train, target_train)\n",
    "print(\"Best parameters set found on development set:\")\n",
    "print()\n",
    "print(clf.best_params_)\n",
    "print()\n",
    "print(\"Grid scores on development set:\")\n",
    "print()\n",
    "means = clf.cv_results_['mean_test_score']\n",
    "stds = clf.cv_results_['std_test_score']\n",
    "for mean, std, params in zip(means, stds, clf.cv_results_['params']):\n",
    "    print(\"%0.6f for %r\"% ((mean*-1)** 0.5, params))\n",
    "print()\n",
    "\n",
    "cv_RMSE_LGBMR = (max(means)*-1) ** 0.5\n",
    "\n",
    "end = time.time()\n",
    "regressor_lgbm_time_train = end - start\n",
    "print('Время обучения модели:', regressor_lgbm_time_train)\n"
   ]
  },
  {
   "cell_type": "code",
   "execution_count": 62,
   "metadata": {},
   "outputs": [
    {
     "name": "stdout",
     "output_type": "stream",
     "text": [
      "Время предсказания модели: 1.878075361251831\n"
     ]
    }
   ],
   "source": [
    "start = time.time()\n",
    "\n",
    "regressor_lgbm_predict = clf.predict(ordinal_features_train)\n",
    "\n",
    "end = time.time()\n",
    "regressor_lgbm_time_predict = end - start\n",
    "print('Время предсказания модели:', regressor_lgbm_time_predict)\n",
    "\n"
   ]
  },
  {
   "cell_type": "markdown",
   "metadata": {},
   "source": [
    "### Вывод\n",
    "\n",
    "Провёл обучение моделей, лучшие гиперпараметры и время их выполнения занесу в таблицу. "
   ]
  },
  {
   "cell_type": "markdown",
   "metadata": {},
   "source": [
    "## Анализ моделей"
   ]
  },
  {
   "cell_type": "markdown",
   "metadata": {},
   "source": [
    "Теперь для анализа всех моделей сведу все полученные данные о моделях в одну таблицу."
   ]
  },
  {
   "cell_type": "code",
   "execution_count": 63,
   "metadata": {},
   "outputs": [
    {
     "data": {
      "text/html": [
       "<div>\n",
       "<style scoped>\n",
       "    .dataframe tbody tr th:only-of-type {\n",
       "        vertical-align: middle;\n",
       "    }\n",
       "\n",
       "    .dataframe tbody tr th {\n",
       "        vertical-align: top;\n",
       "    }\n",
       "\n",
       "    .dataframe thead th {\n",
       "        text-align: right;\n",
       "    }\n",
       "</style>\n",
       "<table border=\"1\" class=\"dataframe\">\n",
       "  <thead>\n",
       "    <tr style=\"text-align: right;\">\n",
       "      <th></th>\n",
       "      <th>RMSE на CV, евро</th>\n",
       "      <th>Время обучения на CV, сек</th>\n",
       "      <th>Время предсказания модели, сек</th>\n",
       "      <th>Общее время, сек</th>\n",
       "    </tr>\n",
       "  </thead>\n",
       "  <tbody>\n",
       "    <tr>\n",
       "      <th>LinearRegression</th>\n",
       "      <td>2103.000711</td>\n",
       "      <td>94.355901</td>\n",
       "      <td>20.592490</td>\n",
       "      <td>114.948392</td>\n",
       "    </tr>\n",
       "    <tr>\n",
       "      <th>DecisionTreeRegressor on OE features</th>\n",
       "      <td>1583.123157</td>\n",
       "      <td>47.230485</td>\n",
       "      <td>0.034718</td>\n",
       "      <td>47.265203</td>\n",
       "    </tr>\n",
       "    <tr>\n",
       "      <th>CatBoostRegressor on OE features</th>\n",
       "      <td>1327.359190</td>\n",
       "      <td>298.862284</td>\n",
       "      <td>0.160526</td>\n",
       "      <td>299.022811</td>\n",
       "    </tr>\n",
       "    <tr>\n",
       "      <th>CatBoostRegressor on original features</th>\n",
       "      <td>1352.793441</td>\n",
       "      <td>98.238177</td>\n",
       "      <td>24.519902</td>\n",
       "      <td>122.758079</td>\n",
       "    </tr>\n",
       "    <tr>\n",
       "      <th>LGBMRegressor</th>\n",
       "      <td>1327.097291</td>\n",
       "      <td>318.796572</td>\n",
       "      <td>1.878075</td>\n",
       "      <td>320.674647</td>\n",
       "    </tr>\n",
       "  </tbody>\n",
       "</table>\n",
       "</div>"
      ],
      "text/plain": [
       "                                        RMSE на CV, евро  \\\n",
       "LinearRegression                             2103.000711   \n",
       "DecisionTreeRegressor on OE features         1583.123157   \n",
       "CatBoostRegressor on OE features             1327.359190   \n",
       "CatBoostRegressor on original features       1352.793441   \n",
       "LGBMRegressor                                1327.097291   \n",
       "\n",
       "                                        Время обучения на CV, сек  \\\n",
       "LinearRegression                                        94.355901   \n",
       "DecisionTreeRegressor on OE features                    47.230485   \n",
       "CatBoostRegressor on OE features                       298.862284   \n",
       "CatBoostRegressor on original features                  98.238177   \n",
       "LGBMRegressor                                          318.796572   \n",
       "\n",
       "                                        Время предсказания модели, сек  \\\n",
       "LinearRegression                                             20.592490   \n",
       "DecisionTreeRegressor on OE features                          0.034718   \n",
       "CatBoostRegressor on OE features                              0.160526   \n",
       "CatBoostRegressor on original features                       24.519902   \n",
       "LGBMRegressor                                                 1.878075   \n",
       "\n",
       "                                        Общее время, сек  \n",
       "LinearRegression                              114.948392  \n",
       "DecisionTreeRegressor on OE features           47.265203  \n",
       "CatBoostRegressor on OE features              299.022811  \n",
       "CatBoostRegressor on original features        122.758079  \n",
       "LGBMRegressor                                 320.674647  "
      ]
     },
     "execution_count": 63,
     "metadata": {},
     "output_type": "execute_result"
    }
   ],
   "source": [
    "index = ['LinearRegression',\n",
    "         'DecisionTreeRegressor on OE features',\n",
    "         'CatBoostRegressor on OE features',\n",
    "         'CatBoostRegressor on original features',\n",
    "         'LGBMRegressor']\n",
    "data = {'RMSE на CV, евро':[cv_RMSE_LR,\n",
    "                            cv_RMSE_DTR_ordinal,\n",
    "                            cv_RMSE_CBR_ordinal,\n",
    "                            cv_RMSE_CBR_original,\n",
    "                            cv_RMSE_LGBMR],\n",
    "        'Время обучения на CV, сек':[regressor_lr_time_train,\n",
    "                                     regressor_dtr_time_train,\n",
    "                                     regressor_cbr_time_train,\n",
    "                                     regressor_cbr_original_time_train,\n",
    "                                     regressor_lgbm_time_train],\n",
    "        'Время предсказания модели, сек':[lr_predict_time,\n",
    "                                          regressor_dtr_time_predict,\n",
    "                                          regressor_cbr_time_predict,\n",
    "                                          regressor_cbr_original_time_predict,\n",
    "                                          regressor_lgbm_time_predict]}\n",
    "\n",
    "scores_data = pd.DataFrame(data=data, index=index)\n",
    "scores_data['Общее время, сек'] = (scores_data['Время обучения на CV, сек'] + \n",
    "                                               scores_data['Время предсказания модели, сек'])\n",
    "scores_data"
   ]
  },
  {
   "cell_type": "markdown",
   "metadata": {},
   "source": [
    "Исходя из такой таблицы можно сделать вывод, что лучшие показатели (соотношение затраченного времени на обучение и предсказание) и RMSE у CatBoostRegressor. Причём на \"сырых\" данных работает значительно быстрее в плане обучения, но не предсказания.\n",
    "\n",
    "Хотя точность лучше у LGBMRegressor, но при этом CatBoostRegressor на кодированных признаках показывает почти такую же точность.\n",
    "\n",
    "Лучшая модель всё же CatBoostRegressor on original features протестирую её на тестовой выборке."
   ]
  },
  {
   "cell_type": "markdown",
   "metadata": {},
   "source": [
    "### Регрессия CatBoostRegressor"
   ]
  },
  {
   "cell_type": "code",
   "execution_count": 64,
   "metadata": {},
   "outputs": [
    {
     "name": "stdout",
     "output_type": "stream",
     "text": [
      "CPU times: user 23.8 s, sys: 259 ms, total: 24.1 s\n",
      "Wall time: 24.4 s\n"
     ]
    },
    {
     "data": {
      "text/plain": [
       "<catboost.core.CatBoostRegressor at 0x7f7e68c0e640>"
      ]
     },
     "execution_count": 64,
     "metadata": {},
     "output_type": "execute_result"
    }
   ],
   "source": [
    "%%time\n",
    "\n",
    "model = CatBoostRegressor(learning_rate=0.5, \n",
    "                          iterations = 200, \n",
    "                          random_state=12345, \n",
    "                          verbose=False,\n",
    "                          cat_features=['VehicleType','FuelType','Brand','Model']) \n",
    "model.fit(original_features_train, target_train)"
   ]
  },
  {
   "cell_type": "code",
   "execution_count": 66,
   "metadata": {},
   "outputs": [],
   "source": [
    "target_predict = model.predict(original_features_test)"
   ]
  },
  {
   "cell_type": "code",
   "execution_count": 67,
   "metadata": {},
   "outputs": [
    {
     "data": {
      "text/plain": [
       "1339.6915940310996"
      ]
     },
     "execution_count": 67,
     "metadata": {},
     "output_type": "execute_result"
    }
   ],
   "source": [
    "final_RMSE_CBR_original = mean_squared_error(target_test, target_predict) ** 0.5\n",
    "final_RMSE_CBR_original"
   ]
  },
  {
   "cell_type": "markdown",
   "metadata": {},
   "source": [
    "Построю график важности для лучшей выбранной модели"
   ]
  },
  {
   "cell_type": "code",
   "execution_count": 74,
   "metadata": {},
   "outputs": [
    {
     "data": {
      "image/png": "[encoded data removed]",
      "text/plain": [
       "<Figure size 720x504 with 1 Axes>"
      ]
     },
     "metadata": {
      "needs_background": "light"
     },
     "output_type": "display_data"
    }
   ],
   "source": [
    "feature_names = original_features_train.columns \n",
    "model = CatBoostRegressor(learning_rate=0.5, \n",
    "                          iterations = 200, \n",
    "                          random_state=12345, \n",
    "                          verbose=False,\n",
    "                          cat_features=['VehicleType','FuelType','Brand','Model'])\n",
    "model.fit(original_features_train, target_train)\n",
    "pred = model.predict(original_features_test)\n",
    "importances = model.feature_importances_\n",
    "model_importances = pd.Series(importances, index=feature_names)\n",
    "\n",
    "std = np.std([model.feature_importances_], axis=0)\n",
    "\n",
    "fig, ax = plt.subplots(figsize=(10,7))\n",
    "model_importances.plot.bar(yerr=std, ax=ax)\n",
    "ax.set_title(\"Feature importances\")\n",
    "ax.set_ylabel(\"Mean decrease in impurity\")\n",
    "fig.tight_layout()"
   ]
  },
  {
   "cell_type": "markdown",
   "metadata": {},
   "source": [
    "График важности модели соответствует тому, что было проанализировано в самом начале на исходных данных."
   ]
  },
  {
   "cell_type": "markdown",
   "metadata": {},
   "source": [
    "## Итоговый вывод\n",
    "\n",
    "В ходе работы было выполнено:\n",
    "\n",
    "- Загружены данные. Проведен анализ и предобработка.\n",
    "- Выполнено сравнение моделей с использованием различных наборов гиперпараметров.\n",
    "- Выбрана лучшая модель по результатам метрики RMSE и времени обучения и это CatBoostRegressor.\n"
   ]
  }
 ],
 "metadata": {
  "ExecuteTimeLog": [
   {
    "duration": 2544,
    "start_time": "2022-05-10T16:58:10.886Z"
   },
   {
    "duration": 6,
    "start_time": "2022-05-10T16:59:05.335Z"
   },
   {
    "duration": 4,
    "start_time": "2022-05-10T16:59:44.973Z"
   },
   {
    "duration": 1160,
    "start_time": "2022-05-10T16:59:55.314Z"
   },
   {
    "duration": 1102,
    "start_time": "2022-05-10T17:00:32.178Z"
   },
   {
    "duration": 1103,
    "start_time": "2022-05-10T17:02:29.615Z"
   },
   {
    "duration": 6,
    "start_time": "2022-05-10T17:11:19.904Z"
   },
   {
    "duration": 1364,
    "start_time": "2022-05-10T17:11:35.979Z"
   },
   {
    "duration": 8,
    "start_time": "2022-05-10T17:16:06.967Z"
   },
   {
    "duration": 1320,
    "start_time": "2022-05-10T17:16:13.379Z"
   },
   {
    "duration": 6,
    "start_time": "2022-05-10T17:16:33.061Z"
   },
   {
    "duration": 1803,
    "start_time": "2022-05-10T17:16:35.175Z"
   },
   {
    "duration": 7,
    "start_time": "2022-05-10T17:21:37.364Z"
   },
   {
    "duration": 3004,
    "start_time": "2022-05-10T17:21:39.984Z"
   },
   {
    "duration": 7,
    "start_time": "2022-05-10T17:26:05.335Z"
   },
   {
    "duration": 4,
    "start_time": "2022-05-10T17:27:55.467Z"
   },
   {
    "duration": 466,
    "start_time": "2022-05-10T17:28:05.396Z"
   },
   {
    "duration": 15,
    "start_time": "2022-05-10T17:55:25.612Z"
   },
   {
    "duration": 80,
    "start_time": "2022-05-10T17:55:31.276Z"
   },
   {
    "duration": 23,
    "start_time": "2022-05-10T17:55:42.053Z"
   },
   {
    "duration": 12,
    "start_time": "2022-05-10T17:56:11.332Z"
   },
   {
    "duration": 48,
    "start_time": "2022-05-10T17:56:31.238Z"
   },
   {
    "duration": 593,
    "start_time": "2022-05-10T17:56:38.135Z"
   },
   {
    "duration": 27,
    "start_time": "2022-05-10T18:12:36.963Z"
   },
   {
    "duration": 115,
    "start_time": "2022-05-10T18:12:56.319Z"
   },
   {
    "duration": 15,
    "start_time": "2022-05-10T18:14:16.361Z"
   },
   {
    "duration": 579,
    "start_time": "2022-05-10T18:27:51.992Z"
   },
   {
    "duration": 657,
    "start_time": "2022-05-10T18:33:53.663Z"
   },
   {
    "duration": 335,
    "start_time": "2022-05-10T18:34:36.452Z"
   },
   {
    "duration": 836,
    "start_time": "2022-05-10T18:34:45.523Z"
   },
   {
    "duration": 411,
    "start_time": "2022-05-10T18:35:01.478Z"
   },
   {
    "duration": 212,
    "start_time": "2022-05-10T18:35:13.901Z"
   },
   {
    "duration": 224,
    "start_time": "2022-05-10T18:35:19.296Z"
   },
   {
    "duration": 574,
    "start_time": "2022-05-10T18:35:31.227Z"
   },
   {
    "duration": 60,
    "start_time": "2022-05-10T18:35:51.149Z"
   },
   {
    "duration": 671,
    "start_time": "2022-05-10T18:36:07.783Z"
   },
   {
    "duration": 2360,
    "start_time": "2022-05-10T18:36:25.173Z"
   },
   {
    "duration": 684,
    "start_time": "2022-05-10T18:36:57.792Z"
   },
   {
    "duration": 147,
    "start_time": "2022-05-10T18:42:42.633Z"
   },
   {
    "duration": 383,
    "start_time": "2022-05-10T19:03:12.141Z"
   },
   {
    "duration": 296,
    "start_time": "2022-05-10T19:03:20.163Z"
   },
   {
    "duration": 472,
    "start_time": "2022-05-10T19:03:27.270Z"
   },
   {
    "duration": 515,
    "start_time": "2022-05-10T19:03:48.262Z"
   },
   {
    "duration": 18,
    "start_time": "2022-05-10T19:04:02.211Z"
   },
   {
    "duration": 478,
    "start_time": "2022-05-10T19:05:43.774Z"
   },
   {
    "duration": 695,
    "start_time": "2022-05-10T19:10:47.336Z"
   },
   {
    "duration": 478,
    "start_time": "2022-05-10T19:12:20.349Z"
   },
   {
    "duration": 77,
    "start_time": "2022-05-10T19:13:03.430Z"
   },
   {
    "duration": 36,
    "start_time": "2022-05-10T19:13:10.970Z"
   },
   {
    "duration": 144,
    "start_time": "2022-05-10T19:14:00.747Z"
   },
   {
    "duration": 522,
    "start_time": "2022-05-10T19:18:35.665Z"
   },
   {
    "duration": 1656,
    "start_time": "2022-05-11T17:50:39.312Z"
   },
   {
    "duration": 837,
    "start_time": "2022-05-11T17:50:40.971Z"
   },
   {
    "duration": 5,
    "start_time": "2022-05-11T17:50:41.810Z"
   },
   {
    "duration": 2211,
    "start_time": "2022-05-11T17:50:41.816Z"
   },
   {
    "duration": 4,
    "start_time": "2022-05-11T17:50:44.028Z"
   },
   {
    "duration": 328,
    "start_time": "2022-05-11T17:50:44.034Z"
   },
   {
    "duration": 74,
    "start_time": "2022-05-11T17:50:44.364Z"
   },
   {
    "duration": 12,
    "start_time": "2022-05-11T17:50:44.439Z"
   },
   {
    "duration": 443,
    "start_time": "2022-05-11T17:50:44.453Z"
   },
   {
    "duration": 15,
    "start_time": "2022-05-11T17:50:44.907Z"
   },
   {
    "duration": 97,
    "start_time": "2022-05-11T17:50:44.924Z"
   },
   {
    "duration": 9,
    "start_time": "2022-05-11T17:50:45.022Z"
   },
   {
    "duration": 287,
    "start_time": "2022-05-11T17:50:45.033Z"
   },
   {
    "duration": 437,
    "start_time": "2022-05-11T17:50:45.321Z"
   },
   {
    "duration": 94,
    "start_time": "2022-05-11T17:50:45.759Z"
   },
   {
    "duration": 23,
    "start_time": "2022-05-11T17:50:45.855Z"
   },
   {
    "duration": 370,
    "start_time": "2022-05-11T17:50:45.880Z"
   },
   {
    "duration": 314,
    "start_time": "2022-05-11T17:50:46.252Z"
   },
   {
    "duration": 304,
    "start_time": "2022-05-11T17:50:46.568Z"
   },
   {
    "duration": 284,
    "start_time": "2022-05-11T17:51:11.304Z"
   },
   {
    "duration": 1499,
    "start_time": "2022-05-11T17:51:45.124Z"
   },
   {
    "duration": 827,
    "start_time": "2022-05-11T17:51:46.625Z"
   },
   {
    "duration": 5,
    "start_time": "2022-05-11T17:51:47.453Z"
   },
   {
    "duration": 2193,
    "start_time": "2022-05-11T17:51:47.460Z"
   },
   {
    "duration": 3,
    "start_time": "2022-05-11T17:51:49.654Z"
   },
   {
    "duration": 331,
    "start_time": "2022-05-11T17:51:49.659Z"
   },
   {
    "duration": 79,
    "start_time": "2022-05-11T17:51:49.992Z"
   },
   {
    "duration": 13,
    "start_time": "2022-05-11T17:51:50.073Z"
   },
   {
    "duration": 371,
    "start_time": "2022-05-11T17:51:50.107Z"
   },
   {
    "duration": 30,
    "start_time": "2022-05-11T17:51:50.482Z"
   },
   {
    "duration": 96,
    "start_time": "2022-05-11T17:51:50.514Z"
   },
   {
    "duration": 14,
    "start_time": "2022-05-11T17:51:50.612Z"
   },
   {
    "duration": 304,
    "start_time": "2022-05-11T17:51:50.629Z"
   },
   {
    "duration": 452,
    "start_time": "2022-05-11T17:51:50.935Z"
   },
   {
    "duration": 93,
    "start_time": "2022-05-11T17:51:51.389Z"
   },
   {
    "duration": 305,
    "start_time": "2022-05-11T17:51:51.484Z"
   },
   {
    "duration": 352,
    "start_time": "2022-05-11T17:51:51.791Z"
   },
   {
    "duration": 329,
    "start_time": "2022-05-11T17:51:52.145Z"
   },
   {
    "duration": 299,
    "start_time": "2022-05-11T17:51:52.476Z"
   },
   {
    "duration": 19,
    "start_time": "2022-05-11T17:53:17.976Z"
   },
   {
    "duration": 432,
    "start_time": "2022-05-11T17:53:37.332Z"
   },
   {
    "duration": 20,
    "start_time": "2022-05-11T17:53:48.464Z"
   },
   {
    "duration": 283,
    "start_time": "2022-05-11T17:54:03.493Z"
   },
   {
    "duration": 1518,
    "start_time": "2022-05-11T17:54:13.062Z"
   },
   {
    "duration": 852,
    "start_time": "2022-05-11T17:54:14.582Z"
   },
   {
    "duration": 4,
    "start_time": "2022-05-11T17:54:15.436Z"
   },
   {
    "duration": 2290,
    "start_time": "2022-05-11T17:54:15.442Z"
   },
   {
    "duration": 3,
    "start_time": "2022-05-11T17:54:17.733Z"
   },
   {
    "duration": 331,
    "start_time": "2022-05-11T17:54:17.738Z"
   },
   {
    "duration": 73,
    "start_time": "2022-05-11T17:54:18.071Z"
   },
   {
    "duration": 12,
    "start_time": "2022-05-11T17:54:18.146Z"
   },
   {
    "duration": 393,
    "start_time": "2022-05-11T17:54:18.160Z"
   },
   {
    "duration": 16,
    "start_time": "2022-05-11T17:54:18.556Z"
   },
   {
    "duration": 101,
    "start_time": "2022-05-11T17:54:18.574Z"
   },
   {
    "duration": 9,
    "start_time": "2022-05-11T17:54:18.676Z"
   },
   {
    "duration": 307,
    "start_time": "2022-05-11T17:54:18.686Z"
   },
   {
    "duration": 465,
    "start_time": "2022-05-11T17:54:18.995Z"
   },
   {
    "duration": 95,
    "start_time": "2022-05-11T17:54:19.461Z"
   },
   {
    "duration": 312,
    "start_time": "2022-05-11T17:54:19.558Z"
   },
   {
    "duration": 374,
    "start_time": "2022-05-11T17:54:19.872Z"
   },
   {
    "duration": 302,
    "start_time": "2022-05-11T17:54:20.247Z"
   },
   {
    "duration": 310,
    "start_time": "2022-05-11T17:54:20.550Z"
   },
   {
    "duration": 361,
    "start_time": "2022-05-11T17:57:58.435Z"
   },
   {
    "duration": 85,
    "start_time": "2022-05-11T17:59:25.528Z"
   },
   {
    "duration": 91,
    "start_time": "2022-05-11T17:59:47.010Z"
   },
   {
    "duration": 87,
    "start_time": "2022-05-11T17:59:54.552Z"
   },
   {
    "duration": 130,
    "start_time": "2022-05-11T18:00:02.052Z"
   },
   {
    "duration": 3,
    "start_time": "2022-05-11T18:00:21.338Z"
   },
   {
    "duration": 262,
    "start_time": "2022-05-11T18:00:39.786Z"
   },
   {
    "duration": 3,
    "start_time": "2022-05-11T18:01:13.409Z"
   },
   {
    "duration": 280,
    "start_time": "2022-05-11T18:01:15.796Z"
   },
   {
    "duration": 3,
    "start_time": "2022-05-11T18:02:22.510Z"
   },
   {
    "duration": 300,
    "start_time": "2022-05-11T18:02:55.679Z"
   },
   {
    "duration": 280,
    "start_time": "2022-05-11T18:03:36.753Z"
   },
   {
    "duration": 298,
    "start_time": "2022-05-11T18:04:01.545Z"
   },
   {
    "duration": 425,
    "start_time": "2022-05-11T18:04:17.133Z"
   },
   {
    "duration": 1441,
    "start_time": "2022-05-11T18:04:48.113Z"
   },
   {
    "duration": 795,
    "start_time": "2022-05-11T18:04:49.556Z"
   },
   {
    "duration": 4,
    "start_time": "2022-05-11T18:04:50.353Z"
   },
   {
    "duration": 2124,
    "start_time": "2022-05-11T18:04:50.359Z"
   },
   {
    "duration": 3,
    "start_time": "2022-05-11T18:04:52.484Z"
   },
   {
    "duration": 293,
    "start_time": "2022-05-11T18:04:52.489Z"
   },
   {
    "duration": 74,
    "start_time": "2022-05-11T18:04:52.784Z"
   },
   {
    "duration": 11,
    "start_time": "2022-05-11T18:04:52.860Z"
   },
   {
    "duration": 382,
    "start_time": "2022-05-11T18:04:52.872Z"
   },
   {
    "duration": 16,
    "start_time": "2022-05-11T18:04:53.257Z"
   },
   {
    "duration": 107,
    "start_time": "2022-05-11T18:04:53.275Z"
   },
   {
    "duration": 3,
    "start_time": "2022-05-11T18:04:53.383Z"
   },
   {
    "duration": 27,
    "start_time": "2022-05-11T18:04:53.388Z"
   },
   {
    "duration": 359,
    "start_time": "2022-05-11T18:04:53.417Z"
   },
   {
    "duration": 450,
    "start_time": "2022-05-11T18:04:53.778Z"
   },
   {
    "duration": 89,
    "start_time": "2022-05-11T18:04:54.230Z"
   },
   {
    "duration": 302,
    "start_time": "2022-05-11T18:04:54.321Z"
   },
   {
    "duration": 344,
    "start_time": "2022-05-11T18:04:54.624Z"
   },
   {
    "duration": 296,
    "start_time": "2022-05-11T18:04:54.969Z"
   },
   {
    "duration": 256,
    "start_time": "2022-05-11T18:04:55.267Z"
   },
   {
    "duration": 118,
    "start_time": "2022-05-11T18:07:38.238Z"
   },
   {
    "duration": 1397,
    "start_time": "2022-05-11T18:07:46.483Z"
   },
   {
    "duration": 60,
    "start_time": "2022-05-11T18:08:31.215Z"
   },
   {
    "duration": 401,
    "start_time": "2022-05-11T18:11:09.626Z"
   },
   {
    "duration": 3,
    "start_time": "2022-05-11T18:12:21.289Z"
   },
   {
    "duration": 322,
    "start_time": "2022-05-11T18:12:24.548Z"
   },
   {
    "duration": 293,
    "start_time": "2022-05-11T18:12:33.619Z"
   },
   {
    "duration": 315,
    "start_time": "2022-05-11T18:12:40.309Z"
   },
   {
    "duration": 298,
    "start_time": "2022-05-11T18:12:52.633Z"
   },
   {
    "duration": 277,
    "start_time": "2022-05-11T18:12:55.949Z"
   },
   {
    "duration": 405,
    "start_time": "2022-05-11T18:13:30.056Z"
   },
   {
    "duration": 1529,
    "start_time": "2022-05-11T18:13:39.883Z"
   },
   {
    "duration": 850,
    "start_time": "2022-05-11T18:13:41.414Z"
   },
   {
    "duration": 5,
    "start_time": "2022-05-11T18:13:42.266Z"
   },
   {
    "duration": 2329,
    "start_time": "2022-05-11T18:13:42.273Z"
   },
   {
    "duration": 3,
    "start_time": "2022-05-11T18:13:44.608Z"
   },
   {
    "duration": 338,
    "start_time": "2022-05-11T18:13:44.612Z"
   },
   {
    "duration": 73,
    "start_time": "2022-05-11T18:13:44.952Z"
   },
   {
    "duration": 11,
    "start_time": "2022-05-11T18:13:45.027Z"
   },
   {
    "duration": 348,
    "start_time": "2022-05-11T18:13:45.040Z"
   },
   {
    "duration": 27,
    "start_time": "2022-05-11T18:13:45.392Z"
   },
   {
    "duration": 94,
    "start_time": "2022-05-11T18:13:45.421Z"
   },
   {
    "duration": 4,
    "start_time": "2022-05-11T18:13:45.516Z"
   },
   {
    "duration": 12,
    "start_time": "2022-05-11T18:13:45.521Z"
   },
   {
    "duration": 359,
    "start_time": "2022-05-11T18:13:45.535Z"
   },
   {
    "duration": 444,
    "start_time": "2022-05-11T18:13:45.895Z"
   },
   {
    "duration": 99,
    "start_time": "2022-05-11T18:13:46.340Z"
   },
   {
    "duration": 305,
    "start_time": "2022-05-11T18:13:46.441Z"
   },
   {
    "duration": 305,
    "start_time": "2022-05-11T18:13:46.747Z"
   },
   {
    "duration": 312,
    "start_time": "2022-05-11T18:13:47.053Z"
   },
   {
    "duration": 282,
    "start_time": "2022-05-11T18:13:47.367Z"
   },
   {
    "duration": 57,
    "start_time": "2022-05-11T18:13:47.651Z"
   },
   {
    "duration": 425,
    "start_time": "2022-05-11T18:13:47.710Z"
   },
   {
    "duration": 298,
    "start_time": "2022-05-11T18:15:52.620Z"
   },
   {
    "duration": 306,
    "start_time": "2022-05-11T18:21:29.974Z"
   },
   {
    "duration": 4,
    "start_time": "2022-05-11T18:28:28.699Z"
   },
   {
    "duration": 4,
    "start_time": "2022-05-11T18:29:24.414Z"
   },
   {
    "duration": 220,
    "start_time": "2022-05-11T18:30:04.512Z"
   },
   {
    "duration": 183,
    "start_time": "2022-05-11T18:30:29.997Z"
   },
   {
    "duration": 165,
    "start_time": "2022-05-11T18:30:55.800Z"
   },
   {
    "duration": 4,
    "start_time": "2022-05-11T18:34:43.949Z"
   },
   {
    "duration": 197,
    "start_time": "2022-05-11T18:34:52.572Z"
   },
   {
    "duration": 361,
    "start_time": "2022-05-11T18:49:22.651Z"
   },
   {
    "duration": 139,
    "start_time": "2022-05-11T18:53:40.565Z"
   },
   {
    "duration": 87,
    "start_time": "2022-05-11T18:53:49.218Z"
   },
   {
    "duration": 86,
    "start_time": "2022-05-11T18:53:59.933Z"
   },
   {
    "duration": 87,
    "start_time": "2022-05-11T18:54:18.772Z"
   },
   {
    "duration": 83,
    "start_time": "2022-05-11T18:54:24.932Z"
   },
   {
    "duration": 36,
    "start_time": "2022-05-11T18:55:44.455Z"
   },
   {
    "duration": 25,
    "start_time": "2022-05-11T18:55:59.615Z"
   },
   {
    "duration": 198,
    "start_time": "2022-05-11T18:58:48.995Z"
   },
   {
    "duration": 95,
    "start_time": "2022-05-11T18:59:40.028Z"
   },
   {
    "duration": 12,
    "start_time": "2022-05-11T19:00:14.581Z"
   },
   {
    "duration": 99,
    "start_time": "2022-05-11T19:00:21.785Z"
   },
   {
    "duration": 98,
    "start_time": "2022-05-11T19:00:32.699Z"
   },
   {
    "duration": 90,
    "start_time": "2022-05-11T19:00:50.714Z"
   },
   {
    "duration": 1528,
    "start_time": "2022-05-11T19:01:04.428Z"
   },
   {
    "duration": 875,
    "start_time": "2022-05-11T19:01:05.959Z"
   },
   {
    "duration": 4,
    "start_time": "2022-05-11T19:01:06.836Z"
   },
   {
    "duration": 2302,
    "start_time": "2022-05-11T19:01:06.842Z"
   },
   {
    "duration": 4,
    "start_time": "2022-05-11T19:01:09.146Z"
   },
   {
    "duration": 335,
    "start_time": "2022-05-11T19:01:09.151Z"
   },
   {
    "duration": 82,
    "start_time": "2022-05-11T19:01:09.488Z"
   },
   {
    "duration": 14,
    "start_time": "2022-05-11T19:01:09.572Z"
   },
   {
    "duration": 579,
    "start_time": "2022-05-11T19:01:09.588Z"
   },
   {
    "duration": 17,
    "start_time": "2022-05-11T19:01:10.169Z"
   },
   {
    "duration": 92,
    "start_time": "2022-05-11T19:01:10.188Z"
   },
   {
    "duration": 3,
    "start_time": "2022-05-11T19:01:10.282Z"
   },
   {
    "duration": 21,
    "start_time": "2022-05-11T19:01:10.287Z"
   },
   {
    "duration": 362,
    "start_time": "2022-05-11T19:01:10.311Z"
   },
   {
    "duration": 446,
    "start_time": "2022-05-11T19:01:10.675Z"
   },
   {
    "duration": 101,
    "start_time": "2022-05-11T19:01:11.123Z"
   },
   {
    "duration": 313,
    "start_time": "2022-05-11T19:01:11.225Z"
   },
   {
    "duration": 317,
    "start_time": "2022-05-11T19:01:11.540Z"
   },
   {
    "duration": 310,
    "start_time": "2022-05-11T19:01:11.859Z"
   },
   {
    "duration": 281,
    "start_time": "2022-05-11T19:01:12.170Z"
   },
   {
    "duration": 59,
    "start_time": "2022-05-11T19:01:12.453Z"
   },
   {
    "duration": 415,
    "start_time": "2022-05-11T19:01:12.513Z"
   },
   {
    "duration": 322,
    "start_time": "2022-05-11T19:01:12.930Z"
   },
   {
    "duration": 320,
    "start_time": "2022-05-11T19:01:13.254Z"
   },
   {
    "duration": 211,
    "start_time": "2022-05-11T19:01:13.575Z"
   },
   {
    "duration": 94,
    "start_time": "2022-05-11T19:01:13.788Z"
   },
   {
    "duration": 34,
    "start_time": "2022-05-11T19:01:13.884Z"
   },
   {
    "duration": 109,
    "start_time": "2022-05-11T19:01:13.920Z"
   },
   {
    "duration": 4,
    "start_time": "2022-05-11T19:01:14.031Z"
   },
   {
    "duration": 239,
    "start_time": "2022-05-11T19:01:14.037Z"
   },
   {
    "duration": 183,
    "start_time": "2022-05-11T19:01:14.277Z"
   },
   {
    "duration": 182,
    "start_time": "2022-05-11T19:01:14.462Z"
   },
   {
    "duration": 62,
    "start_time": "2022-05-11T19:03:48.950Z"
   },
   {
    "duration": 2494,
    "start_time": "2022-05-11T19:05:00.127Z"
   },
   {
    "duration": 13,
    "start_time": "2022-05-11T19:05:44.361Z"
   },
   {
    "duration": 1739,
    "start_time": "2022-05-11T19:05:48.156Z"
   },
   {
    "duration": 86,
    "start_time": "2022-05-11T19:08:21.545Z"
   },
   {
    "duration": 1452,
    "start_time": "2022-05-11T19:08:36.131Z"
   },
   {
    "duration": 817,
    "start_time": "2022-05-11T19:08:37.585Z"
   },
   {
    "duration": 5,
    "start_time": "2022-05-11T19:08:38.404Z"
   },
   {
    "duration": 2166,
    "start_time": "2022-05-11T19:08:38.411Z"
   },
   {
    "duration": 3,
    "start_time": "2022-05-11T19:08:40.578Z"
   },
   {
    "duration": 337,
    "start_time": "2022-05-11T19:08:40.583Z"
   },
   {
    "duration": 64,
    "start_time": "2022-05-11T19:08:40.922Z"
   },
   {
    "duration": 21,
    "start_time": "2022-05-11T19:08:40.988Z"
   },
   {
    "duration": 352,
    "start_time": "2022-05-11T19:08:41.010Z"
   },
   {
    "duration": 17,
    "start_time": "2022-05-11T19:08:41.365Z"
   },
   {
    "duration": 107,
    "start_time": "2022-05-11T19:08:41.385Z"
   },
   {
    "duration": 14,
    "start_time": "2022-05-11T19:08:41.493Z"
   },
   {
    "duration": 9,
    "start_time": "2022-05-11T19:08:41.508Z"
   },
   {
    "duration": 364,
    "start_time": "2022-05-11T19:08:41.518Z"
   },
   {
    "duration": 440,
    "start_time": "2022-05-11T19:08:41.884Z"
   },
   {
    "duration": 91,
    "start_time": "2022-05-11T19:08:42.326Z"
   },
   {
    "duration": 306,
    "start_time": "2022-05-11T19:08:42.419Z"
   },
   {
    "duration": 297,
    "start_time": "2022-05-11T19:08:42.727Z"
   },
   {
    "duration": 297,
    "start_time": "2022-05-11T19:08:43.025Z"
   },
   {
    "duration": 281,
    "start_time": "2022-05-11T19:08:43.324Z"
   },
   {
    "duration": 52,
    "start_time": "2022-05-11T19:08:43.607Z"
   },
   {
    "duration": 405,
    "start_time": "2022-05-11T19:08:43.660Z"
   },
   {
    "duration": 320,
    "start_time": "2022-05-11T19:08:44.067Z"
   },
   {
    "duration": 309,
    "start_time": "2022-05-11T19:08:44.389Z"
   },
   {
    "duration": 201,
    "start_time": "2022-05-11T19:08:44.700Z"
   },
   {
    "duration": 84,
    "start_time": "2022-05-11T19:08:44.907Z"
   },
   {
    "duration": 38,
    "start_time": "2022-05-11T19:08:44.993Z"
   },
   {
    "duration": 101,
    "start_time": "2022-05-11T19:08:45.034Z"
   },
   {
    "duration": 70,
    "start_time": "2022-05-11T19:08:45.137Z"
   },
   {
    "duration": 14,
    "start_time": "2022-05-11T19:08:45.209Z"
   },
   {
    "duration": 2499,
    "start_time": "2022-05-11T19:08:45.224Z"
   },
   {
    "duration": 4,
    "start_time": "2022-05-11T19:08:47.724Z"
   },
   {
    "duration": 225,
    "start_time": "2022-05-11T19:08:47.730Z"
   },
   {
    "duration": 171,
    "start_time": "2022-05-11T19:08:47.957Z"
   },
   {
    "duration": 176,
    "start_time": "2022-05-11T19:08:48.129Z"
   },
   {
    "duration": 2156,
    "start_time": "2022-05-11T19:11:56.851Z"
   },
   {
    "duration": 87,
    "start_time": "2022-05-11T19:17:00.379Z"
   },
   {
    "duration": 21,
    "start_time": "2022-05-11T19:17:08.857Z"
   },
   {
    "duration": 2668,
    "start_time": "2022-05-11T19:17:31.475Z"
   },
   {
    "duration": 57,
    "start_time": "2022-05-11T19:18:02.054Z"
   },
   {
    "duration": 113,
    "start_time": "2022-05-11T19:19:33.072Z"
   },
   {
    "duration": 96,
    "start_time": "2022-05-11T19:20:50.280Z"
   },
   {
    "duration": 41,
    "start_time": "2022-05-11T19:22:24.350Z"
   },
   {
    "duration": 12,
    "start_time": "2022-05-11T19:23:38.286Z"
   },
   {
    "duration": 39,
    "start_time": "2022-05-11T19:23:50.772Z"
   },
   {
    "duration": 2368,
    "start_time": "2022-05-11T19:26:38.987Z"
   },
   {
    "duration": 811,
    "start_time": "2022-05-11T19:26:41.357Z"
   },
   {
    "duration": 4,
    "start_time": "2022-05-11T19:26:42.170Z"
   },
   {
    "duration": 2097,
    "start_time": "2022-05-11T19:26:42.176Z"
   },
   {
    "duration": 3,
    "start_time": "2022-05-11T19:26:44.275Z"
   },
   {
    "duration": 320,
    "start_time": "2022-05-11T19:26:44.280Z"
   },
   {
    "duration": 70,
    "start_time": "2022-05-11T19:26:44.602Z"
   },
   {
    "duration": 12,
    "start_time": "2022-05-11T19:26:44.674Z"
   },
   {
    "duration": 469,
    "start_time": "2022-05-11T19:26:44.708Z"
   },
   {
    "duration": 17,
    "start_time": "2022-05-11T19:26:45.180Z"
   },
   {
    "duration": 92,
    "start_time": "2022-05-11T19:26:45.199Z"
   },
   {
    "duration": 3,
    "start_time": "2022-05-11T19:26:45.293Z"
   },
   {
    "duration": 10,
    "start_time": "2022-05-11T19:26:45.307Z"
   },
   {
    "duration": 376,
    "start_time": "2022-05-11T19:26:45.318Z"
   },
   {
    "duration": 447,
    "start_time": "2022-05-11T19:26:45.696Z"
   },
   {
    "duration": 107,
    "start_time": "2022-05-11T19:26:46.145Z"
   },
   {
    "duration": 330,
    "start_time": "2022-05-11T19:26:46.253Z"
   },
   {
    "duration": 315,
    "start_time": "2022-05-11T19:26:46.584Z"
   },
   {
    "duration": 316,
    "start_time": "2022-05-11T19:26:46.901Z"
   },
   {
    "duration": 284,
    "start_time": "2022-05-11T19:26:47.218Z"
   },
   {
    "duration": 55,
    "start_time": "2022-05-11T19:26:47.506Z"
   },
   {
    "duration": 435,
    "start_time": "2022-05-11T19:26:47.563Z"
   },
   {
    "duration": 313,
    "start_time": "2022-05-11T19:26:48.000Z"
   },
   {
    "duration": 304,
    "start_time": "2022-05-11T19:26:48.315Z"
   },
   {
    "duration": 5,
    "start_time": "2022-05-11T19:26:48.620Z"
   },
   {
    "duration": 563,
    "start_time": "2022-05-11T19:26:48.626Z"
   },
   {
    "duration": 204,
    "start_time": "2022-05-11T19:26:49.191Z"
   },
   {
    "duration": 88,
    "start_time": "2022-05-11T19:26:49.399Z"
   },
   {
    "duration": 33,
    "start_time": "2022-05-11T19:26:49.489Z"
   },
   {
    "duration": 111,
    "start_time": "2022-05-11T19:26:49.524Z"
   },
   {
    "duration": 72,
    "start_time": "2022-05-11T19:26:49.637Z"
   },
   {
    "duration": 14,
    "start_time": "2022-05-11T19:26:49.710Z"
   },
   {
    "duration": 2546,
    "start_time": "2022-05-11T19:26:49.725Z"
   },
   {
    "duration": 95,
    "start_time": "2022-05-11T19:26:52.273Z"
   },
   {
    "duration": 2716,
    "start_time": "2022-05-11T19:26:52.369Z"
   },
   {
    "duration": 56,
    "start_time": "2022-05-11T19:26:55.086Z"
   },
   {
    "duration": 137,
    "start_time": "2022-05-11T19:26:55.144Z"
   },
   {
    "duration": 59,
    "start_time": "2022-05-11T19:26:55.283Z"
   },
   {
    "duration": 81,
    "start_time": "2022-05-11T19:26:55.344Z"
   },
   {
    "duration": 80,
    "start_time": "2022-05-11T19:28:53.947Z"
   },
   {
    "duration": 3,
    "start_time": "2022-05-11T19:30:24.079Z"
   },
   {
    "duration": 128,
    "start_time": "2022-05-11T19:34:31.086Z"
   },
   {
    "duration": 16,
    "start_time": "2022-05-11T19:34:45.404Z"
   },
   {
    "duration": 17,
    "start_time": "2022-05-11T19:34:59.748Z"
   },
   {
    "duration": 2392,
    "start_time": "2022-05-11T19:35:14.902Z"
   },
   {
    "duration": 894,
    "start_time": "2022-05-11T19:35:17.296Z"
   },
   {
    "duration": 5,
    "start_time": "2022-05-11T19:35:18.192Z"
   },
   {
    "duration": 2281,
    "start_time": "2022-05-11T19:35:18.200Z"
   },
   {
    "duration": 3,
    "start_time": "2022-05-11T19:35:20.483Z"
   },
   {
    "duration": 337,
    "start_time": "2022-05-11T19:35:20.489Z"
   },
   {
    "duration": 65,
    "start_time": "2022-05-11T19:35:20.828Z"
   },
   {
    "duration": 21,
    "start_time": "2022-05-11T19:35:20.895Z"
   },
   {
    "duration": 359,
    "start_time": "2022-05-11T19:35:20.918Z"
   },
   {
    "duration": 27,
    "start_time": "2022-05-11T19:35:21.280Z"
   },
   {
    "duration": 99,
    "start_time": "2022-05-11T19:35:21.309Z"
   },
   {
    "duration": 3,
    "start_time": "2022-05-11T19:35:21.410Z"
   },
   {
    "duration": 12,
    "start_time": "2022-05-11T19:35:21.415Z"
   },
   {
    "duration": 375,
    "start_time": "2022-05-11T19:35:21.429Z"
   },
   {
    "duration": 447,
    "start_time": "2022-05-11T19:35:21.806Z"
   },
   {
    "duration": 98,
    "start_time": "2022-05-11T19:35:22.255Z"
   },
   {
    "duration": 311,
    "start_time": "2022-05-11T19:35:22.355Z"
   },
   {
    "duration": 315,
    "start_time": "2022-05-11T19:35:22.668Z"
   },
   {
    "duration": 322,
    "start_time": "2022-05-11T19:35:22.985Z"
   },
   {
    "duration": 289,
    "start_time": "2022-05-11T19:35:23.309Z"
   },
   {
    "duration": 61,
    "start_time": "2022-05-11T19:35:23.599Z"
   },
   {
    "duration": 431,
    "start_time": "2022-05-11T19:35:23.662Z"
   },
   {
    "duration": 333,
    "start_time": "2022-05-11T19:35:24.095Z"
   },
   {
    "duration": 331,
    "start_time": "2022-05-11T19:35:24.430Z"
   },
   {
    "duration": 4,
    "start_time": "2022-05-11T19:35:24.763Z"
   },
   {
    "duration": 614,
    "start_time": "2022-05-11T19:35:24.769Z"
   },
   {
    "duration": 223,
    "start_time": "2022-05-11T19:35:25.384Z"
   },
   {
    "duration": 97,
    "start_time": "2022-05-11T19:35:25.611Z"
   },
   {
    "duration": 24,
    "start_time": "2022-05-11T19:35:25.710Z"
   },
   {
    "duration": 109,
    "start_time": "2022-05-11T19:35:25.736Z"
   },
   {
    "duration": 72,
    "start_time": "2022-05-11T19:35:25.847Z"
   },
   {
    "duration": 16,
    "start_time": "2022-05-11T19:35:25.920Z"
   },
   {
    "duration": 2665,
    "start_time": "2022-05-11T19:35:25.938Z"
   },
   {
    "duration": 101,
    "start_time": "2022-05-11T19:35:28.606Z"
   },
   {
    "duration": 2799,
    "start_time": "2022-05-11T19:35:28.709Z"
   },
   {
    "duration": 55,
    "start_time": "2022-05-11T19:35:31.510Z"
   },
   {
    "duration": 131,
    "start_time": "2022-05-11T19:35:31.567Z"
   },
   {
    "duration": 42,
    "start_time": "2022-05-11T19:35:31.699Z"
   },
   {
    "duration": 40,
    "start_time": "2022-05-11T19:35:31.742Z"
   },
   {
    "duration": 104,
    "start_time": "2022-05-11T19:35:31.784Z"
   },
   {
    "duration": 17,
    "start_time": "2022-05-11T19:35:31.890Z"
   },
   {
    "duration": 1622,
    "start_time": "2022-05-13T07:37:55.775Z"
   },
   {
    "duration": 778,
    "start_time": "2022-05-13T07:37:57.399Z"
   },
   {
    "duration": 4,
    "start_time": "2022-05-13T07:37:58.179Z"
   },
   {
    "duration": 2153,
    "start_time": "2022-05-13T07:37:58.187Z"
   },
   {
    "duration": 3,
    "start_time": "2022-05-13T07:38:00.342Z"
   },
   {
    "duration": 321,
    "start_time": "2022-05-13T07:38:00.346Z"
   },
   {
    "duration": 69,
    "start_time": "2022-05-13T07:38:00.668Z"
   },
   {
    "duration": 12,
    "start_time": "2022-05-13T07:38:00.739Z"
   },
   {
    "duration": 410,
    "start_time": "2022-05-13T07:38:00.752Z"
   },
   {
    "duration": 25,
    "start_time": "2022-05-13T07:38:01.164Z"
   },
   {
    "duration": 82,
    "start_time": "2022-05-13T07:38:01.191Z"
   },
   {
    "duration": 13,
    "start_time": "2022-05-13T07:38:01.275Z"
   },
   {
    "duration": 9,
    "start_time": "2022-05-13T07:38:01.291Z"
   },
   {
    "duration": 351,
    "start_time": "2022-05-13T07:38:01.302Z"
   },
   {
    "duration": 425,
    "start_time": "2022-05-13T07:38:01.655Z"
   },
   {
    "duration": 89,
    "start_time": "2022-05-13T07:38:02.082Z"
   },
   {
    "duration": 287,
    "start_time": "2022-05-13T07:38:02.173Z"
   },
   {
    "duration": 280,
    "start_time": "2022-05-13T07:38:02.462Z"
   },
   {
    "duration": 281,
    "start_time": "2022-05-13T07:38:02.745Z"
   },
   {
    "duration": 253,
    "start_time": "2022-05-13T07:38:03.027Z"
   },
   {
    "duration": 46,
    "start_time": "2022-05-13T07:38:03.282Z"
   },
   {
    "duration": 398,
    "start_time": "2022-05-13T07:38:03.330Z"
   },
   {
    "duration": 287,
    "start_time": "2022-05-13T07:38:03.730Z"
   },
   {
    "duration": 288,
    "start_time": "2022-05-13T07:38:04.019Z"
   },
   {
    "duration": 4,
    "start_time": "2022-05-13T07:38:04.308Z"
   },
   {
    "duration": 542,
    "start_time": "2022-05-13T07:38:04.314Z"
   },
   {
    "duration": 191,
    "start_time": "2022-05-13T07:38:04.857Z"
   },
   {
    "duration": 124,
    "start_time": "2022-05-13T07:38:05.052Z"
   },
   {
    "duration": 27,
    "start_time": "2022-05-13T07:38:05.178Z"
   },
   {
    "duration": 102,
    "start_time": "2022-05-13T07:38:05.207Z"
   },
   {
    "duration": 54,
    "start_time": "2022-05-13T07:38:05.312Z"
   },
   {
    "duration": 30,
    "start_time": "2022-05-13T07:38:05.368Z"
   },
   {
    "duration": 2329,
    "start_time": "2022-05-13T07:38:05.400Z"
   },
   {
    "duration": 91,
    "start_time": "2022-05-13T07:38:07.730Z"
   },
   {
    "duration": 2656,
    "start_time": "2022-05-13T07:38:07.823Z"
   },
   {
    "duration": 60,
    "start_time": "2022-05-13T07:38:10.487Z"
   },
   {
    "duration": 130,
    "start_time": "2022-05-13T07:38:10.548Z"
   },
   {
    "duration": 43,
    "start_time": "2022-05-13T07:38:10.680Z"
   },
   {
    "duration": 64,
    "start_time": "2022-05-13T07:38:10.725Z"
   },
   {
    "duration": 97,
    "start_time": "2022-05-13T07:38:10.792Z"
   },
   {
    "duration": 3,
    "start_time": "2022-05-13T07:38:10.891Z"
   },
   {
    "duration": 10,
    "start_time": "2022-05-13T07:39:58.958Z"
   },
   {
    "duration": 178,
    "start_time": "2022-05-13T07:40:01.100Z"
   },
   {
    "duration": 319,
    "start_time": "2022-05-13T07:40:04.202Z"
   },
   {
    "duration": 3,
    "start_time": "2022-05-13T07:40:28.124Z"
   },
   {
    "duration": 278,
    "start_time": "2022-05-13T07:41:48.780Z"
   },
   {
    "duration": 80786,
    "start_time": "2022-05-13T07:44:10.112Z"
   },
   {
    "duration": 98073,
    "start_time": "2022-05-13T07:45:46.315Z"
   },
   {
    "duration": 161430,
    "start_time": "2022-05-13T07:48:27.967Z"
   },
   {
    "duration": 356616,
    "start_time": "2022-05-13T07:51:35.887Z"
   },
   {
    "duration": 37032,
    "start_time": "2022-05-13T08:05:01.126Z"
   },
   {
    "duration": 245130,
    "start_time": "2022-05-13T08:07:36.684Z"
   },
   {
    "duration": 84138,
    "start_time": "2022-05-13T08:12:04.181Z"
   },
   {
    "duration": 300788,
    "start_time": "2022-05-13T08:14:28.505Z"
   },
   {
    "duration": 13909,
    "start_time": "2022-05-13T08:20:04.881Z"
   },
   {
    "duration": 155,
    "start_time": "2022-05-13T08:20:23.038Z"
   },
   {
    "duration": 4,
    "start_time": "2022-05-13T08:20:27.045Z"
   },
   {
    "duration": 24598,
    "start_time": "2022-05-13T08:20:30.590Z"
   },
   {
    "duration": 1549,
    "start_time": "2022-05-13T08:21:12.847Z"
   },
   {
    "duration": 147,
    "start_time": "2022-05-13T08:21:20.445Z"
   },
   {
    "duration": 4,
    "start_time": "2022-05-13T08:21:24.361Z"
   },
   {
    "duration": 3074,
    "start_time": "2022-05-13T08:21:27.677Z"
   },
   {
    "duration": 71,
    "start_time": "2022-05-13T08:21:35.260Z"
   },
   {
    "duration": 4,
    "start_time": "2022-05-13T08:21:38.735Z"
   },
   {
    "duration": 341,
    "start_time": "2022-05-13T08:21:41.185Z"
   },
   {
    "duration": 13,
    "start_time": "2022-05-13T08:21:46.243Z"
   },
   {
    "duration": 4,
    "start_time": "2022-05-13T08:21:49.049Z"
   },
   {
    "duration": 18989,
    "start_time": "2022-05-13T08:21:53.802Z"
   },
   {
    "duration": 50,
    "start_time": "2022-05-13T08:22:25.212Z"
   },
   {
    "duration": 4,
    "start_time": "2022-05-13T08:22:28.981Z"
   },
   {
    "duration": 20463,
    "start_time": "2022-05-13T08:23:40.538Z"
   },
   {
    "duration": 107,
    "start_time": "2022-05-13T08:24:05.582Z"
   },
   {
    "duration": 4,
    "start_time": "2022-05-13T08:24:08.397Z"
   },
   {
    "duration": 9517,
    "start_time": "2022-05-13T08:24:57.377Z"
   },
   {
    "duration": 466,
    "start_time": "2022-05-13T08:25:09.229Z"
   },
   {
    "duration": 4,
    "start_time": "2022-05-13T08:25:19.997Z"
   },
   {
    "duration": 83,
    "start_time": "2022-05-13T08:26:15.928Z"
   },
   {
    "duration": 22,
    "start_time": "2022-05-13T08:40:58.660Z"
   },
   {
    "duration": 2157,
    "start_time": "2022-05-13T14:30:14.625Z"
   },
   {
    "duration": 1156,
    "start_time": "2022-05-13T14:30:16.785Z"
   },
   {
    "duration": 7,
    "start_time": "2022-05-13T14:30:17.943Z"
   },
   {
    "duration": 3355,
    "start_time": "2022-05-13T14:30:17.954Z"
   },
   {
    "duration": 17,
    "start_time": "2022-05-13T14:30:21.312Z"
   },
   {
    "duration": 450,
    "start_time": "2022-05-13T14:30:21.332Z"
   },
   {
    "duration": 91,
    "start_time": "2022-05-13T14:30:21.784Z"
   },
   {
    "duration": 16,
    "start_time": "2022-05-13T14:30:21.877Z"
   },
   {
    "duration": 490,
    "start_time": "2022-05-13T14:30:21.895Z"
   },
   {
    "duration": 43,
    "start_time": "2022-05-13T14:30:22.389Z"
   },
   {
    "duration": 119,
    "start_time": "2022-05-13T14:30:22.435Z"
   },
   {
    "duration": 4,
    "start_time": "2022-05-13T14:30:22.556Z"
   },
   {
    "duration": 30,
    "start_time": "2022-05-13T14:30:22.562Z"
   },
   {
    "duration": 595,
    "start_time": "2022-05-13T14:30:22.594Z"
   },
   {
    "duration": 659,
    "start_time": "2022-05-13T14:30:23.192Z"
   },
   {
    "duration": 144,
    "start_time": "2022-05-13T14:30:23.854Z"
   },
   {
    "duration": 505,
    "start_time": "2022-05-13T14:30:24.000Z"
   },
   {
    "duration": 530,
    "start_time": "2022-05-13T14:30:24.507Z"
   },
   {
    "duration": 504,
    "start_time": "2022-05-13T14:30:25.039Z"
   },
   {
    "duration": 472,
    "start_time": "2022-05-13T14:30:25.545Z"
   },
   {
    "duration": 81,
    "start_time": "2022-05-13T14:30:26.020Z"
   },
   {
    "duration": 659,
    "start_time": "2022-05-13T14:30:26.103Z"
   },
   {
    "duration": 531,
    "start_time": "2022-05-13T14:30:26.765Z"
   },
   {
    "duration": 526,
    "start_time": "2022-05-13T14:30:27.298Z"
   },
   {
    "duration": 7,
    "start_time": "2022-05-13T14:30:27.827Z"
   },
   {
    "duration": 922,
    "start_time": "2022-05-13T14:30:27.837Z"
   },
   {
    "duration": 306,
    "start_time": "2022-05-13T14:30:28.761Z"
   },
   {
    "duration": 129,
    "start_time": "2022-05-13T14:30:29.076Z"
   },
   {
    "duration": 44,
    "start_time": "2022-05-13T14:30:29.208Z"
   },
   {
    "duration": 147,
    "start_time": "2022-05-13T14:30:29.255Z"
   },
   {
    "duration": 92,
    "start_time": "2022-05-13T14:30:29.404Z"
   },
   {
    "duration": 32,
    "start_time": "2022-05-13T14:30:29.498Z"
   },
   {
    "duration": 4133,
    "start_time": "2022-05-13T14:30:29.532Z"
   },
   {
    "duration": 148,
    "start_time": "2022-05-13T14:30:33.667Z"
   },
   {
    "duration": 4524,
    "start_time": "2022-05-13T14:30:33.817Z"
   },
   {
    "duration": 65,
    "start_time": "2022-05-13T14:30:38.344Z"
   },
   {
    "duration": 196,
    "start_time": "2022-05-13T14:30:38.432Z"
   },
   {
    "duration": 58,
    "start_time": "2022-05-13T14:30:38.630Z"
   },
   {
    "duration": 72,
    "start_time": "2022-05-13T14:30:38.690Z"
   },
   {
    "duration": 123,
    "start_time": "2022-05-13T14:30:38.764Z"
   },
   {
    "duration": 4,
    "start_time": "2022-05-13T14:30:38.889Z"
   },
   {
    "duration": 40,
    "start_time": "2022-05-13T14:30:38.895Z"
   },
   {
    "duration": 310,
    "start_time": "2022-05-13T14:30:38.938Z"
   },
   {
    "duration": 351,
    "start_time": "2022-05-13T14:30:39.250Z"
   },
   {
    "duration": 4,
    "start_time": "2022-05-13T14:30:39.603Z"
   },
   {
    "duration": 367,
    "start_time": "2022-05-13T14:30:39.609Z"
   },
   {
    "duration": 115360,
    "start_time": "2022-05-13T14:30:39.978Z"
   },
   {
    "duration": 117102,
    "start_time": "2022-05-13T14:32:35.341Z"
   },
   {
    "duration": 20,
    "start_time": "2022-05-13T15:28:01.967Z"
   },
   {
    "duration": 649,
    "start_time": "2022-05-13T15:28:14.283Z"
   },
   {
    "duration": 5913,
    "start_time": "2022-05-13T15:30:08.751Z"
   },
   {
    "duration": 3275,
    "start_time": "2022-05-13T15:30:14.670Z"
   },
   {
    "duration": 17,
    "start_time": "2022-05-13T15:30:17.953Z"
   },
   {
    "duration": 9452,
    "start_time": "2022-05-13T15:30:17.973Z"
   },
   {
    "duration": 6,
    "start_time": "2022-05-13T15:30:27.432Z"
   },
   {
    "duration": 1427,
    "start_time": "2022-05-13T15:30:27.444Z"
   },
   {
    "duration": 271,
    "start_time": "2022-05-13T15:30:28.880Z"
   },
   {
    "duration": 75,
    "start_time": "2022-05-13T15:30:29.154Z"
   },
   {
    "duration": 1099,
    "start_time": "2022-05-13T15:30:29.238Z"
   },
   {
    "duration": 42,
    "start_time": "2022-05-13T15:30:30.340Z"
   },
   {
    "duration": 327,
    "start_time": "2022-05-13T15:30:30.427Z"
   },
   {
    "duration": 36,
    "start_time": "2022-05-13T15:30:30.758Z"
   },
   {
    "duration": 34,
    "start_time": "2022-05-13T15:30:30.824Z"
   },
   {
    "duration": 1576,
    "start_time": "2022-05-13T15:30:30.866Z"
   },
   {
    "duration": 1805,
    "start_time": "2022-05-13T15:30:32.448Z"
   },
   {
    "duration": 419,
    "start_time": "2022-05-13T15:30:34.256Z"
   },
   {
    "duration": 1384,
    "start_time": "2022-05-13T15:30:34.677Z"
   },
   {
    "duration": 1460,
    "start_time": "2022-05-13T15:30:36.069Z"
   },
   {
    "duration": 1353,
    "start_time": "2022-05-13T15:30:37.532Z"
   },
   {
    "duration": 1333,
    "start_time": "2022-05-13T15:30:38.929Z"
   },
   {
    "duration": 481,
    "start_time": "2022-05-13T15:30:40.273Z"
   },
   {
    "duration": 2627,
    "start_time": "2022-05-13T15:30:40.759Z"
   },
   {
    "duration": 2195,
    "start_time": "2022-05-13T15:30:43.432Z"
   },
   {
    "duration": 1754,
    "start_time": "2022-05-13T15:30:45.637Z"
   },
   {
    "duration": 48,
    "start_time": "2022-05-13T15:30:47.394Z"
   },
   {
    "duration": 2584,
    "start_time": "2022-05-13T15:30:47.446Z"
   },
   {
    "duration": 830,
    "start_time": "2022-05-13T15:30:50.032Z"
   },
   {
    "duration": 362,
    "start_time": "2022-05-13T15:30:50.866Z"
   },
   {
    "duration": 106,
    "start_time": "2022-05-13T15:30:51.231Z"
   },
   {
    "duration": 426,
    "start_time": "2022-05-13T15:30:51.339Z"
   },
   {
    "duration": 192,
    "start_time": "2022-05-13T15:30:51.771Z"
   },
   {
    "duration": 94,
    "start_time": "2022-05-13T15:30:51.965Z"
   },
   {
    "duration": 12375,
    "start_time": "2022-05-13T15:30:52.066Z"
   },
   {
    "duration": 485,
    "start_time": "2022-05-13T15:31:04.453Z"
   },
   {
    "duration": 12503,
    "start_time": "2022-05-13T15:31:04.951Z"
   },
   {
    "duration": 221,
    "start_time": "2022-05-13T15:31:17.457Z"
   },
   {
    "duration": 436,
    "start_time": "2022-05-13T15:31:17.729Z"
   },
   {
    "duration": 216,
    "start_time": "2022-05-13T15:31:18.169Z"
   },
   {
    "duration": 136,
    "start_time": "2022-05-13T15:31:18.424Z"
   },
   {
    "duration": 279,
    "start_time": "2022-05-13T15:31:18.569Z"
   },
   {
    "duration": 7,
    "start_time": "2022-05-13T15:31:18.863Z"
   },
   {
    "duration": 72,
    "start_time": "2022-05-13T15:31:18.874Z"
   },
   {
    "duration": 1022,
    "start_time": "2022-05-13T15:31:18.956Z"
   },
   {
    "duration": 1444,
    "start_time": "2022-05-13T15:31:19.981Z"
   },
   {
    "duration": 4,
    "start_time": "2022-05-13T15:31:21.428Z"
   },
   {
    "duration": 930,
    "start_time": "2022-05-13T15:31:21.435Z"
   },
   {
    "duration": 271365,
    "start_time": "2022-05-13T15:31:22.368Z"
   },
   {
    "duration": 1259839,
    "start_time": "2022-05-13T15:38:55.028Z"
   },
   {
    "duration": 142039,
    "start_time": "2022-05-13T16:13:09.012Z"
   },
   {
    "duration": 1208636,
    "start_time": "2022-05-13T16:15:31.055Z"
   },
   {
    "duration": 444753,
    "start_time": "2022-05-13T16:35:39.693Z"
   },
   {
    "duration": 246,
    "start_time": "2022-05-14T06:08:27.381Z"
   },
   {
    "duration": 2343,
    "start_time": "2022-05-14T06:08:43.477Z"
   },
   {
    "duration": 1774,
    "start_time": "2022-05-14T06:08:45.822Z"
   },
   {
    "duration": 8,
    "start_time": "2022-05-14T06:08:47.653Z"
   },
   {
    "duration": 4208,
    "start_time": "2022-05-14T06:08:47.664Z"
   },
   {
    "duration": 6,
    "start_time": "2022-05-14T06:08:51.874Z"
   },
   {
    "duration": 442,
    "start_time": "2022-05-14T06:08:51.882Z"
   },
   {
    "duration": 88,
    "start_time": "2022-05-14T06:08:52.326Z"
   },
   {
    "duration": 15,
    "start_time": "2022-05-14T06:08:52.417Z"
   },
   {
    "duration": 507,
    "start_time": "2022-05-14T06:08:52.434Z"
   },
   {
    "duration": 27,
    "start_time": "2022-05-14T06:08:52.954Z"
   },
   {
    "duration": 129,
    "start_time": "2022-05-14T06:08:52.983Z"
   },
   {
    "duration": 4,
    "start_time": "2022-05-14T06:08:53.114Z"
   },
   {
    "duration": 33,
    "start_time": "2022-05-14T06:08:53.120Z"
   },
   {
    "duration": 557,
    "start_time": "2022-05-14T06:08:53.158Z"
   },
   {
    "duration": 618,
    "start_time": "2022-05-14T06:08:53.717Z"
   },
   {
    "duration": 135,
    "start_time": "2022-05-14T06:08:54.338Z"
   },
   {
    "duration": 493,
    "start_time": "2022-05-14T06:08:54.476Z"
   },
   {
    "duration": 491,
    "start_time": "2022-05-14T06:08:54.971Z"
   },
   {
    "duration": 490,
    "start_time": "2022-05-14T06:08:55.465Z"
   },
   {
    "duration": 449,
    "start_time": "2022-05-14T06:08:55.957Z"
   },
   {
    "duration": 81,
    "start_time": "2022-05-14T06:08:56.408Z"
   },
   {
    "duration": 602,
    "start_time": "2022-05-14T06:08:56.492Z"
   },
   {
    "duration": 504,
    "start_time": "2022-05-14T06:08:57.097Z"
   },
   {
    "duration": 497,
    "start_time": "2022-05-14T06:08:57.604Z"
   },
   {
    "duration": 7,
    "start_time": "2022-05-14T06:08:58.104Z"
   },
   {
    "duration": 962,
    "start_time": "2022-05-14T06:08:58.114Z"
   },
   {
    "duration": 303,
    "start_time": "2022-05-14T06:08:59.079Z"
   },
   {
    "duration": 121,
    "start_time": "2022-05-14T06:08:59.389Z"
   },
   {
    "duration": 28,
    "start_time": "2022-05-14T06:08:59.513Z"
   },
   {
    "duration": 145,
    "start_time": "2022-05-14T06:08:59.552Z"
   },
   {
    "duration": 86,
    "start_time": "2022-05-14T06:08:59.699Z"
   },
   {
    "duration": 16,
    "start_time": "2022-05-14T06:08:59.788Z"
   },
   {
    "duration": 4086,
    "start_time": "2022-05-14T06:08:59.806Z"
   },
   {
    "duration": 139,
    "start_time": "2022-05-14T06:09:03.894Z"
   },
   {
    "duration": 4371,
    "start_time": "2022-05-14T06:09:04.035Z"
   },
   {
    "duration": 78,
    "start_time": "2022-05-14T06:09:08.408Z"
   },
   {
    "duration": 190,
    "start_time": "2022-05-14T06:09:08.488Z"
   },
   {
    "duration": 52,
    "start_time": "2022-05-14T06:09:08.680Z"
   },
   {
    "duration": 69,
    "start_time": "2022-05-14T06:09:08.734Z"
   },
   {
    "duration": 117,
    "start_time": "2022-05-14T06:09:08.805Z"
   },
   {
    "duration": 4,
    "start_time": "2022-05-14T06:09:08.925Z"
   },
   {
    "duration": 41,
    "start_time": "2022-05-14T06:09:08.931Z"
   },
   {
    "duration": 289,
    "start_time": "2022-05-14T06:09:08.974Z"
   },
   {
    "duration": 322,
    "start_time": "2022-05-14T06:09:09.268Z"
   },
   {
    "duration": 3,
    "start_time": "2022-05-14T06:09:09.593Z"
   },
   {
    "duration": 356,
    "start_time": "2022-05-14T06:09:09.598Z"
   },
   {
    "duration": 130302,
    "start_time": "2022-05-14T06:09:09.957Z"
   },
   {
    "duration": 120396,
    "start_time": "2022-05-14T06:11:20.267Z"
   },
   {
    "duration": 294991,
    "start_time": "2022-05-14T06:13:20.670Z"
   },
   {
    "duration": 419615,
    "start_time": "2022-05-14T06:18:15.671Z"
   },
   {
    "duration": 51807,
    "start_time": "2022-05-14T06:25:15.290Z"
   },
   {
    "duration": 472573,
    "start_time": "2022-05-14T06:26:07.099Z"
   },
   {
    "duration": 189480,
    "start_time": "2022-05-14T06:33:59.675Z"
   },
   {
    "duration": 456002,
    "start_time": "2022-05-14T06:37:09.158Z"
   },
   {
    "duration": 14191,
    "start_time": "2022-05-14T06:44:45.162Z"
   },
   {
    "duration": 202,
    "start_time": "2022-05-14T06:44:59.355Z"
   },
   {
    "duration": 95,
    "start_time": "2022-05-14T06:44:59.560Z"
   },
   {
    "duration": 2894,
    "start_time": "2022-05-14T06:44:59.657Z"
   },
   {
    "duration": 300,
    "start_time": "2022-05-14T06:45:02.555Z"
   },
   {
    "duration": 5,
    "start_time": "2022-05-14T06:45:02.952Z"
   },
   {
    "duration": 3530,
    "start_time": "2022-05-14T06:45:02.961Z"
   },
   {
    "duration": 91,
    "start_time": "2022-05-14T06:45:06.493Z"
   },
   {
    "duration": 5,
    "start_time": "2022-05-14T06:45:06.586Z"
   },
   {
    "duration": 371,
    "start_time": "2022-05-14T06:45:06.594Z"
   },
   {
    "duration": 16,
    "start_time": "2022-05-14T06:45:06.968Z"
   },
   {
    "duration": 9,
    "start_time": "2022-05-14T06:45:06.986Z"
   },
   {
    "duration": 34818,
    "start_time": "2022-05-14T06:45:06.997Z"
   },
   {
    "duration": 69,
    "start_time": "2022-05-14T06:45:41.817Z"
   },
   {
    "duration": 5,
    "start_time": "2022-05-14T06:45:41.889Z"
   },
   {
    "duration": 47322,
    "start_time": "2022-05-14T06:45:41.896Z"
   },
   {
    "duration": 158,
    "start_time": "2022-05-14T06:46:29.221Z"
   },
   {
    "duration": 6,
    "start_time": "2022-05-14T06:46:29.382Z"
   },
   {
    "duration": 12669,
    "start_time": "2022-05-14T06:46:29.390Z"
   },
   {
    "duration": 999,
    "start_time": "2022-05-14T06:46:42.062Z"
   },
   {
    "duration": 5,
    "start_time": "2022-05-14T06:46:43.063Z"
   },
   {
    "duration": 39,
    "start_time": "2022-05-14T06:46:43.071Z"
   },
   {
    "duration": 129,
    "start_time": "2022-05-14T06:46:43.160Z"
   },
   {
    "duration": 2220,
    "start_time": "2022-05-15T11:20:32.647Z"
   },
   {
    "duration": 1170,
    "start_time": "2022-05-15T11:20:34.871Z"
   },
   {
    "duration": 13,
    "start_time": "2022-05-15T11:20:36.043Z"
   },
   {
    "duration": 2970,
    "start_time": "2022-05-15T11:20:36.058Z"
   },
   {
    "duration": 4,
    "start_time": "2022-05-15T11:20:39.031Z"
   },
   {
    "duration": 459,
    "start_time": "2022-05-15T11:20:39.038Z"
   },
   {
    "duration": 90,
    "start_time": "2022-05-15T11:20:39.499Z"
   },
   {
    "duration": 17,
    "start_time": "2022-05-15T11:20:39.591Z"
   },
   {
    "duration": 507,
    "start_time": "2022-05-15T11:20:39.610Z"
   },
   {
    "duration": 36,
    "start_time": "2022-05-15T11:20:40.120Z"
   },
   {
    "duration": 114,
    "start_time": "2022-05-15T11:20:40.158Z"
   },
   {
    "duration": 4,
    "start_time": "2022-05-15T11:20:40.274Z"
   },
   {
    "duration": 20,
    "start_time": "2022-05-15T11:20:40.280Z"
   },
   {
    "duration": 681,
    "start_time": "2022-05-15T11:20:40.305Z"
   },
   {
    "duration": 627,
    "start_time": "2022-05-15T11:20:40.988Z"
   },
   {
    "duration": 159,
    "start_time": "2022-05-15T11:20:41.617Z"
   },
   {
    "duration": 506,
    "start_time": "2022-05-15T11:20:41.779Z"
   },
   {
    "duration": 446,
    "start_time": "2022-05-15T11:20:42.288Z"
   },
   {
    "duration": 536,
    "start_time": "2022-05-15T11:20:42.736Z"
   },
   {
    "duration": 435,
    "start_time": "2022-05-15T11:20:43.274Z"
   },
   {
    "duration": 502,
    "start_time": "2022-05-15T11:20:43.711Z"
   },
   {
    "duration": 926,
    "start_time": "2022-05-15T11:20:44.216Z"
   },
   {
    "duration": 137,
    "start_time": "2022-05-15T11:20:45.152Z"
   },
   {
    "duration": 833,
    "start_time": "2022-05-15T11:20:45.292Z"
   },
   {
    "duration": 828,
    "start_time": "2022-05-15T11:20:46.128Z"
   },
   {
    "duration": 877,
    "start_time": "2022-05-15T11:20:46.960Z"
   },
   {
    "duration": 15,
    "start_time": "2022-05-15T11:20:47.840Z"
   },
   {
    "duration": 1059,
    "start_time": "2022-05-15T11:20:47.858Z"
   },
   {
    "duration": 337,
    "start_time": "2022-05-15T11:20:48.919Z"
   },
   {
    "duration": 146,
    "start_time": "2022-05-15T11:20:49.260Z"
   },
   {
    "duration": 50,
    "start_time": "2022-05-15T11:20:49.409Z"
   },
   {
    "duration": 194,
    "start_time": "2022-05-15T11:20:49.462Z"
   },
   {
    "duration": 101,
    "start_time": "2022-05-15T11:20:49.658Z"
   },
   {
    "duration": 140,
    "start_time": "2022-05-15T11:20:49.761Z"
   },
   {
    "duration": 4623,
    "start_time": "2022-05-15T11:20:49.903Z"
   },
   {
    "duration": 160,
    "start_time": "2022-05-15T11:20:54.528Z"
   },
   {
    "duration": 6720,
    "start_time": "2022-05-15T11:20:54.691Z"
   },
   {
    "duration": 83,
    "start_time": "2022-05-15T11:21:01.413Z"
   },
   {
    "duration": 233,
    "start_time": "2022-05-15T11:21:01.498Z"
   },
   {
    "duration": 70,
    "start_time": "2022-05-15T11:21:01.733Z"
   },
   {
    "duration": 75,
    "start_time": "2022-05-15T11:21:01.809Z"
   },
   {
    "duration": 140,
    "start_time": "2022-05-15T11:21:01.887Z"
   },
   {
    "duration": 4,
    "start_time": "2022-05-15T11:21:02.029Z"
   },
   {
    "duration": 82,
    "start_time": "2022-05-15T11:21:02.035Z"
   },
   {
    "duration": 387,
    "start_time": "2022-05-15T11:21:02.119Z"
   },
   {
    "duration": 520,
    "start_time": "2022-05-15T11:21:02.509Z"
   },
   {
    "duration": 4,
    "start_time": "2022-05-15T11:21:03.031Z"
   },
   {
    "duration": 449,
    "start_time": "2022-05-15T11:21:03.038Z"
   },
   {
    "duration": 7208,
    "start_time": "2022-05-15T12:25:13.061Z"
   },
   {
    "duration": 3780,
    "start_time": "2022-05-15T12:25:20.272Z"
   },
   {
    "duration": 6,
    "start_time": "2022-05-15T12:25:24.055Z"
   },
   {
    "duration": 9988,
    "start_time": "2022-05-15T12:25:24.064Z"
   },
   {
    "duration": 4,
    "start_time": "2022-05-15T12:25:34.054Z"
   },
   {
    "duration": 1609,
    "start_time": "2022-05-15T12:25:34.061Z"
   },
   {
    "duration": 419,
    "start_time": "2022-05-15T12:25:35.753Z"
   },
   {
    "duration": 94,
    "start_time": "2022-05-15T12:25:36.175Z"
   },
   {
    "duration": 1394,
    "start_time": "2022-05-15T12:25:36.272Z"
   },
   {
    "duration": 182,
    "start_time": "2022-05-15T12:25:37.672Z"
   },
   {
    "duration": 225,
    "start_time": "2022-05-15T12:25:37.856Z"
   },
   {
    "duration": 5,
    "start_time": "2022-05-15T12:25:38.152Z"
   },
   {
    "duration": 95,
    "start_time": "2022-05-15T12:25:38.160Z"
   },
   {
    "duration": 2497,
    "start_time": "2022-05-15T12:25:38.258Z"
   },
   {
    "duration": 2998,
    "start_time": "2022-05-15T12:25:40.758Z"
   },
   {
    "duration": 893,
    "start_time": "2022-05-15T12:25:43.759Z"
   },
   {
    "duration": 1897,
    "start_time": "2022-05-15T12:25:44.655Z"
   },
   {
    "duration": 2019,
    "start_time": "2022-05-15T12:25:46.554Z"
   },
   {
    "duration": 1916,
    "start_time": "2022-05-15T12:25:48.575Z"
   },
   {
    "duration": 1559,
    "start_time": "2022-05-15T12:25:50.493Z"
   },
   {
    "duration": 1509,
    "start_time": "2022-05-15T12:25:52.054Z"
   },
   {
    "duration": 2390,
    "start_time": "2022-05-15T12:25:53.565Z"
   },
   {
    "duration": 523,
    "start_time": "2022-05-15T12:25:55.958Z"
   },
   {
    "duration": 2100,
    "start_time": "2022-05-15T12:25:56.484Z"
   },
   {
    "duration": 2171,
    "start_time": "2022-05-15T12:25:58.587Z"
   },
   {
    "duration": 1804,
    "start_time": "2022-05-15T12:26:00.761Z"
   },
   {
    "duration": 87,
    "start_time": "2022-05-15T12:26:02.568Z"
   },
   {
    "duration": 3891,
    "start_time": "2022-05-15T12:26:02.663Z"
   },
   {
    "duration": 1201,
    "start_time": "2022-05-15T12:26:06.557Z"
   },
   {
    "duration": 413,
    "start_time": "2022-05-15T12:26:07.761Z"
   },
   {
    "duration": 276,
    "start_time": "2022-05-15T12:26:08.176Z"
   },
   {
    "duration": 712,
    "start_time": "2022-05-15T12:26:08.455Z"
   },
   {
    "duration": 493,
    "start_time": "2022-05-15T12:26:09.170Z"
   },
   {
    "duration": 92,
    "start_time": "2022-05-15T12:26:09.666Z"
   },
   {
    "duration": 19191,
    "start_time": "2022-05-15T12:26:09.761Z"
   },
   {
    "duration": 402,
    "start_time": "2022-05-15T12:26:28.954Z"
   },
   {
    "duration": 20698,
    "start_time": "2022-05-15T12:26:29.359Z"
   },
   {
    "duration": 298,
    "start_time": "2022-05-15T12:26:50.059Z"
   },
   {
    "duration": 800,
    "start_time": "2022-05-15T12:26:50.359Z"
   },
   {
    "duration": 400,
    "start_time": "2022-05-15T12:26:51.162Z"
   },
   {
    "duration": 287,
    "start_time": "2022-05-15T12:26:51.564Z"
   },
   {
    "duration": 403,
    "start_time": "2022-05-15T12:26:51.854Z"
   },
   {
    "duration": 5,
    "start_time": "2022-05-15T12:26:52.259Z"
   },
   {
    "duration": 98,
    "start_time": "2022-05-15T12:26:52.266Z"
   },
   {
    "duration": 2000,
    "start_time": "2022-05-15T12:26:52.366Z"
   },
   {
    "duration": 1584,
    "start_time": "2022-05-15T12:26:54.368Z"
   },
   {
    "duration": 5,
    "start_time": "2022-05-15T12:26:55.955Z"
   },
   {
    "duration": 274,
    "start_time": "2022-05-15T12:30:50.252Z"
   },
   {
    "duration": 450,
    "start_time": "2022-05-15T12:31:01.685Z"
   },
   {
    "duration": 613992,
    "start_time": "2022-05-15T12:31:10.034Z"
   },
   {
    "duration": 6927,
    "start_time": "2022-05-15T12:41:24.029Z"
   },
   {
    "duration": 62474,
    "start_time": "2022-05-15T12:41:30.958Z"
   },
   {
    "duration": 774,
    "start_time": "2022-05-15T12:42:33.434Z"
   },
   {
    "duration": 549974,
    "start_time": "2022-05-15T12:42:34.211Z"
   },
   {
    "duration": 43657,
    "start_time": "2022-05-15T12:51:44.188Z"
   },
   {
    "duration": 243742,
    "start_time": "2022-05-15T12:52:27.847Z"
   },
   {
    "duration": 62799,
    "start_time": "2022-05-15T12:56:31.591Z"
   },
   {
    "duration": 2783476,
    "start_time": "2022-05-15T12:57:34.393Z"
   },
   {
    "duration": 6494,
    "start_time": "2022-05-15T13:43:57.871Z"
   },
   {
    "duration": 84,
    "start_time": "2022-05-15T13:44:04.368Z"
   },
   {
    "duration": 0,
    "start_time": "2022-05-15T13:44:04.455Z"
   },
   {
    "duration": 0,
    "start_time": "2022-05-15T13:44:04.456Z"
   },
   {
    "duration": 0,
    "start_time": "2022-05-15T13:44:04.458Z"
   },
   {
    "duration": 0,
    "start_time": "2022-05-15T13:44:04.460Z"
   },
   {
    "duration": 198,
    "start_time": "2022-05-15T14:39:52.085Z"
   },
   {
    "duration": 1922,
    "start_time": "2022-05-15T14:41:55.196Z"
   },
   {
    "duration": 946,
    "start_time": "2022-05-15T14:41:57.121Z"
   },
   {
    "duration": 5,
    "start_time": "2022-05-15T14:41:58.068Z"
   },
   {
    "duration": 2928,
    "start_time": "2022-05-15T14:41:58.075Z"
   },
   {
    "duration": 4,
    "start_time": "2022-05-15T14:42:01.004Z"
   },
   {
    "duration": 450,
    "start_time": "2022-05-15T14:42:01.009Z"
   },
   {
    "duration": 80,
    "start_time": "2022-05-15T14:42:01.462Z"
   },
   {
    "duration": 11,
    "start_time": "2022-05-15T14:42:01.543Z"
   },
   {
    "duration": 416,
    "start_time": "2022-05-15T14:42:01.555Z"
   },
   {
    "duration": 18,
    "start_time": "2022-05-15T14:42:01.975Z"
   },
   {
    "duration": 104,
    "start_time": "2022-05-15T14:42:01.994Z"
   },
   {
    "duration": 5,
    "start_time": "2022-05-15T14:42:02.101Z"
   },
   {
    "duration": 24,
    "start_time": "2022-05-15T14:42:02.107Z"
   },
   {
    "duration": 376,
    "start_time": "2022-05-15T14:42:02.134Z"
   },
   {
    "duration": 457,
    "start_time": "2022-05-15T14:42:02.513Z"
   },
   {
    "duration": 121,
    "start_time": "2022-05-15T14:42:02.973Z"
   },
   {
    "duration": 311,
    "start_time": "2022-05-15T14:42:03.096Z"
   },
   {
    "duration": 345,
    "start_time": "2022-05-15T14:42:03.410Z"
   },
   {
    "duration": 316,
    "start_time": "2022-05-15T14:42:03.757Z"
   },
   {
    "duration": 325,
    "start_time": "2022-05-15T14:42:04.075Z"
   },
   {
    "duration": 304,
    "start_time": "2022-05-15T14:42:04.402Z"
   },
   {
    "duration": 418,
    "start_time": "2022-05-15T14:42:04.708Z"
   },
   {
    "duration": 57,
    "start_time": "2022-05-15T14:42:05.129Z"
   },
   {
    "duration": 334,
    "start_time": "2022-05-15T14:42:05.189Z"
   },
   {
    "duration": 314,
    "start_time": "2022-05-15T14:42:05.526Z"
   },
   {
    "duration": 429,
    "start_time": "2022-05-15T14:42:05.843Z"
   },
   {
    "duration": 6,
    "start_time": "2022-05-15T14:42:06.274Z"
   },
   {
    "duration": 536,
    "start_time": "2022-05-15T14:42:06.284Z"
   },
   {
    "duration": 205,
    "start_time": "2022-05-15T14:42:06.823Z"
   },
   {
    "duration": 110,
    "start_time": "2022-05-15T14:42:07.030Z"
   },
   {
    "duration": 30,
    "start_time": "2022-05-15T14:42:07.142Z"
   },
   {
    "duration": 176,
    "start_time": "2022-05-15T14:42:07.175Z"
   },
   {
    "duration": 134,
    "start_time": "2022-05-15T14:42:07.353Z"
   },
   {
    "duration": 35,
    "start_time": "2022-05-15T14:42:07.488Z"
   },
   {
    "duration": 4505,
    "start_time": "2022-05-15T14:42:07.526Z"
   },
   {
    "duration": 173,
    "start_time": "2022-05-15T14:42:12.033Z"
   },
   {
    "duration": 4759,
    "start_time": "2022-05-15T14:42:12.208Z"
   },
   {
    "duration": 130,
    "start_time": "2022-05-15T14:42:16.969Z"
   },
   {
    "duration": 232,
    "start_time": "2022-05-15T14:42:17.101Z"
   },
   {
    "duration": 89,
    "start_time": "2022-05-15T14:42:17.335Z"
   },
   {
    "duration": 76,
    "start_time": "2022-05-15T14:42:17.426Z"
   },
   {
    "duration": 163,
    "start_time": "2022-05-15T14:42:17.504Z"
   },
   {
    "duration": 3,
    "start_time": "2022-05-15T14:42:17.670Z"
   },
   {
    "duration": 13,
    "start_time": "2022-05-15T14:42:17.675Z"
   },
   {
    "duration": 267,
    "start_time": "2022-05-15T14:42:17.690Z"
   },
   {
    "duration": 497,
    "start_time": "2022-05-15T14:42:17.959Z"
   },
   {
    "duration": 3,
    "start_time": "2022-05-15T14:42:18.458Z"
   },
   {
    "duration": 325,
    "start_time": "2022-05-15T14:42:18.463Z"
   },
   {
    "duration": 93146,
    "start_time": "2022-05-15T14:42:18.789Z"
   },
   {
    "duration": 101685,
    "start_time": "2022-05-15T14:43:51.937Z"
   },
   {
    "duration": 21403,
    "start_time": "2022-05-15T14:45:33.624Z"
   },
   {
    "duration": 93,
    "start_time": "2022-05-15T14:45:55.030Z"
   },
   {
    "duration": 453953,
    "start_time": "2022-05-15T14:45:55.125Z"
   },
   {
    "duration": 7338,
    "start_time": "2022-05-15T14:53:29.080Z"
   },
   {
    "duration": 61216,
    "start_time": "2022-05-15T14:53:36.423Z"
   },
   {
    "duration": 768,
    "start_time": "2022-05-15T14:54:37.641Z"
   },
   {
    "duration": 364213,
    "start_time": "2022-05-15T14:54:38.411Z"
   },
   {
    "duration": 30036,
    "start_time": "2022-05-15T15:00:42.626Z"
   },
   {
    "duration": 134937,
    "start_time": "2022-05-15T15:01:12.664Z"
   },
   {
    "duration": 27836,
    "start_time": "2022-05-15T15:03:27.602Z"
   },
   {
    "duration": 1434585,
    "start_time": "2022-05-15T15:03:55.440Z"
   },
   {
    "duration": 4196,
    "start_time": "2022-05-15T15:27:50.027Z"
   },
   {
    "duration": 14,
    "start_time": "2022-05-15T15:27:54.225Z"
   },
   {
    "duration": 26653,
    "start_time": "2022-05-15T15:27:54.241Z"
   },
   {
    "duration": 6,
    "start_time": "2022-05-15T15:28:20.895Z"
   },
   {
    "duration": 10428,
    "start_time": "2022-05-15T15:28:20.902Z"
   },
   {
    "duration": 6,
    "start_time": "2022-05-15T15:28:31.331Z"
   },
   {
    "duration": 234,
    "start_time": "2022-05-15T19:36:28.606Z"
   }
  ],
  "kernelspec": {
   "display_name": "Python 3 (ipykernel)",
   "language": "python",
   "name": "python3"
  },
  "language_info": {
   "codemirror_mode": {
    "name": "ipython",
    "version": 3
   },
   "file_extension": ".py",
   "mimetype": "text/x-python",
   "name": "python",
   "nbconvert_exporter": "python",
   "pygments_lexer": "ipython3",
   "version": "3.9.12"
  },
  "toc": {
   "base_numbering": 1,
   "nav_menu": {},
   "number_sections": true,
   "sideBar": true,
   "skip_h1_title": true,
   "title_cell": "Table of Contents",
   "title_sidebar": "Contents",
   "toc_cell": false,
   "toc_position": {
    "height": "calc(100% - 180px)",
    "left": "10px",
    "top": "150px",
    "width": "287.188px"
   },
   "toc_section_display": true,
   "toc_window_display": true
  }
 },
 "nbformat": 4,
 "nbformat_minor": 2
}
